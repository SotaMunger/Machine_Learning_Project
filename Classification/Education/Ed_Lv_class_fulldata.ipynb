{
 "cells": [
  {
   "cell_type": "markdown",
   "id": "bf08568d-01c7-4cf7-a61c-6a641b9993ca",
   "metadata": {
    "tags": []
   },
   "source": [
    "# Education Level Classification (Grad vs. Undergrad vs. High School or under)"
   ]
  },
  {
   "cell_type": "code",
   "execution_count": 1,
   "id": "76b375b8-852e-4986-acf6-9426075334ca",
   "metadata": {},
   "outputs": [],
   "source": [
    "# import packages\n",
    "import sklearn\n",
    "import numpy as np\n",
    "import pandas as pd\n",
    "%matplotlib inline\n",
    "import matplotlib as mpl\n",
    "import matplotlib.pyplot as plt\n",
    "\n",
    "np.random.seed(16)"
   ]
  },
  {
   "cell_type": "code",
   "execution_count": 2,
   "id": "aaedfc3c-3d4b-47af-8a36-c6e1ee41286d",
   "metadata": {},
   "outputs": [
    {
     "name": "stdout",
     "output_type": "stream",
     "text": [
      "<class 'pandas.core.frame.DataFrame'>\n",
      "RangeIndex: 103202 entries, 0 to 103201\n",
      "Data columns (total 33 columns):\n",
      " #   Column          Non-Null Count   Dtype  \n",
      "---  ------          --------------   -----  \n",
      " 0   Unnamed: 0      103202 non-null  int64  \n",
      " 1   field_1         103202 non-null  int64  \n",
      " 2   Cust_ID         103202 non-null  int64  \n",
      " 3   Cust_Segment    103202 non-null  object \n",
      " 4   Branch_ID       103202 non-null  int64  \n",
      " 5   Branch_Y        103202 non-null  float64\n",
      " 6   Branch_X        103202 non-null  float64\n",
      " 7   Home_Loc_Y      103198 non-null  float64\n",
      " 8   Home_Loc_X      103198 non-null  float64\n",
      " 9   Work_Loc_Y      103202 non-null  float64\n",
      " 10  Work_Loc_X      103202 non-null  float64\n",
      " 11  Gender          103202 non-null  object \n",
      " 12  Marital_Status  103202 non-null  object \n",
      " 13  Education_Lv    103202 non-null  object \n",
      " 14  Job_Status      103202 non-null  object \n",
      " 15  Income          100752 non-null  float64\n",
      " 16  Age             103202 non-null  int64  \n",
      " 17  Years_w_Bank    103197 non-null  float64\n",
      " 18  Penalty_201407  103202 non-null  object \n",
      " 19  Penalty_201408  103202 non-null  object \n",
      " 20  Penalty_201409  103202 non-null  object \n",
      " 21  Penalty_201410  103202 non-null  object \n",
      " 22  Penalty_201411  103202 non-null  object \n",
      " 23  Penalty_201412  103202 non-null  object \n",
      " 24  Penalty_201501  103202 non-null  object \n",
      " 25  Penalty_201502  103202 non-null  object \n",
      " 26  Penalty_201503  103202 non-null  object \n",
      " 27  Penalty_201504  103202 non-null  object \n",
      " 28  Penalty_201505  103202 non-null  object \n",
      " 29  Penalty_201506  103202 non-null  object \n",
      " 30  Work_Region     103202 non-null  object \n",
      " 31  Home_Region     103198 non-null  object \n",
      " 32  Branch_Region   103198 non-null  object \n",
      "dtypes: float64(8), int64(5), object(20)\n",
      "memory usage: 26.0+ MB\n"
     ]
    }
   ],
   "source": [
    "# load data\n",
    "csv_file = \"~/IDC5210_Machine_Learning/Project/Translated_data/demographics_w_regions.csv\"\n",
    "demo_df = pd.read_csv(csv_file)\n",
    "demo_df.info()"
   ]
  },
  {
   "cell_type": "code",
   "execution_count": 3,
   "id": "56e76c64-3fef-4ed2-9fb1-8b684c90ff62",
   "metadata": {},
   "outputs": [
    {
     "name": "stdout",
     "output_type": "stream",
     "text": [
      "<class 'pandas.core.frame.DataFrame'>\n",
      "RangeIndex: 103202 entries, 0 to 103201\n",
      "Data columns (total 25 columns):\n",
      " #   Column          Non-Null Count   Dtype  \n",
      "---  ------          --------------   -----  \n",
      " 0   Cust_ID         103202 non-null  int64  \n",
      " 1   Cust_Segment    103202 non-null  object \n",
      " 2   Branch_ID       103202 non-null  int64  \n",
      " 3   Gender          103202 non-null  object \n",
      " 4   Marital_Status  103202 non-null  object \n",
      " 5   Education_Lv    103202 non-null  object \n",
      " 6   Job_Status      103202 non-null  object \n",
      " 7   Income          100752 non-null  float64\n",
      " 8   Age             103202 non-null  int64  \n",
      " 9   Years_w_Bank    103197 non-null  float64\n",
      " 10  Penalty_201407  103202 non-null  object \n",
      " 11  Penalty_201408  103202 non-null  object \n",
      " 12  Penalty_201409  103202 non-null  object \n",
      " 13  Penalty_201410  103202 non-null  object \n",
      " 14  Penalty_201411  103202 non-null  object \n",
      " 15  Penalty_201412  103202 non-null  object \n",
      " 16  Penalty_201501  103202 non-null  object \n",
      " 17  Penalty_201502  103202 non-null  object \n",
      " 18  Penalty_201503  103202 non-null  object \n",
      " 19  Penalty_201504  103202 non-null  object \n",
      " 20  Penalty_201505  103202 non-null  object \n",
      " 21  Penalty_201506  103202 non-null  object \n",
      " 22  Work_Region     103202 non-null  object \n",
      " 23  Home_Region     103198 non-null  object \n",
      " 24  Branch_Region   103198 non-null  object \n",
      "dtypes: float64(2), int64(3), object(20)\n",
      "memory usage: 19.7+ MB\n"
     ]
    }
   ],
   "source": [
    "# drop unnecessary columns\n",
    "demo_df.drop([\"Unnamed: 0\", \"field_1\", \"Branch_X\", \"Branch_Y\", \"Home_Loc_X\", \"Home_Loc_Y\", \"Work_Loc_X\", \"Work_Loc_Y\"], axis = 1, inplace=True)\n",
    "demo_df.info()"
   ]
  },
  {
   "cell_type": "code",
   "execution_count": 4,
   "id": "2be4565c-fc4b-4542-b184-5964a6f45706",
   "metadata": {},
   "outputs": [],
   "source": [
    "# count risk types per row\n",
    "risk_counts = demo_df.iloc[:,10:22].apply(pd.Series.value_counts, axis=1)\n",
    "risk_counts = risk_counts.fillna(0)"
   ]
  },
  {
   "cell_type": "code",
   "execution_count": 5,
   "id": "6b78e756-f63a-4831-b6c0-ad4dde2b390b",
   "metadata": {},
   "outputs": [
    {
     "data": {
      "text/html": [
       "<div>\n",
       "<style scoped>\n",
       "    .dataframe tbody tr th:only-of-type {\n",
       "        vertical-align: middle;\n",
       "    }\n",
       "\n",
       "    .dataframe tbody tr th {\n",
       "        vertical-align: top;\n",
       "    }\n",
       "\n",
       "    .dataframe thead th {\n",
       "        text-align: right;\n",
       "    }\n",
       "</style>\n",
       "<table border=\"1\" class=\"dataframe\">\n",
       "  <thead>\n",
       "    <tr style=\"text-align: right;\">\n",
       "      <th></th>\n",
       "      <th>.</th>\n",
       "      <th>1)RISKSIZ</th>\n",
       "      <th>2)GECIKME 1-15 GUN</th>\n",
       "      <th>3)GECIKME 16-29 GUN</th>\n",
       "      <th>4)GECIKME 30-59 GUN</th>\n",
       "      <th>5)GECIKME 60+ GUN</th>\n",
       "      <th>6)TAKIP</th>\n",
       "    </tr>\n",
       "  </thead>\n",
       "  <tbody>\n",
       "    <tr>\n",
       "      <th>0</th>\n",
       "      <td>1.0</td>\n",
       "      <td>5.0</td>\n",
       "      <td>5.0</td>\n",
       "      <td>0.0</td>\n",
       "      <td>1.0</td>\n",
       "      <td>0.0</td>\n",
       "      <td>0.0</td>\n",
       "    </tr>\n",
       "    <tr>\n",
       "      <th>1</th>\n",
       "      <td>0.0</td>\n",
       "      <td>7.0</td>\n",
       "      <td>5.0</td>\n",
       "      <td>0.0</td>\n",
       "      <td>0.0</td>\n",
       "      <td>0.0</td>\n",
       "      <td>0.0</td>\n",
       "    </tr>\n",
       "    <tr>\n",
       "      <th>2</th>\n",
       "      <td>0.0</td>\n",
       "      <td>10.0</td>\n",
       "      <td>0.0</td>\n",
       "      <td>0.0</td>\n",
       "      <td>2.0</td>\n",
       "      <td>0.0</td>\n",
       "      <td>0.0</td>\n",
       "    </tr>\n",
       "    <tr>\n",
       "      <th>3</th>\n",
       "      <td>0.0</td>\n",
       "      <td>5.0</td>\n",
       "      <td>1.0</td>\n",
       "      <td>0.0</td>\n",
       "      <td>1.0</td>\n",
       "      <td>2.0</td>\n",
       "      <td>3.0</td>\n",
       "    </tr>\n",
       "    <tr>\n",
       "      <th>4</th>\n",
       "      <td>0.0</td>\n",
       "      <td>12.0</td>\n",
       "      <td>0.0</td>\n",
       "      <td>0.0</td>\n",
       "      <td>0.0</td>\n",
       "      <td>0.0</td>\n",
       "      <td>0.0</td>\n",
       "    </tr>\n",
       "    <tr>\n",
       "      <th>...</th>\n",
       "      <td>...</td>\n",
       "      <td>...</td>\n",
       "      <td>...</td>\n",
       "      <td>...</td>\n",
       "      <td>...</td>\n",
       "      <td>...</td>\n",
       "      <td>...</td>\n",
       "    </tr>\n",
       "    <tr>\n",
       "      <th>103197</th>\n",
       "      <td>0.0</td>\n",
       "      <td>12.0</td>\n",
       "      <td>0.0</td>\n",
       "      <td>0.0</td>\n",
       "      <td>0.0</td>\n",
       "      <td>0.0</td>\n",
       "      <td>0.0</td>\n",
       "    </tr>\n",
       "    <tr>\n",
       "      <th>103198</th>\n",
       "      <td>0.0</td>\n",
       "      <td>9.0</td>\n",
       "      <td>3.0</td>\n",
       "      <td>0.0</td>\n",
       "      <td>0.0</td>\n",
       "      <td>0.0</td>\n",
       "      <td>0.0</td>\n",
       "    </tr>\n",
       "    <tr>\n",
       "      <th>103199</th>\n",
       "      <td>8.0</td>\n",
       "      <td>4.0</td>\n",
       "      <td>0.0</td>\n",
       "      <td>0.0</td>\n",
       "      <td>0.0</td>\n",
       "      <td>0.0</td>\n",
       "      <td>0.0</td>\n",
       "    </tr>\n",
       "    <tr>\n",
       "      <th>103200</th>\n",
       "      <td>0.0</td>\n",
       "      <td>12.0</td>\n",
       "      <td>0.0</td>\n",
       "      <td>0.0</td>\n",
       "      <td>0.0</td>\n",
       "      <td>0.0</td>\n",
       "      <td>0.0</td>\n",
       "    </tr>\n",
       "    <tr>\n",
       "      <th>103201</th>\n",
       "      <td>4.0</td>\n",
       "      <td>8.0</td>\n",
       "      <td>0.0</td>\n",
       "      <td>0.0</td>\n",
       "      <td>0.0</td>\n",
       "      <td>0.0</td>\n",
       "      <td>0.0</td>\n",
       "    </tr>\n",
       "  </tbody>\n",
       "</table>\n",
       "<p>103202 rows × 7 columns</p>\n",
       "</div>"
      ],
      "text/plain": [
       "          .  1)RISKSIZ  2)GECIKME 1-15 GUN  3)GECIKME 16-29 GUN  \\\n",
       "0       1.0        5.0                 5.0                  0.0   \n",
       "1       0.0        7.0                 5.0                  0.0   \n",
       "2       0.0       10.0                 0.0                  0.0   \n",
       "3       0.0        5.0                 1.0                  0.0   \n",
       "4       0.0       12.0                 0.0                  0.0   \n",
       "...     ...        ...                 ...                  ...   \n",
       "103197  0.0       12.0                 0.0                  0.0   \n",
       "103198  0.0        9.0                 3.0                  0.0   \n",
       "103199  8.0        4.0                 0.0                  0.0   \n",
       "103200  0.0       12.0                 0.0                  0.0   \n",
       "103201  4.0        8.0                 0.0                  0.0   \n",
       "\n",
       "        4)GECIKME 30-59 GUN  5)GECIKME 60+ GUN  6)TAKIP  \n",
       "0                       1.0                0.0      0.0  \n",
       "1                       0.0                0.0      0.0  \n",
       "2                       2.0                0.0      0.0  \n",
       "3                       1.0                2.0      3.0  \n",
       "4                       0.0                0.0      0.0  \n",
       "...                     ...                ...      ...  \n",
       "103197                  0.0                0.0      0.0  \n",
       "103198                  0.0                0.0      0.0  \n",
       "103199                  0.0                0.0      0.0  \n",
       "103200                  0.0                0.0      0.0  \n",
       "103201                  0.0                0.0      0.0  \n",
       "\n",
       "[103202 rows x 7 columns]"
      ]
     },
     "execution_count": 5,
     "metadata": {},
     "output_type": "execute_result"
    }
   ],
   "source": [
    "risk_counts"
   ]
  },
  {
   "cell_type": "code",
   "execution_count": 6,
   "id": "66185462-90cf-4aed-998e-9ff2b6d94642",
   "metadata": {},
   "outputs": [
    {
     "data": {
      "text/html": [
       "<div>\n",
       "<style scoped>\n",
       "    .dataframe tbody tr th:only-of-type {\n",
       "        vertical-align: middle;\n",
       "    }\n",
       "\n",
       "    .dataframe tbody tr th {\n",
       "        vertical-align: top;\n",
       "    }\n",
       "\n",
       "    .dataframe thead th {\n",
       "        text-align: right;\n",
       "    }\n",
       "</style>\n",
       "<table border=\"1\" class=\"dataframe\">\n",
       "  <thead>\n",
       "    <tr style=\"text-align: right;\">\n",
       "      <th></th>\n",
       "      <th>Cust_ID</th>\n",
       "      <th>Cust_Segment</th>\n",
       "      <th>Branch_ID</th>\n",
       "      <th>Gender</th>\n",
       "      <th>Marital_Status</th>\n",
       "      <th>Education_Lv</th>\n",
       "      <th>Job_Status</th>\n",
       "      <th>Income</th>\n",
       "      <th>Age</th>\n",
       "      <th>Years_w_Bank</th>\n",
       "      <th>...</th>\n",
       "      <th>Work_Region</th>\n",
       "      <th>Home_Region</th>\n",
       "      <th>Branch_Region</th>\n",
       "      <th>.</th>\n",
       "      <th>1)RISKSIZ</th>\n",
       "      <th>2)GECIKME 1-15 GUN</th>\n",
       "      <th>3)GECIKME 16-29 GUN</th>\n",
       "      <th>4)GECIKME 30-59 GUN</th>\n",
       "      <th>5)GECIKME 60+ GUN</th>\n",
       "      <th>6)TAKIP</th>\n",
       "    </tr>\n",
       "  </thead>\n",
       "  <tbody>\n",
       "    <tr>\n",
       "      <th>0</th>\n",
       "      <td>25139695</td>\n",
       "      <td>BİREYSEL</td>\n",
       "      <td>2</td>\n",
       "      <td>E</td>\n",
       "      <td>EVLİ</td>\n",
       "      <td>LİSE</td>\n",
       "      <td>ÜCRETLİ (ÖZEL)</td>\n",
       "      <td>2500.0</td>\n",
       "      <td>55</td>\n",
       "      <td>2.0</td>\n",
       "      <td>...</td>\n",
       "      <td>MARMARA</td>\n",
       "      <td>MEDITERRANEAN</td>\n",
       "      <td>MEDITERRANEAN</td>\n",
       "      <td>1.0</td>\n",
       "      <td>5.0</td>\n",
       "      <td>5.0</td>\n",
       "      <td>0.0</td>\n",
       "      <td>1.0</td>\n",
       "      <td>0.0</td>\n",
       "      <td>0.0</td>\n",
       "    </tr>\n",
       "    <tr>\n",
       "      <th>1</th>\n",
       "      <td>21213035</td>\n",
       "      <td>BİREYSEL</td>\n",
       "      <td>2</td>\n",
       "      <td>E</td>\n",
       "      <td>BİLINMİYOR</td>\n",
       "      <td>LİSE</td>\n",
       "      <td>ÜCRETLİ (ÖZEL)</td>\n",
       "      <td>2500.0</td>\n",
       "      <td>24</td>\n",
       "      <td>4.0</td>\n",
       "      <td>...</td>\n",
       "      <td>MARMARA</td>\n",
       "      <td>MEDITERRANEAN</td>\n",
       "      <td>MEDITERRANEAN</td>\n",
       "      <td>0.0</td>\n",
       "      <td>7.0</td>\n",
       "      <td>5.0</td>\n",
       "      <td>0.0</td>\n",
       "      <td>0.0</td>\n",
       "      <td>0.0</td>\n",
       "      <td>0.0</td>\n",
       "    </tr>\n",
       "    <tr>\n",
       "      <th>2</th>\n",
       "      <td>23187800</td>\n",
       "      <td>BİREYSEL</td>\n",
       "      <td>2</td>\n",
       "      <td>E</td>\n",
       "      <td>EVLİ</td>\n",
       "      <td>LİSE</td>\n",
       "      <td>ÜCRETLİ (ÖZEL)</td>\n",
       "      <td>850.0</td>\n",
       "      <td>39</td>\n",
       "      <td>3.0</td>\n",
       "      <td>...</td>\n",
       "      <td>MARMARA</td>\n",
       "      <td>MARMARA</td>\n",
       "      <td>MEDITERRANEAN</td>\n",
       "      <td>0.0</td>\n",
       "      <td>10.0</td>\n",
       "      <td>0.0</td>\n",
       "      <td>0.0</td>\n",
       "      <td>2.0</td>\n",
       "      <td>0.0</td>\n",
       "      <td>0.0</td>\n",
       "    </tr>\n",
       "    <tr>\n",
       "      <th>3</th>\n",
       "      <td>16400475</td>\n",
       "      <td>BİREBİR</td>\n",
       "      <td>2</td>\n",
       "      <td>E</td>\n",
       "      <td>EVLİ</td>\n",
       "      <td>ÜNİVERSİTE</td>\n",
       "      <td>SERBEST MESLEK</td>\n",
       "      <td>NaN</td>\n",
       "      <td>45</td>\n",
       "      <td>8.0</td>\n",
       "      <td>...</td>\n",
       "      <td>MARMARA</td>\n",
       "      <td>MARMARA</td>\n",
       "      <td>MEDITERRANEAN</td>\n",
       "      <td>0.0</td>\n",
       "      <td>5.0</td>\n",
       "      <td>1.0</td>\n",
       "      <td>0.0</td>\n",
       "      <td>1.0</td>\n",
       "      <td>2.0</td>\n",
       "      <td>3.0</td>\n",
       "    </tr>\n",
       "    <tr>\n",
       "      <th>4</th>\n",
       "      <td>17303354</td>\n",
       "      <td>BİREYSEL</td>\n",
       "      <td>2</td>\n",
       "      <td>E</td>\n",
       "      <td>EVLİ</td>\n",
       "      <td>LİSE</td>\n",
       "      <td>ÜCRETLİ (ÖZEL)</td>\n",
       "      <td>3500.0</td>\n",
       "      <td>35</td>\n",
       "      <td>7.0</td>\n",
       "      <td>...</td>\n",
       "      <td>MARMARA</td>\n",
       "      <td>MEDITERRANEAN</td>\n",
       "      <td>MEDITERRANEAN</td>\n",
       "      <td>0.0</td>\n",
       "      <td>12.0</td>\n",
       "      <td>0.0</td>\n",
       "      <td>0.0</td>\n",
       "      <td>0.0</td>\n",
       "      <td>0.0</td>\n",
       "      <td>0.0</td>\n",
       "    </tr>\n",
       "    <tr>\n",
       "      <th>...</th>\n",
       "      <td>...</td>\n",
       "      <td>...</td>\n",
       "      <td>...</td>\n",
       "      <td>...</td>\n",
       "      <td>...</td>\n",
       "      <td>...</td>\n",
       "      <td>...</td>\n",
       "      <td>...</td>\n",
       "      <td>...</td>\n",
       "      <td>...</td>\n",
       "      <td>...</td>\n",
       "      <td>...</td>\n",
       "      <td>...</td>\n",
       "      <td>...</td>\n",
       "      <td>...</td>\n",
       "      <td>...</td>\n",
       "      <td>...</td>\n",
       "      <td>...</td>\n",
       "      <td>...</td>\n",
       "      <td>...</td>\n",
       "      <td>...</td>\n",
       "    </tr>\n",
       "    <tr>\n",
       "      <th>103197</th>\n",
       "      <td>9274456</td>\n",
       "      <td>BİREBİR</td>\n",
       "      <td>1228</td>\n",
       "      <td>E</td>\n",
       "      <td>EVLİ</td>\n",
       "      <td>ÜNİVERSİTE</td>\n",
       "      <td>ÜCRETLİ (ÖZEL)</td>\n",
       "      <td>0.0</td>\n",
       "      <td>54</td>\n",
       "      <td>13.0</td>\n",
       "      <td>...</td>\n",
       "      <td>MEDITERRANEAN</td>\n",
       "      <td>MARMARA</td>\n",
       "      <td>MEDITERRANEAN</td>\n",
       "      <td>0.0</td>\n",
       "      <td>12.0</td>\n",
       "      <td>0.0</td>\n",
       "      <td>0.0</td>\n",
       "      <td>0.0</td>\n",
       "      <td>0.0</td>\n",
       "      <td>0.0</td>\n",
       "    </tr>\n",
       "    <tr>\n",
       "      <th>103198</th>\n",
       "      <td>9316496</td>\n",
       "      <td>BİREYSEL</td>\n",
       "      <td>1261</td>\n",
       "      <td>E</td>\n",
       "      <td>EVLİ</td>\n",
       "      <td>ÜNİVERSİTE</td>\n",
       "      <td>ÜCRETLİ (ÖZEL)</td>\n",
       "      <td>1044.0</td>\n",
       "      <td>31</td>\n",
       "      <td>13.0</td>\n",
       "      <td>...</td>\n",
       "      <td>MARMARA</td>\n",
       "      <td>MARMARA</td>\n",
       "      <td>MARMARA</td>\n",
       "      <td>0.0</td>\n",
       "      <td>9.0</td>\n",
       "      <td>3.0</td>\n",
       "      <td>0.0</td>\n",
       "      <td>0.0</td>\n",
       "      <td>0.0</td>\n",
       "      <td>0.0</td>\n",
       "    </tr>\n",
       "    <tr>\n",
       "      <th>103199</th>\n",
       "      <td>25988134</td>\n",
       "      <td>BİREYSEL</td>\n",
       "      <td>1308</td>\n",
       "      <td>E</td>\n",
       "      <td>BEKAR</td>\n",
       "      <td>LİSE</td>\n",
       "      <td>ÜCRETLİ (ÖZEL)</td>\n",
       "      <td>1600.0</td>\n",
       "      <td>20</td>\n",
       "      <td>1.0</td>\n",
       "      <td>...</td>\n",
       "      <td>MARMARA</td>\n",
       "      <td>MARMARA</td>\n",
       "      <td>MARMARA</td>\n",
       "      <td>8.0</td>\n",
       "      <td>4.0</td>\n",
       "      <td>0.0</td>\n",
       "      <td>0.0</td>\n",
       "      <td>0.0</td>\n",
       "      <td>0.0</td>\n",
       "      <td>0.0</td>\n",
       "    </tr>\n",
       "    <tr>\n",
       "      <th>103200</th>\n",
       "      <td>7745674</td>\n",
       "      <td>BİREYSEL</td>\n",
       "      <td>1359</td>\n",
       "      <td>K</td>\n",
       "      <td>EVLİ</td>\n",
       "      <td>ÜNİVERSİTE</td>\n",
       "      <td>ÜCRETLİ (ÖZEL)</td>\n",
       "      <td>0.0</td>\n",
       "      <td>35</td>\n",
       "      <td>14.0</td>\n",
       "      <td>...</td>\n",
       "      <td>MEDITERRANEAN</td>\n",
       "      <td>MARMARA</td>\n",
       "      <td>MEDITERRANEAN</td>\n",
       "      <td>0.0</td>\n",
       "      <td>12.0</td>\n",
       "      <td>0.0</td>\n",
       "      <td>0.0</td>\n",
       "      <td>0.0</td>\n",
       "      <td>0.0</td>\n",
       "      <td>0.0</td>\n",
       "    </tr>\n",
       "    <tr>\n",
       "      <th>103201</th>\n",
       "      <td>14641330</td>\n",
       "      <td>BİREYSEL</td>\n",
       "      <td>1384</td>\n",
       "      <td>E</td>\n",
       "      <td>EVLİ</td>\n",
       "      <td>ÜNİVERSİTE</td>\n",
       "      <td>ÜCRETLI (KAMU)</td>\n",
       "      <td>4000.0</td>\n",
       "      <td>29</td>\n",
       "      <td>9.0</td>\n",
       "      <td>...</td>\n",
       "      <td>MARMARA</td>\n",
       "      <td>MARMARA</td>\n",
       "      <td>CENTRAL ANATOLIA</td>\n",
       "      <td>4.0</td>\n",
       "      <td>8.0</td>\n",
       "      <td>0.0</td>\n",
       "      <td>0.0</td>\n",
       "      <td>0.0</td>\n",
       "      <td>0.0</td>\n",
       "      <td>0.0</td>\n",
       "    </tr>\n",
       "  </tbody>\n",
       "</table>\n",
       "<p>103202 rows × 32 columns</p>\n",
       "</div>"
      ],
      "text/plain": [
       "         Cust_ID Cust_Segment  Branch_ID Gender Marital_Status Education_Lv  \\\n",
       "0       25139695     BİREYSEL          2      E           EVLİ         LİSE   \n",
       "1       21213035     BİREYSEL          2      E     BİLINMİYOR         LİSE   \n",
       "2       23187800     BİREYSEL          2      E           EVLİ         LİSE   \n",
       "3       16400475      BİREBİR          2      E           EVLİ   ÜNİVERSİTE   \n",
       "4       17303354     BİREYSEL          2      E           EVLİ         LİSE   \n",
       "...          ...          ...        ...    ...            ...          ...   \n",
       "103197   9274456      BİREBİR       1228      E           EVLİ   ÜNİVERSİTE   \n",
       "103198   9316496     BİREYSEL       1261      E           EVLİ   ÜNİVERSİTE   \n",
       "103199  25988134     BİREYSEL       1308      E          BEKAR         LİSE   \n",
       "103200   7745674     BİREYSEL       1359      K           EVLİ   ÜNİVERSİTE   \n",
       "103201  14641330     BİREYSEL       1384      E           EVLİ   ÜNİVERSİTE   \n",
       "\n",
       "            Job_Status  Income  Age  Years_w_Bank  ...    Work_Region  \\\n",
       "0       ÜCRETLİ (ÖZEL)  2500.0   55           2.0  ...        MARMARA   \n",
       "1       ÜCRETLİ (ÖZEL)  2500.0   24           4.0  ...        MARMARA   \n",
       "2       ÜCRETLİ (ÖZEL)   850.0   39           3.0  ...        MARMARA   \n",
       "3       SERBEST MESLEK     NaN   45           8.0  ...        MARMARA   \n",
       "4       ÜCRETLİ (ÖZEL)  3500.0   35           7.0  ...        MARMARA   \n",
       "...                ...     ...  ...           ...  ...            ...   \n",
       "103197  ÜCRETLİ (ÖZEL)     0.0   54          13.0  ...  MEDITERRANEAN   \n",
       "103198  ÜCRETLİ (ÖZEL)  1044.0   31          13.0  ...        MARMARA   \n",
       "103199  ÜCRETLİ (ÖZEL)  1600.0   20           1.0  ...        MARMARA   \n",
       "103200  ÜCRETLİ (ÖZEL)     0.0   35          14.0  ...  MEDITERRANEAN   \n",
       "103201  ÜCRETLI (KAMU)  4000.0   29           9.0  ...        MARMARA   \n",
       "\n",
       "          Home_Region     Branch_Region    . 1)RISKSIZ 2)GECIKME 1-15 GUN  \\\n",
       "0       MEDITERRANEAN     MEDITERRANEAN  1.0       5.0                5.0   \n",
       "1       MEDITERRANEAN     MEDITERRANEAN  0.0       7.0                5.0   \n",
       "2             MARMARA     MEDITERRANEAN  0.0      10.0                0.0   \n",
       "3             MARMARA     MEDITERRANEAN  0.0       5.0                1.0   \n",
       "4       MEDITERRANEAN     MEDITERRANEAN  0.0      12.0                0.0   \n",
       "...               ...               ...  ...       ...                ...   \n",
       "103197        MARMARA     MEDITERRANEAN  0.0      12.0                0.0   \n",
       "103198        MARMARA           MARMARA  0.0       9.0                3.0   \n",
       "103199        MARMARA           MARMARA  8.0       4.0                0.0   \n",
       "103200        MARMARA     MEDITERRANEAN  0.0      12.0                0.0   \n",
       "103201        MARMARA  CENTRAL ANATOLIA  4.0       8.0                0.0   \n",
       "\n",
       "       3)GECIKME 16-29 GUN 4)GECIKME 30-59 GUN 5)GECIKME 60+ GUN 6)TAKIP  \n",
       "0                      0.0                 1.0               0.0     0.0  \n",
       "1                      0.0                 0.0               0.0     0.0  \n",
       "2                      0.0                 2.0               0.0     0.0  \n",
       "3                      0.0                 1.0               2.0     3.0  \n",
       "4                      0.0                 0.0               0.0     0.0  \n",
       "...                    ...                 ...               ...     ...  \n",
       "103197                 0.0                 0.0               0.0     0.0  \n",
       "103198                 0.0                 0.0               0.0     0.0  \n",
       "103199                 0.0                 0.0               0.0     0.0  \n",
       "103200                 0.0                 0.0               0.0     0.0  \n",
       "103201                 0.0                 0.0               0.0     0.0  \n",
       "\n",
       "[103202 rows x 32 columns]"
      ]
     },
     "execution_count": 6,
     "metadata": {},
     "output_type": "execute_result"
    }
   ],
   "source": [
    "demo_df = demo_df.join(risk_counts)\n",
    "demo_df"
   ]
  },
  {
   "cell_type": "code",
   "execution_count": 7,
   "id": "0d60f359-4dde-493d-94a8-535b7558faf0",
   "metadata": {},
   "outputs": [],
   "source": [
    "demo_df.drop(['.','Penalty_201407', 'Penalty_201408', 'Penalty_201409', \n",
    "                  'Penalty_201410', 'Penalty_201411', 'Penalty_201412', 'Penalty_201501',\n",
    "                  'Penalty_201502', 'Penalty_201503', 'Penalty_201504', 'Penalty_201505', \n",
    "                  'Penalty_201506'], axis = 1, inplace=True)"
   ]
  },
  {
   "cell_type": "code",
   "execution_count": 8,
   "id": "4ad8c591-b465-46c3-827f-09926123dce0",
   "metadata": {},
   "outputs": [],
   "source": [
    "demo_df.replace(to_replace=['LİSE', 'ORTAOKUL', 'İLKOKUL', 'EĞİTİMSİZ'], value = 'HS_below', inplace=True)\n",
    "demo_df.replace(to_replace=['ÜNİVERSİTE', 'YÜKSEKOKUL'], value= 'University', inplace = True)\n",
    "demo_df.replace(to_replace=['LİSANSÜSTÜ', 'DOKTORA'], value= 'Graduate', inplace = True)"
   ]
  },
  {
   "cell_type": "code",
   "execution_count": 9,
   "id": "02c6a8a6-c7e8-47d9-8eef-7d21c077275a",
   "metadata": {},
   "outputs": [
    {
     "data": {
      "text/html": [
       "<div>\n",
       "<style scoped>\n",
       "    .dataframe tbody tr th:only-of-type {\n",
       "        vertical-align: middle;\n",
       "    }\n",
       "\n",
       "    .dataframe tbody tr th {\n",
       "        vertical-align: top;\n",
       "    }\n",
       "\n",
       "    .dataframe thead th {\n",
       "        text-align: right;\n",
       "    }\n",
       "</style>\n",
       "<table border=\"1\" class=\"dataframe\">\n",
       "  <thead>\n",
       "    <tr style=\"text-align: right;\">\n",
       "      <th></th>\n",
       "      <th>Cust_ID</th>\n",
       "      <th>Cust_Segment</th>\n",
       "      <th>Branch_ID</th>\n",
       "      <th>Gender</th>\n",
       "      <th>Marital_Status</th>\n",
       "      <th>Education_Lv</th>\n",
       "      <th>Job_Status</th>\n",
       "      <th>Income</th>\n",
       "      <th>Age</th>\n",
       "      <th>Years_w_Bank</th>\n",
       "      <th>Work_Region</th>\n",
       "      <th>Home_Region</th>\n",
       "      <th>Branch_Region</th>\n",
       "      <th>1)RISKSIZ</th>\n",
       "      <th>2)GECIKME 1-15 GUN</th>\n",
       "      <th>3)GECIKME 16-29 GUN</th>\n",
       "      <th>4)GECIKME 30-59 GUN</th>\n",
       "      <th>5)GECIKME 60+ GUN</th>\n",
       "      <th>6)TAKIP</th>\n",
       "    </tr>\n",
       "  </thead>\n",
       "  <tbody>\n",
       "    <tr>\n",
       "      <th>0</th>\n",
       "      <td>25139695</td>\n",
       "      <td>BİREYSEL</td>\n",
       "      <td>2</td>\n",
       "      <td>E</td>\n",
       "      <td>EVLİ</td>\n",
       "      <td>HS_below</td>\n",
       "      <td>ÜCRETLİ (ÖZEL)</td>\n",
       "      <td>2500.0</td>\n",
       "      <td>55</td>\n",
       "      <td>2.0</td>\n",
       "      <td>MARMARA</td>\n",
       "      <td>MEDITERRANEAN</td>\n",
       "      <td>MEDITERRANEAN</td>\n",
       "      <td>5.0</td>\n",
       "      <td>5.0</td>\n",
       "      <td>0.0</td>\n",
       "      <td>1.0</td>\n",
       "      <td>0.0</td>\n",
       "      <td>0.0</td>\n",
       "    </tr>\n",
       "    <tr>\n",
       "      <th>1</th>\n",
       "      <td>21213035</td>\n",
       "      <td>BİREYSEL</td>\n",
       "      <td>2</td>\n",
       "      <td>E</td>\n",
       "      <td>BİLINMİYOR</td>\n",
       "      <td>HS_below</td>\n",
       "      <td>ÜCRETLİ (ÖZEL)</td>\n",
       "      <td>2500.0</td>\n",
       "      <td>24</td>\n",
       "      <td>4.0</td>\n",
       "      <td>MARMARA</td>\n",
       "      <td>MEDITERRANEAN</td>\n",
       "      <td>MEDITERRANEAN</td>\n",
       "      <td>7.0</td>\n",
       "      <td>5.0</td>\n",
       "      <td>0.0</td>\n",
       "      <td>0.0</td>\n",
       "      <td>0.0</td>\n",
       "      <td>0.0</td>\n",
       "    </tr>\n",
       "    <tr>\n",
       "      <th>2</th>\n",
       "      <td>23187800</td>\n",
       "      <td>BİREYSEL</td>\n",
       "      <td>2</td>\n",
       "      <td>E</td>\n",
       "      <td>EVLİ</td>\n",
       "      <td>HS_below</td>\n",
       "      <td>ÜCRETLİ (ÖZEL)</td>\n",
       "      <td>850.0</td>\n",
       "      <td>39</td>\n",
       "      <td>3.0</td>\n",
       "      <td>MARMARA</td>\n",
       "      <td>MARMARA</td>\n",
       "      <td>MEDITERRANEAN</td>\n",
       "      <td>10.0</td>\n",
       "      <td>0.0</td>\n",
       "      <td>0.0</td>\n",
       "      <td>2.0</td>\n",
       "      <td>0.0</td>\n",
       "      <td>0.0</td>\n",
       "    </tr>\n",
       "    <tr>\n",
       "      <th>3</th>\n",
       "      <td>16400475</td>\n",
       "      <td>BİREBİR</td>\n",
       "      <td>2</td>\n",
       "      <td>E</td>\n",
       "      <td>EVLİ</td>\n",
       "      <td>University</td>\n",
       "      <td>SERBEST MESLEK</td>\n",
       "      <td>NaN</td>\n",
       "      <td>45</td>\n",
       "      <td>8.0</td>\n",
       "      <td>MARMARA</td>\n",
       "      <td>MARMARA</td>\n",
       "      <td>MEDITERRANEAN</td>\n",
       "      <td>5.0</td>\n",
       "      <td>1.0</td>\n",
       "      <td>0.0</td>\n",
       "      <td>1.0</td>\n",
       "      <td>2.0</td>\n",
       "      <td>3.0</td>\n",
       "    </tr>\n",
       "    <tr>\n",
       "      <th>4</th>\n",
       "      <td>17303354</td>\n",
       "      <td>BİREYSEL</td>\n",
       "      <td>2</td>\n",
       "      <td>E</td>\n",
       "      <td>EVLİ</td>\n",
       "      <td>HS_below</td>\n",
       "      <td>ÜCRETLİ (ÖZEL)</td>\n",
       "      <td>3500.0</td>\n",
       "      <td>35</td>\n",
       "      <td>7.0</td>\n",
       "      <td>MARMARA</td>\n",
       "      <td>MEDITERRANEAN</td>\n",
       "      <td>MEDITERRANEAN</td>\n",
       "      <td>12.0</td>\n",
       "      <td>0.0</td>\n",
       "      <td>0.0</td>\n",
       "      <td>0.0</td>\n",
       "      <td>0.0</td>\n",
       "      <td>0.0</td>\n",
       "    </tr>\n",
       "    <tr>\n",
       "      <th>...</th>\n",
       "      <td>...</td>\n",
       "      <td>...</td>\n",
       "      <td>...</td>\n",
       "      <td>...</td>\n",
       "      <td>...</td>\n",
       "      <td>...</td>\n",
       "      <td>...</td>\n",
       "      <td>...</td>\n",
       "      <td>...</td>\n",
       "      <td>...</td>\n",
       "      <td>...</td>\n",
       "      <td>...</td>\n",
       "      <td>...</td>\n",
       "      <td>...</td>\n",
       "      <td>...</td>\n",
       "      <td>...</td>\n",
       "      <td>...</td>\n",
       "      <td>...</td>\n",
       "      <td>...</td>\n",
       "    </tr>\n",
       "    <tr>\n",
       "      <th>103197</th>\n",
       "      <td>9274456</td>\n",
       "      <td>BİREBİR</td>\n",
       "      <td>1228</td>\n",
       "      <td>E</td>\n",
       "      <td>EVLİ</td>\n",
       "      <td>University</td>\n",
       "      <td>ÜCRETLİ (ÖZEL)</td>\n",
       "      <td>0.0</td>\n",
       "      <td>54</td>\n",
       "      <td>13.0</td>\n",
       "      <td>MEDITERRANEAN</td>\n",
       "      <td>MARMARA</td>\n",
       "      <td>MEDITERRANEAN</td>\n",
       "      <td>12.0</td>\n",
       "      <td>0.0</td>\n",
       "      <td>0.0</td>\n",
       "      <td>0.0</td>\n",
       "      <td>0.0</td>\n",
       "      <td>0.0</td>\n",
       "    </tr>\n",
       "    <tr>\n",
       "      <th>103198</th>\n",
       "      <td>9316496</td>\n",
       "      <td>BİREYSEL</td>\n",
       "      <td>1261</td>\n",
       "      <td>E</td>\n",
       "      <td>EVLİ</td>\n",
       "      <td>University</td>\n",
       "      <td>ÜCRETLİ (ÖZEL)</td>\n",
       "      <td>1044.0</td>\n",
       "      <td>31</td>\n",
       "      <td>13.0</td>\n",
       "      <td>MARMARA</td>\n",
       "      <td>MARMARA</td>\n",
       "      <td>MARMARA</td>\n",
       "      <td>9.0</td>\n",
       "      <td>3.0</td>\n",
       "      <td>0.0</td>\n",
       "      <td>0.0</td>\n",
       "      <td>0.0</td>\n",
       "      <td>0.0</td>\n",
       "    </tr>\n",
       "    <tr>\n",
       "      <th>103199</th>\n",
       "      <td>25988134</td>\n",
       "      <td>BİREYSEL</td>\n",
       "      <td>1308</td>\n",
       "      <td>E</td>\n",
       "      <td>BEKAR</td>\n",
       "      <td>HS_below</td>\n",
       "      <td>ÜCRETLİ (ÖZEL)</td>\n",
       "      <td>1600.0</td>\n",
       "      <td>20</td>\n",
       "      <td>1.0</td>\n",
       "      <td>MARMARA</td>\n",
       "      <td>MARMARA</td>\n",
       "      <td>MARMARA</td>\n",
       "      <td>4.0</td>\n",
       "      <td>0.0</td>\n",
       "      <td>0.0</td>\n",
       "      <td>0.0</td>\n",
       "      <td>0.0</td>\n",
       "      <td>0.0</td>\n",
       "    </tr>\n",
       "    <tr>\n",
       "      <th>103200</th>\n",
       "      <td>7745674</td>\n",
       "      <td>BİREYSEL</td>\n",
       "      <td>1359</td>\n",
       "      <td>K</td>\n",
       "      <td>EVLİ</td>\n",
       "      <td>University</td>\n",
       "      <td>ÜCRETLİ (ÖZEL)</td>\n",
       "      <td>0.0</td>\n",
       "      <td>35</td>\n",
       "      <td>14.0</td>\n",
       "      <td>MEDITERRANEAN</td>\n",
       "      <td>MARMARA</td>\n",
       "      <td>MEDITERRANEAN</td>\n",
       "      <td>12.0</td>\n",
       "      <td>0.0</td>\n",
       "      <td>0.0</td>\n",
       "      <td>0.0</td>\n",
       "      <td>0.0</td>\n",
       "      <td>0.0</td>\n",
       "    </tr>\n",
       "    <tr>\n",
       "      <th>103201</th>\n",
       "      <td>14641330</td>\n",
       "      <td>BİREYSEL</td>\n",
       "      <td>1384</td>\n",
       "      <td>E</td>\n",
       "      <td>EVLİ</td>\n",
       "      <td>University</td>\n",
       "      <td>ÜCRETLI (KAMU)</td>\n",
       "      <td>4000.0</td>\n",
       "      <td>29</td>\n",
       "      <td>9.0</td>\n",
       "      <td>MARMARA</td>\n",
       "      <td>MARMARA</td>\n",
       "      <td>CENTRAL ANATOLIA</td>\n",
       "      <td>8.0</td>\n",
       "      <td>0.0</td>\n",
       "      <td>0.0</td>\n",
       "      <td>0.0</td>\n",
       "      <td>0.0</td>\n",
       "      <td>0.0</td>\n",
       "    </tr>\n",
       "  </tbody>\n",
       "</table>\n",
       "<p>103202 rows × 19 columns</p>\n",
       "</div>"
      ],
      "text/plain": [
       "         Cust_ID Cust_Segment  Branch_ID Gender Marital_Status Education_Lv  \\\n",
       "0       25139695     BİREYSEL          2      E           EVLİ     HS_below   \n",
       "1       21213035     BİREYSEL          2      E     BİLINMİYOR     HS_below   \n",
       "2       23187800     BİREYSEL          2      E           EVLİ     HS_below   \n",
       "3       16400475      BİREBİR          2      E           EVLİ   University   \n",
       "4       17303354     BİREYSEL          2      E           EVLİ     HS_below   \n",
       "...          ...          ...        ...    ...            ...          ...   \n",
       "103197   9274456      BİREBİR       1228      E           EVLİ   University   \n",
       "103198   9316496     BİREYSEL       1261      E           EVLİ   University   \n",
       "103199  25988134     BİREYSEL       1308      E          BEKAR     HS_below   \n",
       "103200   7745674     BİREYSEL       1359      K           EVLİ   University   \n",
       "103201  14641330     BİREYSEL       1384      E           EVLİ   University   \n",
       "\n",
       "            Job_Status  Income  Age  Years_w_Bank    Work_Region  \\\n",
       "0       ÜCRETLİ (ÖZEL)  2500.0   55           2.0        MARMARA   \n",
       "1       ÜCRETLİ (ÖZEL)  2500.0   24           4.0        MARMARA   \n",
       "2       ÜCRETLİ (ÖZEL)   850.0   39           3.0        MARMARA   \n",
       "3       SERBEST MESLEK     NaN   45           8.0        MARMARA   \n",
       "4       ÜCRETLİ (ÖZEL)  3500.0   35           7.0        MARMARA   \n",
       "...                ...     ...  ...           ...            ...   \n",
       "103197  ÜCRETLİ (ÖZEL)     0.0   54          13.0  MEDITERRANEAN   \n",
       "103198  ÜCRETLİ (ÖZEL)  1044.0   31          13.0        MARMARA   \n",
       "103199  ÜCRETLİ (ÖZEL)  1600.0   20           1.0        MARMARA   \n",
       "103200  ÜCRETLİ (ÖZEL)     0.0   35          14.0  MEDITERRANEAN   \n",
       "103201  ÜCRETLI (KAMU)  4000.0   29           9.0        MARMARA   \n",
       "\n",
       "          Home_Region     Branch_Region  1)RISKSIZ  2)GECIKME 1-15 GUN  \\\n",
       "0       MEDITERRANEAN     MEDITERRANEAN        5.0                 5.0   \n",
       "1       MEDITERRANEAN     MEDITERRANEAN        7.0                 5.0   \n",
       "2             MARMARA     MEDITERRANEAN       10.0                 0.0   \n",
       "3             MARMARA     MEDITERRANEAN        5.0                 1.0   \n",
       "4       MEDITERRANEAN     MEDITERRANEAN       12.0                 0.0   \n",
       "...               ...               ...        ...                 ...   \n",
       "103197        MARMARA     MEDITERRANEAN       12.0                 0.0   \n",
       "103198        MARMARA           MARMARA        9.0                 3.0   \n",
       "103199        MARMARA           MARMARA        4.0                 0.0   \n",
       "103200        MARMARA     MEDITERRANEAN       12.0                 0.0   \n",
       "103201        MARMARA  CENTRAL ANATOLIA        8.0                 0.0   \n",
       "\n",
       "        3)GECIKME 16-29 GUN  4)GECIKME 30-59 GUN  5)GECIKME 60+ GUN  6)TAKIP  \n",
       "0                       0.0                  1.0                0.0      0.0  \n",
       "1                       0.0                  0.0                0.0      0.0  \n",
       "2                       0.0                  2.0                0.0      0.0  \n",
       "3                       0.0                  1.0                2.0      3.0  \n",
       "4                       0.0                  0.0                0.0      0.0  \n",
       "...                     ...                  ...                ...      ...  \n",
       "103197                  0.0                  0.0                0.0      0.0  \n",
       "103198                  0.0                  0.0                0.0      0.0  \n",
       "103199                  0.0                  0.0                0.0      0.0  \n",
       "103200                  0.0                  0.0                0.0      0.0  \n",
       "103201                  0.0                  0.0                0.0      0.0  \n",
       "\n",
       "[103202 rows x 19 columns]"
      ]
     },
     "execution_count": 9,
     "metadata": {},
     "output_type": "execute_result"
    }
   ],
   "source": [
    "demo_df"
   ]
  },
  {
   "cell_type": "code",
   "execution_count": 10,
   "id": "81f27766-cf5d-4ed7-9218-f1de75e5e449",
   "metadata": {},
   "outputs": [
    {
     "name": "stdout",
     "output_type": "stream",
     "text": [
      "<class 'pandas.core.frame.DataFrame'>\n",
      "RangeIndex: 9334625 entries, 0 to 9334624\n",
      "Data columns (total 12 columns):\n",
      " #   Column          Dtype  \n",
      "---  ------          -----  \n",
      " 0   Unnamed: 0      int64  \n",
      " 1   Cust_ID         int64  \n",
      " 2   Trans_Data      object \n",
      " 3   Trans_Time      object \n",
      " 4   Trans_Amt       float64\n",
      " 5   Category        object \n",
      " 6   Merchant_ID     int64  \n",
      " 7   Online_Trans    int64  \n",
      " 8   Trans_Type      object \n",
      " 9   Trans_Currency  object \n",
      " 10  X               float64\n",
      " 11  Y               float64\n",
      "dtypes: float64(3), int64(4), object(5)\n",
      "memory usage: 854.6+ MB\n"
     ]
    }
   ],
   "source": [
    "csv_file2 = \"~/IDC5210_Machine_Learning/Project/Translated_data/transactions(SU_ORNEKLEM_KK_HAR_BILGI).csv\"\n",
    "transactions = pd.read_csv(csv_file2, dtype={'Category': 'str'})\n",
    "transactions.info()"
   ]
  },
  {
   "cell_type": "code",
   "execution_count": 11,
   "id": "6aa8a09a-3b41-4dff-a5d4-8bd364a4e0be",
   "metadata": {},
   "outputs": [
    {
     "data": {
      "text/html": [
       "<div>\n",
       "<style scoped>\n",
       "    .dataframe tbody tr th:only-of-type {\n",
       "        vertical-align: middle;\n",
       "    }\n",
       "\n",
       "    .dataframe tbody tr th {\n",
       "        vertical-align: top;\n",
       "    }\n",
       "\n",
       "    .dataframe thead th {\n",
       "        text-align: right;\n",
       "    }\n",
       "</style>\n",
       "<table border=\"1\" class=\"dataframe\">\n",
       "  <thead>\n",
       "    <tr style=\"text-align: right;\">\n",
       "      <th></th>\n",
       "      <th>Cust_ID</th>\n",
       "      <th>Category</th>\n",
       "      <th>Trans_Amt</th>\n",
       "      <th>Online_Trans</th>\n",
       "    </tr>\n",
       "  </thead>\n",
       "  <tbody>\n",
       "    <tr>\n",
       "      <th>0</th>\n",
       "      <td>11861396</td>\n",
       "      <td>RESTORAN</td>\n",
       "      <td>10.57</td>\n",
       "      <td>0</td>\n",
       "    </tr>\n",
       "    <tr>\n",
       "      <th>1</th>\n",
       "      <td>13667756</td>\n",
       "      <td>RESTORAN</td>\n",
       "      <td>82.00</td>\n",
       "      <td>0</td>\n",
       "    </tr>\n",
       "    <tr>\n",
       "      <th>2</th>\n",
       "      <td>11024865</td>\n",
       "      <td>RESTORAN</td>\n",
       "      <td>15.00</td>\n",
       "      <td>0</td>\n",
       "    </tr>\n",
       "    <tr>\n",
       "      <th>3</th>\n",
       "      <td>10922788</td>\n",
       "      <td>RESTORAN</td>\n",
       "      <td>86.00</td>\n",
       "      <td>0</td>\n",
       "    </tr>\n",
       "    <tr>\n",
       "      <th>4</th>\n",
       "      <td>10335987</td>\n",
       "      <td>RESTORAN</td>\n",
       "      <td>30.00</td>\n",
       "      <td>0</td>\n",
       "    </tr>\n",
       "    <tr>\n",
       "      <th>...</th>\n",
       "      <td>...</td>\n",
       "      <td>...</td>\n",
       "      <td>...</td>\n",
       "      <td>...</td>\n",
       "    </tr>\n",
       "    <tr>\n",
       "      <th>9334620</th>\n",
       "      <td>15623192</td>\n",
       "      <td>GIDA</td>\n",
       "      <td>23.50</td>\n",
       "      <td>0</td>\n",
       "    </tr>\n",
       "    <tr>\n",
       "      <th>9334621</th>\n",
       "      <td>16382137</td>\n",
       "      <td>TEKSTİL</td>\n",
       "      <td>115.00</td>\n",
       "      <td>0</td>\n",
       "    </tr>\n",
       "    <tr>\n",
       "      <th>9334622</th>\n",
       "      <td>16808133</td>\n",
       "      <td>HİZMET SEKTÖRLERİ</td>\n",
       "      <td>32.00</td>\n",
       "      <td>0</td>\n",
       "    </tr>\n",
       "    <tr>\n",
       "      <th>9334623</th>\n",
       "      <td>27012943</td>\n",
       "      <td>TEKSTİL</td>\n",
       "      <td>250.00</td>\n",
       "      <td>0</td>\n",
       "    </tr>\n",
       "    <tr>\n",
       "      <th>9334624</th>\n",
       "      <td>21896299</td>\n",
       "      <td>GIDA</td>\n",
       "      <td>8.00</td>\n",
       "      <td>0</td>\n",
       "    </tr>\n",
       "  </tbody>\n",
       "</table>\n",
       "<p>9334625 rows × 4 columns</p>\n",
       "</div>"
      ],
      "text/plain": [
       "          Cust_ID           Category  Trans_Amt  Online_Trans\n",
       "0        11861396           RESTORAN      10.57             0\n",
       "1        13667756           RESTORAN      82.00             0\n",
       "2        11024865           RESTORAN      15.00             0\n",
       "3        10922788           RESTORAN      86.00             0\n",
       "4        10335987           RESTORAN      30.00             0\n",
       "...           ...                ...        ...           ...\n",
       "9334620  15623192               GIDA      23.50             0\n",
       "9334621  16382137            TEKSTİL     115.00             0\n",
       "9334622  16808133  HİZMET SEKTÖRLERİ      32.00             0\n",
       "9334623  27012943            TEKSTİL     250.00             0\n",
       "9334624  21896299               GIDA       8.00             0\n",
       "\n",
       "[9334625 rows x 4 columns]"
      ]
     },
     "execution_count": 11,
     "metadata": {},
     "output_type": "execute_result"
    }
   ],
   "source": [
    "trans_sub = transactions[['Cust_ID', 'Category', 'Trans_Amt', 'Online_Trans']]\n",
    "trans_sub"
   ]
  },
  {
   "cell_type": "markdown",
   "id": "54ceb5b4-8a6c-4853-affe-f37183e0cb87",
   "metadata": {},
   "source": [
    "# Columnize categories and assign values to cust_id in index, then join to demographics df"
   ]
  },
  {
   "cell_type": "code",
   "execution_count": 12,
   "id": "701bb357-5f6b-4a5d-b1fb-a81c61ecbefd",
   "metadata": {},
   "outputs": [],
   "source": [
    "trans_sums = trans_sub.groupby(['Cust_ID', 'Category'])['Trans_Amt'].sum().reset_index()\n",
    "trans_cats = trans_sums.pivot(columns='Category', index='Cust_ID', values='Trans_Amt')\n",
    "trans_cats = trans_cats.fillna(0)"
   ]
  },
  {
   "cell_type": "code",
   "execution_count": 13,
   "id": "fa61a814-d966-42ee-b4ec-91ba06e3d920",
   "metadata": {},
   "outputs": [
    {
     "data": {
      "text/html": [
       "<div>\n",
       "<style scoped>\n",
       "    .dataframe tbody tr th:only-of-type {\n",
       "        vertical-align: middle;\n",
       "    }\n",
       "\n",
       "    .dataframe tbody tr th {\n",
       "        vertical-align: top;\n",
       "    }\n",
       "\n",
       "    .dataframe thead th {\n",
       "        text-align: right;\n",
       "    }\n",
       "</style>\n",
       "<table border=\"1\" class=\"dataframe\">\n",
       "  <thead>\n",
       "    <tr style=\"text-align: right;\">\n",
       "      <th>Category</th>\n",
       "      <th>AKARYAKIT</th>\n",
       "      <th>ALIŞVERİŞ MERKEZLERİ</th>\n",
       "      <th>ARABA KİRALAMA</th>\n",
       "      <th>AYAKKABI</th>\n",
       "      <th>BEYAZ EŞYA</th>\n",
       "      <th>DENİZ TAŞITLARI KİRALAMA, SATIŞ, BAKIM</th>\n",
       "      <th>DOĞRUDAN PAZARLAMA-MAIL ORDER</th>\n",
       "      <th>DİĞER</th>\n",
       "      <th>EĞLENCE VE SPOR</th>\n",
       "      <th>EĞİTİM</th>\n",
       "      <th>...</th>\n",
       "      <th>SEYAHAT ACENTALARI - TAŞIMACILIK</th>\n",
       "      <th>SPOR GİYİM</th>\n",
       "      <th>SİGORTA</th>\n",
       "      <th>SİGORTA-MAIL ORDER</th>\n",
       "      <th>SİNEMA TİYATRO SANAT</th>\n",
       "      <th>TEKNOLOJİ</th>\n",
       "      <th>TEKSTİL</th>\n",
       "      <th>TELEKOMÜNİKASYON</th>\n",
       "      <th>YAPI MALZ., HIRDAVAT, NALBURİYE</th>\n",
       "      <th>İÇKİLİ YERLER - KUMARHANE</th>\n",
       "    </tr>\n",
       "    <tr>\n",
       "      <th>Cust_ID</th>\n",
       "      <th></th>\n",
       "      <th></th>\n",
       "      <th></th>\n",
       "      <th></th>\n",
       "      <th></th>\n",
       "      <th></th>\n",
       "      <th></th>\n",
       "      <th></th>\n",
       "      <th></th>\n",
       "      <th></th>\n",
       "      <th></th>\n",
       "      <th></th>\n",
       "      <th></th>\n",
       "      <th></th>\n",
       "      <th></th>\n",
       "      <th></th>\n",
       "      <th></th>\n",
       "      <th></th>\n",
       "      <th></th>\n",
       "      <th></th>\n",
       "      <th></th>\n",
       "    </tr>\n",
       "  </thead>\n",
       "  <tbody>\n",
       "    <tr>\n",
       "      <th>1560993</th>\n",
       "      <td>0.00</td>\n",
       "      <td>0.00</td>\n",
       "      <td>0.0</td>\n",
       "      <td>0.00</td>\n",
       "      <td>0.0</td>\n",
       "      <td>0.0</td>\n",
       "      <td>0.0</td>\n",
       "      <td>0.00</td>\n",
       "      <td>0.0</td>\n",
       "      <td>0.0</td>\n",
       "      <td>...</td>\n",
       "      <td>0.00</td>\n",
       "      <td>0.00</td>\n",
       "      <td>0.0</td>\n",
       "      <td>0.00</td>\n",
       "      <td>0.0</td>\n",
       "      <td>0.00</td>\n",
       "      <td>0.00</td>\n",
       "      <td>0.0</td>\n",
       "      <td>0.00</td>\n",
       "      <td>0.0</td>\n",
       "    </tr>\n",
       "    <tr>\n",
       "      <th>1566513</th>\n",
       "      <td>2170.00</td>\n",
       "      <td>20.05</td>\n",
       "      <td>0.0</td>\n",
       "      <td>0.00</td>\n",
       "      <td>250.0</td>\n",
       "      <td>0.0</td>\n",
       "      <td>0.0</td>\n",
       "      <td>268.50</td>\n",
       "      <td>0.0</td>\n",
       "      <td>0.0</td>\n",
       "      <td>...</td>\n",
       "      <td>0.00</td>\n",
       "      <td>0.00</td>\n",
       "      <td>0.0</td>\n",
       "      <td>858.00</td>\n",
       "      <td>0.0</td>\n",
       "      <td>2238.76</td>\n",
       "      <td>0.00</td>\n",
       "      <td>1375.0</td>\n",
       "      <td>1928.13</td>\n",
       "      <td>0.0</td>\n",
       "    </tr>\n",
       "    <tr>\n",
       "      <th>1567711</th>\n",
       "      <td>375.32</td>\n",
       "      <td>0.00</td>\n",
       "      <td>0.0</td>\n",
       "      <td>558.40</td>\n",
       "      <td>55.0</td>\n",
       "      <td>0.0</td>\n",
       "      <td>0.0</td>\n",
       "      <td>350.92</td>\n",
       "      <td>0.0</td>\n",
       "      <td>0.0</td>\n",
       "      <td>...</td>\n",
       "      <td>716.87</td>\n",
       "      <td>89.90</td>\n",
       "      <td>0.0</td>\n",
       "      <td>465.39</td>\n",
       "      <td>0.0</td>\n",
       "      <td>77.57</td>\n",
       "      <td>5587.22</td>\n",
       "      <td>912.6</td>\n",
       "      <td>64.93</td>\n",
       "      <td>70.0</td>\n",
       "    </tr>\n",
       "    <tr>\n",
       "      <th>1569761</th>\n",
       "      <td>0.00</td>\n",
       "      <td>0.00</td>\n",
       "      <td>0.0</td>\n",
       "      <td>459.87</td>\n",
       "      <td>0.0</td>\n",
       "      <td>0.0</td>\n",
       "      <td>0.0</td>\n",
       "      <td>0.00</td>\n",
       "      <td>0.0</td>\n",
       "      <td>0.0</td>\n",
       "      <td>...</td>\n",
       "      <td>1590.00</td>\n",
       "      <td>59.99</td>\n",
       "      <td>0.0</td>\n",
       "      <td>0.00</td>\n",
       "      <td>0.0</td>\n",
       "      <td>8797.33</td>\n",
       "      <td>1319.34</td>\n",
       "      <td>0.0</td>\n",
       "      <td>3026.21</td>\n",
       "      <td>0.0</td>\n",
       "    </tr>\n",
       "    <tr>\n",
       "      <th>1569938</th>\n",
       "      <td>0.00</td>\n",
       "      <td>0.00</td>\n",
       "      <td>0.0</td>\n",
       "      <td>0.00</td>\n",
       "      <td>0.0</td>\n",
       "      <td>0.0</td>\n",
       "      <td>0.0</td>\n",
       "      <td>0.00</td>\n",
       "      <td>0.0</td>\n",
       "      <td>0.0</td>\n",
       "      <td>...</td>\n",
       "      <td>0.00</td>\n",
       "      <td>0.00</td>\n",
       "      <td>0.0</td>\n",
       "      <td>0.00</td>\n",
       "      <td>0.0</td>\n",
       "      <td>379.00</td>\n",
       "      <td>19.90</td>\n",
       "      <td>840.0</td>\n",
       "      <td>74.85</td>\n",
       "      <td>0.0</td>\n",
       "    </tr>\n",
       "    <tr>\n",
       "      <th>...</th>\n",
       "      <td>...</td>\n",
       "      <td>...</td>\n",
       "      <td>...</td>\n",
       "      <td>...</td>\n",
       "      <td>...</td>\n",
       "      <td>...</td>\n",
       "      <td>...</td>\n",
       "      <td>...</td>\n",
       "      <td>...</td>\n",
       "      <td>...</td>\n",
       "      <td>...</td>\n",
       "      <td>...</td>\n",
       "      <td>...</td>\n",
       "      <td>...</td>\n",
       "      <td>...</td>\n",
       "      <td>...</td>\n",
       "      <td>...</td>\n",
       "      <td>...</td>\n",
       "      <td>...</td>\n",
       "      <td>...</td>\n",
       "      <td>...</td>\n",
       "    </tr>\n",
       "    <tr>\n",
       "      <th>28196275</th>\n",
       "      <td>0.00</td>\n",
       "      <td>0.00</td>\n",
       "      <td>0.0</td>\n",
       "      <td>0.00</td>\n",
       "      <td>0.0</td>\n",
       "      <td>0.0</td>\n",
       "      <td>0.0</td>\n",
       "      <td>0.00</td>\n",
       "      <td>0.0</td>\n",
       "      <td>0.0</td>\n",
       "      <td>...</td>\n",
       "      <td>0.00</td>\n",
       "      <td>0.00</td>\n",
       "      <td>0.0</td>\n",
       "      <td>0.00</td>\n",
       "      <td>0.0</td>\n",
       "      <td>55.25</td>\n",
       "      <td>0.00</td>\n",
       "      <td>0.0</td>\n",
       "      <td>0.00</td>\n",
       "      <td>0.0</td>\n",
       "    </tr>\n",
       "    <tr>\n",
       "      <th>28196280</th>\n",
       "      <td>0.00</td>\n",
       "      <td>0.00</td>\n",
       "      <td>0.0</td>\n",
       "      <td>0.00</td>\n",
       "      <td>0.0</td>\n",
       "      <td>0.0</td>\n",
       "      <td>0.0</td>\n",
       "      <td>0.00</td>\n",
       "      <td>0.0</td>\n",
       "      <td>0.0</td>\n",
       "      <td>...</td>\n",
       "      <td>0.00</td>\n",
       "      <td>0.00</td>\n",
       "      <td>0.0</td>\n",
       "      <td>0.00</td>\n",
       "      <td>0.0</td>\n",
       "      <td>0.00</td>\n",
       "      <td>0.00</td>\n",
       "      <td>0.0</td>\n",
       "      <td>229.90</td>\n",
       "      <td>0.0</td>\n",
       "    </tr>\n",
       "    <tr>\n",
       "      <th>28200516</th>\n",
       "      <td>0.00</td>\n",
       "      <td>0.00</td>\n",
       "      <td>0.0</td>\n",
       "      <td>0.00</td>\n",
       "      <td>0.0</td>\n",
       "      <td>0.0</td>\n",
       "      <td>0.0</td>\n",
       "      <td>0.00</td>\n",
       "      <td>0.0</td>\n",
       "      <td>0.0</td>\n",
       "      <td>...</td>\n",
       "      <td>0.00</td>\n",
       "      <td>0.00</td>\n",
       "      <td>0.0</td>\n",
       "      <td>0.00</td>\n",
       "      <td>0.0</td>\n",
       "      <td>5338.26</td>\n",
       "      <td>0.00</td>\n",
       "      <td>0.0</td>\n",
       "      <td>0.00</td>\n",
       "      <td>0.0</td>\n",
       "    </tr>\n",
       "    <tr>\n",
       "      <th>28203156</th>\n",
       "      <td>541.99</td>\n",
       "      <td>0.00</td>\n",
       "      <td>0.0</td>\n",
       "      <td>0.00</td>\n",
       "      <td>0.0</td>\n",
       "      <td>0.0</td>\n",
       "      <td>0.0</td>\n",
       "      <td>0.00</td>\n",
       "      <td>0.0</td>\n",
       "      <td>0.0</td>\n",
       "      <td>...</td>\n",
       "      <td>0.00</td>\n",
       "      <td>0.00</td>\n",
       "      <td>0.0</td>\n",
       "      <td>0.00</td>\n",
       "      <td>0.0</td>\n",
       "      <td>0.00</td>\n",
       "      <td>0.00</td>\n",
       "      <td>0.0</td>\n",
       "      <td>0.00</td>\n",
       "      <td>0.0</td>\n",
       "    </tr>\n",
       "    <tr>\n",
       "      <th>28204207</th>\n",
       "      <td>0.00</td>\n",
       "      <td>0.00</td>\n",
       "      <td>0.0</td>\n",
       "      <td>0.00</td>\n",
       "      <td>0.0</td>\n",
       "      <td>0.0</td>\n",
       "      <td>0.0</td>\n",
       "      <td>0.00</td>\n",
       "      <td>0.0</td>\n",
       "      <td>0.0</td>\n",
       "      <td>...</td>\n",
       "      <td>121.95</td>\n",
       "      <td>0.00</td>\n",
       "      <td>0.0</td>\n",
       "      <td>0.00</td>\n",
       "      <td>0.0</td>\n",
       "      <td>0.00</td>\n",
       "      <td>0.00</td>\n",
       "      <td>0.0</td>\n",
       "      <td>0.00</td>\n",
       "      <td>0.0</td>\n",
       "    </tr>\n",
       "  </tbody>\n",
       "</table>\n",
       "<p>101864 rows × 35 columns</p>\n",
       "</div>"
      ],
      "text/plain": [
       "Category  AKARYAKIT  ALIŞVERİŞ MERKEZLERİ  ARABA KİRALAMA  AYAKKABI  \\\n",
       "Cust_ID                                                               \n",
       "1560993        0.00                  0.00             0.0      0.00   \n",
       "1566513     2170.00                 20.05             0.0      0.00   \n",
       "1567711      375.32                  0.00             0.0    558.40   \n",
       "1569761        0.00                  0.00             0.0    459.87   \n",
       "1569938        0.00                  0.00             0.0      0.00   \n",
       "...             ...                   ...             ...       ...   \n",
       "28196275       0.00                  0.00             0.0      0.00   \n",
       "28196280       0.00                  0.00             0.0      0.00   \n",
       "28200516       0.00                  0.00             0.0      0.00   \n",
       "28203156     541.99                  0.00             0.0      0.00   \n",
       "28204207       0.00                  0.00             0.0      0.00   \n",
       "\n",
       "Category  BEYAZ EŞYA  DENİZ TAŞITLARI KİRALAMA, SATIŞ, BAKIM  \\\n",
       "Cust_ID                                                        \n",
       "1560993          0.0                                     0.0   \n",
       "1566513        250.0                                     0.0   \n",
       "1567711         55.0                                     0.0   \n",
       "1569761          0.0                                     0.0   \n",
       "1569938          0.0                                     0.0   \n",
       "...              ...                                     ...   \n",
       "28196275         0.0                                     0.0   \n",
       "28196280         0.0                                     0.0   \n",
       "28200516         0.0                                     0.0   \n",
       "28203156         0.0                                     0.0   \n",
       "28204207         0.0                                     0.0   \n",
       "\n",
       "Category  DOĞRUDAN PAZARLAMA-MAIL ORDER   DİĞER  EĞLENCE VE SPOR  EĞİTİM  ...  \\\n",
       "Cust_ID                                                                   ...   \n",
       "1560993                             0.0    0.00              0.0     0.0  ...   \n",
       "1566513                             0.0  268.50              0.0     0.0  ...   \n",
       "1567711                             0.0  350.92              0.0     0.0  ...   \n",
       "1569761                             0.0    0.00              0.0     0.0  ...   \n",
       "1569938                             0.0    0.00              0.0     0.0  ...   \n",
       "...                                 ...     ...              ...     ...  ...   \n",
       "28196275                            0.0    0.00              0.0     0.0  ...   \n",
       "28196280                            0.0    0.00              0.0     0.0  ...   \n",
       "28200516                            0.0    0.00              0.0     0.0  ...   \n",
       "28203156                            0.0    0.00              0.0     0.0  ...   \n",
       "28204207                            0.0    0.00              0.0     0.0  ...   \n",
       "\n",
       "Category  SEYAHAT ACENTALARI - TAŞIMACILIK  SPOR GİYİM  SİGORTA  \\\n",
       "Cust_ID                                                           \n",
       "1560993                               0.00        0.00      0.0   \n",
       "1566513                               0.00        0.00      0.0   \n",
       "1567711                             716.87       89.90      0.0   \n",
       "1569761                            1590.00       59.99      0.0   \n",
       "1569938                               0.00        0.00      0.0   \n",
       "...                                    ...         ...      ...   \n",
       "28196275                              0.00        0.00      0.0   \n",
       "28196280                              0.00        0.00      0.0   \n",
       "28200516                              0.00        0.00      0.0   \n",
       "28203156                              0.00        0.00      0.0   \n",
       "28204207                            121.95        0.00      0.0   \n",
       "\n",
       "Category  SİGORTA-MAIL ORDER  SİNEMA TİYATRO SANAT  TEKNOLOJİ  TEKSTİL  \\\n",
       "Cust_ID                                                                  \n",
       "1560993                 0.00                   0.0       0.00     0.00   \n",
       "1566513               858.00                   0.0    2238.76     0.00   \n",
       "1567711               465.39                   0.0      77.57  5587.22   \n",
       "1569761                 0.00                   0.0    8797.33  1319.34   \n",
       "1569938                 0.00                   0.0     379.00    19.90   \n",
       "...                      ...                   ...        ...      ...   \n",
       "28196275                0.00                   0.0      55.25     0.00   \n",
       "28196280                0.00                   0.0       0.00     0.00   \n",
       "28200516                0.00                   0.0    5338.26     0.00   \n",
       "28203156                0.00                   0.0       0.00     0.00   \n",
       "28204207                0.00                   0.0       0.00     0.00   \n",
       "\n",
       "Category  TELEKOMÜNİKASYON  YAPI MALZ., HIRDAVAT, NALBURİYE  \\\n",
       "Cust_ID                                                       \n",
       "1560993                0.0                             0.00   \n",
       "1566513             1375.0                          1928.13   \n",
       "1567711              912.6                            64.93   \n",
       "1569761                0.0                          3026.21   \n",
       "1569938              840.0                            74.85   \n",
       "...                    ...                              ...   \n",
       "28196275               0.0                             0.00   \n",
       "28196280               0.0                           229.90   \n",
       "28200516               0.0                             0.00   \n",
       "28203156               0.0                             0.00   \n",
       "28204207               0.0                             0.00   \n",
       "\n",
       "Category  İÇKİLİ YERLER - KUMARHANE  \n",
       "Cust_ID                              \n",
       "1560993                         0.0  \n",
       "1566513                         0.0  \n",
       "1567711                        70.0  \n",
       "1569761                         0.0  \n",
       "1569938                         0.0  \n",
       "...                             ...  \n",
       "28196275                        0.0  \n",
       "28196280                        0.0  \n",
       "28200516                        0.0  \n",
       "28203156                        0.0  \n",
       "28204207                        0.0  \n",
       "\n",
       "[101864 rows x 35 columns]"
      ]
     },
     "execution_count": 13,
     "metadata": {},
     "output_type": "execute_result"
    }
   ],
   "source": [
    "trans_cats"
   ]
  },
  {
   "cell_type": "code",
   "execution_count": 14,
   "id": "2f72208b-41fe-4755-9377-bbe791332d96",
   "metadata": {
    "tags": []
   },
   "outputs": [],
   "source": [
    "demo_df = demo_df.join(trans_cats, on='Cust_ID')"
   ]
  },
  {
   "cell_type": "code",
   "execution_count": 15,
   "id": "b2adbd4a-bf27-4ca6-a16f-ade625fc85d4",
   "metadata": {},
   "outputs": [],
   "source": [
    "demo_df.drop('Cust_ID', axis = 1, inplace = True)"
   ]
  },
  {
   "cell_type": "code",
   "execution_count": 16,
   "id": "53f9c9a7-65b9-4079-a354-16be845690e6",
   "metadata": {},
   "outputs": [
    {
     "name": "stdout",
     "output_type": "stream",
     "text": [
      "<class 'pandas.core.frame.DataFrame'>\n",
      "RangeIndex: 103202 entries, 0 to 103201\n",
      "Data columns (total 53 columns):\n",
      " #   Column                                  Non-Null Count   Dtype  \n",
      "---  ------                                  --------------   -----  \n",
      " 0   Cust_Segment                            103202 non-null  object \n",
      " 1   Branch_ID                               103202 non-null  int64  \n",
      " 2   Gender                                  103202 non-null  object \n",
      " 3   Marital_Status                          103202 non-null  object \n",
      " 4   Education_Lv                            103202 non-null  object \n",
      " 5   Job_Status                              103202 non-null  object \n",
      " 6   Income                                  100752 non-null  float64\n",
      " 7   Age                                     103202 non-null  int64  \n",
      " 8   Years_w_Bank                            103197 non-null  float64\n",
      " 9   Work_Region                             103202 non-null  object \n",
      " 10  Home_Region                             103198 non-null  object \n",
      " 11  Branch_Region                           103198 non-null  object \n",
      " 12  1)RISKSIZ                               103202 non-null  float64\n",
      " 13  2)GECIKME 1-15 GUN                      103202 non-null  float64\n",
      " 14  3)GECIKME 16-29 GUN                     103202 non-null  float64\n",
      " 15  4)GECIKME 30-59 GUN                     103202 non-null  float64\n",
      " 16  5)GECIKME 60+ GUN                       103202 non-null  float64\n",
      " 17  6)TAKIP                                 103202 non-null  float64\n",
      " 18  AKARYAKIT                               101857 non-null  float64\n",
      " 19  ALIŞVERİŞ MERKEZLERİ                    101857 non-null  float64\n",
      " 20  ARABA KİRALAMA                          101857 non-null  float64\n",
      " 21  AYAKKABI                                101857 non-null  float64\n",
      " 22  BEYAZ EŞYA                              101857 non-null  float64\n",
      " 23  DENİZ TAŞITLARI KİRALAMA, SATIŞ, BAKIM  101857 non-null  float64\n",
      " 24  DOĞRUDAN PAZARLAMA-MAIL ORDER           101857 non-null  float64\n",
      " 25  DİĞER                                   101857 non-null  float64\n",
      " 26  EĞLENCE VE SPOR                         101857 non-null  float64\n",
      " 27  EĞİTİM                                  101857 non-null  float64\n",
      " 28  GIDA                                    101857 non-null  float64\n",
      " 29  HAVAYOLLARI                             101857 non-null  float64\n",
      " 30  HOTEL                                   101857 non-null  float64\n",
      " 31  HİZMET SEKTÖRLERİ                       101857 non-null  float64\n",
      " 32  KOZMETİK                                101857 non-null  float64\n",
      " 33  KUYUMCU                                 101857 non-null  float64\n",
      " 34  MOBİLYA, DEKORASYON                     101857 non-null  float64\n",
      " 35  MOTOSİKLET                              101857 non-null  float64\n",
      " 36  MUZIK MARKET KIRTASİYE                  101857 non-null  float64\n",
      " 37  NAKİT AVANS                             101857 non-null  float64\n",
      " 38  OPTİK                                   101857 non-null  float64\n",
      " 39  OTOMOTİV                                101857 non-null  float64\n",
      " 40  OYUNCAK                                 101857 non-null  float64\n",
      " 41  RESTORAN                                101857 non-null  float64\n",
      " 42  SAĞLIK                                  101857 non-null  float64\n",
      " 43  SEYAHAT ACENTALARI - TAŞIMACILIK        101857 non-null  float64\n",
      " 44  SPOR GİYİM                              101857 non-null  float64\n",
      " 45  SİGORTA                                 101857 non-null  float64\n",
      " 46  SİGORTA-MAIL ORDER                      101857 non-null  float64\n",
      " 47  SİNEMA TİYATRO SANAT                    101857 non-null  float64\n",
      " 48  TEKNOLOJİ                               101857 non-null  float64\n",
      " 49  TEKSTİL                                 101857 non-null  float64\n",
      " 50  TELEKOMÜNİKASYON                        101857 non-null  float64\n",
      " 51  YAPI MALZ., HIRDAVAT, NALBURİYE         101857 non-null  float64\n",
      " 52  İÇKİLİ YERLER - KUMARHANE               101857 non-null  float64\n",
      "dtypes: float64(43), int64(2), object(8)\n",
      "memory usage: 41.7+ MB\n"
     ]
    }
   ],
   "source": [
    "demo_df.info()"
   ]
  },
  {
   "cell_type": "markdown",
   "id": "0c692fd5-e89c-4c19-81e2-080cacd015a0",
   "metadata": {},
   "source": [
    "## Data Exploration"
   ]
  },
  {
   "cell_type": "code",
   "execution_count": 17,
   "id": "c69a2aab-4285-43c0-90c1-89eed787474f",
   "metadata": {},
   "outputs": [
    {
     "data": {
      "text/plain": [
       "BİREYSEL                       96149\n",
       "BİREBİR                         4000\n",
       "MİKRO                           2830\n",
       "EXI26                            130\n",
       "ÖZEL BANKACILIK MÜŞTERİLERİ       93\n",
       "Name: Cust_Segment, dtype: int64"
      ]
     },
     "execution_count": 17,
     "metadata": {},
     "output_type": "execute_result"
    }
   ],
   "source": [
    "demo_df['Cust_Segment'].value_counts()"
   ]
  },
  {
   "cell_type": "code",
   "execution_count": 18,
   "id": "5d79c3c6-62e4-43ee-a735-33fdc9b42fee",
   "metadata": {},
   "outputs": [
    {
     "data": {
      "text/plain": [
       "EVLİ                65637\n",
       "BEKAR               30877\n",
       "BOŞANMIŞ             4831\n",
       "BİLINMİYOR           1397\n",
       "DUL                   457\n",
       "EVLİLİĞİN İPTALİ        3\n",
       "Name: Marital_Status, dtype: int64"
      ]
     },
     "execution_count": 18,
     "metadata": {},
     "output_type": "execute_result"
    }
   ],
   "source": [
    "demo_df['Marital_Status'].value_counts()"
   ]
  },
  {
   "cell_type": "code",
   "execution_count": 19,
   "id": "92da2e8c-cd08-4f25-b0a7-b1c252d01d81",
   "metadata": {},
   "outputs": [
    {
     "data": {
      "text/plain": [
       "HS_below      64438\n",
       "University    34944\n",
       "Graduate       3737\n",
       "BİLİNMİYOR       83\n",
       "Name: Education_Lv, dtype: int64"
      ]
     },
     "execution_count": 19,
     "metadata": {},
     "output_type": "execute_result"
    }
   ],
   "source": [
    "demo_df['Education_Lv'].value_counts()"
   ]
  },
  {
   "cell_type": "code",
   "execution_count": 20,
   "id": "10ca8aed-3389-4730-8654-0b2b262019e7",
   "metadata": {},
   "outputs": [
    {
     "data": {
      "text/plain": [
       "ÜCRETLİ (ÖZEL)                    78467\n",
       "SERBEST MESLEK                    11056\n",
       "ÜCRETLI (KAMU)                     5342\n",
       "EMEKLİ                             3403\n",
       "ÇALIŞAN EMEKLİ(ÜCRETLİ)            1997\n",
       "EV HANIMI                           785\n",
       "ÇALIŞMIYOR                          705\n",
       "ÇALIŞAN EMEKLİ(SERBEST MESLEK)      591\n",
       "DİĞER                               455\n",
       "TANIMSIZ                            225\n",
       "ÖĞRENCİ                             165\n",
       "YURTDIŞINDA ÇALIŞAN                   8\n",
       "ÇOCUK (18 YAŞIN ALTINDA)              3\n",
       "Name: Job_Status, dtype: int64"
      ]
     },
     "execution_count": 20,
     "metadata": {},
     "output_type": "execute_result"
    }
   ],
   "source": [
    "demo_df['Job_Status'].value_counts()"
   ]
  },
  {
   "cell_type": "code",
   "execution_count": 21,
   "id": "2a22d5ff-31ee-40c2-a041-4ec0c71c65e7",
   "metadata": {},
   "outputs": [
    {
     "data": {
      "text/plain": [
       "MARMARA             100587\n",
       "BLACK SEA              671\n",
       "CENTRAL ANATOLIA       494\n",
       "MEDITERRANEAN          468\n",
       "AEGEAN                 377\n",
       "EASTERN ANATOLIA       333\n",
       "SE ANATOLIA            268\n",
       "Name: Home_Region, dtype: int64"
      ]
     },
     "execution_count": 21,
     "metadata": {},
     "output_type": "execute_result"
    }
   ],
   "source": [
    "demo_df['Home_Region'].value_counts()"
   ]
  },
  {
   "cell_type": "code",
   "execution_count": 22,
   "id": "9a371bf7-ac7b-409f-a567-54a73a73119b",
   "metadata": {},
   "outputs": [
    {
     "data": {
      "text/plain": [
       "MARMARA             101824\n",
       "CENTRAL ANATOLIA       353\n",
       "AEGEAN                 316\n",
       "BLACK SEA              255\n",
       "MEDITERRANEAN          200\n",
       "EASTERN ANATOLIA       144\n",
       "SE ANATOLIA            110\n",
       "Name: Work_Region, dtype: int64"
      ]
     },
     "execution_count": 22,
     "metadata": {},
     "output_type": "execute_result"
    }
   ],
   "source": [
    "demo_df['Work_Region'].value_counts()"
   ]
  },
  {
   "cell_type": "code",
   "execution_count": 23,
   "id": "e3f62cc4-2c48-410f-b922-98a2f520f39a",
   "metadata": {},
   "outputs": [
    {
     "data": {
      "text/plain": [
       "MARMARA             98475\n",
       "BLACK SEA            1118\n",
       "CENTRAL ANATOLIA     1100\n",
       "AEGEAN               1089\n",
       "MEDITERRANEAN         713\n",
       "EASTERN ANATOLIA      380\n",
       "SE ANATOLIA           323\n",
       "Name: Branch_Region, dtype: int64"
      ]
     },
     "execution_count": 23,
     "metadata": {},
     "output_type": "execute_result"
    }
   ],
   "source": [
    "demo_df['Branch_Region'].value_counts()"
   ]
  },
  {
   "cell_type": "code",
   "execution_count": 24,
   "id": "88c1e240-9d28-4398-960f-aa6b1fb4b83b",
   "metadata": {},
   "outputs": [
    {
     "data": {
      "text/plain": [
       "Cust_Segment                                 0\n",
       "Branch_ID                                    0\n",
       "Gender                                       0\n",
       "Marital_Status                               0\n",
       "Education_Lv                                 0\n",
       "Job_Status                                   0\n",
       "Income                                    2450\n",
       "Age                                          0\n",
       "Years_w_Bank                                 5\n",
       "Work_Region                                  0\n",
       "Home_Region                                  4\n",
       "Branch_Region                                4\n",
       "1)RISKSIZ                                    0\n",
       "2)GECIKME 1-15 GUN                           0\n",
       "3)GECIKME 16-29 GUN                          0\n",
       "4)GECIKME 30-59 GUN                          0\n",
       "5)GECIKME 60+ GUN                            0\n",
       "6)TAKIP                                      0\n",
       "AKARYAKIT                                 1345\n",
       "ALIŞVERİŞ MERKEZLERİ                      1345\n",
       "ARABA KİRALAMA                            1345\n",
       "AYAKKABI                                  1345\n",
       "BEYAZ EŞYA                                1345\n",
       "DENİZ TAŞITLARI KİRALAMA, SATIŞ, BAKIM    1345\n",
       "DOĞRUDAN PAZARLAMA-MAIL ORDER             1345\n",
       "DİĞER                                     1345\n",
       "EĞLENCE VE SPOR                           1345\n",
       "EĞİTİM                                    1345\n",
       "GIDA                                      1345\n",
       "HAVAYOLLARI                               1345\n",
       "HOTEL                                     1345\n",
       "HİZMET SEKTÖRLERİ                         1345\n",
       "KOZMETİK                                  1345\n",
       "KUYUMCU                                   1345\n",
       "MOBİLYA, DEKORASYON                       1345\n",
       "MOTOSİKLET                                1345\n",
       "MUZIK MARKET KIRTASİYE                    1345\n",
       "NAKİT AVANS                               1345\n",
       "OPTİK                                     1345\n",
       "OTOMOTİV                                  1345\n",
       "OYUNCAK                                   1345\n",
       "RESTORAN                                  1345\n",
       "SAĞLIK                                    1345\n",
       "SEYAHAT ACENTALARI - TAŞIMACILIK          1345\n",
       "SPOR GİYİM                                1345\n",
       "SİGORTA                                   1345\n",
       "SİGORTA-MAIL ORDER                        1345\n",
       "SİNEMA TİYATRO SANAT                      1345\n",
       "TEKNOLOJİ                                 1345\n",
       "TEKSTİL                                   1345\n",
       "TELEKOMÜNİKASYON                          1345\n",
       "YAPI MALZ., HIRDAVAT, NALBURİYE           1345\n",
       "İÇKİLİ YERLER - KUMARHANE                 1345\n",
       "dtype: int64"
      ]
     },
     "execution_count": 24,
     "metadata": {},
     "output_type": "execute_result"
    }
   ],
   "source": [
    "# check values for nulls\n",
    "demo_df.isnull().sum(axis = 0)"
   ]
  },
  {
   "cell_type": "code",
   "execution_count": 25,
   "id": "5044d069-d8e6-4df5-aa68-d2d7b1f39aa7",
   "metadata": {},
   "outputs": [
    {
     "data": {
      "text/html": [
       "<div>\n",
       "<style scoped>\n",
       "    .dataframe tbody tr th:only-of-type {\n",
       "        vertical-align: middle;\n",
       "    }\n",
       "\n",
       "    .dataframe tbody tr th {\n",
       "        vertical-align: top;\n",
       "    }\n",
       "\n",
       "    .dataframe thead th {\n",
       "        text-align: right;\n",
       "    }\n",
       "</style>\n",
       "<table border=\"1\" class=\"dataframe\">\n",
       "  <thead>\n",
       "    <tr style=\"text-align: right;\">\n",
       "      <th></th>\n",
       "      <th>Cust_Segment</th>\n",
       "      <th>Branch_ID</th>\n",
       "      <th>Gender</th>\n",
       "      <th>Marital_Status</th>\n",
       "      <th>Education_Lv</th>\n",
       "      <th>Job_Status</th>\n",
       "      <th>Income</th>\n",
       "      <th>Age</th>\n",
       "      <th>Years_w_Bank</th>\n",
       "      <th>Work_Region</th>\n",
       "      <th>...</th>\n",
       "      <th>SEYAHAT ACENTALARI - TAŞIMACILIK</th>\n",
       "      <th>SPOR GİYİM</th>\n",
       "      <th>SİGORTA</th>\n",
       "      <th>SİGORTA-MAIL ORDER</th>\n",
       "      <th>SİNEMA TİYATRO SANAT</th>\n",
       "      <th>TEKNOLOJİ</th>\n",
       "      <th>TEKSTİL</th>\n",
       "      <th>TELEKOMÜNİKASYON</th>\n",
       "      <th>YAPI MALZ., HIRDAVAT, NALBURİYE</th>\n",
       "      <th>İÇKİLİ YERLER - KUMARHANE</th>\n",
       "    </tr>\n",
       "  </thead>\n",
       "  <tbody>\n",
       "    <tr>\n",
       "      <th>138</th>\n",
       "      <td>BİREYSEL</td>\n",
       "      <td>4</td>\n",
       "      <td>E</td>\n",
       "      <td>EVLİ</td>\n",
       "      <td>University</td>\n",
       "      <td>ÜCRETLİ (ÖZEL)</td>\n",
       "      <td>1700.0</td>\n",
       "      <td>29</td>\n",
       "      <td>8.0</td>\n",
       "      <td>MARMARA</td>\n",
       "      <td>...</td>\n",
       "      <td>NaN</td>\n",
       "      <td>NaN</td>\n",
       "      <td>NaN</td>\n",
       "      <td>NaN</td>\n",
       "      <td>NaN</td>\n",
       "      <td>NaN</td>\n",
       "      <td>NaN</td>\n",
       "      <td>NaN</td>\n",
       "      <td>NaN</td>\n",
       "      <td>NaN</td>\n",
       "    </tr>\n",
       "    <tr>\n",
       "      <th>300</th>\n",
       "      <td>MİKRO</td>\n",
       "      <td>4</td>\n",
       "      <td>E</td>\n",
       "      <td>BİLINMİYOR</td>\n",
       "      <td>University</td>\n",
       "      <td>SERBEST MESLEK</td>\n",
       "      <td>25000.0</td>\n",
       "      <td>36</td>\n",
       "      <td>13.0</td>\n",
       "      <td>MARMARA</td>\n",
       "      <td>...</td>\n",
       "      <td>NaN</td>\n",
       "      <td>NaN</td>\n",
       "      <td>NaN</td>\n",
       "      <td>NaN</td>\n",
       "      <td>NaN</td>\n",
       "      <td>NaN</td>\n",
       "      <td>NaN</td>\n",
       "      <td>NaN</td>\n",
       "      <td>NaN</td>\n",
       "      <td>NaN</td>\n",
       "    </tr>\n",
       "    <tr>\n",
       "      <th>396</th>\n",
       "      <td>BİREYSEL</td>\n",
       "      <td>4</td>\n",
       "      <td>K</td>\n",
       "      <td>BOŞANMIŞ</td>\n",
       "      <td>HS_below</td>\n",
       "      <td>ÜCRETLİ (ÖZEL)</td>\n",
       "      <td>1215.0</td>\n",
       "      <td>31</td>\n",
       "      <td>3.0</td>\n",
       "      <td>MARMARA</td>\n",
       "      <td>...</td>\n",
       "      <td>NaN</td>\n",
       "      <td>NaN</td>\n",
       "      <td>NaN</td>\n",
       "      <td>NaN</td>\n",
       "      <td>NaN</td>\n",
       "      <td>NaN</td>\n",
       "      <td>NaN</td>\n",
       "      <td>NaN</td>\n",
       "      <td>NaN</td>\n",
       "      <td>NaN</td>\n",
       "    </tr>\n",
       "    <tr>\n",
       "      <th>481</th>\n",
       "      <td>BİREYSEL</td>\n",
       "      <td>7</td>\n",
       "      <td>E</td>\n",
       "      <td>EVLİ</td>\n",
       "      <td>HS_below</td>\n",
       "      <td>ÜCRETLİ (ÖZEL)</td>\n",
       "      <td>2300.0</td>\n",
       "      <td>40</td>\n",
       "      <td>14.0</td>\n",
       "      <td>MARMARA</td>\n",
       "      <td>...</td>\n",
       "      <td>NaN</td>\n",
       "      <td>NaN</td>\n",
       "      <td>NaN</td>\n",
       "      <td>NaN</td>\n",
       "      <td>NaN</td>\n",
       "      <td>NaN</td>\n",
       "      <td>NaN</td>\n",
       "      <td>NaN</td>\n",
       "      <td>NaN</td>\n",
       "      <td>NaN</td>\n",
       "    </tr>\n",
       "    <tr>\n",
       "      <th>614</th>\n",
       "      <td>BİREYSEL</td>\n",
       "      <td>13</td>\n",
       "      <td>E</td>\n",
       "      <td>EVLİ</td>\n",
       "      <td>HS_below</td>\n",
       "      <td>ÜCRETLİ (ÖZEL)</td>\n",
       "      <td>2000.0</td>\n",
       "      <td>38</td>\n",
       "      <td>7.0</td>\n",
       "      <td>MARMARA</td>\n",
       "      <td>...</td>\n",
       "      <td>NaN</td>\n",
       "      <td>NaN</td>\n",
       "      <td>NaN</td>\n",
       "      <td>NaN</td>\n",
       "      <td>NaN</td>\n",
       "      <td>NaN</td>\n",
       "      <td>NaN</td>\n",
       "      <td>NaN</td>\n",
       "      <td>NaN</td>\n",
       "      <td>NaN</td>\n",
       "    </tr>\n",
       "    <tr>\n",
       "      <th>...</th>\n",
       "      <td>...</td>\n",
       "      <td>...</td>\n",
       "      <td>...</td>\n",
       "      <td>...</td>\n",
       "      <td>...</td>\n",
       "      <td>...</td>\n",
       "      <td>...</td>\n",
       "      <td>...</td>\n",
       "      <td>...</td>\n",
       "      <td>...</td>\n",
       "      <td>...</td>\n",
       "      <td>...</td>\n",
       "      <td>...</td>\n",
       "      <td>...</td>\n",
       "      <td>...</td>\n",
       "      <td>...</td>\n",
       "      <td>...</td>\n",
       "      <td>...</td>\n",
       "      <td>...</td>\n",
       "      <td>...</td>\n",
       "      <td>...</td>\n",
       "    </tr>\n",
       "    <tr>\n",
       "      <th>102793</th>\n",
       "      <td>BİREYSEL</td>\n",
       "      <td>685</td>\n",
       "      <td>E</td>\n",
       "      <td>BEKAR</td>\n",
       "      <td>University</td>\n",
       "      <td>ÜCRETLI (KAMU)</td>\n",
       "      <td>0.0</td>\n",
       "      <td>24</td>\n",
       "      <td>1.0</td>\n",
       "      <td>AEGEAN</td>\n",
       "      <td>...</td>\n",
       "      <td>NaN</td>\n",
       "      <td>NaN</td>\n",
       "      <td>NaN</td>\n",
       "      <td>NaN</td>\n",
       "      <td>NaN</td>\n",
       "      <td>NaN</td>\n",
       "      <td>NaN</td>\n",
       "      <td>NaN</td>\n",
       "      <td>NaN</td>\n",
       "      <td>NaN</td>\n",
       "    </tr>\n",
       "    <tr>\n",
       "      <th>102835</th>\n",
       "      <td>BİREYSEL</td>\n",
       "      <td>822</td>\n",
       "      <td>E</td>\n",
       "      <td>EVLİ</td>\n",
       "      <td>HS_below</td>\n",
       "      <td>ÜCRETLİ (ÖZEL)</td>\n",
       "      <td>1500.0</td>\n",
       "      <td>25</td>\n",
       "      <td>6.0</td>\n",
       "      <td>AEGEAN</td>\n",
       "      <td>...</td>\n",
       "      <td>NaN</td>\n",
       "      <td>NaN</td>\n",
       "      <td>NaN</td>\n",
       "      <td>NaN</td>\n",
       "      <td>NaN</td>\n",
       "      <td>NaN</td>\n",
       "      <td>NaN</td>\n",
       "      <td>NaN</td>\n",
       "      <td>NaN</td>\n",
       "      <td>NaN</td>\n",
       "    </tr>\n",
       "    <tr>\n",
       "      <th>103008</th>\n",
       "      <td>BİREYSEL</td>\n",
       "      <td>232</td>\n",
       "      <td>E</td>\n",
       "      <td>BEKAR</td>\n",
       "      <td>University</td>\n",
       "      <td>ÜCRETLİ (ÖZEL)</td>\n",
       "      <td>2500.0</td>\n",
       "      <td>25</td>\n",
       "      <td>4.0</td>\n",
       "      <td>BLACK SEA</td>\n",
       "      <td>...</td>\n",
       "      <td>NaN</td>\n",
       "      <td>NaN</td>\n",
       "      <td>NaN</td>\n",
       "      <td>NaN</td>\n",
       "      <td>NaN</td>\n",
       "      <td>NaN</td>\n",
       "      <td>NaN</td>\n",
       "      <td>NaN</td>\n",
       "      <td>NaN</td>\n",
       "      <td>NaN</td>\n",
       "    </tr>\n",
       "    <tr>\n",
       "      <th>103063</th>\n",
       "      <td>BİREYSEL</td>\n",
       "      <td>532</td>\n",
       "      <td>E</td>\n",
       "      <td>EVLİ</td>\n",
       "      <td>HS_below</td>\n",
       "      <td>ÜCRETLİ (ÖZEL)</td>\n",
       "      <td>1000.0</td>\n",
       "      <td>37</td>\n",
       "      <td>6.0</td>\n",
       "      <td>BLACK SEA</td>\n",
       "      <td>...</td>\n",
       "      <td>NaN</td>\n",
       "      <td>NaN</td>\n",
       "      <td>NaN</td>\n",
       "      <td>NaN</td>\n",
       "      <td>NaN</td>\n",
       "      <td>NaN</td>\n",
       "      <td>NaN</td>\n",
       "      <td>NaN</td>\n",
       "      <td>NaN</td>\n",
       "      <td>NaN</td>\n",
       "    </tr>\n",
       "    <tr>\n",
       "      <th>103136</th>\n",
       "      <td>BİREYSEL</td>\n",
       "      <td>1223</td>\n",
       "      <td>E</td>\n",
       "      <td>EVLİ</td>\n",
       "      <td>University</td>\n",
       "      <td>ÜCRETLİ (ÖZEL)</td>\n",
       "      <td>1000.0</td>\n",
       "      <td>28</td>\n",
       "      <td>3.0</td>\n",
       "      <td>BLACK SEA</td>\n",
       "      <td>...</td>\n",
       "      <td>NaN</td>\n",
       "      <td>NaN</td>\n",
       "      <td>NaN</td>\n",
       "      <td>NaN</td>\n",
       "      <td>NaN</td>\n",
       "      <td>NaN</td>\n",
       "      <td>NaN</td>\n",
       "      <td>NaN</td>\n",
       "      <td>NaN</td>\n",
       "      <td>NaN</td>\n",
       "    </tr>\n",
       "  </tbody>\n",
       "</table>\n",
       "<p>1345 rows × 53 columns</p>\n",
       "</div>"
      ],
      "text/plain": [
       "       Cust_Segment  Branch_ID Gender Marital_Status Education_Lv  \\\n",
       "138        BİREYSEL          4      E           EVLİ   University   \n",
       "300           MİKRO          4      E     BİLINMİYOR   University   \n",
       "396        BİREYSEL          4      K       BOŞANMIŞ     HS_below   \n",
       "481        BİREYSEL          7      E           EVLİ     HS_below   \n",
       "614        BİREYSEL         13      E           EVLİ     HS_below   \n",
       "...             ...        ...    ...            ...          ...   \n",
       "102793     BİREYSEL        685      E          BEKAR   University   \n",
       "102835     BİREYSEL        822      E           EVLİ     HS_below   \n",
       "103008     BİREYSEL        232      E          BEKAR   University   \n",
       "103063     BİREYSEL        532      E           EVLİ     HS_below   \n",
       "103136     BİREYSEL       1223      E           EVLİ   University   \n",
       "\n",
       "            Job_Status   Income  Age  Years_w_Bank Work_Region  ...  \\\n",
       "138     ÜCRETLİ (ÖZEL)   1700.0   29           8.0     MARMARA  ...   \n",
       "300     SERBEST MESLEK  25000.0   36          13.0     MARMARA  ...   \n",
       "396     ÜCRETLİ (ÖZEL)   1215.0   31           3.0     MARMARA  ...   \n",
       "481     ÜCRETLİ (ÖZEL)   2300.0   40          14.0     MARMARA  ...   \n",
       "614     ÜCRETLİ (ÖZEL)   2000.0   38           7.0     MARMARA  ...   \n",
       "...                ...      ...  ...           ...         ...  ...   \n",
       "102793  ÜCRETLI (KAMU)      0.0   24           1.0      AEGEAN  ...   \n",
       "102835  ÜCRETLİ (ÖZEL)   1500.0   25           6.0      AEGEAN  ...   \n",
       "103008  ÜCRETLİ (ÖZEL)   2500.0   25           4.0   BLACK SEA  ...   \n",
       "103063  ÜCRETLİ (ÖZEL)   1000.0   37           6.0   BLACK SEA  ...   \n",
       "103136  ÜCRETLİ (ÖZEL)   1000.0   28           3.0   BLACK SEA  ...   \n",
       "\n",
       "       SEYAHAT ACENTALARI - TAŞIMACILIK SPOR GİYİM  SİGORTA  \\\n",
       "138                                 NaN        NaN      NaN   \n",
       "300                                 NaN        NaN      NaN   \n",
       "396                                 NaN        NaN      NaN   \n",
       "481                                 NaN        NaN      NaN   \n",
       "614                                 NaN        NaN      NaN   \n",
       "...                                 ...        ...      ...   \n",
       "102793                              NaN        NaN      NaN   \n",
       "102835                              NaN        NaN      NaN   \n",
       "103008                              NaN        NaN      NaN   \n",
       "103063                              NaN        NaN      NaN   \n",
       "103136                              NaN        NaN      NaN   \n",
       "\n",
       "        SİGORTA-MAIL ORDER  SİNEMA TİYATRO SANAT  TEKNOLOJİ  TEKSTİL  \\\n",
       "138                    NaN                   NaN        NaN      NaN   \n",
       "300                    NaN                   NaN        NaN      NaN   \n",
       "396                    NaN                   NaN        NaN      NaN   \n",
       "481                    NaN                   NaN        NaN      NaN   \n",
       "614                    NaN                   NaN        NaN      NaN   \n",
       "...                    ...                   ...        ...      ...   \n",
       "102793                 NaN                   NaN        NaN      NaN   \n",
       "102835                 NaN                   NaN        NaN      NaN   \n",
       "103008                 NaN                   NaN        NaN      NaN   \n",
       "103063                 NaN                   NaN        NaN      NaN   \n",
       "103136                 NaN                   NaN        NaN      NaN   \n",
       "\n",
       "        TELEKOMÜNİKASYON  YAPI MALZ., HIRDAVAT, NALBURİYE  \\\n",
       "138                  NaN                              NaN   \n",
       "300                  NaN                              NaN   \n",
       "396                  NaN                              NaN   \n",
       "481                  NaN                              NaN   \n",
       "614                  NaN                              NaN   \n",
       "...                  ...                              ...   \n",
       "102793               NaN                              NaN   \n",
       "102835               NaN                              NaN   \n",
       "103008               NaN                              NaN   \n",
       "103063               NaN                              NaN   \n",
       "103136               NaN                              NaN   \n",
       "\n",
       "        İÇKİLİ YERLER - KUMARHANE  \n",
       "138                           NaN  \n",
       "300                           NaN  \n",
       "396                           NaN  \n",
       "481                           NaN  \n",
       "614                           NaN  \n",
       "...                           ...  \n",
       "102793                        NaN  \n",
       "102835                        NaN  \n",
       "103008                        NaN  \n",
       "103063                        NaN  \n",
       "103136                        NaN  \n",
       "\n",
       "[1345 rows x 53 columns]"
      ]
     },
     "execution_count": 25,
     "metadata": {},
     "output_type": "execute_result"
    }
   ],
   "source": [
    "demo_df[demo_df['DİĞER'].isnull()]\n",
    "#looks like these customers didn't have transaction data or did not use their credit cards"
   ]
  },
  {
   "cell_type": "code",
   "execution_count": 26,
   "id": "46f53ff4-9c8a-41a7-b1a0-01a76bc862e0",
   "metadata": {},
   "outputs": [],
   "source": [
    "demo_df.dropna(subset=[\"AKARYAKIT\"], inplace=True)\n",
    "demo_df.dropna(subset=[\"Home_Region\"], inplace=True)\n",
    "demo_df.dropna(subset=[\"Branch_Region\"], inplace=True)"
   ]
  },
  {
   "cell_type": "code",
   "execution_count": 27,
   "id": "0385b729-fe07-4f71-9d97-a3f29a8ac412",
   "metadata": {},
   "outputs": [],
   "source": [
    "demo_df.drop(demo_df[demo_df['Education_Lv'] == 'BİLİNMİYOR'].index, inplace = True)"
   ]
  },
  {
   "cell_type": "code",
   "execution_count": 28,
   "id": "f16149d0-14b8-4dec-94d4-80381aa67e29",
   "metadata": {},
   "outputs": [
    {
     "data": {
      "text/plain": [
       "HS_below      63506\n",
       "University    34556\n",
       "Graduate       3708\n",
       "Name: Education_Lv, dtype: int64"
      ]
     },
     "execution_count": 28,
     "metadata": {},
     "output_type": "execute_result"
    }
   ],
   "source": [
    "demo_df['Education_Lv'].value_counts()"
   ]
  },
  {
   "cell_type": "code",
   "execution_count": 29,
   "id": "1982df94-96ef-43d1-a591-fe76598eedc7",
   "metadata": {
    "tags": []
   },
   "outputs": [
    {
     "data": {
      "image/png": "[encoded data removed]",
      "text/plain": [
       "<Figure size 1440x1080 with 12 Axes>"
      ]
     },
     "metadata": {
      "needs_background": "light"
     },
     "output_type": "display_data"
    }
   ],
   "source": [
    "# Data Exploration\n",
    "%matplotlib inline\n",
    "import matplotlib.pyplot as plt\n",
    "demo_df.iloc[:,0:19].hist(bins=50, figsize=(20,15))\n",
    "plt.show()"
   ]
  },
  {
   "cell_type": "code",
   "execution_count": 30,
   "id": "ad571efe-154d-49e7-b09b-22a4afe48503",
   "metadata": {},
   "outputs": [
    {
     "data": {
      "image/png": "[encoded data removed]",
      "text/plain": [
       "<Figure size 1440x1080 with 36 Axes>"
      ]
     },
     "metadata": {
      "needs_background": "light"
     },
     "output_type": "display_data"
    }
   ],
   "source": [
    "demo_df.iloc[:,20:].hist(bins=50, figsize=(20,15))\n",
    "plt.show()"
   ]
  },
  {
   "cell_type": "code",
   "execution_count": 31,
   "id": "081dfb93-0c1e-4dcb-9105-113ce45c1486",
   "metadata": {},
   "outputs": [
    {
     "data": {
      "text/plain": [
       "array(['Cust_Segment', 'Branch_ID', 'Gender', 'Marital_Status',\n",
       "       'Education_Lv', 'Job_Status', 'Income', 'Age', 'Years_w_Bank',\n",
       "       'Work_Region', 'Home_Region', 'Branch_Region', '1)RISKSIZ',\n",
       "       '2)GECIKME 1-15 GUN', '3)GECIKME 16-29 GUN', '4)GECIKME 30-59 GUN',\n",
       "       '5)GECIKME 60+ GUN', '6)TAKIP', 'AKARYAKIT',\n",
       "       'ALIŞVERİŞ MERKEZLERİ', 'ARABA KİRALAMA', 'AYAKKABI', 'BEYAZ EŞYA',\n",
       "       'DENİZ TAŞITLARI KİRALAMA, SATIŞ, BAKIM',\n",
       "       'DOĞRUDAN PAZARLAMA-MAIL ORDER', 'DİĞER', 'EĞLENCE VE SPOR',\n",
       "       'EĞİTİM', 'GIDA', 'HAVAYOLLARI', 'HOTEL', 'HİZMET SEKTÖRLERİ',\n",
       "       'KOZMETİK', 'KUYUMCU', 'MOBİLYA, DEKORASYON', 'MOTOSİKLET',\n",
       "       'MUZIK MARKET KIRTASİYE', 'NAKİT AVANS', 'OPTİK', 'OTOMOTİV',\n",
       "       'OYUNCAK', 'RESTORAN', 'SAĞLIK',\n",
       "       'SEYAHAT ACENTALARI - TAŞIMACILIK', 'SPOR GİYİM', 'SİGORTA',\n",
       "       'SİGORTA-MAIL ORDER', 'SİNEMA TİYATRO SANAT', 'TEKNOLOJİ',\n",
       "       'TEKSTİL', 'TELEKOMÜNİKASYON', 'YAPI MALZ., HIRDAVAT, NALBURİYE',\n",
       "       'İÇKİLİ YERLER - KUMARHANE'], dtype=object)"
      ]
     },
     "execution_count": 31,
     "metadata": {},
     "output_type": "execute_result"
    }
   ],
   "source": [
    "demo_df.columns.values"
   ]
  },
  {
   "cell_type": "markdown",
   "id": "be493e42-53bc-4365-aaa2-ee3589922421",
   "metadata": {},
   "source": [
    "## Data Processing"
   ]
  },
  {
   "cell_type": "code",
   "execution_count": 32,
   "id": "4c5c078c-72b6-433c-84b1-55a636e9af44",
   "metadata": {},
   "outputs": [],
   "source": [
    "#train/test split\n",
    "from sklearn.model_selection import train_test_split\n",
    "\n",
    "train_set, test_set = train_test_split(demo_df, test_size = 0.2, random_state = 16)"
   ]
  },
  {
   "cell_type": "code",
   "execution_count": 33,
   "id": "fdd46639-ab89-4eb0-a7b6-b546d7460128",
   "metadata": {},
   "outputs": [],
   "source": [
    "# separate labels from feature matrix\n",
    "train_y = train_set['Education_Lv']\n",
    "train_X = train_set.drop('Education_Lv', axis = 1)\n",
    "test_y = test_set['Education_Lv']\n",
    "test_X = test_set.drop('Education_Lv', axis = 1)"
   ]
  },
  {
   "cell_type": "code",
   "execution_count": 34,
   "id": "999e1bd0-b5fe-4c3a-bb94-9e09a58cf7ed",
   "metadata": {},
   "outputs": [],
   "source": [
    "#pipeline\n",
    "\n",
    "# locations, gender, marital status, education level, job status, penalties\n",
    "# Additional processing with full data set: drop home region branch region nulls\n",
    "\n",
    "from sklearn.pipeline import Pipeline\n",
    "from sklearn.preprocessing import StandardScaler\n",
    "from sklearn.impute import SimpleImputer\n",
    "\n",
    "num_pipeline = Pipeline([\n",
    "('imputer', SimpleImputer(strategy=\"median\")),\n",
    "('std_scaler', StandardScaler())\n",
    "])"
   ]
  },
  {
   "cell_type": "code",
   "execution_count": 35,
   "id": "9eba4432-5abd-4000-a3a3-00bd9186d529",
   "metadata": {},
   "outputs": [],
   "source": [
    "from sklearn.preprocessing import OneHotEncoder\n",
    "\n",
    "cat_pipeline  = Pipeline([\n",
    "('cat_encoder', OneHotEncoder())\n",
    "])"
   ]
  },
  {
   "cell_type": "code",
   "execution_count": 36,
   "id": "0f9ff731-00d0-41dd-8142-c005235e82a0",
   "metadata": {},
   "outputs": [],
   "source": [
    "from sklearn.compose import ColumnTransformer\n",
    "num_attribs = ['Branch_ID', 'Income', 'Age', 'Years_w_Bank', '1)RISKSIZ',\n",
    "       '2)GECIKME 1-15 GUN', '3)GECIKME 16-29 GUN', '4)GECIKME 30-59 GUN',\n",
    "       '5)GECIKME 60+ GUN', '6)TAKIP', 'AKARYAKIT',\n",
    "       'ALIŞVERİŞ MERKEZLERİ', 'ARABA KİRALAMA', 'AYAKKABI', 'BEYAZ EŞYA',\n",
    "       'DENİZ TAŞITLARI KİRALAMA, SATIŞ, BAKIM',\n",
    "       'DOĞRUDAN PAZARLAMA-MAIL ORDER', 'DİĞER', 'EĞLENCE VE SPOR',\n",
    "       'EĞİTİM', 'GIDA', 'HAVAYOLLARI', 'HOTEL', 'HİZMET SEKTÖRLERİ',\n",
    "       'KOZMETİK', 'KUYUMCU', 'MOBİLYA, DEKORASYON', 'MOTOSİKLET',\n",
    "       'MUZIK MARKET KIRTASİYE', 'NAKİT AVANS', 'OPTİK', 'OTOMOTİV',\n",
    "       'OYUNCAK', 'RESTORAN', 'SAĞLIK',\n",
    "       'SEYAHAT ACENTALARI - TAŞIMACILIK', 'SPOR GİYİM', 'SİGORTA',\n",
    "       'SİGORTA-MAIL ORDER', 'SİNEMA TİYATRO SANAT', 'TEKNOLOJİ',\n",
    "       'TEKSTİL', 'TELEKOMÜNİKASYON', 'YAPI MALZ., HIRDAVAT, NALBURİYE',\n",
    "       'İÇKİLİ YERLER - KUMARHANE']\n",
    "cat_attribs = ['Cust_Segment', 'Gender', 'Marital_Status', 'Job_Status', 'Work_Region', 'Home_Region', 'Branch_Region']\n",
    "\n",
    "full_pipeline = ColumnTransformer([\n",
    "(\"num\", num_pipeline, num_attribs),\n",
    "(\"cat\", cat_pipeline, cat_attribs), \n",
    "], remainder = 'passthrough')"
   ]
  },
  {
   "cell_type": "code",
   "execution_count": 37,
   "id": "070fdea7-9339-4793-ab13-b4c01f0e9d06",
   "metadata": {},
   "outputs": [],
   "source": [
    "train_X_prepared = full_pipeline.fit_transform(train_X)"
   ]
  },
  {
   "cell_type": "code",
   "execution_count": 38,
   "id": "28d05c6c-a4ed-4cd3-80ef-32ea2556904e",
   "metadata": {},
   "outputs": [],
   "source": [
    "# train_y = (train_y == 'EVLİ')\n",
    "# test_y_md = (test_y == 'EVLİ')"
   ]
  },
  {
   "cell_type": "code",
   "execution_count": 42,
   "id": "977cf7ad-59ce-4478-b1b1-ef6307ea49d0",
   "metadata": {},
   "outputs": [
    {
     "data": {
      "text/plain": [
       "HS_below      12759\n",
       "University     6818\n",
       "Graduate        777\n",
       "Name: Education_Lv, dtype: int64"
      ]
     },
     "execution_count": 42,
     "metadata": {},
     "output_type": "execute_result"
    }
   ],
   "source": [
    "test_y.value_counts()"
   ]
  },
  {
   "cell_type": "markdown",
   "id": "dcb4657a-75bf-4a99-b811-92e05bc68d6e",
   "metadata": {},
   "source": [
    "# Train Model"
   ]
  },
  {
   "cell_type": "markdown",
   "id": "ddb8be7f-a7b0-428a-bcac-c6a0f5f46d93",
   "metadata": {},
   "source": [
    "## Bagging Classifier"
   ]
  },
  {
   "cell_type": "markdown",
   "id": "33159f7b-3cdc-49b0-a1e6-4e64f16687ef",
   "metadata": {
    "tags": []
   },
   "source": [
    "### Randomized Search"
   ]
  },
  {
   "cell_type": "code",
   "execution_count": 110,
   "id": "177c1ee5-b0ed-445c-88a8-0e1ffe881a3b",
   "metadata": {
    "tags": []
   },
   "outputs": [
    {
     "data": {
      "text/plain": [
       "RandomizedSearchCV(cv=3,\n",
       "                   estimator=BaggingClassifier(base_estimator=DecisionTreeClassifier()),\n",
       "                   n_iter=20,\n",
       "                   param_distributions={'base_estimator__max_depth': <scipy.stats._distn_infrastructure.rv_frozen object at 0x7f888fde70a0>,\n",
       "                                        'base_estimator__max_features': <scipy.stats._distn_infrastructure.rv_frozen object at 0x7f886cbe2160>,\n",
       "                                        'n_estimators': <scipy.stats._distn_infrastructure.rv_frozen object at 0x7f888a8de8b0>},\n",
       "                   random_state=16, scoring='accuracy')"
      ]
     },
     "execution_count": 110,
     "metadata": {},
     "output_type": "execute_result"
    }
   ],
   "source": [
    "from sklearn.model_selection import RandomizedSearchCV\n",
    "from scipy.stats import randint\n",
    "from sklearn.tree import DecisionTreeClassifier\n",
    "from sklearn.ensemble import BaggingClassifier\n",
    "\n",
    "param_distribs = {\n",
    "        'base_estimator__max_depth': randint(low=1, high=10),\n",
    "        'base_estimator__max_features': randint(low=1, high=10),\n",
    "        'n_estimators': randint(low=100, high=300)\n",
    "    }\n",
    "\n",
    "dt_classif = DecisionTreeClassifier() \n",
    "\n",
    "bag_classif = BaggingClassifier(base_estimator = dt_classif)\n",
    "rnd_search_cv = RandomizedSearchCV(bag_classif, param_distributions=param_distribs,\n",
    "                                n_iter=20, cv=3, scoring='accuracy', random_state=16)\n",
    "rnd_search_cv.fit(X_reduced, train_y)"
   ]
  },
  {
   "cell_type": "code",
   "execution_count": 111,
   "id": "55172695-b10b-4902-b6f7-f697223d3e50",
   "metadata": {},
   "outputs": [
    {
     "data": {
      "text/plain": [
       "{'base_estimator__max_depth': 9,\n",
       " 'base_estimator__max_features': 5,\n",
       " 'n_estimators': 227}"
      ]
     },
     "execution_count": 111,
     "metadata": {},
     "output_type": "execute_result"
    }
   ],
   "source": [
    "rnd_search_cv.best_params_"
   ]
  },
  {
   "cell_type": "markdown",
   "id": "83e91061-4a41-475b-8d74-d31525170c41",
   "metadata": {},
   "source": [
    "### Training"
   ]
  },
  {
   "cell_type": "markdown",
   "id": "b79feed2-3e13-438c-878b-340a84cf5e8d",
   "metadata": {},
   "source": [
    "#### All Dimensions"
   ]
  },
  {
   "cell_type": "code",
   "execution_count": 112,
   "id": "421f27b1-4f70-4915-9b80-f3b191d5f5d0",
   "metadata": {},
   "outputs": [
    {
     "data": {
      "text/plain": [
       "0.6929167558313717"
      ]
     },
     "execution_count": 112,
     "metadata": {},
     "output_type": "execute_result"
    }
   ],
   "source": [
    "from sklearn.ensemble import BaggingClassifier\n",
    "from sklearn.tree import DecisionTreeClassifier\n",
    "\n",
    "bag_clf = BaggingClassifier(\n",
    "    DecisionTreeClassifier(max_depth=9, max_features=5), n_estimators=227,\n",
    "    max_samples=100, bootstrap=True, n_jobs=-1,\n",
    "    oob_score=True)\n",
    "\n",
    "bag_clf.fit(train_X_prepared, train_y)\n",
    "\n",
    "bag_clf.oob_score_"
   ]
  },
  {
   "cell_type": "code",
   "execution_count": 113,
   "id": "4086c322-19b3-4f6a-b588-a6c4ba3c2e31",
   "metadata": {},
   "outputs": [],
   "source": [
    "from sklearn.model_selection import cross_val_predict\n",
    "\n",
    "y_train_pred = cross_val_predict(bag_clf, X_reduced, train_y, cv = 3)"
   ]
  },
  {
   "cell_type": "code",
   "execution_count": 114,
   "id": "7298d7a9-0f99-44bf-9107-33875a3613d4",
   "metadata": {},
   "outputs": [
    {
     "data": {
      "text/plain": [
       "0.650117697410657"
      ]
     },
     "execution_count": 114,
     "metadata": {},
     "output_type": "execute_result"
    }
   ],
   "source": [
    "from sklearn.metrics import accuracy_score\n",
    "\n",
    "accuracy_score(train_y, y_train_pred)"
   ]
  },
  {
   "cell_type": "code",
   "execution_count": 115,
   "id": "0199a434-af67-40c1-80e3-e4723c7e66b9",
   "metadata": {},
   "outputs": [
    {
     "data": {
      "text/plain": [
       "array([[   0,   83,  129],\n",
       "       [   0, 2512,  336],\n",
       "       [   0, 1087,  526]])"
      ]
     },
     "execution_count": 115,
     "metadata": {},
     "output_type": "execute_result"
    }
   ],
   "source": [
    "from sklearn.metrics import confusion_matrix\n",
    "\n",
    "confusion_matrix(train_y, y_train_pred)"
   ]
  },
  {
   "cell_type": "code",
   "execution_count": 116,
   "id": "418d392c-3fb9-4af9-8f61-20012bd70980",
   "metadata": {},
   "outputs": [],
   "source": [
    "# How to treat branch_id - should be discrete\n",
    "\n",
    "# download docker container image with components needed\n",
    "# set up conda environment, install rapids\n",
    "# rapids.ai"
   ]
  },
  {
   "cell_type": "markdown",
   "id": "52d136b7-d67f-485e-9709-6fbaa640fa31",
   "metadata": {},
   "source": [
    "#### Reduced Dimensions"
   ]
  },
  {
   "cell_type": "code",
   "execution_count": 117,
   "id": "cc28860f-836b-41a0-980a-bd4488b46dfd",
   "metadata": {},
   "outputs": [
    {
     "data": {
      "text/plain": [
       "0.6543976032527284"
      ]
     },
     "execution_count": 117,
     "metadata": {},
     "output_type": "execute_result"
    }
   ],
   "source": [
    "bag_clf = BaggingClassifier(\n",
    "    DecisionTreeClassifier(max_depth=9, max_features=5), n_estimators=227,\n",
    "    max_samples=100, bootstrap=True, n_jobs=-1,\n",
    "    oob_score=True)\n",
    "\n",
    "bag_clf.fit(X_reduced, train_y)\n",
    "\n",
    "bag_clf.oob_score_"
   ]
  },
  {
   "cell_type": "code",
   "execution_count": 118,
   "id": "6a4c5603-0195-4b4a-89ac-d03d0ce7f9ee",
   "metadata": {},
   "outputs": [
    {
     "data": {
      "text/plain": [
       "0.6556815750053498"
      ]
     },
     "execution_count": 118,
     "metadata": {},
     "output_type": "execute_result"
    }
   ],
   "source": [
    "y_train_pred = cross_val_predict(bag_clf, X_reduced, train_y, cv = 3)\n",
    "\n",
    "accuracy_score(train_y, y_train_pred)"
   ]
  },
  {
   "cell_type": "code",
   "execution_count": 119,
   "id": "b0278038-8998-4629-b74f-f7216954370f",
   "metadata": {},
   "outputs": [
    {
     "data": {
      "text/plain": [
       "array([[   0,   87,  125],\n",
       "       [   0, 2531,  317],\n",
       "       [   0, 1080,  533]])"
      ]
     },
     "execution_count": 119,
     "metadata": {},
     "output_type": "execute_result"
    }
   ],
   "source": [
    "confusion_matrix(train_y, y_train_pred)"
   ]
  },
  {
   "cell_type": "markdown",
   "id": "3a027705-a635-489b-847b-6bb030567e8d",
   "metadata": {},
   "source": [
    "## AdaBoost"
   ]
  },
  {
   "cell_type": "markdown",
   "id": "9b825d56-96f6-4315-8442-23c044288920",
   "metadata": {},
   "source": [
    "### Random Search"
   ]
  },
  {
   "cell_type": "code",
   "execution_count": 120,
   "id": "cbf42ced-2074-4f8f-b521-dd96742e4f2d",
   "metadata": {},
   "outputs": [
    {
     "data": {
      "text/plain": [
       "RandomizedSearchCV(cv=3,\n",
       "                   estimator=AdaBoostClassifier(base_estimator=DecisionTreeClassifier()),\n",
       "                   n_iter=20,\n",
       "                   param_distributions={'base_estimator__max_depth': <scipy.stats._distn_infrastructure.rv_frozen object at 0x7f8885368850>,\n",
       "                                        'base_estimator__max_features': <scipy.stats._distn_infrastructure.rv_frozen object at 0x7f88865aed60>,\n",
       "                                        'learning_rate': [0.1, 0.2, 0.3, 0.4,\n",
       "                                                          0.5],\n",
       "                                        'n_estimators': <scipy.stats._distn_infrastructure.rv_frozen object at 0x7f888d78bf70>},\n",
       "                   random_state=16, scoring='accuracy')"
      ]
     },
     "execution_count": 120,
     "metadata": {},
     "output_type": "execute_result"
    }
   ],
   "source": [
    "from sklearn.model_selection import RandomizedSearchCV\n",
    "from scipy.stats import randint\n",
    "from sklearn.ensemble import AdaBoostClassifier\n",
    "\n",
    "param_distribs = {\n",
    "        'base_estimator__max_depth': randint(low=1, high=10),\n",
    "        'base_estimator__max_features': randint(low=1, high=10),\n",
    "        'n_estimators': randint(low=100, high=500),\n",
    "        'learning_rate': [0.1, 0.2, 0.3, 0.4, 0.5]\n",
    "    }\n",
    "\n",
    "dt_classif = DecisionTreeClassifier() \n",
    "\n",
    "ada_classif = AdaBoostClassifier(base_estimator = dt_classif, algorithm=\"SAMME.R\")\n",
    "rnd_search = RandomizedSearchCV(ada_classif, param_distributions=param_distribs,\n",
    "                                n_iter=20, cv=3, scoring='accuracy', random_state=16)\n",
    "rnd_search.fit(X_reduced, train_y)"
   ]
  },
  {
   "cell_type": "code",
   "execution_count": 121,
   "id": "84e6e1f5-ead7-4de3-b44e-ff472bc3790a",
   "metadata": {
    "tags": []
   },
   "outputs": [
    {
     "data": {
      "text/plain": [
       "{'base_estimator__max_depth': 1,\n",
       " 'base_estimator__max_features': 6,\n",
       " 'learning_rate': 0.5,\n",
       " 'n_estimators': 384}"
      ]
     },
     "execution_count": 121,
     "metadata": {},
     "output_type": "execute_result"
    }
   ],
   "source": [
    "rnd_search.best_params_"
   ]
  },
  {
   "cell_type": "markdown",
   "id": "bdecff8b-5736-44d5-b66d-95842277c2de",
   "metadata": {},
   "source": [
    "### Training"
   ]
  },
  {
   "cell_type": "code",
   "execution_count": 122,
   "id": "185c08f2-5f90-4321-a3d4-fbda3fd04287",
   "metadata": {},
   "outputs": [
    {
     "data": {
      "text/plain": [
       "AdaBoostClassifier(base_estimator=DecisionTreeClassifier(max_depth=1,\n",
       "                                                         max_features=6),\n",
       "                   learning_rate=0.5, n_estimators=384)"
      ]
     },
     "execution_count": 122,
     "metadata": {},
     "output_type": "execute_result"
    }
   ],
   "source": [
    "ada_clf = AdaBoostClassifier(\n",
    "DecisionTreeClassifier(max_depth=1, max_features=6), n_estimators=384,\n",
    "algorithm=\"SAMME.R\", learning_rate=0.5)\n",
    "\n",
    "ada_clf.fit(X_reduced, train_y)"
   ]
  },
  {
   "cell_type": "code",
   "execution_count": 123,
   "id": "32eace3d-3464-416b-a980-9e2f6a15a2d5",
   "metadata": {},
   "outputs": [],
   "source": [
    "from sklearn.model_selection import cross_val_predict\n",
    "\n",
    "y_train_pred = cross_val_predict(ada_clf, X_reduced, train_y, cv = 3)"
   ]
  },
  {
   "cell_type": "code",
   "execution_count": 124,
   "id": "b180a451-1236-4f72-9d5a-86296205c595",
   "metadata": {},
   "outputs": [
    {
     "data": {
      "text/plain": [
       "array([[  16,   47,  149],\n",
       "       [  12, 2379,  457],\n",
       "       [  46,  826,  741]])"
      ]
     },
     "execution_count": 124,
     "metadata": {},
     "output_type": "execute_result"
    }
   ],
   "source": [
    "confusion_matrix(train_y, y_train_pred)"
   ]
  },
  {
   "cell_type": "code",
   "execution_count": 125,
   "id": "6aa61a68-7b90-4d35-b7a2-4f42565ef0cb",
   "metadata": {},
   "outputs": [
    {
     "data": {
      "text/plain": [
       "0.6710892360368071"
      ]
     },
     "execution_count": 125,
     "metadata": {},
     "output_type": "execute_result"
    }
   ],
   "source": [
    "accuracy_score(train_y, y_train_pred)"
   ]
  },
  {
   "cell_type": "markdown",
   "id": "a5593a67-edcb-4039-ac03-46f495d61f1b",
   "metadata": {},
   "source": [
    "## Gradient Boost"
   ]
  },
  {
   "cell_type": "markdown",
   "id": "65a0eb22-2afa-496a-9e6f-95938d010c86",
   "metadata": {},
   "source": [
    "### Random Search"
   ]
  },
  {
   "cell_type": "code",
   "execution_count": 126,
   "id": "3fe7fc8a-8fcb-4503-a5d2-09612f45b2ca",
   "metadata": {},
   "outputs": [
    {
     "data": {
      "text/plain": [
       "RandomizedSearchCV(cv=3, estimator=GradientBoostingClassifier(),\n",
       "                   param_distributions={'learning_rate': [0.1, 0.2, 0.3, 0.4,\n",
       "                                                          0.5],\n",
       "                                        'max_depth': <scipy.stats._distn_infrastructure.rv_frozen object at 0x7f88853654f0>,\n",
       "                                        'max_features': <scipy.stats._distn_infrastructure.rv_frozen object at 0x7f8885365760>,\n",
       "                                        'n_estimators': <scipy.stats._distn_infrastructure.rv_frozen object at 0x7f88859f5340>},\n",
       "                   random_state=16, scoring='accuracy')"
      ]
     },
     "execution_count": 126,
     "metadata": {},
     "output_type": "execute_result"
    }
   ],
   "source": [
    "from sklearn.model_selection import RandomizedSearchCV\n",
    "from sklearn.ensemble import GradientBoostingClassifier\n",
    "from scipy.stats import randint\n",
    "\n",
    "param_distribs = {\n",
    "        'max_depth': randint(low=1, high=10),\n",
    "        'max_features': randint(low=1, high=10),\n",
    "        'n_estimators': randint(low=100, high=500),\n",
    "        'learning_rate': [0.1, 0.2, 0.3, 0.4, 0.5]\n",
    "    }\n",
    "\n",
    "\n",
    "gb_classif = GradientBoostingClassifier()\n",
    "rd_search = RandomizedSearchCV(gb_classif, param_distributions=param_distribs,\n",
    "                                n_iter=10, cv=3, scoring='accuracy', random_state=16)\n",
    "rd_search.fit(train_X_prepared, train_y)"
   ]
  },
  {
   "cell_type": "code",
   "execution_count": 127,
   "id": "c0cab65b-6b49-4331-8a7d-50e578f001fa",
   "metadata": {},
   "outputs": [
    {
     "data": {
      "text/plain": [
       "{'learning_rate': 0.1, 'max_depth': 1, 'max_features': 7, 'n_estimators': 377}"
      ]
     },
     "execution_count": 127,
     "metadata": {},
     "output_type": "execute_result"
    }
   ],
   "source": [
    "rd_search.best_params_"
   ]
  },
  {
   "cell_type": "markdown",
   "id": "ea3d5b3c-1888-412f-bbbc-39781fc7ffe2",
   "metadata": {},
   "source": [
    "### Training"
   ]
  },
  {
   "cell_type": "code",
   "execution_count": 128,
   "id": "acd4287f-8e39-49fd-8542-fccb08fe0d6d",
   "metadata": {
    "tags": []
   },
   "outputs": [
    {
     "data": {
      "text/plain": [
       "GradientBoostingClassifier(max_depth=1, max_features=7, n_estimators=377)"
      ]
     },
     "execution_count": 128,
     "metadata": {},
     "output_type": "execute_result"
    }
   ],
   "source": [
    "gbrt = GradientBoostingClassifier(max_depth=1, max_features=7, n_estimators=377, learning_rate=0.1)\n",
    "gbrt.fit(train_X_prepared, train_y)"
   ]
  },
  {
   "cell_type": "code",
   "execution_count": 129,
   "id": "7dffb8bc-e04f-4778-9fc7-07d8e518096d",
   "metadata": {},
   "outputs": [],
   "source": [
    "from sklearn.model_selection import cross_val_predict\n",
    "\n",
    "y_train_pred = cross_val_predict(gbrt, train_X_prepared, train_y, cv = 3)"
   ]
  },
  {
   "cell_type": "code",
   "execution_count": 130,
   "id": "f3d7aa5e-08ef-4460-8bb7-0b6eb2d8778f",
   "metadata": {
    "tags": []
   },
   "outputs": [
    {
     "data": {
      "text/plain": [
       "0.7250160496469078"
      ]
     },
     "execution_count": 130,
     "metadata": {},
     "output_type": "execute_result"
    }
   ],
   "source": [
    "from sklearn.metrics import accuracy_score\n",
    "\n",
    "accuracy_score(train_y, y_train_pred)"
   ]
  },
  {
   "cell_type": "code",
   "execution_count": 131,
   "id": "f9e55f68-ecfa-4d19-8859-28d3db2626f9",
   "metadata": {},
   "outputs": [
    {
     "data": {
      "text/plain": [
       "array([[  16,   27,  169],\n",
       "       [   2, 2523,  323],\n",
       "       [  17,  747,  849]])"
      ]
     },
     "execution_count": 131,
     "metadata": {},
     "output_type": "execute_result"
    }
   ],
   "source": [
    "from sklearn.metrics import confusion_matrix\n",
    "\n",
    "confusion_matrix(train_y, y_train_pred)"
   ]
  },
  {
   "cell_type": "code",
   "execution_count": 132,
   "id": "0c587257-b5f4-47f4-8fd1-567b7b4bdd0e",
   "metadata": {},
   "outputs": [
    {
     "data": {
      "text/plain": [
       "array([[  16,   27,  169],\n",
       "       [   2, 2523,  323],\n",
       "       [  17,  747,  849]])"
      ]
     },
     "execution_count": 132,
     "metadata": {},
     "output_type": "execute_result"
    }
   ],
   "source": [
    "confusion_matrix(train_y, y_train_pred)"
   ]
  },
  {
   "cell_type": "markdown",
   "id": "60b1da2e-a9dd-4c3a-90a7-03d4f3b9e64f",
   "metadata": {},
   "source": [
    "## Neural Network"
   ]
  },
  {
   "cell_type": "code",
   "execution_count": 71,
   "id": "82a76308-5336-4a82-b6bf-2dc059c1dd7f",
   "metadata": {},
   "outputs": [
    {
     "name": "stderr",
     "output_type": "stream",
     "text": [
      "2022-05-09 16:01:25.004011: W tensorflow/stream_executor/platform/default/dso_loader.cc:64] Could not load dynamic library 'libcudart.so.11.0'; dlerror: libcudart.so.11.0: cannot open shared object file: No such file or directory\n",
      "2022-05-09 16:01:25.004039: I tensorflow/stream_executor/cuda/cudart_stub.cc:29] Ignore above cudart dlerror if you do not have a GPU set up on your machine.\n"
     ]
    }
   ],
   "source": [
    "# import tensorflow as tf\n",
    "# from tensorflow import keras"
   ]
  },
  {
   "cell_type": "code",
   "execution_count": 84,
   "id": "a1404fec-471d-47c8-87d0-d02b04c6a4a7",
   "metadata": {
    "collapsed": true,
    "jupyter": {
     "outputs_hidden": true
    },
    "tags": []
   },
   "outputs": [
    {
     "name": "stdout",
     "output_type": "stream",
     "text": [
      "Model: \"model_4\"\n",
      "_________________________________________________________________\n",
      " Layer (type)                Output Shape              Param #   \n",
      "=================================================================\n",
      " input_5 (InputLayer)        [(None, 94)]              0         \n",
      "                                                                 \n",
      " dense_13 (Dense)            (None, 25)                2375      \n",
      "                                                                 \n",
      " dense_14 (Dense)            (None, 25)                650       \n",
      "                                                                 \n",
      " dense_15 (Dense)            (None, 25)                650       \n",
      "                                                                 \n",
      " dense_16 (Dense)            (None, 1)                 26        \n",
      "                                                                 \n",
      "=================================================================\n",
      "Total params: 3,701\n",
      "Trainable params: 3,701\n",
      "Non-trainable params: 0\n",
      "_________________________________________________________________\n"
     ]
    }
   ],
   "source": [
    "# input_ = keras.layers.Input(shape=train_X_prepared.shape[1:])\n",
    "# hidden1 = keras.layers.Dense(25, activation=\"relu\")(input_)\n",
    "# hidden2 = keras.layers.Dense(25, activation=\"relu\")(hidden1)\n",
    "# hidden3 = keras.layers.Dense(25, activation=\"relu\")(hidden2)\n",
    "# output = keras.layers.Dense(1)(hidden3)\n",
    "# model = keras.models.Model(inputs=[input_], outputs=[output])\n",
    "# model.summary()"
   ]
  },
  {
   "cell_type": "code",
   "execution_count": 85,
   "id": "3a647735-db3c-472e-ae23-2fe08b5d702c",
   "metadata": {},
   "outputs": [],
   "source": [
    "# model.compile(loss=\"binary_crossentropy\",\n",
    "# metrics=[\"accuracy\"])"
   ]
  },
  {
   "cell_type": "code",
   "execution_count": 86,
   "id": "d203da55-eea3-412c-9779-a0ec57c0369e",
   "metadata": {
    "collapsed": true,
    "jupyter": {
     "outputs_hidden": true
    },
    "tags": []
   },
   "outputs": [
    {
     "name": "stdout",
     "output_type": "stream",
     "text": [
      "Epoch 1/30\n",
      "192/192 [==============================] - 1s 4ms/step - loss: 0.8057 - accuracy: 0.6766 - val_loss: 0.7595 - val_accuracy: 0.7379\n",
      "Epoch 2/30\n",
      "192/192 [==============================] - 0s 2ms/step - loss: 0.6921 - accuracy: 0.7436 - val_loss: 0.7222 - val_accuracy: 0.7648\n",
      "Epoch 3/30\n",
      "192/192 [==============================] - 0s 2ms/step - loss: 0.6579 - accuracy: 0.7586 - val_loss: 0.7019 - val_accuracy: 0.7741\n",
      "Epoch 4/30\n",
      "192/192 [==============================] - 0s 2ms/step - loss: 0.6522 - accuracy: 0.7620 - val_loss: 0.6801 - val_accuracy: 0.7741\n",
      "Epoch 5/30\n",
      "192/192 [==============================] - 0s 2ms/step - loss: 0.6255 - accuracy: 0.7674 - val_loss: 0.7814 - val_accuracy: 0.7555\n",
      "Epoch 6/30\n",
      "192/192 [==============================] - 0s 2ms/step - loss: 0.6201 - accuracy: 0.7720 - val_loss: 0.7069 - val_accuracy: 0.7751\n",
      "Epoch 7/30\n",
      "192/192 [==============================] - 0s 2ms/step - loss: 0.6279 - accuracy: 0.7753 - val_loss: 0.7155 - val_accuracy: 0.7741\n",
      "Epoch 8/30\n",
      "192/192 [==============================] - 0s 2ms/step - loss: 0.6126 - accuracy: 0.7787 - val_loss: 0.6834 - val_accuracy: 0.7790\n",
      "Epoch 9/30\n",
      "192/192 [==============================] - 0s 2ms/step - loss: 0.6000 - accuracy: 0.7820 - val_loss: 0.8197 - val_accuracy: 0.7707\n",
      "Epoch 10/30\n",
      "192/192 [==============================] - 0s 2ms/step - loss: 0.5956 - accuracy: 0.7893 - val_loss: 0.6874 - val_accuracy: 0.7727\n",
      "Epoch 11/30\n",
      "192/192 [==============================] - 0s 2ms/step - loss: 0.5980 - accuracy: 0.7810 - val_loss: 0.7071 - val_accuracy: 0.7741\n",
      "Epoch 12/30\n",
      "192/192 [==============================] - 0s 2ms/step - loss: 0.5880 - accuracy: 0.7903 - val_loss: 0.8201 - val_accuracy: 0.7668\n",
      "Epoch 13/30\n",
      "192/192 [==============================] - 0s 2ms/step - loss: 0.5762 - accuracy: 0.7888 - val_loss: 0.7539 - val_accuracy: 0.7761\n",
      "Epoch 14/30\n",
      "192/192 [==============================] - 0s 2ms/step - loss: 0.5846 - accuracy: 0.7921 - val_loss: 0.7847 - val_accuracy: 0.7771\n",
      "Epoch 15/30\n",
      "192/192 [==============================] - 0s 2ms/step - loss: 0.5698 - accuracy: 0.7963 - val_loss: 0.7623 - val_accuracy: 0.7648\n",
      "Epoch 16/30\n",
      "192/192 [==============================] - 0s 2ms/step - loss: 0.5639 - accuracy: 0.7959 - val_loss: 0.8482 - val_accuracy: 0.7619\n",
      "Epoch 17/30\n",
      "192/192 [==============================] - 0s 2ms/step - loss: 0.5691 - accuracy: 0.7944 - val_loss: 0.7686 - val_accuracy: 0.7717\n",
      "Epoch 18/30\n",
      "192/192 [==============================] - 0s 2ms/step - loss: 0.5509 - accuracy: 0.7988 - val_loss: 0.7715 - val_accuracy: 0.7702\n",
      "Epoch 19/30\n",
      "192/192 [==============================] - 0s 2ms/step - loss: 0.5544 - accuracy: 0.7994 - val_loss: 0.7997 - val_accuracy: 0.7702\n",
      "Epoch 20/30\n",
      "192/192 [==============================] - 0s 2ms/step - loss: 0.5374 - accuracy: 0.8024 - val_loss: 0.8735 - val_accuracy: 0.7727\n",
      "Epoch 21/30\n",
      "192/192 [==============================] - 0s 2ms/step - loss: 0.5566 - accuracy: 0.8008 - val_loss: 0.8792 - val_accuracy: 0.7776\n",
      "Epoch 22/30\n",
      "192/192 [==============================] - 0s 2ms/step - loss: 0.5324 - accuracy: 0.8048 - val_loss: 0.8281 - val_accuracy: 0.7658\n",
      "Epoch 23/30\n",
      "192/192 [==============================] - 0s 2ms/step - loss: 0.5449 - accuracy: 0.8088 - val_loss: 0.8502 - val_accuracy: 0.7722\n",
      "Epoch 24/30\n",
      "192/192 [==============================] - 0s 2ms/step - loss: 0.5561 - accuracy: 0.8114 - val_loss: 0.9110 - val_accuracy: 0.7663\n",
      "Epoch 25/30\n",
      "192/192 [==============================] - 0s 2ms/step - loss: 0.5332 - accuracy: 0.8088 - val_loss: 0.9328 - val_accuracy: 0.7653\n",
      "Epoch 26/30\n",
      "192/192 [==============================] - 0s 2ms/step - loss: 0.5773 - accuracy: 0.8086 - val_loss: 0.9270 - val_accuracy: 0.7678\n",
      "Epoch 27/30\n",
      "192/192 [==============================] - 0s 2ms/step - loss: 0.5414 - accuracy: 0.8120 - val_loss: 0.9021 - val_accuracy: 0.7604\n",
      "Epoch 28/30\n",
      "192/192 [==============================] - 0s 2ms/step - loss: 0.5656 - accuracy: 0.8102 - val_loss: 0.9799 - val_accuracy: 0.7614\n",
      "Epoch 29/30\n",
      "192/192 [==============================] - 0s 2ms/step - loss: 0.5487 - accuracy: 0.8112 - val_loss: 1.0038 - val_accuracy: 0.7634\n",
      "Epoch 30/30\n",
      "192/192 [==============================] - 0s 2ms/step - loss: 0.5606 - accuracy: 0.8151 - val_loss: 1.0873 - val_accuracy: 0.7266\n"
     ]
    }
   ],
   "source": [
    "# history = model.fit(X_train, y_train, epochs=30,\n",
    "# validation_data=(X_val, y_val))"
   ]
  },
  {
   "cell_type": "markdown",
   "id": "7ade46dc-925e-4857-8214-67f1fbaa8261",
   "metadata": {},
   "source": [
    "## Dimensionality Reduction"
   ]
  },
  {
   "cell_type": "code",
   "execution_count": 39,
   "id": "95b26d46-6846-434a-8e80-9564130daff9",
   "metadata": {},
   "outputs": [],
   "source": [
    "#pca\n",
    "from sklearn.decomposition import TruncatedSVD\n",
    "\n",
    "TruncSVD = TruncatedSVD(n_components = 91)\n",
    "TruncSVD.fit(train_X_prepared)\n",
    "cumsum = np.cumsum(TruncSVD.explained_variance_ratio_)\n",
    "d = np.argmax(cumsum >= 0.90) + 1"
   ]
  },
  {
   "cell_type": "code",
   "execution_count": 40,
   "id": "f1f1ba42-b00d-4e6a-b799-428949a79a15",
   "metadata": {},
   "outputs": [
    {
     "data": {
      "text/plain": [
       "40"
      ]
     },
     "execution_count": 40,
     "metadata": {},
     "output_type": "execute_result"
    }
   ],
   "source": [
    "d"
   ]
  },
  {
   "cell_type": "code",
   "execution_count": 41,
   "id": "910654c5-109f-4252-95b0-d934baa20928",
   "metadata": {},
   "outputs": [
    {
     "data": {
      "image/png": "[encoded data removed]",
      "text/plain": [
       "<Figure size 432x288 with 1 Axes>"
      ]
     },
     "metadata": {
      "needs_background": "light"
     },
     "output_type": "display_data"
    }
   ],
   "source": [
    "plt.figure(figsize=(6,4))\n",
    "plt.plot(cumsum, linewidth=3)\n",
    "plt.axis([0, 94, 0, 1])\n",
    "plt.xlabel(\"Dimensions\")\n",
    "plt.ylabel(\"Explained Variance\")\n",
    "plt.plot([d, d], [0, 0.90], \"k:\")\n",
    "plt.plot([0, d], [0.90, 0.90], \"k:\")\n",
    "plt.plot(d, 0.90, \"ko\")\n",
    "\n",
    "plt.grid(True)\n",
    "# save_fig(\"explained_variance_plot\")\n",
    "plt.show()\n",
    "\n",
    "# try 8 dimensions"
   ]
  },
  {
   "cell_type": "code",
   "execution_count": 42,
   "id": "464a7690-33aa-4ce3-95a8-311620b2c9d8",
   "metadata": {},
   "outputs": [],
   "source": [
    "TruncSVD = TruncatedSVD(n_components=40)\n",
    "X_reduced = TruncSVD.fit_transform(train_X_prepared)"
   ]
  },
  {
   "cell_type": "markdown",
   "id": "2dbe4f44-7608-4993-ae2c-4c5fbd3105ee",
   "metadata": {
    "tags": []
   },
   "source": [
    "## Train Model"
   ]
  },
  {
   "cell_type": "markdown",
   "id": "03463bb8-d670-44ef-915d-2fe5be56a6a3",
   "metadata": {},
   "source": [
    "## Bagging Classifier"
   ]
  },
  {
   "cell_type": "code",
   "execution_count": 43,
   "id": "c3be8dbf-171d-4870-934f-f6b14282c26b",
   "metadata": {},
   "outputs": [
    {
     "data": {
      "text/plain": [
       "0.6548712783728015"
      ]
     },
     "execution_count": 43,
     "metadata": {},
     "output_type": "execute_result"
    }
   ],
   "source": [
    "from sklearn.ensemble import BaggingClassifier\n",
    "from sklearn.tree import DecisionTreeClassifier\n",
    "\n",
    "bag_clf = BaggingClassifier(\n",
    "    DecisionTreeClassifier(max_depth=8, max_features=6), n_estimators=115,\n",
    "    max_samples=100, bootstrap=True, n_jobs=-1,\n",
    "    oob_score=True)\n",
    "\n",
    "bag_clf.fit(X_reduced, train_y)\n",
    "\n",
    "bag_clf.oob_score_"
   ]
  },
  {
   "cell_type": "code",
   "execution_count": 44,
   "id": "3573da98-2798-4b59-880b-4ae0ddc767b7",
   "metadata": {},
   "outputs": [],
   "source": [
    "y_train_pred = bag_clf.predict(X_reduced)"
   ]
  },
  {
   "cell_type": "code",
   "execution_count": 45,
   "id": "da3b779d-4167-4bf6-975d-60ece672c3d7",
   "metadata": {},
   "outputs": [
    {
     "data": {
      "text/plain": [
       "0.6557679080279061"
      ]
     },
     "execution_count": 45,
     "metadata": {},
     "output_type": "execute_result"
    }
   ],
   "source": [
    "from sklearn.metrics import accuracy_score\n",
    "\n",
    "accuracy_score(train_y, y_train_pred)"
   ]
  },
  {
   "cell_type": "code",
   "execution_count": 46,
   "id": "a480c36e-6349-4e8b-b528-546587519aec",
   "metadata": {},
   "outputs": [
    {
     "data": {
      "text/plain": [
       "array([[    0,  1377,  1554],\n",
       "       [    0, 44408,  6339],\n",
       "       [    0, 18756,  8982]])"
      ]
     },
     "execution_count": 46,
     "metadata": {},
     "output_type": "execute_result"
    }
   ],
   "source": [
    "from sklearn.metrics import confusion_matrix\n",
    "\n",
    "confusion_matrix(train_y, y_train_pred)"
   ]
  },
  {
   "cell_type": "code",
   "execution_count": 47,
   "id": "47e67302-fcc2-4497-bbd8-5df2d1f25058",
   "metadata": {},
   "outputs": [
    {
     "data": {
      "text/plain": [
       "[(0.03896996671838873, 'Cust_Segment'),\n",
       " (0.035828106935541656, 'Marital_Status'),\n",
       " (0.03568190526786721, 'BEYAZ EŞYA'),\n",
       " (0.0317748195089446, 'OTOMOTİV'),\n",
       " (0.031731182590378465, 'MOBİLYA, DEKORASYON'),\n",
       " (0.029609881283737906, 'Branch_ID'),\n",
       " (0.02950190365793498, '1)RISKSIZ'),\n",
       " (0.02830345654579289, 'OPTİK'),\n",
       " (0.02773623072344128, 'AKARYAKIT'),\n",
       " (0.027489568762308625, 'Job_Status')]"
      ]
     },
     "execution_count": 47,
     "metadata": {},
     "output_type": "execute_result"
    }
   ],
   "source": [
    "feature_importances = np.mean([tree.feature_importances_ for tree in bag_clf.estimators_], axis=0)\n",
    "sorted(zip(feature_importances, demo_df), reverse=True)[0:10]"
   ]
  },
  {
   "cell_type": "markdown",
   "id": "95f69e43-d5fd-44a2-9b46-62a3c010f043",
   "metadata": {},
   "source": [
    "## AdaBoost"
   ]
  },
  {
   "cell_type": "code",
   "execution_count": 48,
   "id": "15fc63f3-ea4e-4db4-bea7-85f2a953adda",
   "metadata": {},
   "outputs": [
    {
     "data": {
      "text/plain": [
       "AdaBoostClassifier(base_estimator=DecisionTreeClassifier(max_depth=2,\n",
       "                                                         max_features=8),\n",
       "                   learning_rate=0.2, n_estimators=472)"
      ]
     },
     "execution_count": 48,
     "metadata": {},
     "output_type": "execute_result"
    }
   ],
   "source": [
    "from sklearn.ensemble import AdaBoostClassifier\n",
    "\n",
    "ada_clf = AdaBoostClassifier(\n",
    "DecisionTreeClassifier(max_depth=2, max_features=8), n_estimators=472,\n",
    "algorithm=\"SAMME.R\", learning_rate=0.2)\n",
    "\n",
    "ada_clf.fit(X_reduced, train_y)"
   ]
  },
  {
   "cell_type": "code",
   "execution_count": 49,
   "id": "281e14f1-33fa-4097-9c17-d09b0a974912",
   "metadata": {},
   "outputs": [],
   "source": [
    "from sklearn.model_selection import cross_val_predict\n",
    "\n",
    "y_train_pred = ada_clf.predict(X_reduced)"
   ]
  },
  {
   "cell_type": "code",
   "execution_count": 50,
   "id": "b7f669cb-041e-4e7f-be27-86cd84e785d0",
   "metadata": {},
   "outputs": [
    {
     "data": {
      "text/plain": [
       "array([[   82,   992,  1857],\n",
       "       [    7, 45499,  5241],\n",
       "       [   80, 16496, 11162]])"
      ]
     },
     "execution_count": 50,
     "metadata": {},
     "output_type": "execute_result"
    }
   ],
   "source": [
    "confusion_matrix(train_y, y_train_pred)"
   ]
  },
  {
   "cell_type": "code",
   "execution_count": 51,
   "id": "861d2aaf-0f01-4623-bbdf-17ace4111e8f",
   "metadata": {},
   "outputs": [
    {
     "data": {
      "text/plain": [
       "0.6969514591726442"
      ]
     },
     "execution_count": 51,
     "metadata": {},
     "output_type": "execute_result"
    }
   ],
   "source": [
    "from sklearn.metrics import accuracy_score\n",
    "\n",
    "accuracy_score(train_y, y_train_pred)"
   ]
  },
  {
   "cell_type": "code",
   "execution_count": 52,
   "id": "b80a4740-04ab-46ee-bb22-2a045760bf31",
   "metadata": {},
   "outputs": [
    {
     "data": {
      "text/plain": [
       "[(0.0731719074698497, 'Branch_ID'),\n",
       " (0.048435898794883185, 'Cust_Segment'),\n",
       " (0.046879959257067914, 'Gender'),\n",
       " (0.04319130073732418, 'Education_Lv'),\n",
       " (0.04242275132607821, 'Marital_Status'),\n",
       " (0.040941439568327076, 'OTOMOTİV'),\n",
       " (0.037815037202319275, 'ARABA KİRALAMA'),\n",
       " (0.03772561145685839, 'ALIŞVERİŞ MERKEZLERİ'),\n",
       " (0.037029120617706496, 'DENİZ TAŞITLARI KİRALAMA, SATIŞ, BAKIM'),\n",
       " (0.03097849263754308, 'Job_Status')]"
      ]
     },
     "execution_count": 52,
     "metadata": {},
     "output_type": "execute_result"
    }
   ],
   "source": [
    "feature_importances = np.mean([tree.feature_importances_ for tree in ada_clf.estimators_], axis=0)\n",
    "sorted(zip(feature_importances, demo_df), reverse=True)[0:10]"
   ]
  },
  {
   "cell_type": "markdown",
   "id": "ecea74b8-9fa3-4cfd-b2af-85b07712c214",
   "metadata": {},
   "source": [
    "## Gradient Boost"
   ]
  },
  {
   "cell_type": "code",
   "execution_count": 53,
   "id": "02045f83-378e-4713-9411-732cb979a710",
   "metadata": {
    "tags": []
   },
   "outputs": [],
   "source": [
    "from sklearn.ensemble import GradientBoostingClassifier"
   ]
  },
  {
   "cell_type": "code",
   "execution_count": 54,
   "id": "bbb4c6ce-ff89-46fc-93cb-b0b3d1aed5c0",
   "metadata": {
    "tags": []
   },
   "outputs": [
    {
     "data": {
      "text/plain": [
       "GradientBoostingClassifier(max_features=5, n_estimators=260)"
      ]
     },
     "execution_count": 54,
     "metadata": {},
     "output_type": "execute_result"
    }
   ],
   "source": [
    "gbrt = GradientBoostingClassifier(max_depth=3, max_features=5, n_estimators=260, learning_rate=0.1)\n",
    "gbrt.fit(X_reduced, train_y)"
   ]
  },
  {
   "cell_type": "code",
   "execution_count": 55,
   "id": "40c172e7-0811-4ca7-b547-0dd6d23b5ccd",
   "metadata": {
    "tags": []
   },
   "outputs": [],
   "source": [
    "from sklearn.model_selection import cross_val_predict\n",
    "\n",
    "y_train_pred = gbrt.predict(X_reduced)"
   ]
  },
  {
   "cell_type": "code",
   "execution_count": 56,
   "id": "7581f8c3-5c7e-424a-9eb7-ee2134c8f881",
   "metadata": {
    "tags": []
   },
   "outputs": [
    {
     "data": {
      "text/plain": [
       "0.7118993809570601"
      ]
     },
     "execution_count": 56,
     "metadata": {},
     "output_type": "execute_result"
    }
   ],
   "source": [
    "from sklearn.metrics import accuracy_score\n",
    "\n",
    "accuracy_score(train_y, y_train_pred)"
   ]
  },
  {
   "cell_type": "code",
   "execution_count": 57,
   "id": "7adcced4-9632-405c-9610-cbf07a2f73d6",
   "metadata": {},
   "outputs": [
    {
     "data": {
      "text/plain": [
       "array([[  112,  1109,  1710],\n",
       "       [    1, 45894,  4852],\n",
       "       [    5, 15779, 11954]])"
      ]
     },
     "execution_count": 57,
     "metadata": {},
     "output_type": "execute_result"
    }
   ],
   "source": [
    "from sklearn.metrics import confusion_matrix\n",
    "\n",
    "confusion_matrix(train_y, y_train_pred)"
   ]
  },
  {
   "cell_type": "code",
   "execution_count": 58,
   "id": "ff3c66f7-d3ae-4629-b78d-33aa5667477c",
   "metadata": {},
   "outputs": [
    {
     "data": {
      "text/plain": [
       "[(0.03896996671838873, 'Cust_Segment'),\n",
       " (0.035828106935541656, 'Marital_Status'),\n",
       " (0.03568190526786721, 'BEYAZ EŞYA'),\n",
       " (0.0317748195089446, 'OTOMOTİV'),\n",
       " (0.031731182590378465, 'MOBİLYA, DEKORASYON'),\n",
       " (0.029609881283737906, 'Branch_ID'),\n",
       " (0.02950190365793498, '1)RISKSIZ'),\n",
       " (0.02830345654579289, 'OPTİK'),\n",
       " (0.02773623072344128, 'AKARYAKIT'),\n",
       " (0.027489568762308625, 'Job_Status')]"
      ]
     },
     "execution_count": 58,
     "metadata": {},
     "output_type": "execute_result"
    }
   ],
   "source": [
    "feature_importances = np.mean([tree.feature_importances_ for tree in bag_clf.estimators_], axis=0)\n",
    "sorted(zip(feature_importances, demo_df), reverse=True)[0:10]"
   ]
  },
  {
   "cell_type": "markdown",
   "id": "d43fe42a-7378-4a67-b9b6-83d4acfbf5ec",
   "metadata": {},
   "source": [
    "## Neural Network"
   ]
  },
  {
   "cell_type": "code",
   "execution_count": 59,
   "id": "513fa22f-e376-4732-8aaa-fc64665c2166",
   "metadata": {},
   "outputs": [],
   "source": [
    "# import tensorflow as tf\n",
    "# from tensorflow import keras"
   ]
  },
  {
   "cell_type": "code",
   "execution_count": 60,
   "id": "84e00792-f61b-402b-bdca-24069b697001",
   "metadata": {},
   "outputs": [],
   "source": [
    "# X_train, X_val, y_train, y_val = train_test_split(X_reduced, train_y)"
   ]
  },
  {
   "cell_type": "code",
   "execution_count": 61,
   "id": "14e290d7-7c7b-4574-918c-8039d42a1f9f",
   "metadata": {},
   "outputs": [],
   "source": [
    "# input_ = keras.layers.Input(shape=X_reduced.shape[1:])\n",
    "# hidden1 = keras.layers.Dense(100, activation=\"relu\")(input_)\n",
    "# hidden2 = keras.layers.Dense(100, activation=\"relu\")(hidden1)\n",
    "# output = keras.layers.Dense(1)(hidden2)\n",
    "# model = keras.models.Model(inputs=[input_], outputs=[output])\n",
    "# model.summary()"
   ]
  },
  {
   "cell_type": "code",
   "execution_count": 62,
   "id": "f7836b2d-69a6-4c8c-a68d-b1d9f88ccbcf",
   "metadata": {},
   "outputs": [],
   "source": [
    "# model.compile(loss=\"binary_crossentropy\",\n",
    "# metrics=[\"accuracy\"])\n"
   ]
  },
  {
   "cell_type": "code",
   "execution_count": 63,
   "id": "ef616690-aa94-4cc3-901b-b0adff09c095",
   "metadata": {
    "tags": []
   },
   "outputs": [],
   "source": [
    " # history = model.fit(X_train, y_train, epochs=30,\n",
    " # validation_data=(X_val, y_val))\n"
   ]
  },
  {
   "cell_type": "markdown",
   "id": "658053ec-06fd-4e3c-8eee-81f654be0846",
   "metadata": {},
   "source": [
    "# Test data on test sets"
   ]
  },
  {
   "cell_type": "markdown",
   "id": "93352fb6-3575-4afa-bc77-1eb707203916",
   "metadata": {},
   "source": [
    "## Bagging Test"
   ]
  },
  {
   "cell_type": "code",
   "execution_count": 64,
   "id": "1117d2f1-790a-4fb4-b173-f3a5c2164e9f",
   "metadata": {},
   "outputs": [],
   "source": [
    "test_X_prepared = full_pipeline.transform(test_X)\n",
    "test_X_reduced = TruncSVD.transform(test_X_prepared)"
   ]
  },
  {
   "cell_type": "code",
   "execution_count": 65,
   "id": "6c9bc7a3-af23-4213-8495-3131be32c498",
   "metadata": {},
   "outputs": [
    {
     "data": {
      "text/plain": [
       "0.6498476957846123"
      ]
     },
     "execution_count": 65,
     "metadata": {},
     "output_type": "execute_result"
    }
   ],
   "source": [
    "bag_y_pred = bag_clf.predict(test_X_reduced)\n",
    "accuracy_score(test_y, bag_y_pred)"
   ]
  },
  {
   "cell_type": "code",
   "execution_count": 66,
   "id": "6e9971e6-41dc-4336-8e7e-67f69b819caf",
   "metadata": {},
   "outputs": [
    {
     "data": {
      "text/plain": [
       "array([[    0,   354,   423],\n",
       "       [    0, 11077,  1682],\n",
       "       [    0,  4668,  2150]])"
      ]
     },
     "execution_count": 66,
     "metadata": {},
     "output_type": "execute_result"
    }
   ],
   "source": [
    "confusion_matrix(test_y, bag_y_pred)"
   ]
  },
  {
   "cell_type": "code",
   "execution_count": 67,
   "id": "7b67e99f-857a-426a-bdad-8eba2a5dfc8f",
   "metadata": {},
   "outputs": [],
   "source": [
    "# from sklearn.metrics import roc_curve\n",
    "\n",
    "# fpr, tpr, thresholds = roc_curve(test_y_md, bag_y_pred)\n",
    "\n",
    "# def plot_roc_curve(fpr, tpr, label=None):\n",
    "#     plt.plot(fpr, tpr, linewidth=2, label=label)\n",
    "#     plt.plot([0, 1], [0, 1], 'k--') # dashed diagonal\n",
    "#     plt.axis([0, 1, 0, 1])                                    # Not shown in the book\n",
    "#     plt.xlabel('False Positive Rate (Fall-Out)', fontsize=16) # Not shown\n",
    "#     plt.ylabel('True Positive Rate (Recall)', fontsize=16)    # Not shown\n",
    "#     plt.grid(True)                                            # Not shown\n",
    "\n",
    "# plt.figure(figsize=(8, 6))                                    # Not shown\n",
    "# plot_roc_curve(fpr, tpr)\n",
    "# plt.show()"
   ]
  },
  {
   "cell_type": "markdown",
   "id": "72f632ec-6019-4aa4-bf90-b65511091ba5",
   "metadata": {},
   "source": [
    "## AdaBoost Test"
   ]
  },
  {
   "cell_type": "code",
   "execution_count": 68,
   "id": "827134f6-a979-479c-8508-c82828f9ae5a",
   "metadata": {},
   "outputs": [
    {
     "data": {
      "text/plain": [
       "0.6908715731551538"
      ]
     },
     "execution_count": 68,
     "metadata": {},
     "output_type": "execute_result"
    }
   ],
   "source": [
    "ada_y_pred = ada_clf.predict(test_X_reduced)\n",
    "accuracy_score(test_y, ada_y_pred)"
   ]
  },
  {
   "cell_type": "code",
   "execution_count": 69,
   "id": "0fa8ea83-df2b-42e1-9c4f-703ee9c328e6",
   "metadata": {},
   "outputs": [
    {
     "data": {
      "text/plain": [
       "array([[   10,   291,   476],\n",
       "       [   11, 11354,  1394],\n",
       "       [   27,  4093,  2698]])"
      ]
     },
     "execution_count": 69,
     "metadata": {},
     "output_type": "execute_result"
    }
   ],
   "source": [
    "confusion_matrix(test_y, ada_y_pred)"
   ]
  },
  {
   "cell_type": "code",
   "execution_count": 70,
   "id": "c054725d-5e94-41d9-aad7-a1f0fb8abdcb",
   "metadata": {},
   "outputs": [],
   "source": [
    "# from sklearn.metrics import roc_curve\n",
    "\n",
    "# fpr, tpr, thresholds = roc_curve(test_y_md, ada_y_pred)\n",
    "\n",
    "# def plot_roc_curve(fpr, tpr, label=None):\n",
    "#     plt.plot(fpr, tpr, linewidth=2, label=label)\n",
    "#     plt.plot([0, 1], [0, 1], 'k--') # dashed diagonal\n",
    "#     plt.axis([0, 1, 0, 1])                                    # Not shown in the book\n",
    "#     plt.xlabel('False Positive Rate (Fall-Out)', fontsize=16) # Not shown\n",
    "#     plt.ylabel('True Positive Rate (Recall)', fontsize=16)    # Not shown\n",
    "#     plt.grid(True)                                            # Not shown\n",
    "\n",
    "# plt.figure(figsize=(8, 6))                                    # Not shown\n",
    "# plot_roc_curve(fpr, tpr)\n",
    "# plt.show()"
   ]
  },
  {
   "cell_type": "markdown",
   "id": "5076ba69-c6e1-4966-be02-398674711d82",
   "metadata": {},
   "source": [
    "## GradientBoost Test"
   ]
  },
  {
   "cell_type": "code",
   "execution_count": 71,
   "id": "f42277fa-118b-4719-aded-ca1d7edddb80",
   "metadata": {},
   "outputs": [
    {
     "data": {
      "text/plain": [
       "0.6940650486390881"
      ]
     },
     "execution_count": 71,
     "metadata": {},
     "output_type": "execute_result"
    }
   ],
   "source": [
    "gbrt_y_pred = gbrt.predict(test_X_reduced)\n",
    "accuracy_score(test_y, gbrt_y_pred)"
   ]
  },
  {
   "cell_type": "code",
   "execution_count": 72,
   "id": "0a7fdeda-7925-4354-8618-3c4d6e128671",
   "metadata": {},
   "outputs": [
    {
     "data": {
      "text/plain": [
       "array([[    5,   292,   480],\n",
       "       [    4, 11344,  1411],\n",
       "       [    5,  4035,  2778]])"
      ]
     },
     "execution_count": 72,
     "metadata": {},
     "output_type": "execute_result"
    }
   ],
   "source": [
    "confusion_matrix(test_y, gbrt_y_pred)"
   ]
  },
  {
   "cell_type": "code",
   "execution_count": 73,
   "id": "ba30e9e9-1d03-4bef-bdc5-ae7e596dd266",
   "metadata": {},
   "outputs": [],
   "source": [
    "# from sklearn.metrics import roc_curve\n",
    "\n",
    "# fpr, tpr, thresholds = roc_curve(test_y_md, gbrt_y_pred)\n",
    "\n",
    "# def plot_roc_curve(fpr, tpr, label=None):\n",
    "#     plt.plot(fpr, tpr, linewidth=2, label=label)\n",
    "#     plt.plot([0, 1], [0, 1], 'k--') # dashed diagonal\n",
    "#     plt.axis([0, 1, 0, 1])                                    # Not shown in the book\n",
    "#     plt.xlabel('False Positive Rate (Fall-Out)', fontsize=16) # Not shown\n",
    "#     plt.ylabel('True Positive Rate (Recall)', fontsize=16)    # Not shown\n",
    "#     plt.grid(True)                                            # Not shown\n",
    "\n",
    "# plt.figure(figsize=(8, 6))                                    # Not shown\n",
    "# plot_roc_curve(fpr, tpr)\n",
    "# plt.show()"
   ]
  }
 ],
 "metadata": {
  "kernelspec": {
   "display_name": "Python 3 (ipykernel)",
   "language": "python",
   "name": "python3"
  },
  "language_info": {
   "codemirror_mode": {
    "name": "ipython",
    "version": 3
   },
   "file_extension": ".py",
   "mimetype": "text/x-python",
   "name": "python",
   "nbconvert_exporter": "python",
   "pygments_lexer": "ipython3",
   "version": "3.9.5"
  }
 },
 "nbformat": 4,
 "nbformat_minor": 5
}
