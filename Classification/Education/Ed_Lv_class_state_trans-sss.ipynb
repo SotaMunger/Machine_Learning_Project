{
 "cells": [
  {
   "cell_type": "markdown",
   "id": "4396f86b-0513-4cac-9122-97c72019bb9c",
   "metadata": {
    "tags": []
   },
   "source": [
    "# Education Level Classification (Grad vs. Undergrad vs. High School or under)"
   ]
  },
  {
   "cell_type": "code",
   "execution_count": 1,
   "id": "76b375b8-852e-4986-acf6-9426075334ca",
   "metadata": {},
   "outputs": [],
   "source": [
    "# import packages\n",
    "import sklearn\n",
    "import numpy as np\n",
    "import pandas as pd\n",
    "%matplotlib inline\n",
    "import matplotlib as mpl\n",
    "import matplotlib.pyplot as plt\n",
    "\n",
    "np.random.seed(16)"
   ]
  },
  {
   "cell_type": "code",
   "execution_count": 2,
   "id": "aaedfc3c-3d4b-47af-8a36-c6e1ee41286d",
   "metadata": {},
   "outputs": [
    {
     "name": "stdout",
     "output_type": "stream",
     "text": [
      "<class 'pandas.core.frame.DataFrame'>\n",
      "RangeIndex: 10321 entries, 0 to 10320\n",
      "Data columns (total 33 columns):\n",
      " #   Column                   Non-Null Count  Dtype  \n",
      "---  ------                   --------------  -----  \n",
      " 0   Unnamed: 0               10321 non-null  int64  \n",
      " 1   Cust_ID                  10321 non-null  int64  \n",
      " 2   Cust_Segment             10321 non-null  object \n",
      " 3   Branch_ID                10321 non-null  int64  \n",
      " 4   Gender                   10321 non-null  object \n",
      " 5   Marital_Status           10321 non-null  object \n",
      " 6   Education_Lv             10321 non-null  object \n",
      " 7   Job_Status               10321 non-null  object \n",
      " 8   Income                   10080 non-null  float64\n",
      " 9   Age                      10321 non-null  int64  \n",
      " 10  Years_w_Bank             10321 non-null  float64\n",
      " 11  Work_Region              10321 non-null  object \n",
      " 12  Home_Region              10321 non-null  object \n",
      " 13  Branch_Region            10321 non-null  object \n",
      " 14  1)RISKSIZ                10321 non-null  float64\n",
      " 15  2)GECIKME 1-15 GUN       10321 non-null  float64\n",
      " 16  3)GECIKME 16-29 GUN      10321 non-null  float64\n",
      " 17  4)GECIKME 30-59 GUN      10321 non-null  float64\n",
      " 18  5)GECIKME 60+ GUN        10321 non-null  float64\n",
      " 19  6)TAKIP                  10321 non-null  float64\n",
      " 20  statement_mean           10224 non-null  float64\n",
      " 21  statement_max            10224 non-null  float64\n",
      " 22  transaction1_mean        10083 non-null  float64\n",
      " 23  transaction1_max         10083 non-null  float64\n",
      " 24  transaction2_mean        10136 non-null  float64\n",
      " 25  transaction2_max         10136 non-null  float64\n",
      " 26  online_trans_percent     10136 non-null  float64\n",
      " 27  transaction_food_mean    8874 non-null   float64\n",
      " 28  transaction_food_max     8874 non-null   float64\n",
      " 29  transaction_health_mean  5360 non-null   float64\n",
      " 30  transaction_health_max   5360 non-null   float64\n",
      " 31  transaction_gas_mean     5847 non-null   float64\n",
      " 32  transaction_gas_max      5847 non-null   float64\n",
      "dtypes: float64(21), int64(4), object(8)\n",
      "memory usage: 2.6+ MB\n"
     ]
    }
   ],
   "source": [
    "# load data\n",
    "csv_file = \"~/IDC5210_Machine_Learning/Project/Translated_data/demos_w_state_trans_sample10k.csv\"\n",
    "demo_df = pd.read_csv(csv_file)\n",
    "demo_df.info()"
   ]
  },
  {
   "cell_type": "code",
   "execution_count": 3,
   "id": "56e76c64-3fef-4ed2-9fb1-8b684c90ff62",
   "metadata": {},
   "outputs": [
    {
     "name": "stdout",
     "output_type": "stream",
     "text": [
      "<class 'pandas.core.frame.DataFrame'>\n",
      "RangeIndex: 10321 entries, 0 to 10320\n",
      "Data columns (total 32 columns):\n",
      " #   Column                   Non-Null Count  Dtype  \n",
      "---  ------                   --------------  -----  \n",
      " 0   Cust_ID                  10321 non-null  int64  \n",
      " 1   Cust_Segment             10321 non-null  object \n",
      " 2   Branch_ID                10321 non-null  int64  \n",
      " 3   Gender                   10321 non-null  object \n",
      " 4   Marital_Status           10321 non-null  object \n",
      " 5   Education_Lv             10321 non-null  object \n",
      " 6   Job_Status               10321 non-null  object \n",
      " 7   Income                   10080 non-null  float64\n",
      " 8   Age                      10321 non-null  int64  \n",
      " 9   Years_w_Bank             10321 non-null  float64\n",
      " 10  Work_Region              10321 non-null  object \n",
      " 11  Home_Region              10321 non-null  object \n",
      " 12  Branch_Region            10321 non-null  object \n",
      " 13  1)RISKSIZ                10321 non-null  float64\n",
      " 14  2)GECIKME 1-15 GUN       10321 non-null  float64\n",
      " 15  3)GECIKME 16-29 GUN      10321 non-null  float64\n",
      " 16  4)GECIKME 30-59 GUN      10321 non-null  float64\n",
      " 17  5)GECIKME 60+ GUN        10321 non-null  float64\n",
      " 18  6)TAKIP                  10321 non-null  float64\n",
      " 19  statement_mean           10224 non-null  float64\n",
      " 20  statement_max            10224 non-null  float64\n",
      " 21  transaction1_mean        10083 non-null  float64\n",
      " 22  transaction1_max         10083 non-null  float64\n",
      " 23  transaction2_mean        10136 non-null  float64\n",
      " 24  transaction2_max         10136 non-null  float64\n",
      " 25  online_trans_percent     10136 non-null  float64\n",
      " 26  transaction_food_mean    8874 non-null   float64\n",
      " 27  transaction_food_max     8874 non-null   float64\n",
      " 28  transaction_health_mean  5360 non-null   float64\n",
      " 29  transaction_health_max   5360 non-null   float64\n",
      " 30  transaction_gas_mean     5847 non-null   float64\n",
      " 31  transaction_gas_max      5847 non-null   float64\n",
      "dtypes: float64(21), int64(3), object(8)\n",
      "memory usage: 2.5+ MB\n"
     ]
    }
   ],
   "source": [
    "# drop unnecessary columns\n",
    "demo_df.drop([\"Unnamed: 0\"], axis = 1, inplace=True)\n",
    "demo_df.info()"
   ]
  },
  {
   "cell_type": "code",
   "execution_count": 4,
   "id": "2be4565c-fc4b-4542-b184-5964a6f45706",
   "metadata": {},
   "outputs": [],
   "source": [
    "# # count risk types per row\n",
    "# risk_counts = demo_df.iloc[:,10:22].apply(pd.Series.value_counts, axis=1)\n",
    "# risk_counts = risk_counts.fillna(0)"
   ]
  },
  {
   "cell_type": "code",
   "execution_count": 5,
   "id": "6b78e756-f63a-4831-b6c0-ad4dde2b390b",
   "metadata": {},
   "outputs": [],
   "source": [
    "# risk_counts"
   ]
  },
  {
   "cell_type": "code",
   "execution_count": 6,
   "id": "66185462-90cf-4aed-998e-9ff2b6d94642",
   "metadata": {},
   "outputs": [],
   "source": [
    "# demo_df = demo_df.join(risk_counts)\n",
    "# demo_df"
   ]
  },
  {
   "cell_type": "code",
   "execution_count": 7,
   "id": "0d60f359-4dde-493d-94a8-535b7558faf0",
   "metadata": {},
   "outputs": [],
   "source": [
    "# demo_df.drop(['.','Penalty_201407', 'Penalty_201408', 'Penalty_201409', \n",
    "#                   'Penalty_201410', 'Penalty_201411', 'Penalty_201412', 'Penalty_201501',\n",
    "#                   'Penalty_201502', 'Penalty_201503', 'Penalty_201504', 'Penalty_201505', \n",
    "#                   'Penalty_201506'], axis = 1, inplace=True)"
   ]
  },
  {
   "cell_type": "code",
   "execution_count": 8,
   "id": "4ad8c591-b465-46c3-827f-09926123dce0",
   "metadata": {},
   "outputs": [],
   "source": [
    "demo_df.replace(to_replace=['LİSE', 'ORTAOKUL', 'İLKOKUL', 'EĞİTİMSİZ'], value = 'HS_below', inplace=True)\n",
    "demo_df.replace(to_replace=['ÜNİVERSİTE', 'YÜKSEKOKUL'], value= 'University', inplace = True)\n",
    "demo_df.replace(to_replace=['LİSANSÜSTÜ', 'DOKTORA'], value= 'Graduate', inplace = True)"
   ]
  },
  {
   "cell_type": "code",
   "execution_count": 9,
   "id": "02c6a8a6-c7e8-47d9-8eef-7d21c077275a",
   "metadata": {},
   "outputs": [
    {
     "data": {
      "text/html": [
       "<div>\n",
       "<style scoped>\n",
       "    .dataframe tbody tr th:only-of-type {\n",
       "        vertical-align: middle;\n",
       "    }\n",
       "\n",
       "    .dataframe tbody tr th {\n",
       "        vertical-align: top;\n",
       "    }\n",
       "\n",
       "    .dataframe thead th {\n",
       "        text-align: right;\n",
       "    }\n",
       "</style>\n",
       "<table border=\"1\" class=\"dataframe\">\n",
       "  <thead>\n",
       "    <tr style=\"text-align: right;\">\n",
       "      <th></th>\n",
       "      <th>Cust_ID</th>\n",
       "      <th>Cust_Segment</th>\n",
       "      <th>Branch_ID</th>\n",
       "      <th>Gender</th>\n",
       "      <th>Marital_Status</th>\n",
       "      <th>Education_Lv</th>\n",
       "      <th>Job_Status</th>\n",
       "      <th>Income</th>\n",
       "      <th>Age</th>\n",
       "      <th>Years_w_Bank</th>\n",
       "      <th>...</th>\n",
       "      <th>transaction1_max</th>\n",
       "      <th>transaction2_mean</th>\n",
       "      <th>transaction2_max</th>\n",
       "      <th>online_trans_percent</th>\n",
       "      <th>transaction_food_mean</th>\n",
       "      <th>transaction_food_max</th>\n",
       "      <th>transaction_health_mean</th>\n",
       "      <th>transaction_health_max</th>\n",
       "      <th>transaction_gas_mean</th>\n",
       "      <th>transaction_gas_max</th>\n",
       "    </tr>\n",
       "  </thead>\n",
       "  <tbody>\n",
       "    <tr>\n",
       "      <th>0</th>\n",
       "      <td>6192286</td>\n",
       "      <td>BİREYSEL</td>\n",
       "      <td>638</td>\n",
       "      <td>E</td>\n",
       "      <td>EVLİ</td>\n",
       "      <td>Graduate</td>\n",
       "      <td>EMEKLİ</td>\n",
       "      <td>3000.0</td>\n",
       "      <td>48</td>\n",
       "      <td>15.0</td>\n",
       "      <td>...</td>\n",
       "      <td>1442.27</td>\n",
       "      <td>532.626923</td>\n",
       "      <td>3416.80</td>\n",
       "      <td>0.692308</td>\n",
       "      <td>NaN</td>\n",
       "      <td>NaN</td>\n",
       "      <td>NaN</td>\n",
       "      <td>NaN</td>\n",
       "      <td>NaN</td>\n",
       "      <td>NaN</td>\n",
       "    </tr>\n",
       "    <tr>\n",
       "      <th>1</th>\n",
       "      <td>24108556</td>\n",
       "      <td>BİREYSEL</td>\n",
       "      <td>170</td>\n",
       "      <td>E</td>\n",
       "      <td>BEKAR</td>\n",
       "      <td>University</td>\n",
       "      <td>ÜCRETLİ (ÖZEL)</td>\n",
       "      <td>1000.0</td>\n",
       "      <td>22</td>\n",
       "      <td>3.0</td>\n",
       "      <td>...</td>\n",
       "      <td>1100.00</td>\n",
       "      <td>50.214500</td>\n",
       "      <td>154.34</td>\n",
       "      <td>0.800000</td>\n",
       "      <td>11.000000</td>\n",
       "      <td>11.00</td>\n",
       "      <td>NaN</td>\n",
       "      <td>NaN</td>\n",
       "      <td>NaN</td>\n",
       "      <td>NaN</td>\n",
       "    </tr>\n",
       "    <tr>\n",
       "      <th>2</th>\n",
       "      <td>10298005</td>\n",
       "      <td>BİREYSEL</td>\n",
       "      <td>212</td>\n",
       "      <td>E</td>\n",
       "      <td>EVLİ</td>\n",
       "      <td>University</td>\n",
       "      <td>SERBEST MESLEK</td>\n",
       "      <td>4000.0</td>\n",
       "      <td>34</td>\n",
       "      <td>12.0</td>\n",
       "      <td>...</td>\n",
       "      <td>3285.00</td>\n",
       "      <td>725.938182</td>\n",
       "      <td>2888.54</td>\n",
       "      <td>0.318182</td>\n",
       "      <td>1152.464615</td>\n",
       "      <td>2888.54</td>\n",
       "      <td>NaN</td>\n",
       "      <td>NaN</td>\n",
       "      <td>NaN</td>\n",
       "      <td>NaN</td>\n",
       "    </tr>\n",
       "    <tr>\n",
       "      <th>3</th>\n",
       "      <td>26465153</td>\n",
       "      <td>BİREYSEL</td>\n",
       "      <td>1239</td>\n",
       "      <td>E</td>\n",
       "      <td>BEKAR</td>\n",
       "      <td>HS_below</td>\n",
       "      <td>ÜCRETLİ (ÖZEL)</td>\n",
       "      <td>1200.0</td>\n",
       "      <td>24</td>\n",
       "      <td>1.0</td>\n",
       "      <td>...</td>\n",
       "      <td>750.00</td>\n",
       "      <td>34.681111</td>\n",
       "      <td>750.00</td>\n",
       "      <td>0.000000</td>\n",
       "      <td>15.854348</td>\n",
       "      <td>49.06</td>\n",
       "      <td>NaN</td>\n",
       "      <td>NaN</td>\n",
       "      <td>12.464286</td>\n",
       "      <td>26.25</td>\n",
       "    </tr>\n",
       "    <tr>\n",
       "      <th>4</th>\n",
       "      <td>25359275</td>\n",
       "      <td>BİREYSEL</td>\n",
       "      <td>1277</td>\n",
       "      <td>E</td>\n",
       "      <td>EVLİ</td>\n",
       "      <td>HS_below</td>\n",
       "      <td>ÜCRETLİ (ÖZEL)</td>\n",
       "      <td>1500.0</td>\n",
       "      <td>40</td>\n",
       "      <td>2.0</td>\n",
       "      <td>...</td>\n",
       "      <td>170.00</td>\n",
       "      <td>1100.000000</td>\n",
       "      <td>1100.00</td>\n",
       "      <td>0.000000</td>\n",
       "      <td>NaN</td>\n",
       "      <td>NaN</td>\n",
       "      <td>NaN</td>\n",
       "      <td>NaN</td>\n",
       "      <td>NaN</td>\n",
       "      <td>NaN</td>\n",
       "    </tr>\n",
       "    <tr>\n",
       "      <th>...</th>\n",
       "      <td>...</td>\n",
       "      <td>...</td>\n",
       "      <td>...</td>\n",
       "      <td>...</td>\n",
       "      <td>...</td>\n",
       "      <td>...</td>\n",
       "      <td>...</td>\n",
       "      <td>...</td>\n",
       "      <td>...</td>\n",
       "      <td>...</td>\n",
       "      <td>...</td>\n",
       "      <td>...</td>\n",
       "      <td>...</td>\n",
       "      <td>...</td>\n",
       "      <td>...</td>\n",
       "      <td>...</td>\n",
       "      <td>...</td>\n",
       "      <td>...</td>\n",
       "      <td>...</td>\n",
       "      <td>...</td>\n",
       "      <td>...</td>\n",
       "    </tr>\n",
       "    <tr>\n",
       "      <th>10316</th>\n",
       "      <td>22846993</td>\n",
       "      <td>BİREYSEL</td>\n",
       "      <td>153</td>\n",
       "      <td>E</td>\n",
       "      <td>EVLİ</td>\n",
       "      <td>HS_below</td>\n",
       "      <td>ÇALIŞAN EMEKLİ(ÜCRETLİ)</td>\n",
       "      <td>4000.0</td>\n",
       "      <td>50</td>\n",
       "      <td>3.0</td>\n",
       "      <td>...</td>\n",
       "      <td>2900.00</td>\n",
       "      <td>140.926667</td>\n",
       "      <td>728.00</td>\n",
       "      <td>0.166667</td>\n",
       "      <td>36.381250</td>\n",
       "      <td>66.24</td>\n",
       "      <td>NaN</td>\n",
       "      <td>NaN</td>\n",
       "      <td>174.851000</td>\n",
       "      <td>728.00</td>\n",
       "    </tr>\n",
       "    <tr>\n",
       "      <th>10317</th>\n",
       "      <td>15517038</td>\n",
       "      <td>MİKRO</td>\n",
       "      <td>250</td>\n",
       "      <td>E</td>\n",
       "      <td>EVLİ</td>\n",
       "      <td>HS_below</td>\n",
       "      <td>SERBEST MESLEK</td>\n",
       "      <td>20000.0</td>\n",
       "      <td>39</td>\n",
       "      <td>8.0</td>\n",
       "      <td>...</td>\n",
       "      <td>855.00</td>\n",
       "      <td>77.776410</td>\n",
       "      <td>320.00</td>\n",
       "      <td>0.128205</td>\n",
       "      <td>62.153333</td>\n",
       "      <td>124.85</td>\n",
       "      <td>NaN</td>\n",
       "      <td>NaN</td>\n",
       "      <td>NaN</td>\n",
       "      <td>NaN</td>\n",
       "    </tr>\n",
       "    <tr>\n",
       "      <th>10318</th>\n",
       "      <td>9609664</td>\n",
       "      <td>BİREYSEL</td>\n",
       "      <td>175</td>\n",
       "      <td>E</td>\n",
       "      <td>EVLİ</td>\n",
       "      <td>HS_below</td>\n",
       "      <td>SERBEST MESLEK</td>\n",
       "      <td>2000.0</td>\n",
       "      <td>28</td>\n",
       "      <td>12.0</td>\n",
       "      <td>...</td>\n",
       "      <td>1200.00</td>\n",
       "      <td>101.471375</td>\n",
       "      <td>1200.00</td>\n",
       "      <td>0.000000</td>\n",
       "      <td>66.415278</td>\n",
       "      <td>257.70</td>\n",
       "      <td>NaN</td>\n",
       "      <td>NaN</td>\n",
       "      <td>41.211739</td>\n",
       "      <td>165.40</td>\n",
       "    </tr>\n",
       "    <tr>\n",
       "      <th>10319</th>\n",
       "      <td>17967317</td>\n",
       "      <td>BİREYSEL</td>\n",
       "      <td>596</td>\n",
       "      <td>E</td>\n",
       "      <td>EVLİ</td>\n",
       "      <td>HS_below</td>\n",
       "      <td>ÜCRETLİ (ÖZEL)</td>\n",
       "      <td>970.0</td>\n",
       "      <td>43</td>\n",
       "      <td>7.0</td>\n",
       "      <td>...</td>\n",
       "      <td>400.00</td>\n",
       "      <td>31.148438</td>\n",
       "      <td>150.00</td>\n",
       "      <td>0.000000</td>\n",
       "      <td>23.453125</td>\n",
       "      <td>144.00</td>\n",
       "      <td>NaN</td>\n",
       "      <td>NaN</td>\n",
       "      <td>26.800000</td>\n",
       "      <td>50.00</td>\n",
       "    </tr>\n",
       "    <tr>\n",
       "      <th>10320</th>\n",
       "      <td>15189560</td>\n",
       "      <td>BİREYSEL</td>\n",
       "      <td>29</td>\n",
       "      <td>K</td>\n",
       "      <td>EVLİ</td>\n",
       "      <td>HS_below</td>\n",
       "      <td>EMEKLİ</td>\n",
       "      <td>6000.0</td>\n",
       "      <td>48</td>\n",
       "      <td>9.0</td>\n",
       "      <td>...</td>\n",
       "      <td>3867.89</td>\n",
       "      <td>119.568462</td>\n",
       "      <td>554.03</td>\n",
       "      <td>0.230769</td>\n",
       "      <td>33.896667</td>\n",
       "      <td>109.00</td>\n",
       "      <td>NaN</td>\n",
       "      <td>NaN</td>\n",
       "      <td>NaN</td>\n",
       "      <td>NaN</td>\n",
       "    </tr>\n",
       "  </tbody>\n",
       "</table>\n",
       "<p>10321 rows × 32 columns</p>\n",
       "</div>"
      ],
      "text/plain": [
       "        Cust_ID Cust_Segment  Branch_ID Gender Marital_Status Education_Lv  \\\n",
       "0       6192286     BİREYSEL        638      E           EVLİ     Graduate   \n",
       "1      24108556     BİREYSEL        170      E          BEKAR   University   \n",
       "2      10298005     BİREYSEL        212      E           EVLİ   University   \n",
       "3      26465153     BİREYSEL       1239      E          BEKAR     HS_below   \n",
       "4      25359275     BİREYSEL       1277      E           EVLİ     HS_below   \n",
       "...         ...          ...        ...    ...            ...          ...   \n",
       "10316  22846993     BİREYSEL        153      E           EVLİ     HS_below   \n",
       "10317  15517038        MİKRO        250      E           EVLİ     HS_below   \n",
       "10318   9609664     BİREYSEL        175      E           EVLİ     HS_below   \n",
       "10319  17967317     BİREYSEL        596      E           EVLİ     HS_below   \n",
       "10320  15189560     BİREYSEL         29      K           EVLİ     HS_below   \n",
       "\n",
       "                    Job_Status   Income  Age  Years_w_Bank  ...  \\\n",
       "0                       EMEKLİ   3000.0   48          15.0  ...   \n",
       "1               ÜCRETLİ (ÖZEL)   1000.0   22           3.0  ...   \n",
       "2               SERBEST MESLEK   4000.0   34          12.0  ...   \n",
       "3               ÜCRETLİ (ÖZEL)   1200.0   24           1.0  ...   \n",
       "4               ÜCRETLİ (ÖZEL)   1500.0   40           2.0  ...   \n",
       "...                        ...      ...  ...           ...  ...   \n",
       "10316  ÇALIŞAN EMEKLİ(ÜCRETLİ)   4000.0   50           3.0  ...   \n",
       "10317           SERBEST MESLEK  20000.0   39           8.0  ...   \n",
       "10318           SERBEST MESLEK   2000.0   28          12.0  ...   \n",
       "10319           ÜCRETLİ (ÖZEL)    970.0   43           7.0  ...   \n",
       "10320                   EMEKLİ   6000.0   48           9.0  ...   \n",
       "\n",
       "      transaction1_max transaction2_mean transaction2_max  \\\n",
       "0              1442.27        532.626923          3416.80   \n",
       "1              1100.00         50.214500           154.34   \n",
       "2              3285.00        725.938182          2888.54   \n",
       "3               750.00         34.681111           750.00   \n",
       "4               170.00       1100.000000          1100.00   \n",
       "...                ...               ...              ...   \n",
       "10316          2900.00        140.926667           728.00   \n",
       "10317           855.00         77.776410           320.00   \n",
       "10318          1200.00        101.471375          1200.00   \n",
       "10319           400.00         31.148438           150.00   \n",
       "10320          3867.89        119.568462           554.03   \n",
       "\n",
       "       online_trans_percent  transaction_food_mean  transaction_food_max  \\\n",
       "0                  0.692308                    NaN                   NaN   \n",
       "1                  0.800000              11.000000                 11.00   \n",
       "2                  0.318182            1152.464615               2888.54   \n",
       "3                  0.000000              15.854348                 49.06   \n",
       "4                  0.000000                    NaN                   NaN   \n",
       "...                     ...                    ...                   ...   \n",
       "10316              0.166667              36.381250                 66.24   \n",
       "10317              0.128205              62.153333                124.85   \n",
       "10318              0.000000              66.415278                257.70   \n",
       "10319              0.000000              23.453125                144.00   \n",
       "10320              0.230769              33.896667                109.00   \n",
       "\n",
       "       transaction_health_mean  transaction_health_max  transaction_gas_mean  \\\n",
       "0                          NaN                     NaN                   NaN   \n",
       "1                          NaN                     NaN                   NaN   \n",
       "2                          NaN                     NaN                   NaN   \n",
       "3                          NaN                     NaN             12.464286   \n",
       "4                          NaN                     NaN                   NaN   \n",
       "...                        ...                     ...                   ...   \n",
       "10316                      NaN                     NaN            174.851000   \n",
       "10317                      NaN                     NaN                   NaN   \n",
       "10318                      NaN                     NaN             41.211739   \n",
       "10319                      NaN                     NaN             26.800000   \n",
       "10320                      NaN                     NaN                   NaN   \n",
       "\n",
       "       transaction_gas_max  \n",
       "0                      NaN  \n",
       "1                      NaN  \n",
       "2                      NaN  \n",
       "3                    26.25  \n",
       "4                      NaN  \n",
       "...                    ...  \n",
       "10316               728.00  \n",
       "10317                  NaN  \n",
       "10318               165.40  \n",
       "10319                50.00  \n",
       "10320                  NaN  \n",
       "\n",
       "[10321 rows x 32 columns]"
      ]
     },
     "execution_count": 9,
     "metadata": {},
     "output_type": "execute_result"
    }
   ],
   "source": [
    "demo_df"
   ]
  },
  {
   "cell_type": "code",
   "execution_count": 10,
   "id": "81f27766-cf5d-4ed7-9218-f1de75e5e449",
   "metadata": {},
   "outputs": [
    {
     "name": "stdout",
     "output_type": "stream",
     "text": [
      "<class 'pandas.core.frame.DataFrame'>\n",
      "RangeIndex: 9334625 entries, 0 to 9334624\n",
      "Data columns (total 12 columns):\n",
      " #   Column          Dtype  \n",
      "---  ------          -----  \n",
      " 0   Unnamed: 0      int64  \n",
      " 1   Cust_ID         int64  \n",
      " 2   Trans_Data      object \n",
      " 3   Trans_Time      object \n",
      " 4   Trans_Amt       float64\n",
      " 5   Category        object \n",
      " 6   Merchant_ID     int64  \n",
      " 7   Online_Trans    int64  \n",
      " 8   Trans_Type      object \n",
      " 9   Trans_Currency  object \n",
      " 10  X               float64\n",
      " 11  Y               float64\n",
      "dtypes: float64(3), int64(4), object(5)\n",
      "memory usage: 854.6+ MB\n"
     ]
    }
   ],
   "source": [
    "csv_file2 = \"~/IDC5210_Machine_Learning/Project/Translated_data/transactions(SU_ORNEKLEM_KK_HAR_BILGI).csv\"\n",
    "transactions = pd.read_csv(csv_file2, dtype={'Category': 'str'})\n",
    "transactions.info()"
   ]
  },
  {
   "cell_type": "code",
   "execution_count": 11,
   "id": "6aa8a09a-3b41-4dff-a5d4-8bd364a4e0be",
   "metadata": {},
   "outputs": [
    {
     "data": {
      "text/html": [
       "<div>\n",
       "<style scoped>\n",
       "    .dataframe tbody tr th:only-of-type {\n",
       "        vertical-align: middle;\n",
       "    }\n",
       "\n",
       "    .dataframe tbody tr th {\n",
       "        vertical-align: top;\n",
       "    }\n",
       "\n",
       "    .dataframe thead th {\n",
       "        text-align: right;\n",
       "    }\n",
       "</style>\n",
       "<table border=\"1\" class=\"dataframe\">\n",
       "  <thead>\n",
       "    <tr style=\"text-align: right;\">\n",
       "      <th></th>\n",
       "      <th>Cust_ID</th>\n",
       "      <th>Category</th>\n",
       "      <th>Trans_Amt</th>\n",
       "      <th>Online_Trans</th>\n",
       "    </tr>\n",
       "  </thead>\n",
       "  <tbody>\n",
       "    <tr>\n",
       "      <th>0</th>\n",
       "      <td>11861396</td>\n",
       "      <td>RESTORAN</td>\n",
       "      <td>10.57</td>\n",
       "      <td>0</td>\n",
       "    </tr>\n",
       "    <tr>\n",
       "      <th>1</th>\n",
       "      <td>13667756</td>\n",
       "      <td>RESTORAN</td>\n",
       "      <td>82.00</td>\n",
       "      <td>0</td>\n",
       "    </tr>\n",
       "    <tr>\n",
       "      <th>2</th>\n",
       "      <td>11024865</td>\n",
       "      <td>RESTORAN</td>\n",
       "      <td>15.00</td>\n",
       "      <td>0</td>\n",
       "    </tr>\n",
       "    <tr>\n",
       "      <th>3</th>\n",
       "      <td>10922788</td>\n",
       "      <td>RESTORAN</td>\n",
       "      <td>86.00</td>\n",
       "      <td>0</td>\n",
       "    </tr>\n",
       "    <tr>\n",
       "      <th>4</th>\n",
       "      <td>10335987</td>\n",
       "      <td>RESTORAN</td>\n",
       "      <td>30.00</td>\n",
       "      <td>0</td>\n",
       "    </tr>\n",
       "    <tr>\n",
       "      <th>...</th>\n",
       "      <td>...</td>\n",
       "      <td>...</td>\n",
       "      <td>...</td>\n",
       "      <td>...</td>\n",
       "    </tr>\n",
       "    <tr>\n",
       "      <th>9334620</th>\n",
       "      <td>15623192</td>\n",
       "      <td>GIDA</td>\n",
       "      <td>23.50</td>\n",
       "      <td>0</td>\n",
       "    </tr>\n",
       "    <tr>\n",
       "      <th>9334621</th>\n",
       "      <td>16382137</td>\n",
       "      <td>TEKSTİL</td>\n",
       "      <td>115.00</td>\n",
       "      <td>0</td>\n",
       "    </tr>\n",
       "    <tr>\n",
       "      <th>9334622</th>\n",
       "      <td>16808133</td>\n",
       "      <td>HİZMET SEKTÖRLERİ</td>\n",
       "      <td>32.00</td>\n",
       "      <td>0</td>\n",
       "    </tr>\n",
       "    <tr>\n",
       "      <th>9334623</th>\n",
       "      <td>27012943</td>\n",
       "      <td>TEKSTİL</td>\n",
       "      <td>250.00</td>\n",
       "      <td>0</td>\n",
       "    </tr>\n",
       "    <tr>\n",
       "      <th>9334624</th>\n",
       "      <td>21896299</td>\n",
       "      <td>GIDA</td>\n",
       "      <td>8.00</td>\n",
       "      <td>0</td>\n",
       "    </tr>\n",
       "  </tbody>\n",
       "</table>\n",
       "<p>9334625 rows × 4 columns</p>\n",
       "</div>"
      ],
      "text/plain": [
       "          Cust_ID           Category  Trans_Amt  Online_Trans\n",
       "0        11861396           RESTORAN      10.57             0\n",
       "1        13667756           RESTORAN      82.00             0\n",
       "2        11024865           RESTORAN      15.00             0\n",
       "3        10922788           RESTORAN      86.00             0\n",
       "4        10335987           RESTORAN      30.00             0\n",
       "...           ...                ...        ...           ...\n",
       "9334620  15623192               GIDA      23.50             0\n",
       "9334621  16382137            TEKSTİL     115.00             0\n",
       "9334622  16808133  HİZMET SEKTÖRLERİ      32.00             0\n",
       "9334623  27012943            TEKSTİL     250.00             0\n",
       "9334624  21896299               GIDA       8.00             0\n",
       "\n",
       "[9334625 rows x 4 columns]"
      ]
     },
     "execution_count": 11,
     "metadata": {},
     "output_type": "execute_result"
    }
   ],
   "source": [
    "trans_sub = transactions[['Cust_ID', 'Category', 'Trans_Amt', 'Online_Trans']]\n",
    "trans_sub"
   ]
  },
  {
   "cell_type": "code",
   "execution_count": 12,
   "id": "701bb357-5f6b-4a5d-b1fb-a81c61ecbefd",
   "metadata": {},
   "outputs": [],
   "source": [
    "trans_sums = trans_sub.groupby(['Cust_ID', 'Category'])['Trans_Amt'].sum().reset_index()\n",
    "trans_cats = trans_sums.pivot(columns='Category', index='Cust_ID', values='Trans_Amt')\n",
    "trans_cats = trans_cats.fillna(0)"
   ]
  },
  {
   "cell_type": "code",
   "execution_count": 13,
   "id": "fa61a814-d966-42ee-b4ec-91ba06e3d920",
   "metadata": {},
   "outputs": [
    {
     "data": {
      "text/html": [
       "<div>\n",
       "<style scoped>\n",
       "    .dataframe tbody tr th:only-of-type {\n",
       "        vertical-align: middle;\n",
       "    }\n",
       "\n",
       "    .dataframe tbody tr th {\n",
       "        vertical-align: top;\n",
       "    }\n",
       "\n",
       "    .dataframe thead th {\n",
       "        text-align: right;\n",
       "    }\n",
       "</style>\n",
       "<table border=\"1\" class=\"dataframe\">\n",
       "  <thead>\n",
       "    <tr style=\"text-align: right;\">\n",
       "      <th>Category</th>\n",
       "      <th>AKARYAKIT</th>\n",
       "      <th>ALIŞVERİŞ MERKEZLERİ</th>\n",
       "      <th>ARABA KİRALAMA</th>\n",
       "      <th>AYAKKABI</th>\n",
       "      <th>BEYAZ EŞYA</th>\n",
       "      <th>DENİZ TAŞITLARI KİRALAMA, SATIŞ, BAKIM</th>\n",
       "      <th>DOĞRUDAN PAZARLAMA-MAIL ORDER</th>\n",
       "      <th>DİĞER</th>\n",
       "      <th>EĞLENCE VE SPOR</th>\n",
       "      <th>EĞİTİM</th>\n",
       "      <th>...</th>\n",
       "      <th>SEYAHAT ACENTALARI - TAŞIMACILIK</th>\n",
       "      <th>SPOR GİYİM</th>\n",
       "      <th>SİGORTA</th>\n",
       "      <th>SİGORTA-MAIL ORDER</th>\n",
       "      <th>SİNEMA TİYATRO SANAT</th>\n",
       "      <th>TEKNOLOJİ</th>\n",
       "      <th>TEKSTİL</th>\n",
       "      <th>TELEKOMÜNİKASYON</th>\n",
       "      <th>YAPI MALZ., HIRDAVAT, NALBURİYE</th>\n",
       "      <th>İÇKİLİ YERLER - KUMARHANE</th>\n",
       "    </tr>\n",
       "    <tr>\n",
       "      <th>Cust_ID</th>\n",
       "      <th></th>\n",
       "      <th></th>\n",
       "      <th></th>\n",
       "      <th></th>\n",
       "      <th></th>\n",
       "      <th></th>\n",
       "      <th></th>\n",
       "      <th></th>\n",
       "      <th></th>\n",
       "      <th></th>\n",
       "      <th></th>\n",
       "      <th></th>\n",
       "      <th></th>\n",
       "      <th></th>\n",
       "      <th></th>\n",
       "      <th></th>\n",
       "      <th></th>\n",
       "      <th></th>\n",
       "      <th></th>\n",
       "      <th></th>\n",
       "      <th></th>\n",
       "    </tr>\n",
       "  </thead>\n",
       "  <tbody>\n",
       "    <tr>\n",
       "      <th>1560993</th>\n",
       "      <td>0.00</td>\n",
       "      <td>0.00</td>\n",
       "      <td>0.0</td>\n",
       "      <td>0.00</td>\n",
       "      <td>0.0</td>\n",
       "      <td>0.0</td>\n",
       "      <td>0.0</td>\n",
       "      <td>0.00</td>\n",
       "      <td>0.0</td>\n",
       "      <td>0.0</td>\n",
       "      <td>...</td>\n",
       "      <td>0.00</td>\n",
       "      <td>0.00</td>\n",
       "      <td>0.0</td>\n",
       "      <td>0.00</td>\n",
       "      <td>0.0</td>\n",
       "      <td>0.00</td>\n",
       "      <td>0.00</td>\n",
       "      <td>0.0</td>\n",
       "      <td>0.00</td>\n",
       "      <td>0.0</td>\n",
       "    </tr>\n",
       "    <tr>\n",
       "      <th>1566513</th>\n",
       "      <td>2170.00</td>\n",
       "      <td>20.05</td>\n",
       "      <td>0.0</td>\n",
       "      <td>0.00</td>\n",
       "      <td>250.0</td>\n",
       "      <td>0.0</td>\n",
       "      <td>0.0</td>\n",
       "      <td>268.50</td>\n",
       "      <td>0.0</td>\n",
       "      <td>0.0</td>\n",
       "      <td>...</td>\n",
       "      <td>0.00</td>\n",
       "      <td>0.00</td>\n",
       "      <td>0.0</td>\n",
       "      <td>858.00</td>\n",
       "      <td>0.0</td>\n",
       "      <td>2238.76</td>\n",
       "      <td>0.00</td>\n",
       "      <td>1375.0</td>\n",
       "      <td>1928.13</td>\n",
       "      <td>0.0</td>\n",
       "    </tr>\n",
       "    <tr>\n",
       "      <th>1567711</th>\n",
       "      <td>375.32</td>\n",
       "      <td>0.00</td>\n",
       "      <td>0.0</td>\n",
       "      <td>558.40</td>\n",
       "      <td>55.0</td>\n",
       "      <td>0.0</td>\n",
       "      <td>0.0</td>\n",
       "      <td>350.92</td>\n",
       "      <td>0.0</td>\n",
       "      <td>0.0</td>\n",
       "      <td>...</td>\n",
       "      <td>716.87</td>\n",
       "      <td>89.90</td>\n",
       "      <td>0.0</td>\n",
       "      <td>465.39</td>\n",
       "      <td>0.0</td>\n",
       "      <td>77.57</td>\n",
       "      <td>5587.22</td>\n",
       "      <td>912.6</td>\n",
       "      <td>64.93</td>\n",
       "      <td>70.0</td>\n",
       "    </tr>\n",
       "    <tr>\n",
       "      <th>1569761</th>\n",
       "      <td>0.00</td>\n",
       "      <td>0.00</td>\n",
       "      <td>0.0</td>\n",
       "      <td>459.87</td>\n",
       "      <td>0.0</td>\n",
       "      <td>0.0</td>\n",
       "      <td>0.0</td>\n",
       "      <td>0.00</td>\n",
       "      <td>0.0</td>\n",
       "      <td>0.0</td>\n",
       "      <td>...</td>\n",
       "      <td>1590.00</td>\n",
       "      <td>59.99</td>\n",
       "      <td>0.0</td>\n",
       "      <td>0.00</td>\n",
       "      <td>0.0</td>\n",
       "      <td>8797.33</td>\n",
       "      <td>1319.34</td>\n",
       "      <td>0.0</td>\n",
       "      <td>3026.21</td>\n",
       "      <td>0.0</td>\n",
       "    </tr>\n",
       "    <tr>\n",
       "      <th>1569938</th>\n",
       "      <td>0.00</td>\n",
       "      <td>0.00</td>\n",
       "      <td>0.0</td>\n",
       "      <td>0.00</td>\n",
       "      <td>0.0</td>\n",
       "      <td>0.0</td>\n",
       "      <td>0.0</td>\n",
       "      <td>0.00</td>\n",
       "      <td>0.0</td>\n",
       "      <td>0.0</td>\n",
       "      <td>...</td>\n",
       "      <td>0.00</td>\n",
       "      <td>0.00</td>\n",
       "      <td>0.0</td>\n",
       "      <td>0.00</td>\n",
       "      <td>0.0</td>\n",
       "      <td>379.00</td>\n",
       "      <td>19.90</td>\n",
       "      <td>840.0</td>\n",
       "      <td>74.85</td>\n",
       "      <td>0.0</td>\n",
       "    </tr>\n",
       "    <tr>\n",
       "      <th>...</th>\n",
       "      <td>...</td>\n",
       "      <td>...</td>\n",
       "      <td>...</td>\n",
       "      <td>...</td>\n",
       "      <td>...</td>\n",
       "      <td>...</td>\n",
       "      <td>...</td>\n",
       "      <td>...</td>\n",
       "      <td>...</td>\n",
       "      <td>...</td>\n",
       "      <td>...</td>\n",
       "      <td>...</td>\n",
       "      <td>...</td>\n",
       "      <td>...</td>\n",
       "      <td>...</td>\n",
       "      <td>...</td>\n",
       "      <td>...</td>\n",
       "      <td>...</td>\n",
       "      <td>...</td>\n",
       "      <td>...</td>\n",
       "      <td>...</td>\n",
       "    </tr>\n",
       "    <tr>\n",
       "      <th>28196275</th>\n",
       "      <td>0.00</td>\n",
       "      <td>0.00</td>\n",
       "      <td>0.0</td>\n",
       "      <td>0.00</td>\n",
       "      <td>0.0</td>\n",
       "      <td>0.0</td>\n",
       "      <td>0.0</td>\n",
       "      <td>0.00</td>\n",
       "      <td>0.0</td>\n",
       "      <td>0.0</td>\n",
       "      <td>...</td>\n",
       "      <td>0.00</td>\n",
       "      <td>0.00</td>\n",
       "      <td>0.0</td>\n",
       "      <td>0.00</td>\n",
       "      <td>0.0</td>\n",
       "      <td>55.25</td>\n",
       "      <td>0.00</td>\n",
       "      <td>0.0</td>\n",
       "      <td>0.00</td>\n",
       "      <td>0.0</td>\n",
       "    </tr>\n",
       "    <tr>\n",
       "      <th>28196280</th>\n",
       "      <td>0.00</td>\n",
       "      <td>0.00</td>\n",
       "      <td>0.0</td>\n",
       "      <td>0.00</td>\n",
       "      <td>0.0</td>\n",
       "      <td>0.0</td>\n",
       "      <td>0.0</td>\n",
       "      <td>0.00</td>\n",
       "      <td>0.0</td>\n",
       "      <td>0.0</td>\n",
       "      <td>...</td>\n",
       "      <td>0.00</td>\n",
       "      <td>0.00</td>\n",
       "      <td>0.0</td>\n",
       "      <td>0.00</td>\n",
       "      <td>0.0</td>\n",
       "      <td>0.00</td>\n",
       "      <td>0.00</td>\n",
       "      <td>0.0</td>\n",
       "      <td>229.90</td>\n",
       "      <td>0.0</td>\n",
       "    </tr>\n",
       "    <tr>\n",
       "      <th>28200516</th>\n",
       "      <td>0.00</td>\n",
       "      <td>0.00</td>\n",
       "      <td>0.0</td>\n",
       "      <td>0.00</td>\n",
       "      <td>0.0</td>\n",
       "      <td>0.0</td>\n",
       "      <td>0.0</td>\n",
       "      <td>0.00</td>\n",
       "      <td>0.0</td>\n",
       "      <td>0.0</td>\n",
       "      <td>...</td>\n",
       "      <td>0.00</td>\n",
       "      <td>0.00</td>\n",
       "      <td>0.0</td>\n",
       "      <td>0.00</td>\n",
       "      <td>0.0</td>\n",
       "      <td>5338.26</td>\n",
       "      <td>0.00</td>\n",
       "      <td>0.0</td>\n",
       "      <td>0.00</td>\n",
       "      <td>0.0</td>\n",
       "    </tr>\n",
       "    <tr>\n",
       "      <th>28203156</th>\n",
       "      <td>541.99</td>\n",
       "      <td>0.00</td>\n",
       "      <td>0.0</td>\n",
       "      <td>0.00</td>\n",
       "      <td>0.0</td>\n",
       "      <td>0.0</td>\n",
       "      <td>0.0</td>\n",
       "      <td>0.00</td>\n",
       "      <td>0.0</td>\n",
       "      <td>0.0</td>\n",
       "      <td>...</td>\n",
       "      <td>0.00</td>\n",
       "      <td>0.00</td>\n",
       "      <td>0.0</td>\n",
       "      <td>0.00</td>\n",
       "      <td>0.0</td>\n",
       "      <td>0.00</td>\n",
       "      <td>0.00</td>\n",
       "      <td>0.0</td>\n",
       "      <td>0.00</td>\n",
       "      <td>0.0</td>\n",
       "    </tr>\n",
       "    <tr>\n",
       "      <th>28204207</th>\n",
       "      <td>0.00</td>\n",
       "      <td>0.00</td>\n",
       "      <td>0.0</td>\n",
       "      <td>0.00</td>\n",
       "      <td>0.0</td>\n",
       "      <td>0.0</td>\n",
       "      <td>0.0</td>\n",
       "      <td>0.00</td>\n",
       "      <td>0.0</td>\n",
       "      <td>0.0</td>\n",
       "      <td>...</td>\n",
       "      <td>121.95</td>\n",
       "      <td>0.00</td>\n",
       "      <td>0.0</td>\n",
       "      <td>0.00</td>\n",
       "      <td>0.0</td>\n",
       "      <td>0.00</td>\n",
       "      <td>0.00</td>\n",
       "      <td>0.0</td>\n",
       "      <td>0.00</td>\n",
       "      <td>0.0</td>\n",
       "    </tr>\n",
       "  </tbody>\n",
       "</table>\n",
       "<p>101864 rows × 35 columns</p>\n",
       "</div>"
      ],
      "text/plain": [
       "Category  AKARYAKIT  ALIŞVERİŞ MERKEZLERİ  ARABA KİRALAMA  AYAKKABI  \\\n",
       "Cust_ID                                                               \n",
       "1560993        0.00                  0.00             0.0      0.00   \n",
       "1566513     2170.00                 20.05             0.0      0.00   \n",
       "1567711      375.32                  0.00             0.0    558.40   \n",
       "1569761        0.00                  0.00             0.0    459.87   \n",
       "1569938        0.00                  0.00             0.0      0.00   \n",
       "...             ...                   ...             ...       ...   \n",
       "28196275       0.00                  0.00             0.0      0.00   \n",
       "28196280       0.00                  0.00             0.0      0.00   \n",
       "28200516       0.00                  0.00             0.0      0.00   \n",
       "28203156     541.99                  0.00             0.0      0.00   \n",
       "28204207       0.00                  0.00             0.0      0.00   \n",
       "\n",
       "Category  BEYAZ EŞYA  DENİZ TAŞITLARI KİRALAMA, SATIŞ, BAKIM  \\\n",
       "Cust_ID                                                        \n",
       "1560993          0.0                                     0.0   \n",
       "1566513        250.0                                     0.0   \n",
       "1567711         55.0                                     0.0   \n",
       "1569761          0.0                                     0.0   \n",
       "1569938          0.0                                     0.0   \n",
       "...              ...                                     ...   \n",
       "28196275         0.0                                     0.0   \n",
       "28196280         0.0                                     0.0   \n",
       "28200516         0.0                                     0.0   \n",
       "28203156         0.0                                     0.0   \n",
       "28204207         0.0                                     0.0   \n",
       "\n",
       "Category  DOĞRUDAN PAZARLAMA-MAIL ORDER   DİĞER  EĞLENCE VE SPOR  EĞİTİM  ...  \\\n",
       "Cust_ID                                                                   ...   \n",
       "1560993                             0.0    0.00              0.0     0.0  ...   \n",
       "1566513                             0.0  268.50              0.0     0.0  ...   \n",
       "1567711                             0.0  350.92              0.0     0.0  ...   \n",
       "1569761                             0.0    0.00              0.0     0.0  ...   \n",
       "1569938                             0.0    0.00              0.0     0.0  ...   \n",
       "...                                 ...     ...              ...     ...  ...   \n",
       "28196275                            0.0    0.00              0.0     0.0  ...   \n",
       "28196280                            0.0    0.00              0.0     0.0  ...   \n",
       "28200516                            0.0    0.00              0.0     0.0  ...   \n",
       "28203156                            0.0    0.00              0.0     0.0  ...   \n",
       "28204207                            0.0    0.00              0.0     0.0  ...   \n",
       "\n",
       "Category  SEYAHAT ACENTALARI - TAŞIMACILIK  SPOR GİYİM  SİGORTA  \\\n",
       "Cust_ID                                                           \n",
       "1560993                               0.00        0.00      0.0   \n",
       "1566513                               0.00        0.00      0.0   \n",
       "1567711                             716.87       89.90      0.0   \n",
       "1569761                            1590.00       59.99      0.0   \n",
       "1569938                               0.00        0.00      0.0   \n",
       "...                                    ...         ...      ...   \n",
       "28196275                              0.00        0.00      0.0   \n",
       "28196280                              0.00        0.00      0.0   \n",
       "28200516                              0.00        0.00      0.0   \n",
       "28203156                              0.00        0.00      0.0   \n",
       "28204207                            121.95        0.00      0.0   \n",
       "\n",
       "Category  SİGORTA-MAIL ORDER  SİNEMA TİYATRO SANAT  TEKNOLOJİ  TEKSTİL  \\\n",
       "Cust_ID                                                                  \n",
       "1560993                 0.00                   0.0       0.00     0.00   \n",
       "1566513               858.00                   0.0    2238.76     0.00   \n",
       "1567711               465.39                   0.0      77.57  5587.22   \n",
       "1569761                 0.00                   0.0    8797.33  1319.34   \n",
       "1569938                 0.00                   0.0     379.00    19.90   \n",
       "...                      ...                   ...        ...      ...   \n",
       "28196275                0.00                   0.0      55.25     0.00   \n",
       "28196280                0.00                   0.0       0.00     0.00   \n",
       "28200516                0.00                   0.0    5338.26     0.00   \n",
       "28203156                0.00                   0.0       0.00     0.00   \n",
       "28204207                0.00                   0.0       0.00     0.00   \n",
       "\n",
       "Category  TELEKOMÜNİKASYON  YAPI MALZ., HIRDAVAT, NALBURİYE  \\\n",
       "Cust_ID                                                       \n",
       "1560993                0.0                             0.00   \n",
       "1566513             1375.0                          1928.13   \n",
       "1567711              912.6                            64.93   \n",
       "1569761                0.0                          3026.21   \n",
       "1569938              840.0                            74.85   \n",
       "...                    ...                              ...   \n",
       "28196275               0.0                             0.00   \n",
       "28196280               0.0                           229.90   \n",
       "28200516               0.0                             0.00   \n",
       "28203156               0.0                             0.00   \n",
       "28204207               0.0                             0.00   \n",
       "\n",
       "Category  İÇKİLİ YERLER - KUMARHANE  \n",
       "Cust_ID                              \n",
       "1560993                         0.0  \n",
       "1566513                         0.0  \n",
       "1567711                        70.0  \n",
       "1569761                         0.0  \n",
       "1569938                         0.0  \n",
       "...                             ...  \n",
       "28196275                        0.0  \n",
       "28196280                        0.0  \n",
       "28200516                        0.0  \n",
       "28203156                        0.0  \n",
       "28204207                        0.0  \n",
       "\n",
       "[101864 rows x 35 columns]"
      ]
     },
     "execution_count": 13,
     "metadata": {},
     "output_type": "execute_result"
    }
   ],
   "source": [
    "trans_cats"
   ]
  },
  {
   "cell_type": "code",
   "execution_count": 14,
   "id": "2f72208b-41fe-4755-9377-bbe791332d96",
   "metadata": {
    "tags": []
   },
   "outputs": [],
   "source": [
    "demo_df = demo_df.join(trans_cats, on='Cust_ID')"
   ]
  },
  {
   "cell_type": "code",
   "execution_count": 15,
   "id": "b2adbd4a-bf27-4ca6-a16f-ade625fc85d4",
   "metadata": {},
   "outputs": [],
   "source": [
    "demo_df.drop('Cust_ID', axis = 1, inplace = True)"
   ]
  },
  {
   "cell_type": "code",
   "execution_count": 16,
   "id": "53f9c9a7-65b9-4079-a354-16be845690e6",
   "metadata": {},
   "outputs": [
    {
     "name": "stdout",
     "output_type": "stream",
     "text": [
      "<class 'pandas.core.frame.DataFrame'>\n",
      "RangeIndex: 10321 entries, 0 to 10320\n",
      "Data columns (total 66 columns):\n",
      " #   Column                                  Non-Null Count  Dtype  \n",
      "---  ------                                  --------------  -----  \n",
      " 0   Cust_Segment                            10321 non-null  object \n",
      " 1   Branch_ID                               10321 non-null  int64  \n",
      " 2   Gender                                  10321 non-null  object \n",
      " 3   Marital_Status                          10321 non-null  object \n",
      " 4   Education_Lv                            10321 non-null  object \n",
      " 5   Job_Status                              10321 non-null  object \n",
      " 6   Income                                  10080 non-null  float64\n",
      " 7   Age                                     10321 non-null  int64  \n",
      " 8   Years_w_Bank                            10321 non-null  float64\n",
      " 9   Work_Region                             10321 non-null  object \n",
      " 10  Home_Region                             10321 non-null  object \n",
      " 11  Branch_Region                           10321 non-null  object \n",
      " 12  1)RISKSIZ                               10321 non-null  float64\n",
      " 13  2)GECIKME 1-15 GUN                      10321 non-null  float64\n",
      " 14  3)GECIKME 16-29 GUN                     10321 non-null  float64\n",
      " 15  4)GECIKME 30-59 GUN                     10321 non-null  float64\n",
      " 16  5)GECIKME 60+ GUN                       10321 non-null  float64\n",
      " 17  6)TAKIP                                 10321 non-null  float64\n",
      " 18  statement_mean                          10224 non-null  float64\n",
      " 19  statement_max                           10224 non-null  float64\n",
      " 20  transaction1_mean                       10083 non-null  float64\n",
      " 21  transaction1_max                        10083 non-null  float64\n",
      " 22  transaction2_mean                       10136 non-null  float64\n",
      " 23  transaction2_max                        10136 non-null  float64\n",
      " 24  online_trans_percent                    10136 non-null  float64\n",
      " 25  transaction_food_mean                   8874 non-null   float64\n",
      " 26  transaction_food_max                    8874 non-null   float64\n",
      " 27  transaction_health_mean                 5360 non-null   float64\n",
      " 28  transaction_health_max                  5360 non-null   float64\n",
      " 29  transaction_gas_mean                    5847 non-null   float64\n",
      " 30  transaction_gas_max                     5847 non-null   float64\n",
      " 31  AKARYAKIT                               10205 non-null  float64\n",
      " 32  ALIŞVERİŞ MERKEZLERİ                    10205 non-null  float64\n",
      " 33  ARABA KİRALAMA                          10205 non-null  float64\n",
      " 34  AYAKKABI                                10205 non-null  float64\n",
      " 35  BEYAZ EŞYA                              10205 non-null  float64\n",
      " 36  DENİZ TAŞITLARI KİRALAMA, SATIŞ, BAKIM  10205 non-null  float64\n",
      " 37  DOĞRUDAN PAZARLAMA-MAIL ORDER           10205 non-null  float64\n",
      " 38  DİĞER                                   10205 non-null  float64\n",
      " 39  EĞLENCE VE SPOR                         10205 non-null  float64\n",
      " 40  EĞİTİM                                  10205 non-null  float64\n",
      " 41  GIDA                                    10205 non-null  float64\n",
      " 42  HAVAYOLLARI                             10205 non-null  float64\n",
      " 43  HOTEL                                   10205 non-null  float64\n",
      " 44  HİZMET SEKTÖRLERİ                       10205 non-null  float64\n",
      " 45  KOZMETİK                                10205 non-null  float64\n",
      " 46  KUYUMCU                                 10205 non-null  float64\n",
      " 47  MOBİLYA, DEKORASYON                     10205 non-null  float64\n",
      " 48  MOTOSİKLET                              10205 non-null  float64\n",
      " 49  MUZIK MARKET KIRTASİYE                  10205 non-null  float64\n",
      " 50  NAKİT AVANS                             10205 non-null  float64\n",
      " 51  OPTİK                                   10205 non-null  float64\n",
      " 52  OTOMOTİV                                10205 non-null  float64\n",
      " 53  OYUNCAK                                 10205 non-null  float64\n",
      " 54  RESTORAN                                10205 non-null  float64\n",
      " 55  SAĞLIK                                  10205 non-null  float64\n",
      " 56  SEYAHAT ACENTALARI - TAŞIMACILIK        10205 non-null  float64\n",
      " 57  SPOR GİYİM                              10205 non-null  float64\n",
      " 58  SİGORTA                                 10205 non-null  float64\n",
      " 59  SİGORTA-MAIL ORDER                      10205 non-null  float64\n",
      " 60  SİNEMA TİYATRO SANAT                    10205 non-null  float64\n",
      " 61  TEKNOLOJİ                               10205 non-null  float64\n",
      " 62  TEKSTİL                                 10205 non-null  float64\n",
      " 63  TELEKOMÜNİKASYON                        10205 non-null  float64\n",
      " 64  YAPI MALZ., HIRDAVAT, NALBURİYE         10205 non-null  float64\n",
      " 65  İÇKİLİ YERLER - KUMARHANE               10205 non-null  float64\n",
      "dtypes: float64(56), int64(2), object(8)\n",
      "memory usage: 5.2+ MB\n"
     ]
    }
   ],
   "source": [
    "demo_df.info()"
   ]
  },
  {
   "cell_type": "markdown",
   "id": "27c90eb1-b3af-44c1-a781-1e71018055b3",
   "metadata": {},
   "source": [
    "## Data Exploration"
   ]
  },
  {
   "cell_type": "code",
   "execution_count": 17,
   "id": "c69a2aab-4285-43c0-90c1-89eed787474f",
   "metadata": {},
   "outputs": [
    {
     "data": {
      "text/plain": [
       "BİREYSEL                       9598\n",
       "BİREBİR                         400\n",
       "MİKRO                           298\n",
       "EXI26                            16\n",
       "ÖZEL BANKACILIK MÜŞTERİLERİ       9\n",
       "Name: Cust_Segment, dtype: int64"
      ]
     },
     "execution_count": 17,
     "metadata": {},
     "output_type": "execute_result"
    }
   ],
   "source": [
    "demo_df['Cust_Segment'].value_counts()"
   ]
  },
  {
   "cell_type": "code",
   "execution_count": 18,
   "id": "5d79c3c6-62e4-43ee-a735-33fdc9b42fee",
   "metadata": {},
   "outputs": [
    {
     "data": {
      "text/plain": [
       "EVLİ          6563\n",
       "BEKAR         3104\n",
       "BOŞANMIŞ       473\n",
       "BİLINMİYOR     143\n",
       "DUL             38\n",
       "Name: Marital_Status, dtype: int64"
      ]
     },
     "execution_count": 18,
     "metadata": {},
     "output_type": "execute_result"
    }
   ],
   "source": [
    "demo_df['Marital_Status'].value_counts()"
   ]
  },
  {
   "cell_type": "code",
   "execution_count": 19,
   "id": "92da2e8c-cd08-4f25-b0a7-b1c252d01d81",
   "metadata": {},
   "outputs": [
    {
     "data": {
      "text/plain": [
       "HS_below      6440\n",
       "University    3489\n",
       "Graduate       385\n",
       "BİLİNMİYOR       7\n",
       "Name: Education_Lv, dtype: int64"
      ]
     },
     "execution_count": 19,
     "metadata": {},
     "output_type": "execute_result"
    }
   ],
   "source": [
    "demo_df['Education_Lv'].value_counts()"
   ]
  },
  {
   "cell_type": "code",
   "execution_count": 20,
   "id": "10ca8aed-3389-4730-8654-0b2b262019e7",
   "metadata": {},
   "outputs": [
    {
     "data": {
      "text/plain": [
       "ÜCRETLİ (ÖZEL)                    7812\n",
       "SERBEST MESLEK                    1123\n",
       "ÜCRETLI (KAMU)                     550\n",
       "EMEKLİ                             322\n",
       "ÇALIŞAN EMEKLİ(ÜCRETLİ)            202\n",
       "EV HANIMI                           82\n",
       "ÇALIŞMIYOR                          76\n",
       "ÇALIŞAN EMEKLİ(SERBEST MESLEK)      65\n",
       "DİĞER                               37\n",
       "TANIMSIZ                            29\n",
       "ÖĞRENCİ                             21\n",
       "YURTDIŞINDA ÇALIŞAN                  2\n",
       "Name: Job_Status, dtype: int64"
      ]
     },
     "execution_count": 20,
     "metadata": {},
     "output_type": "execute_result"
    }
   ],
   "source": [
    "demo_df['Job_Status'].value_counts()"
   ]
  },
  {
   "cell_type": "code",
   "execution_count": 21,
   "id": "2a22d5ff-31ee-40c2-a041-4ec0c71c65e7",
   "metadata": {},
   "outputs": [
    {
     "data": {
      "text/plain": [
       "MARMARA             10062\n",
       "BLACK SEA              70\n",
       "MEDITERRANEAN          52\n",
       "AEGEAN                 41\n",
       "CENTRAL ANATOLIA       40\n",
       "EASTERN ANATOLIA       35\n",
       "SE ANATOLIA            21\n",
       "Name: Home_Region, dtype: int64"
      ]
     },
     "execution_count": 21,
     "metadata": {},
     "output_type": "execute_result"
    }
   ],
   "source": [
    "demo_df['Home_Region'].value_counts()"
   ]
  },
  {
   "cell_type": "code",
   "execution_count": 22,
   "id": "9a371bf7-ac7b-409f-a567-54a73a73119b",
   "metadata": {},
   "outputs": [
    {
     "data": {
      "text/plain": [
       "MARMARA             10199\n",
       "AEGEAN                 29\n",
       "CENTRAL ANATOLIA       29\n",
       "BLACK SEA              24\n",
       "MEDITERRANEAN          20\n",
       "EASTERN ANATOLIA       10\n",
       "SE ANATOLIA            10\n",
       "Name: Work_Region, dtype: int64"
      ]
     },
     "execution_count": 22,
     "metadata": {},
     "output_type": "execute_result"
    }
   ],
   "source": [
    "demo_df['Work_Region'].value_counts()"
   ]
  },
  {
   "cell_type": "code",
   "execution_count": 23,
   "id": "e3f62cc4-2c48-410f-b922-98a2f520f39a",
   "metadata": {},
   "outputs": [
    {
     "data": {
      "text/plain": [
       "MARMARA             9869\n",
       "BLACK SEA            109\n",
       "CENTRAL ANATOLIA     107\n",
       "AEGEAN               100\n",
       "MEDITERRANEAN         68\n",
       "EASTERN ANATOLIA      37\n",
       "SE ANATOLIA           31\n",
       "Name: Branch_Region, dtype: int64"
      ]
     },
     "execution_count": 23,
     "metadata": {},
     "output_type": "execute_result"
    }
   ],
   "source": [
    "demo_df['Branch_Region'].value_counts()"
   ]
  },
  {
   "cell_type": "code",
   "execution_count": 24,
   "id": "88c1e240-9d28-4398-960f-aa6b1fb4b83b",
   "metadata": {},
   "outputs": [
    {
     "data": {
      "text/plain": [
       "Cust_Segment                         0\n",
       "Branch_ID                            0\n",
       "Gender                               0\n",
       "Marital_Status                       0\n",
       "Education_Lv                         0\n",
       "                                  ... \n",
       "TEKNOLOJİ                          116\n",
       "TEKSTİL                            116\n",
       "TELEKOMÜNİKASYON                   116\n",
       "YAPI MALZ., HIRDAVAT, NALBURİYE    116\n",
       "İÇKİLİ YERLER - KUMARHANE          116\n",
       "Length: 66, dtype: int64"
      ]
     },
     "execution_count": 24,
     "metadata": {},
     "output_type": "execute_result"
    }
   ],
   "source": [
    "# check values for nulls\n",
    "demo_df.isnull().sum(axis = 0)"
   ]
  },
  {
   "cell_type": "code",
   "execution_count": 25,
   "id": "5044d069-d8e6-4df5-aa68-d2d7b1f39aa7",
   "metadata": {},
   "outputs": [
    {
     "data": {
      "text/html": [
       "<div>\n",
       "<style scoped>\n",
       "    .dataframe tbody tr th:only-of-type {\n",
       "        vertical-align: middle;\n",
       "    }\n",
       "\n",
       "    .dataframe tbody tr th {\n",
       "        vertical-align: top;\n",
       "    }\n",
       "\n",
       "    .dataframe thead th {\n",
       "        text-align: right;\n",
       "    }\n",
       "</style>\n",
       "<table border=\"1\" class=\"dataframe\">\n",
       "  <thead>\n",
       "    <tr style=\"text-align: right;\">\n",
       "      <th></th>\n",
       "      <th>Cust_Segment</th>\n",
       "      <th>Branch_ID</th>\n",
       "      <th>Gender</th>\n",
       "      <th>Marital_Status</th>\n",
       "      <th>Education_Lv</th>\n",
       "      <th>Job_Status</th>\n",
       "      <th>Income</th>\n",
       "      <th>Age</th>\n",
       "      <th>Years_w_Bank</th>\n",
       "      <th>Work_Region</th>\n",
       "      <th>...</th>\n",
       "      <th>SEYAHAT ACENTALARI - TAŞIMACILIK</th>\n",
       "      <th>SPOR GİYİM</th>\n",
       "      <th>SİGORTA</th>\n",
       "      <th>SİGORTA-MAIL ORDER</th>\n",
       "      <th>SİNEMA TİYATRO SANAT</th>\n",
       "      <th>TEKNOLOJİ</th>\n",
       "      <th>TEKSTİL</th>\n",
       "      <th>TELEKOMÜNİKASYON</th>\n",
       "      <th>YAPI MALZ., HIRDAVAT, NALBURİYE</th>\n",
       "      <th>İÇKİLİ YERLER - KUMARHANE</th>\n",
       "    </tr>\n",
       "  </thead>\n",
       "  <tbody>\n",
       "    <tr>\n",
       "      <th>21</th>\n",
       "      <td>BİREYSEL</td>\n",
       "      <td>16</td>\n",
       "      <td>E</td>\n",
       "      <td>EVLİ</td>\n",
       "      <td>HS_below</td>\n",
       "      <td>ÜCRETLİ (ÖZEL)</td>\n",
       "      <td>2000.0</td>\n",
       "      <td>44</td>\n",
       "      <td>9.0</td>\n",
       "      <td>MARMARA</td>\n",
       "      <td>...</td>\n",
       "      <td>NaN</td>\n",
       "      <td>NaN</td>\n",
       "      <td>NaN</td>\n",
       "      <td>NaN</td>\n",
       "      <td>NaN</td>\n",
       "      <td>NaN</td>\n",
       "      <td>NaN</td>\n",
       "      <td>NaN</td>\n",
       "      <td>NaN</td>\n",
       "      <td>NaN</td>\n",
       "    </tr>\n",
       "    <tr>\n",
       "      <th>72</th>\n",
       "      <td>BİREYSEL</td>\n",
       "      <td>1168</td>\n",
       "      <td>E</td>\n",
       "      <td>BEKAR</td>\n",
       "      <td>HS_below</td>\n",
       "      <td>ÜCRETLİ (ÖZEL)</td>\n",
       "      <td>1200.0</td>\n",
       "      <td>25</td>\n",
       "      <td>3.0</td>\n",
       "      <td>MARMARA</td>\n",
       "      <td>...</td>\n",
       "      <td>NaN</td>\n",
       "      <td>NaN</td>\n",
       "      <td>NaN</td>\n",
       "      <td>NaN</td>\n",
       "      <td>NaN</td>\n",
       "      <td>NaN</td>\n",
       "      <td>NaN</td>\n",
       "      <td>NaN</td>\n",
       "      <td>NaN</td>\n",
       "      <td>NaN</td>\n",
       "    </tr>\n",
       "    <tr>\n",
       "      <th>128</th>\n",
       "      <td>BİREYSEL</td>\n",
       "      <td>728</td>\n",
       "      <td>E</td>\n",
       "      <td>EVLİ</td>\n",
       "      <td>HS_below</td>\n",
       "      <td>SERBEST MESLEK</td>\n",
       "      <td>13311.0</td>\n",
       "      <td>44</td>\n",
       "      <td>11.0</td>\n",
       "      <td>MARMARA</td>\n",
       "      <td>...</td>\n",
       "      <td>NaN</td>\n",
       "      <td>NaN</td>\n",
       "      <td>NaN</td>\n",
       "      <td>NaN</td>\n",
       "      <td>NaN</td>\n",
       "      <td>NaN</td>\n",
       "      <td>NaN</td>\n",
       "      <td>NaN</td>\n",
       "      <td>NaN</td>\n",
       "      <td>NaN</td>\n",
       "    </tr>\n",
       "    <tr>\n",
       "      <th>360</th>\n",
       "      <td>BİREYSEL</td>\n",
       "      <td>571</td>\n",
       "      <td>E</td>\n",
       "      <td>BEKAR</td>\n",
       "      <td>HS_below</td>\n",
       "      <td>ÜCRETLİ (ÖZEL)</td>\n",
       "      <td>1500.0</td>\n",
       "      <td>25</td>\n",
       "      <td>1.0</td>\n",
       "      <td>MARMARA</td>\n",
       "      <td>...</td>\n",
       "      <td>NaN</td>\n",
       "      <td>NaN</td>\n",
       "      <td>NaN</td>\n",
       "      <td>NaN</td>\n",
       "      <td>NaN</td>\n",
       "      <td>NaN</td>\n",
       "      <td>NaN</td>\n",
       "      <td>NaN</td>\n",
       "      <td>NaN</td>\n",
       "      <td>NaN</td>\n",
       "    </tr>\n",
       "    <tr>\n",
       "      <th>550</th>\n",
       "      <td>BİREYSEL</td>\n",
       "      <td>1343</td>\n",
       "      <td>E</td>\n",
       "      <td>EVLİ</td>\n",
       "      <td>HS_below</td>\n",
       "      <td>ÇALIŞAN EMEKLİ(ÜCRETLİ)</td>\n",
       "      <td>2422.0</td>\n",
       "      <td>51</td>\n",
       "      <td>3.0</td>\n",
       "      <td>MARMARA</td>\n",
       "      <td>...</td>\n",
       "      <td>NaN</td>\n",
       "      <td>NaN</td>\n",
       "      <td>NaN</td>\n",
       "      <td>NaN</td>\n",
       "      <td>NaN</td>\n",
       "      <td>NaN</td>\n",
       "      <td>NaN</td>\n",
       "      <td>NaN</td>\n",
       "      <td>NaN</td>\n",
       "      <td>NaN</td>\n",
       "    </tr>\n",
       "    <tr>\n",
       "      <th>...</th>\n",
       "      <td>...</td>\n",
       "      <td>...</td>\n",
       "      <td>...</td>\n",
       "      <td>...</td>\n",
       "      <td>...</td>\n",
       "      <td>...</td>\n",
       "      <td>...</td>\n",
       "      <td>...</td>\n",
       "      <td>...</td>\n",
       "      <td>...</td>\n",
       "      <td>...</td>\n",
       "      <td>...</td>\n",
       "      <td>...</td>\n",
       "      <td>...</td>\n",
       "      <td>...</td>\n",
       "      <td>...</td>\n",
       "      <td>...</td>\n",
       "      <td>...</td>\n",
       "      <td>...</td>\n",
       "      <td>...</td>\n",
       "      <td>...</td>\n",
       "    </tr>\n",
       "    <tr>\n",
       "      <th>9871</th>\n",
       "      <td>BİREYSEL</td>\n",
       "      <td>692</td>\n",
       "      <td>K</td>\n",
       "      <td>EVLİ</td>\n",
       "      <td>University</td>\n",
       "      <td>ÜCRETLİ (ÖZEL)</td>\n",
       "      <td>0.0</td>\n",
       "      <td>35</td>\n",
       "      <td>13.0</td>\n",
       "      <td>MARMARA</td>\n",
       "      <td>...</td>\n",
       "      <td>NaN</td>\n",
       "      <td>NaN</td>\n",
       "      <td>NaN</td>\n",
       "      <td>NaN</td>\n",
       "      <td>NaN</td>\n",
       "      <td>NaN</td>\n",
       "      <td>NaN</td>\n",
       "      <td>NaN</td>\n",
       "      <td>NaN</td>\n",
       "      <td>NaN</td>\n",
       "    </tr>\n",
       "    <tr>\n",
       "      <th>9876</th>\n",
       "      <td>BİREYSEL</td>\n",
       "      <td>766</td>\n",
       "      <td>K</td>\n",
       "      <td>BEKAR</td>\n",
       "      <td>Graduate</td>\n",
       "      <td>ÜCRETLİ (ÖZEL)</td>\n",
       "      <td>0.0</td>\n",
       "      <td>47</td>\n",
       "      <td>7.0</td>\n",
       "      <td>MARMARA</td>\n",
       "      <td>...</td>\n",
       "      <td>NaN</td>\n",
       "      <td>NaN</td>\n",
       "      <td>NaN</td>\n",
       "      <td>NaN</td>\n",
       "      <td>NaN</td>\n",
       "      <td>NaN</td>\n",
       "      <td>NaN</td>\n",
       "      <td>NaN</td>\n",
       "      <td>NaN</td>\n",
       "      <td>NaN</td>\n",
       "    </tr>\n",
       "    <tr>\n",
       "      <th>9964</th>\n",
       "      <td>BİREYSEL</td>\n",
       "      <td>392</td>\n",
       "      <td>K</td>\n",
       "      <td>BOŞANMIŞ</td>\n",
       "      <td>HS_below</td>\n",
       "      <td>ÜCRETLİ (ÖZEL)</td>\n",
       "      <td>3000.0</td>\n",
       "      <td>45</td>\n",
       "      <td>8.0</td>\n",
       "      <td>MARMARA</td>\n",
       "      <td>...</td>\n",
       "      <td>NaN</td>\n",
       "      <td>NaN</td>\n",
       "      <td>NaN</td>\n",
       "      <td>NaN</td>\n",
       "      <td>NaN</td>\n",
       "      <td>NaN</td>\n",
       "      <td>NaN</td>\n",
       "      <td>NaN</td>\n",
       "      <td>NaN</td>\n",
       "      <td>NaN</td>\n",
       "    </tr>\n",
       "    <tr>\n",
       "      <th>10127</th>\n",
       "      <td>BİREYSEL</td>\n",
       "      <td>161</td>\n",
       "      <td>E</td>\n",
       "      <td>BEKAR</td>\n",
       "      <td>HS_below</td>\n",
       "      <td>ÜCRETLİ (ÖZEL)</td>\n",
       "      <td>1100.0</td>\n",
       "      <td>27</td>\n",
       "      <td>3.0</td>\n",
       "      <td>MARMARA</td>\n",
       "      <td>...</td>\n",
       "      <td>NaN</td>\n",
       "      <td>NaN</td>\n",
       "      <td>NaN</td>\n",
       "      <td>NaN</td>\n",
       "      <td>NaN</td>\n",
       "      <td>NaN</td>\n",
       "      <td>NaN</td>\n",
       "      <td>NaN</td>\n",
       "      <td>NaN</td>\n",
       "      <td>NaN</td>\n",
       "    </tr>\n",
       "    <tr>\n",
       "      <th>10184</th>\n",
       "      <td>BİREYSEL</td>\n",
       "      <td>194</td>\n",
       "      <td>K</td>\n",
       "      <td>EVLİ</td>\n",
       "      <td>University</td>\n",
       "      <td>ÜCRETLİ (ÖZEL)</td>\n",
       "      <td>0.0</td>\n",
       "      <td>31</td>\n",
       "      <td>7.0</td>\n",
       "      <td>MARMARA</td>\n",
       "      <td>...</td>\n",
       "      <td>NaN</td>\n",
       "      <td>NaN</td>\n",
       "      <td>NaN</td>\n",
       "      <td>NaN</td>\n",
       "      <td>NaN</td>\n",
       "      <td>NaN</td>\n",
       "      <td>NaN</td>\n",
       "      <td>NaN</td>\n",
       "      <td>NaN</td>\n",
       "      <td>NaN</td>\n",
       "    </tr>\n",
       "  </tbody>\n",
       "</table>\n",
       "<p>116 rows × 66 columns</p>\n",
       "</div>"
      ],
      "text/plain": [
       "      Cust_Segment  Branch_ID Gender Marital_Status Education_Lv  \\\n",
       "21        BİREYSEL         16      E           EVLİ     HS_below   \n",
       "72        BİREYSEL       1168      E          BEKAR     HS_below   \n",
       "128       BİREYSEL        728      E           EVLİ     HS_below   \n",
       "360       BİREYSEL        571      E          BEKAR     HS_below   \n",
       "550       BİREYSEL       1343      E           EVLİ     HS_below   \n",
       "...            ...        ...    ...            ...          ...   \n",
       "9871      BİREYSEL        692      K           EVLİ   University   \n",
       "9876      BİREYSEL        766      K          BEKAR     Graduate   \n",
       "9964      BİREYSEL        392      K       BOŞANMIŞ     HS_below   \n",
       "10127     BİREYSEL        161      E          BEKAR     HS_below   \n",
       "10184     BİREYSEL        194      K           EVLİ   University   \n",
       "\n",
       "                    Job_Status   Income  Age  Years_w_Bank Work_Region  ...  \\\n",
       "21              ÜCRETLİ (ÖZEL)   2000.0   44           9.0     MARMARA  ...   \n",
       "72              ÜCRETLİ (ÖZEL)   1200.0   25           3.0     MARMARA  ...   \n",
       "128             SERBEST MESLEK  13311.0   44          11.0     MARMARA  ...   \n",
       "360             ÜCRETLİ (ÖZEL)   1500.0   25           1.0     MARMARA  ...   \n",
       "550    ÇALIŞAN EMEKLİ(ÜCRETLİ)   2422.0   51           3.0     MARMARA  ...   \n",
       "...                        ...      ...  ...           ...         ...  ...   \n",
       "9871            ÜCRETLİ (ÖZEL)      0.0   35          13.0     MARMARA  ...   \n",
       "9876            ÜCRETLİ (ÖZEL)      0.0   47           7.0     MARMARA  ...   \n",
       "9964            ÜCRETLİ (ÖZEL)   3000.0   45           8.0     MARMARA  ...   \n",
       "10127           ÜCRETLİ (ÖZEL)   1100.0   27           3.0     MARMARA  ...   \n",
       "10184           ÜCRETLİ (ÖZEL)      0.0   31           7.0     MARMARA  ...   \n",
       "\n",
       "      SEYAHAT ACENTALARI - TAŞIMACILIK SPOR GİYİM  SİGORTA  \\\n",
       "21                                 NaN        NaN      NaN   \n",
       "72                                 NaN        NaN      NaN   \n",
       "128                                NaN        NaN      NaN   \n",
       "360                                NaN        NaN      NaN   \n",
       "550                                NaN        NaN      NaN   \n",
       "...                                ...        ...      ...   \n",
       "9871                               NaN        NaN      NaN   \n",
       "9876                               NaN        NaN      NaN   \n",
       "9964                               NaN        NaN      NaN   \n",
       "10127                              NaN        NaN      NaN   \n",
       "10184                              NaN        NaN      NaN   \n",
       "\n",
       "       SİGORTA-MAIL ORDER  SİNEMA TİYATRO SANAT  TEKNOLOJİ  TEKSTİL  \\\n",
       "21                    NaN                   NaN        NaN      NaN   \n",
       "72                    NaN                   NaN        NaN      NaN   \n",
       "128                   NaN                   NaN        NaN      NaN   \n",
       "360                   NaN                   NaN        NaN      NaN   \n",
       "550                   NaN                   NaN        NaN      NaN   \n",
       "...                   ...                   ...        ...      ...   \n",
       "9871                  NaN                   NaN        NaN      NaN   \n",
       "9876                  NaN                   NaN        NaN      NaN   \n",
       "9964                  NaN                   NaN        NaN      NaN   \n",
       "10127                 NaN                   NaN        NaN      NaN   \n",
       "10184                 NaN                   NaN        NaN      NaN   \n",
       "\n",
       "       TELEKOMÜNİKASYON  YAPI MALZ., HIRDAVAT, NALBURİYE  \\\n",
       "21                  NaN                              NaN   \n",
       "72                  NaN                              NaN   \n",
       "128                 NaN                              NaN   \n",
       "360                 NaN                              NaN   \n",
       "550                 NaN                              NaN   \n",
       "...                 ...                              ...   \n",
       "9871                NaN                              NaN   \n",
       "9876                NaN                              NaN   \n",
       "9964                NaN                              NaN   \n",
       "10127               NaN                              NaN   \n",
       "10184               NaN                              NaN   \n",
       "\n",
       "       İÇKİLİ YERLER - KUMARHANE  \n",
       "21                           NaN  \n",
       "72                           NaN  \n",
       "128                          NaN  \n",
       "360                          NaN  \n",
       "550                          NaN  \n",
       "...                          ...  \n",
       "9871                         NaN  \n",
       "9876                         NaN  \n",
       "9964                         NaN  \n",
       "10127                        NaN  \n",
       "10184                        NaN  \n",
       "\n",
       "[116 rows x 66 columns]"
      ]
     },
     "execution_count": 25,
     "metadata": {},
     "output_type": "execute_result"
    }
   ],
   "source": [
    "demo_df[demo_df['DİĞER'].isnull()]\n",
    "#looks like these customers didn't have transaction data or did not use their credit cards"
   ]
  },
  {
   "cell_type": "code",
   "execution_count": 26,
   "id": "46f53ff4-9c8a-41a7-b1a0-01a76bc862e0",
   "metadata": {},
   "outputs": [],
   "source": [
    "#demo_df.dropna(subset=[\"AKARYAKIT\"], inplace=True)\n",
    "demo_df.dropna(subset=[\"Home_Region\"], inplace=True)\n",
    "demo_df.dropna(subset=[\"Branch_Region\"], inplace=True)\n",
    "demo_df.dropna(subset=[\"transaction_health_mean\"], inplace=True)\n",
    "demo_df.dropna(subset=[\"transaction_health_max\"], inplace=True)"
   ]
  },
  {
   "cell_type": "code",
   "execution_count": 27,
   "id": "5bfdf784-8a1d-4f92-bed4-9f5f0b610da1",
   "metadata": {},
   "outputs": [],
   "source": [
    "demo_df.drop(['transaction_gas_mean', 'transaction_gas_max', 'transaction_food_mean', 'transaction_food_max'], axis = 1, inplace=True)"
   ]
  },
  {
   "cell_type": "code",
   "execution_count": 28,
   "id": "0385b729-fe07-4f71-9d97-a3f29a8ac412",
   "metadata": {},
   "outputs": [],
   "source": [
    "demo_df.drop(demo_df[demo_df['Education_Lv'] == 'BİLİNMİYOR'].index, inplace = True)"
   ]
  },
  {
   "cell_type": "code",
   "execution_count": 29,
   "id": "f16149d0-14b8-4dec-94d4-80381aa67e29",
   "metadata": {},
   "outputs": [
    {
     "data": {
      "text/plain": [
       "HS_below      3019\n",
       "University    2072\n",
       "Graduate       266\n",
       "Name: Education_Lv, dtype: int64"
      ]
     },
     "execution_count": 29,
     "metadata": {},
     "output_type": "execute_result"
    }
   ],
   "source": [
    "demo_df['Education_Lv'].value_counts()"
   ]
  },
  {
   "cell_type": "code",
   "execution_count": 30,
   "id": "1982df94-96ef-43d1-a591-fe76598eedc7",
   "metadata": {
    "tags": []
   },
   "outputs": [
    {
     "data": {
      "image/png": "[encoded data removed]",
      "text/plain": [
       "<Figure size 1440x1080 with 12 Axes>"
      ]
     },
     "metadata": {
      "needs_background": "light"
     },
     "output_type": "display_data"
    }
   ],
   "source": [
    "# Data Exploration\n",
    "%matplotlib inline\n",
    "import matplotlib.pyplot as plt\n",
    "demo_df.iloc[:,0:19].hist(bins=50, figsize=(20,15))\n",
    "plt.show()"
   ]
  },
  {
   "cell_type": "code",
   "execution_count": 31,
   "id": "ad571efe-154d-49e7-b09b-22a4afe48503",
   "metadata": {},
   "outputs": [
    {
     "data": {
      "image/png": "[encoded data removed]",
      "text/plain": [
       "<Figure size 1440x1080 with 42 Axes>"
      ]
     },
     "metadata": {
      "needs_background": "light"
     },
     "output_type": "display_data"
    }
   ],
   "source": [
    "demo_df.iloc[:,20:].hist(bins=50, figsize=(20,15))\n",
    "plt.show()"
   ]
  },
  {
   "cell_type": "code",
   "execution_count": 32,
   "id": "081dfb93-0c1e-4dcb-9105-113ce45c1486",
   "metadata": {},
   "outputs": [
    {
     "data": {
      "text/plain": [
       "array(['Cust_Segment', 'Branch_ID', 'Gender', 'Marital_Status',\n",
       "       'Education_Lv', 'Job_Status', 'Income', 'Age', 'Years_w_Bank',\n",
       "       'Work_Region', 'Home_Region', 'Branch_Region', '1)RISKSIZ',\n",
       "       '2)GECIKME 1-15 GUN', '3)GECIKME 16-29 GUN', '4)GECIKME 30-59 GUN',\n",
       "       '5)GECIKME 60+ GUN', '6)TAKIP', 'statement_mean', 'statement_max',\n",
       "       'transaction1_mean', 'transaction1_max', 'transaction2_mean',\n",
       "       'transaction2_max', 'online_trans_percent',\n",
       "       'transaction_health_mean', 'transaction_health_max', 'AKARYAKIT',\n",
       "       'ALIŞVERİŞ MERKEZLERİ', 'ARABA KİRALAMA', 'AYAKKABI', 'BEYAZ EŞYA',\n",
       "       'DENİZ TAŞITLARI KİRALAMA, SATIŞ, BAKIM',\n",
       "       'DOĞRUDAN PAZARLAMA-MAIL ORDER', 'DİĞER', 'EĞLENCE VE SPOR',\n",
       "       'EĞİTİM', 'GIDA', 'HAVAYOLLARI', 'HOTEL', 'HİZMET SEKTÖRLERİ',\n",
       "       'KOZMETİK', 'KUYUMCU', 'MOBİLYA, DEKORASYON', 'MOTOSİKLET',\n",
       "       'MUZIK MARKET KIRTASİYE', 'NAKİT AVANS', 'OPTİK', 'OTOMOTİV',\n",
       "       'OYUNCAK', 'RESTORAN', 'SAĞLIK',\n",
       "       'SEYAHAT ACENTALARI - TAŞIMACILIK', 'SPOR GİYİM', 'SİGORTA',\n",
       "       'SİGORTA-MAIL ORDER', 'SİNEMA TİYATRO SANAT', 'TEKNOLOJİ',\n",
       "       'TEKSTİL', 'TELEKOMÜNİKASYON', 'YAPI MALZ., HIRDAVAT, NALBURİYE',\n",
       "       'İÇKİLİ YERLER - KUMARHANE'], dtype=object)"
      ]
     },
     "execution_count": 32,
     "metadata": {},
     "output_type": "execute_result"
    }
   ],
   "source": [
    "demo_df.columns.values"
   ]
  },
  {
   "cell_type": "markdown",
   "id": "e4f56b9a-768a-4c59-b6ea-87167f741961",
   "metadata": {},
   "source": [
    "## Data Processing"
   ]
  },
  {
   "cell_type": "code",
   "execution_count": 33,
   "id": "cbdf08cb-b268-4a59-ac92-f0b6090d378b",
   "metadata": {},
   "outputs": [],
   "source": [
    "#train/test split\n",
    "from sklearn.model_selection import StratifiedShuffleSplit\n",
    "\n",
    "split = StratifiedShuffleSplit(n_splits=1, test_size=0.2, random_state=42)\n",
    "\n",
    "for train_index, test_index in split.split(demo_df, demo_df[\"Education_Lv\"]):\n",
    "    train_set = demo_df.iloc[train_index]\n",
    "    test_set = demo_df.iloc[test_index]"
   ]
  },
  {
   "cell_type": "code",
   "execution_count": 34,
   "id": "fdd46639-ab89-4eb0-a7b6-b546d7460128",
   "metadata": {},
   "outputs": [],
   "source": [
    "# separate labels from feature matrix\n",
    "train_y = train_set['Education_Lv']\n",
    "train_X = train_set.drop('Education_Lv', axis = 1)\n",
    "test_y = test_set['Education_Lv']\n",
    "test_X = test_set.drop('Education_Lv', axis = 1)"
   ]
  },
  {
   "cell_type": "code",
   "execution_count": 35,
   "id": "999e1bd0-b5fe-4c3a-bb94-9e09a58cf7ed",
   "metadata": {},
   "outputs": [],
   "source": [
    "#pipeline\n",
    "\n",
    "# locations, gender, marital status, education level, job status, penalties\n",
    "# Additional processing with full data set: drop home region branch region nulls\n",
    "\n",
    "from sklearn.pipeline import Pipeline\n",
    "from sklearn.preprocessing import StandardScaler\n",
    "from sklearn.impute import SimpleImputer\n",
    "\n",
    "num_pipeline = Pipeline([\n",
    "('imputer', SimpleImputer(strategy=\"median\")),\n",
    "('std_scaler', StandardScaler())\n",
    "])"
   ]
  },
  {
   "cell_type": "code",
   "execution_count": 36,
   "id": "9eba4432-5abd-4000-a3a3-00bd9186d529",
   "metadata": {},
   "outputs": [],
   "source": [
    "from sklearn.preprocessing import OneHotEncoder\n",
    "\n",
    "cat_pipeline  = Pipeline([\n",
    "('cat_encoder', OneHotEncoder())\n",
    "])"
   ]
  },
  {
   "cell_type": "code",
   "execution_count": 37,
   "id": "0f9ff731-00d0-41dd-8142-c005235e82a0",
   "metadata": {},
   "outputs": [],
   "source": [
    "from sklearn.compose import ColumnTransformer\n",
    "num_attribs = ['Branch_ID', 'Income', 'Age', 'Years_w_Bank', '1)RISKSIZ',\n",
    "       '2)GECIKME 1-15 GUN', '3)GECIKME 16-29 GUN', '4)GECIKME 30-59 GUN',\n",
    "       '5)GECIKME 60+ GUN', '6)TAKIP', 'statement_mean', 'statement_max',\n",
    "       'transaction1_mean', 'transaction1_max', 'transaction2_mean',\n",
    "       'transaction2_max', 'online_trans_percent',\n",
    "       'transaction_health_mean', 'transaction_health_max', 'AKARYAKIT',\n",
    "       'ALIŞVERİŞ MERKEZLERİ', 'ARABA KİRALAMA', 'AYAKKABI', 'BEYAZ EŞYA',\n",
    "       'DENİZ TAŞITLARI KİRALAMA, SATIŞ, BAKIM',\n",
    "       'DOĞRUDAN PAZARLAMA-MAIL ORDER', 'DİĞER', 'EĞLENCE VE SPOR',\n",
    "       'EĞİTİM', 'GIDA', 'HAVAYOLLARI', 'HOTEL', 'HİZMET SEKTÖRLERİ',\n",
    "       'KOZMETİK', 'KUYUMCU', 'MOBİLYA, DEKORASYON', 'MOTOSİKLET',\n",
    "       'MUZIK MARKET KIRTASİYE', 'NAKİT AVANS', 'OPTİK', 'OTOMOTİV',\n",
    "       'OYUNCAK', 'RESTORAN', 'SAĞLIK',\n",
    "       'SEYAHAT ACENTALARI - TAŞIMACILIK', 'SPOR GİYİM', 'SİGORTA',\n",
    "       'SİGORTA-MAIL ORDER', 'SİNEMA TİYATRO SANAT', 'TEKNOLOJİ',\n",
    "       'TEKSTİL', 'TELEKOMÜNİKASYON', 'YAPI MALZ., HIRDAVAT, NALBURİYE',\n",
    "       'İÇKİLİ YERLER - KUMARHANE']\n",
    "cat_attribs = ['Cust_Segment', 'Gender', 'Marital_Status', 'Job_Status', 'Work_Region', 'Home_Region', 'Branch_Region']\n",
    "\n",
    "full_pipeline = ColumnTransformer([\n",
    "(\"num\", num_pipeline, num_attribs),\n",
    "(\"cat\", cat_pipeline, cat_attribs), \n",
    "], remainder = 'passthrough')"
   ]
  },
  {
   "cell_type": "code",
   "execution_count": 38,
   "id": "070fdea7-9339-4793-ab13-b4c01f0e9d06",
   "metadata": {},
   "outputs": [],
   "source": [
    "train_X_prepared = full_pipeline.fit_transform(train_X)"
   ]
  },
  {
   "cell_type": "code",
   "execution_count": 39,
   "id": "28d05c6c-a4ed-4cd3-80ef-32ea2556904e",
   "metadata": {},
   "outputs": [],
   "source": [
    "# train_y = (train_y == 'EVLİ')\n",
    "# test_y_md = (test_y == 'EVLİ')"
   ]
  },
  {
   "cell_type": "markdown",
   "id": "a4b4126d-3b81-4b6e-821e-7979444cf8ef",
   "metadata": {
    "tags": []
   },
   "source": [
    "## Dimensionality Reduction"
   ]
  },
  {
   "cell_type": "code",
   "execution_count": 40,
   "id": "95b26d46-6846-434a-8e80-9564130daff9",
   "metadata": {},
   "outputs": [],
   "source": [
    "\n",
    "from sklearn.decomposition import TruncatedSVD\n",
    "\n",
    "TruncSVD = TruncatedSVD(n_components = 97)\n",
    "TruncSVD.fit(train_X_prepared)\n",
    "cumsum = np.cumsum(TruncSVD.explained_variance_ratio_)\n",
    "d = np.argmax(cumsum >= 0.90) + 1"
   ]
  },
  {
   "cell_type": "code",
   "execution_count": 41,
   "id": "f1f1ba42-b00d-4e6a-b799-428949a79a15",
   "metadata": {},
   "outputs": [
    {
     "data": {
      "text/plain": [
       "41"
      ]
     },
     "execution_count": 41,
     "metadata": {},
     "output_type": "execute_result"
    }
   ],
   "source": [
    "d"
   ]
  },
  {
   "cell_type": "code",
   "execution_count": 42,
   "id": "910654c5-109f-4252-95b0-d934baa20928",
   "metadata": {},
   "outputs": [
    {
     "data": {
      "image/png": "[encoded data removed]",
      "text/plain": [
       "<Figure size 432x288 with 1 Axes>"
      ]
     },
     "metadata": {
      "needs_background": "light"
     },
     "output_type": "display_data"
    }
   ],
   "source": [
    "plt.figure(figsize=(6,4))\n",
    "plt.plot(cumsum, linewidth=3)\n",
    "plt.axis([0, 94, 0, 1])\n",
    "plt.xlabel(\"Dimensions\")\n",
    "plt.ylabel(\"Explained Variance\")\n",
    "plt.plot([d, d], [0, 0.90], \"k:\")\n",
    "plt.plot([0, d], [0.90, 0.90], \"k:\")\n",
    "plt.plot(d, 0.90, \"ko\")\n",
    "\n",
    "plt.grid(True)\n",
    "# save_fig(\"explained_variance_plot\")\n",
    "plt.show()\n",
    "\n",
    "# try 8 dimensions"
   ]
  },
  {
   "cell_type": "code",
   "execution_count": 43,
   "id": "464a7690-33aa-4ce3-95a8-311620b2c9d8",
   "metadata": {
    "tags": []
   },
   "outputs": [],
   "source": [
    "TruncSVD = TruncatedSVD(n_components=41)\n",
    "X_reduced = TruncSVD.fit_transform(train_X_prepared)"
   ]
  },
  {
   "cell_type": "markdown",
   "id": "33abfa55-295a-458c-a770-79323490880c",
   "metadata": {},
   "source": [
    "# Train Model"
   ]
  },
  {
   "cell_type": "markdown",
   "id": "53a88ca3-b2a9-4d5a-a30d-34ed953771ab",
   "metadata": {},
   "source": [
    "## Bagging Classifier"
   ]
  },
  {
   "cell_type": "markdown",
   "id": "972bf87c-54ce-46e6-b6ab-0dd6ff74b514",
   "metadata": {
    "tags": []
   },
   "source": [
    "### Randomized Search"
   ]
  },
  {
   "cell_type": "code",
   "execution_count": 44,
   "id": "b37511ab-ce4e-4473-9645-1f69cb89f316",
   "metadata": {
    "tags": []
   },
   "outputs": [
    {
     "data": {
      "text/plain": [
       "RandomizedSearchCV(cv=3,\n",
       "                   estimator=BaggingClassifier(base_estimator=DecisionTreeClassifier()),\n",
       "                   n_iter=20,\n",
       "                   param_distributions={'base_estimator__max_depth': <scipy.stats._distn_infrastructure.rv_frozen object at 0x7fe92fc40ee0>,\n",
       "                                        'base_estimator__max_features': <scipy.stats._distn_infrastructure.rv_frozen object at 0x7fe92fc40520>,\n",
       "                                        'n_estimators': <scipy.stats._distn_infrastructure.rv_frozen object at 0x7fe9145e7190>},\n",
       "                   random_state=16, scoring='accuracy')"
      ]
     },
     "execution_count": 44,
     "metadata": {},
     "output_type": "execute_result"
    }
   ],
   "source": [
    "from sklearn.model_selection import RandomizedSearchCV\n",
    "from scipy.stats import randint\n",
    "from sklearn.tree import DecisionTreeClassifier\n",
    "from sklearn.ensemble import BaggingClassifier\n",
    "\n",
    "param_distribs = {\n",
    "        'base_estimator__max_depth': randint(low=1, high=10),\n",
    "        'base_estimator__max_features': randint(low=1, high=10),\n",
    "        'n_estimators': randint(low=100, high=300)\n",
    "    }\n",
    "\n",
    "dt_classif = DecisionTreeClassifier() \n",
    "\n",
    "bag_classif = BaggingClassifier(base_estimator = dt_classif)\n",
    "rnd_search_cv = RandomizedSearchCV(bag_classif, param_distributions=param_distribs,\n",
    "                                n_iter=20, cv=3, scoring='accuracy', random_state=16)\n",
    "rnd_search_cv.fit(X_reduced, train_y)"
   ]
  },
  {
   "cell_type": "code",
   "execution_count": 45,
   "id": "7809ea5c-4219-4e77-ab0a-d72012f313ed",
   "metadata": {},
   "outputs": [
    {
     "data": {
      "text/plain": [
       "{'base_estimator__max_depth': 9,\n",
       " 'base_estimator__max_features': 8,\n",
       " 'n_estimators': 141}"
      ]
     },
     "execution_count": 45,
     "metadata": {},
     "output_type": "execute_result"
    }
   ],
   "source": [
    "rnd_search_cv.best_params_"
   ]
  },
  {
   "cell_type": "markdown",
   "id": "23daf6e6-cd07-4a7c-909a-8a93b5b12cee",
   "metadata": {},
   "source": [
    "### Training"
   ]
  },
  {
   "cell_type": "markdown",
   "id": "4a6bc344-9657-45de-8065-2194e6919da7",
   "metadata": {},
   "source": [
    "#### All Dimensions"
   ]
  },
  {
   "cell_type": "code",
   "execution_count": 46,
   "id": "7bdef289-a8ea-411a-8438-38dea1434a1c",
   "metadata": {},
   "outputs": [
    {
     "data": {
      "text/plain": [
       "0.6749124854142357"
      ]
     },
     "execution_count": 46,
     "metadata": {},
     "output_type": "execute_result"
    }
   ],
   "source": [
    "from sklearn.ensemble import BaggingClassifier\n",
    "from sklearn.tree import DecisionTreeClassifier\n",
    "\n",
    "bag_clf = BaggingClassifier(\n",
    "    DecisionTreeClassifier(max_depth=9, max_features=8), n_estimators=141,\n",
    "    max_samples=100, bootstrap=True, n_jobs=-1,\n",
    "    oob_score=True)\n",
    "\n",
    "bag_clf.fit(train_X_prepared, train_y)\n",
    "\n",
    "bag_clf.oob_score_"
   ]
  },
  {
   "cell_type": "code",
   "execution_count": 47,
   "id": "d755f7fb-b970-470d-bc09-719eb518dc88",
   "metadata": {},
   "outputs": [],
   "source": [
    "from sklearn.model_selection import cross_val_predict\n",
    "\n",
    "y_train_pred = cross_val_predict(bag_clf, X_reduced, train_y, cv = 3)"
   ]
  },
  {
   "cell_type": "code",
   "execution_count": 48,
   "id": "0d5df0b4-9390-456f-95e3-1986d3f4bdc8",
   "metadata": {},
   "outputs": [
    {
     "data": {
      "text/plain": [
       "0.6256709451575263"
      ]
     },
     "execution_count": 48,
     "metadata": {},
     "output_type": "execute_result"
    }
   ],
   "source": [
    "from sklearn.metrics import accuracy_score\n",
    "\n",
    "accuracy_score(train_y, y_train_pred)"
   ]
  },
  {
   "cell_type": "code",
   "execution_count": 49,
   "id": "661dfe1a-7692-4b3f-a761-41b6ef980dc3",
   "metadata": {},
   "outputs": [
    {
     "data": {
      "text/plain": [
       "array([[   0,   58,  155],\n",
       "       [   0, 1950,  465],\n",
       "       [   0,  926,  731]])"
      ]
     },
     "execution_count": 49,
     "metadata": {},
     "output_type": "execute_result"
    }
   ],
   "source": [
    "from sklearn.metrics import confusion_matrix\n",
    "\n",
    "confusion_matrix(train_y, y_train_pred)"
   ]
  },
  {
   "cell_type": "code",
   "execution_count": 50,
   "id": "af111429-7ce1-4b32-a818-b8685e090fc7",
   "metadata": {},
   "outputs": [],
   "source": [
    "# How to treat branch_id - should be discrete\n",
    "\n",
    "# download docker container image with components needed\n",
    "# set up conda environment, install rapids\n",
    "# rapids.ai"
   ]
  },
  {
   "cell_type": "markdown",
   "id": "17cd5b57-8a68-44ed-9640-253033d054b0",
   "metadata": {},
   "source": [
    "#### Reduced Dimensions"
   ]
  },
  {
   "cell_type": "code",
   "execution_count": 51,
   "id": "981afb95-64b2-4e0b-9266-017a77d9e997",
   "metadata": {},
   "outputs": [
    {
     "data": {
      "text/plain": [
       "0.6359393232205367"
      ]
     },
     "execution_count": 51,
     "metadata": {},
     "output_type": "execute_result"
    }
   ],
   "source": [
    "bag_clf = BaggingClassifier(\n",
    "    DecisionTreeClassifier(max_depth=9, max_features=8), n_estimators=141,\n",
    "    max_samples=100, bootstrap=True, n_jobs=-1,\n",
    "    oob_score=True)\n",
    "\n",
    "bag_clf.fit(X_reduced, train_y)\n",
    "\n",
    "bag_clf.oob_score_"
   ]
  },
  {
   "cell_type": "code",
   "execution_count": 52,
   "id": "cd81a862-6d53-4db4-a34e-0794ed1c3db5",
   "metadata": {},
   "outputs": [
    {
     "data": {
      "text/plain": [
       "0.629171528588098"
      ]
     },
     "execution_count": 52,
     "metadata": {},
     "output_type": "execute_result"
    }
   ],
   "source": [
    "y_train_pred = cross_val_predict(bag_clf, X_reduced, train_y, cv = 3)\n",
    "\n",
    "accuracy_score(train_y, y_train_pred)"
   ]
  },
  {
   "cell_type": "code",
   "execution_count": 53,
   "id": "a8b44cf4-2b0e-4843-a9d2-63ba4a3660a3",
   "metadata": {},
   "outputs": [
    {
     "data": {
      "text/plain": [
       "array([[   0,   66,  147],\n",
       "       [   0, 1932,  483],\n",
       "       [   0,  893,  764]])"
      ]
     },
     "execution_count": 53,
     "metadata": {},
     "output_type": "execute_result"
    }
   ],
   "source": [
    "confusion_matrix(train_y, y_train_pred)"
   ]
  },
  {
   "cell_type": "markdown",
   "id": "a66ba36e-8be0-49c8-bef5-21090b1683b7",
   "metadata": {},
   "source": [
    "## AdaBoost"
   ]
  },
  {
   "cell_type": "markdown",
   "id": "21bdb21c-1fa8-4c00-97b5-d9272cdee83a",
   "metadata": {},
   "source": [
    "### Random Search"
   ]
  },
  {
   "cell_type": "code",
   "execution_count": 54,
   "id": "f0a9f846-d3f9-411e-bee7-77c503b35d7e",
   "metadata": {},
   "outputs": [
    {
     "data": {
      "text/plain": [
       "RandomizedSearchCV(cv=3,\n",
       "                   estimator=AdaBoostClassifier(base_estimator=DecisionTreeClassifier()),\n",
       "                   n_iter=20,\n",
       "                   param_distributions={'base_estimator__max_depth': <scipy.stats._distn_infrastructure.rv_frozen object at 0x7fe95b0da610>,\n",
       "                                        'base_estimator__max_features': <scipy.stats._distn_infrastructure.rv_frozen object at 0x7fe95b0aa610>,\n",
       "                                        'learning_rate': [0.1, 0.2, 0.3, 0.4,\n",
       "                                                          0.5],\n",
       "                                        'n_estimators': <scipy.stats._distn_infrastructure.rv_frozen object at 0x7fe95b0da370>},\n",
       "                   random_state=16, scoring='accuracy')"
      ]
     },
     "execution_count": 54,
     "metadata": {},
     "output_type": "execute_result"
    }
   ],
   "source": [
    "from sklearn.model_selection import RandomizedSearchCV\n",
    "from scipy.stats import randint\n",
    "from sklearn.ensemble import AdaBoostClassifier\n",
    "\n",
    "param_distribs = {\n",
    "        'base_estimator__max_depth': randint(low=1, high=10),\n",
    "        'base_estimator__max_features': randint(low=1, high=10),\n",
    "        'n_estimators': randint(low=100, high=500),\n",
    "        'learning_rate': [0.1, 0.2, 0.3, 0.4, 0.5]\n",
    "    }\n",
    "\n",
    "dt_classif = DecisionTreeClassifier() \n",
    "\n",
    "ada_classif = AdaBoostClassifier(base_estimator = dt_classif, algorithm=\"SAMME.R\")\n",
    "rnd_search = RandomizedSearchCV(ada_classif, param_distributions=param_distribs,\n",
    "                                n_iter=20, cv=3, scoring='accuracy', random_state=16)\n",
    "rnd_search.fit(X_reduced, train_y)"
   ]
  },
  {
   "cell_type": "code",
   "execution_count": 55,
   "id": "f338c7f8-be02-4f9b-a736-1db535f2087c",
   "metadata": {
    "tags": []
   },
   "outputs": [
    {
     "data": {
      "text/plain": [
       "{'base_estimator__max_depth': 2,\n",
       " 'base_estimator__max_features': 8,\n",
       " 'learning_rate': 0.2,\n",
       " 'n_estimators': 472}"
      ]
     },
     "execution_count": 55,
     "metadata": {},
     "output_type": "execute_result"
    }
   ],
   "source": [
    "rnd_search.best_params_"
   ]
  },
  {
   "cell_type": "markdown",
   "id": "5092d2f3-06ea-4f06-96ce-02ddba4be06b",
   "metadata": {},
   "source": [
    "### Training"
   ]
  },
  {
   "cell_type": "code",
   "execution_count": 56,
   "id": "69a06aac-1640-4770-ba87-ddee1c5104da",
   "metadata": {},
   "outputs": [
    {
     "data": {
      "text/plain": [
       "AdaBoostClassifier(base_estimator=DecisionTreeClassifier(max_depth=2,\n",
       "                                                         max_features=2),\n",
       "                   learning_rate=0.4, n_estimators=124)"
      ]
     },
     "execution_count": 56,
     "metadata": {},
     "output_type": "execute_result"
    }
   ],
   "source": [
    "ada_clf = AdaBoostClassifier(\n",
    "DecisionTreeClassifier(max_depth=2, max_features=2), n_estimators=124,\n",
    "algorithm=\"SAMME.R\", learning_rate=0.4)\n",
    "\n",
    "ada_clf.fit(X_reduced, train_y)"
   ]
  },
  {
   "cell_type": "code",
   "execution_count": 57,
   "id": "b1c689dc-7f51-4b32-856e-d4320d375ed1",
   "metadata": {},
   "outputs": [],
   "source": [
    "from sklearn.model_selection import cross_val_predict\n",
    "\n",
    "y_train_pred = cross_val_predict(ada_clf, X_reduced, train_y, cv = 3)"
   ]
  },
  {
   "cell_type": "code",
   "execution_count": 58,
   "id": "9fefde59-2336-4007-9e0e-e661758c261c",
   "metadata": {},
   "outputs": [
    {
     "data": {
      "text/plain": [
       "array([[  12,   54,  147],\n",
       "       [   5, 1884,  526],\n",
       "       [  21,  808,  828]])"
      ]
     },
     "execution_count": 58,
     "metadata": {},
     "output_type": "execute_result"
    }
   ],
   "source": [
    "confusion_matrix(train_y, y_train_pred)"
   ]
  },
  {
   "cell_type": "code",
   "execution_count": 59,
   "id": "6e8bd367-c3bb-46b5-a3cb-cfd79cd7d5e4",
   "metadata": {},
   "outputs": [
    {
     "data": {
      "text/plain": [
       "0.635705950991832"
      ]
     },
     "execution_count": 59,
     "metadata": {},
     "output_type": "execute_result"
    }
   ],
   "source": [
    "accuracy_score(train_y, y_train_pred)"
   ]
  },
  {
   "cell_type": "markdown",
   "id": "ba938728-19f8-4f4e-a597-d4676317c97f",
   "metadata": {},
   "source": [
    "## Gradient Boost"
   ]
  },
  {
   "cell_type": "markdown",
   "id": "8fb33d04-0d75-4f66-a8df-a5b70f13a455",
   "metadata": {},
   "source": [
    "### Random Search"
   ]
  },
  {
   "cell_type": "code",
   "execution_count": 60,
   "id": "5795fe57-1d1e-4dbc-b6fc-88289cecf591",
   "metadata": {},
   "outputs": [
    {
     "data": {
      "text/plain": [
       "RandomizedSearchCV(cv=3, estimator=GradientBoostingClassifier(),\n",
       "                   param_distributions={'learning_rate': [0.1, 0.2, 0.3, 0.4,\n",
       "                                                          0.5],\n",
       "                                        'max_depth': <scipy.stats._distn_infrastructure.rv_frozen object at 0x7fe91463cc70>,\n",
       "                                        'max_features': <scipy.stats._distn_infrastructure.rv_frozen object at 0x7fe9166521c0>,\n",
       "                                        'n_estimators': <scipy.stats._distn_infrastructure.rv_frozen object at 0x7fe916652ee0>},\n",
       "                   random_state=16, scoring='accuracy')"
      ]
     },
     "execution_count": 60,
     "metadata": {},
     "output_type": "execute_result"
    }
   ],
   "source": [
    "from sklearn.model_selection import RandomizedSearchCV\n",
    "from sklearn.ensemble import GradientBoostingClassifier\n",
    "from scipy.stats import randint\n",
    "\n",
    "param_distribs = {\n",
    "        'max_depth': randint(low=1, high=10),\n",
    "        'max_features': randint(low=1, high=10),\n",
    "        'n_estimators': randint(low=100, high=500),\n",
    "        'learning_rate': [0.1, 0.2, 0.3, 0.4, 0.5]\n",
    "    }\n",
    "\n",
    "\n",
    "gb_classif = GradientBoostingClassifier()\n",
    "rd_search = RandomizedSearchCV(gb_classif, param_distributions=param_distribs,\n",
    "                                n_iter=10, cv=3, scoring='accuracy', random_state=16)\n",
    "rd_search.fit(train_X_prepared, train_y)"
   ]
  },
  {
   "cell_type": "code",
   "execution_count": 61,
   "id": "398fbd94-249b-46a8-b3d7-47fee7f489a2",
   "metadata": {},
   "outputs": [
    {
     "data": {
      "text/plain": [
       "{'learning_rate': 0.1, 'max_depth': 1, 'max_features': 7, 'n_estimators': 377}"
      ]
     },
     "execution_count": 61,
     "metadata": {},
     "output_type": "execute_result"
    }
   ],
   "source": [
    "rd_search.best_params_"
   ]
  },
  {
   "cell_type": "markdown",
   "id": "bb2813f2-b90d-40cb-9438-913b527f5188",
   "metadata": {},
   "source": [
    "### Training"
   ]
  },
  {
   "cell_type": "code",
   "execution_count": 62,
   "id": "86baaba1-c6bb-4585-bbef-d0ed0eafb4a4",
   "metadata": {
    "tags": []
   },
   "outputs": [
    {
     "data": {
      "text/plain": [
       "GradientBoostingClassifier(max_features=5, n_estimators=260)"
      ]
     },
     "execution_count": 62,
     "metadata": {},
     "output_type": "execute_result"
    }
   ],
   "source": [
    "gbrt = GradientBoostingClassifier(max_depth=3, max_features=5, n_estimators=260, learning_rate=0.1)\n",
    "gbrt.fit(train_X_prepared, train_y)"
   ]
  },
  {
   "cell_type": "code",
   "execution_count": 63,
   "id": "27ead971-e8d0-4b71-a6e0-dfbba9620ddd",
   "metadata": {},
   "outputs": [],
   "source": [
    "from sklearn.model_selection import cross_val_predict\n",
    "\n",
    "y_train_pred = cross_val_predict(gbrt, train_X_prepared, train_y, cv = 3)"
   ]
  },
  {
   "cell_type": "code",
   "execution_count": 64,
   "id": "4af64bef-2fc5-47dd-9f7b-a0fbde0b786a",
   "metadata": {
    "tags": []
   },
   "outputs": [
    {
     "data": {
      "text/plain": [
       "0.703850641773629"
      ]
     },
     "execution_count": 64,
     "metadata": {},
     "output_type": "execute_result"
    }
   ],
   "source": [
    "from sklearn.metrics import accuracy_score\n",
    "\n",
    "accuracy_score(train_y, y_train_pred)"
   ]
  },
  {
   "cell_type": "code",
   "execution_count": 65,
   "id": "0a86437e-4387-4489-89b1-2ac9b821cc83",
   "metadata": {},
   "outputs": [
    {
     "data": {
      "text/plain": [
       "array([[   6,   31,  176],\n",
       "       [   4, 1996,  415],\n",
       "       [  24,  619, 1014]])"
      ]
     },
     "execution_count": 65,
     "metadata": {},
     "output_type": "execute_result"
    }
   ],
   "source": [
    "from sklearn.metrics import confusion_matrix\n",
    "\n",
    "confusion_matrix(train_y, y_train_pred)"
   ]
  },
  {
   "cell_type": "code",
   "execution_count": null,
   "id": "4608753a-d3aa-4226-87f0-19dbf1cfc603",
   "metadata": {},
   "outputs": [],
   "source": []
  }
 ],
 "metadata": {
  "kernelspec": {
   "display_name": "Python 3 (ipykernel)",
   "language": "python",
   "name": "python3"
  },
  "language_info": {
   "codemirror_mode": {
    "name": "ipython",
    "version": 3
   },
   "file_extension": ".py",
   "mimetype": "text/x-python",
   "name": "python",
   "nbconvert_exporter": "python",
   "pygments_lexer": "ipython3",
   "version": "3.9.5"
  }
 },
 "nbformat": 4,
 "nbformat_minor": 5
}
