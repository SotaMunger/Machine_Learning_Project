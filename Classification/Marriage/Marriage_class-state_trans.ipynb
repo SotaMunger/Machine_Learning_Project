{
 "cells": [
  {
   "cell_type": "markdown",
   "id": "c2d48bca-f93e-45df-9ad6-2a6cc43f746c",
   "metadata": {},
   "source": [
    "# Marital Status Classification (Married vs. Unmarried)"
   ]
  },
  {
   "cell_type": "markdown",
   "id": "0f143f8e-7f31-4546-97cc-dacb6b55d611",
   "metadata": {},
   "source": [
    "# Import Libraries and Load Data"
   ]
  },
  {
   "cell_type": "code",
   "execution_count": 202,
   "id": "1d51d3b9-7cc7-4a33-98ff-23cbf2288cd8",
   "metadata": {},
   "outputs": [],
   "source": [
    "# import packages\n",
    "import sklearn\n",
    "import numpy as np\n",
    "import pandas as pd\n",
    "%matplotlib inline\n",
    "import matplotlib as mpl\n",
    "import matplotlib.pyplot as plt\n",
    "\n",
    "np.random.seed(16)"
   ]
  },
  {
   "cell_type": "code",
   "execution_count": 203,
   "id": "16a02e6c-54a0-43e2-8d7e-8019963224ea",
   "metadata": {},
   "outputs": [
    {
     "name": "stdout",
     "output_type": "stream",
     "text": [
      "<class 'pandas.core.frame.DataFrame'>\n",
      "RangeIndex: 10321 entries, 0 to 10320\n",
      "Data columns (total 33 columns):\n",
      " #   Column                   Non-Null Count  Dtype  \n",
      "---  ------                   --------------  -----  \n",
      " 0   Unnamed: 0               10321 non-null  int64  \n",
      " 1   Cust_ID                  10321 non-null  int64  \n",
      " 2   Cust_Segment             10321 non-null  object \n",
      " 3   Branch_ID                10321 non-null  int64  \n",
      " 4   Gender                   10321 non-null  object \n",
      " 5   Marital_Status           10321 non-null  object \n",
      " 6   Education_Lv             10321 non-null  object \n",
      " 7   Job_Status               10321 non-null  object \n",
      " 8   Income                   10080 non-null  float64\n",
      " 9   Age                      10321 non-null  int64  \n",
      " 10  Years_w_Bank             10321 non-null  float64\n",
      " 11  Work_Region              10321 non-null  object \n",
      " 12  Home_Region              10321 non-null  object \n",
      " 13  Branch_Region            10321 non-null  object \n",
      " 14  1)RISKSIZ                10321 non-null  float64\n",
      " 15  2)GECIKME 1-15 GUN       10321 non-null  float64\n",
      " 16  3)GECIKME 16-29 GUN      10321 non-null  float64\n",
      " 17  4)GECIKME 30-59 GUN      10321 non-null  float64\n",
      " 18  5)GECIKME 60+ GUN        10321 non-null  float64\n",
      " 19  6)TAKIP                  10321 non-null  float64\n",
      " 20  statement_mean           10224 non-null  float64\n",
      " 21  statement_max            10224 non-null  float64\n",
      " 22  transaction1_mean        10083 non-null  float64\n",
      " 23  transaction1_max         10083 non-null  float64\n",
      " 24  transaction2_mean        10136 non-null  float64\n",
      " 25  transaction2_max         10136 non-null  float64\n",
      " 26  online_trans_percent     10136 non-null  float64\n",
      " 27  transaction_food_mean    8874 non-null   float64\n",
      " 28  transaction_food_max     8874 non-null   float64\n",
      " 29  transaction_health_mean  5360 non-null   float64\n",
      " 30  transaction_health_max   5360 non-null   float64\n",
      " 31  transaction_gas_mean     5847 non-null   float64\n",
      " 32  transaction_gas_max      5847 non-null   float64\n",
      "dtypes: float64(21), int64(4), object(8)\n",
      "memory usage: 2.6+ MB\n"
     ]
    }
   ],
   "source": [
    "# load data\n",
    "csv_file = \"~/IDC5210_Machine_Learning/Project/Translated_data/demos_w_state_trans_sample10k.csv\"\n",
    "demo_df = pd.read_csv(csv_file)\n",
    "demo_df.info()"
   ]
  },
  {
   "cell_type": "code",
   "execution_count": 204,
   "id": "51323c95-2cd2-445c-b887-67a1c7ffaacd",
   "metadata": {},
   "outputs": [
    {
     "name": "stdout",
     "output_type": "stream",
     "text": [
      "<class 'pandas.core.frame.DataFrame'>\n",
      "RangeIndex: 10321 entries, 0 to 10320\n",
      "Data columns (total 32 columns):\n",
      " #   Column                   Non-Null Count  Dtype  \n",
      "---  ------                   --------------  -----  \n",
      " 0   Cust_ID                  10321 non-null  int64  \n",
      " 1   Cust_Segment             10321 non-null  object \n",
      " 2   Branch_ID                10321 non-null  int64  \n",
      " 3   Gender                   10321 non-null  object \n",
      " 4   Marital_Status           10321 non-null  object \n",
      " 5   Education_Lv             10321 non-null  object \n",
      " 6   Job_Status               10321 non-null  object \n",
      " 7   Income                   10080 non-null  float64\n",
      " 8   Age                      10321 non-null  int64  \n",
      " 9   Years_w_Bank             10321 non-null  float64\n",
      " 10  Work_Region              10321 non-null  object \n",
      " 11  Home_Region              10321 non-null  object \n",
      " 12  Branch_Region            10321 non-null  object \n",
      " 13  1)RISKSIZ                10321 non-null  float64\n",
      " 14  2)GECIKME 1-15 GUN       10321 non-null  float64\n",
      " 15  3)GECIKME 16-29 GUN      10321 non-null  float64\n",
      " 16  4)GECIKME 30-59 GUN      10321 non-null  float64\n",
      " 17  5)GECIKME 60+ GUN        10321 non-null  float64\n",
      " 18  6)TAKIP                  10321 non-null  float64\n",
      " 19  statement_mean           10224 non-null  float64\n",
      " 20  statement_max            10224 non-null  float64\n",
      " 21  transaction1_mean        10083 non-null  float64\n",
      " 22  transaction1_max         10083 non-null  float64\n",
      " 23  transaction2_mean        10136 non-null  float64\n",
      " 24  transaction2_max         10136 non-null  float64\n",
      " 25  online_trans_percent     10136 non-null  float64\n",
      " 26  transaction_food_mean    8874 non-null   float64\n",
      " 27  transaction_food_max     8874 non-null   float64\n",
      " 28  transaction_health_mean  5360 non-null   float64\n",
      " 29  transaction_health_max   5360 non-null   float64\n",
      " 30  transaction_gas_mean     5847 non-null   float64\n",
      " 31  transaction_gas_max      5847 non-null   float64\n",
      "dtypes: float64(21), int64(3), object(8)\n",
      "memory usage: 2.5+ MB\n"
     ]
    }
   ],
   "source": [
    "# drop unnecessary columns\n",
    "demo_df.drop([\"Unnamed: 0\"], axis = 1, inplace=True)\n",
    "demo_df.info()"
   ]
  },
  {
   "cell_type": "code",
   "execution_count": 205,
   "id": "231c1029-e941-4397-86fa-e1256f52dabb",
   "metadata": {},
   "outputs": [],
   "source": [
    "# count risk types per row\n",
    "# risk_counts = demo_df.iloc[:,10:22].apply(pd.Series.value_counts, axis=1)\n",
    "# risk_counts = risk_counts.fillna(0)"
   ]
  },
  {
   "cell_type": "code",
   "execution_count": 206,
   "id": "f2d426a2-2999-445b-ac7b-2d29116a1728",
   "metadata": {},
   "outputs": [],
   "source": [
    "# risk_counts"
   ]
  },
  {
   "cell_type": "code",
   "execution_count": 207,
   "id": "bcb64c22-a81f-4c03-a8d6-5881f2ef7f9a",
   "metadata": {},
   "outputs": [],
   "source": [
    "# demo_df = demo_df.join(risk_counts)\n",
    "# demo_df"
   ]
  },
  {
   "cell_type": "code",
   "execution_count": 208,
   "id": "a1118eca-4251-4621-a86b-9f79050be891",
   "metadata": {},
   "outputs": [],
   "source": [
    "# demo_df.drop(['.','Penalty_201407', 'Penalty_201408', 'Penalty_201409', \n",
    "#                   'Penalty_201410', 'Penalty_201411', 'Penalty_201412', 'Penalty_201501',\n",
    "#                   'Penalty_201502', 'Penalty_201503', 'Penalty_201504', 'Penalty_201505', \n",
    "#                   'Penalty_201506'], axis = 1, inplace=True)"
   ]
  },
  {
   "cell_type": "code",
   "execution_count": 209,
   "id": "ac8df10a-d547-4b85-a378-ce406fa2cc4a",
   "metadata": {},
   "outputs": [],
   "source": [
    "# demo_df"
   ]
  },
  {
   "cell_type": "code",
   "execution_count": 210,
   "id": "11005ec6-1e90-49de-9591-ce1582723d27",
   "metadata": {},
   "outputs": [
    {
     "name": "stdout",
     "output_type": "stream",
     "text": [
      "<class 'pandas.core.frame.DataFrame'>\n",
      "RangeIndex: 9334625 entries, 0 to 9334624\n",
      "Data columns (total 12 columns):\n",
      " #   Column          Dtype  \n",
      "---  ------          -----  \n",
      " 0   Unnamed: 0      int64  \n",
      " 1   Cust_ID         int64  \n",
      " 2   Trans_Data      object \n",
      " 3   Trans_Time      object \n",
      " 4   Trans_Amt       float64\n",
      " 5   Category        object \n",
      " 6   Merchant_ID     int64  \n",
      " 7   Online_Trans    int64  \n",
      " 8   Trans_Type      object \n",
      " 9   Trans_Currency  object \n",
      " 10  X               float64\n",
      " 11  Y               float64\n",
      "dtypes: float64(3), int64(4), object(5)\n",
      "memory usage: 854.6+ MB\n"
     ]
    }
   ],
   "source": [
    "csv_file2 = \"~/IDC5210_Machine_Learning/Project/Translated_data/transactions(SU_ORNEKLEM_KK_HAR_BILGI).csv\"\n",
    "transactions = pd.read_csv(csv_file2, dtype={'Category': 'str'})\n",
    "transactions.info()"
   ]
  },
  {
   "cell_type": "code",
   "execution_count": 211,
   "id": "18cc5fe2-58dc-4d57-892a-847fea718e5f",
   "metadata": {},
   "outputs": [
    {
     "data": {
      "text/html": [
       "<div>\n",
       "<style scoped>\n",
       "    .dataframe tbody tr th:only-of-type {\n",
       "        vertical-align: middle;\n",
       "    }\n",
       "\n",
       "    .dataframe tbody tr th {\n",
       "        vertical-align: top;\n",
       "    }\n",
       "\n",
       "    .dataframe thead th {\n",
       "        text-align: right;\n",
       "    }\n",
       "</style>\n",
       "<table border=\"1\" class=\"dataframe\">\n",
       "  <thead>\n",
       "    <tr style=\"text-align: right;\">\n",
       "      <th></th>\n",
       "      <th>Cust_ID</th>\n",
       "      <th>Category</th>\n",
       "      <th>Trans_Amt</th>\n",
       "      <th>Online_Trans</th>\n",
       "    </tr>\n",
       "  </thead>\n",
       "  <tbody>\n",
       "    <tr>\n",
       "      <th>0</th>\n",
       "      <td>11861396</td>\n",
       "      <td>RESTORAN</td>\n",
       "      <td>10.57</td>\n",
       "      <td>0</td>\n",
       "    </tr>\n",
       "    <tr>\n",
       "      <th>1</th>\n",
       "      <td>13667756</td>\n",
       "      <td>RESTORAN</td>\n",
       "      <td>82.00</td>\n",
       "      <td>0</td>\n",
       "    </tr>\n",
       "    <tr>\n",
       "      <th>2</th>\n",
       "      <td>11024865</td>\n",
       "      <td>RESTORAN</td>\n",
       "      <td>15.00</td>\n",
       "      <td>0</td>\n",
       "    </tr>\n",
       "    <tr>\n",
       "      <th>3</th>\n",
       "      <td>10922788</td>\n",
       "      <td>RESTORAN</td>\n",
       "      <td>86.00</td>\n",
       "      <td>0</td>\n",
       "    </tr>\n",
       "    <tr>\n",
       "      <th>4</th>\n",
       "      <td>10335987</td>\n",
       "      <td>RESTORAN</td>\n",
       "      <td>30.00</td>\n",
       "      <td>0</td>\n",
       "    </tr>\n",
       "    <tr>\n",
       "      <th>...</th>\n",
       "      <td>...</td>\n",
       "      <td>...</td>\n",
       "      <td>...</td>\n",
       "      <td>...</td>\n",
       "    </tr>\n",
       "    <tr>\n",
       "      <th>9334620</th>\n",
       "      <td>15623192</td>\n",
       "      <td>GIDA</td>\n",
       "      <td>23.50</td>\n",
       "      <td>0</td>\n",
       "    </tr>\n",
       "    <tr>\n",
       "      <th>9334621</th>\n",
       "      <td>16382137</td>\n",
       "      <td>TEKSTİL</td>\n",
       "      <td>115.00</td>\n",
       "      <td>0</td>\n",
       "    </tr>\n",
       "    <tr>\n",
       "      <th>9334622</th>\n",
       "      <td>16808133</td>\n",
       "      <td>HİZMET SEKTÖRLERİ</td>\n",
       "      <td>32.00</td>\n",
       "      <td>0</td>\n",
       "    </tr>\n",
       "    <tr>\n",
       "      <th>9334623</th>\n",
       "      <td>27012943</td>\n",
       "      <td>TEKSTİL</td>\n",
       "      <td>250.00</td>\n",
       "      <td>0</td>\n",
       "    </tr>\n",
       "    <tr>\n",
       "      <th>9334624</th>\n",
       "      <td>21896299</td>\n",
       "      <td>GIDA</td>\n",
       "      <td>8.00</td>\n",
       "      <td>0</td>\n",
       "    </tr>\n",
       "  </tbody>\n",
       "</table>\n",
       "<p>9334625 rows × 4 columns</p>\n",
       "</div>"
      ],
      "text/plain": [
       "          Cust_ID           Category  Trans_Amt  Online_Trans\n",
       "0        11861396           RESTORAN      10.57             0\n",
       "1        13667756           RESTORAN      82.00             0\n",
       "2        11024865           RESTORAN      15.00             0\n",
       "3        10922788           RESTORAN      86.00             0\n",
       "4        10335987           RESTORAN      30.00             0\n",
       "...           ...                ...        ...           ...\n",
       "9334620  15623192               GIDA      23.50             0\n",
       "9334621  16382137            TEKSTİL     115.00             0\n",
       "9334622  16808133  HİZMET SEKTÖRLERİ      32.00             0\n",
       "9334623  27012943            TEKSTİL     250.00             0\n",
       "9334624  21896299               GIDA       8.00             0\n",
       "\n",
       "[9334625 rows x 4 columns]"
      ]
     },
     "execution_count": 211,
     "metadata": {},
     "output_type": "execute_result"
    }
   ],
   "source": [
    "trans_sub = transactions[['Cust_ID', 'Category', 'Trans_Amt', 'Online_Trans']]\n",
    "trans_sub"
   ]
  },
  {
   "cell_type": "code",
   "execution_count": 212,
   "id": "36fa6c6a-7946-472e-840b-dcb74f838e04",
   "metadata": {},
   "outputs": [],
   "source": [
    "trans_sums = trans_sub.groupby(['Cust_ID', 'Category'])['Trans_Amt'].sum().reset_index()\n",
    "trans_cats = trans_sums.pivot(columns='Category', index='Cust_ID', values='Trans_Amt')\n",
    "trans_cats = trans_cats.fillna(0)"
   ]
  },
  {
   "cell_type": "code",
   "execution_count": 213,
   "id": "4c016508-5e78-4b37-99cd-0d136e552a45",
   "metadata": {},
   "outputs": [
    {
     "data": {
      "text/html": [
       "<div>\n",
       "<style scoped>\n",
       "    .dataframe tbody tr th:only-of-type {\n",
       "        vertical-align: middle;\n",
       "    }\n",
       "\n",
       "    .dataframe tbody tr th {\n",
       "        vertical-align: top;\n",
       "    }\n",
       "\n",
       "    .dataframe thead th {\n",
       "        text-align: right;\n",
       "    }\n",
       "</style>\n",
       "<table border=\"1\" class=\"dataframe\">\n",
       "  <thead>\n",
       "    <tr style=\"text-align: right;\">\n",
       "      <th>Category</th>\n",
       "      <th>AKARYAKIT</th>\n",
       "      <th>ALIŞVERİŞ MERKEZLERİ</th>\n",
       "      <th>ARABA KİRALAMA</th>\n",
       "      <th>AYAKKABI</th>\n",
       "      <th>BEYAZ EŞYA</th>\n",
       "      <th>DENİZ TAŞITLARI KİRALAMA, SATIŞ, BAKIM</th>\n",
       "      <th>DOĞRUDAN PAZARLAMA-MAIL ORDER</th>\n",
       "      <th>DİĞER</th>\n",
       "      <th>EĞLENCE VE SPOR</th>\n",
       "      <th>EĞİTİM</th>\n",
       "      <th>...</th>\n",
       "      <th>SEYAHAT ACENTALARI - TAŞIMACILIK</th>\n",
       "      <th>SPOR GİYİM</th>\n",
       "      <th>SİGORTA</th>\n",
       "      <th>SİGORTA-MAIL ORDER</th>\n",
       "      <th>SİNEMA TİYATRO SANAT</th>\n",
       "      <th>TEKNOLOJİ</th>\n",
       "      <th>TEKSTİL</th>\n",
       "      <th>TELEKOMÜNİKASYON</th>\n",
       "      <th>YAPI MALZ., HIRDAVAT, NALBURİYE</th>\n",
       "      <th>İÇKİLİ YERLER - KUMARHANE</th>\n",
       "    </tr>\n",
       "    <tr>\n",
       "      <th>Cust_ID</th>\n",
       "      <th></th>\n",
       "      <th></th>\n",
       "      <th></th>\n",
       "      <th></th>\n",
       "      <th></th>\n",
       "      <th></th>\n",
       "      <th></th>\n",
       "      <th></th>\n",
       "      <th></th>\n",
       "      <th></th>\n",
       "      <th></th>\n",
       "      <th></th>\n",
       "      <th></th>\n",
       "      <th></th>\n",
       "      <th></th>\n",
       "      <th></th>\n",
       "      <th></th>\n",
       "      <th></th>\n",
       "      <th></th>\n",
       "      <th></th>\n",
       "      <th></th>\n",
       "    </tr>\n",
       "  </thead>\n",
       "  <tbody>\n",
       "    <tr>\n",
       "      <th>1560993</th>\n",
       "      <td>0.00</td>\n",
       "      <td>0.00</td>\n",
       "      <td>0.0</td>\n",
       "      <td>0.00</td>\n",
       "      <td>0.0</td>\n",
       "      <td>0.0</td>\n",
       "      <td>0.0</td>\n",
       "      <td>0.00</td>\n",
       "      <td>0.0</td>\n",
       "      <td>0.0</td>\n",
       "      <td>...</td>\n",
       "      <td>0.00</td>\n",
       "      <td>0.00</td>\n",
       "      <td>0.0</td>\n",
       "      <td>0.00</td>\n",
       "      <td>0.0</td>\n",
       "      <td>0.00</td>\n",
       "      <td>0.00</td>\n",
       "      <td>0.0</td>\n",
       "      <td>0.00</td>\n",
       "      <td>0.0</td>\n",
       "    </tr>\n",
       "    <tr>\n",
       "      <th>1566513</th>\n",
       "      <td>2170.00</td>\n",
       "      <td>20.05</td>\n",
       "      <td>0.0</td>\n",
       "      <td>0.00</td>\n",
       "      <td>250.0</td>\n",
       "      <td>0.0</td>\n",
       "      <td>0.0</td>\n",
       "      <td>268.50</td>\n",
       "      <td>0.0</td>\n",
       "      <td>0.0</td>\n",
       "      <td>...</td>\n",
       "      <td>0.00</td>\n",
       "      <td>0.00</td>\n",
       "      <td>0.0</td>\n",
       "      <td>858.00</td>\n",
       "      <td>0.0</td>\n",
       "      <td>2238.76</td>\n",
       "      <td>0.00</td>\n",
       "      <td>1375.0</td>\n",
       "      <td>1928.13</td>\n",
       "      <td>0.0</td>\n",
       "    </tr>\n",
       "    <tr>\n",
       "      <th>1567711</th>\n",
       "      <td>375.32</td>\n",
       "      <td>0.00</td>\n",
       "      <td>0.0</td>\n",
       "      <td>558.40</td>\n",
       "      <td>55.0</td>\n",
       "      <td>0.0</td>\n",
       "      <td>0.0</td>\n",
       "      <td>350.92</td>\n",
       "      <td>0.0</td>\n",
       "      <td>0.0</td>\n",
       "      <td>...</td>\n",
       "      <td>716.87</td>\n",
       "      <td>89.90</td>\n",
       "      <td>0.0</td>\n",
       "      <td>465.39</td>\n",
       "      <td>0.0</td>\n",
       "      <td>77.57</td>\n",
       "      <td>5587.22</td>\n",
       "      <td>912.6</td>\n",
       "      <td>64.93</td>\n",
       "      <td>70.0</td>\n",
       "    </tr>\n",
       "    <tr>\n",
       "      <th>1569761</th>\n",
       "      <td>0.00</td>\n",
       "      <td>0.00</td>\n",
       "      <td>0.0</td>\n",
       "      <td>459.87</td>\n",
       "      <td>0.0</td>\n",
       "      <td>0.0</td>\n",
       "      <td>0.0</td>\n",
       "      <td>0.00</td>\n",
       "      <td>0.0</td>\n",
       "      <td>0.0</td>\n",
       "      <td>...</td>\n",
       "      <td>1590.00</td>\n",
       "      <td>59.99</td>\n",
       "      <td>0.0</td>\n",
       "      <td>0.00</td>\n",
       "      <td>0.0</td>\n",
       "      <td>8797.33</td>\n",
       "      <td>1319.34</td>\n",
       "      <td>0.0</td>\n",
       "      <td>3026.21</td>\n",
       "      <td>0.0</td>\n",
       "    </tr>\n",
       "    <tr>\n",
       "      <th>1569938</th>\n",
       "      <td>0.00</td>\n",
       "      <td>0.00</td>\n",
       "      <td>0.0</td>\n",
       "      <td>0.00</td>\n",
       "      <td>0.0</td>\n",
       "      <td>0.0</td>\n",
       "      <td>0.0</td>\n",
       "      <td>0.00</td>\n",
       "      <td>0.0</td>\n",
       "      <td>0.0</td>\n",
       "      <td>...</td>\n",
       "      <td>0.00</td>\n",
       "      <td>0.00</td>\n",
       "      <td>0.0</td>\n",
       "      <td>0.00</td>\n",
       "      <td>0.0</td>\n",
       "      <td>379.00</td>\n",
       "      <td>19.90</td>\n",
       "      <td>840.0</td>\n",
       "      <td>74.85</td>\n",
       "      <td>0.0</td>\n",
       "    </tr>\n",
       "    <tr>\n",
       "      <th>...</th>\n",
       "      <td>...</td>\n",
       "      <td>...</td>\n",
       "      <td>...</td>\n",
       "      <td>...</td>\n",
       "      <td>...</td>\n",
       "      <td>...</td>\n",
       "      <td>...</td>\n",
       "      <td>...</td>\n",
       "      <td>...</td>\n",
       "      <td>...</td>\n",
       "      <td>...</td>\n",
       "      <td>...</td>\n",
       "      <td>...</td>\n",
       "      <td>...</td>\n",
       "      <td>...</td>\n",
       "      <td>...</td>\n",
       "      <td>...</td>\n",
       "      <td>...</td>\n",
       "      <td>...</td>\n",
       "      <td>...</td>\n",
       "      <td>...</td>\n",
       "    </tr>\n",
       "    <tr>\n",
       "      <th>28196275</th>\n",
       "      <td>0.00</td>\n",
       "      <td>0.00</td>\n",
       "      <td>0.0</td>\n",
       "      <td>0.00</td>\n",
       "      <td>0.0</td>\n",
       "      <td>0.0</td>\n",
       "      <td>0.0</td>\n",
       "      <td>0.00</td>\n",
       "      <td>0.0</td>\n",
       "      <td>0.0</td>\n",
       "      <td>...</td>\n",
       "      <td>0.00</td>\n",
       "      <td>0.00</td>\n",
       "      <td>0.0</td>\n",
       "      <td>0.00</td>\n",
       "      <td>0.0</td>\n",
       "      <td>55.25</td>\n",
       "      <td>0.00</td>\n",
       "      <td>0.0</td>\n",
       "      <td>0.00</td>\n",
       "      <td>0.0</td>\n",
       "    </tr>\n",
       "    <tr>\n",
       "      <th>28196280</th>\n",
       "      <td>0.00</td>\n",
       "      <td>0.00</td>\n",
       "      <td>0.0</td>\n",
       "      <td>0.00</td>\n",
       "      <td>0.0</td>\n",
       "      <td>0.0</td>\n",
       "      <td>0.0</td>\n",
       "      <td>0.00</td>\n",
       "      <td>0.0</td>\n",
       "      <td>0.0</td>\n",
       "      <td>...</td>\n",
       "      <td>0.00</td>\n",
       "      <td>0.00</td>\n",
       "      <td>0.0</td>\n",
       "      <td>0.00</td>\n",
       "      <td>0.0</td>\n",
       "      <td>0.00</td>\n",
       "      <td>0.00</td>\n",
       "      <td>0.0</td>\n",
       "      <td>229.90</td>\n",
       "      <td>0.0</td>\n",
       "    </tr>\n",
       "    <tr>\n",
       "      <th>28200516</th>\n",
       "      <td>0.00</td>\n",
       "      <td>0.00</td>\n",
       "      <td>0.0</td>\n",
       "      <td>0.00</td>\n",
       "      <td>0.0</td>\n",
       "      <td>0.0</td>\n",
       "      <td>0.0</td>\n",
       "      <td>0.00</td>\n",
       "      <td>0.0</td>\n",
       "      <td>0.0</td>\n",
       "      <td>...</td>\n",
       "      <td>0.00</td>\n",
       "      <td>0.00</td>\n",
       "      <td>0.0</td>\n",
       "      <td>0.00</td>\n",
       "      <td>0.0</td>\n",
       "      <td>5338.26</td>\n",
       "      <td>0.00</td>\n",
       "      <td>0.0</td>\n",
       "      <td>0.00</td>\n",
       "      <td>0.0</td>\n",
       "    </tr>\n",
       "    <tr>\n",
       "      <th>28203156</th>\n",
       "      <td>541.99</td>\n",
       "      <td>0.00</td>\n",
       "      <td>0.0</td>\n",
       "      <td>0.00</td>\n",
       "      <td>0.0</td>\n",
       "      <td>0.0</td>\n",
       "      <td>0.0</td>\n",
       "      <td>0.00</td>\n",
       "      <td>0.0</td>\n",
       "      <td>0.0</td>\n",
       "      <td>...</td>\n",
       "      <td>0.00</td>\n",
       "      <td>0.00</td>\n",
       "      <td>0.0</td>\n",
       "      <td>0.00</td>\n",
       "      <td>0.0</td>\n",
       "      <td>0.00</td>\n",
       "      <td>0.00</td>\n",
       "      <td>0.0</td>\n",
       "      <td>0.00</td>\n",
       "      <td>0.0</td>\n",
       "    </tr>\n",
       "    <tr>\n",
       "      <th>28204207</th>\n",
       "      <td>0.00</td>\n",
       "      <td>0.00</td>\n",
       "      <td>0.0</td>\n",
       "      <td>0.00</td>\n",
       "      <td>0.0</td>\n",
       "      <td>0.0</td>\n",
       "      <td>0.0</td>\n",
       "      <td>0.00</td>\n",
       "      <td>0.0</td>\n",
       "      <td>0.0</td>\n",
       "      <td>...</td>\n",
       "      <td>121.95</td>\n",
       "      <td>0.00</td>\n",
       "      <td>0.0</td>\n",
       "      <td>0.00</td>\n",
       "      <td>0.0</td>\n",
       "      <td>0.00</td>\n",
       "      <td>0.00</td>\n",
       "      <td>0.0</td>\n",
       "      <td>0.00</td>\n",
       "      <td>0.0</td>\n",
       "    </tr>\n",
       "  </tbody>\n",
       "</table>\n",
       "<p>101864 rows × 35 columns</p>\n",
       "</div>"
      ],
      "text/plain": [
       "Category  AKARYAKIT  ALIŞVERİŞ MERKEZLERİ  ARABA KİRALAMA  AYAKKABI  \\\n",
       "Cust_ID                                                               \n",
       "1560993        0.00                  0.00             0.0      0.00   \n",
       "1566513     2170.00                 20.05             0.0      0.00   \n",
       "1567711      375.32                  0.00             0.0    558.40   \n",
       "1569761        0.00                  0.00             0.0    459.87   \n",
       "1569938        0.00                  0.00             0.0      0.00   \n",
       "...             ...                   ...             ...       ...   \n",
       "28196275       0.00                  0.00             0.0      0.00   \n",
       "28196280       0.00                  0.00             0.0      0.00   \n",
       "28200516       0.00                  0.00             0.0      0.00   \n",
       "28203156     541.99                  0.00             0.0      0.00   \n",
       "28204207       0.00                  0.00             0.0      0.00   \n",
       "\n",
       "Category  BEYAZ EŞYA  DENİZ TAŞITLARI KİRALAMA, SATIŞ, BAKIM  \\\n",
       "Cust_ID                                                        \n",
       "1560993          0.0                                     0.0   \n",
       "1566513        250.0                                     0.0   \n",
       "1567711         55.0                                     0.0   \n",
       "1569761          0.0                                     0.0   \n",
       "1569938          0.0                                     0.0   \n",
       "...              ...                                     ...   \n",
       "28196275         0.0                                     0.0   \n",
       "28196280         0.0                                     0.0   \n",
       "28200516         0.0                                     0.0   \n",
       "28203156         0.0                                     0.0   \n",
       "28204207         0.0                                     0.0   \n",
       "\n",
       "Category  DOĞRUDAN PAZARLAMA-MAIL ORDER   DİĞER  EĞLENCE VE SPOR  EĞİTİM  ...  \\\n",
       "Cust_ID                                                                   ...   \n",
       "1560993                             0.0    0.00              0.0     0.0  ...   \n",
       "1566513                             0.0  268.50              0.0     0.0  ...   \n",
       "1567711                             0.0  350.92              0.0     0.0  ...   \n",
       "1569761                             0.0    0.00              0.0     0.0  ...   \n",
       "1569938                             0.0    0.00              0.0     0.0  ...   \n",
       "...                                 ...     ...              ...     ...  ...   \n",
       "28196275                            0.0    0.00              0.0     0.0  ...   \n",
       "28196280                            0.0    0.00              0.0     0.0  ...   \n",
       "28200516                            0.0    0.00              0.0     0.0  ...   \n",
       "28203156                            0.0    0.00              0.0     0.0  ...   \n",
       "28204207                            0.0    0.00              0.0     0.0  ...   \n",
       "\n",
       "Category  SEYAHAT ACENTALARI - TAŞIMACILIK  SPOR GİYİM  SİGORTA  \\\n",
       "Cust_ID                                                           \n",
       "1560993                               0.00        0.00      0.0   \n",
       "1566513                               0.00        0.00      0.0   \n",
       "1567711                             716.87       89.90      0.0   \n",
       "1569761                            1590.00       59.99      0.0   \n",
       "1569938                               0.00        0.00      0.0   \n",
       "...                                    ...         ...      ...   \n",
       "28196275                              0.00        0.00      0.0   \n",
       "28196280                              0.00        0.00      0.0   \n",
       "28200516                              0.00        0.00      0.0   \n",
       "28203156                              0.00        0.00      0.0   \n",
       "28204207                            121.95        0.00      0.0   \n",
       "\n",
       "Category  SİGORTA-MAIL ORDER  SİNEMA TİYATRO SANAT  TEKNOLOJİ  TEKSTİL  \\\n",
       "Cust_ID                                                                  \n",
       "1560993                 0.00                   0.0       0.00     0.00   \n",
       "1566513               858.00                   0.0    2238.76     0.00   \n",
       "1567711               465.39                   0.0      77.57  5587.22   \n",
       "1569761                 0.00                   0.0    8797.33  1319.34   \n",
       "1569938                 0.00                   0.0     379.00    19.90   \n",
       "...                      ...                   ...        ...      ...   \n",
       "28196275                0.00                   0.0      55.25     0.00   \n",
       "28196280                0.00                   0.0       0.00     0.00   \n",
       "28200516                0.00                   0.0    5338.26     0.00   \n",
       "28203156                0.00                   0.0       0.00     0.00   \n",
       "28204207                0.00                   0.0       0.00     0.00   \n",
       "\n",
       "Category  TELEKOMÜNİKASYON  YAPI MALZ., HIRDAVAT, NALBURİYE  \\\n",
       "Cust_ID                                                       \n",
       "1560993                0.0                             0.00   \n",
       "1566513             1375.0                          1928.13   \n",
       "1567711              912.6                            64.93   \n",
       "1569761                0.0                          3026.21   \n",
       "1569938              840.0                            74.85   \n",
       "...                    ...                              ...   \n",
       "28196275               0.0                             0.00   \n",
       "28196280               0.0                           229.90   \n",
       "28200516               0.0                             0.00   \n",
       "28203156               0.0                             0.00   \n",
       "28204207               0.0                             0.00   \n",
       "\n",
       "Category  İÇKİLİ YERLER - KUMARHANE  \n",
       "Cust_ID                              \n",
       "1560993                         0.0  \n",
       "1566513                         0.0  \n",
       "1567711                        70.0  \n",
       "1569761                         0.0  \n",
       "1569938                         0.0  \n",
       "...                             ...  \n",
       "28196275                        0.0  \n",
       "28196280                        0.0  \n",
       "28200516                        0.0  \n",
       "28203156                        0.0  \n",
       "28204207                        0.0  \n",
       "\n",
       "[101864 rows x 35 columns]"
      ]
     },
     "execution_count": 213,
     "metadata": {},
     "output_type": "execute_result"
    }
   ],
   "source": [
    "trans_cats"
   ]
  },
  {
   "cell_type": "code",
   "execution_count": 214,
   "id": "706945d9-90f3-4755-af05-1a7da061a54e",
   "metadata": {
    "tags": []
   },
   "outputs": [],
   "source": [
    "demo_df = demo_df.join(trans_cats, on='Cust_ID')"
   ]
  },
  {
   "cell_type": "code",
   "execution_count": 215,
   "id": "9e5fb6b1-e184-4bc5-b9bd-3cc0bfb32724",
   "metadata": {},
   "outputs": [],
   "source": [
    "demo_df.drop('Cust_ID', axis = 1, inplace = True)"
   ]
  },
  {
   "cell_type": "code",
   "execution_count": 216,
   "id": "dfaa3b53-2dea-4e45-9e97-852ea1a56c88",
   "metadata": {},
   "outputs": [
    {
     "name": "stdout",
     "output_type": "stream",
     "text": [
      "<class 'pandas.core.frame.DataFrame'>\n",
      "RangeIndex: 10321 entries, 0 to 10320\n",
      "Data columns (total 66 columns):\n",
      " #   Column                                  Non-Null Count  Dtype  \n",
      "---  ------                                  --------------  -----  \n",
      " 0   Cust_Segment                            10321 non-null  object \n",
      " 1   Branch_ID                               10321 non-null  int64  \n",
      " 2   Gender                                  10321 non-null  object \n",
      " 3   Marital_Status                          10321 non-null  object \n",
      " 4   Education_Lv                            10321 non-null  object \n",
      " 5   Job_Status                              10321 non-null  object \n",
      " 6   Income                                  10080 non-null  float64\n",
      " 7   Age                                     10321 non-null  int64  \n",
      " 8   Years_w_Bank                            10321 non-null  float64\n",
      " 9   Work_Region                             10321 non-null  object \n",
      " 10  Home_Region                             10321 non-null  object \n",
      " 11  Branch_Region                           10321 non-null  object \n",
      " 12  1)RISKSIZ                               10321 non-null  float64\n",
      " 13  2)GECIKME 1-15 GUN                      10321 non-null  float64\n",
      " 14  3)GECIKME 16-29 GUN                     10321 non-null  float64\n",
      " 15  4)GECIKME 30-59 GUN                     10321 non-null  float64\n",
      " 16  5)GECIKME 60+ GUN                       10321 non-null  float64\n",
      " 17  6)TAKIP                                 10321 non-null  float64\n",
      " 18  statement_mean                          10224 non-null  float64\n",
      " 19  statement_max                           10224 non-null  float64\n",
      " 20  transaction1_mean                       10083 non-null  float64\n",
      " 21  transaction1_max                        10083 non-null  float64\n",
      " 22  transaction2_mean                       10136 non-null  float64\n",
      " 23  transaction2_max                        10136 non-null  float64\n",
      " 24  online_trans_percent                    10136 non-null  float64\n",
      " 25  transaction_food_mean                   8874 non-null   float64\n",
      " 26  transaction_food_max                    8874 non-null   float64\n",
      " 27  transaction_health_mean                 5360 non-null   float64\n",
      " 28  transaction_health_max                  5360 non-null   float64\n",
      " 29  transaction_gas_mean                    5847 non-null   float64\n",
      " 30  transaction_gas_max                     5847 non-null   float64\n",
      " 31  AKARYAKIT                               10205 non-null  float64\n",
      " 32  ALIŞVERİŞ MERKEZLERİ                    10205 non-null  float64\n",
      " 33  ARABA KİRALAMA                          10205 non-null  float64\n",
      " 34  AYAKKABI                                10205 non-null  float64\n",
      " 35  BEYAZ EŞYA                              10205 non-null  float64\n",
      " 36  DENİZ TAŞITLARI KİRALAMA, SATIŞ, BAKIM  10205 non-null  float64\n",
      " 37  DOĞRUDAN PAZARLAMA-MAIL ORDER           10205 non-null  float64\n",
      " 38  DİĞER                                   10205 non-null  float64\n",
      " 39  EĞLENCE VE SPOR                         10205 non-null  float64\n",
      " 40  EĞİTİM                                  10205 non-null  float64\n",
      " 41  GIDA                                    10205 non-null  float64\n",
      " 42  HAVAYOLLARI                             10205 non-null  float64\n",
      " 43  HOTEL                                   10205 non-null  float64\n",
      " 44  HİZMET SEKTÖRLERİ                       10205 non-null  float64\n",
      " 45  KOZMETİK                                10205 non-null  float64\n",
      " 46  KUYUMCU                                 10205 non-null  float64\n",
      " 47  MOBİLYA, DEKORASYON                     10205 non-null  float64\n",
      " 48  MOTOSİKLET                              10205 non-null  float64\n",
      " 49  MUZIK MARKET KIRTASİYE                  10205 non-null  float64\n",
      " 50  NAKİT AVANS                             10205 non-null  float64\n",
      " 51  OPTİK                                   10205 non-null  float64\n",
      " 52  OTOMOTİV                                10205 non-null  float64\n",
      " 53  OYUNCAK                                 10205 non-null  float64\n",
      " 54  RESTORAN                                10205 non-null  float64\n",
      " 55  SAĞLIK                                  10205 non-null  float64\n",
      " 56  SEYAHAT ACENTALARI - TAŞIMACILIK        10205 non-null  float64\n",
      " 57  SPOR GİYİM                              10205 non-null  float64\n",
      " 58  SİGORTA                                 10205 non-null  float64\n",
      " 59  SİGORTA-MAIL ORDER                      10205 non-null  float64\n",
      " 60  SİNEMA TİYATRO SANAT                    10205 non-null  float64\n",
      " 61  TEKNOLOJİ                               10205 non-null  float64\n",
      " 62  TEKSTİL                                 10205 non-null  float64\n",
      " 63  TELEKOMÜNİKASYON                        10205 non-null  float64\n",
      " 64  YAPI MALZ., HIRDAVAT, NALBURİYE         10205 non-null  float64\n",
      " 65  İÇKİLİ YERLER - KUMARHANE               10205 non-null  float64\n",
      "dtypes: float64(56), int64(2), object(8)\n",
      "memory usage: 5.2+ MB\n"
     ]
    }
   ],
   "source": [
    "demo_df.info()"
   ]
  },
  {
   "cell_type": "markdown",
   "id": "60cc41e5-2915-4658-8e5e-9da343829eaf",
   "metadata": {},
   "source": [
    "# Data Exploration"
   ]
  },
  {
   "cell_type": "code",
   "execution_count": 217,
   "id": "179323a1-30d0-4fc4-9453-7a29d80e0322",
   "metadata": {},
   "outputs": [
    {
     "data": {
      "text/plain": [
       "BİREYSEL                       9598\n",
       "BİREBİR                         400\n",
       "MİKRO                           298\n",
       "EXI26                            16\n",
       "ÖZEL BANKACILIK MÜŞTERİLERİ       9\n",
       "Name: Cust_Segment, dtype: int64"
      ]
     },
     "execution_count": 217,
     "metadata": {},
     "output_type": "execute_result"
    }
   ],
   "source": [
    "demo_df['Cust_Segment'].value_counts()"
   ]
  },
  {
   "cell_type": "code",
   "execution_count": 218,
   "id": "64358fdc-e7c9-448e-932a-63a686d52ef2",
   "metadata": {},
   "outputs": [
    {
     "data": {
      "text/plain": [
       "EVLİ          6563\n",
       "BEKAR         3104\n",
       "BOŞANMIŞ       473\n",
       "BİLINMİYOR     143\n",
       "DUL             38\n",
       "Name: Marital_Status, dtype: int64"
      ]
     },
     "execution_count": 218,
     "metadata": {},
     "output_type": "execute_result"
    }
   ],
   "source": [
    "demo_df['Marital_Status'].value_counts()"
   ]
  },
  {
   "cell_type": "code",
   "execution_count": 219,
   "id": "97990235-1217-47a1-aaed-75f1978ea316",
   "metadata": {},
   "outputs": [
    {
     "data": {
      "text/plain": [
       "HS_below      6440\n",
       "University    3489\n",
       "Graduate       385\n",
       "BİLİNMİYOR       7\n",
       "Name: Education_Lv, dtype: int64"
      ]
     },
     "execution_count": 219,
     "metadata": {},
     "output_type": "execute_result"
    }
   ],
   "source": [
    "demo_df['Education_Lv'].value_counts()"
   ]
  },
  {
   "cell_type": "code",
   "execution_count": 220,
   "id": "01c0bffa-4348-456e-83e6-e8b3caa35814",
   "metadata": {},
   "outputs": [
    {
     "data": {
      "text/plain": [
       "ÜCRETLİ (ÖZEL)                    7812\n",
       "SERBEST MESLEK                    1123\n",
       "ÜCRETLI (KAMU)                     550\n",
       "EMEKLİ                             322\n",
       "ÇALIŞAN EMEKLİ(ÜCRETLİ)            202\n",
       "EV HANIMI                           82\n",
       "ÇALIŞMIYOR                          76\n",
       "ÇALIŞAN EMEKLİ(SERBEST MESLEK)      65\n",
       "DİĞER                               37\n",
       "TANIMSIZ                            29\n",
       "ÖĞRENCİ                             21\n",
       "YURTDIŞINDA ÇALIŞAN                  2\n",
       "Name: Job_Status, dtype: int64"
      ]
     },
     "execution_count": 220,
     "metadata": {},
     "output_type": "execute_result"
    }
   ],
   "source": [
    "demo_df['Job_Status'].value_counts()"
   ]
  },
  {
   "cell_type": "code",
   "execution_count": 221,
   "id": "5d586cda-384d-4801-b9c8-de7e53004d3e",
   "metadata": {},
   "outputs": [
    {
     "data": {
      "text/plain": [
       "MARMARA             10062\n",
       "BLACK SEA              70\n",
       "MEDITERRANEAN          52\n",
       "AEGEAN                 41\n",
       "CENTRAL ANATOLIA       40\n",
       "EASTERN ANATOLIA       35\n",
       "SE ANATOLIA            21\n",
       "Name: Home_Region, dtype: int64"
      ]
     },
     "execution_count": 221,
     "metadata": {},
     "output_type": "execute_result"
    }
   ],
   "source": [
    "demo_df['Home_Region'].value_counts()"
   ]
  },
  {
   "cell_type": "code",
   "execution_count": 222,
   "id": "d72dbd8f-18fd-4e25-a730-c5662b598878",
   "metadata": {},
   "outputs": [
    {
     "data": {
      "text/plain": [
       "MARMARA             10199\n",
       "AEGEAN                 29\n",
       "CENTRAL ANATOLIA       29\n",
       "BLACK SEA              24\n",
       "MEDITERRANEAN          20\n",
       "EASTERN ANATOLIA       10\n",
       "SE ANATOLIA            10\n",
       "Name: Work_Region, dtype: int64"
      ]
     },
     "execution_count": 222,
     "metadata": {},
     "output_type": "execute_result"
    }
   ],
   "source": [
    "demo_df['Work_Region'].value_counts()"
   ]
  },
  {
   "cell_type": "code",
   "execution_count": 223,
   "id": "393f7575-7a95-4caa-855f-4c1c282f8b1b",
   "metadata": {},
   "outputs": [
    {
     "data": {
      "text/plain": [
       "MARMARA             9869\n",
       "BLACK SEA            109\n",
       "CENTRAL ANATOLIA     107\n",
       "AEGEAN               100\n",
       "MEDITERRANEAN         68\n",
       "EASTERN ANATOLIA      37\n",
       "SE ANATOLIA           31\n",
       "Name: Branch_Region, dtype: int64"
      ]
     },
     "execution_count": 223,
     "metadata": {},
     "output_type": "execute_result"
    }
   ],
   "source": [
    "demo_df['Branch_Region'].value_counts()"
   ]
  },
  {
   "cell_type": "code",
   "execution_count": 224,
   "id": "18afcc3b-4469-484f-b75d-d1382e059d98",
   "metadata": {},
   "outputs": [
    {
     "data": {
      "text/plain": [
       "Cust_Segment                         0\n",
       "Branch_ID                            0\n",
       "Gender                               0\n",
       "Marital_Status                       0\n",
       "Education_Lv                         0\n",
       "                                  ... \n",
       "TEKNOLOJİ                          116\n",
       "TEKSTİL                            116\n",
       "TELEKOMÜNİKASYON                   116\n",
       "YAPI MALZ., HIRDAVAT, NALBURİYE    116\n",
       "İÇKİLİ YERLER - KUMARHANE          116\n",
       "Length: 66, dtype: int64"
      ]
     },
     "execution_count": 224,
     "metadata": {},
     "output_type": "execute_result"
    }
   ],
   "source": [
    "# check values for nulls\n",
    "demo_df.isnull().sum(axis = 0)"
   ]
  },
  {
   "cell_type": "code",
   "execution_count": 225,
   "id": "a46279de-19eb-4fad-89cd-643586475e18",
   "metadata": {},
   "outputs": [
    {
     "data": {
      "text/html": [
       "<div>\n",
       "<style scoped>\n",
       "    .dataframe tbody tr th:only-of-type {\n",
       "        vertical-align: middle;\n",
       "    }\n",
       "\n",
       "    .dataframe tbody tr th {\n",
       "        vertical-align: top;\n",
       "    }\n",
       "\n",
       "    .dataframe thead th {\n",
       "        text-align: right;\n",
       "    }\n",
       "</style>\n",
       "<table border=\"1\" class=\"dataframe\">\n",
       "  <thead>\n",
       "    <tr style=\"text-align: right;\">\n",
       "      <th></th>\n",
       "      <th>Cust_Segment</th>\n",
       "      <th>Branch_ID</th>\n",
       "      <th>Gender</th>\n",
       "      <th>Marital_Status</th>\n",
       "      <th>Education_Lv</th>\n",
       "      <th>Job_Status</th>\n",
       "      <th>Income</th>\n",
       "      <th>Age</th>\n",
       "      <th>Years_w_Bank</th>\n",
       "      <th>Work_Region</th>\n",
       "      <th>...</th>\n",
       "      <th>SEYAHAT ACENTALARI - TAŞIMACILIK</th>\n",
       "      <th>SPOR GİYİM</th>\n",
       "      <th>SİGORTA</th>\n",
       "      <th>SİGORTA-MAIL ORDER</th>\n",
       "      <th>SİNEMA TİYATRO SANAT</th>\n",
       "      <th>TEKNOLOJİ</th>\n",
       "      <th>TEKSTİL</th>\n",
       "      <th>TELEKOMÜNİKASYON</th>\n",
       "      <th>YAPI MALZ., HIRDAVAT, NALBURİYE</th>\n",
       "      <th>İÇKİLİ YERLER - KUMARHANE</th>\n",
       "    </tr>\n",
       "  </thead>\n",
       "  <tbody>\n",
       "    <tr>\n",
       "      <th>21</th>\n",
       "      <td>BİREYSEL</td>\n",
       "      <td>16</td>\n",
       "      <td>E</td>\n",
       "      <td>EVLİ</td>\n",
       "      <td>HS_below</td>\n",
       "      <td>ÜCRETLİ (ÖZEL)</td>\n",
       "      <td>2000.0</td>\n",
       "      <td>44</td>\n",
       "      <td>9.0</td>\n",
       "      <td>MARMARA</td>\n",
       "      <td>...</td>\n",
       "      <td>NaN</td>\n",
       "      <td>NaN</td>\n",
       "      <td>NaN</td>\n",
       "      <td>NaN</td>\n",
       "      <td>NaN</td>\n",
       "      <td>NaN</td>\n",
       "      <td>NaN</td>\n",
       "      <td>NaN</td>\n",
       "      <td>NaN</td>\n",
       "      <td>NaN</td>\n",
       "    </tr>\n",
       "    <tr>\n",
       "      <th>72</th>\n",
       "      <td>BİREYSEL</td>\n",
       "      <td>1168</td>\n",
       "      <td>E</td>\n",
       "      <td>BEKAR</td>\n",
       "      <td>HS_below</td>\n",
       "      <td>ÜCRETLİ (ÖZEL)</td>\n",
       "      <td>1200.0</td>\n",
       "      <td>25</td>\n",
       "      <td>3.0</td>\n",
       "      <td>MARMARA</td>\n",
       "      <td>...</td>\n",
       "      <td>NaN</td>\n",
       "      <td>NaN</td>\n",
       "      <td>NaN</td>\n",
       "      <td>NaN</td>\n",
       "      <td>NaN</td>\n",
       "      <td>NaN</td>\n",
       "      <td>NaN</td>\n",
       "      <td>NaN</td>\n",
       "      <td>NaN</td>\n",
       "      <td>NaN</td>\n",
       "    </tr>\n",
       "    <tr>\n",
       "      <th>128</th>\n",
       "      <td>BİREYSEL</td>\n",
       "      <td>728</td>\n",
       "      <td>E</td>\n",
       "      <td>EVLİ</td>\n",
       "      <td>HS_below</td>\n",
       "      <td>SERBEST MESLEK</td>\n",
       "      <td>13311.0</td>\n",
       "      <td>44</td>\n",
       "      <td>11.0</td>\n",
       "      <td>MARMARA</td>\n",
       "      <td>...</td>\n",
       "      <td>NaN</td>\n",
       "      <td>NaN</td>\n",
       "      <td>NaN</td>\n",
       "      <td>NaN</td>\n",
       "      <td>NaN</td>\n",
       "      <td>NaN</td>\n",
       "      <td>NaN</td>\n",
       "      <td>NaN</td>\n",
       "      <td>NaN</td>\n",
       "      <td>NaN</td>\n",
       "    </tr>\n",
       "    <tr>\n",
       "      <th>360</th>\n",
       "      <td>BİREYSEL</td>\n",
       "      <td>571</td>\n",
       "      <td>E</td>\n",
       "      <td>BEKAR</td>\n",
       "      <td>HS_below</td>\n",
       "      <td>ÜCRETLİ (ÖZEL)</td>\n",
       "      <td>1500.0</td>\n",
       "      <td>25</td>\n",
       "      <td>1.0</td>\n",
       "      <td>MARMARA</td>\n",
       "      <td>...</td>\n",
       "      <td>NaN</td>\n",
       "      <td>NaN</td>\n",
       "      <td>NaN</td>\n",
       "      <td>NaN</td>\n",
       "      <td>NaN</td>\n",
       "      <td>NaN</td>\n",
       "      <td>NaN</td>\n",
       "      <td>NaN</td>\n",
       "      <td>NaN</td>\n",
       "      <td>NaN</td>\n",
       "    </tr>\n",
       "    <tr>\n",
       "      <th>550</th>\n",
       "      <td>BİREYSEL</td>\n",
       "      <td>1343</td>\n",
       "      <td>E</td>\n",
       "      <td>EVLİ</td>\n",
       "      <td>HS_below</td>\n",
       "      <td>ÇALIŞAN EMEKLİ(ÜCRETLİ)</td>\n",
       "      <td>2422.0</td>\n",
       "      <td>51</td>\n",
       "      <td>3.0</td>\n",
       "      <td>MARMARA</td>\n",
       "      <td>...</td>\n",
       "      <td>NaN</td>\n",
       "      <td>NaN</td>\n",
       "      <td>NaN</td>\n",
       "      <td>NaN</td>\n",
       "      <td>NaN</td>\n",
       "      <td>NaN</td>\n",
       "      <td>NaN</td>\n",
       "      <td>NaN</td>\n",
       "      <td>NaN</td>\n",
       "      <td>NaN</td>\n",
       "    </tr>\n",
       "    <tr>\n",
       "      <th>...</th>\n",
       "      <td>...</td>\n",
       "      <td>...</td>\n",
       "      <td>...</td>\n",
       "      <td>...</td>\n",
       "      <td>...</td>\n",
       "      <td>...</td>\n",
       "      <td>...</td>\n",
       "      <td>...</td>\n",
       "      <td>...</td>\n",
       "      <td>...</td>\n",
       "      <td>...</td>\n",
       "      <td>...</td>\n",
       "      <td>...</td>\n",
       "      <td>...</td>\n",
       "      <td>...</td>\n",
       "      <td>...</td>\n",
       "      <td>...</td>\n",
       "      <td>...</td>\n",
       "      <td>...</td>\n",
       "      <td>...</td>\n",
       "      <td>...</td>\n",
       "    </tr>\n",
       "    <tr>\n",
       "      <th>9871</th>\n",
       "      <td>BİREYSEL</td>\n",
       "      <td>692</td>\n",
       "      <td>K</td>\n",
       "      <td>EVLİ</td>\n",
       "      <td>University</td>\n",
       "      <td>ÜCRETLİ (ÖZEL)</td>\n",
       "      <td>0.0</td>\n",
       "      <td>35</td>\n",
       "      <td>13.0</td>\n",
       "      <td>MARMARA</td>\n",
       "      <td>...</td>\n",
       "      <td>NaN</td>\n",
       "      <td>NaN</td>\n",
       "      <td>NaN</td>\n",
       "      <td>NaN</td>\n",
       "      <td>NaN</td>\n",
       "      <td>NaN</td>\n",
       "      <td>NaN</td>\n",
       "      <td>NaN</td>\n",
       "      <td>NaN</td>\n",
       "      <td>NaN</td>\n",
       "    </tr>\n",
       "    <tr>\n",
       "      <th>9876</th>\n",
       "      <td>BİREYSEL</td>\n",
       "      <td>766</td>\n",
       "      <td>K</td>\n",
       "      <td>BEKAR</td>\n",
       "      <td>Graduate</td>\n",
       "      <td>ÜCRETLİ (ÖZEL)</td>\n",
       "      <td>0.0</td>\n",
       "      <td>47</td>\n",
       "      <td>7.0</td>\n",
       "      <td>MARMARA</td>\n",
       "      <td>...</td>\n",
       "      <td>NaN</td>\n",
       "      <td>NaN</td>\n",
       "      <td>NaN</td>\n",
       "      <td>NaN</td>\n",
       "      <td>NaN</td>\n",
       "      <td>NaN</td>\n",
       "      <td>NaN</td>\n",
       "      <td>NaN</td>\n",
       "      <td>NaN</td>\n",
       "      <td>NaN</td>\n",
       "    </tr>\n",
       "    <tr>\n",
       "      <th>9964</th>\n",
       "      <td>BİREYSEL</td>\n",
       "      <td>392</td>\n",
       "      <td>K</td>\n",
       "      <td>BOŞANMIŞ</td>\n",
       "      <td>HS_below</td>\n",
       "      <td>ÜCRETLİ (ÖZEL)</td>\n",
       "      <td>3000.0</td>\n",
       "      <td>45</td>\n",
       "      <td>8.0</td>\n",
       "      <td>MARMARA</td>\n",
       "      <td>...</td>\n",
       "      <td>NaN</td>\n",
       "      <td>NaN</td>\n",
       "      <td>NaN</td>\n",
       "      <td>NaN</td>\n",
       "      <td>NaN</td>\n",
       "      <td>NaN</td>\n",
       "      <td>NaN</td>\n",
       "      <td>NaN</td>\n",
       "      <td>NaN</td>\n",
       "      <td>NaN</td>\n",
       "    </tr>\n",
       "    <tr>\n",
       "      <th>10127</th>\n",
       "      <td>BİREYSEL</td>\n",
       "      <td>161</td>\n",
       "      <td>E</td>\n",
       "      <td>BEKAR</td>\n",
       "      <td>HS_below</td>\n",
       "      <td>ÜCRETLİ (ÖZEL)</td>\n",
       "      <td>1100.0</td>\n",
       "      <td>27</td>\n",
       "      <td>3.0</td>\n",
       "      <td>MARMARA</td>\n",
       "      <td>...</td>\n",
       "      <td>NaN</td>\n",
       "      <td>NaN</td>\n",
       "      <td>NaN</td>\n",
       "      <td>NaN</td>\n",
       "      <td>NaN</td>\n",
       "      <td>NaN</td>\n",
       "      <td>NaN</td>\n",
       "      <td>NaN</td>\n",
       "      <td>NaN</td>\n",
       "      <td>NaN</td>\n",
       "    </tr>\n",
       "    <tr>\n",
       "      <th>10184</th>\n",
       "      <td>BİREYSEL</td>\n",
       "      <td>194</td>\n",
       "      <td>K</td>\n",
       "      <td>EVLİ</td>\n",
       "      <td>University</td>\n",
       "      <td>ÜCRETLİ (ÖZEL)</td>\n",
       "      <td>0.0</td>\n",
       "      <td>31</td>\n",
       "      <td>7.0</td>\n",
       "      <td>MARMARA</td>\n",
       "      <td>...</td>\n",
       "      <td>NaN</td>\n",
       "      <td>NaN</td>\n",
       "      <td>NaN</td>\n",
       "      <td>NaN</td>\n",
       "      <td>NaN</td>\n",
       "      <td>NaN</td>\n",
       "      <td>NaN</td>\n",
       "      <td>NaN</td>\n",
       "      <td>NaN</td>\n",
       "      <td>NaN</td>\n",
       "    </tr>\n",
       "  </tbody>\n",
       "</table>\n",
       "<p>116 rows × 66 columns</p>\n",
       "</div>"
      ],
      "text/plain": [
       "      Cust_Segment  Branch_ID Gender Marital_Status Education_Lv  \\\n",
       "21        BİREYSEL         16      E           EVLİ     HS_below   \n",
       "72        BİREYSEL       1168      E          BEKAR     HS_below   \n",
       "128       BİREYSEL        728      E           EVLİ     HS_below   \n",
       "360       BİREYSEL        571      E          BEKAR     HS_below   \n",
       "550       BİREYSEL       1343      E           EVLİ     HS_below   \n",
       "...            ...        ...    ...            ...          ...   \n",
       "9871      BİREYSEL        692      K           EVLİ   University   \n",
       "9876      BİREYSEL        766      K          BEKAR     Graduate   \n",
       "9964      BİREYSEL        392      K       BOŞANMIŞ     HS_below   \n",
       "10127     BİREYSEL        161      E          BEKAR     HS_below   \n",
       "10184     BİREYSEL        194      K           EVLİ   University   \n",
       "\n",
       "                    Job_Status   Income  Age  Years_w_Bank Work_Region  ...  \\\n",
       "21              ÜCRETLİ (ÖZEL)   2000.0   44           9.0     MARMARA  ...   \n",
       "72              ÜCRETLİ (ÖZEL)   1200.0   25           3.0     MARMARA  ...   \n",
       "128             SERBEST MESLEK  13311.0   44          11.0     MARMARA  ...   \n",
       "360             ÜCRETLİ (ÖZEL)   1500.0   25           1.0     MARMARA  ...   \n",
       "550    ÇALIŞAN EMEKLİ(ÜCRETLİ)   2422.0   51           3.0     MARMARA  ...   \n",
       "...                        ...      ...  ...           ...         ...  ...   \n",
       "9871            ÜCRETLİ (ÖZEL)      0.0   35          13.0     MARMARA  ...   \n",
       "9876            ÜCRETLİ (ÖZEL)      0.0   47           7.0     MARMARA  ...   \n",
       "9964            ÜCRETLİ (ÖZEL)   3000.0   45           8.0     MARMARA  ...   \n",
       "10127           ÜCRETLİ (ÖZEL)   1100.0   27           3.0     MARMARA  ...   \n",
       "10184           ÜCRETLİ (ÖZEL)      0.0   31           7.0     MARMARA  ...   \n",
       "\n",
       "      SEYAHAT ACENTALARI - TAŞIMACILIK SPOR GİYİM  SİGORTA  \\\n",
       "21                                 NaN        NaN      NaN   \n",
       "72                                 NaN        NaN      NaN   \n",
       "128                                NaN        NaN      NaN   \n",
       "360                                NaN        NaN      NaN   \n",
       "550                                NaN        NaN      NaN   \n",
       "...                                ...        ...      ...   \n",
       "9871                               NaN        NaN      NaN   \n",
       "9876                               NaN        NaN      NaN   \n",
       "9964                               NaN        NaN      NaN   \n",
       "10127                              NaN        NaN      NaN   \n",
       "10184                              NaN        NaN      NaN   \n",
       "\n",
       "       SİGORTA-MAIL ORDER  SİNEMA TİYATRO SANAT  TEKNOLOJİ  TEKSTİL  \\\n",
       "21                    NaN                   NaN        NaN      NaN   \n",
       "72                    NaN                   NaN        NaN      NaN   \n",
       "128                   NaN                   NaN        NaN      NaN   \n",
       "360                   NaN                   NaN        NaN      NaN   \n",
       "550                   NaN                   NaN        NaN      NaN   \n",
       "...                   ...                   ...        ...      ...   \n",
       "9871                  NaN                   NaN        NaN      NaN   \n",
       "9876                  NaN                   NaN        NaN      NaN   \n",
       "9964                  NaN                   NaN        NaN      NaN   \n",
       "10127                 NaN                   NaN        NaN      NaN   \n",
       "10184                 NaN                   NaN        NaN      NaN   \n",
       "\n",
       "       TELEKOMÜNİKASYON  YAPI MALZ., HIRDAVAT, NALBURİYE  \\\n",
       "21                  NaN                              NaN   \n",
       "72                  NaN                              NaN   \n",
       "128                 NaN                              NaN   \n",
       "360                 NaN                              NaN   \n",
       "550                 NaN                              NaN   \n",
       "...                 ...                              ...   \n",
       "9871                NaN                              NaN   \n",
       "9876                NaN                              NaN   \n",
       "9964                NaN                              NaN   \n",
       "10127               NaN                              NaN   \n",
       "10184               NaN                              NaN   \n",
       "\n",
       "       İÇKİLİ YERLER - KUMARHANE  \n",
       "21                           NaN  \n",
       "72                           NaN  \n",
       "128                          NaN  \n",
       "360                          NaN  \n",
       "550                          NaN  \n",
       "...                          ...  \n",
       "9871                         NaN  \n",
       "9876                         NaN  \n",
       "9964                         NaN  \n",
       "10127                        NaN  \n",
       "10184                        NaN  \n",
       "\n",
       "[116 rows x 66 columns]"
      ]
     },
     "execution_count": 225,
     "metadata": {},
     "output_type": "execute_result"
    }
   ],
   "source": [
    "demo_df[demo_df['DİĞER'].isnull()]\n",
    "#looks like these customers didn't have transaction data or did not use their credit cards"
   ]
  },
  {
   "cell_type": "code",
   "execution_count": 226,
   "id": "6b7dc26a-a86f-43c8-b894-f1424893391b",
   "metadata": {},
   "outputs": [],
   "source": [
    "#demo_df.dropna(subset=[\"AKARYAKIT\"], inplace=True)\n",
    "demo_df.dropna(subset=[\"Home_Region\"], inplace=True)\n",
    "demo_df.dropna(subset=[\"Branch_Region\"], inplace=True)\n",
    "demo_df.dropna(subset=[\"transaction_gas_mean\"], inplace=True)\n",
    "demo_df.dropna(subset=[\"transaction_gas_max\"], inplace=True)"
   ]
  },
  {
   "cell_type": "code",
   "execution_count": 227,
   "id": "ef72e8f0-3856-4576-a6c3-a73342e1f29b",
   "metadata": {},
   "outputs": [],
   "source": [
    "demo_df.drop(['transaction_health_mean', 'transaction_health_max', 'transaction_food_mean', 'transaction_food_max'], axis = 1, inplace=True)"
   ]
  },
  {
   "cell_type": "code",
   "execution_count": 228,
   "id": "e4ce9527-c02a-4651-b155-4dc8d9c9448f",
   "metadata": {
    "tags": []
   },
   "outputs": [
    {
     "data": {
      "image/png": "[encoded data removed]",
      "text/plain": [
       "<Figure size 1440x1080 with 20 Axes>"
      ]
     },
     "metadata": {
      "needs_background": "light"
     },
     "output_type": "display_data"
    }
   ],
   "source": [
    "# Data Exploration\n",
    "%matplotlib inline\n",
    "import matplotlib.pyplot as plt\n",
    "demo_df.iloc[:,0:26].hist(bins=50, figsize=(20,15))\n",
    "plt.show()"
   ]
  },
  {
   "cell_type": "code",
   "execution_count": 229,
   "id": "1749734e-130f-46d6-9f09-891b94dd8af8",
   "metadata": {},
   "outputs": [
    {
     "data": {
      "image/png": "[encoded data removed]",
      "text/plain": [
       "<Figure size 1440x1080 with 42 Axes>"
      ]
     },
     "metadata": {
      "needs_background": "light"
     },
     "output_type": "display_data"
    }
   ],
   "source": [
    "demo_df.iloc[:,20:].hist(bins=50, figsize=(20,15))\n",
    "plt.show()"
   ]
  },
  {
   "cell_type": "code",
   "execution_count": 230,
   "id": "b80bfccf-77d5-4eb1-9741-19d04056cd74",
   "metadata": {},
   "outputs": [
    {
     "data": {
      "text/plain": [
       "array(['Cust_Segment', 'Branch_ID', 'Gender', 'Marital_Status',\n",
       "       'Education_Lv', 'Job_Status', 'Income', 'Age', 'Years_w_Bank',\n",
       "       'Work_Region', 'Home_Region', 'Branch_Region', '1)RISKSIZ',\n",
       "       '2)GECIKME 1-15 GUN', '3)GECIKME 16-29 GUN', '4)GECIKME 30-59 GUN',\n",
       "       '5)GECIKME 60+ GUN', '6)TAKIP', 'statement_mean', 'statement_max',\n",
       "       'transaction1_mean', 'transaction1_max', 'transaction2_mean',\n",
       "       'transaction2_max', 'online_trans_percent', 'transaction_gas_mean',\n",
       "       'transaction_gas_max', 'AKARYAKIT', 'ALIŞVERİŞ MERKEZLERİ',\n",
       "       'ARABA KİRALAMA', 'AYAKKABI', 'BEYAZ EŞYA',\n",
       "       'DENİZ TAŞITLARI KİRALAMA, SATIŞ, BAKIM',\n",
       "       'DOĞRUDAN PAZARLAMA-MAIL ORDER', 'DİĞER', 'EĞLENCE VE SPOR',\n",
       "       'EĞİTİM', 'GIDA', 'HAVAYOLLARI', 'HOTEL', 'HİZMET SEKTÖRLERİ',\n",
       "       'KOZMETİK', 'KUYUMCU', 'MOBİLYA, DEKORASYON', 'MOTOSİKLET',\n",
       "       'MUZIK MARKET KIRTASİYE', 'NAKİT AVANS', 'OPTİK', 'OTOMOTİV',\n",
       "       'OYUNCAK', 'RESTORAN', 'SAĞLIK',\n",
       "       'SEYAHAT ACENTALARI - TAŞIMACILIK', 'SPOR GİYİM', 'SİGORTA',\n",
       "       'SİGORTA-MAIL ORDER', 'SİNEMA TİYATRO SANAT', 'TEKNOLOJİ',\n",
       "       'TEKSTİL', 'TELEKOMÜNİKASYON', 'YAPI MALZ., HIRDAVAT, NALBURİYE',\n",
       "       'İÇKİLİ YERLER - KUMARHANE'], dtype=object)"
      ]
     },
     "execution_count": 230,
     "metadata": {},
     "output_type": "execute_result"
    }
   ],
   "source": [
    "demo_df.columns.values"
   ]
  },
  {
   "cell_type": "markdown",
   "id": "27de0d56-f20a-48e3-a9cf-f15f6bbb45e3",
   "metadata": {},
   "source": [
    "# Data Processing"
   ]
  },
  {
   "cell_type": "code",
   "execution_count": 231,
   "id": "78c1ec9e-3293-4aed-a921-32494edcd8a1",
   "metadata": {},
   "outputs": [],
   "source": [
    "#train/test split\n",
    "from sklearn.model_selection import train_test_split\n",
    "\n",
    "train_set, test_set = train_test_split(demo_df, test_size = 0.2, random_state = 16)"
   ]
  },
  {
   "cell_type": "code",
   "execution_count": 232,
   "id": "2aeb788b-b90c-4234-960a-dd99dd31b692",
   "metadata": {},
   "outputs": [],
   "source": [
    "# separate labels from feature matrix\n",
    "train_y = train_set['Marital_Status']\n",
    "train_X = train_set.drop('Marital_Status', axis = 1)\n",
    "test_y = test_set['Marital_Status']\n",
    "test_X = test_set.drop('Marital_Status', axis = 1)"
   ]
  },
  {
   "cell_type": "code",
   "execution_count": 233,
   "id": "66ad961c-a345-4eb6-9c77-a185e08d5d6c",
   "metadata": {},
   "outputs": [],
   "source": [
    "#pipeline\n",
    "\n",
    "# locations, gender, marital status, education level, job status, penalties\n",
    "# Additional processing with full data set: drop home region branch region nulls\n",
    "\n",
    "from sklearn.pipeline import Pipeline\n",
    "from sklearn.preprocessing import StandardScaler\n",
    "from sklearn.impute import SimpleImputer\n",
    "\n",
    "num_pipeline = Pipeline([\n",
    "('imputer', SimpleImputer(strategy=\"median\")),\n",
    "('std_scaler', StandardScaler())\n",
    "])"
   ]
  },
  {
   "cell_type": "code",
   "execution_count": 234,
   "id": "38d40836-6f66-45b7-ae7c-b030a114fcef",
   "metadata": {},
   "outputs": [],
   "source": [
    "from sklearn.preprocessing import OneHotEncoder\n",
    "\n",
    "cat_pipeline  = Pipeline([\n",
    "('cat_encoder', OneHotEncoder())\n",
    "])"
   ]
  },
  {
   "cell_type": "code",
   "execution_count": 235,
   "id": "92341064-3564-40dd-b4ff-7ae10d52644d",
   "metadata": {},
   "outputs": [],
   "source": [
    "from sklearn.compose import ColumnTransformer\n",
    "num_attribs = ['Branch_ID', 'Income', 'Age', 'Years_w_Bank', '1)RISKSIZ',\n",
    "       '2)GECIKME 1-15 GUN', '3)GECIKME 16-29 GUN', '4)GECIKME 30-59 GUN',\n",
    "       '5)GECIKME 60+ GUN', '6)TAKIP', 'statement_mean', 'statement_max',\n",
    "       'transaction1_mean', 'transaction1_max', 'transaction2_mean',\n",
    "       'transaction2_max', 'online_trans_percent',\n",
    "       'transaction_gas_mean', 'transaction_gas_max', 'AKARYAKIT',\n",
    "       'ALIŞVERİŞ MERKEZLERİ', 'ARABA KİRALAMA', 'AYAKKABI', 'BEYAZ EŞYA',\n",
    "       'DENİZ TAŞITLARI KİRALAMA, SATIŞ, BAKIM',\n",
    "       'DOĞRUDAN PAZARLAMA-MAIL ORDER', 'DİĞER', 'EĞLENCE VE SPOR',\n",
    "       'EĞİTİM', 'GIDA', 'HAVAYOLLARI', 'HOTEL', 'HİZMET SEKTÖRLERİ',\n",
    "       'KOZMETİK', 'KUYUMCU', 'MOBİLYA, DEKORASYON', 'MOTOSİKLET',\n",
    "       'MUZIK MARKET KIRTASİYE', 'NAKİT AVANS', 'OPTİK', 'OTOMOTİV',\n",
    "       'OYUNCAK', 'RESTORAN', 'SAĞLIK',\n",
    "       'SEYAHAT ACENTALARI - TAŞIMACILIK', 'SPOR GİYİM', 'SİGORTA',\n",
    "       'SİGORTA-MAIL ORDER', 'SİNEMA TİYATRO SANAT', 'TEKNOLOJİ',\n",
    "       'TEKSTİL', 'TELEKOMÜNİKASYON', 'YAPI MALZ., HIRDAVAT, NALBURİYE',\n",
    "       'İÇKİLİ YERLER - KUMARHANE']\n",
    "cat_attribs = ['Cust_Segment', 'Gender', 'Education_Lv', 'Job_Status', 'Work_Region', 'Home_Region', 'Branch_Region']\n",
    "\n",
    "full_pipeline = ColumnTransformer([\n",
    "(\"num\", num_pipeline, num_attribs),\n",
    "(\"cat\", cat_pipeline, cat_attribs), \n",
    "], remainder = 'passthrough')"
   ]
  },
  {
   "cell_type": "code",
   "execution_count": 236,
   "id": "ce667229-1315-414f-8af6-6519e31864b3",
   "metadata": {},
   "outputs": [],
   "source": [
    "train_X_prepared = full_pipeline.fit_transform(train_X)"
   ]
  },
  {
   "cell_type": "code",
   "execution_count": 237,
   "id": "8a1819cc-d941-4835-ab2b-e5f124893e55",
   "metadata": {},
   "outputs": [],
   "source": [
    "train_y_md = (train_y == 'EVLİ')\n",
    "test_y_md = (test_y == 'EVLİ')"
   ]
  },
  {
   "cell_type": "code",
   "execution_count": 238,
   "id": "846bd8fc-37b6-48fb-9087-7224f83b69d6",
   "metadata": {},
   "outputs": [
    {
     "data": {
      "text/html": [
       "<div>\n",
       "<style scoped>\n",
       "    .dataframe tbody tr th:only-of-type {\n",
       "        vertical-align: middle;\n",
       "    }\n",
       "\n",
       "    .dataframe tbody tr th {\n",
       "        vertical-align: top;\n",
       "    }\n",
       "\n",
       "    .dataframe thead th {\n",
       "        text-align: right;\n",
       "    }\n",
       "</style>\n",
       "<table border=\"1\" class=\"dataframe\">\n",
       "  <thead>\n",
       "    <tr style=\"text-align: right;\">\n",
       "      <th></th>\n",
       "      <th>Cust_Segment</th>\n",
       "      <th>Branch_ID</th>\n",
       "      <th>Gender</th>\n",
       "      <th>Education_Lv</th>\n",
       "      <th>Job_Status</th>\n",
       "      <th>Income</th>\n",
       "      <th>Age</th>\n",
       "      <th>Years_w_Bank</th>\n",
       "      <th>Work_Region</th>\n",
       "      <th>Home_Region</th>\n",
       "      <th>...</th>\n",
       "      <th>SEYAHAT ACENTALARI - TAŞIMACILIK</th>\n",
       "      <th>SPOR GİYİM</th>\n",
       "      <th>SİGORTA</th>\n",
       "      <th>SİGORTA-MAIL ORDER</th>\n",
       "      <th>SİNEMA TİYATRO SANAT</th>\n",
       "      <th>TEKNOLOJİ</th>\n",
       "      <th>TEKSTİL</th>\n",
       "      <th>TELEKOMÜNİKASYON</th>\n",
       "      <th>YAPI MALZ., HIRDAVAT, NALBURİYE</th>\n",
       "      <th>İÇKİLİ YERLER - KUMARHANE</th>\n",
       "    </tr>\n",
       "  </thead>\n",
       "  <tbody>\n",
       "    <tr>\n",
       "      <th>1751</th>\n",
       "      <td>NaN</td>\n",
       "      <td>NaN</td>\n",
       "      <td>NaN</td>\n",
       "      <td>NaN</td>\n",
       "      <td>NaN</td>\n",
       "      <td>NaN</td>\n",
       "      <td>NaN</td>\n",
       "      <td>NaN</td>\n",
       "      <td>NaN</td>\n",
       "      <td>NaN</td>\n",
       "      <td>...</td>\n",
       "      <td>NaN</td>\n",
       "      <td>NaN</td>\n",
       "      <td>NaN</td>\n",
       "      <td>NaN</td>\n",
       "      <td>NaN</td>\n",
       "      <td>NaN</td>\n",
       "      <td>NaN</td>\n",
       "      <td>NaN</td>\n",
       "      <td>NaN</td>\n",
       "      <td>NaN</td>\n",
       "    </tr>\n",
       "    <tr>\n",
       "      <th>5115</th>\n",
       "      <td>NaN</td>\n",
       "      <td>NaN</td>\n",
       "      <td>NaN</td>\n",
       "      <td>NaN</td>\n",
       "      <td>NaN</td>\n",
       "      <td>NaN</td>\n",
       "      <td>NaN</td>\n",
       "      <td>NaN</td>\n",
       "      <td>NaN</td>\n",
       "      <td>NaN</td>\n",
       "      <td>...</td>\n",
       "      <td>NaN</td>\n",
       "      <td>NaN</td>\n",
       "      <td>NaN</td>\n",
       "      <td>NaN</td>\n",
       "      <td>NaN</td>\n",
       "      <td>NaN</td>\n",
       "      <td>NaN</td>\n",
       "      <td>NaN</td>\n",
       "      <td>NaN</td>\n",
       "      <td>NaN</td>\n",
       "    </tr>\n",
       "    <tr>\n",
       "      <th>7967</th>\n",
       "      <td>NaN</td>\n",
       "      <td>NaN</td>\n",
       "      <td>NaN</td>\n",
       "      <td>NaN</td>\n",
       "      <td>NaN</td>\n",
       "      <td>NaN</td>\n",
       "      <td>NaN</td>\n",
       "      <td>NaN</td>\n",
       "      <td>NaN</td>\n",
       "      <td>NaN</td>\n",
       "      <td>...</td>\n",
       "      <td>NaN</td>\n",
       "      <td>NaN</td>\n",
       "      <td>NaN</td>\n",
       "      <td>NaN</td>\n",
       "      <td>NaN</td>\n",
       "      <td>NaN</td>\n",
       "      <td>NaN</td>\n",
       "      <td>NaN</td>\n",
       "      <td>NaN</td>\n",
       "      <td>NaN</td>\n",
       "    </tr>\n",
       "    <tr>\n",
       "      <th>4900</th>\n",
       "      <td>NaN</td>\n",
       "      <td>NaN</td>\n",
       "      <td>NaN</td>\n",
       "      <td>NaN</td>\n",
       "      <td>NaN</td>\n",
       "      <td>NaN</td>\n",
       "      <td>NaN</td>\n",
       "      <td>NaN</td>\n",
       "      <td>NaN</td>\n",
       "      <td>NaN</td>\n",
       "      <td>...</td>\n",
       "      <td>NaN</td>\n",
       "      <td>NaN</td>\n",
       "      <td>NaN</td>\n",
       "      <td>NaN</td>\n",
       "      <td>NaN</td>\n",
       "      <td>NaN</td>\n",
       "      <td>NaN</td>\n",
       "      <td>NaN</td>\n",
       "      <td>NaN</td>\n",
       "      <td>NaN</td>\n",
       "    </tr>\n",
       "    <tr>\n",
       "      <th>2764</th>\n",
       "      <td>NaN</td>\n",
       "      <td>NaN</td>\n",
       "      <td>NaN</td>\n",
       "      <td>NaN</td>\n",
       "      <td>NaN</td>\n",
       "      <td>NaN</td>\n",
       "      <td>NaN</td>\n",
       "      <td>NaN</td>\n",
       "      <td>NaN</td>\n",
       "      <td>NaN</td>\n",
       "      <td>...</td>\n",
       "      <td>NaN</td>\n",
       "      <td>NaN</td>\n",
       "      <td>NaN</td>\n",
       "      <td>NaN</td>\n",
       "      <td>NaN</td>\n",
       "      <td>NaN</td>\n",
       "      <td>NaN</td>\n",
       "      <td>NaN</td>\n",
       "      <td>NaN</td>\n",
       "      <td>NaN</td>\n",
       "    </tr>\n",
       "    <tr>\n",
       "      <th>...</th>\n",
       "      <td>...</td>\n",
       "      <td>...</td>\n",
       "      <td>...</td>\n",
       "      <td>...</td>\n",
       "      <td>...</td>\n",
       "      <td>...</td>\n",
       "      <td>...</td>\n",
       "      <td>...</td>\n",
       "      <td>...</td>\n",
       "      <td>...</td>\n",
       "      <td>...</td>\n",
       "      <td>...</td>\n",
       "      <td>...</td>\n",
       "      <td>...</td>\n",
       "      <td>...</td>\n",
       "      <td>...</td>\n",
       "      <td>...</td>\n",
       "      <td>...</td>\n",
       "      <td>...</td>\n",
       "      <td>...</td>\n",
       "      <td>...</td>\n",
       "    </tr>\n",
       "    <tr>\n",
       "      <th>7962</th>\n",
       "      <td>NaN</td>\n",
       "      <td>NaN</td>\n",
       "      <td>NaN</td>\n",
       "      <td>NaN</td>\n",
       "      <td>NaN</td>\n",
       "      <td>NaN</td>\n",
       "      <td>NaN</td>\n",
       "      <td>NaN</td>\n",
       "      <td>NaN</td>\n",
       "      <td>NaN</td>\n",
       "      <td>...</td>\n",
       "      <td>NaN</td>\n",
       "      <td>NaN</td>\n",
       "      <td>NaN</td>\n",
       "      <td>NaN</td>\n",
       "      <td>NaN</td>\n",
       "      <td>NaN</td>\n",
       "      <td>NaN</td>\n",
       "      <td>NaN</td>\n",
       "      <td>NaN</td>\n",
       "      <td>NaN</td>\n",
       "    </tr>\n",
       "    <tr>\n",
       "      <th>1082</th>\n",
       "      <td>NaN</td>\n",
       "      <td>NaN</td>\n",
       "      <td>NaN</td>\n",
       "      <td>NaN</td>\n",
       "      <td>NaN</td>\n",
       "      <td>NaN</td>\n",
       "      <td>NaN</td>\n",
       "      <td>NaN</td>\n",
       "      <td>NaN</td>\n",
       "      <td>NaN</td>\n",
       "      <td>...</td>\n",
       "      <td>NaN</td>\n",
       "      <td>NaN</td>\n",
       "      <td>NaN</td>\n",
       "      <td>NaN</td>\n",
       "      <td>NaN</td>\n",
       "      <td>NaN</td>\n",
       "      <td>NaN</td>\n",
       "      <td>NaN</td>\n",
       "      <td>NaN</td>\n",
       "      <td>NaN</td>\n",
       "    </tr>\n",
       "    <tr>\n",
       "      <th>2302</th>\n",
       "      <td>NaN</td>\n",
       "      <td>NaN</td>\n",
       "      <td>NaN</td>\n",
       "      <td>NaN</td>\n",
       "      <td>NaN</td>\n",
       "      <td>NaN</td>\n",
       "      <td>NaN</td>\n",
       "      <td>NaN</td>\n",
       "      <td>NaN</td>\n",
       "      <td>NaN</td>\n",
       "      <td>...</td>\n",
       "      <td>NaN</td>\n",
       "      <td>NaN</td>\n",
       "      <td>NaN</td>\n",
       "      <td>NaN</td>\n",
       "      <td>NaN</td>\n",
       "      <td>NaN</td>\n",
       "      <td>NaN</td>\n",
       "      <td>NaN</td>\n",
       "      <td>NaN</td>\n",
       "      <td>NaN</td>\n",
       "    </tr>\n",
       "    <tr>\n",
       "      <th>995</th>\n",
       "      <td>NaN</td>\n",
       "      <td>NaN</td>\n",
       "      <td>NaN</td>\n",
       "      <td>NaN</td>\n",
       "      <td>NaN</td>\n",
       "      <td>NaN</td>\n",
       "      <td>NaN</td>\n",
       "      <td>NaN</td>\n",
       "      <td>NaN</td>\n",
       "      <td>NaN</td>\n",
       "      <td>...</td>\n",
       "      <td>NaN</td>\n",
       "      <td>NaN</td>\n",
       "      <td>NaN</td>\n",
       "      <td>NaN</td>\n",
       "      <td>NaN</td>\n",
       "      <td>NaN</td>\n",
       "      <td>NaN</td>\n",
       "      <td>NaN</td>\n",
       "      <td>NaN</td>\n",
       "      <td>NaN</td>\n",
       "    </tr>\n",
       "    <tr>\n",
       "      <th>3781</th>\n",
       "      <td>NaN</td>\n",
       "      <td>NaN</td>\n",
       "      <td>NaN</td>\n",
       "      <td>NaN</td>\n",
       "      <td>NaN</td>\n",
       "      <td>NaN</td>\n",
       "      <td>NaN</td>\n",
       "      <td>NaN</td>\n",
       "      <td>NaN</td>\n",
       "      <td>NaN</td>\n",
       "      <td>...</td>\n",
       "      <td>NaN</td>\n",
       "      <td>NaN</td>\n",
       "      <td>NaN</td>\n",
       "      <td>NaN</td>\n",
       "      <td>NaN</td>\n",
       "      <td>NaN</td>\n",
       "      <td>NaN</td>\n",
       "      <td>NaN</td>\n",
       "      <td>NaN</td>\n",
       "      <td>NaN</td>\n",
       "    </tr>\n",
       "  </tbody>\n",
       "</table>\n",
       "<p>4677 rows × 61 columns</p>\n",
       "</div>"
      ],
      "text/plain": [
       "     Cust_Segment  Branch_ID Gender Education_Lv Job_Status  Income  Age  \\\n",
       "1751          NaN        NaN    NaN          NaN        NaN     NaN  NaN   \n",
       "5115          NaN        NaN    NaN          NaN        NaN     NaN  NaN   \n",
       "7967          NaN        NaN    NaN          NaN        NaN     NaN  NaN   \n",
       "4900          NaN        NaN    NaN          NaN        NaN     NaN  NaN   \n",
       "2764          NaN        NaN    NaN          NaN        NaN     NaN  NaN   \n",
       "...           ...        ...    ...          ...        ...     ...  ...   \n",
       "7962          NaN        NaN    NaN          NaN        NaN     NaN  NaN   \n",
       "1082          NaN        NaN    NaN          NaN        NaN     NaN  NaN   \n",
       "2302          NaN        NaN    NaN          NaN        NaN     NaN  NaN   \n",
       "995           NaN        NaN    NaN          NaN        NaN     NaN  NaN   \n",
       "3781          NaN        NaN    NaN          NaN        NaN     NaN  NaN   \n",
       "\n",
       "      Years_w_Bank Work_Region Home_Region  ...  \\\n",
       "1751           NaN         NaN         NaN  ...   \n",
       "5115           NaN         NaN         NaN  ...   \n",
       "7967           NaN         NaN         NaN  ...   \n",
       "4900           NaN         NaN         NaN  ...   \n",
       "2764           NaN         NaN         NaN  ...   \n",
       "...            ...         ...         ...  ...   \n",
       "7962           NaN         NaN         NaN  ...   \n",
       "1082           NaN         NaN         NaN  ...   \n",
       "2302           NaN         NaN         NaN  ...   \n",
       "995            NaN         NaN         NaN  ...   \n",
       "3781           NaN         NaN         NaN  ...   \n",
       "\n",
       "     SEYAHAT ACENTALARI - TAŞIMACILIK  SPOR GİYİM  SİGORTA  \\\n",
       "1751                              NaN         NaN      NaN   \n",
       "5115                              NaN         NaN      NaN   \n",
       "7967                              NaN         NaN      NaN   \n",
       "4900                              NaN         NaN      NaN   \n",
       "2764                              NaN         NaN      NaN   \n",
       "...                               ...         ...      ...   \n",
       "7962                              NaN         NaN      NaN   \n",
       "1082                              NaN         NaN      NaN   \n",
       "2302                              NaN         NaN      NaN   \n",
       "995                               NaN         NaN      NaN   \n",
       "3781                              NaN         NaN      NaN   \n",
       "\n",
       "      SİGORTA-MAIL ORDER  SİNEMA TİYATRO SANAT  TEKNOLOJİ  TEKSTİL  \\\n",
       "1751                 NaN                   NaN        NaN      NaN   \n",
       "5115                 NaN                   NaN        NaN      NaN   \n",
       "7967                 NaN                   NaN        NaN      NaN   \n",
       "4900                 NaN                   NaN        NaN      NaN   \n",
       "2764                 NaN                   NaN        NaN      NaN   \n",
       "...                  ...                   ...        ...      ...   \n",
       "7962                 NaN                   NaN        NaN      NaN   \n",
       "1082                 NaN                   NaN        NaN      NaN   \n",
       "2302                 NaN                   NaN        NaN      NaN   \n",
       "995                  NaN                   NaN        NaN      NaN   \n",
       "3781                 NaN                   NaN        NaN      NaN   \n",
       "\n",
       "      TELEKOMÜNİKASYON  YAPI MALZ., HIRDAVAT, NALBURİYE  \\\n",
       "1751               NaN                              NaN   \n",
       "5115               NaN                              NaN   \n",
       "7967               NaN                              NaN   \n",
       "4900               NaN                              NaN   \n",
       "2764               NaN                              NaN   \n",
       "...                ...                              ...   \n",
       "7962               NaN                              NaN   \n",
       "1082               NaN                              NaN   \n",
       "2302               NaN                              NaN   \n",
       "995                NaN                              NaN   \n",
       "3781               NaN                              NaN   \n",
       "\n",
       "      İÇKİLİ YERLER - KUMARHANE  \n",
       "1751                        NaN  \n",
       "5115                        NaN  \n",
       "7967                        NaN  \n",
       "4900                        NaN  \n",
       "2764                        NaN  \n",
       "...                         ...  \n",
       "7962                        NaN  \n",
       "1082                        NaN  \n",
       "2302                        NaN  \n",
       "995                         NaN  \n",
       "3781                        NaN  \n",
       "\n",
       "[4677 rows x 61 columns]"
      ]
     },
     "execution_count": 238,
     "metadata": {},
     "output_type": "execute_result"
    }
   ],
   "source": [
    "train_X[train_X.isnull()]"
   ]
  },
  {
   "cell_type": "markdown",
   "id": "aeed0d7d-0529-45a1-ad3e-82fdafe5ce55",
   "metadata": {},
   "source": [
    "# Dimensionality Reduction"
   ]
  },
  {
   "cell_type": "code",
   "execution_count": 239,
   "id": "7ff46b98-668c-4c25-9d44-fb2b0c07dd96",
   "metadata": {},
   "outputs": [],
   "source": [
    "#pca\n",
    "from sklearn.decomposition import TruncatedSVD\n",
    "\n",
    "TruncSVD = TruncatedSVD(n_components = 63)\n",
    "TruncSVD.fit(train_X_prepared)\n",
    "cumsum = np.cumsum(TruncSVD.explained_variance_ratio_)\n",
    "d = np.argmax(cumsum >= 0.90) + 1"
   ]
  },
  {
   "cell_type": "code",
   "execution_count": 173,
   "id": "43f352e1-3c38-4bff-8910-0e74a61dbc83",
   "metadata": {},
   "outputs": [
    {
     "data": {
      "text/plain": [
       "41"
      ]
     },
     "execution_count": 173,
     "metadata": {},
     "output_type": "execute_result"
    }
   ],
   "source": [
    "d"
   ]
  },
  {
   "cell_type": "code",
   "execution_count": 174,
   "id": "f4654fb5-06d4-4ffd-bc37-66a20a514880",
   "metadata": {},
   "outputs": [
    {
     "data": {
      "image/png": "[encoded data removed]",
      "text/plain": [
       "<Figure size 432x288 with 1 Axes>"
      ]
     },
     "metadata": {
      "needs_background": "light"
     },
     "output_type": "display_data"
    }
   ],
   "source": [
    "plt.figure(figsize=(6,4))\n",
    "plt.plot(cumsum, linewidth=3)\n",
    "plt.axis([0, 94, 0, 1])\n",
    "plt.xlabel(\"Dimensions\")\n",
    "plt.ylabel(\"Explained Variance\")\n",
    "plt.plot([d, d], [0, 0.90], \"k:\")\n",
    "plt.plot([0, d], [0.90, 0.90], \"k:\")\n",
    "plt.plot(d, 0.90, \"ko\")\n",
    "\n",
    "plt.grid(True)\n",
    "# save_fig(\"explained_variance_plot\")\n",
    "plt.show()\n",
    "\n",
    "# try 8 dimensions"
   ]
  },
  {
   "cell_type": "code",
   "execution_count": 175,
   "id": "ea00d7f9-a166-45aa-ba21-64ac08a24132",
   "metadata": {},
   "outputs": [],
   "source": [
    "TruncSVD = TruncatedSVD(n_components=41)\n",
    "X_reduced = TruncSVD.fit_transform(train_X_prepared)"
   ]
  },
  {
   "cell_type": "markdown",
   "id": "36ff4040-d02f-43af-b64b-e071ad56de75",
   "metadata": {},
   "source": [
    "# Train Model"
   ]
  },
  {
   "cell_type": "markdown",
   "id": "3b1d01c0-928a-4fdc-b440-6f5d2c7c4ffc",
   "metadata": {},
   "source": [
    "## Bagging Classifier"
   ]
  },
  {
   "cell_type": "markdown",
   "id": "020cb4c9-8ca3-4ea6-9b54-6a6d617fc2b3",
   "metadata": {
    "tags": []
   },
   "source": [
    "### Randomized Search"
   ]
  },
  {
   "cell_type": "code",
   "execution_count": 176,
   "id": "53374a24-8ed4-4dfb-bf2b-fa1f8b62b37c",
   "metadata": {
    "tags": []
   },
   "outputs": [
    {
     "data": {
      "text/plain": [
       "RandomizedSearchCV(cv=3,\n",
       "                   estimator=BaggingClassifier(base_estimator=DecisionTreeClassifier()),\n",
       "                   n_iter=20,\n",
       "                   param_distributions={'base_estimator__max_depth': <scipy.stats._distn_infrastructure.rv_frozen object at 0x7f2a5fddc7f0>,\n",
       "                                        'base_estimator__max_features': <scipy.stats._distn_infrastructure.rv_frozen object at 0x7f2a5fddcfd0>,\n",
       "                                        'n_estimators': <scipy.stats._distn_infrastructure.rv_frozen object at 0x7f2a5de78550>},\n",
       "                   random_state=16, scoring='accuracy')"
      ]
     },
     "execution_count": 176,
     "metadata": {},
     "output_type": "execute_result"
    }
   ],
   "source": [
    "from sklearn.model_selection import RandomizedSearchCV\n",
    "from sklearn.ensemble import BaggingClassifier\n",
    "from sklearn.tree import DecisionTreeClassifier\n",
    "from scipy.stats import randint\n",
    "\n",
    "param_distribs = {\n",
    "        'base_estimator__max_depth': randint(low=1, high=10),\n",
    "        'base_estimator__max_features': randint(low=1, high=10),\n",
    "        'n_estimators': randint(low=100, high=300)\n",
    "    }\n",
    "\n",
    "dt_classif = DecisionTreeClassifier() \n",
    "\n",
    "bag_classif = BaggingClassifier(base_estimator = dt_classif)\n",
    "rnd_search_cv = RandomizedSearchCV(bag_classif, param_distributions=param_distribs,\n",
    "                                n_iter=20, cv=3, scoring='accuracy', random_state=16)\n",
    "rnd_search_cv.fit(X_reduced, train_y_md)"
   ]
  },
  {
   "cell_type": "code",
   "execution_count": 177,
   "id": "04f8ea0c-2e42-4a37-bff8-743dc93aaff6",
   "metadata": {},
   "outputs": [
    {
     "data": {
      "text/plain": [
       "{'base_estimator__max_depth': 8,\n",
       " 'base_estimator__max_features': 6,\n",
       " 'n_estimators': 115}"
      ]
     },
     "execution_count": 177,
     "metadata": {},
     "output_type": "execute_result"
    }
   ],
   "source": [
    "rnd_search_cv.best_params_"
   ]
  },
  {
   "cell_type": "markdown",
   "id": "748f003a-1687-447e-a5d8-1c04436807a5",
   "metadata": {},
   "source": [
    "### Training"
   ]
  },
  {
   "cell_type": "markdown",
   "id": "edabb35a-fe45-4599-bd9f-06b1b653e506",
   "metadata": {},
   "source": [
    "#### All Dimensions"
   ]
  },
  {
   "cell_type": "code",
   "execution_count": 178,
   "id": "67c91896-f7ae-426d-8860-eea9dd640035",
   "metadata": {},
   "outputs": [
    {
     "data": {
      "text/plain": [
       "0.747701518067137"
      ]
     },
     "execution_count": 178,
     "metadata": {},
     "output_type": "execute_result"
    }
   ],
   "source": [
    "from sklearn.ensemble import BaggingClassifier\n",
    "from sklearn.tree import DecisionTreeClassifier\n",
    "\n",
    "bag_clf = BaggingClassifier(\n",
    "    DecisionTreeClassifier(max_depth=9, max_features=6), n_estimators=118,\n",
    "    max_samples=100, bootstrap=True, n_jobs=-1,\n",
    "    oob_score=True)\n",
    "\n",
    "bag_clf.fit(train_X_prepared, train_y_md)\n",
    "\n",
    "bag_clf.oob_score_"
   ]
  },
  {
   "cell_type": "code",
   "execution_count": 179,
   "id": "4ae2ae1a-c9bc-41a2-8984-85808815ec52",
   "metadata": {},
   "outputs": [],
   "source": [
    "from sklearn.model_selection import cross_val_predict\n",
    "\n",
    "y_train_pred = cross_val_predict(bag_clf, train_X_prepared, train_y_md, cv = 3)"
   ]
  },
  {
   "cell_type": "code",
   "execution_count": 180,
   "id": "214f2c63-e9c2-4cd6-a733-ab4693637b0a",
   "metadata": {},
   "outputs": [
    {
     "data": {
      "text/plain": [
       "0.7586059439811845"
      ]
     },
     "execution_count": 180,
     "metadata": {},
     "output_type": "execute_result"
    }
   ],
   "source": [
    "from sklearn.metrics import accuracy_score\n",
    "\n",
    "accuracy_score(train_y_md, y_train_pred)"
   ]
  },
  {
   "cell_type": "code",
   "execution_count": 181,
   "id": "74ac03c1-4b8a-4d06-9873-bb9ee821e6ff",
   "metadata": {},
   "outputs": [
    {
     "data": {
      "text/plain": [
       "array([[ 511, 1027],\n",
       "       [ 102, 3037]])"
      ]
     },
     "execution_count": 181,
     "metadata": {},
     "output_type": "execute_result"
    }
   ],
   "source": [
    "from sklearn.metrics import confusion_matrix\n",
    "\n",
    "confusion_matrix(train_y_md, y_train_pred)"
   ]
  },
  {
   "cell_type": "markdown",
   "id": "7b06a7b8-fa9f-4f15-9e7b-9a3bbf9ee328",
   "metadata": {},
   "source": [
    "#### Reduced Dimensions"
   ]
  },
  {
   "cell_type": "code",
   "execution_count": 182,
   "id": "c64f6530-f267-4354-a5a6-5284b52ab46d",
   "metadata": {},
   "outputs": [
    {
     "data": {
      "text/plain": [
       "0.7609578789822535"
      ]
     },
     "execution_count": 182,
     "metadata": {},
     "output_type": "execute_result"
    }
   ],
   "source": [
    "bag_clf = BaggingClassifier(\n",
    "    DecisionTreeClassifier(max_depth=9, max_features=6), n_estimators=118,\n",
    "    max_samples=100, bootstrap=True, n_jobs=-1,\n",
    "    oob_score=True)\n",
    "\n",
    "bag_clf.fit(X_reduced, train_y_md)\n",
    "\n",
    "bag_clf.oob_score_"
   ]
  },
  {
   "cell_type": "code",
   "execution_count": 183,
   "id": "68235e91-d256-4f03-96d1-59eee74b4ae9",
   "metadata": {},
   "outputs": [
    {
     "data": {
      "text/plain": [
       "0.7575368826170622"
      ]
     },
     "execution_count": 183,
     "metadata": {},
     "output_type": "execute_result"
    }
   ],
   "source": [
    "y_train_pred = cross_val_predict(bag_clf, X_reduced, train_y_md, cv = 3)\n",
    "\n",
    "accuracy_score(train_y_md, y_train_pred)"
   ]
  },
  {
   "cell_type": "code",
   "execution_count": 184,
   "id": "1a67dcab-a79f-4b18-8310-1e3b489c1daa",
   "metadata": {},
   "outputs": [
    {
     "data": {
      "text/plain": [
       "array([[ 649,  889],\n",
       "       [ 245, 2894]])"
      ]
     },
     "execution_count": 184,
     "metadata": {},
     "output_type": "execute_result"
    }
   ],
   "source": [
    "confusion_matrix(train_y_md, y_train_pred)"
   ]
  },
  {
   "cell_type": "markdown",
   "id": "db1086a1-a126-4b8d-bafa-f5938208f932",
   "metadata": {},
   "source": [
    "## AdaBoost"
   ]
  },
  {
   "cell_type": "markdown",
   "id": "cb1b145b-1f4e-4f54-9eb7-930ee4b07760",
   "metadata": {},
   "source": [
    "### Random Search"
   ]
  },
  {
   "cell_type": "code",
   "execution_count": 185,
   "id": "dbb78353-59ba-4b4d-99f1-5ecaa1189944",
   "metadata": {},
   "outputs": [
    {
     "data": {
      "text/plain": [
       "RandomizedSearchCV(cv=3,\n",
       "                   estimator=AdaBoostClassifier(base_estimator=DecisionTreeClassifier()),\n",
       "                   n_iter=20,\n",
       "                   param_distributions={'base_estimator__max_depth': <scipy.stats._distn_infrastructure.rv_frozen object at 0x7f2a4a622790>,\n",
       "                                        'base_estimator__max_features': <scipy.stats._distn_infrastructure.rv_frozen object at 0x7f2a4368e1c0>,\n",
       "                                        'learning_rate': [0.1, 0.2, 0.3, 0.4,\n",
       "                                                          0.5],\n",
       "                                        'n_estimators': <scipy.stats._distn_infrastructure.rv_frozen object at 0x7f2a5e412ac0>},\n",
       "                   random_state=16, scoring='accuracy')"
      ]
     },
     "execution_count": 185,
     "metadata": {},
     "output_type": "execute_result"
    }
   ],
   "source": [
    "from sklearn.model_selection import RandomizedSearchCV\n",
    "from scipy.stats import randint\n",
    "from sklearn.ensemble import AdaBoostClassifier\n",
    "\n",
    "param_distribs = {\n",
    "        'base_estimator__max_depth': randint(low=1, high=10),\n",
    "        'base_estimator__max_features': randint(low=1, high=10),\n",
    "        'n_estimators': randint(low=100, high=500),\n",
    "        'learning_rate': [0.1, 0.2, 0.3, 0.4, 0.5]\n",
    "    }\n",
    "\n",
    "dt_classif = DecisionTreeClassifier() \n",
    "\n",
    "ada_classif = AdaBoostClassifier(base_estimator = dt_classif, algorithm=\"SAMME.R\")\n",
    "rnd_search = RandomizedSearchCV(ada_classif, param_distributions=param_distribs,\n",
    "                                n_iter=20, cv=3, scoring='accuracy', random_state=16)\n",
    "rnd_search.fit(X_reduced, train_y_md)"
   ]
  },
  {
   "cell_type": "code",
   "execution_count": 186,
   "id": "958006d0-d970-4c90-98fd-1bcbee35034e",
   "metadata": {
    "tags": []
   },
   "outputs": [
    {
     "data": {
      "text/plain": [
       "{'base_estimator__max_depth': 8,\n",
       " 'base_estimator__max_features': 6,\n",
       " 'learning_rate': 0.1,\n",
       " 'n_estimators': 372}"
      ]
     },
     "execution_count": 186,
     "metadata": {},
     "output_type": "execute_result"
    }
   ],
   "source": [
    "rnd_search.best_params_"
   ]
  },
  {
   "cell_type": "markdown",
   "id": "3707e82d-fb3e-4ba3-aef5-3ad76d1e9b33",
   "metadata": {},
   "source": [
    "### Training"
   ]
  },
  {
   "cell_type": "code",
   "execution_count": 187,
   "id": "e816be6b-531d-4689-a98d-bef7674e5f75",
   "metadata": {},
   "outputs": [
    {
     "data": {
      "text/plain": [
       "AdaBoostClassifier(base_estimator=DecisionTreeClassifier(max_depth=7,\n",
       "                                                         max_features=2),\n",
       "                   learning_rate=0.5, n_estimators=413)"
      ]
     },
     "execution_count": 187,
     "metadata": {},
     "output_type": "execute_result"
    }
   ],
   "source": [
    "ada_clf = AdaBoostClassifier(\n",
    "DecisionTreeClassifier(max_depth=7, max_features=2), n_estimators=413,\n",
    "algorithm=\"SAMME.R\", learning_rate=0.5)\n",
    "\n",
    "ada_clf.fit(X_reduced, train_y_md)"
   ]
  },
  {
   "cell_type": "code",
   "execution_count": 188,
   "id": "9e6a5bcd-b1b4-47aa-b101-a6a9f8d636a7",
   "metadata": {},
   "outputs": [],
   "source": [
    "from sklearn.model_selection import cross_val_predict\n",
    "\n",
    "y_train_pred = cross_val_predict(ada_clf, X_reduced, train_y_md, cv = 3)"
   ]
  },
  {
   "cell_type": "code",
   "execution_count": 189,
   "id": "6d79be2f-8d2c-49bb-93ae-af841b31c10f",
   "metadata": {},
   "outputs": [
    {
     "data": {
      "text/plain": [
       "array([[ 706,  832],\n",
       "       [ 307, 2832]])"
      ]
     },
     "execution_count": 189,
     "metadata": {},
     "output_type": "execute_result"
    }
   ],
   "source": [
    "confusion_matrix(train_y_md, y_train_pred)"
   ]
  },
  {
   "cell_type": "code",
   "execution_count": 190,
   "id": "65e5b991-2dc5-447b-bbfe-348d0b44992c",
   "metadata": {},
   "outputs": [
    {
     "data": {
      "text/plain": [
       "0.7564678212529399"
      ]
     },
     "execution_count": 190,
     "metadata": {},
     "output_type": "execute_result"
    }
   ],
   "source": [
    "accuracy_score(train_y_md, y_train_pred)"
   ]
  },
  {
   "cell_type": "markdown",
   "id": "1ebb3a98-f7a7-4fb3-9788-0e8214a4f26e",
   "metadata": {},
   "source": [
    "## Gradient Boost"
   ]
  },
  {
   "cell_type": "markdown",
   "id": "6bfceb4b-f6a9-4e2e-9043-d4a0da6f2759",
   "metadata": {},
   "source": [
    "### Random Search"
   ]
  },
  {
   "cell_type": "code",
   "execution_count": 191,
   "id": "a1075dfe-f04d-4a6e-9838-ac2ec3b4f96a",
   "metadata": {},
   "outputs": [
    {
     "data": {
      "text/plain": [
       "RandomizedSearchCV(cv=3, estimator=GradientBoostingClassifier(),\n",
       "                   param_distributions={'learning_rate': [0.1, 0.2, 0.3, 0.4,\n",
       "                                                          0.5],\n",
       "                                        'max_depth': <scipy.stats._distn_infrastructure.rv_frozen object at 0x7f2a5e0df0d0>,\n",
       "                                        'max_features': <scipy.stats._distn_infrastructure.rv_frozen object at 0x7f2a5e412280>,\n",
       "                                        'n_estimators': <scipy.stats._distn_infrastructure.rv_frozen object at 0x7f2a5e41d2b0>},\n",
       "                   random_state=16, scoring='accuracy')"
      ]
     },
     "execution_count": 191,
     "metadata": {},
     "output_type": "execute_result"
    }
   ],
   "source": [
    "from sklearn.model_selection import RandomizedSearchCV\n",
    "from sklearn.ensemble import GradientBoostingClassifier\n",
    "from scipy.stats import randint\n",
    "\n",
    "param_distribs = {\n",
    "        'max_depth': randint(low=1, high=10),\n",
    "        'max_features': randint(low=1, high=10),\n",
    "        'n_estimators': randint(low=100, high=500),\n",
    "        'learning_rate': [0.1, 0.2, 0.3, 0.4, 0.5]\n",
    "    }\n",
    "\n",
    "\n",
    "gb_classif = GradientBoostingClassifier()\n",
    "rd_search = RandomizedSearchCV(gb_classif, param_distributions=param_distribs,\n",
    "                                n_iter=10, cv=3, scoring='accuracy', random_state=16)\n",
    "rd_search.fit(train_X_prepared, train_y_md)"
   ]
  },
  {
   "cell_type": "code",
   "execution_count": 192,
   "id": "7c59ca4c-4ec1-4aba-9f61-734f8d8635e7",
   "metadata": {},
   "outputs": [
    {
     "data": {
      "text/plain": [
       "{'learning_rate': 0.1, 'max_depth': 3, 'max_features': 5, 'n_estimators': 260}"
      ]
     },
     "execution_count": 192,
     "metadata": {},
     "output_type": "execute_result"
    }
   ],
   "source": [
    "rd_search.best_params_"
   ]
  },
  {
   "cell_type": "markdown",
   "id": "f37d3155-0753-4598-8841-1f6186c79d5d",
   "metadata": {},
   "source": [
    "### Training"
   ]
  },
  {
   "cell_type": "code",
   "execution_count": 193,
   "id": "98ce3d28-1a00-4919-8861-6a4412de283e",
   "metadata": {
    "tags": []
   },
   "outputs": [
    {
     "data": {
      "text/plain": [
       "GradientBoostingClassifier(learning_rate=0.4, max_depth=9, max_features=3,\n",
       "                           n_estimators=265)"
      ]
     },
     "execution_count": 193,
     "metadata": {},
     "output_type": "execute_result"
    }
   ],
   "source": [
    "gbrt = GradientBoostingClassifier(max_depth=9, max_features=3, n_estimators=265, learning_rate=0.4)\n",
    "gbrt.fit(train_X_prepared, train_y_md)"
   ]
  },
  {
   "cell_type": "code",
   "execution_count": 194,
   "id": "1064d5fa-b549-44ef-9c5a-a8a6ae692ac6",
   "metadata": {},
   "outputs": [],
   "source": [
    "from sklearn.model_selection import cross_val_predict\n",
    "\n",
    "y_train_pred = cross_val_predict(gbrt, train_X_prepared, train_y_md, cv = 3)"
   ]
  },
  {
   "cell_type": "code",
   "execution_count": 195,
   "id": "3ef3c7ce-35c1-4c44-b1ee-fe90e0b1eb98",
   "metadata": {
    "tags": []
   },
   "outputs": [
    {
     "data": {
      "text/plain": [
       "0.7849048535385931"
      ]
     },
     "execution_count": 195,
     "metadata": {},
     "output_type": "execute_result"
    }
   ],
   "source": [
    "from sklearn.metrics import accuracy_score\n",
    "\n",
    "accuracy_score(train_y_md, y_train_pred)"
   ]
  },
  {
   "cell_type": "code",
   "execution_count": 196,
   "id": "7e36ee3f-534a-48e5-8739-c6fd328d7359",
   "metadata": {},
   "outputs": [
    {
     "data": {
      "text/plain": [
       "array([[ 788,  750],\n",
       "       [ 256, 2883]])"
      ]
     },
     "execution_count": 196,
     "metadata": {},
     "output_type": "execute_result"
    }
   ],
   "source": [
    "from sklearn.metrics import confusion_matrix\n",
    "\n",
    "confusion_matrix(train_y_md, y_train_pred)"
   ]
  },
  {
   "cell_type": "markdown",
   "id": "3a844af2-4a41-47d1-9920-52cdd5fc833c",
   "metadata": {},
   "source": [
    "## Neural Network"
   ]
  },
  {
   "cell_type": "code",
   "execution_count": 197,
   "id": "894dfdf6-afef-47d8-bfd2-c7228fd60f9f",
   "metadata": {},
   "outputs": [],
   "source": [
    "# import tensorflow as tf\n",
    "# from tensorflow import keras"
   ]
  },
  {
   "cell_type": "code",
   "execution_count": 198,
   "id": "254aa798-2c60-45bc-998e-ee2e23e8c602",
   "metadata": {},
   "outputs": [],
   "source": [
    "# input_ = keras.layers.Input(shape=train_X_prepared.shape[1:])\n",
    "# hidden1 = keras.layers.Dense(25, activation=\"relu\")(input_)\n",
    "# hidden2 = keras.layers.Dense(25, activation=\"relu\")(hidden1)\n",
    "# hidden3 = keras.layers.Dense(25, activation=\"relu\")(hidden2)\n",
    "# output = keras.layers.Dense(1)(hidden3)\n",
    "# model = keras.models.Model(inputs=[input_], outputs=[output])\n",
    "# model.summary()"
   ]
  },
  {
   "cell_type": "code",
   "execution_count": 199,
   "id": "26ed1fdf-7e22-4f62-b3af-c4628f95e02d",
   "metadata": {},
   "outputs": [],
   "source": [
    "# model.compile(loss=\"binary_crossentropy\",\n",
    "# metrics=[\"accuracy\"])"
   ]
  },
  {
   "cell_type": "code",
   "execution_count": 200,
   "id": "31e82fd0-0f79-4991-9f67-1890f191bbcf",
   "metadata": {
    "tags": []
   },
   "outputs": [],
   "source": [
    "# history = model.fit(X_train, y_train, epochs=30,\n",
    "# validation_data=(X_val, y_val))"
   ]
  },
  {
   "cell_type": "code",
   "execution_count": null,
   "id": "b64230f9-3dba-46a2-a864-64f7380098f8",
   "metadata": {},
   "outputs": [],
   "source": []
  }
 ],
 "metadata": {
  "kernelspec": {
   "display_name": "Python 3 (ipykernel)",
   "language": "python",
   "name": "python3"
  },
  "language_info": {
   "codemirror_mode": {
    "name": "ipython",
    "version": 3
   },
   "file_extension": ".py",
   "mimetype": "text/x-python",
   "name": "python",
   "nbconvert_exporter": "python",
   "pygments_lexer": "ipython3",
   "version": "3.9.5"
  }
 },
 "nbformat": 4,
 "nbformat_minor": 5
}
