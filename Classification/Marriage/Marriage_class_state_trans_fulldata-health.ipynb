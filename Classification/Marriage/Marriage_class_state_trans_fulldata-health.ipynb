{
 "cells": [
  {
   "cell_type": "markdown",
   "id": "e689c07d-bb01-4ebc-b74a-e7a18a9996b4",
   "metadata": {},
   "source": [
    "# Marital Status Classification (Married vs. Unmarried) Health"
   ]
  },
  {
   "cell_type": "markdown",
   "id": "5e7fe7eb-d651-4b08-8b20-cdceac4a0e5e",
   "metadata": {},
   "source": [
    "# Import Libraries and Load Data"
   ]
  },
  {
   "cell_type": "code",
   "execution_count": 161,
   "id": "47e87cb1-6655-4c11-afac-90502573b799",
   "metadata": {},
   "outputs": [],
   "source": [
    "# import packages\n",
    "import sklearn\n",
    "import numpy as np\n",
    "import pandas as pd\n",
    "%matplotlib inline\n",
    "import matplotlib as mpl\n",
    "import matplotlib.pyplot as plt\n",
    "\n",
    "np.random.seed(16)"
   ]
  },
  {
   "cell_type": "code",
   "execution_count": 162,
   "id": "1e6794b4-f460-4092-a0dc-1120bd131459",
   "metadata": {},
   "outputs": [
    {
     "name": "stdout",
     "output_type": "stream",
     "text": [
      "<class 'pandas.core.frame.DataFrame'>\n",
      "RangeIndex: 103202 entries, 0 to 103201\n",
      "Data columns (total 33 columns):\n",
      " #   Column                   Non-Null Count   Dtype  \n",
      "---  ------                   --------------   -----  \n",
      " 0   Unnamed: 0               103202 non-null  int64  \n",
      " 1   Cust_ID                  103202 non-null  int64  \n",
      " 2   Cust_Segment             103202 non-null  object \n",
      " 3   Branch_ID                103202 non-null  int64  \n",
      " 4   Gender                   103202 non-null  object \n",
      " 5   Marital_Status           103202 non-null  object \n",
      " 6   Education_Lv             103202 non-null  object \n",
      " 7   Job_Status               103202 non-null  object \n",
      " 8   Income                   100752 non-null  float64\n",
      " 9   Age                      103202 non-null  int64  \n",
      " 10  Years_w_Bank             103197 non-null  float64\n",
      " 11  Work_Region              103202 non-null  object \n",
      " 12  Home_Region              103198 non-null  object \n",
      " 13  Branch_Region            103198 non-null  object \n",
      " 14  1)RISKSIZ                103202 non-null  float64\n",
      " 15  2)GECIKME 1-15 GUN       103202 non-null  float64\n",
      " 16  3)GECIKME 16-29 GUN      103202 non-null  float64\n",
      " 17  4)GECIKME 30-59 GUN      103202 non-null  float64\n",
      " 18  5)GECIKME 60+ GUN        103202 non-null  float64\n",
      " 19  6)TAKIP                  103202 non-null  float64\n",
      " 20  statement_mean           102227 non-null  float64\n",
      " 21  statement_max            102227 non-null  float64\n",
      " 22  transaction1_mean        100645 non-null  float64\n",
      " 23  transaction1_max         100645 non-null  float64\n",
      " 24  transaction2_mean        101076 non-null  float64\n",
      " 25  transaction2_max         101076 non-null  float64\n",
      " 26  online_trans_percent     101076 non-null  float64\n",
      " 27  transaction_food_mean    88265 non-null   float64\n",
      " 28  transaction_food_max     88265 non-null   float64\n",
      " 29  transaction_health_mean  53878 non-null   float64\n",
      " 30  transaction_health_max   53878 non-null   float64\n",
      " 31  transaction_gas_mean     57999 non-null   float64\n",
      " 32  transaction_gas_max      57999 non-null   float64\n",
      "dtypes: float64(21), int64(4), object(8)\n",
      "memory usage: 26.0+ MB\n"
     ]
    }
   ],
   "source": [
    "# load data\n",
    "csv_file = \"~/IDC5210_Machine_Learning/Project/Translated_data/demos_w_state_trans.csv\"\n",
    "demo_df = pd.read_csv(csv_file)\n",
    "demo_df.info()"
   ]
  },
  {
   "cell_type": "code",
   "execution_count": 163,
   "id": "8a9f83bf-09c8-4740-b8f7-28068f056bca",
   "metadata": {},
   "outputs": [
    {
     "name": "stdout",
     "output_type": "stream",
     "text": [
      "<class 'pandas.core.frame.DataFrame'>\n",
      "RangeIndex: 103202 entries, 0 to 103201\n",
      "Data columns (total 32 columns):\n",
      " #   Column                   Non-Null Count   Dtype  \n",
      "---  ------                   --------------   -----  \n",
      " 0   Cust_ID                  103202 non-null  int64  \n",
      " 1   Cust_Segment             103202 non-null  object \n",
      " 2   Branch_ID                103202 non-null  int64  \n",
      " 3   Gender                   103202 non-null  object \n",
      " 4   Marital_Status           103202 non-null  object \n",
      " 5   Education_Lv             103202 non-null  object \n",
      " 6   Job_Status               103202 non-null  object \n",
      " 7   Income                   100752 non-null  float64\n",
      " 8   Age                      103202 non-null  int64  \n",
      " 9   Years_w_Bank             103197 non-null  float64\n",
      " 10  Work_Region              103202 non-null  object \n",
      " 11  Home_Region              103198 non-null  object \n",
      " 12  Branch_Region            103198 non-null  object \n",
      " 13  1)RISKSIZ                103202 non-null  float64\n",
      " 14  2)GECIKME 1-15 GUN       103202 non-null  float64\n",
      " 15  3)GECIKME 16-29 GUN      103202 non-null  float64\n",
      " 16  4)GECIKME 30-59 GUN      103202 non-null  float64\n",
      " 17  5)GECIKME 60+ GUN        103202 non-null  float64\n",
      " 18  6)TAKIP                  103202 non-null  float64\n",
      " 19  statement_mean           102227 non-null  float64\n",
      " 20  statement_max            102227 non-null  float64\n",
      " 21  transaction1_mean        100645 non-null  float64\n",
      " 22  transaction1_max         100645 non-null  float64\n",
      " 23  transaction2_mean        101076 non-null  float64\n",
      " 24  transaction2_max         101076 non-null  float64\n",
      " 25  online_trans_percent     101076 non-null  float64\n",
      " 26  transaction_food_mean    88265 non-null   float64\n",
      " 27  transaction_food_max     88265 non-null   float64\n",
      " 28  transaction_health_mean  53878 non-null   float64\n",
      " 29  transaction_health_max   53878 non-null   float64\n",
      " 30  transaction_gas_mean     57999 non-null   float64\n",
      " 31  transaction_gas_max      57999 non-null   float64\n",
      "dtypes: float64(21), int64(3), object(8)\n",
      "memory usage: 25.2+ MB\n"
     ]
    }
   ],
   "source": [
    "# drop unnecessary columns\n",
    "demo_df.drop([\"Unnamed: 0\"], axis = 1, inplace=True)\n",
    "demo_df.info()"
   ]
  },
  {
   "cell_type": "code",
   "execution_count": 164,
   "id": "f23ea734-c049-48d4-b2a6-6595724e03f7",
   "metadata": {},
   "outputs": [],
   "source": [
    "# count risk types per row\n",
    "# risk_counts = demo_df.iloc[:,10:22].apply(pd.Series.value_counts, axis=1)\n",
    "# risk_counts = risk_counts.fillna(0)"
   ]
  },
  {
   "cell_type": "code",
   "execution_count": 165,
   "id": "b4adf47c-59ad-405c-a488-05211ee42fee",
   "metadata": {},
   "outputs": [],
   "source": [
    "# risk_counts"
   ]
  },
  {
   "cell_type": "code",
   "execution_count": 166,
   "id": "0d0158d0-7ed0-47d5-a1c1-22905a4b0950",
   "metadata": {},
   "outputs": [],
   "source": [
    "# demo_df = demo_df.join(risk_counts)\n",
    "# demo_df"
   ]
  },
  {
   "cell_type": "code",
   "execution_count": 167,
   "id": "883633f6-8efb-4ec5-a72a-4f37b8debdd5",
   "metadata": {},
   "outputs": [],
   "source": [
    "# demo_df.drop(['.','Penalty_201407', 'Penalty_201408', 'Penalty_201409', \n",
    "#                   'Penalty_201410', 'Penalty_201411', 'Penalty_201412', 'Penalty_201501',\n",
    "#                   'Penalty_201502', 'Penalty_201503', 'Penalty_201504', 'Penalty_201505', \n",
    "#                   'Penalty_201506'], axis = 1, inplace=True)"
   ]
  },
  {
   "cell_type": "code",
   "execution_count": 168,
   "id": "07dece53-ef1e-4f29-8282-649ef757beba",
   "metadata": {},
   "outputs": [],
   "source": [
    "# demo_df"
   ]
  },
  {
   "cell_type": "code",
   "execution_count": 169,
   "id": "ceb58ad8-e5a8-4169-bf31-329dd40afc4c",
   "metadata": {},
   "outputs": [
    {
     "name": "stdout",
     "output_type": "stream",
     "text": [
      "<class 'pandas.core.frame.DataFrame'>\n",
      "RangeIndex: 9334625 entries, 0 to 9334624\n",
      "Data columns (total 12 columns):\n",
      " #   Column          Dtype  \n",
      "---  ------          -----  \n",
      " 0   Unnamed: 0      int64  \n",
      " 1   Cust_ID         int64  \n",
      " 2   Trans_Data      object \n",
      " 3   Trans_Time      object \n",
      " 4   Trans_Amt       float64\n",
      " 5   Category        object \n",
      " 6   Merchant_ID     int64  \n",
      " 7   Online_Trans    int64  \n",
      " 8   Trans_Type      object \n",
      " 9   Trans_Currency  object \n",
      " 10  X               float64\n",
      " 11  Y               float64\n",
      "dtypes: float64(3), int64(4), object(5)\n",
      "memory usage: 854.6+ MB\n"
     ]
    }
   ],
   "source": [
    "csv_file2 = \"~/IDC5210_Machine_Learning/Project/Translated_data/transactions(SU_ORNEKLEM_KK_HAR_BILGI).csv\"\n",
    "transactions = pd.read_csv(csv_file2, dtype={'Category': 'str'})\n",
    "transactions.info()"
   ]
  },
  {
   "cell_type": "code",
   "execution_count": 170,
   "id": "8e126847-47c5-47d6-9a2b-3a50cecb2465",
   "metadata": {},
   "outputs": [
    {
     "data": {
      "text/html": [
       "<div>\n",
       "<style scoped>\n",
       "    .dataframe tbody tr th:only-of-type {\n",
       "        vertical-align: middle;\n",
       "    }\n",
       "\n",
       "    .dataframe tbody tr th {\n",
       "        vertical-align: top;\n",
       "    }\n",
       "\n",
       "    .dataframe thead th {\n",
       "        text-align: right;\n",
       "    }\n",
       "</style>\n",
       "<table border=\"1\" class=\"dataframe\">\n",
       "  <thead>\n",
       "    <tr style=\"text-align: right;\">\n",
       "      <th></th>\n",
       "      <th>Cust_ID</th>\n",
       "      <th>Category</th>\n",
       "      <th>Trans_Amt</th>\n",
       "      <th>Online_Trans</th>\n",
       "    </tr>\n",
       "  </thead>\n",
       "  <tbody>\n",
       "    <tr>\n",
       "      <th>0</th>\n",
       "      <td>11861396</td>\n",
       "      <td>RESTORAN</td>\n",
       "      <td>10.57</td>\n",
       "      <td>0</td>\n",
       "    </tr>\n",
       "    <tr>\n",
       "      <th>1</th>\n",
       "      <td>13667756</td>\n",
       "      <td>RESTORAN</td>\n",
       "      <td>82.00</td>\n",
       "      <td>0</td>\n",
       "    </tr>\n",
       "    <tr>\n",
       "      <th>2</th>\n",
       "      <td>11024865</td>\n",
       "      <td>RESTORAN</td>\n",
       "      <td>15.00</td>\n",
       "      <td>0</td>\n",
       "    </tr>\n",
       "    <tr>\n",
       "      <th>3</th>\n",
       "      <td>10922788</td>\n",
       "      <td>RESTORAN</td>\n",
       "      <td>86.00</td>\n",
       "      <td>0</td>\n",
       "    </tr>\n",
       "    <tr>\n",
       "      <th>4</th>\n",
       "      <td>10335987</td>\n",
       "      <td>RESTORAN</td>\n",
       "      <td>30.00</td>\n",
       "      <td>0</td>\n",
       "    </tr>\n",
       "    <tr>\n",
       "      <th>...</th>\n",
       "      <td>...</td>\n",
       "      <td>...</td>\n",
       "      <td>...</td>\n",
       "      <td>...</td>\n",
       "    </tr>\n",
       "    <tr>\n",
       "      <th>9334620</th>\n",
       "      <td>15623192</td>\n",
       "      <td>GIDA</td>\n",
       "      <td>23.50</td>\n",
       "      <td>0</td>\n",
       "    </tr>\n",
       "    <tr>\n",
       "      <th>9334621</th>\n",
       "      <td>16382137</td>\n",
       "      <td>TEKSTİL</td>\n",
       "      <td>115.00</td>\n",
       "      <td>0</td>\n",
       "    </tr>\n",
       "    <tr>\n",
       "      <th>9334622</th>\n",
       "      <td>16808133</td>\n",
       "      <td>HİZMET SEKTÖRLERİ</td>\n",
       "      <td>32.00</td>\n",
       "      <td>0</td>\n",
       "    </tr>\n",
       "    <tr>\n",
       "      <th>9334623</th>\n",
       "      <td>27012943</td>\n",
       "      <td>TEKSTİL</td>\n",
       "      <td>250.00</td>\n",
       "      <td>0</td>\n",
       "    </tr>\n",
       "    <tr>\n",
       "      <th>9334624</th>\n",
       "      <td>21896299</td>\n",
       "      <td>GIDA</td>\n",
       "      <td>8.00</td>\n",
       "      <td>0</td>\n",
       "    </tr>\n",
       "  </tbody>\n",
       "</table>\n",
       "<p>9334625 rows × 4 columns</p>\n",
       "</div>"
      ],
      "text/plain": [
       "          Cust_ID           Category  Trans_Amt  Online_Trans\n",
       "0        11861396           RESTORAN      10.57             0\n",
       "1        13667756           RESTORAN      82.00             0\n",
       "2        11024865           RESTORAN      15.00             0\n",
       "3        10922788           RESTORAN      86.00             0\n",
       "4        10335987           RESTORAN      30.00             0\n",
       "...           ...                ...        ...           ...\n",
       "9334620  15623192               GIDA      23.50             0\n",
       "9334621  16382137            TEKSTİL     115.00             0\n",
       "9334622  16808133  HİZMET SEKTÖRLERİ      32.00             0\n",
       "9334623  27012943            TEKSTİL     250.00             0\n",
       "9334624  21896299               GIDA       8.00             0\n",
       "\n",
       "[9334625 rows x 4 columns]"
      ]
     },
     "execution_count": 170,
     "metadata": {},
     "output_type": "execute_result"
    }
   ],
   "source": [
    "trans_sub = transactions[['Cust_ID', 'Category', 'Trans_Amt', 'Online_Trans']]\n",
    "trans_sub"
   ]
  },
  {
   "cell_type": "code",
   "execution_count": 171,
   "id": "ddfb582b-20f6-43ef-a1fa-1309132f2d95",
   "metadata": {},
   "outputs": [],
   "source": [
    "trans_sums = trans_sub.groupby(['Cust_ID', 'Category'])['Trans_Amt'].sum().reset_index()\n",
    "trans_cats = trans_sums.pivot(columns='Category', index='Cust_ID', values='Trans_Amt')\n",
    "trans_cats = trans_cats.fillna(0)"
   ]
  },
  {
   "cell_type": "code",
   "execution_count": 172,
   "id": "cdd64d2b-78a1-442b-9bb3-a4db4b87fbd3",
   "metadata": {},
   "outputs": [
    {
     "data": {
      "text/html": [
       "<div>\n",
       "<style scoped>\n",
       "    .dataframe tbody tr th:only-of-type {\n",
       "        vertical-align: middle;\n",
       "    }\n",
       "\n",
       "    .dataframe tbody tr th {\n",
       "        vertical-align: top;\n",
       "    }\n",
       "\n",
       "    .dataframe thead th {\n",
       "        text-align: right;\n",
       "    }\n",
       "</style>\n",
       "<table border=\"1\" class=\"dataframe\">\n",
       "  <thead>\n",
       "    <tr style=\"text-align: right;\">\n",
       "      <th>Category</th>\n",
       "      <th>AKARYAKIT</th>\n",
       "      <th>ALIŞVERİŞ MERKEZLERİ</th>\n",
       "      <th>ARABA KİRALAMA</th>\n",
       "      <th>AYAKKABI</th>\n",
       "      <th>BEYAZ EŞYA</th>\n",
       "      <th>DENİZ TAŞITLARI KİRALAMA, SATIŞ, BAKIM</th>\n",
       "      <th>DOĞRUDAN PAZARLAMA-MAIL ORDER</th>\n",
       "      <th>DİĞER</th>\n",
       "      <th>EĞLENCE VE SPOR</th>\n",
       "      <th>EĞİTİM</th>\n",
       "      <th>...</th>\n",
       "      <th>SEYAHAT ACENTALARI - TAŞIMACILIK</th>\n",
       "      <th>SPOR GİYİM</th>\n",
       "      <th>SİGORTA</th>\n",
       "      <th>SİGORTA-MAIL ORDER</th>\n",
       "      <th>SİNEMA TİYATRO SANAT</th>\n",
       "      <th>TEKNOLOJİ</th>\n",
       "      <th>TEKSTİL</th>\n",
       "      <th>TELEKOMÜNİKASYON</th>\n",
       "      <th>YAPI MALZ., HIRDAVAT, NALBURİYE</th>\n",
       "      <th>İÇKİLİ YERLER - KUMARHANE</th>\n",
       "    </tr>\n",
       "    <tr>\n",
       "      <th>Cust_ID</th>\n",
       "      <th></th>\n",
       "      <th></th>\n",
       "      <th></th>\n",
       "      <th></th>\n",
       "      <th></th>\n",
       "      <th></th>\n",
       "      <th></th>\n",
       "      <th></th>\n",
       "      <th></th>\n",
       "      <th></th>\n",
       "      <th></th>\n",
       "      <th></th>\n",
       "      <th></th>\n",
       "      <th></th>\n",
       "      <th></th>\n",
       "      <th></th>\n",
       "      <th></th>\n",
       "      <th></th>\n",
       "      <th></th>\n",
       "      <th></th>\n",
       "      <th></th>\n",
       "    </tr>\n",
       "  </thead>\n",
       "  <tbody>\n",
       "    <tr>\n",
       "      <th>1560993</th>\n",
       "      <td>0.00</td>\n",
       "      <td>0.00</td>\n",
       "      <td>0.0</td>\n",
       "      <td>0.00</td>\n",
       "      <td>0.0</td>\n",
       "      <td>0.0</td>\n",
       "      <td>0.0</td>\n",
       "      <td>0.00</td>\n",
       "      <td>0.0</td>\n",
       "      <td>0.0</td>\n",
       "      <td>...</td>\n",
       "      <td>0.00</td>\n",
       "      <td>0.00</td>\n",
       "      <td>0.0</td>\n",
       "      <td>0.00</td>\n",
       "      <td>0.0</td>\n",
       "      <td>0.00</td>\n",
       "      <td>0.00</td>\n",
       "      <td>0.0</td>\n",
       "      <td>0.00</td>\n",
       "      <td>0.0</td>\n",
       "    </tr>\n",
       "    <tr>\n",
       "      <th>1566513</th>\n",
       "      <td>2170.00</td>\n",
       "      <td>20.05</td>\n",
       "      <td>0.0</td>\n",
       "      <td>0.00</td>\n",
       "      <td>250.0</td>\n",
       "      <td>0.0</td>\n",
       "      <td>0.0</td>\n",
       "      <td>268.50</td>\n",
       "      <td>0.0</td>\n",
       "      <td>0.0</td>\n",
       "      <td>...</td>\n",
       "      <td>0.00</td>\n",
       "      <td>0.00</td>\n",
       "      <td>0.0</td>\n",
       "      <td>858.00</td>\n",
       "      <td>0.0</td>\n",
       "      <td>2238.76</td>\n",
       "      <td>0.00</td>\n",
       "      <td>1375.0</td>\n",
       "      <td>1928.13</td>\n",
       "      <td>0.0</td>\n",
       "    </tr>\n",
       "    <tr>\n",
       "      <th>1567711</th>\n",
       "      <td>375.32</td>\n",
       "      <td>0.00</td>\n",
       "      <td>0.0</td>\n",
       "      <td>558.40</td>\n",
       "      <td>55.0</td>\n",
       "      <td>0.0</td>\n",
       "      <td>0.0</td>\n",
       "      <td>350.92</td>\n",
       "      <td>0.0</td>\n",
       "      <td>0.0</td>\n",
       "      <td>...</td>\n",
       "      <td>716.87</td>\n",
       "      <td>89.90</td>\n",
       "      <td>0.0</td>\n",
       "      <td>465.39</td>\n",
       "      <td>0.0</td>\n",
       "      <td>77.57</td>\n",
       "      <td>5587.22</td>\n",
       "      <td>912.6</td>\n",
       "      <td>64.93</td>\n",
       "      <td>70.0</td>\n",
       "    </tr>\n",
       "    <tr>\n",
       "      <th>1569761</th>\n",
       "      <td>0.00</td>\n",
       "      <td>0.00</td>\n",
       "      <td>0.0</td>\n",
       "      <td>459.87</td>\n",
       "      <td>0.0</td>\n",
       "      <td>0.0</td>\n",
       "      <td>0.0</td>\n",
       "      <td>0.00</td>\n",
       "      <td>0.0</td>\n",
       "      <td>0.0</td>\n",
       "      <td>...</td>\n",
       "      <td>1590.00</td>\n",
       "      <td>59.99</td>\n",
       "      <td>0.0</td>\n",
       "      <td>0.00</td>\n",
       "      <td>0.0</td>\n",
       "      <td>8797.33</td>\n",
       "      <td>1319.34</td>\n",
       "      <td>0.0</td>\n",
       "      <td>3026.21</td>\n",
       "      <td>0.0</td>\n",
       "    </tr>\n",
       "    <tr>\n",
       "      <th>1569938</th>\n",
       "      <td>0.00</td>\n",
       "      <td>0.00</td>\n",
       "      <td>0.0</td>\n",
       "      <td>0.00</td>\n",
       "      <td>0.0</td>\n",
       "      <td>0.0</td>\n",
       "      <td>0.0</td>\n",
       "      <td>0.00</td>\n",
       "      <td>0.0</td>\n",
       "      <td>0.0</td>\n",
       "      <td>...</td>\n",
       "      <td>0.00</td>\n",
       "      <td>0.00</td>\n",
       "      <td>0.0</td>\n",
       "      <td>0.00</td>\n",
       "      <td>0.0</td>\n",
       "      <td>379.00</td>\n",
       "      <td>19.90</td>\n",
       "      <td>840.0</td>\n",
       "      <td>74.85</td>\n",
       "      <td>0.0</td>\n",
       "    </tr>\n",
       "    <tr>\n",
       "      <th>...</th>\n",
       "      <td>...</td>\n",
       "      <td>...</td>\n",
       "      <td>...</td>\n",
       "      <td>...</td>\n",
       "      <td>...</td>\n",
       "      <td>...</td>\n",
       "      <td>...</td>\n",
       "      <td>...</td>\n",
       "      <td>...</td>\n",
       "      <td>...</td>\n",
       "      <td>...</td>\n",
       "      <td>...</td>\n",
       "      <td>...</td>\n",
       "      <td>...</td>\n",
       "      <td>...</td>\n",
       "      <td>...</td>\n",
       "      <td>...</td>\n",
       "      <td>...</td>\n",
       "      <td>...</td>\n",
       "      <td>...</td>\n",
       "      <td>...</td>\n",
       "    </tr>\n",
       "    <tr>\n",
       "      <th>28196275</th>\n",
       "      <td>0.00</td>\n",
       "      <td>0.00</td>\n",
       "      <td>0.0</td>\n",
       "      <td>0.00</td>\n",
       "      <td>0.0</td>\n",
       "      <td>0.0</td>\n",
       "      <td>0.0</td>\n",
       "      <td>0.00</td>\n",
       "      <td>0.0</td>\n",
       "      <td>0.0</td>\n",
       "      <td>...</td>\n",
       "      <td>0.00</td>\n",
       "      <td>0.00</td>\n",
       "      <td>0.0</td>\n",
       "      <td>0.00</td>\n",
       "      <td>0.0</td>\n",
       "      <td>55.25</td>\n",
       "      <td>0.00</td>\n",
       "      <td>0.0</td>\n",
       "      <td>0.00</td>\n",
       "      <td>0.0</td>\n",
       "    </tr>\n",
       "    <tr>\n",
       "      <th>28196280</th>\n",
       "      <td>0.00</td>\n",
       "      <td>0.00</td>\n",
       "      <td>0.0</td>\n",
       "      <td>0.00</td>\n",
       "      <td>0.0</td>\n",
       "      <td>0.0</td>\n",
       "      <td>0.0</td>\n",
       "      <td>0.00</td>\n",
       "      <td>0.0</td>\n",
       "      <td>0.0</td>\n",
       "      <td>...</td>\n",
       "      <td>0.00</td>\n",
       "      <td>0.00</td>\n",
       "      <td>0.0</td>\n",
       "      <td>0.00</td>\n",
       "      <td>0.0</td>\n",
       "      <td>0.00</td>\n",
       "      <td>0.00</td>\n",
       "      <td>0.0</td>\n",
       "      <td>229.90</td>\n",
       "      <td>0.0</td>\n",
       "    </tr>\n",
       "    <tr>\n",
       "      <th>28200516</th>\n",
       "      <td>0.00</td>\n",
       "      <td>0.00</td>\n",
       "      <td>0.0</td>\n",
       "      <td>0.00</td>\n",
       "      <td>0.0</td>\n",
       "      <td>0.0</td>\n",
       "      <td>0.0</td>\n",
       "      <td>0.00</td>\n",
       "      <td>0.0</td>\n",
       "      <td>0.0</td>\n",
       "      <td>...</td>\n",
       "      <td>0.00</td>\n",
       "      <td>0.00</td>\n",
       "      <td>0.0</td>\n",
       "      <td>0.00</td>\n",
       "      <td>0.0</td>\n",
       "      <td>5338.26</td>\n",
       "      <td>0.00</td>\n",
       "      <td>0.0</td>\n",
       "      <td>0.00</td>\n",
       "      <td>0.0</td>\n",
       "    </tr>\n",
       "    <tr>\n",
       "      <th>28203156</th>\n",
       "      <td>541.99</td>\n",
       "      <td>0.00</td>\n",
       "      <td>0.0</td>\n",
       "      <td>0.00</td>\n",
       "      <td>0.0</td>\n",
       "      <td>0.0</td>\n",
       "      <td>0.0</td>\n",
       "      <td>0.00</td>\n",
       "      <td>0.0</td>\n",
       "      <td>0.0</td>\n",
       "      <td>...</td>\n",
       "      <td>0.00</td>\n",
       "      <td>0.00</td>\n",
       "      <td>0.0</td>\n",
       "      <td>0.00</td>\n",
       "      <td>0.0</td>\n",
       "      <td>0.00</td>\n",
       "      <td>0.00</td>\n",
       "      <td>0.0</td>\n",
       "      <td>0.00</td>\n",
       "      <td>0.0</td>\n",
       "    </tr>\n",
       "    <tr>\n",
       "      <th>28204207</th>\n",
       "      <td>0.00</td>\n",
       "      <td>0.00</td>\n",
       "      <td>0.0</td>\n",
       "      <td>0.00</td>\n",
       "      <td>0.0</td>\n",
       "      <td>0.0</td>\n",
       "      <td>0.0</td>\n",
       "      <td>0.00</td>\n",
       "      <td>0.0</td>\n",
       "      <td>0.0</td>\n",
       "      <td>...</td>\n",
       "      <td>121.95</td>\n",
       "      <td>0.00</td>\n",
       "      <td>0.0</td>\n",
       "      <td>0.00</td>\n",
       "      <td>0.0</td>\n",
       "      <td>0.00</td>\n",
       "      <td>0.00</td>\n",
       "      <td>0.0</td>\n",
       "      <td>0.00</td>\n",
       "      <td>0.0</td>\n",
       "    </tr>\n",
       "  </tbody>\n",
       "</table>\n",
       "<p>101864 rows × 35 columns</p>\n",
       "</div>"
      ],
      "text/plain": [
       "Category  AKARYAKIT  ALIŞVERİŞ MERKEZLERİ  ARABA KİRALAMA  AYAKKABI  \\\n",
       "Cust_ID                                                               \n",
       "1560993        0.00                  0.00             0.0      0.00   \n",
       "1566513     2170.00                 20.05             0.0      0.00   \n",
       "1567711      375.32                  0.00             0.0    558.40   \n",
       "1569761        0.00                  0.00             0.0    459.87   \n",
       "1569938        0.00                  0.00             0.0      0.00   \n",
       "...             ...                   ...             ...       ...   \n",
       "28196275       0.00                  0.00             0.0      0.00   \n",
       "28196280       0.00                  0.00             0.0      0.00   \n",
       "28200516       0.00                  0.00             0.0      0.00   \n",
       "28203156     541.99                  0.00             0.0      0.00   \n",
       "28204207       0.00                  0.00             0.0      0.00   \n",
       "\n",
       "Category  BEYAZ EŞYA  DENİZ TAŞITLARI KİRALAMA, SATIŞ, BAKIM  \\\n",
       "Cust_ID                                                        \n",
       "1560993          0.0                                     0.0   \n",
       "1566513        250.0                                     0.0   \n",
       "1567711         55.0                                     0.0   \n",
       "1569761          0.0                                     0.0   \n",
       "1569938          0.0                                     0.0   \n",
       "...              ...                                     ...   \n",
       "28196275         0.0                                     0.0   \n",
       "28196280         0.0                                     0.0   \n",
       "28200516         0.0                                     0.0   \n",
       "28203156         0.0                                     0.0   \n",
       "28204207         0.0                                     0.0   \n",
       "\n",
       "Category  DOĞRUDAN PAZARLAMA-MAIL ORDER   DİĞER  EĞLENCE VE SPOR  EĞİTİM  ...  \\\n",
       "Cust_ID                                                                   ...   \n",
       "1560993                             0.0    0.00              0.0     0.0  ...   \n",
       "1566513                             0.0  268.50              0.0     0.0  ...   \n",
       "1567711                             0.0  350.92              0.0     0.0  ...   \n",
       "1569761                             0.0    0.00              0.0     0.0  ...   \n",
       "1569938                             0.0    0.00              0.0     0.0  ...   \n",
       "...                                 ...     ...              ...     ...  ...   \n",
       "28196275                            0.0    0.00              0.0     0.0  ...   \n",
       "28196280                            0.0    0.00              0.0     0.0  ...   \n",
       "28200516                            0.0    0.00              0.0     0.0  ...   \n",
       "28203156                            0.0    0.00              0.0     0.0  ...   \n",
       "28204207                            0.0    0.00              0.0     0.0  ...   \n",
       "\n",
       "Category  SEYAHAT ACENTALARI - TAŞIMACILIK  SPOR GİYİM  SİGORTA  \\\n",
       "Cust_ID                                                           \n",
       "1560993                               0.00        0.00      0.0   \n",
       "1566513                               0.00        0.00      0.0   \n",
       "1567711                             716.87       89.90      0.0   \n",
       "1569761                            1590.00       59.99      0.0   \n",
       "1569938                               0.00        0.00      0.0   \n",
       "...                                    ...         ...      ...   \n",
       "28196275                              0.00        0.00      0.0   \n",
       "28196280                              0.00        0.00      0.0   \n",
       "28200516                              0.00        0.00      0.0   \n",
       "28203156                              0.00        0.00      0.0   \n",
       "28204207                            121.95        0.00      0.0   \n",
       "\n",
       "Category  SİGORTA-MAIL ORDER  SİNEMA TİYATRO SANAT  TEKNOLOJİ  TEKSTİL  \\\n",
       "Cust_ID                                                                  \n",
       "1560993                 0.00                   0.0       0.00     0.00   \n",
       "1566513               858.00                   0.0    2238.76     0.00   \n",
       "1567711               465.39                   0.0      77.57  5587.22   \n",
       "1569761                 0.00                   0.0    8797.33  1319.34   \n",
       "1569938                 0.00                   0.0     379.00    19.90   \n",
       "...                      ...                   ...        ...      ...   \n",
       "28196275                0.00                   0.0      55.25     0.00   \n",
       "28196280                0.00                   0.0       0.00     0.00   \n",
       "28200516                0.00                   0.0    5338.26     0.00   \n",
       "28203156                0.00                   0.0       0.00     0.00   \n",
       "28204207                0.00                   0.0       0.00     0.00   \n",
       "\n",
       "Category  TELEKOMÜNİKASYON  YAPI MALZ., HIRDAVAT, NALBURİYE  \\\n",
       "Cust_ID                                                       \n",
       "1560993                0.0                             0.00   \n",
       "1566513             1375.0                          1928.13   \n",
       "1567711              912.6                            64.93   \n",
       "1569761                0.0                          3026.21   \n",
       "1569938              840.0                            74.85   \n",
       "...                    ...                              ...   \n",
       "28196275               0.0                             0.00   \n",
       "28196280               0.0                           229.90   \n",
       "28200516               0.0                             0.00   \n",
       "28203156               0.0                             0.00   \n",
       "28204207               0.0                             0.00   \n",
       "\n",
       "Category  İÇKİLİ YERLER - KUMARHANE  \n",
       "Cust_ID                              \n",
       "1560993                         0.0  \n",
       "1566513                         0.0  \n",
       "1567711                        70.0  \n",
       "1569761                         0.0  \n",
       "1569938                         0.0  \n",
       "...                             ...  \n",
       "28196275                        0.0  \n",
       "28196280                        0.0  \n",
       "28200516                        0.0  \n",
       "28203156                        0.0  \n",
       "28204207                        0.0  \n",
       "\n",
       "[101864 rows x 35 columns]"
      ]
     },
     "execution_count": 172,
     "metadata": {},
     "output_type": "execute_result"
    }
   ],
   "source": [
    "trans_cats"
   ]
  },
  {
   "cell_type": "code",
   "execution_count": 173,
   "id": "6a5d00c3-1444-42cb-aaf0-2d83f8fe32b9",
   "metadata": {
    "tags": []
   },
   "outputs": [],
   "source": [
    "demo_df = demo_df.join(trans_cats, on='Cust_ID')"
   ]
  },
  {
   "cell_type": "code",
   "execution_count": 174,
   "id": "07640e85-7dac-4f93-a5b6-440f688d05db",
   "metadata": {},
   "outputs": [],
   "source": [
    "demo_df.drop('Cust_ID', axis = 1, inplace = True)"
   ]
  },
  {
   "cell_type": "code",
   "execution_count": 175,
   "id": "1e84cdaa-bc15-4364-a115-86d106ddead6",
   "metadata": {},
   "outputs": [
    {
     "name": "stdout",
     "output_type": "stream",
     "text": [
      "<class 'pandas.core.frame.DataFrame'>\n",
      "RangeIndex: 103202 entries, 0 to 103201\n",
      "Data columns (total 66 columns):\n",
      " #   Column                                  Non-Null Count   Dtype  \n",
      "---  ------                                  --------------   -----  \n",
      " 0   Cust_Segment                            103202 non-null  object \n",
      " 1   Branch_ID                               103202 non-null  int64  \n",
      " 2   Gender                                  103202 non-null  object \n",
      " 3   Marital_Status                          103202 non-null  object \n",
      " 4   Education_Lv                            103202 non-null  object \n",
      " 5   Job_Status                              103202 non-null  object \n",
      " 6   Income                                  100752 non-null  float64\n",
      " 7   Age                                     103202 non-null  int64  \n",
      " 8   Years_w_Bank                            103197 non-null  float64\n",
      " 9   Work_Region                             103202 non-null  object \n",
      " 10  Home_Region                             103198 non-null  object \n",
      " 11  Branch_Region                           103198 non-null  object \n",
      " 12  1)RISKSIZ                               103202 non-null  float64\n",
      " 13  2)GECIKME 1-15 GUN                      103202 non-null  float64\n",
      " 14  3)GECIKME 16-29 GUN                     103202 non-null  float64\n",
      " 15  4)GECIKME 30-59 GUN                     103202 non-null  float64\n",
      " 16  5)GECIKME 60+ GUN                       103202 non-null  float64\n",
      " 17  6)TAKIP                                 103202 non-null  float64\n",
      " 18  statement_mean                          102227 non-null  float64\n",
      " 19  statement_max                           102227 non-null  float64\n",
      " 20  transaction1_mean                       100645 non-null  float64\n",
      " 21  transaction1_max                        100645 non-null  float64\n",
      " 22  transaction2_mean                       101076 non-null  float64\n",
      " 23  transaction2_max                        101076 non-null  float64\n",
      " 24  online_trans_percent                    101076 non-null  float64\n",
      " 25  transaction_food_mean                   88265 non-null   float64\n",
      " 26  transaction_food_max                    88265 non-null   float64\n",
      " 27  transaction_health_mean                 53878 non-null   float64\n",
      " 28  transaction_health_max                  53878 non-null   float64\n",
      " 29  transaction_gas_mean                    57999 non-null   float64\n",
      " 30  transaction_gas_max                     57999 non-null   float64\n",
      " 31  AKARYAKIT                               101857 non-null  float64\n",
      " 32  ALIŞVERİŞ MERKEZLERİ                    101857 non-null  float64\n",
      " 33  ARABA KİRALAMA                          101857 non-null  float64\n",
      " 34  AYAKKABI                                101857 non-null  float64\n",
      " 35  BEYAZ EŞYA                              101857 non-null  float64\n",
      " 36  DENİZ TAŞITLARI KİRALAMA, SATIŞ, BAKIM  101857 non-null  float64\n",
      " 37  DOĞRUDAN PAZARLAMA-MAIL ORDER           101857 non-null  float64\n",
      " 38  DİĞER                                   101857 non-null  float64\n",
      " 39  EĞLENCE VE SPOR                         101857 non-null  float64\n",
      " 40  EĞİTİM                                  101857 non-null  float64\n",
      " 41  GIDA                                    101857 non-null  float64\n",
      " 42  HAVAYOLLARI                             101857 non-null  float64\n",
      " 43  HOTEL                                   101857 non-null  float64\n",
      " 44  HİZMET SEKTÖRLERİ                       101857 non-null  float64\n",
      " 45  KOZMETİK                                101857 non-null  float64\n",
      " 46  KUYUMCU                                 101857 non-null  float64\n",
      " 47  MOBİLYA, DEKORASYON                     101857 non-null  float64\n",
      " 48  MOTOSİKLET                              101857 non-null  float64\n",
      " 49  MUZIK MARKET KIRTASİYE                  101857 non-null  float64\n",
      " 50  NAKİT AVANS                             101857 non-null  float64\n",
      " 51  OPTİK                                   101857 non-null  float64\n",
      " 52  OTOMOTİV                                101857 non-null  float64\n",
      " 53  OYUNCAK                                 101857 non-null  float64\n",
      " 54  RESTORAN                                101857 non-null  float64\n",
      " 55  SAĞLIK                                  101857 non-null  float64\n",
      " 56  SEYAHAT ACENTALARI - TAŞIMACILIK        101857 non-null  float64\n",
      " 57  SPOR GİYİM                              101857 non-null  float64\n",
      " 58  SİGORTA                                 101857 non-null  float64\n",
      " 59  SİGORTA-MAIL ORDER                      101857 non-null  float64\n",
      " 60  SİNEMA TİYATRO SANAT                    101857 non-null  float64\n",
      " 61  TEKNOLOJİ                               101857 non-null  float64\n",
      " 62  TEKSTİL                                 101857 non-null  float64\n",
      " 63  TELEKOMÜNİKASYON                        101857 non-null  float64\n",
      " 64  YAPI MALZ., HIRDAVAT, NALBURİYE         101857 non-null  float64\n",
      " 65  İÇKİLİ YERLER - KUMARHANE               101857 non-null  float64\n",
      "dtypes: float64(56), int64(2), object(8)\n",
      "memory usage: 52.0+ MB\n"
     ]
    }
   ],
   "source": [
    "demo_df.info()"
   ]
  },
  {
   "cell_type": "markdown",
   "id": "7189368c-c120-4336-b8ab-e4c84f02f796",
   "metadata": {},
   "source": [
    "# Data Exploration"
   ]
  },
  {
   "cell_type": "code",
   "execution_count": 176,
   "id": "5723aa44-5bb8-47dc-b682-58908ca6cfe2",
   "metadata": {},
   "outputs": [
    {
     "data": {
      "text/plain": [
       "BİREYSEL                       96149\n",
       "BİREBİR                         4000\n",
       "MİKRO                           2830\n",
       "EXI26                            130\n",
       "ÖZEL BANKACILIK MÜŞTERİLERİ       93\n",
       "Name: Cust_Segment, dtype: int64"
      ]
     },
     "execution_count": 176,
     "metadata": {},
     "output_type": "execute_result"
    }
   ],
   "source": [
    "demo_df['Cust_Segment'].value_counts()"
   ]
  },
  {
   "cell_type": "code",
   "execution_count": 177,
   "id": "78fddfa3-76a4-4a51-95e3-5159cb4e2f62",
   "metadata": {},
   "outputs": [
    {
     "data": {
      "text/plain": [
       "EVLİ                65637\n",
       "BEKAR               30877\n",
       "BOŞANMIŞ             4831\n",
       "BİLINMİYOR           1397\n",
       "DUL                   457\n",
       "EVLİLİĞİN İPTALİ        3\n",
       "Name: Marital_Status, dtype: int64"
      ]
     },
     "execution_count": 177,
     "metadata": {},
     "output_type": "execute_result"
    }
   ],
   "source": [
    "demo_df['Marital_Status'].value_counts()"
   ]
  },
  {
   "cell_type": "code",
   "execution_count": 178,
   "id": "5f752bb7-784e-4dc2-89aa-9f41fa8291fb",
   "metadata": {},
   "outputs": [
    {
     "data": {
      "text/plain": [
       "HS_below      64438\n",
       "University    34944\n",
       "Graduate       3737\n",
       "BİLİNMİYOR       83\n",
       "Name: Education_Lv, dtype: int64"
      ]
     },
     "execution_count": 178,
     "metadata": {},
     "output_type": "execute_result"
    }
   ],
   "source": [
    "demo_df['Education_Lv'].value_counts()"
   ]
  },
  {
   "cell_type": "code",
   "execution_count": 179,
   "id": "a8d9e51c-0b41-41da-a7b3-3701a2259264",
   "metadata": {},
   "outputs": [
    {
     "data": {
      "text/plain": [
       "ÜCRETLİ (ÖZEL)                    78467\n",
       "SERBEST MESLEK                    11056\n",
       "ÜCRETLI (KAMU)                     5342\n",
       "EMEKLİ                             3403\n",
       "ÇALIŞAN EMEKLİ(ÜCRETLİ)            1997\n",
       "EV HANIMI                           785\n",
       "ÇALIŞMIYOR                          705\n",
       "ÇALIŞAN EMEKLİ(SERBEST MESLEK)      591\n",
       "DİĞER                               455\n",
       "TANIMSIZ                            225\n",
       "ÖĞRENCİ                             165\n",
       "YURTDIŞINDA ÇALIŞAN                   8\n",
       "ÇOCUK (18 YAŞIN ALTINDA)              3\n",
       "Name: Job_Status, dtype: int64"
      ]
     },
     "execution_count": 179,
     "metadata": {},
     "output_type": "execute_result"
    }
   ],
   "source": [
    "demo_df['Job_Status'].value_counts()"
   ]
  },
  {
   "cell_type": "code",
   "execution_count": 180,
   "id": "dbcc335e-d08c-4f63-8c2a-e39fecece431",
   "metadata": {},
   "outputs": [
    {
     "data": {
      "text/plain": [
       "MARMARA             100587\n",
       "BLACK SEA              671\n",
       "CENTRAL ANATOLIA       494\n",
       "MEDITERRANEAN          468\n",
       "AEGEAN                 377\n",
       "EASTERN ANATOLIA       333\n",
       "SE ANATOLIA            268\n",
       "Name: Home_Region, dtype: int64"
      ]
     },
     "execution_count": 180,
     "metadata": {},
     "output_type": "execute_result"
    }
   ],
   "source": [
    "demo_df['Home_Region'].value_counts()"
   ]
  },
  {
   "cell_type": "code",
   "execution_count": 181,
   "id": "b3cf4723-0609-4085-9d71-995950a1df84",
   "metadata": {},
   "outputs": [
    {
     "data": {
      "text/plain": [
       "MARMARA             101824\n",
       "CENTRAL ANATOLIA       353\n",
       "AEGEAN                 316\n",
       "BLACK SEA              255\n",
       "MEDITERRANEAN          200\n",
       "EASTERN ANATOLIA       144\n",
       "SE ANATOLIA            110\n",
       "Name: Work_Region, dtype: int64"
      ]
     },
     "execution_count": 181,
     "metadata": {},
     "output_type": "execute_result"
    }
   ],
   "source": [
    "demo_df['Work_Region'].value_counts()"
   ]
  },
  {
   "cell_type": "code",
   "execution_count": 182,
   "id": "669af6d1-be73-4b6b-b71b-03bbc547dcdb",
   "metadata": {},
   "outputs": [
    {
     "data": {
      "text/plain": [
       "MARMARA             98475\n",
       "BLACK SEA            1118\n",
       "CENTRAL ANATOLIA     1100\n",
       "AEGEAN               1089\n",
       "MEDITERRANEAN         713\n",
       "EASTERN ANATOLIA      380\n",
       "SE ANATOLIA           323\n",
       "Name: Branch_Region, dtype: int64"
      ]
     },
     "execution_count": 182,
     "metadata": {},
     "output_type": "execute_result"
    }
   ],
   "source": [
    "demo_df['Branch_Region'].value_counts()"
   ]
  },
  {
   "cell_type": "code",
   "execution_count": 183,
   "id": "39d975cb-3bda-40de-9a21-3319fea50975",
   "metadata": {},
   "outputs": [
    {
     "data": {
      "text/plain": [
       "Cust_Segment                          0\n",
       "Branch_ID                             0\n",
       "Gender                                0\n",
       "Marital_Status                        0\n",
       "Education_Lv                          0\n",
       "                                   ... \n",
       "TEKNOLOJİ                          1345\n",
       "TEKSTİL                            1345\n",
       "TELEKOMÜNİKASYON                   1345\n",
       "YAPI MALZ., HIRDAVAT, NALBURİYE    1345\n",
       "İÇKİLİ YERLER - KUMARHANE          1345\n",
       "Length: 66, dtype: int64"
      ]
     },
     "execution_count": 183,
     "metadata": {},
     "output_type": "execute_result"
    }
   ],
   "source": [
    "# check values for nulls\n",
    "demo_df.isnull().sum(axis = 0)"
   ]
  },
  {
   "cell_type": "code",
   "execution_count": 184,
   "id": "c06bfcc5-0b0f-4f28-a3e7-57355a8a08b7",
   "metadata": {},
   "outputs": [
    {
     "data": {
      "text/html": [
       "<div>\n",
       "<style scoped>\n",
       "    .dataframe tbody tr th:only-of-type {\n",
       "        vertical-align: middle;\n",
       "    }\n",
       "\n",
       "    .dataframe tbody tr th {\n",
       "        vertical-align: top;\n",
       "    }\n",
       "\n",
       "    .dataframe thead th {\n",
       "        text-align: right;\n",
       "    }\n",
       "</style>\n",
       "<table border=\"1\" class=\"dataframe\">\n",
       "  <thead>\n",
       "    <tr style=\"text-align: right;\">\n",
       "      <th></th>\n",
       "      <th>Cust_Segment</th>\n",
       "      <th>Branch_ID</th>\n",
       "      <th>Gender</th>\n",
       "      <th>Marital_Status</th>\n",
       "      <th>Education_Lv</th>\n",
       "      <th>Job_Status</th>\n",
       "      <th>Income</th>\n",
       "      <th>Age</th>\n",
       "      <th>Years_w_Bank</th>\n",
       "      <th>Work_Region</th>\n",
       "      <th>...</th>\n",
       "      <th>SEYAHAT ACENTALARI - TAŞIMACILIK</th>\n",
       "      <th>SPOR GİYİM</th>\n",
       "      <th>SİGORTA</th>\n",
       "      <th>SİGORTA-MAIL ORDER</th>\n",
       "      <th>SİNEMA TİYATRO SANAT</th>\n",
       "      <th>TEKNOLOJİ</th>\n",
       "      <th>TEKSTİL</th>\n",
       "      <th>TELEKOMÜNİKASYON</th>\n",
       "      <th>YAPI MALZ., HIRDAVAT, NALBURİYE</th>\n",
       "      <th>İÇKİLİ YERLER - KUMARHANE</th>\n",
       "    </tr>\n",
       "  </thead>\n",
       "  <tbody>\n",
       "    <tr>\n",
       "      <th>138</th>\n",
       "      <td>BİREYSEL</td>\n",
       "      <td>4</td>\n",
       "      <td>E</td>\n",
       "      <td>EVLİ</td>\n",
       "      <td>University</td>\n",
       "      <td>ÜCRETLİ (ÖZEL)</td>\n",
       "      <td>1700.0</td>\n",
       "      <td>29</td>\n",
       "      <td>8.0</td>\n",
       "      <td>MARMARA</td>\n",
       "      <td>...</td>\n",
       "      <td>NaN</td>\n",
       "      <td>NaN</td>\n",
       "      <td>NaN</td>\n",
       "      <td>NaN</td>\n",
       "      <td>NaN</td>\n",
       "      <td>NaN</td>\n",
       "      <td>NaN</td>\n",
       "      <td>NaN</td>\n",
       "      <td>NaN</td>\n",
       "      <td>NaN</td>\n",
       "    </tr>\n",
       "    <tr>\n",
       "      <th>300</th>\n",
       "      <td>MİKRO</td>\n",
       "      <td>4</td>\n",
       "      <td>E</td>\n",
       "      <td>BİLINMİYOR</td>\n",
       "      <td>University</td>\n",
       "      <td>SERBEST MESLEK</td>\n",
       "      <td>25000.0</td>\n",
       "      <td>36</td>\n",
       "      <td>13.0</td>\n",
       "      <td>MARMARA</td>\n",
       "      <td>...</td>\n",
       "      <td>NaN</td>\n",
       "      <td>NaN</td>\n",
       "      <td>NaN</td>\n",
       "      <td>NaN</td>\n",
       "      <td>NaN</td>\n",
       "      <td>NaN</td>\n",
       "      <td>NaN</td>\n",
       "      <td>NaN</td>\n",
       "      <td>NaN</td>\n",
       "      <td>NaN</td>\n",
       "    </tr>\n",
       "    <tr>\n",
       "      <th>396</th>\n",
       "      <td>BİREYSEL</td>\n",
       "      <td>4</td>\n",
       "      <td>K</td>\n",
       "      <td>BOŞANMIŞ</td>\n",
       "      <td>HS_below</td>\n",
       "      <td>ÜCRETLİ (ÖZEL)</td>\n",
       "      <td>1215.0</td>\n",
       "      <td>31</td>\n",
       "      <td>3.0</td>\n",
       "      <td>MARMARA</td>\n",
       "      <td>...</td>\n",
       "      <td>NaN</td>\n",
       "      <td>NaN</td>\n",
       "      <td>NaN</td>\n",
       "      <td>NaN</td>\n",
       "      <td>NaN</td>\n",
       "      <td>NaN</td>\n",
       "      <td>NaN</td>\n",
       "      <td>NaN</td>\n",
       "      <td>NaN</td>\n",
       "      <td>NaN</td>\n",
       "    </tr>\n",
       "    <tr>\n",
       "      <th>481</th>\n",
       "      <td>BİREYSEL</td>\n",
       "      <td>7</td>\n",
       "      <td>E</td>\n",
       "      <td>EVLİ</td>\n",
       "      <td>HS_below</td>\n",
       "      <td>ÜCRETLİ (ÖZEL)</td>\n",
       "      <td>2300.0</td>\n",
       "      <td>40</td>\n",
       "      <td>14.0</td>\n",
       "      <td>MARMARA</td>\n",
       "      <td>...</td>\n",
       "      <td>NaN</td>\n",
       "      <td>NaN</td>\n",
       "      <td>NaN</td>\n",
       "      <td>NaN</td>\n",
       "      <td>NaN</td>\n",
       "      <td>NaN</td>\n",
       "      <td>NaN</td>\n",
       "      <td>NaN</td>\n",
       "      <td>NaN</td>\n",
       "      <td>NaN</td>\n",
       "    </tr>\n",
       "    <tr>\n",
       "      <th>614</th>\n",
       "      <td>BİREYSEL</td>\n",
       "      <td>13</td>\n",
       "      <td>E</td>\n",
       "      <td>EVLİ</td>\n",
       "      <td>HS_below</td>\n",
       "      <td>ÜCRETLİ (ÖZEL)</td>\n",
       "      <td>2000.0</td>\n",
       "      <td>38</td>\n",
       "      <td>7.0</td>\n",
       "      <td>MARMARA</td>\n",
       "      <td>...</td>\n",
       "      <td>NaN</td>\n",
       "      <td>NaN</td>\n",
       "      <td>NaN</td>\n",
       "      <td>NaN</td>\n",
       "      <td>NaN</td>\n",
       "      <td>NaN</td>\n",
       "      <td>NaN</td>\n",
       "      <td>NaN</td>\n",
       "      <td>NaN</td>\n",
       "      <td>NaN</td>\n",
       "    </tr>\n",
       "    <tr>\n",
       "      <th>...</th>\n",
       "      <td>...</td>\n",
       "      <td>...</td>\n",
       "      <td>...</td>\n",
       "      <td>...</td>\n",
       "      <td>...</td>\n",
       "      <td>...</td>\n",
       "      <td>...</td>\n",
       "      <td>...</td>\n",
       "      <td>...</td>\n",
       "      <td>...</td>\n",
       "      <td>...</td>\n",
       "      <td>...</td>\n",
       "      <td>...</td>\n",
       "      <td>...</td>\n",
       "      <td>...</td>\n",
       "      <td>...</td>\n",
       "      <td>...</td>\n",
       "      <td>...</td>\n",
       "      <td>...</td>\n",
       "      <td>...</td>\n",
       "      <td>...</td>\n",
       "    </tr>\n",
       "    <tr>\n",
       "      <th>102793</th>\n",
       "      <td>BİREYSEL</td>\n",
       "      <td>685</td>\n",
       "      <td>E</td>\n",
       "      <td>BEKAR</td>\n",
       "      <td>University</td>\n",
       "      <td>ÜCRETLI (KAMU)</td>\n",
       "      <td>0.0</td>\n",
       "      <td>24</td>\n",
       "      <td>1.0</td>\n",
       "      <td>AEGEAN</td>\n",
       "      <td>...</td>\n",
       "      <td>NaN</td>\n",
       "      <td>NaN</td>\n",
       "      <td>NaN</td>\n",
       "      <td>NaN</td>\n",
       "      <td>NaN</td>\n",
       "      <td>NaN</td>\n",
       "      <td>NaN</td>\n",
       "      <td>NaN</td>\n",
       "      <td>NaN</td>\n",
       "      <td>NaN</td>\n",
       "    </tr>\n",
       "    <tr>\n",
       "      <th>102835</th>\n",
       "      <td>BİREYSEL</td>\n",
       "      <td>822</td>\n",
       "      <td>E</td>\n",
       "      <td>EVLİ</td>\n",
       "      <td>HS_below</td>\n",
       "      <td>ÜCRETLİ (ÖZEL)</td>\n",
       "      <td>1500.0</td>\n",
       "      <td>25</td>\n",
       "      <td>6.0</td>\n",
       "      <td>AEGEAN</td>\n",
       "      <td>...</td>\n",
       "      <td>NaN</td>\n",
       "      <td>NaN</td>\n",
       "      <td>NaN</td>\n",
       "      <td>NaN</td>\n",
       "      <td>NaN</td>\n",
       "      <td>NaN</td>\n",
       "      <td>NaN</td>\n",
       "      <td>NaN</td>\n",
       "      <td>NaN</td>\n",
       "      <td>NaN</td>\n",
       "    </tr>\n",
       "    <tr>\n",
       "      <th>103008</th>\n",
       "      <td>BİREYSEL</td>\n",
       "      <td>232</td>\n",
       "      <td>E</td>\n",
       "      <td>BEKAR</td>\n",
       "      <td>University</td>\n",
       "      <td>ÜCRETLİ (ÖZEL)</td>\n",
       "      <td>2500.0</td>\n",
       "      <td>25</td>\n",
       "      <td>4.0</td>\n",
       "      <td>BLACK SEA</td>\n",
       "      <td>...</td>\n",
       "      <td>NaN</td>\n",
       "      <td>NaN</td>\n",
       "      <td>NaN</td>\n",
       "      <td>NaN</td>\n",
       "      <td>NaN</td>\n",
       "      <td>NaN</td>\n",
       "      <td>NaN</td>\n",
       "      <td>NaN</td>\n",
       "      <td>NaN</td>\n",
       "      <td>NaN</td>\n",
       "    </tr>\n",
       "    <tr>\n",
       "      <th>103063</th>\n",
       "      <td>BİREYSEL</td>\n",
       "      <td>532</td>\n",
       "      <td>E</td>\n",
       "      <td>EVLİ</td>\n",
       "      <td>HS_below</td>\n",
       "      <td>ÜCRETLİ (ÖZEL)</td>\n",
       "      <td>1000.0</td>\n",
       "      <td>37</td>\n",
       "      <td>6.0</td>\n",
       "      <td>BLACK SEA</td>\n",
       "      <td>...</td>\n",
       "      <td>NaN</td>\n",
       "      <td>NaN</td>\n",
       "      <td>NaN</td>\n",
       "      <td>NaN</td>\n",
       "      <td>NaN</td>\n",
       "      <td>NaN</td>\n",
       "      <td>NaN</td>\n",
       "      <td>NaN</td>\n",
       "      <td>NaN</td>\n",
       "      <td>NaN</td>\n",
       "    </tr>\n",
       "    <tr>\n",
       "      <th>103136</th>\n",
       "      <td>BİREYSEL</td>\n",
       "      <td>1223</td>\n",
       "      <td>E</td>\n",
       "      <td>EVLİ</td>\n",
       "      <td>University</td>\n",
       "      <td>ÜCRETLİ (ÖZEL)</td>\n",
       "      <td>1000.0</td>\n",
       "      <td>28</td>\n",
       "      <td>3.0</td>\n",
       "      <td>BLACK SEA</td>\n",
       "      <td>...</td>\n",
       "      <td>NaN</td>\n",
       "      <td>NaN</td>\n",
       "      <td>NaN</td>\n",
       "      <td>NaN</td>\n",
       "      <td>NaN</td>\n",
       "      <td>NaN</td>\n",
       "      <td>NaN</td>\n",
       "      <td>NaN</td>\n",
       "      <td>NaN</td>\n",
       "      <td>NaN</td>\n",
       "    </tr>\n",
       "  </tbody>\n",
       "</table>\n",
       "<p>1345 rows × 66 columns</p>\n",
       "</div>"
      ],
      "text/plain": [
       "       Cust_Segment  Branch_ID Gender Marital_Status Education_Lv  \\\n",
       "138        BİREYSEL          4      E           EVLİ   University   \n",
       "300           MİKRO          4      E     BİLINMİYOR   University   \n",
       "396        BİREYSEL          4      K       BOŞANMIŞ     HS_below   \n",
       "481        BİREYSEL          7      E           EVLİ     HS_below   \n",
       "614        BİREYSEL         13      E           EVLİ     HS_below   \n",
       "...             ...        ...    ...            ...          ...   \n",
       "102793     BİREYSEL        685      E          BEKAR   University   \n",
       "102835     BİREYSEL        822      E           EVLİ     HS_below   \n",
       "103008     BİREYSEL        232      E          BEKAR   University   \n",
       "103063     BİREYSEL        532      E           EVLİ     HS_below   \n",
       "103136     BİREYSEL       1223      E           EVLİ   University   \n",
       "\n",
       "            Job_Status   Income  Age  Years_w_Bank Work_Region  ...  \\\n",
       "138     ÜCRETLİ (ÖZEL)   1700.0   29           8.0     MARMARA  ...   \n",
       "300     SERBEST MESLEK  25000.0   36          13.0     MARMARA  ...   \n",
       "396     ÜCRETLİ (ÖZEL)   1215.0   31           3.0     MARMARA  ...   \n",
       "481     ÜCRETLİ (ÖZEL)   2300.0   40          14.0     MARMARA  ...   \n",
       "614     ÜCRETLİ (ÖZEL)   2000.0   38           7.0     MARMARA  ...   \n",
       "...                ...      ...  ...           ...         ...  ...   \n",
       "102793  ÜCRETLI (KAMU)      0.0   24           1.0      AEGEAN  ...   \n",
       "102835  ÜCRETLİ (ÖZEL)   1500.0   25           6.0      AEGEAN  ...   \n",
       "103008  ÜCRETLİ (ÖZEL)   2500.0   25           4.0   BLACK SEA  ...   \n",
       "103063  ÜCRETLİ (ÖZEL)   1000.0   37           6.0   BLACK SEA  ...   \n",
       "103136  ÜCRETLİ (ÖZEL)   1000.0   28           3.0   BLACK SEA  ...   \n",
       "\n",
       "       SEYAHAT ACENTALARI - TAŞIMACILIK SPOR GİYİM  SİGORTA  \\\n",
       "138                                 NaN        NaN      NaN   \n",
       "300                                 NaN        NaN      NaN   \n",
       "396                                 NaN        NaN      NaN   \n",
       "481                                 NaN        NaN      NaN   \n",
       "614                                 NaN        NaN      NaN   \n",
       "...                                 ...        ...      ...   \n",
       "102793                              NaN        NaN      NaN   \n",
       "102835                              NaN        NaN      NaN   \n",
       "103008                              NaN        NaN      NaN   \n",
       "103063                              NaN        NaN      NaN   \n",
       "103136                              NaN        NaN      NaN   \n",
       "\n",
       "        SİGORTA-MAIL ORDER  SİNEMA TİYATRO SANAT  TEKNOLOJİ  TEKSTİL  \\\n",
       "138                    NaN                   NaN        NaN      NaN   \n",
       "300                    NaN                   NaN        NaN      NaN   \n",
       "396                    NaN                   NaN        NaN      NaN   \n",
       "481                    NaN                   NaN        NaN      NaN   \n",
       "614                    NaN                   NaN        NaN      NaN   \n",
       "...                    ...                   ...        ...      ...   \n",
       "102793                 NaN                   NaN        NaN      NaN   \n",
       "102835                 NaN                   NaN        NaN      NaN   \n",
       "103008                 NaN                   NaN        NaN      NaN   \n",
       "103063                 NaN                   NaN        NaN      NaN   \n",
       "103136                 NaN                   NaN        NaN      NaN   \n",
       "\n",
       "        TELEKOMÜNİKASYON  YAPI MALZ., HIRDAVAT, NALBURİYE  \\\n",
       "138                  NaN                              NaN   \n",
       "300                  NaN                              NaN   \n",
       "396                  NaN                              NaN   \n",
       "481                  NaN                              NaN   \n",
       "614                  NaN                              NaN   \n",
       "...                  ...                              ...   \n",
       "102793               NaN                              NaN   \n",
       "102835               NaN                              NaN   \n",
       "103008               NaN                              NaN   \n",
       "103063               NaN                              NaN   \n",
       "103136               NaN                              NaN   \n",
       "\n",
       "        İÇKİLİ YERLER - KUMARHANE  \n",
       "138                           NaN  \n",
       "300                           NaN  \n",
       "396                           NaN  \n",
       "481                           NaN  \n",
       "614                           NaN  \n",
       "...                           ...  \n",
       "102793                        NaN  \n",
       "102835                        NaN  \n",
       "103008                        NaN  \n",
       "103063                        NaN  \n",
       "103136                        NaN  \n",
       "\n",
       "[1345 rows x 66 columns]"
      ]
     },
     "execution_count": 184,
     "metadata": {},
     "output_type": "execute_result"
    }
   ],
   "source": [
    "demo_df[demo_df['DİĞER'].isnull()]\n",
    "#looks like these customers didn't have transaction data or did not use their credit cards"
   ]
  },
  {
   "cell_type": "code",
   "execution_count": 185,
   "id": "c9986568-7e42-43cc-9193-62882608db6b",
   "metadata": {},
   "outputs": [],
   "source": [
    "#demo_df.dropna(subset=[\"AKARYAKIT\"], inplace=True)\n",
    "demo_df.dropna(subset=[\"Home_Region\"], inplace=True)\n",
    "demo_df.dropna(subset=[\"Branch_Region\"], inplace=True)\n",
    "demo_df.dropna(subset=[\"transaction_health_mean\"], inplace=True)\n",
    "demo_df.dropna(subset=[\"transaction_health_max\"], inplace=True)"
   ]
  },
  {
   "cell_type": "code",
   "execution_count": 186,
   "id": "b4e5431b-d360-4686-9a89-572f0889727a",
   "metadata": {},
   "outputs": [],
   "source": [
    "demo_df.drop(['transaction_food_mean', 'transaction_food_max', 'transaction_gas_mean', 'transaction_gas_max'], axis = 1, inplace=True)"
   ]
  },
  {
   "cell_type": "code",
   "execution_count": 187,
   "id": "0dd41d81-7353-4496-8e14-628731a84f43",
   "metadata": {
    "tags": []
   },
   "outputs": [
    {
     "data": {
      "image/png": "[encoded data removed]",
      "text/plain": [
       "<Figure size 1440x1080 with 20 Axes>"
      ]
     },
     "metadata": {
      "needs_background": "light"
     },
     "output_type": "display_data"
    }
   ],
   "source": [
    "# Data Exploration\n",
    "%matplotlib inline\n",
    "import matplotlib.pyplot as plt\n",
    "demo_df.iloc[:,0:26].hist(bins=50, figsize=(20,15))\n",
    "plt.show()"
   ]
  },
  {
   "cell_type": "code",
   "execution_count": 188,
   "id": "c90a37d8-6d8a-4ea8-b8d3-3d145c04d321",
   "metadata": {},
   "outputs": [
    {
     "data": {
      "image/png": "[encoded data removed]",
      "text/plain": [
       "<Figure size 1440x1080 with 42 Axes>"
      ]
     },
     "metadata": {
      "needs_background": "light"
     },
     "output_type": "display_data"
    }
   ],
   "source": [
    "demo_df.iloc[:,20:].hist(bins=50, figsize=(20,15))\n",
    "plt.show()"
   ]
  },
  {
   "cell_type": "code",
   "execution_count": 189,
   "id": "0bcaafe6-a60a-4a83-ae0b-15e9a299815d",
   "metadata": {},
   "outputs": [
    {
     "data": {
      "text/plain": [
       "array(['Cust_Segment', 'Branch_ID', 'Gender', 'Marital_Status',\n",
       "       'Education_Lv', 'Job_Status', 'Income', 'Age', 'Years_w_Bank',\n",
       "       'Work_Region', 'Home_Region', 'Branch_Region', '1)RISKSIZ',\n",
       "       '2)GECIKME 1-15 GUN', '3)GECIKME 16-29 GUN', '4)GECIKME 30-59 GUN',\n",
       "       '5)GECIKME 60+ GUN', '6)TAKIP', 'statement_mean', 'statement_max',\n",
       "       'transaction1_mean', 'transaction1_max', 'transaction2_mean',\n",
       "       'transaction2_max', 'online_trans_percent',\n",
       "       'transaction_health_mean', 'transaction_health_max', 'AKARYAKIT',\n",
       "       'ALIŞVERİŞ MERKEZLERİ', 'ARABA KİRALAMA', 'AYAKKABI', 'BEYAZ EŞYA',\n",
       "       'DENİZ TAŞITLARI KİRALAMA, SATIŞ, BAKIM',\n",
       "       'DOĞRUDAN PAZARLAMA-MAIL ORDER', 'DİĞER', 'EĞLENCE VE SPOR',\n",
       "       'EĞİTİM', 'GIDA', 'HAVAYOLLARI', 'HOTEL', 'HİZMET SEKTÖRLERİ',\n",
       "       'KOZMETİK', 'KUYUMCU', 'MOBİLYA, DEKORASYON', 'MOTOSİKLET',\n",
       "       'MUZIK MARKET KIRTASİYE', 'NAKİT AVANS', 'OPTİK', 'OTOMOTİV',\n",
       "       'OYUNCAK', 'RESTORAN', 'SAĞLIK',\n",
       "       'SEYAHAT ACENTALARI - TAŞIMACILIK', 'SPOR GİYİM', 'SİGORTA',\n",
       "       'SİGORTA-MAIL ORDER', 'SİNEMA TİYATRO SANAT', 'TEKNOLOJİ',\n",
       "       'TEKSTİL', 'TELEKOMÜNİKASYON', 'YAPI MALZ., HIRDAVAT, NALBURİYE',\n",
       "       'İÇKİLİ YERLER - KUMARHANE'], dtype=object)"
      ]
     },
     "execution_count": 189,
     "metadata": {},
     "output_type": "execute_result"
    }
   ],
   "source": [
    "demo_df.columns.values"
   ]
  },
  {
   "cell_type": "markdown",
   "id": "512ffeec-d4c6-4368-828f-396cd7dddead",
   "metadata": {},
   "source": [
    "# Data Processing"
   ]
  },
  {
   "cell_type": "code",
   "execution_count": 190,
   "id": "48ea74b3-a8ad-4637-8a70-45195ed85bb0",
   "metadata": {},
   "outputs": [],
   "source": [
    "#train/test split\n",
    "from sklearn.model_selection import train_test_split\n",
    "\n",
    "train_set, test_set = train_test_split(demo_df, test_size = 0.2, random_state = 16)"
   ]
  },
  {
   "cell_type": "code",
   "execution_count": 191,
   "id": "5ad1ffca-2242-46cc-b365-db317a8af65c",
   "metadata": {},
   "outputs": [],
   "source": [
    "# separate labels from feature matrix\n",
    "train_y = train_set['Marital_Status']\n",
    "train_X = train_set.drop('Marital_Status', axis = 1)\n",
    "test_y = test_set['Marital_Status']\n",
    "test_X = test_set.drop('Marital_Status', axis = 1)"
   ]
  },
  {
   "cell_type": "code",
   "execution_count": 192,
   "id": "32afe171-7c9e-4208-bc5d-f64154a3d94b",
   "metadata": {},
   "outputs": [],
   "source": [
    "#pipeline\n",
    "\n",
    "# locations, gender, marital status, education level, job status, penalties\n",
    "# Additional processing with full data set: drop home region branch region nulls\n",
    "\n",
    "from sklearn.pipeline import Pipeline\n",
    "from sklearn.preprocessing import StandardScaler\n",
    "from sklearn.impute import SimpleImputer\n",
    "\n",
    "num_pipeline = Pipeline([\n",
    "('imputer', SimpleImputer(strategy=\"median\")),\n",
    "('std_scaler', StandardScaler())\n",
    "])"
   ]
  },
  {
   "cell_type": "code",
   "execution_count": 193,
   "id": "dc41871b-0bce-492d-a5c1-d6423ebd0b3b",
   "metadata": {},
   "outputs": [],
   "source": [
    "from sklearn.preprocessing import OneHotEncoder\n",
    "\n",
    "cat_pipeline  = Pipeline([\n",
    "('cat_encoder', OneHotEncoder())\n",
    "])"
   ]
  },
  {
   "cell_type": "code",
   "execution_count": 194,
   "id": "5318b791-5926-4801-9be0-1be4dbdd2119",
   "metadata": {},
   "outputs": [],
   "source": [
    "from sklearn.compose import ColumnTransformer\n",
    "num_attribs = ['Branch_ID', 'Income', 'Age', 'Years_w_Bank', '1)RISKSIZ',\n",
    "       '2)GECIKME 1-15 GUN', '3)GECIKME 16-29 GUN', '4)GECIKME 30-59 GUN',\n",
    "       '5)GECIKME 60+ GUN', '6)TAKIP', 'statement_mean', 'statement_max',\n",
    "       'transaction1_mean', 'transaction1_max', 'transaction2_mean',\n",
    "       'transaction2_max', 'online_trans_percent',\n",
    "       'transaction_health_mean', 'transaction_health_max', 'AKARYAKIT',\n",
    "       'ALIŞVERİŞ MERKEZLERİ', 'ARABA KİRALAMA', 'AYAKKABI', 'BEYAZ EŞYA',\n",
    "       'DENİZ TAŞITLARI KİRALAMA, SATIŞ, BAKIM',\n",
    "       'DOĞRUDAN PAZARLAMA-MAIL ORDER', 'DİĞER', 'EĞLENCE VE SPOR',\n",
    "       'EĞİTİM', 'GIDA', 'HAVAYOLLARI', 'HOTEL', 'HİZMET SEKTÖRLERİ',\n",
    "       'KOZMETİK', 'KUYUMCU', 'MOBİLYA, DEKORASYON', 'MOTOSİKLET',\n",
    "       'MUZIK MARKET KIRTASİYE', 'NAKİT AVANS', 'OPTİK', 'OTOMOTİV',\n",
    "       'OYUNCAK', 'RESTORAN', 'SAĞLIK',\n",
    "       'SEYAHAT ACENTALARI - TAŞIMACILIK', 'SPOR GİYİM', 'SİGORTA',\n",
    "       'SİGORTA-MAIL ORDER', 'SİNEMA TİYATRO SANAT', 'TEKNOLOJİ',\n",
    "       'TEKSTİL', 'TELEKOMÜNİKASYON', 'YAPI MALZ., HIRDAVAT, NALBURİYE',\n",
    "       'İÇKİLİ YERLER - KUMARHANE']\n",
    "cat_attribs = ['Cust_Segment', 'Gender', 'Education_Lv', 'Job_Status', 'Work_Region', 'Home_Region', 'Branch_Region']\n",
    "\n",
    "full_pipeline = ColumnTransformer([\n",
    "(\"num\", num_pipeline, num_attribs),\n",
    "(\"cat\", cat_pipeline, cat_attribs), \n",
    "], remainder = 'passthrough')"
   ]
  },
  {
   "cell_type": "code",
   "execution_count": 195,
   "id": "e203dd85-e200-4bd9-9e1f-137c6b89e9eb",
   "metadata": {},
   "outputs": [],
   "source": [
    "train_X_prepared = full_pipeline.fit_transform(train_X)"
   ]
  },
  {
   "cell_type": "code",
   "execution_count": 196,
   "id": "e94bb48a-a879-47a1-9e60-b38072397a62",
   "metadata": {},
   "outputs": [],
   "source": [
    "train_y_md = (train_y == 'EVLİ')\n",
    "test_y_md = (test_y == 'EVLİ')"
   ]
  },
  {
   "cell_type": "markdown",
   "id": "e42c7c32-0525-4aeb-a827-4d51df6b0249",
   "metadata": {},
   "source": [
    "# Dimensionality Reduction"
   ]
  },
  {
   "cell_type": "code",
   "execution_count": 197,
   "id": "9c220f4b-69f0-49e7-a3a1-c0f190613705",
   "metadata": {},
   "outputs": [],
   "source": [
    "#pca\n",
    "from sklearn.decomposition import TruncatedSVD\n",
    "\n",
    "TruncSVD = TruncatedSVD(n_components = 63)\n",
    "TruncSVD.fit(train_X_prepared)\n",
    "cumsum = np.cumsum(TruncSVD.explained_variance_ratio_)\n",
    "d = np.argmax(cumsum >= 0.90) + 1"
   ]
  },
  {
   "cell_type": "code",
   "execution_count": 198,
   "id": "09e3ba6a-43c6-405d-9c3b-6ab67e995af1",
   "metadata": {},
   "outputs": [
    {
     "data": {
      "text/plain": [
       "44"
      ]
     },
     "execution_count": 198,
     "metadata": {},
     "output_type": "execute_result"
    }
   ],
   "source": [
    "d"
   ]
  },
  {
   "cell_type": "code",
   "execution_count": 199,
   "id": "c118f11f-543a-40dd-8db7-a4418854e2c4",
   "metadata": {},
   "outputs": [
    {
     "data": {
      "image/png": "[encoded data removed]",
      "text/plain": [
       "<Figure size 432x288 with 1 Axes>"
      ]
     },
     "metadata": {
      "needs_background": "light"
     },
     "output_type": "display_data"
    }
   ],
   "source": [
    "plt.figure(figsize=(6,4))\n",
    "plt.plot(cumsum, linewidth=3)\n",
    "plt.axis([0, 94, 0, 1])\n",
    "plt.xlabel(\"Dimensions\")\n",
    "plt.ylabel(\"Explained Variance\")\n",
    "plt.plot([d, d], [0, 0.90], \"k:\")\n",
    "plt.plot([0, d], [0.90, 0.90], \"k:\")\n",
    "plt.plot(d, 0.90, \"ko\")\n",
    "\n",
    "plt.grid(True)\n",
    "# save_fig(\"explained_variance_plot\")\n",
    "plt.show()\n",
    "\n",
    "# try 8 dimensions"
   ]
  },
  {
   "cell_type": "code",
   "execution_count": 202,
   "id": "eaac72e5-56eb-4c5e-a9e5-285e2516fab6",
   "metadata": {},
   "outputs": [],
   "source": [
    "TruncSVD = TruncatedSVD(n_components=44)\n",
    "X_reduced = TruncSVD.fit_transform(train_X_prepared)"
   ]
  },
  {
   "cell_type": "markdown",
   "id": "18095fd8-677a-445f-90c2-129b90dfb803",
   "metadata": {},
   "source": [
    "## Train Model"
   ]
  },
  {
   "cell_type": "markdown",
   "id": "e9fad1c2-607f-477b-8089-b766b418ce00",
   "metadata": {},
   "source": [
    "## Bagging Classifier"
   ]
  },
  {
   "cell_type": "code",
   "execution_count": 203,
   "id": "e546af69-081a-474b-8155-5c8e6c51a76f",
   "metadata": {},
   "outputs": [
    {
     "data": {
      "text/plain": [
       "0.7410380751293534"
      ]
     },
     "execution_count": 203,
     "metadata": {},
     "output_type": "execute_result"
    }
   ],
   "source": [
    "from sklearn.ensemble import BaggingClassifier\n",
    "from sklearn.tree import DecisionTreeClassifier\n",
    "\n",
    "bag_clf = BaggingClassifier(\n",
    "    DecisionTreeClassifier(max_depth=9, max_features=6), n_estimators=118,\n",
    "    max_samples=100, bootstrap=True, n_jobs=-1,\n",
    "    oob_score=True)\n",
    "\n",
    "bag_clf.fit(X_reduced, train_y_md)\n",
    "\n",
    "bag_clf.oob_score_"
   ]
  },
  {
   "cell_type": "code",
   "execution_count": 204,
   "id": "07e560f3-7e65-4ac7-b745-cb2c50b87ad3",
   "metadata": {},
   "outputs": [],
   "source": [
    "y_train_pred = bag_clf.predict(X_reduced)"
   ]
  },
  {
   "cell_type": "code",
   "execution_count": 205,
   "id": "54032523-6426-4370-93ac-5a189f8e5d6c",
   "metadata": {},
   "outputs": [
    {
     "data": {
      "text/plain": [
       "0.7424534211930671"
      ]
     },
     "execution_count": 205,
     "metadata": {},
     "output_type": "execute_result"
    }
   ],
   "source": [
    "from sklearn.metrics import accuracy_score\n",
    "\n",
    "accuracy_score(train_y_md, y_train_pred)"
   ]
  },
  {
   "cell_type": "code",
   "execution_count": 206,
   "id": "6dc43110-e744-4e60-a2cf-c4fa29b41fd2",
   "metadata": {},
   "outputs": [
    {
     "data": {
      "text/plain": [
       "array([[ 4698,  8996],\n",
       "       [ 2104, 27301]])"
      ]
     },
     "execution_count": 206,
     "metadata": {},
     "output_type": "execute_result"
    }
   ],
   "source": [
    "from sklearn.metrics import confusion_matrix\n",
    "\n",
    "confusion_matrix(train_y_md, y_train_pred)"
   ]
  },
  {
   "cell_type": "code",
   "execution_count": 207,
   "id": "73398dc6-4ea1-4267-b39c-dc202a8531b7",
   "metadata": {},
   "outputs": [
    {
     "data": {
      "text/plain": [
       "[(0.060536251489143815, 'Education_Lv'),\n",
       " (0.0383843305132823, 'Age'),\n",
       " (0.03651891374594328, 'Job_Status'),\n",
       " (0.03529600063761642, 'Cust_Segment'),\n",
       " (0.03180124044897223, 'Marital_Status'),\n",
       " (0.029873669620045284, 'Branch_ID'),\n",
       " (0.02924004726048784, 'HOTEL'),\n",
       " (0.025540264081646166, '4)GECIKME 30-59 GUN'),\n",
       " (0.0248067058579876, 'DİĞER'),\n",
       " (0.024691272411672495, 'EĞİTİM')]"
      ]
     },
     "execution_count": 207,
     "metadata": {},
     "output_type": "execute_result"
    }
   ],
   "source": [
    "feature_importances = np.mean([tree.feature_importances_ for tree in bag_clf.estimators_], axis=0)\n",
    "sorted(zip(feature_importances, demo_df), reverse=True)[0:10]"
   ]
  },
  {
   "cell_type": "markdown",
   "id": "7fa024b8-af5a-4d91-a5cd-bc81a2a2be6b",
   "metadata": {},
   "source": [
    "## AdaBoost"
   ]
  },
  {
   "cell_type": "code",
   "execution_count": 208,
   "id": "5efd36ad-02b9-4706-9ed6-91917d7936a3",
   "metadata": {},
   "outputs": [
    {
     "data": {
      "text/plain": [
       "AdaBoostClassifier(base_estimator=DecisionTreeClassifier(max_depth=3,\n",
       "                                                         max_features=4),\n",
       "                   learning_rate=0.1, n_estimators=265)"
      ]
     },
     "execution_count": 208,
     "metadata": {},
     "output_type": "execute_result"
    }
   ],
   "source": [
    "from sklearn.ensemble import AdaBoostClassifier\n",
    "\n",
    "ada_clf = AdaBoostClassifier(\n",
    "DecisionTreeClassifier(max_depth=3, max_features=4), n_estimators=265,\n",
    "algorithm=\"SAMME.R\", learning_rate=0.1)\n",
    "\n",
    "ada_clf.fit(X_reduced, train_y_md)"
   ]
  },
  {
   "cell_type": "code",
   "execution_count": 209,
   "id": "621058ee-3a39-4352-968c-741cdf4dc79d",
   "metadata": {},
   "outputs": [],
   "source": [
    "from sklearn.model_selection import cross_val_predict\n",
    "\n",
    "y_train_pred = ada_clf.predict(X_reduced)"
   ]
  },
  {
   "cell_type": "code",
   "execution_count": 210,
   "id": "faf37130-4ede-493d-8014-948f742b2e56",
   "metadata": {},
   "outputs": [
    {
     "data": {
      "text/plain": [
       "array([[ 6729,  6965],\n",
       "       [ 2643, 26762]])"
      ]
     },
     "execution_count": 210,
     "metadata": {},
     "output_type": "execute_result"
    }
   ],
   "source": [
    "confusion_matrix(train_y_md, y_train_pred)"
   ]
  },
  {
   "cell_type": "code",
   "execution_count": 211,
   "id": "ad0e716e-c703-45c3-9b3e-ed021eec52a3",
   "metadata": {},
   "outputs": [
    {
     "data": {
      "text/plain": [
       "0.7770713937678368"
      ]
     },
     "execution_count": 211,
     "metadata": {},
     "output_type": "execute_result"
    }
   ],
   "source": [
    "from sklearn.metrics import accuracy_score\n",
    "\n",
    "accuracy_score(train_y_md, y_train_pred)"
   ]
  },
  {
   "cell_type": "code",
   "execution_count": 212,
   "id": "ce93eac9-a4ee-4523-811d-6caedc5c4acf",
   "metadata": {},
   "outputs": [
    {
     "data": {
      "text/plain": [
       "[(0.07929476890782765, 'Education_Lv'),\n",
       " (0.06722244009554043, 'Job_Status'),\n",
       " (0.0551183648012321, 'Branch_ID'),\n",
       " (0.04857559344916192, 'Cust_Segment'),\n",
       " (0.040855324268317686, 'Home_Region'),\n",
       " (0.03893661502324558, 'Age'),\n",
       " (0.036384392961325014, 'HOTEL'),\n",
       " (0.03409635548583355, 'statement_mean'),\n",
       " (0.03247686001514202, 'Marital_Status'),\n",
       " (0.03152670594655002, '3)GECIKME 16-29 GUN')]"
      ]
     },
     "execution_count": 212,
     "metadata": {},
     "output_type": "execute_result"
    }
   ],
   "source": [
    "feature_importances = np.mean([tree.feature_importances_ for tree in ada_clf.estimators_], axis=0)\n",
    "sorted(zip(feature_importances, demo_df), reverse=True)[0:10]"
   ]
  },
  {
   "cell_type": "markdown",
   "id": "3e8843e8-6b5b-4631-83fb-173b914bba7a",
   "metadata": {},
   "source": [
    "## Gradient Boost"
   ]
  },
  {
   "cell_type": "code",
   "execution_count": 213,
   "id": "90e63b7d-173b-42de-8381-e928d8ce3aa8",
   "metadata": {
    "tags": []
   },
   "outputs": [],
   "source": [
    "from sklearn.ensemble import GradientBoostingClassifier"
   ]
  },
  {
   "cell_type": "code",
   "execution_count": 214,
   "id": "9183f098-d84c-42a9-8655-31b5dd523e33",
   "metadata": {
    "tags": []
   },
   "outputs": [
    {
     "data": {
      "text/plain": [
       "GradientBoostingClassifier(max_depth=9, max_features=3, n_estimators=265)"
      ]
     },
     "execution_count": 214,
     "metadata": {},
     "output_type": "execute_result"
    }
   ],
   "source": [
    "gbrt = GradientBoostingClassifier(max_depth=9, max_features=3, n_estimators=265, learning_rate=0.1)\n",
    "gbrt.fit(X_reduced, train_y_md)"
   ]
  },
  {
   "cell_type": "code",
   "execution_count": 215,
   "id": "3e6a3c3e-db11-4392-bded-2bd7c37be550",
   "metadata": {
    "tags": []
   },
   "outputs": [],
   "source": [
    "from sklearn.model_selection import cross_val_predict\n",
    "\n",
    "y_train_pred = gbrt.predict(X_reduced)"
   ]
  },
  {
   "cell_type": "code",
   "execution_count": 216,
   "id": "ae15c1f8-9b69-4231-abb2-f3130094b642",
   "metadata": {
    "tags": []
   },
   "outputs": [
    {
     "data": {
      "text/plain": [
       "0.995405925891552"
      ]
     },
     "execution_count": 216,
     "metadata": {},
     "output_type": "execute_result"
    }
   ],
   "source": [
    "from sklearn.metrics import accuracy_score\n",
    "\n",
    "accuracy_score(train_y_md, y_train_pred)"
   ]
  },
  {
   "cell_type": "code",
   "execution_count": 217,
   "id": "ad98a321-fed8-44f3-9c8c-1ea47381a301",
   "metadata": {},
   "outputs": [
    {
     "data": {
      "text/plain": [
       "array([[13499,   195],\n",
       "       [    3, 29402]])"
      ]
     },
     "execution_count": 217,
     "metadata": {},
     "output_type": "execute_result"
    }
   ],
   "source": [
    "from sklearn.metrics import confusion_matrix\n",
    "\n",
    "confusion_matrix(train_y_md, y_train_pred)"
   ]
  },
  {
   "cell_type": "code",
   "execution_count": 218,
   "id": "c115be37-5b83-4f2c-85be-800da8bb6141",
   "metadata": {},
   "outputs": [
    {
     "data": {
      "text/plain": [
       "[(0.060536251489143815, 'Education_Lv'),\n",
       " (0.0383843305132823, 'Age'),\n",
       " (0.03651891374594328, 'Job_Status'),\n",
       " (0.03529600063761642, 'Cust_Segment'),\n",
       " (0.03180124044897223, 'Marital_Status'),\n",
       " (0.029873669620045284, 'Branch_ID'),\n",
       " (0.02924004726048784, 'HOTEL'),\n",
       " (0.025540264081646166, '4)GECIKME 30-59 GUN'),\n",
       " (0.0248067058579876, 'DİĞER'),\n",
       " (0.024691272411672495, 'EĞİTİM')]"
      ]
     },
     "execution_count": 218,
     "metadata": {},
     "output_type": "execute_result"
    }
   ],
   "source": [
    "feature_importances = np.mean([tree.feature_importances_ for tree in bag_clf.estimators_], axis=0)\n",
    "sorted(zip(feature_importances, demo_df), reverse=True)[0:10]"
   ]
  },
  {
   "cell_type": "markdown",
   "id": "5ae6df84-85f8-4450-9ba6-09fe327cfbb6",
   "metadata": {},
   "source": [
    "## Neural Network"
   ]
  },
  {
   "cell_type": "code",
   "execution_count": 219,
   "id": "63931dee-e397-4098-8a41-d8b29338c2b7",
   "metadata": {},
   "outputs": [],
   "source": [
    "# import tensorflow as tf\n",
    "# from tensorflow import keras"
   ]
  },
  {
   "cell_type": "code",
   "execution_count": 220,
   "id": "24df3878-01b5-41fd-99d8-52e2344a2cd3",
   "metadata": {},
   "outputs": [],
   "source": [
    "# X_train, X_val, y_train, y_val = train_test_split(X_reduced, train_y_md)"
   ]
  },
  {
   "cell_type": "code",
   "execution_count": 221,
   "id": "416d2ff3-84d0-4a75-89d0-645242008bce",
   "metadata": {},
   "outputs": [],
   "source": [
    "# input_ = keras.layers.Input(shape=X_reduced.shape[1:])\n",
    "# hidden1 = keras.layers.Dense(100, activation=\"relu\")(input_)\n",
    "# hidden2 = keras.layers.Dense(100, activation=\"relu\")(hidden1)\n",
    "# output = keras.layers.Dense(1)(hidden2)\n",
    "# model = keras.models.Model(inputs=[input_], outputs=[output])\n",
    "# model.summary()"
   ]
  },
  {
   "cell_type": "code",
   "execution_count": 222,
   "id": "0e1b2efa-b9f4-4be8-9806-0c4268b06334",
   "metadata": {},
   "outputs": [],
   "source": [
    "# model.compile(loss=\"binary_crossentropy\",\n",
    "# metrics=[\"accuracy\"])\n"
   ]
  },
  {
   "cell_type": "code",
   "execution_count": 223,
   "id": "43e01e49-960c-4499-937b-43fabbb8b5b1",
   "metadata": {
    "tags": []
   },
   "outputs": [],
   "source": [
    " # history = model.fit(X_train, y_train, epochs=30,\n",
    " # validation_data=(X_val, y_val))\n"
   ]
  },
  {
   "cell_type": "markdown",
   "id": "627db4f1-9aea-4b5b-9d4f-3974648034a0",
   "metadata": {},
   "source": [
    "# Test data on test sets"
   ]
  },
  {
   "cell_type": "markdown",
   "id": "995f747c-a939-48c6-a676-94677d6a9baa",
   "metadata": {},
   "source": [
    "## Bagging Test"
   ]
  },
  {
   "cell_type": "code",
   "execution_count": 224,
   "id": "951af956-ad3f-4d28-868d-83e5882fe905",
   "metadata": {},
   "outputs": [],
   "source": [
    "test_X_prepared = full_pipeline.transform(test_X)\n",
    "test_X_reduced = TruncSVD.transform(test_X_prepared)"
   ]
  },
  {
   "cell_type": "code",
   "execution_count": 225,
   "id": "d1a063b7-68ae-403e-a094-9692c63557c9",
   "metadata": {},
   "outputs": [
    {
     "data": {
      "text/plain": [
       "0.7379118329466358"
      ]
     },
     "execution_count": 225,
     "metadata": {},
     "output_type": "execute_result"
    }
   ],
   "source": [
    "bag_y_pred = bag_clf.predict(test_X_reduced)\n",
    "accuracy_score(test_y_md, bag_y_pred)"
   ]
  },
  {
   "cell_type": "code",
   "execution_count": 226,
   "id": "ea4667e9-81a4-4aef-9d31-7b6c3293272b",
   "metadata": {},
   "outputs": [
    {
     "data": {
      "image/png": "[encoded data removed]",
      "text/plain": [
       "<Figure size 576x432 with 1 Axes>"
      ]
     },
     "metadata": {
      "needs_background": "light"
     },
     "output_type": "display_data"
    }
   ],
   "source": [
    "from sklearn.metrics import roc_curve\n",
    "\n",
    "fpr, tpr, thresholds = roc_curve(test_y_md, bag_y_pred)\n",
    "\n",
    "def plot_roc_curve(fpr, tpr, label=None):\n",
    "    plt.plot(fpr, tpr, linewidth=2, label=label)\n",
    "    plt.plot([0, 1], [0, 1], 'k--') # dashed diagonal\n",
    "    plt.axis([0, 1, 0, 1])                                    # Not shown in the book\n",
    "    plt.xlabel('False Positive Rate (Fall-Out)', fontsize=16) # Not shown\n",
    "    plt.ylabel('True Positive Rate (Recall)', fontsize=16)    # Not shown\n",
    "    plt.grid(True)                                            # Not shown\n",
    "\n",
    "plt.figure(figsize=(8, 6))                                    # Not shown\n",
    "plot_roc_curve(fpr, tpr)\n",
    "plt.show()"
   ]
  },
  {
   "cell_type": "markdown",
   "id": "b2a724cc-f3de-4b72-930d-a3aaa11463aa",
   "metadata": {},
   "source": [
    "## AdaBoost Test"
   ]
  },
  {
   "cell_type": "code",
   "execution_count": 227,
   "id": "6b659bfc-8f1f-46b1-9eb5-cf5fb09081e7",
   "metadata": {},
   "outputs": [
    {
     "data": {
      "text/plain": [
       "0.7589791183294664"
      ]
     },
     "execution_count": 227,
     "metadata": {},
     "output_type": "execute_result"
    }
   ],
   "source": [
    "ada_y_pred = ada_clf.predict(test_X_reduced)\n",
    "accuracy_score(test_y_md, ada_y_pred)"
   ]
  },
  {
   "cell_type": "code",
   "execution_count": 228,
   "id": "c87394a1-0715-4831-8819-06f26d7b5b23",
   "metadata": {},
   "outputs": [
    {
     "data": {
      "image/png": "[encoded data removed]",
      "text/plain": [
       "<Figure size 576x432 with 1 Axes>"
      ]
     },
     "metadata": {
      "needs_background": "light"
     },
     "output_type": "display_data"
    }
   ],
   "source": [
    "from sklearn.metrics import roc_curve\n",
    "\n",
    "fpr, tpr, thresholds = roc_curve(test_y_md, ada_y_pred)\n",
    "\n",
    "def plot_roc_curve(fpr, tpr, label=None):\n",
    "    plt.plot(fpr, tpr, linewidth=2, label=label)\n",
    "    plt.plot([0, 1], [0, 1], 'k--') # dashed diagonal\n",
    "    plt.axis([0, 1, 0, 1])                                    # Not shown in the book\n",
    "    plt.xlabel('False Positive Rate (Fall-Out)', fontsize=16) # Not shown\n",
    "    plt.ylabel('True Positive Rate (Recall)', fontsize=16)    # Not shown\n",
    "    plt.grid(True)                                            # Not shown\n",
    "\n",
    "plt.figure(figsize=(8, 6))                                    # Not shown\n",
    "plot_roc_curve(fpr, tpr)\n",
    "plt.show()"
   ]
  },
  {
   "cell_type": "markdown",
   "id": "8cf4c477-89d2-4631-b40e-c3174e9e27cf",
   "metadata": {},
   "source": [
    "## GradientBoost Test"
   ]
  },
  {
   "cell_type": "code",
   "execution_count": 229,
   "id": "b2f0e3c7-aa0a-4ded-ad04-09d38055190a",
   "metadata": {},
   "outputs": [
    {
     "data": {
      "text/plain": [
       "0.7625986078886311"
      ]
     },
     "execution_count": 229,
     "metadata": {},
     "output_type": "execute_result"
    }
   ],
   "source": [
    "gbrt_y_pred = gbrt.predict(test_X_reduced)\n",
    "accuracy_score(test_y_md, gbrt_y_pred)"
   ]
  },
  {
   "cell_type": "code",
   "execution_count": 230,
   "id": "a9ec915c-e844-40de-9056-7baee0e00ece",
   "metadata": {},
   "outputs": [
    {
     "data": {
      "image/png": "[encoded data removed]",
      "text/plain": [
       "<Figure size 576x432 with 1 Axes>"
      ]
     },
     "metadata": {
      "needs_background": "light"
     },
     "output_type": "display_data"
    }
   ],
   "source": [
    "from sklearn.metrics import roc_curve\n",
    "\n",
    "fpr, tpr, thresholds = roc_curve(test_y_md, gbrt_y_pred)\n",
    "\n",
    "def plot_roc_curve(fpr, tpr, label=None):\n",
    "    plt.plot(fpr, tpr, linewidth=2, label=label)\n",
    "    plt.plot([0, 1], [0, 1], 'k--') # dashed diagonal\n",
    "    plt.axis([0, 1, 0, 1])                                    # Not shown in the book\n",
    "    plt.xlabel('False Positive Rate (Fall-Out)', fontsize=16) # Not shown\n",
    "    plt.ylabel('True Positive Rate (Recall)', fontsize=16)    # Not shown\n",
    "    plt.grid(True)                                            # Not shown\n",
    "\n",
    "plt.figure(figsize=(8, 6))                                    # Not shown\n",
    "plot_roc_curve(fpr, tpr)\n",
    "plt.show()"
   ]
  }
 ],
 "metadata": {
  "kernelspec": {
   "display_name": "Python 3 (ipykernel)",
   "language": "python",
   "name": "python3"
  },
  "language_info": {
   "codemirror_mode": {
    "name": "ipython",
    "version": 3
   },
   "file_extension": ".py",
   "mimetype": "text/x-python",
   "name": "python",
   "nbconvert_exporter": "python",
   "pygments_lexer": "ipython3",
   "version": "3.9.5"
  }
 },
 "nbformat": 4,
 "nbformat_minor": 5
}
