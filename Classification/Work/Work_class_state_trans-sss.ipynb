{
 "cells": [
  {
   "cell_type": "markdown",
   "id": "695c573e-02af-4c9c-b616-6b142fa79b39",
   "metadata": {
    "tags": []
   },
   "source": [
    "# Work Status Classification (Private vs. Public vs. No Income)"
   ]
  },
  {
   "cell_type": "code",
   "execution_count": 1,
   "id": "b3541946-9622-41e1-b131-d16c064a4db5",
   "metadata": {},
   "outputs": [],
   "source": [
    "# import packages\n",
    "import sklearn\n",
    "import numpy as np\n",
    "import pandas as pd\n",
    "%matplotlib inline\n",
    "import matplotlib as mpl\n",
    "import matplotlib.pyplot as plt\n",
    "\n",
    "np.random.seed(16)"
   ]
  },
  {
   "cell_type": "code",
   "execution_count": 2,
   "id": "06a6335f-cb24-4f6a-af7c-e215bbd23e9f",
   "metadata": {},
   "outputs": [
    {
     "name": "stdout",
     "output_type": "stream",
     "text": [
      "<class 'pandas.core.frame.DataFrame'>\n",
      "RangeIndex: 10321 entries, 0 to 10320\n",
      "Data columns (total 33 columns):\n",
      " #   Column                   Non-Null Count  Dtype  \n",
      "---  ------                   --------------  -----  \n",
      " 0   Unnamed: 0               10321 non-null  int64  \n",
      " 1   Cust_ID                  10321 non-null  int64  \n",
      " 2   Cust_Segment             10321 non-null  object \n",
      " 3   Branch_ID                10321 non-null  int64  \n",
      " 4   Gender                   10321 non-null  object \n",
      " 5   Marital_Status           10321 non-null  object \n",
      " 6   Education_Lv             10321 non-null  object \n",
      " 7   Job_Status               10321 non-null  object \n",
      " 8   Income                   10080 non-null  float64\n",
      " 9   Age                      10321 non-null  int64  \n",
      " 10  Years_w_Bank             10321 non-null  float64\n",
      " 11  Work_Region              10321 non-null  object \n",
      " 12  Home_Region              10321 non-null  object \n",
      " 13  Branch_Region            10321 non-null  object \n",
      " 14  1)RISKSIZ                10321 non-null  float64\n",
      " 15  2)GECIKME 1-15 GUN       10321 non-null  float64\n",
      " 16  3)GECIKME 16-29 GUN      10321 non-null  float64\n",
      " 17  4)GECIKME 30-59 GUN      10321 non-null  float64\n",
      " 18  5)GECIKME 60+ GUN        10321 non-null  float64\n",
      " 19  6)TAKIP                  10321 non-null  float64\n",
      " 20  statement_mean           10224 non-null  float64\n",
      " 21  statement_max            10224 non-null  float64\n",
      " 22  transaction1_mean        10083 non-null  float64\n",
      " 23  transaction1_max         10083 non-null  float64\n",
      " 24  transaction2_mean        10136 non-null  float64\n",
      " 25  transaction2_max         10136 non-null  float64\n",
      " 26  online_trans_percent     10136 non-null  float64\n",
      " 27  transaction_food_mean    8874 non-null   float64\n",
      " 28  transaction_food_max     8874 non-null   float64\n",
      " 29  transaction_health_mean  5360 non-null   float64\n",
      " 30  transaction_health_max   5360 non-null   float64\n",
      " 31  transaction_gas_mean     5847 non-null   float64\n",
      " 32  transaction_gas_max      5847 non-null   float64\n",
      "dtypes: float64(21), int64(4), object(8)\n",
      "memory usage: 2.6+ MB\n"
     ]
    }
   ],
   "source": [
    "# load data\n",
    "csv_file = \"~/IDC5210_Machine_Learning/Project/Translated_data/demos_w_state_trans_sample10k.csv\"\n",
    "demo_df = pd.read_csv(csv_file)\n",
    "demo_df.info()"
   ]
  },
  {
   "cell_type": "code",
   "execution_count": 3,
   "id": "edfc8fbb-7c0d-4fad-840f-578efa70106c",
   "metadata": {},
   "outputs": [
    {
     "name": "stdout",
     "output_type": "stream",
     "text": [
      "<class 'pandas.core.frame.DataFrame'>\n",
      "RangeIndex: 10321 entries, 0 to 10320\n",
      "Data columns (total 32 columns):\n",
      " #   Column                   Non-Null Count  Dtype  \n",
      "---  ------                   --------------  -----  \n",
      " 0   Cust_ID                  10321 non-null  int64  \n",
      " 1   Cust_Segment             10321 non-null  object \n",
      " 2   Branch_ID                10321 non-null  int64  \n",
      " 3   Gender                   10321 non-null  object \n",
      " 4   Marital_Status           10321 non-null  object \n",
      " 5   Education_Lv             10321 non-null  object \n",
      " 6   Job_Status               10321 non-null  object \n",
      " 7   Income                   10080 non-null  float64\n",
      " 8   Age                      10321 non-null  int64  \n",
      " 9   Years_w_Bank             10321 non-null  float64\n",
      " 10  Work_Region              10321 non-null  object \n",
      " 11  Home_Region              10321 non-null  object \n",
      " 12  Branch_Region            10321 non-null  object \n",
      " 13  1)RISKSIZ                10321 non-null  float64\n",
      " 14  2)GECIKME 1-15 GUN       10321 non-null  float64\n",
      " 15  3)GECIKME 16-29 GUN      10321 non-null  float64\n",
      " 16  4)GECIKME 30-59 GUN      10321 non-null  float64\n",
      " 17  5)GECIKME 60+ GUN        10321 non-null  float64\n",
      " 18  6)TAKIP                  10321 non-null  float64\n",
      " 19  statement_mean           10224 non-null  float64\n",
      " 20  statement_max            10224 non-null  float64\n",
      " 21  transaction1_mean        10083 non-null  float64\n",
      " 22  transaction1_max         10083 non-null  float64\n",
      " 23  transaction2_mean        10136 non-null  float64\n",
      " 24  transaction2_max         10136 non-null  float64\n",
      " 25  online_trans_percent     10136 non-null  float64\n",
      " 26  transaction_food_mean    8874 non-null   float64\n",
      " 27  transaction_food_max     8874 non-null   float64\n",
      " 28  transaction_health_mean  5360 non-null   float64\n",
      " 29  transaction_health_max   5360 non-null   float64\n",
      " 30  transaction_gas_mean     5847 non-null   float64\n",
      " 31  transaction_gas_max      5847 non-null   float64\n",
      "dtypes: float64(21), int64(3), object(8)\n",
      "memory usage: 2.5+ MB\n"
     ]
    }
   ],
   "source": [
    "# drop unnecessary columns\n",
    "demo_df.drop([\"Unnamed: 0\"], axis = 1, inplace=True)\n",
    "demo_df.info()"
   ]
  },
  {
   "cell_type": "code",
   "execution_count": 4,
   "id": "550b698c-7cbb-4fdd-85d9-f9c330fc20d5",
   "metadata": {},
   "outputs": [],
   "source": [
    "# # count risk types per row\n",
    "# risk_counts = demo_df.iloc[:,10:22].apply(pd.Series.value_counts, axis=1)\n",
    "# risk_counts = risk_counts.fillna(0)"
   ]
  },
  {
   "cell_type": "code",
   "execution_count": 5,
   "id": "04d95791-1c22-44b4-b745-a7c0f3bbffe0",
   "metadata": {},
   "outputs": [],
   "source": [
    "# risk_counts"
   ]
  },
  {
   "cell_type": "code",
   "execution_count": 6,
   "id": "f44426e3-54d0-4f49-99f4-2ba73be00609",
   "metadata": {},
   "outputs": [],
   "source": [
    "# demo_df = demo_df.join(risk_counts)\n",
    "# demo_df"
   ]
  },
  {
   "cell_type": "code",
   "execution_count": 7,
   "id": "ec6234ec-bafc-4898-a787-9b4d6a901cfa",
   "metadata": {},
   "outputs": [],
   "source": [
    "# demo_df.drop(['.','Penalty_201407', 'Penalty_201408', 'Penalty_201409', \n",
    "#                   'Penalty_201410', 'Penalty_201411', 'Penalty_201412', 'Penalty_201501',\n",
    "#                   'Penalty_201502', 'Penalty_201503', 'Penalty_201504', 'Penalty_201505', \n",
    "#                   'Penalty_201506'], axis = 1, inplace=True)"
   ]
  },
  {
   "cell_type": "code",
   "execution_count": 8,
   "id": "b5bd17f1-776a-4ac2-bd5d-9701042c66bc",
   "metadata": {},
   "outputs": [],
   "source": [
    "demo_df.replace(to_replace=['ÜCRETLİ (ÖZEL)', 'SERBEST MESLEK', 'ÇALIŞAN EMEKLİ(SERBEST MESLEK)'], value = 'PRIVATE', inplace=True)\n",
    "demo_df.replace(to_replace=['ÇALIŞAN EMEKLİ(ÜCRETLİ)', 'ÜCRETLI (KAMU)'], value= 'PUBLIC', inplace = True)\n",
    "demo_df.replace(to_replace=['EMEKLİ', 'ÇALIŞMIYOR', 'EV HANIMI', 'ÖĞRENCİ', 'ÇOCUK (18 YAŞIN ALTINDA)'], value= 'UNEMPLOYED', inplace = True)"
   ]
  },
  {
   "cell_type": "code",
   "execution_count": 9,
   "id": "f15e38d0-9bf0-464e-8806-6177943d1482",
   "metadata": {},
   "outputs": [
    {
     "data": {
      "text/html": [
       "<div>\n",
       "<style scoped>\n",
       "    .dataframe tbody tr th:only-of-type {\n",
       "        vertical-align: middle;\n",
       "    }\n",
       "\n",
       "    .dataframe tbody tr th {\n",
       "        vertical-align: top;\n",
       "    }\n",
       "\n",
       "    .dataframe thead th {\n",
       "        text-align: right;\n",
       "    }\n",
       "</style>\n",
       "<table border=\"1\" class=\"dataframe\">\n",
       "  <thead>\n",
       "    <tr style=\"text-align: right;\">\n",
       "      <th></th>\n",
       "      <th>Cust_ID</th>\n",
       "      <th>Cust_Segment</th>\n",
       "      <th>Branch_ID</th>\n",
       "      <th>Gender</th>\n",
       "      <th>Marital_Status</th>\n",
       "      <th>Education_Lv</th>\n",
       "      <th>Job_Status</th>\n",
       "      <th>Income</th>\n",
       "      <th>Age</th>\n",
       "      <th>Years_w_Bank</th>\n",
       "      <th>...</th>\n",
       "      <th>transaction1_max</th>\n",
       "      <th>transaction2_mean</th>\n",
       "      <th>transaction2_max</th>\n",
       "      <th>online_trans_percent</th>\n",
       "      <th>transaction_food_mean</th>\n",
       "      <th>transaction_food_max</th>\n",
       "      <th>transaction_health_mean</th>\n",
       "      <th>transaction_health_max</th>\n",
       "      <th>transaction_gas_mean</th>\n",
       "      <th>transaction_gas_max</th>\n",
       "    </tr>\n",
       "  </thead>\n",
       "  <tbody>\n",
       "    <tr>\n",
       "      <th>0</th>\n",
       "      <td>6192286</td>\n",
       "      <td>BİREYSEL</td>\n",
       "      <td>638</td>\n",
       "      <td>E</td>\n",
       "      <td>EVLİ</td>\n",
       "      <td>Graduate</td>\n",
       "      <td>UNEMPLOYED</td>\n",
       "      <td>3000.0</td>\n",
       "      <td>48</td>\n",
       "      <td>15.0</td>\n",
       "      <td>...</td>\n",
       "      <td>1442.27</td>\n",
       "      <td>532.626923</td>\n",
       "      <td>3416.80</td>\n",
       "      <td>0.692308</td>\n",
       "      <td>NaN</td>\n",
       "      <td>NaN</td>\n",
       "      <td>NaN</td>\n",
       "      <td>NaN</td>\n",
       "      <td>NaN</td>\n",
       "      <td>NaN</td>\n",
       "    </tr>\n",
       "    <tr>\n",
       "      <th>1</th>\n",
       "      <td>24108556</td>\n",
       "      <td>BİREYSEL</td>\n",
       "      <td>170</td>\n",
       "      <td>E</td>\n",
       "      <td>BEKAR</td>\n",
       "      <td>University</td>\n",
       "      <td>PRIVATE</td>\n",
       "      <td>1000.0</td>\n",
       "      <td>22</td>\n",
       "      <td>3.0</td>\n",
       "      <td>...</td>\n",
       "      <td>1100.00</td>\n",
       "      <td>50.214500</td>\n",
       "      <td>154.34</td>\n",
       "      <td>0.800000</td>\n",
       "      <td>11.000000</td>\n",
       "      <td>11.00</td>\n",
       "      <td>NaN</td>\n",
       "      <td>NaN</td>\n",
       "      <td>NaN</td>\n",
       "      <td>NaN</td>\n",
       "    </tr>\n",
       "    <tr>\n",
       "      <th>2</th>\n",
       "      <td>10298005</td>\n",
       "      <td>BİREYSEL</td>\n",
       "      <td>212</td>\n",
       "      <td>E</td>\n",
       "      <td>EVLİ</td>\n",
       "      <td>University</td>\n",
       "      <td>PRIVATE</td>\n",
       "      <td>4000.0</td>\n",
       "      <td>34</td>\n",
       "      <td>12.0</td>\n",
       "      <td>...</td>\n",
       "      <td>3285.00</td>\n",
       "      <td>725.938182</td>\n",
       "      <td>2888.54</td>\n",
       "      <td>0.318182</td>\n",
       "      <td>1152.464615</td>\n",
       "      <td>2888.54</td>\n",
       "      <td>NaN</td>\n",
       "      <td>NaN</td>\n",
       "      <td>NaN</td>\n",
       "      <td>NaN</td>\n",
       "    </tr>\n",
       "    <tr>\n",
       "      <th>3</th>\n",
       "      <td>26465153</td>\n",
       "      <td>BİREYSEL</td>\n",
       "      <td>1239</td>\n",
       "      <td>E</td>\n",
       "      <td>BEKAR</td>\n",
       "      <td>HS_below</td>\n",
       "      <td>PRIVATE</td>\n",
       "      <td>1200.0</td>\n",
       "      <td>24</td>\n",
       "      <td>1.0</td>\n",
       "      <td>...</td>\n",
       "      <td>750.00</td>\n",
       "      <td>34.681111</td>\n",
       "      <td>750.00</td>\n",
       "      <td>0.000000</td>\n",
       "      <td>15.854348</td>\n",
       "      <td>49.06</td>\n",
       "      <td>NaN</td>\n",
       "      <td>NaN</td>\n",
       "      <td>12.464286</td>\n",
       "      <td>26.25</td>\n",
       "    </tr>\n",
       "    <tr>\n",
       "      <th>4</th>\n",
       "      <td>25359275</td>\n",
       "      <td>BİREYSEL</td>\n",
       "      <td>1277</td>\n",
       "      <td>E</td>\n",
       "      <td>EVLİ</td>\n",
       "      <td>HS_below</td>\n",
       "      <td>PRIVATE</td>\n",
       "      <td>1500.0</td>\n",
       "      <td>40</td>\n",
       "      <td>2.0</td>\n",
       "      <td>...</td>\n",
       "      <td>170.00</td>\n",
       "      <td>1100.000000</td>\n",
       "      <td>1100.00</td>\n",
       "      <td>0.000000</td>\n",
       "      <td>NaN</td>\n",
       "      <td>NaN</td>\n",
       "      <td>NaN</td>\n",
       "      <td>NaN</td>\n",
       "      <td>NaN</td>\n",
       "      <td>NaN</td>\n",
       "    </tr>\n",
       "    <tr>\n",
       "      <th>...</th>\n",
       "      <td>...</td>\n",
       "      <td>...</td>\n",
       "      <td>...</td>\n",
       "      <td>...</td>\n",
       "      <td>...</td>\n",
       "      <td>...</td>\n",
       "      <td>...</td>\n",
       "      <td>...</td>\n",
       "      <td>...</td>\n",
       "      <td>...</td>\n",
       "      <td>...</td>\n",
       "      <td>...</td>\n",
       "      <td>...</td>\n",
       "      <td>...</td>\n",
       "      <td>...</td>\n",
       "      <td>...</td>\n",
       "      <td>...</td>\n",
       "      <td>...</td>\n",
       "      <td>...</td>\n",
       "      <td>...</td>\n",
       "      <td>...</td>\n",
       "    </tr>\n",
       "    <tr>\n",
       "      <th>10316</th>\n",
       "      <td>22846993</td>\n",
       "      <td>BİREYSEL</td>\n",
       "      <td>153</td>\n",
       "      <td>E</td>\n",
       "      <td>EVLİ</td>\n",
       "      <td>HS_below</td>\n",
       "      <td>PUBLIC</td>\n",
       "      <td>4000.0</td>\n",
       "      <td>50</td>\n",
       "      <td>3.0</td>\n",
       "      <td>...</td>\n",
       "      <td>2900.00</td>\n",
       "      <td>140.926667</td>\n",
       "      <td>728.00</td>\n",
       "      <td>0.166667</td>\n",
       "      <td>36.381250</td>\n",
       "      <td>66.24</td>\n",
       "      <td>NaN</td>\n",
       "      <td>NaN</td>\n",
       "      <td>174.851000</td>\n",
       "      <td>728.00</td>\n",
       "    </tr>\n",
       "    <tr>\n",
       "      <th>10317</th>\n",
       "      <td>15517038</td>\n",
       "      <td>MİKRO</td>\n",
       "      <td>250</td>\n",
       "      <td>E</td>\n",
       "      <td>EVLİ</td>\n",
       "      <td>HS_below</td>\n",
       "      <td>PRIVATE</td>\n",
       "      <td>20000.0</td>\n",
       "      <td>39</td>\n",
       "      <td>8.0</td>\n",
       "      <td>...</td>\n",
       "      <td>855.00</td>\n",
       "      <td>77.776410</td>\n",
       "      <td>320.00</td>\n",
       "      <td>0.128205</td>\n",
       "      <td>62.153333</td>\n",
       "      <td>124.85</td>\n",
       "      <td>NaN</td>\n",
       "      <td>NaN</td>\n",
       "      <td>NaN</td>\n",
       "      <td>NaN</td>\n",
       "    </tr>\n",
       "    <tr>\n",
       "      <th>10318</th>\n",
       "      <td>9609664</td>\n",
       "      <td>BİREYSEL</td>\n",
       "      <td>175</td>\n",
       "      <td>E</td>\n",
       "      <td>EVLİ</td>\n",
       "      <td>HS_below</td>\n",
       "      <td>PRIVATE</td>\n",
       "      <td>2000.0</td>\n",
       "      <td>28</td>\n",
       "      <td>12.0</td>\n",
       "      <td>...</td>\n",
       "      <td>1200.00</td>\n",
       "      <td>101.471375</td>\n",
       "      <td>1200.00</td>\n",
       "      <td>0.000000</td>\n",
       "      <td>66.415278</td>\n",
       "      <td>257.70</td>\n",
       "      <td>NaN</td>\n",
       "      <td>NaN</td>\n",
       "      <td>41.211739</td>\n",
       "      <td>165.40</td>\n",
       "    </tr>\n",
       "    <tr>\n",
       "      <th>10319</th>\n",
       "      <td>17967317</td>\n",
       "      <td>BİREYSEL</td>\n",
       "      <td>596</td>\n",
       "      <td>E</td>\n",
       "      <td>EVLİ</td>\n",
       "      <td>HS_below</td>\n",
       "      <td>PRIVATE</td>\n",
       "      <td>970.0</td>\n",
       "      <td>43</td>\n",
       "      <td>7.0</td>\n",
       "      <td>...</td>\n",
       "      <td>400.00</td>\n",
       "      <td>31.148438</td>\n",
       "      <td>150.00</td>\n",
       "      <td>0.000000</td>\n",
       "      <td>23.453125</td>\n",
       "      <td>144.00</td>\n",
       "      <td>NaN</td>\n",
       "      <td>NaN</td>\n",
       "      <td>26.800000</td>\n",
       "      <td>50.00</td>\n",
       "    </tr>\n",
       "    <tr>\n",
       "      <th>10320</th>\n",
       "      <td>15189560</td>\n",
       "      <td>BİREYSEL</td>\n",
       "      <td>29</td>\n",
       "      <td>K</td>\n",
       "      <td>EVLİ</td>\n",
       "      <td>HS_below</td>\n",
       "      <td>UNEMPLOYED</td>\n",
       "      <td>6000.0</td>\n",
       "      <td>48</td>\n",
       "      <td>9.0</td>\n",
       "      <td>...</td>\n",
       "      <td>3867.89</td>\n",
       "      <td>119.568462</td>\n",
       "      <td>554.03</td>\n",
       "      <td>0.230769</td>\n",
       "      <td>33.896667</td>\n",
       "      <td>109.00</td>\n",
       "      <td>NaN</td>\n",
       "      <td>NaN</td>\n",
       "      <td>NaN</td>\n",
       "      <td>NaN</td>\n",
       "    </tr>\n",
       "  </tbody>\n",
       "</table>\n",
       "<p>10321 rows × 32 columns</p>\n",
       "</div>"
      ],
      "text/plain": [
       "        Cust_ID Cust_Segment  Branch_ID Gender Marital_Status Education_Lv  \\\n",
       "0       6192286     BİREYSEL        638      E           EVLİ     Graduate   \n",
       "1      24108556     BİREYSEL        170      E          BEKAR   University   \n",
       "2      10298005     BİREYSEL        212      E           EVLİ   University   \n",
       "3      26465153     BİREYSEL       1239      E          BEKAR     HS_below   \n",
       "4      25359275     BİREYSEL       1277      E           EVLİ     HS_below   \n",
       "...         ...          ...        ...    ...            ...          ...   \n",
       "10316  22846993     BİREYSEL        153      E           EVLİ     HS_below   \n",
       "10317  15517038        MİKRO        250      E           EVLİ     HS_below   \n",
       "10318   9609664     BİREYSEL        175      E           EVLİ     HS_below   \n",
       "10319  17967317     BİREYSEL        596      E           EVLİ     HS_below   \n",
       "10320  15189560     BİREYSEL         29      K           EVLİ     HS_below   \n",
       "\n",
       "       Job_Status   Income  Age  Years_w_Bank  ... transaction1_max  \\\n",
       "0      UNEMPLOYED   3000.0   48          15.0  ...          1442.27   \n",
       "1         PRIVATE   1000.0   22           3.0  ...          1100.00   \n",
       "2         PRIVATE   4000.0   34          12.0  ...          3285.00   \n",
       "3         PRIVATE   1200.0   24           1.0  ...           750.00   \n",
       "4         PRIVATE   1500.0   40           2.0  ...           170.00   \n",
       "...           ...      ...  ...           ...  ...              ...   \n",
       "10316      PUBLIC   4000.0   50           3.0  ...          2900.00   \n",
       "10317     PRIVATE  20000.0   39           8.0  ...           855.00   \n",
       "10318     PRIVATE   2000.0   28          12.0  ...          1200.00   \n",
       "10319     PRIVATE    970.0   43           7.0  ...           400.00   \n",
       "10320  UNEMPLOYED   6000.0   48           9.0  ...          3867.89   \n",
       "\n",
       "      transaction2_mean transaction2_max  online_trans_percent  \\\n",
       "0            532.626923          3416.80              0.692308   \n",
       "1             50.214500           154.34              0.800000   \n",
       "2            725.938182          2888.54              0.318182   \n",
       "3             34.681111           750.00              0.000000   \n",
       "4           1100.000000          1100.00              0.000000   \n",
       "...                 ...              ...                   ...   \n",
       "10316        140.926667           728.00              0.166667   \n",
       "10317         77.776410           320.00              0.128205   \n",
       "10318        101.471375          1200.00              0.000000   \n",
       "10319         31.148438           150.00              0.000000   \n",
       "10320        119.568462           554.03              0.230769   \n",
       "\n",
       "       transaction_food_mean  transaction_food_max  transaction_health_mean  \\\n",
       "0                        NaN                   NaN                      NaN   \n",
       "1                  11.000000                 11.00                      NaN   \n",
       "2                1152.464615               2888.54                      NaN   \n",
       "3                  15.854348                 49.06                      NaN   \n",
       "4                        NaN                   NaN                      NaN   \n",
       "...                      ...                   ...                      ...   \n",
       "10316              36.381250                 66.24                      NaN   \n",
       "10317              62.153333                124.85                      NaN   \n",
       "10318              66.415278                257.70                      NaN   \n",
       "10319              23.453125                144.00                      NaN   \n",
       "10320              33.896667                109.00                      NaN   \n",
       "\n",
       "       transaction_health_max  transaction_gas_mean  transaction_gas_max  \n",
       "0                         NaN                   NaN                  NaN  \n",
       "1                         NaN                   NaN                  NaN  \n",
       "2                         NaN                   NaN                  NaN  \n",
       "3                         NaN             12.464286                26.25  \n",
       "4                         NaN                   NaN                  NaN  \n",
       "...                       ...                   ...                  ...  \n",
       "10316                     NaN            174.851000               728.00  \n",
       "10317                     NaN                   NaN                  NaN  \n",
       "10318                     NaN             41.211739               165.40  \n",
       "10319                     NaN             26.800000                50.00  \n",
       "10320                     NaN                   NaN                  NaN  \n",
       "\n",
       "[10321 rows x 32 columns]"
      ]
     },
     "execution_count": 9,
     "metadata": {},
     "output_type": "execute_result"
    }
   ],
   "source": [
    "demo_df"
   ]
  },
  {
   "cell_type": "code",
   "execution_count": 10,
   "id": "2e8d81d3-9abd-46f2-81ee-f0ca82fa9293",
   "metadata": {},
   "outputs": [
    {
     "name": "stdout",
     "output_type": "stream",
     "text": [
      "<class 'pandas.core.frame.DataFrame'>\n",
      "RangeIndex: 9334625 entries, 0 to 9334624\n",
      "Data columns (total 12 columns):\n",
      " #   Column          Dtype  \n",
      "---  ------          -----  \n",
      " 0   Unnamed: 0      int64  \n",
      " 1   Cust_ID         int64  \n",
      " 2   Trans_Data      object \n",
      " 3   Trans_Time      object \n",
      " 4   Trans_Amt       float64\n",
      " 5   Category        object \n",
      " 6   Merchant_ID     int64  \n",
      " 7   Online_Trans    int64  \n",
      " 8   Trans_Type      object \n",
      " 9   Trans_Currency  object \n",
      " 10  X               float64\n",
      " 11  Y               float64\n",
      "dtypes: float64(3), int64(4), object(5)\n",
      "memory usage: 854.6+ MB\n"
     ]
    }
   ],
   "source": [
    "csv_file2 = \"~/IDC5210_Machine_Learning/Project/Translated_data/transactions(SU_ORNEKLEM_KK_HAR_BILGI).csv\"\n",
    "transactions = pd.read_csv(csv_file2, dtype={'Category': 'str'})\n",
    "transactions.info()"
   ]
  },
  {
   "cell_type": "code",
   "execution_count": 11,
   "id": "f831198d-8e49-407d-af61-dfd38de03302",
   "metadata": {},
   "outputs": [
    {
     "data": {
      "text/html": [
       "<div>\n",
       "<style scoped>\n",
       "    .dataframe tbody tr th:only-of-type {\n",
       "        vertical-align: middle;\n",
       "    }\n",
       "\n",
       "    .dataframe tbody tr th {\n",
       "        vertical-align: top;\n",
       "    }\n",
       "\n",
       "    .dataframe thead th {\n",
       "        text-align: right;\n",
       "    }\n",
       "</style>\n",
       "<table border=\"1\" class=\"dataframe\">\n",
       "  <thead>\n",
       "    <tr style=\"text-align: right;\">\n",
       "      <th></th>\n",
       "      <th>Cust_ID</th>\n",
       "      <th>Category</th>\n",
       "      <th>Trans_Amt</th>\n",
       "      <th>Online_Trans</th>\n",
       "    </tr>\n",
       "  </thead>\n",
       "  <tbody>\n",
       "    <tr>\n",
       "      <th>0</th>\n",
       "      <td>11861396</td>\n",
       "      <td>RESTORAN</td>\n",
       "      <td>10.57</td>\n",
       "      <td>0</td>\n",
       "    </tr>\n",
       "    <tr>\n",
       "      <th>1</th>\n",
       "      <td>13667756</td>\n",
       "      <td>RESTORAN</td>\n",
       "      <td>82.00</td>\n",
       "      <td>0</td>\n",
       "    </tr>\n",
       "    <tr>\n",
       "      <th>2</th>\n",
       "      <td>11024865</td>\n",
       "      <td>RESTORAN</td>\n",
       "      <td>15.00</td>\n",
       "      <td>0</td>\n",
       "    </tr>\n",
       "    <tr>\n",
       "      <th>3</th>\n",
       "      <td>10922788</td>\n",
       "      <td>RESTORAN</td>\n",
       "      <td>86.00</td>\n",
       "      <td>0</td>\n",
       "    </tr>\n",
       "    <tr>\n",
       "      <th>4</th>\n",
       "      <td>10335987</td>\n",
       "      <td>RESTORAN</td>\n",
       "      <td>30.00</td>\n",
       "      <td>0</td>\n",
       "    </tr>\n",
       "    <tr>\n",
       "      <th>...</th>\n",
       "      <td>...</td>\n",
       "      <td>...</td>\n",
       "      <td>...</td>\n",
       "      <td>...</td>\n",
       "    </tr>\n",
       "    <tr>\n",
       "      <th>9334620</th>\n",
       "      <td>15623192</td>\n",
       "      <td>GIDA</td>\n",
       "      <td>23.50</td>\n",
       "      <td>0</td>\n",
       "    </tr>\n",
       "    <tr>\n",
       "      <th>9334621</th>\n",
       "      <td>16382137</td>\n",
       "      <td>TEKSTİL</td>\n",
       "      <td>115.00</td>\n",
       "      <td>0</td>\n",
       "    </tr>\n",
       "    <tr>\n",
       "      <th>9334622</th>\n",
       "      <td>16808133</td>\n",
       "      <td>HİZMET SEKTÖRLERİ</td>\n",
       "      <td>32.00</td>\n",
       "      <td>0</td>\n",
       "    </tr>\n",
       "    <tr>\n",
       "      <th>9334623</th>\n",
       "      <td>27012943</td>\n",
       "      <td>TEKSTİL</td>\n",
       "      <td>250.00</td>\n",
       "      <td>0</td>\n",
       "    </tr>\n",
       "    <tr>\n",
       "      <th>9334624</th>\n",
       "      <td>21896299</td>\n",
       "      <td>GIDA</td>\n",
       "      <td>8.00</td>\n",
       "      <td>0</td>\n",
       "    </tr>\n",
       "  </tbody>\n",
       "</table>\n",
       "<p>9334625 rows × 4 columns</p>\n",
       "</div>"
      ],
      "text/plain": [
       "          Cust_ID           Category  Trans_Amt  Online_Trans\n",
       "0        11861396           RESTORAN      10.57             0\n",
       "1        13667756           RESTORAN      82.00             0\n",
       "2        11024865           RESTORAN      15.00             0\n",
       "3        10922788           RESTORAN      86.00             0\n",
       "4        10335987           RESTORAN      30.00             0\n",
       "...           ...                ...        ...           ...\n",
       "9334620  15623192               GIDA      23.50             0\n",
       "9334621  16382137            TEKSTİL     115.00             0\n",
       "9334622  16808133  HİZMET SEKTÖRLERİ      32.00             0\n",
       "9334623  27012943            TEKSTİL     250.00             0\n",
       "9334624  21896299               GIDA       8.00             0\n",
       "\n",
       "[9334625 rows x 4 columns]"
      ]
     },
     "execution_count": 11,
     "metadata": {},
     "output_type": "execute_result"
    }
   ],
   "source": [
    "trans_sub = transactions[['Cust_ID', 'Category', 'Trans_Amt', 'Online_Trans']]\n",
    "trans_sub"
   ]
  },
  {
   "cell_type": "code",
   "execution_count": 12,
   "id": "18ec63b7-605f-4f55-91d8-2ceeeff750f8",
   "metadata": {},
   "outputs": [],
   "source": [
    "trans_sums = trans_sub.groupby(['Cust_ID', 'Category'])['Trans_Amt'].sum().reset_index()\n",
    "trans_cats = trans_sums.pivot(columns='Category', index='Cust_ID', values='Trans_Amt')\n",
    "trans_cats = trans_cats.fillna(0)"
   ]
  },
  {
   "cell_type": "code",
   "execution_count": 13,
   "id": "d82e3f48-35c6-428b-b553-d153a7ade136",
   "metadata": {},
   "outputs": [
    {
     "data": {
      "text/html": [
       "<div>\n",
       "<style scoped>\n",
       "    .dataframe tbody tr th:only-of-type {\n",
       "        vertical-align: middle;\n",
       "    }\n",
       "\n",
       "    .dataframe tbody tr th {\n",
       "        vertical-align: top;\n",
       "    }\n",
       "\n",
       "    .dataframe thead th {\n",
       "        text-align: right;\n",
       "    }\n",
       "</style>\n",
       "<table border=\"1\" class=\"dataframe\">\n",
       "  <thead>\n",
       "    <tr style=\"text-align: right;\">\n",
       "      <th>Category</th>\n",
       "      <th>AKARYAKIT</th>\n",
       "      <th>ALIŞVERİŞ MERKEZLERİ</th>\n",
       "      <th>ARABA KİRALAMA</th>\n",
       "      <th>AYAKKABI</th>\n",
       "      <th>BEYAZ EŞYA</th>\n",
       "      <th>DENİZ TAŞITLARI KİRALAMA, SATIŞ, BAKIM</th>\n",
       "      <th>DOĞRUDAN PAZARLAMA-MAIL ORDER</th>\n",
       "      <th>DİĞER</th>\n",
       "      <th>EĞLENCE VE SPOR</th>\n",
       "      <th>EĞİTİM</th>\n",
       "      <th>...</th>\n",
       "      <th>SEYAHAT ACENTALARI - TAŞIMACILIK</th>\n",
       "      <th>SPOR GİYİM</th>\n",
       "      <th>SİGORTA</th>\n",
       "      <th>SİGORTA-MAIL ORDER</th>\n",
       "      <th>SİNEMA TİYATRO SANAT</th>\n",
       "      <th>TEKNOLOJİ</th>\n",
       "      <th>TEKSTİL</th>\n",
       "      <th>TELEKOMÜNİKASYON</th>\n",
       "      <th>YAPI MALZ., HIRDAVAT, NALBURİYE</th>\n",
       "      <th>İÇKİLİ YERLER - KUMARHANE</th>\n",
       "    </tr>\n",
       "    <tr>\n",
       "      <th>Cust_ID</th>\n",
       "      <th></th>\n",
       "      <th></th>\n",
       "      <th></th>\n",
       "      <th></th>\n",
       "      <th></th>\n",
       "      <th></th>\n",
       "      <th></th>\n",
       "      <th></th>\n",
       "      <th></th>\n",
       "      <th></th>\n",
       "      <th></th>\n",
       "      <th></th>\n",
       "      <th></th>\n",
       "      <th></th>\n",
       "      <th></th>\n",
       "      <th></th>\n",
       "      <th></th>\n",
       "      <th></th>\n",
       "      <th></th>\n",
       "      <th></th>\n",
       "      <th></th>\n",
       "    </tr>\n",
       "  </thead>\n",
       "  <tbody>\n",
       "    <tr>\n",
       "      <th>1560993</th>\n",
       "      <td>0.00</td>\n",
       "      <td>0.00</td>\n",
       "      <td>0.0</td>\n",
       "      <td>0.00</td>\n",
       "      <td>0.0</td>\n",
       "      <td>0.0</td>\n",
       "      <td>0.0</td>\n",
       "      <td>0.00</td>\n",
       "      <td>0.0</td>\n",
       "      <td>0.0</td>\n",
       "      <td>...</td>\n",
       "      <td>0.00</td>\n",
       "      <td>0.00</td>\n",
       "      <td>0.0</td>\n",
       "      <td>0.00</td>\n",
       "      <td>0.0</td>\n",
       "      <td>0.00</td>\n",
       "      <td>0.00</td>\n",
       "      <td>0.0</td>\n",
       "      <td>0.00</td>\n",
       "      <td>0.0</td>\n",
       "    </tr>\n",
       "    <tr>\n",
       "      <th>1566513</th>\n",
       "      <td>2170.00</td>\n",
       "      <td>20.05</td>\n",
       "      <td>0.0</td>\n",
       "      <td>0.00</td>\n",
       "      <td>250.0</td>\n",
       "      <td>0.0</td>\n",
       "      <td>0.0</td>\n",
       "      <td>268.50</td>\n",
       "      <td>0.0</td>\n",
       "      <td>0.0</td>\n",
       "      <td>...</td>\n",
       "      <td>0.00</td>\n",
       "      <td>0.00</td>\n",
       "      <td>0.0</td>\n",
       "      <td>858.00</td>\n",
       "      <td>0.0</td>\n",
       "      <td>2238.76</td>\n",
       "      <td>0.00</td>\n",
       "      <td>1375.0</td>\n",
       "      <td>1928.13</td>\n",
       "      <td>0.0</td>\n",
       "    </tr>\n",
       "    <tr>\n",
       "      <th>1567711</th>\n",
       "      <td>375.32</td>\n",
       "      <td>0.00</td>\n",
       "      <td>0.0</td>\n",
       "      <td>558.40</td>\n",
       "      <td>55.0</td>\n",
       "      <td>0.0</td>\n",
       "      <td>0.0</td>\n",
       "      <td>350.92</td>\n",
       "      <td>0.0</td>\n",
       "      <td>0.0</td>\n",
       "      <td>...</td>\n",
       "      <td>716.87</td>\n",
       "      <td>89.90</td>\n",
       "      <td>0.0</td>\n",
       "      <td>465.39</td>\n",
       "      <td>0.0</td>\n",
       "      <td>77.57</td>\n",
       "      <td>5587.22</td>\n",
       "      <td>912.6</td>\n",
       "      <td>64.93</td>\n",
       "      <td>70.0</td>\n",
       "    </tr>\n",
       "    <tr>\n",
       "      <th>1569761</th>\n",
       "      <td>0.00</td>\n",
       "      <td>0.00</td>\n",
       "      <td>0.0</td>\n",
       "      <td>459.87</td>\n",
       "      <td>0.0</td>\n",
       "      <td>0.0</td>\n",
       "      <td>0.0</td>\n",
       "      <td>0.00</td>\n",
       "      <td>0.0</td>\n",
       "      <td>0.0</td>\n",
       "      <td>...</td>\n",
       "      <td>1590.00</td>\n",
       "      <td>59.99</td>\n",
       "      <td>0.0</td>\n",
       "      <td>0.00</td>\n",
       "      <td>0.0</td>\n",
       "      <td>8797.33</td>\n",
       "      <td>1319.34</td>\n",
       "      <td>0.0</td>\n",
       "      <td>3026.21</td>\n",
       "      <td>0.0</td>\n",
       "    </tr>\n",
       "    <tr>\n",
       "      <th>1569938</th>\n",
       "      <td>0.00</td>\n",
       "      <td>0.00</td>\n",
       "      <td>0.0</td>\n",
       "      <td>0.00</td>\n",
       "      <td>0.0</td>\n",
       "      <td>0.0</td>\n",
       "      <td>0.0</td>\n",
       "      <td>0.00</td>\n",
       "      <td>0.0</td>\n",
       "      <td>0.0</td>\n",
       "      <td>...</td>\n",
       "      <td>0.00</td>\n",
       "      <td>0.00</td>\n",
       "      <td>0.0</td>\n",
       "      <td>0.00</td>\n",
       "      <td>0.0</td>\n",
       "      <td>379.00</td>\n",
       "      <td>19.90</td>\n",
       "      <td>840.0</td>\n",
       "      <td>74.85</td>\n",
       "      <td>0.0</td>\n",
       "    </tr>\n",
       "    <tr>\n",
       "      <th>...</th>\n",
       "      <td>...</td>\n",
       "      <td>...</td>\n",
       "      <td>...</td>\n",
       "      <td>...</td>\n",
       "      <td>...</td>\n",
       "      <td>...</td>\n",
       "      <td>...</td>\n",
       "      <td>...</td>\n",
       "      <td>...</td>\n",
       "      <td>...</td>\n",
       "      <td>...</td>\n",
       "      <td>...</td>\n",
       "      <td>...</td>\n",
       "      <td>...</td>\n",
       "      <td>...</td>\n",
       "      <td>...</td>\n",
       "      <td>...</td>\n",
       "      <td>...</td>\n",
       "      <td>...</td>\n",
       "      <td>...</td>\n",
       "      <td>...</td>\n",
       "    </tr>\n",
       "    <tr>\n",
       "      <th>28196275</th>\n",
       "      <td>0.00</td>\n",
       "      <td>0.00</td>\n",
       "      <td>0.0</td>\n",
       "      <td>0.00</td>\n",
       "      <td>0.0</td>\n",
       "      <td>0.0</td>\n",
       "      <td>0.0</td>\n",
       "      <td>0.00</td>\n",
       "      <td>0.0</td>\n",
       "      <td>0.0</td>\n",
       "      <td>...</td>\n",
       "      <td>0.00</td>\n",
       "      <td>0.00</td>\n",
       "      <td>0.0</td>\n",
       "      <td>0.00</td>\n",
       "      <td>0.0</td>\n",
       "      <td>55.25</td>\n",
       "      <td>0.00</td>\n",
       "      <td>0.0</td>\n",
       "      <td>0.00</td>\n",
       "      <td>0.0</td>\n",
       "    </tr>\n",
       "    <tr>\n",
       "      <th>28196280</th>\n",
       "      <td>0.00</td>\n",
       "      <td>0.00</td>\n",
       "      <td>0.0</td>\n",
       "      <td>0.00</td>\n",
       "      <td>0.0</td>\n",
       "      <td>0.0</td>\n",
       "      <td>0.0</td>\n",
       "      <td>0.00</td>\n",
       "      <td>0.0</td>\n",
       "      <td>0.0</td>\n",
       "      <td>...</td>\n",
       "      <td>0.00</td>\n",
       "      <td>0.00</td>\n",
       "      <td>0.0</td>\n",
       "      <td>0.00</td>\n",
       "      <td>0.0</td>\n",
       "      <td>0.00</td>\n",
       "      <td>0.00</td>\n",
       "      <td>0.0</td>\n",
       "      <td>229.90</td>\n",
       "      <td>0.0</td>\n",
       "    </tr>\n",
       "    <tr>\n",
       "      <th>28200516</th>\n",
       "      <td>0.00</td>\n",
       "      <td>0.00</td>\n",
       "      <td>0.0</td>\n",
       "      <td>0.00</td>\n",
       "      <td>0.0</td>\n",
       "      <td>0.0</td>\n",
       "      <td>0.0</td>\n",
       "      <td>0.00</td>\n",
       "      <td>0.0</td>\n",
       "      <td>0.0</td>\n",
       "      <td>...</td>\n",
       "      <td>0.00</td>\n",
       "      <td>0.00</td>\n",
       "      <td>0.0</td>\n",
       "      <td>0.00</td>\n",
       "      <td>0.0</td>\n",
       "      <td>5338.26</td>\n",
       "      <td>0.00</td>\n",
       "      <td>0.0</td>\n",
       "      <td>0.00</td>\n",
       "      <td>0.0</td>\n",
       "    </tr>\n",
       "    <tr>\n",
       "      <th>28203156</th>\n",
       "      <td>541.99</td>\n",
       "      <td>0.00</td>\n",
       "      <td>0.0</td>\n",
       "      <td>0.00</td>\n",
       "      <td>0.0</td>\n",
       "      <td>0.0</td>\n",
       "      <td>0.0</td>\n",
       "      <td>0.00</td>\n",
       "      <td>0.0</td>\n",
       "      <td>0.0</td>\n",
       "      <td>...</td>\n",
       "      <td>0.00</td>\n",
       "      <td>0.00</td>\n",
       "      <td>0.0</td>\n",
       "      <td>0.00</td>\n",
       "      <td>0.0</td>\n",
       "      <td>0.00</td>\n",
       "      <td>0.00</td>\n",
       "      <td>0.0</td>\n",
       "      <td>0.00</td>\n",
       "      <td>0.0</td>\n",
       "    </tr>\n",
       "    <tr>\n",
       "      <th>28204207</th>\n",
       "      <td>0.00</td>\n",
       "      <td>0.00</td>\n",
       "      <td>0.0</td>\n",
       "      <td>0.00</td>\n",
       "      <td>0.0</td>\n",
       "      <td>0.0</td>\n",
       "      <td>0.0</td>\n",
       "      <td>0.00</td>\n",
       "      <td>0.0</td>\n",
       "      <td>0.0</td>\n",
       "      <td>...</td>\n",
       "      <td>121.95</td>\n",
       "      <td>0.00</td>\n",
       "      <td>0.0</td>\n",
       "      <td>0.00</td>\n",
       "      <td>0.0</td>\n",
       "      <td>0.00</td>\n",
       "      <td>0.00</td>\n",
       "      <td>0.0</td>\n",
       "      <td>0.00</td>\n",
       "      <td>0.0</td>\n",
       "    </tr>\n",
       "  </tbody>\n",
       "</table>\n",
       "<p>101864 rows × 35 columns</p>\n",
       "</div>"
      ],
      "text/plain": [
       "Category  AKARYAKIT  ALIŞVERİŞ MERKEZLERİ  ARABA KİRALAMA  AYAKKABI  \\\n",
       "Cust_ID                                                               \n",
       "1560993        0.00                  0.00             0.0      0.00   \n",
       "1566513     2170.00                 20.05             0.0      0.00   \n",
       "1567711      375.32                  0.00             0.0    558.40   \n",
       "1569761        0.00                  0.00             0.0    459.87   \n",
       "1569938        0.00                  0.00             0.0      0.00   \n",
       "...             ...                   ...             ...       ...   \n",
       "28196275       0.00                  0.00             0.0      0.00   \n",
       "28196280       0.00                  0.00             0.0      0.00   \n",
       "28200516       0.00                  0.00             0.0      0.00   \n",
       "28203156     541.99                  0.00             0.0      0.00   \n",
       "28204207       0.00                  0.00             0.0      0.00   \n",
       "\n",
       "Category  BEYAZ EŞYA  DENİZ TAŞITLARI KİRALAMA, SATIŞ, BAKIM  \\\n",
       "Cust_ID                                                        \n",
       "1560993          0.0                                     0.0   \n",
       "1566513        250.0                                     0.0   \n",
       "1567711         55.0                                     0.0   \n",
       "1569761          0.0                                     0.0   \n",
       "1569938          0.0                                     0.0   \n",
       "...              ...                                     ...   \n",
       "28196275         0.0                                     0.0   \n",
       "28196280         0.0                                     0.0   \n",
       "28200516         0.0                                     0.0   \n",
       "28203156         0.0                                     0.0   \n",
       "28204207         0.0                                     0.0   \n",
       "\n",
       "Category  DOĞRUDAN PAZARLAMA-MAIL ORDER   DİĞER  EĞLENCE VE SPOR  EĞİTİM  ...  \\\n",
       "Cust_ID                                                                   ...   \n",
       "1560993                             0.0    0.00              0.0     0.0  ...   \n",
       "1566513                             0.0  268.50              0.0     0.0  ...   \n",
       "1567711                             0.0  350.92              0.0     0.0  ...   \n",
       "1569761                             0.0    0.00              0.0     0.0  ...   \n",
       "1569938                             0.0    0.00              0.0     0.0  ...   \n",
       "...                                 ...     ...              ...     ...  ...   \n",
       "28196275                            0.0    0.00              0.0     0.0  ...   \n",
       "28196280                            0.0    0.00              0.0     0.0  ...   \n",
       "28200516                            0.0    0.00              0.0     0.0  ...   \n",
       "28203156                            0.0    0.00              0.0     0.0  ...   \n",
       "28204207                            0.0    0.00              0.0     0.0  ...   \n",
       "\n",
       "Category  SEYAHAT ACENTALARI - TAŞIMACILIK  SPOR GİYİM  SİGORTA  \\\n",
       "Cust_ID                                                           \n",
       "1560993                               0.00        0.00      0.0   \n",
       "1566513                               0.00        0.00      0.0   \n",
       "1567711                             716.87       89.90      0.0   \n",
       "1569761                            1590.00       59.99      0.0   \n",
       "1569938                               0.00        0.00      0.0   \n",
       "...                                    ...         ...      ...   \n",
       "28196275                              0.00        0.00      0.0   \n",
       "28196280                              0.00        0.00      0.0   \n",
       "28200516                              0.00        0.00      0.0   \n",
       "28203156                              0.00        0.00      0.0   \n",
       "28204207                            121.95        0.00      0.0   \n",
       "\n",
       "Category  SİGORTA-MAIL ORDER  SİNEMA TİYATRO SANAT  TEKNOLOJİ  TEKSTİL  \\\n",
       "Cust_ID                                                                  \n",
       "1560993                 0.00                   0.0       0.00     0.00   \n",
       "1566513               858.00                   0.0    2238.76     0.00   \n",
       "1567711               465.39                   0.0      77.57  5587.22   \n",
       "1569761                 0.00                   0.0    8797.33  1319.34   \n",
       "1569938                 0.00                   0.0     379.00    19.90   \n",
       "...                      ...                   ...        ...      ...   \n",
       "28196275                0.00                   0.0      55.25     0.00   \n",
       "28196280                0.00                   0.0       0.00     0.00   \n",
       "28200516                0.00                   0.0    5338.26     0.00   \n",
       "28203156                0.00                   0.0       0.00     0.00   \n",
       "28204207                0.00                   0.0       0.00     0.00   \n",
       "\n",
       "Category  TELEKOMÜNİKASYON  YAPI MALZ., HIRDAVAT, NALBURİYE  \\\n",
       "Cust_ID                                                       \n",
       "1560993                0.0                             0.00   \n",
       "1566513             1375.0                          1928.13   \n",
       "1567711              912.6                            64.93   \n",
       "1569761                0.0                          3026.21   \n",
       "1569938              840.0                            74.85   \n",
       "...                    ...                              ...   \n",
       "28196275               0.0                             0.00   \n",
       "28196280               0.0                           229.90   \n",
       "28200516               0.0                             0.00   \n",
       "28203156               0.0                             0.00   \n",
       "28204207               0.0                             0.00   \n",
       "\n",
       "Category  İÇKİLİ YERLER - KUMARHANE  \n",
       "Cust_ID                              \n",
       "1560993                         0.0  \n",
       "1566513                         0.0  \n",
       "1567711                        70.0  \n",
       "1569761                         0.0  \n",
       "1569938                         0.0  \n",
       "...                             ...  \n",
       "28196275                        0.0  \n",
       "28196280                        0.0  \n",
       "28200516                        0.0  \n",
       "28203156                        0.0  \n",
       "28204207                        0.0  \n",
       "\n",
       "[101864 rows x 35 columns]"
      ]
     },
     "execution_count": 13,
     "metadata": {},
     "output_type": "execute_result"
    }
   ],
   "source": [
    "trans_cats"
   ]
  },
  {
   "cell_type": "code",
   "execution_count": 14,
   "id": "ee47f0da-6828-47d4-b96d-a6e64ce5bf24",
   "metadata": {
    "tags": []
   },
   "outputs": [],
   "source": [
    "demo_df = demo_df.join(trans_cats, on='Cust_ID')"
   ]
  },
  {
   "cell_type": "code",
   "execution_count": 15,
   "id": "84c9d1aa-9647-4260-8cd2-06b7cb5dc45d",
   "metadata": {},
   "outputs": [],
   "source": [
    "demo_df.drop('Cust_ID', axis = 1, inplace = True)"
   ]
  },
  {
   "cell_type": "code",
   "execution_count": 16,
   "id": "b5d3d354-6d85-456f-9f0d-560205cdf7e0",
   "metadata": {},
   "outputs": [
    {
     "name": "stdout",
     "output_type": "stream",
     "text": [
      "<class 'pandas.core.frame.DataFrame'>\n",
      "RangeIndex: 10321 entries, 0 to 10320\n",
      "Data columns (total 66 columns):\n",
      " #   Column                                  Non-Null Count  Dtype  \n",
      "---  ------                                  --------------  -----  \n",
      " 0   Cust_Segment                            10321 non-null  object \n",
      " 1   Branch_ID                               10321 non-null  int64  \n",
      " 2   Gender                                  10321 non-null  object \n",
      " 3   Marital_Status                          10321 non-null  object \n",
      " 4   Education_Lv                            10321 non-null  object \n",
      " 5   Job_Status                              10321 non-null  object \n",
      " 6   Income                                  10080 non-null  float64\n",
      " 7   Age                                     10321 non-null  int64  \n",
      " 8   Years_w_Bank                            10321 non-null  float64\n",
      " 9   Work_Region                             10321 non-null  object \n",
      " 10  Home_Region                             10321 non-null  object \n",
      " 11  Branch_Region                           10321 non-null  object \n",
      " 12  1)RISKSIZ                               10321 non-null  float64\n",
      " 13  2)GECIKME 1-15 GUN                      10321 non-null  float64\n",
      " 14  3)GECIKME 16-29 GUN                     10321 non-null  float64\n",
      " 15  4)GECIKME 30-59 GUN                     10321 non-null  float64\n",
      " 16  5)GECIKME 60+ GUN                       10321 non-null  float64\n",
      " 17  6)TAKIP                                 10321 non-null  float64\n",
      " 18  statement_mean                          10224 non-null  float64\n",
      " 19  statement_max                           10224 non-null  float64\n",
      " 20  transaction1_mean                       10083 non-null  float64\n",
      " 21  transaction1_max                        10083 non-null  float64\n",
      " 22  transaction2_mean                       10136 non-null  float64\n",
      " 23  transaction2_max                        10136 non-null  float64\n",
      " 24  online_trans_percent                    10136 non-null  float64\n",
      " 25  transaction_food_mean                   8874 non-null   float64\n",
      " 26  transaction_food_max                    8874 non-null   float64\n",
      " 27  transaction_health_mean                 5360 non-null   float64\n",
      " 28  transaction_health_max                  5360 non-null   float64\n",
      " 29  transaction_gas_mean                    5847 non-null   float64\n",
      " 30  transaction_gas_max                     5847 non-null   float64\n",
      " 31  AKARYAKIT                               10205 non-null  float64\n",
      " 32  ALIŞVERİŞ MERKEZLERİ                    10205 non-null  float64\n",
      " 33  ARABA KİRALAMA                          10205 non-null  float64\n",
      " 34  AYAKKABI                                10205 non-null  float64\n",
      " 35  BEYAZ EŞYA                              10205 non-null  float64\n",
      " 36  DENİZ TAŞITLARI KİRALAMA, SATIŞ, BAKIM  10205 non-null  float64\n",
      " 37  DOĞRUDAN PAZARLAMA-MAIL ORDER           10205 non-null  float64\n",
      " 38  DİĞER                                   10205 non-null  float64\n",
      " 39  EĞLENCE VE SPOR                         10205 non-null  float64\n",
      " 40  EĞİTİM                                  10205 non-null  float64\n",
      " 41  GIDA                                    10205 non-null  float64\n",
      " 42  HAVAYOLLARI                             10205 non-null  float64\n",
      " 43  HOTEL                                   10205 non-null  float64\n",
      " 44  HİZMET SEKTÖRLERİ                       10205 non-null  float64\n",
      " 45  KOZMETİK                                10205 non-null  float64\n",
      " 46  KUYUMCU                                 10205 non-null  float64\n",
      " 47  MOBİLYA, DEKORASYON                     10205 non-null  float64\n",
      " 48  MOTOSİKLET                              10205 non-null  float64\n",
      " 49  MUZIK MARKET KIRTASİYE                  10205 non-null  float64\n",
      " 50  NAKİT AVANS                             10205 non-null  float64\n",
      " 51  OPTİK                                   10205 non-null  float64\n",
      " 52  OTOMOTİV                                10205 non-null  float64\n",
      " 53  OYUNCAK                                 10205 non-null  float64\n",
      " 54  RESTORAN                                10205 non-null  float64\n",
      " 55  SAĞLIK                                  10205 non-null  float64\n",
      " 56  SEYAHAT ACENTALARI - TAŞIMACILIK        10205 non-null  float64\n",
      " 57  SPOR GİYİM                              10205 non-null  float64\n",
      " 58  SİGORTA                                 10205 non-null  float64\n",
      " 59  SİGORTA-MAIL ORDER                      10205 non-null  float64\n",
      " 60  SİNEMA TİYATRO SANAT                    10205 non-null  float64\n",
      " 61  TEKNOLOJİ                               10205 non-null  float64\n",
      " 62  TEKSTİL                                 10205 non-null  float64\n",
      " 63  TELEKOMÜNİKASYON                        10205 non-null  float64\n",
      " 64  YAPI MALZ., HIRDAVAT, NALBURİYE         10205 non-null  float64\n",
      " 65  İÇKİLİ YERLER - KUMARHANE               10205 non-null  float64\n",
      "dtypes: float64(56), int64(2), object(8)\n",
      "memory usage: 5.2+ MB\n"
     ]
    }
   ],
   "source": [
    "demo_df.info()"
   ]
  },
  {
   "cell_type": "markdown",
   "id": "cb8817b7-c914-477f-9501-f69e30ab651b",
   "metadata": {},
   "source": [
    "## Data Exploration"
   ]
  },
  {
   "cell_type": "code",
   "execution_count": 17,
   "id": "bc35e0c9-8b70-4738-ad47-cb18394aca9f",
   "metadata": {},
   "outputs": [
    {
     "data": {
      "text/plain": [
       "BİREYSEL                       9598\n",
       "BİREBİR                         400\n",
       "MİKRO                           298\n",
       "EXI26                            16\n",
       "ÖZEL BANKACILIK MÜŞTERİLERİ       9\n",
       "Name: Cust_Segment, dtype: int64"
      ]
     },
     "execution_count": 17,
     "metadata": {},
     "output_type": "execute_result"
    }
   ],
   "source": [
    "demo_df['Cust_Segment'].value_counts()"
   ]
  },
  {
   "cell_type": "code",
   "execution_count": 18,
   "id": "6b5b873e-a6d4-40b5-9fb0-bf4f832b0537",
   "metadata": {},
   "outputs": [
    {
     "data": {
      "text/plain": [
       "EVLİ          6563\n",
       "BEKAR         3104\n",
       "BOŞANMIŞ       473\n",
       "BİLINMİYOR     143\n",
       "DUL             38\n",
       "Name: Marital_Status, dtype: int64"
      ]
     },
     "execution_count": 18,
     "metadata": {},
     "output_type": "execute_result"
    }
   ],
   "source": [
    "demo_df['Marital_Status'].value_counts()"
   ]
  },
  {
   "cell_type": "code",
   "execution_count": 19,
   "id": "f7ab0a7e-0436-44df-ad56-8c04478ad654",
   "metadata": {},
   "outputs": [
    {
     "data": {
      "text/plain": [
       "HS_below      6440\n",
       "University    3489\n",
       "Graduate       385\n",
       "BİLİNMİYOR       7\n",
       "Name: Education_Lv, dtype: int64"
      ]
     },
     "execution_count": 19,
     "metadata": {},
     "output_type": "execute_result"
    }
   ],
   "source": [
    "demo_df['Education_Lv'].value_counts()"
   ]
  },
  {
   "cell_type": "code",
   "execution_count": 20,
   "id": "625233de-cdb5-4fc9-a9da-f0fa43608d2d",
   "metadata": {},
   "outputs": [
    {
     "data": {
      "text/plain": [
       "PRIVATE                9000\n",
       "PUBLIC                  752\n",
       "UNEMPLOYED              501\n",
       "DİĞER                    37\n",
       "TANIMSIZ                 29\n",
       "YURTDIŞINDA ÇALIŞAN       2\n",
       "Name: Job_Status, dtype: int64"
      ]
     },
     "execution_count": 20,
     "metadata": {},
     "output_type": "execute_result"
    }
   ],
   "source": [
    "demo_df['Job_Status'].value_counts()"
   ]
  },
  {
   "cell_type": "code",
   "execution_count": 21,
   "id": "25efcbca-4d1a-4a59-8170-85bbe8bb2fd5",
   "metadata": {},
   "outputs": [
    {
     "data": {
      "text/plain": [
       "MARMARA             10062\n",
       "BLACK SEA              70\n",
       "MEDITERRANEAN          52\n",
       "AEGEAN                 41\n",
       "CENTRAL ANATOLIA       40\n",
       "EASTERN ANATOLIA       35\n",
       "SE ANATOLIA            21\n",
       "Name: Home_Region, dtype: int64"
      ]
     },
     "execution_count": 21,
     "metadata": {},
     "output_type": "execute_result"
    }
   ],
   "source": [
    "demo_df['Home_Region'].value_counts()"
   ]
  },
  {
   "cell_type": "code",
   "execution_count": 22,
   "id": "e5a8abfa-e3e5-4d11-85ee-20c33565132d",
   "metadata": {},
   "outputs": [
    {
     "data": {
      "text/plain": [
       "MARMARA             10199\n",
       "AEGEAN                 29\n",
       "CENTRAL ANATOLIA       29\n",
       "BLACK SEA              24\n",
       "MEDITERRANEAN          20\n",
       "EASTERN ANATOLIA       10\n",
       "SE ANATOLIA            10\n",
       "Name: Work_Region, dtype: int64"
      ]
     },
     "execution_count": 22,
     "metadata": {},
     "output_type": "execute_result"
    }
   ],
   "source": [
    "demo_df['Work_Region'].value_counts()"
   ]
  },
  {
   "cell_type": "code",
   "execution_count": 23,
   "id": "03732801-5cb7-43a8-93b9-41676f394f70",
   "metadata": {},
   "outputs": [
    {
     "data": {
      "text/plain": [
       "MARMARA             9869\n",
       "BLACK SEA            109\n",
       "CENTRAL ANATOLIA     107\n",
       "AEGEAN               100\n",
       "MEDITERRANEAN         68\n",
       "EASTERN ANATOLIA      37\n",
       "SE ANATOLIA           31\n",
       "Name: Branch_Region, dtype: int64"
      ]
     },
     "execution_count": 23,
     "metadata": {},
     "output_type": "execute_result"
    }
   ],
   "source": [
    "demo_df['Branch_Region'].value_counts()"
   ]
  },
  {
   "cell_type": "code",
   "execution_count": 24,
   "id": "3d8ae791-2cf6-438d-90bf-6d6b13f9f492",
   "metadata": {},
   "outputs": [
    {
     "data": {
      "text/plain": [
       "Cust_Segment                         0\n",
       "Branch_ID                            0\n",
       "Gender                               0\n",
       "Marital_Status                       0\n",
       "Education_Lv                         0\n",
       "                                  ... \n",
       "TEKNOLOJİ                          116\n",
       "TEKSTİL                            116\n",
       "TELEKOMÜNİKASYON                   116\n",
       "YAPI MALZ., HIRDAVAT, NALBURİYE    116\n",
       "İÇKİLİ YERLER - KUMARHANE          116\n",
       "Length: 66, dtype: int64"
      ]
     },
     "execution_count": 24,
     "metadata": {},
     "output_type": "execute_result"
    }
   ],
   "source": [
    "# check values for nulls\n",
    "demo_df.isnull().sum(axis = 0)"
   ]
  },
  {
   "cell_type": "code",
   "execution_count": 25,
   "id": "1bc62dbb-2cdd-48f3-beef-e982e22e34fc",
   "metadata": {},
   "outputs": [
    {
     "data": {
      "text/html": [
       "<div>\n",
       "<style scoped>\n",
       "    .dataframe tbody tr th:only-of-type {\n",
       "        vertical-align: middle;\n",
       "    }\n",
       "\n",
       "    .dataframe tbody tr th {\n",
       "        vertical-align: top;\n",
       "    }\n",
       "\n",
       "    .dataframe thead th {\n",
       "        text-align: right;\n",
       "    }\n",
       "</style>\n",
       "<table border=\"1\" class=\"dataframe\">\n",
       "  <thead>\n",
       "    <tr style=\"text-align: right;\">\n",
       "      <th></th>\n",
       "      <th>Cust_Segment</th>\n",
       "      <th>Branch_ID</th>\n",
       "      <th>Gender</th>\n",
       "      <th>Marital_Status</th>\n",
       "      <th>Education_Lv</th>\n",
       "      <th>Job_Status</th>\n",
       "      <th>Income</th>\n",
       "      <th>Age</th>\n",
       "      <th>Years_w_Bank</th>\n",
       "      <th>Work_Region</th>\n",
       "      <th>...</th>\n",
       "      <th>SEYAHAT ACENTALARI - TAŞIMACILIK</th>\n",
       "      <th>SPOR GİYİM</th>\n",
       "      <th>SİGORTA</th>\n",
       "      <th>SİGORTA-MAIL ORDER</th>\n",
       "      <th>SİNEMA TİYATRO SANAT</th>\n",
       "      <th>TEKNOLOJİ</th>\n",
       "      <th>TEKSTİL</th>\n",
       "      <th>TELEKOMÜNİKASYON</th>\n",
       "      <th>YAPI MALZ., HIRDAVAT, NALBURİYE</th>\n",
       "      <th>İÇKİLİ YERLER - KUMARHANE</th>\n",
       "    </tr>\n",
       "  </thead>\n",
       "  <tbody>\n",
       "    <tr>\n",
       "      <th>21</th>\n",
       "      <td>BİREYSEL</td>\n",
       "      <td>16</td>\n",
       "      <td>E</td>\n",
       "      <td>EVLİ</td>\n",
       "      <td>HS_below</td>\n",
       "      <td>PRIVATE</td>\n",
       "      <td>2000.0</td>\n",
       "      <td>44</td>\n",
       "      <td>9.0</td>\n",
       "      <td>MARMARA</td>\n",
       "      <td>...</td>\n",
       "      <td>NaN</td>\n",
       "      <td>NaN</td>\n",
       "      <td>NaN</td>\n",
       "      <td>NaN</td>\n",
       "      <td>NaN</td>\n",
       "      <td>NaN</td>\n",
       "      <td>NaN</td>\n",
       "      <td>NaN</td>\n",
       "      <td>NaN</td>\n",
       "      <td>NaN</td>\n",
       "    </tr>\n",
       "    <tr>\n",
       "      <th>72</th>\n",
       "      <td>BİREYSEL</td>\n",
       "      <td>1168</td>\n",
       "      <td>E</td>\n",
       "      <td>BEKAR</td>\n",
       "      <td>HS_below</td>\n",
       "      <td>PRIVATE</td>\n",
       "      <td>1200.0</td>\n",
       "      <td>25</td>\n",
       "      <td>3.0</td>\n",
       "      <td>MARMARA</td>\n",
       "      <td>...</td>\n",
       "      <td>NaN</td>\n",
       "      <td>NaN</td>\n",
       "      <td>NaN</td>\n",
       "      <td>NaN</td>\n",
       "      <td>NaN</td>\n",
       "      <td>NaN</td>\n",
       "      <td>NaN</td>\n",
       "      <td>NaN</td>\n",
       "      <td>NaN</td>\n",
       "      <td>NaN</td>\n",
       "    </tr>\n",
       "    <tr>\n",
       "      <th>128</th>\n",
       "      <td>BİREYSEL</td>\n",
       "      <td>728</td>\n",
       "      <td>E</td>\n",
       "      <td>EVLİ</td>\n",
       "      <td>HS_below</td>\n",
       "      <td>PRIVATE</td>\n",
       "      <td>13311.0</td>\n",
       "      <td>44</td>\n",
       "      <td>11.0</td>\n",
       "      <td>MARMARA</td>\n",
       "      <td>...</td>\n",
       "      <td>NaN</td>\n",
       "      <td>NaN</td>\n",
       "      <td>NaN</td>\n",
       "      <td>NaN</td>\n",
       "      <td>NaN</td>\n",
       "      <td>NaN</td>\n",
       "      <td>NaN</td>\n",
       "      <td>NaN</td>\n",
       "      <td>NaN</td>\n",
       "      <td>NaN</td>\n",
       "    </tr>\n",
       "    <tr>\n",
       "      <th>360</th>\n",
       "      <td>BİREYSEL</td>\n",
       "      <td>571</td>\n",
       "      <td>E</td>\n",
       "      <td>BEKAR</td>\n",
       "      <td>HS_below</td>\n",
       "      <td>PRIVATE</td>\n",
       "      <td>1500.0</td>\n",
       "      <td>25</td>\n",
       "      <td>1.0</td>\n",
       "      <td>MARMARA</td>\n",
       "      <td>...</td>\n",
       "      <td>NaN</td>\n",
       "      <td>NaN</td>\n",
       "      <td>NaN</td>\n",
       "      <td>NaN</td>\n",
       "      <td>NaN</td>\n",
       "      <td>NaN</td>\n",
       "      <td>NaN</td>\n",
       "      <td>NaN</td>\n",
       "      <td>NaN</td>\n",
       "      <td>NaN</td>\n",
       "    </tr>\n",
       "    <tr>\n",
       "      <th>550</th>\n",
       "      <td>BİREYSEL</td>\n",
       "      <td>1343</td>\n",
       "      <td>E</td>\n",
       "      <td>EVLİ</td>\n",
       "      <td>HS_below</td>\n",
       "      <td>PUBLIC</td>\n",
       "      <td>2422.0</td>\n",
       "      <td>51</td>\n",
       "      <td>3.0</td>\n",
       "      <td>MARMARA</td>\n",
       "      <td>...</td>\n",
       "      <td>NaN</td>\n",
       "      <td>NaN</td>\n",
       "      <td>NaN</td>\n",
       "      <td>NaN</td>\n",
       "      <td>NaN</td>\n",
       "      <td>NaN</td>\n",
       "      <td>NaN</td>\n",
       "      <td>NaN</td>\n",
       "      <td>NaN</td>\n",
       "      <td>NaN</td>\n",
       "    </tr>\n",
       "    <tr>\n",
       "      <th>...</th>\n",
       "      <td>...</td>\n",
       "      <td>...</td>\n",
       "      <td>...</td>\n",
       "      <td>...</td>\n",
       "      <td>...</td>\n",
       "      <td>...</td>\n",
       "      <td>...</td>\n",
       "      <td>...</td>\n",
       "      <td>...</td>\n",
       "      <td>...</td>\n",
       "      <td>...</td>\n",
       "      <td>...</td>\n",
       "      <td>...</td>\n",
       "      <td>...</td>\n",
       "      <td>...</td>\n",
       "      <td>...</td>\n",
       "      <td>...</td>\n",
       "      <td>...</td>\n",
       "      <td>...</td>\n",
       "      <td>...</td>\n",
       "      <td>...</td>\n",
       "    </tr>\n",
       "    <tr>\n",
       "      <th>9871</th>\n",
       "      <td>BİREYSEL</td>\n",
       "      <td>692</td>\n",
       "      <td>K</td>\n",
       "      <td>EVLİ</td>\n",
       "      <td>University</td>\n",
       "      <td>PRIVATE</td>\n",
       "      <td>0.0</td>\n",
       "      <td>35</td>\n",
       "      <td>13.0</td>\n",
       "      <td>MARMARA</td>\n",
       "      <td>...</td>\n",
       "      <td>NaN</td>\n",
       "      <td>NaN</td>\n",
       "      <td>NaN</td>\n",
       "      <td>NaN</td>\n",
       "      <td>NaN</td>\n",
       "      <td>NaN</td>\n",
       "      <td>NaN</td>\n",
       "      <td>NaN</td>\n",
       "      <td>NaN</td>\n",
       "      <td>NaN</td>\n",
       "    </tr>\n",
       "    <tr>\n",
       "      <th>9876</th>\n",
       "      <td>BİREYSEL</td>\n",
       "      <td>766</td>\n",
       "      <td>K</td>\n",
       "      <td>BEKAR</td>\n",
       "      <td>Graduate</td>\n",
       "      <td>PRIVATE</td>\n",
       "      <td>0.0</td>\n",
       "      <td>47</td>\n",
       "      <td>7.0</td>\n",
       "      <td>MARMARA</td>\n",
       "      <td>...</td>\n",
       "      <td>NaN</td>\n",
       "      <td>NaN</td>\n",
       "      <td>NaN</td>\n",
       "      <td>NaN</td>\n",
       "      <td>NaN</td>\n",
       "      <td>NaN</td>\n",
       "      <td>NaN</td>\n",
       "      <td>NaN</td>\n",
       "      <td>NaN</td>\n",
       "      <td>NaN</td>\n",
       "    </tr>\n",
       "    <tr>\n",
       "      <th>9964</th>\n",
       "      <td>BİREYSEL</td>\n",
       "      <td>392</td>\n",
       "      <td>K</td>\n",
       "      <td>BOŞANMIŞ</td>\n",
       "      <td>HS_below</td>\n",
       "      <td>PRIVATE</td>\n",
       "      <td>3000.0</td>\n",
       "      <td>45</td>\n",
       "      <td>8.0</td>\n",
       "      <td>MARMARA</td>\n",
       "      <td>...</td>\n",
       "      <td>NaN</td>\n",
       "      <td>NaN</td>\n",
       "      <td>NaN</td>\n",
       "      <td>NaN</td>\n",
       "      <td>NaN</td>\n",
       "      <td>NaN</td>\n",
       "      <td>NaN</td>\n",
       "      <td>NaN</td>\n",
       "      <td>NaN</td>\n",
       "      <td>NaN</td>\n",
       "    </tr>\n",
       "    <tr>\n",
       "      <th>10127</th>\n",
       "      <td>BİREYSEL</td>\n",
       "      <td>161</td>\n",
       "      <td>E</td>\n",
       "      <td>BEKAR</td>\n",
       "      <td>HS_below</td>\n",
       "      <td>PRIVATE</td>\n",
       "      <td>1100.0</td>\n",
       "      <td>27</td>\n",
       "      <td>3.0</td>\n",
       "      <td>MARMARA</td>\n",
       "      <td>...</td>\n",
       "      <td>NaN</td>\n",
       "      <td>NaN</td>\n",
       "      <td>NaN</td>\n",
       "      <td>NaN</td>\n",
       "      <td>NaN</td>\n",
       "      <td>NaN</td>\n",
       "      <td>NaN</td>\n",
       "      <td>NaN</td>\n",
       "      <td>NaN</td>\n",
       "      <td>NaN</td>\n",
       "    </tr>\n",
       "    <tr>\n",
       "      <th>10184</th>\n",
       "      <td>BİREYSEL</td>\n",
       "      <td>194</td>\n",
       "      <td>K</td>\n",
       "      <td>EVLİ</td>\n",
       "      <td>University</td>\n",
       "      <td>PRIVATE</td>\n",
       "      <td>0.0</td>\n",
       "      <td>31</td>\n",
       "      <td>7.0</td>\n",
       "      <td>MARMARA</td>\n",
       "      <td>...</td>\n",
       "      <td>NaN</td>\n",
       "      <td>NaN</td>\n",
       "      <td>NaN</td>\n",
       "      <td>NaN</td>\n",
       "      <td>NaN</td>\n",
       "      <td>NaN</td>\n",
       "      <td>NaN</td>\n",
       "      <td>NaN</td>\n",
       "      <td>NaN</td>\n",
       "      <td>NaN</td>\n",
       "    </tr>\n",
       "  </tbody>\n",
       "</table>\n",
       "<p>116 rows × 66 columns</p>\n",
       "</div>"
      ],
      "text/plain": [
       "      Cust_Segment  Branch_ID Gender Marital_Status Education_Lv Job_Status  \\\n",
       "21        BİREYSEL         16      E           EVLİ     HS_below    PRIVATE   \n",
       "72        BİREYSEL       1168      E          BEKAR     HS_below    PRIVATE   \n",
       "128       BİREYSEL        728      E           EVLİ     HS_below    PRIVATE   \n",
       "360       BİREYSEL        571      E          BEKAR     HS_below    PRIVATE   \n",
       "550       BİREYSEL       1343      E           EVLİ     HS_below     PUBLIC   \n",
       "...            ...        ...    ...            ...          ...        ...   \n",
       "9871      BİREYSEL        692      K           EVLİ   University    PRIVATE   \n",
       "9876      BİREYSEL        766      K          BEKAR     Graduate    PRIVATE   \n",
       "9964      BİREYSEL        392      K       BOŞANMIŞ     HS_below    PRIVATE   \n",
       "10127     BİREYSEL        161      E          BEKAR     HS_below    PRIVATE   \n",
       "10184     BİREYSEL        194      K           EVLİ   University    PRIVATE   \n",
       "\n",
       "        Income  Age  Years_w_Bank Work_Region  ...  \\\n",
       "21      2000.0   44           9.0     MARMARA  ...   \n",
       "72      1200.0   25           3.0     MARMARA  ...   \n",
       "128    13311.0   44          11.0     MARMARA  ...   \n",
       "360     1500.0   25           1.0     MARMARA  ...   \n",
       "550     2422.0   51           3.0     MARMARA  ...   \n",
       "...        ...  ...           ...         ...  ...   \n",
       "9871       0.0   35          13.0     MARMARA  ...   \n",
       "9876       0.0   47           7.0     MARMARA  ...   \n",
       "9964    3000.0   45           8.0     MARMARA  ...   \n",
       "10127   1100.0   27           3.0     MARMARA  ...   \n",
       "10184      0.0   31           7.0     MARMARA  ...   \n",
       "\n",
       "      SEYAHAT ACENTALARI - TAŞIMACILIK SPOR GİYİM  SİGORTA  \\\n",
       "21                                 NaN        NaN      NaN   \n",
       "72                                 NaN        NaN      NaN   \n",
       "128                                NaN        NaN      NaN   \n",
       "360                                NaN        NaN      NaN   \n",
       "550                                NaN        NaN      NaN   \n",
       "...                                ...        ...      ...   \n",
       "9871                               NaN        NaN      NaN   \n",
       "9876                               NaN        NaN      NaN   \n",
       "9964                               NaN        NaN      NaN   \n",
       "10127                              NaN        NaN      NaN   \n",
       "10184                              NaN        NaN      NaN   \n",
       "\n",
       "       SİGORTA-MAIL ORDER  SİNEMA TİYATRO SANAT  TEKNOLOJİ  TEKSTİL  \\\n",
       "21                    NaN                   NaN        NaN      NaN   \n",
       "72                    NaN                   NaN        NaN      NaN   \n",
       "128                   NaN                   NaN        NaN      NaN   \n",
       "360                   NaN                   NaN        NaN      NaN   \n",
       "550                   NaN                   NaN        NaN      NaN   \n",
       "...                   ...                   ...        ...      ...   \n",
       "9871                  NaN                   NaN        NaN      NaN   \n",
       "9876                  NaN                   NaN        NaN      NaN   \n",
       "9964                  NaN                   NaN        NaN      NaN   \n",
       "10127                 NaN                   NaN        NaN      NaN   \n",
       "10184                 NaN                   NaN        NaN      NaN   \n",
       "\n",
       "       TELEKOMÜNİKASYON  YAPI MALZ., HIRDAVAT, NALBURİYE  \\\n",
       "21                  NaN                              NaN   \n",
       "72                  NaN                              NaN   \n",
       "128                 NaN                              NaN   \n",
       "360                 NaN                              NaN   \n",
       "550                 NaN                              NaN   \n",
       "...                 ...                              ...   \n",
       "9871                NaN                              NaN   \n",
       "9876                NaN                              NaN   \n",
       "9964                NaN                              NaN   \n",
       "10127               NaN                              NaN   \n",
       "10184               NaN                              NaN   \n",
       "\n",
       "       İÇKİLİ YERLER - KUMARHANE  \n",
       "21                           NaN  \n",
       "72                           NaN  \n",
       "128                          NaN  \n",
       "360                          NaN  \n",
       "550                          NaN  \n",
       "...                          ...  \n",
       "9871                         NaN  \n",
       "9876                         NaN  \n",
       "9964                         NaN  \n",
       "10127                        NaN  \n",
       "10184                        NaN  \n",
       "\n",
       "[116 rows x 66 columns]"
      ]
     },
     "execution_count": 25,
     "metadata": {},
     "output_type": "execute_result"
    }
   ],
   "source": [
    "demo_df[demo_df['DİĞER'].isnull()]\n",
    "#looks like these customers didn't have transaction data or did not use their credit cards"
   ]
  },
  {
   "cell_type": "code",
   "execution_count": 26,
   "id": "e9d1473b-2386-494e-9365-167634a19a2e",
   "metadata": {},
   "outputs": [],
   "source": [
    "#demo_df.dropna(subset=[\"AKARYAKIT\"], inplace=True)\n",
    "demo_df.dropna(subset=[\"Home_Region\"], inplace=True)\n",
    "demo_df.dropna(subset=[\"Branch_Region\"], inplace=True)\n",
    "demo_df.dropna(subset=[\"transaction_health_mean\"], inplace=True)\n",
    "demo_df.dropna(subset=[\"transaction_health_max\"], inplace=True)"
   ]
  },
  {
   "cell_type": "code",
   "execution_count": 27,
   "id": "4c88cbd5-8e93-4a17-9cdf-061fde3ff91b",
   "metadata": {},
   "outputs": [],
   "source": [
    "demo_df.drop(['transaction_food_mean', 'transaction_food_max', 'transaction_gas_mean', 'transaction_gas_max'], axis = 1, inplace=True)"
   ]
  },
  {
   "cell_type": "code",
   "execution_count": 28,
   "id": "5783ea16-a7a2-42d1-b75e-c374d898cddd",
   "metadata": {},
   "outputs": [],
   "source": [
    "demo_df.drop(demo_df[demo_df['Job_Status'] == 'ÇOCUK (18 YAŞIN ALTINDA)'].index, inplace = True)\n",
    "demo_df.drop(demo_df[demo_df['Job_Status'] == 'YURTDIŞINDA ÇALIŞAN'].index, inplace = True)                     \n",
    "demo_df.drop(demo_df[demo_df['Job_Status'] == 'TANIMSIZ'].index, inplace = True)        \n",
    "demo_df.drop(demo_df[demo_df['Job_Status'] == 'DİĞER'].index, inplace = True)        "
   ]
  },
  {
   "cell_type": "code",
   "execution_count": 29,
   "id": "f0163bb5-9135-4b75-889c-8f3799fc159d",
   "metadata": {},
   "outputs": [
    {
     "data": {
      "text/plain": [
       "PRIVATE       4677\n",
       "PUBLIC         400\n",
       "UNEMPLOYED     254\n",
       "Name: Job_Status, dtype: int64"
      ]
     },
     "execution_count": 29,
     "metadata": {},
     "output_type": "execute_result"
    }
   ],
   "source": [
    "demo_df['Job_Status'].value_counts()"
   ]
  },
  {
   "cell_type": "code",
   "execution_count": 30,
   "id": "327d6697-9a0c-427e-8bd9-b4a8bb99f7ff",
   "metadata": {
    "tags": []
   },
   "outputs": [
    {
     "data": {
      "image/png": "[encoded data removed]",
      "text/plain": [
       "<Figure size 1440x1080 with 12 Axes>"
      ]
     },
     "metadata": {
      "needs_background": "light"
     },
     "output_type": "display_data"
    }
   ],
   "source": [
    "# Data Exploration\n",
    "%matplotlib inline\n",
    "import matplotlib.pyplot as plt\n",
    "demo_df.iloc[:,0:19].hist(bins=50, figsize=(20,15))\n",
    "plt.show()"
   ]
  },
  {
   "cell_type": "code",
   "execution_count": 31,
   "id": "96739dac-82b4-4a54-bf06-19a2893b440c",
   "metadata": {},
   "outputs": [
    {
     "data": {
      "image/png": "[encoded data removed]",
      "text/plain": [
       "<Figure size 1440x1080 with 42 Axes>"
      ]
     },
     "metadata": {
      "needs_background": "light"
     },
     "output_type": "display_data"
    }
   ],
   "source": [
    "demo_df.iloc[:,20:].hist(bins=50, figsize=(20,15))\n",
    "plt.show()"
   ]
  },
  {
   "cell_type": "code",
   "execution_count": 32,
   "id": "21b463e6-9380-4e3b-ae04-17f8386dd4d9",
   "metadata": {},
   "outputs": [
    {
     "data": {
      "text/plain": [
       "array(['Cust_Segment', 'Branch_ID', 'Gender', 'Marital_Status',\n",
       "       'Education_Lv', 'Job_Status', 'Income', 'Age', 'Years_w_Bank',\n",
       "       'Work_Region', 'Home_Region', 'Branch_Region', '1)RISKSIZ',\n",
       "       '2)GECIKME 1-15 GUN', '3)GECIKME 16-29 GUN', '4)GECIKME 30-59 GUN',\n",
       "       '5)GECIKME 60+ GUN', '6)TAKIP', 'statement_mean', 'statement_max',\n",
       "       'transaction1_mean', 'transaction1_max', 'transaction2_mean',\n",
       "       'transaction2_max', 'online_trans_percent',\n",
       "       'transaction_health_mean', 'transaction_health_max', 'AKARYAKIT',\n",
       "       'ALIŞVERİŞ MERKEZLERİ', 'ARABA KİRALAMA', 'AYAKKABI', 'BEYAZ EŞYA',\n",
       "       'DENİZ TAŞITLARI KİRALAMA, SATIŞ, BAKIM',\n",
       "       'DOĞRUDAN PAZARLAMA-MAIL ORDER', 'DİĞER', 'EĞLENCE VE SPOR',\n",
       "       'EĞİTİM', 'GIDA', 'HAVAYOLLARI', 'HOTEL', 'HİZMET SEKTÖRLERİ',\n",
       "       'KOZMETİK', 'KUYUMCU', 'MOBİLYA, DEKORASYON', 'MOTOSİKLET',\n",
       "       'MUZIK MARKET KIRTASİYE', 'NAKİT AVANS', 'OPTİK', 'OTOMOTİV',\n",
       "       'OYUNCAK', 'RESTORAN', 'SAĞLIK',\n",
       "       'SEYAHAT ACENTALARI - TAŞIMACILIK', 'SPOR GİYİM', 'SİGORTA',\n",
       "       'SİGORTA-MAIL ORDER', 'SİNEMA TİYATRO SANAT', 'TEKNOLOJİ',\n",
       "       'TEKSTİL', 'TELEKOMÜNİKASYON', 'YAPI MALZ., HIRDAVAT, NALBURİYE',\n",
       "       'İÇKİLİ YERLER - KUMARHANE'], dtype=object)"
      ]
     },
     "execution_count": 32,
     "metadata": {},
     "output_type": "execute_result"
    }
   ],
   "source": [
    "demo_df.columns.values"
   ]
  },
  {
   "cell_type": "markdown",
   "id": "5c945681-ceb3-4d8f-a1ab-31d30cdcedda",
   "metadata": {},
   "source": [
    "## Data Processing"
   ]
  },
  {
   "cell_type": "code",
   "execution_count": 33,
   "id": "f1c3a3e1-92c2-488b-b9c8-bb091a775a43",
   "metadata": {},
   "outputs": [],
   "source": [
    "#train/test split\n",
    "from sklearn.model_selection import StratifiedShuffleSplit\n",
    "\n",
    "split = StratifiedShuffleSplit(n_splits=1, test_size=0.2, random_state=42)\n",
    "\n",
    "for train_index, test_index in split.split(demo_df, demo_df[\"Job_Status\"]):\n",
    "    train_set = demo_df.iloc[train_index]\n",
    "    test_set = demo_df.iloc[test_index]"
   ]
  },
  {
   "cell_type": "code",
   "execution_count": 34,
   "id": "0b02afa7-db33-4493-b216-c5b5300cf9cd",
   "metadata": {},
   "outputs": [],
   "source": [
    "# separate labels from feature matrix\n",
    "train_y = train_set['Job_Status']\n",
    "train_X = train_set.drop('Job_Status', axis = 1)\n",
    "test_y = test_set['Job_Status']\n",
    "test_X = test_set.drop('Job_Status', axis = 1)"
   ]
  },
  {
   "cell_type": "code",
   "execution_count": 35,
   "id": "605d3734-1291-4723-8f47-52d3685b4480",
   "metadata": {},
   "outputs": [],
   "source": [
    "#pipeline\n",
    "\n",
    "# locations, gender, marital status, education level, job status, penalties\n",
    "# Additional processing with full data set: drop home region branch region nulls\n",
    "\n",
    "from sklearn.pipeline import Pipeline\n",
    "from sklearn.preprocessing import StandardScaler\n",
    "from sklearn.impute import SimpleImputer\n",
    "\n",
    "num_pipeline = Pipeline([\n",
    "('imputer', SimpleImputer(strategy=\"median\")),\n",
    "('std_scaler', StandardScaler())\n",
    "])"
   ]
  },
  {
   "cell_type": "code",
   "execution_count": 36,
   "id": "31713ee5-669e-4273-a4b0-3727510a1e27",
   "metadata": {},
   "outputs": [],
   "source": [
    "from sklearn.preprocessing import OneHotEncoder\n",
    "\n",
    "cat_pipeline  = Pipeline([\n",
    "('cat_encoder', OneHotEncoder())\n",
    "])"
   ]
  },
  {
   "cell_type": "code",
   "execution_count": 37,
   "id": "7d3a6d3a-c391-47c6-8cf7-eca0b5394b49",
   "metadata": {},
   "outputs": [],
   "source": [
    "from sklearn.compose import ColumnTransformer\n",
    "num_attribs = ['Branch_ID', 'Income', 'Age', 'Years_w_Bank', '1)RISKSIZ',\n",
    "       '2)GECIKME 1-15 GUN', '3)GECIKME 16-29 GUN', '4)GECIKME 30-59 GUN',\n",
    "       '5)GECIKME 60+ GUN', '6)TAKIP', 'statement_mean', 'statement_max',\n",
    "       'transaction1_mean', 'transaction1_max', 'transaction2_mean',\n",
    "       'transaction2_max', 'online_trans_percent',\n",
    "       'transaction_health_mean', 'transaction_health_max', 'AKARYAKIT',\n",
    "       'ALIŞVERİŞ MERKEZLERİ', 'ARABA KİRALAMA', 'AYAKKABI', 'BEYAZ EŞYA',\n",
    "       'DENİZ TAŞITLARI KİRALAMA, SATIŞ, BAKIM',\n",
    "       'DOĞRUDAN PAZARLAMA-MAIL ORDER', 'DİĞER', 'EĞLENCE VE SPOR',\n",
    "       'EĞİTİM', 'GIDA', 'HAVAYOLLARI', 'HOTEL', 'HİZMET SEKTÖRLERİ',\n",
    "       'KOZMETİK', 'KUYUMCU', 'MOBİLYA, DEKORASYON', 'MOTOSİKLET',\n",
    "       'MUZIK MARKET KIRTASİYE', 'NAKİT AVANS', 'OPTİK', 'OTOMOTİV',\n",
    "       'OYUNCAK', 'RESTORAN', 'SAĞLIK',\n",
    "       'SEYAHAT ACENTALARI - TAŞIMACILIK', 'SPOR GİYİM', 'SİGORTA',\n",
    "       'SİGORTA-MAIL ORDER', 'SİNEMA TİYATRO SANAT', 'TEKNOLOJİ',\n",
    "       'TEKSTİL', 'TELEKOMÜNİKASYON', 'YAPI MALZ., HIRDAVAT, NALBURİYE',\n",
    "       'İÇKİLİ YERLER - KUMARHANE']\n",
    "cat_attribs = ['Cust_Segment', 'Gender', 'Marital_Status', 'Education_Lv', 'Work_Region', 'Home_Region', 'Branch_Region']\n",
    "\n",
    "full_pipeline = ColumnTransformer([\n",
    "(\"num\", num_pipeline, num_attribs),\n",
    "(\"cat\", cat_pipeline, cat_attribs), \n",
    "], remainder = 'passthrough')"
   ]
  },
  {
   "cell_type": "code",
   "execution_count": 38,
   "id": "dc23ffaf-de18-4323-8170-f93641f583bb",
   "metadata": {},
   "outputs": [],
   "source": [
    "train_X_prepared = full_pipeline.fit_transform(train_X)"
   ]
  },
  {
   "cell_type": "code",
   "execution_count": 39,
   "id": "aaa96a2d-d077-4380-b95f-69ddd5f3df31",
   "metadata": {},
   "outputs": [],
   "source": [
    "# train_y = (train_y == 'EVLİ')\n",
    "# test_y_md = (test_y == 'EVLİ')"
   ]
  },
  {
   "cell_type": "markdown",
   "id": "49fbdd25-f31a-4c33-8a29-e707c697d011",
   "metadata": {
    "tags": []
   },
   "source": [
    "## Dimensionality Reduction"
   ]
  },
  {
   "cell_type": "code",
   "execution_count": 40,
   "id": "bf782f8f-1df1-421e-8531-4fa7f29bc1b5",
   "metadata": {},
   "outputs": [],
   "source": [
    "#pca\n",
    "from sklearn.decomposition import TruncatedSVD\n",
    "\n",
    "TruncSVD = TruncatedSVD(n_components = 90)\n",
    "TruncSVD.fit(train_X_prepared)\n",
    "cumsum = np.cumsum(TruncSVD.explained_variance_ratio_)\n",
    "d = np.argmax(cumsum >= 0.90) + 1"
   ]
  },
  {
   "cell_type": "code",
   "execution_count": 41,
   "id": "597e3df5-ffd8-42ec-b4ce-745f67ec8b60",
   "metadata": {},
   "outputs": [
    {
     "data": {
      "text/plain": [
       "41"
      ]
     },
     "execution_count": 41,
     "metadata": {},
     "output_type": "execute_result"
    }
   ],
   "source": [
    "d"
   ]
  },
  {
   "cell_type": "code",
   "execution_count": 42,
   "id": "773b4897-1401-482e-92f7-780584095957",
   "metadata": {},
   "outputs": [
    {
     "data": {
      "image/png": "[encoded data removed]",
      "text/plain": [
       "<Figure size 432x288 with 1 Axes>"
      ]
     },
     "metadata": {
      "needs_background": "light"
     },
     "output_type": "display_data"
    }
   ],
   "source": [
    "plt.figure(figsize=(6,4))\n",
    "plt.plot(cumsum, linewidth=3)\n",
    "plt.axis([0, 94, 0, 1])\n",
    "plt.xlabel(\"Dimensions\")\n",
    "plt.ylabel(\"Explained Variance\")\n",
    "plt.plot([d, d], [0, 0.90], \"k:\")\n",
    "plt.plot([0, d], [0.90, 0.90], \"k:\")\n",
    "plt.plot(d, 0.90, \"ko\")\n",
    "\n",
    "plt.grid(True)\n",
    "# save_fig(\"explained_variance_plot\")\n",
    "plt.show()\n",
    "\n",
    "# try 8 dimensions"
   ]
  },
  {
   "cell_type": "code",
   "execution_count": 43,
   "id": "2690e575-f05b-4d37-baf1-bac064a35abb",
   "metadata": {
    "tags": []
   },
   "outputs": [],
   "source": [
    "TruncSVD = TruncatedSVD(n_components=41)\n",
    "X_reduced = TruncSVD.fit_transform(train_X_prepared)"
   ]
  },
  {
   "cell_type": "markdown",
   "id": "43d38073-b0b3-4a8f-af1e-85597f8f6b05",
   "metadata": {},
   "source": [
    "# Train Model"
   ]
  },
  {
   "cell_type": "markdown",
   "id": "5c3b2278-3292-42a0-9c73-2da047712307",
   "metadata": {},
   "source": [
    "## Bagging Classifier"
   ]
  },
  {
   "cell_type": "markdown",
   "id": "5f1c854f-555f-4ebf-a669-3d92e4fd415b",
   "metadata": {
    "tags": []
   },
   "source": [
    "### Randomized Search"
   ]
  },
  {
   "cell_type": "code",
   "execution_count": 44,
   "id": "33f0ac44-d9fb-41b0-920d-ea49a0082829",
   "metadata": {
    "tags": []
   },
   "outputs": [
    {
     "data": {
      "text/plain": [
       "RandomizedSearchCV(cv=3,\n",
       "                   estimator=BaggingClassifier(base_estimator=DecisionTreeClassifier()),\n",
       "                   n_iter=20,\n",
       "                   param_distributions={'base_estimator__max_depth': <scipy.stats._distn_infrastructure.rv_frozen object at 0x7fe85abe0d90>,\n",
       "                                        'base_estimator__max_features': <scipy.stats._distn_infrastructure.rv_frozen object at 0x7fe85abe0d60>,\n",
       "                                        'n_estimators': <scipy.stats._distn_infrastructure.rv_frozen object at 0x7fe8583ff8e0>},\n",
       "                   random_state=16, scoring='f1_weighted')"
      ]
     },
     "execution_count": 44,
     "metadata": {},
     "output_type": "execute_result"
    }
   ],
   "source": [
    "from sklearn.model_selection import RandomizedSearchCV\n",
    "from scipy.stats import randint\n",
    "from sklearn.tree import DecisionTreeClassifier\n",
    "from sklearn.ensemble import BaggingClassifier\n",
    "\n",
    "param_distribs = {\n",
    "        'base_estimator__max_depth': randint(low=1, high=10),\n",
    "        'base_estimator__max_features': randint(low=1, high=10),\n",
    "        'n_estimators': randint(low=100, high=300)\n",
    "    }\n",
    "\n",
    "dt_classif = DecisionTreeClassifier() \n",
    "\n",
    "bag_classif = BaggingClassifier(base_estimator = dt_classif)\n",
    "rnd_search_cv = RandomizedSearchCV(bag_classif, param_distributions=param_distribs,\n",
    "                                n_iter=20, cv=3, scoring='f1_weighted', random_state=16)\n",
    "rnd_search_cv.fit(X_reduced, train_y)"
   ]
  },
  {
   "cell_type": "code",
   "execution_count": 45,
   "id": "b8aa3194-c1e2-409e-b537-4ffd5c4ea167",
   "metadata": {},
   "outputs": [
    {
     "data": {
      "text/plain": [
       "{'base_estimator__max_depth': 9,\n",
       " 'base_estimator__max_features': 8,\n",
       " 'n_estimators': 141}"
      ]
     },
     "execution_count": 45,
     "metadata": {},
     "output_type": "execute_result"
    }
   ],
   "source": [
    "rnd_search_cv.best_params_"
   ]
  },
  {
   "cell_type": "markdown",
   "id": "d01f9df3-3277-4935-80fd-e2642c2cec13",
   "metadata": {},
   "source": [
    "### Training"
   ]
  },
  {
   "cell_type": "markdown",
   "id": "892ab9de-a3d1-46dd-b9ba-395953867bb5",
   "metadata": {},
   "source": [
    "#### All Dimensions"
   ]
  },
  {
   "cell_type": "code",
   "execution_count": 46,
   "id": "b6145cd8-2f68-480f-85e2-bc105708311b",
   "metadata": {},
   "outputs": [],
   "source": [
    "# from sklearn.ensemble import BaggingClassifier\n",
    "# from sklearn.tree import DecisionTreeClassifier\n",
    "\n",
    "# bag_clf = BaggingClassifier(\n",
    "#     DecisionTreeClassifier(max_depth=8, max_features=6), n_estimators=115,\n",
    "#     max_samples=100, bootstrap=True, n_jobs=-1,\n",
    "#     oob_score=True)\n",
    "\n",
    "# bag_clf.fit(train_X_prepared, train_y)\n",
    "\n",
    "# bag_clf.oob_score_"
   ]
  },
  {
   "cell_type": "code",
   "execution_count": 47,
   "id": "c95c8ef8-8354-4224-a439-0585b456a94c",
   "metadata": {},
   "outputs": [],
   "source": [
    "# from sklearn.model_selection import cross_val_predict\n",
    "\n",
    "# y_train_pred = cross_val_predict(bag_clf, X_reduced, train_y, cv = 3)"
   ]
  },
  {
   "cell_type": "code",
   "execution_count": 48,
   "id": "d6e2cfee-6c6b-4691-8b33-1f4d89b7ef09",
   "metadata": {},
   "outputs": [],
   "source": [
    "# from sklearn.metrics import accuracy_score\n",
    "\n",
    "# accuracy_score(train_y, y_train_pred)"
   ]
  },
  {
   "cell_type": "code",
   "execution_count": 49,
   "id": "bf3259d8-1f8b-42c3-9bba-707a04c0b2f8",
   "metadata": {},
   "outputs": [],
   "source": [
    "# from sklearn.metrics import confusion_matrix\n",
    "\n",
    "# confusion_matrix(train_y, y_train_pred)"
   ]
  },
  {
   "cell_type": "code",
   "execution_count": 50,
   "id": "2d4ab29b-61cf-4aa6-90ac-adf35711a29c",
   "metadata": {},
   "outputs": [],
   "source": [
    "# How to treat branch_id - should be discrete\n",
    "\n",
    "# download docker container image with components needed\n",
    "# set up conda environment, install rapids\n",
    "# rapids.ai"
   ]
  },
  {
   "cell_type": "markdown",
   "id": "4686c8a2-c6cf-45eb-9885-a9cf4973b920",
   "metadata": {},
   "source": [
    "#### Reduced Dimensions"
   ]
  },
  {
   "cell_type": "code",
   "execution_count": 51,
   "id": "053a0f18-604d-46dd-b266-4d78e079658c",
   "metadata": {},
   "outputs": [],
   "source": [
    "# bag_clf = BaggingClassifier(\n",
    "#     DecisionTreeClassifier(max_depth=8, max_features=6), n_estimators=115,\n",
    "#     max_samples=100, bootstrap=True, n_jobs=-1,\n",
    "#     oob_score=True)\n",
    "\n",
    "# bag_clf.fit(X_reduced, train_y)\n",
    "\n",
    "# bag_clf.oob_score_"
   ]
  },
  {
   "cell_type": "code",
   "execution_count": 52,
   "id": "fbc00453-f2b3-442e-8460-d1d52cafeb73",
   "metadata": {},
   "outputs": [],
   "source": [
    "# y_train_pred = cross_val_predict(bag_clf, X_reduced, train_y, cv = 3)\n",
    "\n",
    "# accuracy_score(train_y, y_train_pred)"
   ]
  },
  {
   "cell_type": "code",
   "execution_count": 53,
   "id": "200912de-ee73-4f3b-a59e-8958906cab81",
   "metadata": {},
   "outputs": [],
   "source": [
    "# confusion_matrix(train_y, y_train_pred)"
   ]
  },
  {
   "cell_type": "markdown",
   "id": "93582c2e-57fe-4420-b5c3-758b42520cc1",
   "metadata": {},
   "source": [
    "## AdaBoost"
   ]
  },
  {
   "cell_type": "markdown",
   "id": "bc6692da-d0b8-41df-a31d-0c392d6ce7de",
   "metadata": {},
   "source": [
    "### Random Search"
   ]
  },
  {
   "cell_type": "code",
   "execution_count": 54,
   "id": "a1ea6c21-dded-4550-a6e7-8a2405c036b1",
   "metadata": {},
   "outputs": [
    {
     "data": {
      "text/plain": [
       "RandomizedSearchCV(cv=3,\n",
       "                   estimator=AdaBoostClassifier(base_estimator=DecisionTreeClassifier()),\n",
       "                   n_iter=20,\n",
       "                   param_distributions={'base_estimator__max_depth': <scipy.stats._distn_infrastructure.rv_frozen object at 0x7fe850f620a0>,\n",
       "                                        'base_estimator__max_features': <scipy.stats._distn_infrastructure.rv_frozen object at 0x7fe850f73280>,\n",
       "                                        'learning_rate': [0.1, 0.2, 0.3, 0.4,\n",
       "                                                          0.5],\n",
       "                                        'n_estimators': <scipy.stats._distn_infrastructure.rv_frozen object at 0x7fe850f62730>},\n",
       "                   random_state=16, scoring='f1_weighted')"
      ]
     },
     "execution_count": 54,
     "metadata": {},
     "output_type": "execute_result"
    }
   ],
   "source": [
    "from sklearn.model_selection import RandomizedSearchCV\n",
    "from scipy.stats import randint\n",
    "from sklearn.ensemble import AdaBoostClassifier\n",
    "\n",
    "param_distribs = {\n",
    "        'base_estimator__max_depth': randint(low=1, high=10),\n",
    "        'base_estimator__max_features': randint(low=1, high=10),\n",
    "        'n_estimators': randint(low=100, high=500),\n",
    "        'learning_rate': [0.1, 0.2, 0.3, 0.4, 0.5]\n",
    "    }\n",
    "\n",
    "dt_classif = DecisionTreeClassifier() \n",
    "\n",
    "ada_classif = AdaBoostClassifier(base_estimator = dt_classif, algorithm=\"SAMME.R\")\n",
    "rnd_search = RandomizedSearchCV(ada_classif, param_distributions=param_distribs,\n",
    "                                n_iter=20, cv=3, scoring='f1_weighted', random_state=16)\n",
    "rnd_search.fit(X_reduced, train_y)"
   ]
  },
  {
   "cell_type": "code",
   "execution_count": 55,
   "id": "05619207-d6ee-4c09-a972-25ff59143e6b",
   "metadata": {
    "tags": []
   },
   "outputs": [
    {
     "data": {
      "text/plain": [
       "{'base_estimator__max_depth': 1,\n",
       " 'base_estimator__max_features': 6,\n",
       " 'learning_rate': 0.5,\n",
       " 'n_estimators': 384}"
      ]
     },
     "execution_count": 55,
     "metadata": {},
     "output_type": "execute_result"
    }
   ],
   "source": [
    "rnd_search.best_params_"
   ]
  },
  {
   "cell_type": "markdown",
   "id": "8491e2d7-9448-41c3-82be-1bc2e1138fdf",
   "metadata": {},
   "source": [
    "### Training"
   ]
  },
  {
   "cell_type": "code",
   "execution_count": 56,
   "id": "d5caab1e-bcaf-449f-a910-8bea6ac3fff6",
   "metadata": {},
   "outputs": [],
   "source": [
    "# ada_clf = AdaBoostClassifier(\n",
    "# DecisionTreeClassifier(max_depth=4, max_features=4), n_estimators=462,\n",
    "# algorithm=\"SAMME.R\", learning_rate=0.4)\n",
    "\n",
    "# ada_clf.fit(X_reduced, train_y)"
   ]
  },
  {
   "cell_type": "code",
   "execution_count": 57,
   "id": "ba2be8b3-2e6a-4080-9139-8a4effac2477",
   "metadata": {},
   "outputs": [],
   "source": [
    "# from sklearn.model_selection import cross_val_predict\n",
    "\n",
    "# y_train_pred = cross_val_predict(ada_clf, X_reduced, train_y, cv = 3)"
   ]
  },
  {
   "cell_type": "code",
   "execution_count": 58,
   "id": "8842e999-d035-4d5b-8111-c284a6710113",
   "metadata": {},
   "outputs": [],
   "source": [
    "# confusion_matrix(train_y, y_train_pred)"
   ]
  },
  {
   "cell_type": "code",
   "execution_count": 59,
   "id": "103c6597-26b4-4cc4-8fcc-f5ddfea7a5ed",
   "metadata": {},
   "outputs": [],
   "source": [
    "# accuracy_score(train_y, y_train_pred)"
   ]
  },
  {
   "cell_type": "markdown",
   "id": "bc08ee90-e52f-49d8-9498-e3ed8618ed5e",
   "metadata": {},
   "source": [
    "## Gradient Boost"
   ]
  },
  {
   "cell_type": "markdown",
   "id": "a8e65fd4-eea5-4374-bb56-678be2e10518",
   "metadata": {},
   "source": [
    "### Random Search"
   ]
  },
  {
   "cell_type": "code",
   "execution_count": 60,
   "id": "f943c7f6-79e4-44bf-a525-7f79d0429da6",
   "metadata": {},
   "outputs": [
    {
     "data": {
      "text/plain": [
       "RandomizedSearchCV(cv=3, estimator=GradientBoostingClassifier(),\n",
       "                   param_distributions={'learning_rate': [0.1, 0.2, 0.3, 0.4,\n",
       "                                                          0.5],\n",
       "                                        'max_depth': <scipy.stats._distn_infrastructure.rv_frozen object at 0x7fe850f471f0>,\n",
       "                                        'max_features': <scipy.stats._distn_infrastructure.rv_frozen object at 0x7fe850f474c0>,\n",
       "                                        'n_estimators': <scipy.stats._distn_infrastructure.rv_frozen object at 0x7fe8722605e0>},\n",
       "                   random_state=16, scoring='f1_weighted')"
      ]
     },
     "execution_count": 60,
     "metadata": {},
     "output_type": "execute_result"
    }
   ],
   "source": [
    "from sklearn.model_selection import RandomizedSearchCV\n",
    "from sklearn.ensemble import GradientBoostingClassifier\n",
    "from scipy.stats import randint\n",
    "\n",
    "param_distribs = {\n",
    "        'max_depth': randint(low=1, high=10),\n",
    "        'max_features': randint(low=1, high=10),\n",
    "        'n_estimators': randint(low=100, high=500),\n",
    "        'learning_rate': [0.1, 0.2, 0.3, 0.4, 0.5]\n",
    "    }\n",
    "\n",
    "\n",
    "gb_classif = GradientBoostingClassifier()\n",
    "rd_search = RandomizedSearchCV(gb_classif, param_distributions=param_distribs,\n",
    "                                n_iter=10, cv=3, scoring='f1_weighted', random_state=16)\n",
    "rd_search.fit(train_X_prepared, train_y)"
   ]
  },
  {
   "cell_type": "code",
   "execution_count": 61,
   "id": "a7e4dbac-6346-4639-adaa-3b9469bfb5de",
   "metadata": {},
   "outputs": [
    {
     "data": {
      "text/plain": [
       "{'learning_rate': 0.2, 'max_depth': 3, 'max_features': 5, 'n_estimators': 306}"
      ]
     },
     "execution_count": 61,
     "metadata": {},
     "output_type": "execute_result"
    }
   ],
   "source": [
    "rd_search.best_params_"
   ]
  },
  {
   "cell_type": "markdown",
   "id": "0e429802-a542-4142-80f2-9b55b2b0f559",
   "metadata": {},
   "source": [
    "### Training"
   ]
  },
  {
   "cell_type": "code",
   "execution_count": 62,
   "id": "d340dc8b-925f-4201-898a-17cb2f5ad9d3",
   "metadata": {
    "tags": []
   },
   "outputs": [],
   "source": [
    "# gbrt = GradientBoostingClassifier(max_depth=6, max_features=3, n_estimators=336, learning_rate=0.1)\n",
    "# gbrt.fit(train_X_prepared, train_y)"
   ]
  },
  {
   "cell_type": "code",
   "execution_count": 63,
   "id": "3f7554be-cc24-43f5-a278-0a49dc2a139a",
   "metadata": {},
   "outputs": [],
   "source": [
    "# from sklearn.model_selection import cross_val_predict\n",
    "\n",
    "# y_train_pred = cross_val_predict(gbrt, train_X_prepared, train_y, cv = 3)"
   ]
  },
  {
   "cell_type": "code",
   "execution_count": 64,
   "id": "380a944a-be23-4217-a94b-fe7c05ca0101",
   "metadata": {
    "tags": []
   },
   "outputs": [],
   "source": [
    "# from sklearn.metrics import accuracy_score\n",
    "\n",
    "# accuracy_score(train_y, y_train_pred)"
   ]
  },
  {
   "cell_type": "code",
   "execution_count": 65,
   "id": "da7dc664-dbd8-44db-9c12-72cfdc6447ac",
   "metadata": {},
   "outputs": [],
   "source": [
    "# from sklearn.metrics import confusion_matrix\n",
    "\n",
    "# confusion_matrix(train_y, y_train_pred)"
   ]
  },
  {
   "cell_type": "code",
   "execution_count": 66,
   "id": "53f654d1-56a1-4bf1-99b5-88fbde2d1692",
   "metadata": {},
   "outputs": [],
   "source": [
    "# confusion_matrix(train_y, y_train_pred)"
   ]
  },
  {
   "cell_type": "markdown",
   "id": "6c09ab66-1fa5-4694-96f0-ae05fd2f96d9",
   "metadata": {},
   "source": [
    "## Neural Network"
   ]
  },
  {
   "cell_type": "code",
   "execution_count": 67,
   "id": "b22f33eb-0b8d-40ee-928e-4941222ba43f",
   "metadata": {},
   "outputs": [],
   "source": [
    "# import tensorflow as tf\n",
    "# from tensorflow import keras"
   ]
  },
  {
   "cell_type": "code",
   "execution_count": 68,
   "id": "0e10ab11-4f70-4458-ba2d-3b72f82a519e",
   "metadata": {
    "tags": []
   },
   "outputs": [],
   "source": [
    "# input_ = keras.layers.Input(shape=train_X_prepared.shape[1:])\n",
    "# hidden1 = keras.layers.Dense(25, activation=\"relu\")(input_)\n",
    "# hidden2 = keras.layers.Dense(25, activation=\"relu\")(hidden1)\n",
    "# hidden3 = keras.layers.Dense(25, activation=\"relu\")(hidden2)\n",
    "# output = keras.layers.Dense(1)(hidden3)\n",
    "# model = keras.models.Model(inputs=[input_], outputs=[output])\n",
    "# model.summary()"
   ]
  },
  {
   "cell_type": "code",
   "execution_count": 69,
   "id": "b8c4d712-743c-41f3-8190-aa06b05c62a5",
   "metadata": {},
   "outputs": [],
   "source": [
    "# model.compile(loss=\"binary_crossentropy\",\n",
    "# metrics=[\"accuracy\"])"
   ]
  },
  {
   "cell_type": "code",
   "execution_count": 70,
   "id": "f5c68861-d24a-4951-8f02-2d9b1d5873ed",
   "metadata": {
    "tags": []
   },
   "outputs": [],
   "source": [
    "# history = model.fit(X_train, y_train, epochs=30,\n",
    "# validation_data=(X_val, y_val))"
   ]
  }
 ],
 "metadata": {
  "kernelspec": {
   "display_name": "Python 3 (ipykernel)",
   "language": "python",
   "name": "python3"
  },
  "language_info": {
   "codemirror_mode": {
    "name": "ipython",
    "version": 3
   },
   "file_extension": ".py",
   "mimetype": "text/x-python",
   "name": "python",
   "nbconvert_exporter": "python",
   "pygments_lexer": "ipython3",
   "version": "3.9.5"
  }
 },
 "nbformat": 4,
 "nbformat_minor": 5
}
