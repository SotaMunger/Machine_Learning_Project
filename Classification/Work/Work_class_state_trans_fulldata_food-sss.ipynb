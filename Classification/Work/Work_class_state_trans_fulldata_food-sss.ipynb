{
 "cells": [
  {
   "cell_type": "markdown",
   "id": "5c25acc4-4dcd-4cb4-89a3-3c3aeaaa12cf",
   "metadata": {
    "tags": []
   },
   "source": [
    "# Work Status Classification (Private vs. Public vs. No Income)"
   ]
  },
  {
   "cell_type": "code",
   "execution_count": 82,
   "id": "e38e7947-14d0-4b1f-928c-d5d4177c8188",
   "metadata": {},
   "outputs": [],
   "source": [
    "# import packages\n",
    "import sklearn\n",
    "import numpy as np\n",
    "import pandas as pd\n",
    "%matplotlib inline\n",
    "import matplotlib as mpl\n",
    "import matplotlib.pyplot as plt\n",
    "\n",
    "np.random.seed(16)"
   ]
  },
  {
   "cell_type": "code",
   "execution_count": 83,
   "id": "8dfeb7bd-484c-42cd-a912-ada147d66275",
   "metadata": {},
   "outputs": [
    {
     "name": "stdout",
     "output_type": "stream",
     "text": [
      "<class 'pandas.core.frame.DataFrame'>\n",
      "RangeIndex: 103202 entries, 0 to 103201\n",
      "Data columns (total 33 columns):\n",
      " #   Column                   Non-Null Count   Dtype  \n",
      "---  ------                   --------------   -----  \n",
      " 0   Unnamed: 0               103202 non-null  int64  \n",
      " 1   Cust_ID                  103202 non-null  int64  \n",
      " 2   Cust_Segment             103202 non-null  object \n",
      " 3   Branch_ID                103202 non-null  int64  \n",
      " 4   Gender                   103202 non-null  object \n",
      " 5   Marital_Status           103202 non-null  object \n",
      " 6   Education_Lv             103202 non-null  object \n",
      " 7   Job_Status               103202 non-null  object \n",
      " 8   Income                   100752 non-null  float64\n",
      " 9   Age                      103202 non-null  int64  \n",
      " 10  Years_w_Bank             103197 non-null  float64\n",
      " 11  Work_Region              103202 non-null  object \n",
      " 12  Home_Region              103198 non-null  object \n",
      " 13  Branch_Region            103198 non-null  object \n",
      " 14  1)RISKSIZ                103202 non-null  float64\n",
      " 15  2)GECIKME 1-15 GUN       103202 non-null  float64\n",
      " 16  3)GECIKME 16-29 GUN      103202 non-null  float64\n",
      " 17  4)GECIKME 30-59 GUN      103202 non-null  float64\n",
      " 18  5)GECIKME 60+ GUN        103202 non-null  float64\n",
      " 19  6)TAKIP                  103202 non-null  float64\n",
      " 20  statement_mean           102227 non-null  float64\n",
      " 21  statement_max            102227 non-null  float64\n",
      " 22  transaction1_mean        100645 non-null  float64\n",
      " 23  transaction1_max         100645 non-null  float64\n",
      " 24  transaction2_mean        101076 non-null  float64\n",
      " 25  transaction2_max         101076 non-null  float64\n",
      " 26  online_trans_percent     101076 non-null  float64\n",
      " 27  transaction_food_mean    88265 non-null   float64\n",
      " 28  transaction_food_max     88265 non-null   float64\n",
      " 29  transaction_health_mean  53878 non-null   float64\n",
      " 30  transaction_health_max   53878 non-null   float64\n",
      " 31  transaction_gas_mean     57999 non-null   float64\n",
      " 32  transaction_gas_max      57999 non-null   float64\n",
      "dtypes: float64(21), int64(4), object(8)\n",
      "memory usage: 26.0+ MB\n"
     ]
    }
   ],
   "source": [
    "# load data\n",
    "csv_file = \"~/IDC5210_Machine_Learning/Project/Translated_data/demos_w_state_trans.csv\"\n",
    "demo_df = pd.read_csv(csv_file)\n",
    "demo_df.info()"
   ]
  },
  {
   "cell_type": "code",
   "execution_count": 84,
   "id": "4d1242c5-c2a2-48e7-8e56-954e628ff475",
   "metadata": {},
   "outputs": [
    {
     "name": "stdout",
     "output_type": "stream",
     "text": [
      "<class 'pandas.core.frame.DataFrame'>\n",
      "RangeIndex: 103202 entries, 0 to 103201\n",
      "Data columns (total 32 columns):\n",
      " #   Column                   Non-Null Count   Dtype  \n",
      "---  ------                   --------------   -----  \n",
      " 0   Cust_ID                  103202 non-null  int64  \n",
      " 1   Cust_Segment             103202 non-null  object \n",
      " 2   Branch_ID                103202 non-null  int64  \n",
      " 3   Gender                   103202 non-null  object \n",
      " 4   Marital_Status           103202 non-null  object \n",
      " 5   Education_Lv             103202 non-null  object \n",
      " 6   Job_Status               103202 non-null  object \n",
      " 7   Income                   100752 non-null  float64\n",
      " 8   Age                      103202 non-null  int64  \n",
      " 9   Years_w_Bank             103197 non-null  float64\n",
      " 10  Work_Region              103202 non-null  object \n",
      " 11  Home_Region              103198 non-null  object \n",
      " 12  Branch_Region            103198 non-null  object \n",
      " 13  1)RISKSIZ                103202 non-null  float64\n",
      " 14  2)GECIKME 1-15 GUN       103202 non-null  float64\n",
      " 15  3)GECIKME 16-29 GUN      103202 non-null  float64\n",
      " 16  4)GECIKME 30-59 GUN      103202 non-null  float64\n",
      " 17  5)GECIKME 60+ GUN        103202 non-null  float64\n",
      " 18  6)TAKIP                  103202 non-null  float64\n",
      " 19  statement_mean           102227 non-null  float64\n",
      " 20  statement_max            102227 non-null  float64\n",
      " 21  transaction1_mean        100645 non-null  float64\n",
      " 22  transaction1_max         100645 non-null  float64\n",
      " 23  transaction2_mean        101076 non-null  float64\n",
      " 24  transaction2_max         101076 non-null  float64\n",
      " 25  online_trans_percent     101076 non-null  float64\n",
      " 26  transaction_food_mean    88265 non-null   float64\n",
      " 27  transaction_food_max     88265 non-null   float64\n",
      " 28  transaction_health_mean  53878 non-null   float64\n",
      " 29  transaction_health_max   53878 non-null   float64\n",
      " 30  transaction_gas_mean     57999 non-null   float64\n",
      " 31  transaction_gas_max      57999 non-null   float64\n",
      "dtypes: float64(21), int64(3), object(8)\n",
      "memory usage: 25.2+ MB\n"
     ]
    }
   ],
   "source": [
    "# drop unnecessary columns\n",
    "demo_df.drop([\"Unnamed: 0\"], axis = 1, inplace=True)\n",
    "demo_df.info()"
   ]
  },
  {
   "cell_type": "code",
   "execution_count": 85,
   "id": "15fbbab9-ebc7-4d8d-b4fe-c3399d398c9a",
   "metadata": {},
   "outputs": [],
   "source": [
    "# # count risk types per row\n",
    "# risk_counts = demo_df.iloc[:,10:22].apply(pd.Series.value_counts, axis=1)\n",
    "# risk_counts = risk_counts.fillna(0)"
   ]
  },
  {
   "cell_type": "code",
   "execution_count": 86,
   "id": "20ace04b-9441-48b6-9217-7babb2c42f30",
   "metadata": {},
   "outputs": [],
   "source": [
    "# risk_counts"
   ]
  },
  {
   "cell_type": "code",
   "execution_count": 87,
   "id": "f5d6c197-3ec9-4192-b344-abbf0caa166b",
   "metadata": {},
   "outputs": [],
   "source": [
    "# demo_df = demo_df.join(risk_counts)\n",
    "# demo_df"
   ]
  },
  {
   "cell_type": "code",
   "execution_count": 88,
   "id": "9d2b7a51-d607-422f-aa1b-fa18ebcc2661",
   "metadata": {},
   "outputs": [],
   "source": [
    "# demo_df.drop(['.','Penalty_201407', 'Penalty_201408', 'Penalty_201409', \n",
    "#                   'Penalty_201410', 'Penalty_201411', 'Penalty_201412', 'Penalty_201501',\n",
    "#                   'Penalty_201502', 'Penalty_201503', 'Penalty_201504', 'Penalty_201505', \n",
    "#                   'Penalty_201506'], axis = 1, inplace=True)"
   ]
  },
  {
   "cell_type": "code",
   "execution_count": 89,
   "id": "45b77772-d30b-4003-bee1-e69e00fb5537",
   "metadata": {},
   "outputs": [],
   "source": [
    "demo_df.replace(to_replace=['ÜCRETLİ (ÖZEL)', 'SERBEST MESLEK', 'ÇALIŞAN EMEKLİ(SERBEST MESLEK)'], value = 'PRIVATE', inplace=True)\n",
    "demo_df.replace(to_replace=['ÇALIŞAN EMEKLİ(ÜCRETLİ)', 'ÜCRETLI (KAMU)'], value= 'PUBLIC', inplace = True)\n",
    "demo_df.replace(to_replace=['EMEKLİ', 'ÇALIŞMIYOR', 'EV HANIMI', 'ÖĞRENCİ', 'ÇOCUK (18 YAŞIN ALTINDA)'], value= 'UNEMPLOYED', inplace = True)"
   ]
  },
  {
   "cell_type": "code",
   "execution_count": 90,
   "id": "cfd35dd5-a011-4fbf-bb7e-b708349f024d",
   "metadata": {},
   "outputs": [
    {
     "data": {
      "text/html": [
       "<div>\n",
       "<style scoped>\n",
       "    .dataframe tbody tr th:only-of-type {\n",
       "        vertical-align: middle;\n",
       "    }\n",
       "\n",
       "    .dataframe tbody tr th {\n",
       "        vertical-align: top;\n",
       "    }\n",
       "\n",
       "    .dataframe thead th {\n",
       "        text-align: right;\n",
       "    }\n",
       "</style>\n",
       "<table border=\"1\" class=\"dataframe\">\n",
       "  <thead>\n",
       "    <tr style=\"text-align: right;\">\n",
       "      <th></th>\n",
       "      <th>Cust_ID</th>\n",
       "      <th>Cust_Segment</th>\n",
       "      <th>Branch_ID</th>\n",
       "      <th>Gender</th>\n",
       "      <th>Marital_Status</th>\n",
       "      <th>Education_Lv</th>\n",
       "      <th>Job_Status</th>\n",
       "      <th>Income</th>\n",
       "      <th>Age</th>\n",
       "      <th>Years_w_Bank</th>\n",
       "      <th>...</th>\n",
       "      <th>transaction1_max</th>\n",
       "      <th>transaction2_mean</th>\n",
       "      <th>transaction2_max</th>\n",
       "      <th>online_trans_percent</th>\n",
       "      <th>transaction_food_mean</th>\n",
       "      <th>transaction_food_max</th>\n",
       "      <th>transaction_health_mean</th>\n",
       "      <th>transaction_health_max</th>\n",
       "      <th>transaction_gas_mean</th>\n",
       "      <th>transaction_gas_max</th>\n",
       "    </tr>\n",
       "  </thead>\n",
       "  <tbody>\n",
       "    <tr>\n",
       "      <th>0</th>\n",
       "      <td>25139695</td>\n",
       "      <td>BİREYSEL</td>\n",
       "      <td>2</td>\n",
       "      <td>E</td>\n",
       "      <td>EVLİ</td>\n",
       "      <td>HS_below</td>\n",
       "      <td>PRIVATE</td>\n",
       "      <td>2500.0</td>\n",
       "      <td>55</td>\n",
       "      <td>2.0</td>\n",
       "      <td>...</td>\n",
       "      <td>500.00</td>\n",
       "      <td>147.319231</td>\n",
       "      <td>400.00</td>\n",
       "      <td>0.000000</td>\n",
       "      <td>32.175000</td>\n",
       "      <td>36.35</td>\n",
       "      <td>NaN</td>\n",
       "      <td>NaN</td>\n",
       "      <td>91.666667</td>\n",
       "      <td>150.00</td>\n",
       "    </tr>\n",
       "    <tr>\n",
       "      <th>1</th>\n",
       "      <td>21213035</td>\n",
       "      <td>BİREYSEL</td>\n",
       "      <td>2</td>\n",
       "      <td>E</td>\n",
       "      <td>BİLINMİYOR</td>\n",
       "      <td>HS_below</td>\n",
       "      <td>PRIVATE</td>\n",
       "      <td>2500.0</td>\n",
       "      <td>24</td>\n",
       "      <td>4.0</td>\n",
       "      <td>...</td>\n",
       "      <td>955.00</td>\n",
       "      <td>76.932222</td>\n",
       "      <td>550.00</td>\n",
       "      <td>0.027778</td>\n",
       "      <td>16.668421</td>\n",
       "      <td>43.00</td>\n",
       "      <td>NaN</td>\n",
       "      <td>NaN</td>\n",
       "      <td>NaN</td>\n",
       "      <td>NaN</td>\n",
       "    </tr>\n",
       "    <tr>\n",
       "      <th>2</th>\n",
       "      <td>23187800</td>\n",
       "      <td>BİREYSEL</td>\n",
       "      <td>2</td>\n",
       "      <td>E</td>\n",
       "      <td>EVLİ</td>\n",
       "      <td>HS_below</td>\n",
       "      <td>PRIVATE</td>\n",
       "      <td>850.0</td>\n",
       "      <td>39</td>\n",
       "      <td>3.0</td>\n",
       "      <td>...</td>\n",
       "      <td>1240.00</td>\n",
       "      <td>207.354167</td>\n",
       "      <td>1200.00</td>\n",
       "      <td>0.000000</td>\n",
       "      <td>190.294643</td>\n",
       "      <td>898.00</td>\n",
       "      <td>NaN</td>\n",
       "      <td>NaN</td>\n",
       "      <td>NaN</td>\n",
       "      <td>NaN</td>\n",
       "    </tr>\n",
       "    <tr>\n",
       "      <th>3</th>\n",
       "      <td>16400475</td>\n",
       "      <td>BİREBİR</td>\n",
       "      <td>2</td>\n",
       "      <td>E</td>\n",
       "      <td>EVLİ</td>\n",
       "      <td>University</td>\n",
       "      <td>PRIVATE</td>\n",
       "      <td>NaN</td>\n",
       "      <td>45</td>\n",
       "      <td>8.0</td>\n",
       "      <td>...</td>\n",
       "      <td>21912.00</td>\n",
       "      <td>6775.571818</td>\n",
       "      <td>15000.00</td>\n",
       "      <td>0.000000</td>\n",
       "      <td>15000.000000</td>\n",
       "      <td>15000.00</td>\n",
       "      <td>NaN</td>\n",
       "      <td>NaN</td>\n",
       "      <td>NaN</td>\n",
       "      <td>NaN</td>\n",
       "    </tr>\n",
       "    <tr>\n",
       "      <th>4</th>\n",
       "      <td>17303354</td>\n",
       "      <td>BİREYSEL</td>\n",
       "      <td>2</td>\n",
       "      <td>E</td>\n",
       "      <td>EVLİ</td>\n",
       "      <td>HS_below</td>\n",
       "      <td>PRIVATE</td>\n",
       "      <td>3500.0</td>\n",
       "      <td>35</td>\n",
       "      <td>7.0</td>\n",
       "      <td>...</td>\n",
       "      <td>5000.00</td>\n",
       "      <td>81.691711</td>\n",
       "      <td>2000.00</td>\n",
       "      <td>0.000000</td>\n",
       "      <td>38.436129</td>\n",
       "      <td>173.33</td>\n",
       "      <td>267.500000</td>\n",
       "      <td>500.0</td>\n",
       "      <td>41.611111</td>\n",
       "      <td>65.00</td>\n",
       "    </tr>\n",
       "    <tr>\n",
       "      <th>...</th>\n",
       "      <td>...</td>\n",
       "      <td>...</td>\n",
       "      <td>...</td>\n",
       "      <td>...</td>\n",
       "      <td>...</td>\n",
       "      <td>...</td>\n",
       "      <td>...</td>\n",
       "      <td>...</td>\n",
       "      <td>...</td>\n",
       "      <td>...</td>\n",
       "      <td>...</td>\n",
       "      <td>...</td>\n",
       "      <td>...</td>\n",
       "      <td>...</td>\n",
       "      <td>...</td>\n",
       "      <td>...</td>\n",
       "      <td>...</td>\n",
       "      <td>...</td>\n",
       "      <td>...</td>\n",
       "      <td>...</td>\n",
       "      <td>...</td>\n",
       "    </tr>\n",
       "    <tr>\n",
       "      <th>103197</th>\n",
       "      <td>9274456</td>\n",
       "      <td>BİREBİR</td>\n",
       "      <td>1228</td>\n",
       "      <td>E</td>\n",
       "      <td>EVLİ</td>\n",
       "      <td>University</td>\n",
       "      <td>PRIVATE</td>\n",
       "      <td>0.0</td>\n",
       "      <td>54</td>\n",
       "      <td>13.0</td>\n",
       "      <td>...</td>\n",
       "      <td>37664.79</td>\n",
       "      <td>164.051069</td>\n",
       "      <td>30000.00</td>\n",
       "      <td>0.094148</td>\n",
       "      <td>63.844953</td>\n",
       "      <td>250.00</td>\n",
       "      <td>63.398936</td>\n",
       "      <td>350.0</td>\n",
       "      <td>100.019600</td>\n",
       "      <td>258.05</td>\n",
       "    </tr>\n",
       "    <tr>\n",
       "      <th>103198</th>\n",
       "      <td>9316496</td>\n",
       "      <td>BİREYSEL</td>\n",
       "      <td>1261</td>\n",
       "      <td>E</td>\n",
       "      <td>EVLİ</td>\n",
       "      <td>University</td>\n",
       "      <td>PRIVATE</td>\n",
       "      <td>1044.0</td>\n",
       "      <td>31</td>\n",
       "      <td>13.0</td>\n",
       "      <td>...</td>\n",
       "      <td>3795.59</td>\n",
       "      <td>116.796154</td>\n",
       "      <td>570.00</td>\n",
       "      <td>0.230769</td>\n",
       "      <td>45.598333</td>\n",
       "      <td>100.58</td>\n",
       "      <td>39.000000</td>\n",
       "      <td>39.0</td>\n",
       "      <td>150.000000</td>\n",
       "      <td>150.00</td>\n",
       "    </tr>\n",
       "    <tr>\n",
       "      <th>103199</th>\n",
       "      <td>25988134</td>\n",
       "      <td>BİREYSEL</td>\n",
       "      <td>1308</td>\n",
       "      <td>E</td>\n",
       "      <td>BEKAR</td>\n",
       "      <td>HS_below</td>\n",
       "      <td>PRIVATE</td>\n",
       "      <td>1600.0</td>\n",
       "      <td>20</td>\n",
       "      <td>1.0</td>\n",
       "      <td>...</td>\n",
       "      <td>304.41</td>\n",
       "      <td>34.962692</td>\n",
       "      <td>269.26</td>\n",
       "      <td>0.038462</td>\n",
       "      <td>16.978889</td>\n",
       "      <td>67.38</td>\n",
       "      <td>21.000000</td>\n",
       "      <td>21.0</td>\n",
       "      <td>50.000000</td>\n",
       "      <td>50.00</td>\n",
       "    </tr>\n",
       "    <tr>\n",
       "      <th>103200</th>\n",
       "      <td>7745674</td>\n",
       "      <td>BİREYSEL</td>\n",
       "      <td>1359</td>\n",
       "      <td>K</td>\n",
       "      <td>EVLİ</td>\n",
       "      <td>University</td>\n",
       "      <td>PRIVATE</td>\n",
       "      <td>0.0</td>\n",
       "      <td>35</td>\n",
       "      <td>14.0</td>\n",
       "      <td>...</td>\n",
       "      <td>1500.00</td>\n",
       "      <td>58.509327</td>\n",
       "      <td>600.00</td>\n",
       "      <td>0.221154</td>\n",
       "      <td>32.191333</td>\n",
       "      <td>143.26</td>\n",
       "      <td>19.950000</td>\n",
       "      <td>27.0</td>\n",
       "      <td>10.000000</td>\n",
       "      <td>10.00</td>\n",
       "    </tr>\n",
       "    <tr>\n",
       "      <th>103201</th>\n",
       "      <td>14641330</td>\n",
       "      <td>BİREYSEL</td>\n",
       "      <td>1384</td>\n",
       "      <td>E</td>\n",
       "      <td>EVLİ</td>\n",
       "      <td>University</td>\n",
       "      <td>PUBLIC</td>\n",
       "      <td>4000.0</td>\n",
       "      <td>29</td>\n",
       "      <td>9.0</td>\n",
       "      <td>...</td>\n",
       "      <td>900.00</td>\n",
       "      <td>44.851067</td>\n",
       "      <td>292.17</td>\n",
       "      <td>0.106667</td>\n",
       "      <td>23.076176</td>\n",
       "      <td>141.35</td>\n",
       "      <td>30.000000</td>\n",
       "      <td>30.0</td>\n",
       "      <td>31.495833</td>\n",
       "      <td>66.95</td>\n",
       "    </tr>\n",
       "  </tbody>\n",
       "</table>\n",
       "<p>103202 rows × 32 columns</p>\n",
       "</div>"
      ],
      "text/plain": [
       "         Cust_ID Cust_Segment  Branch_ID Gender Marital_Status Education_Lv  \\\n",
       "0       25139695     BİREYSEL          2      E           EVLİ     HS_below   \n",
       "1       21213035     BİREYSEL          2      E     BİLINMİYOR     HS_below   \n",
       "2       23187800     BİREYSEL          2      E           EVLİ     HS_below   \n",
       "3       16400475      BİREBİR          2      E           EVLİ   University   \n",
       "4       17303354     BİREYSEL          2      E           EVLİ     HS_below   \n",
       "...          ...          ...        ...    ...            ...          ...   \n",
       "103197   9274456      BİREBİR       1228      E           EVLİ   University   \n",
       "103198   9316496     BİREYSEL       1261      E           EVLİ   University   \n",
       "103199  25988134     BİREYSEL       1308      E          BEKAR     HS_below   \n",
       "103200   7745674     BİREYSEL       1359      K           EVLİ   University   \n",
       "103201  14641330     BİREYSEL       1384      E           EVLİ   University   \n",
       "\n",
       "       Job_Status  Income  Age  Years_w_Bank  ... transaction1_max  \\\n",
       "0         PRIVATE  2500.0   55           2.0  ...           500.00   \n",
       "1         PRIVATE  2500.0   24           4.0  ...           955.00   \n",
       "2         PRIVATE   850.0   39           3.0  ...          1240.00   \n",
       "3         PRIVATE     NaN   45           8.0  ...         21912.00   \n",
       "4         PRIVATE  3500.0   35           7.0  ...          5000.00   \n",
       "...           ...     ...  ...           ...  ...              ...   \n",
       "103197    PRIVATE     0.0   54          13.0  ...         37664.79   \n",
       "103198    PRIVATE  1044.0   31          13.0  ...          3795.59   \n",
       "103199    PRIVATE  1600.0   20           1.0  ...           304.41   \n",
       "103200    PRIVATE     0.0   35          14.0  ...          1500.00   \n",
       "103201     PUBLIC  4000.0   29           9.0  ...           900.00   \n",
       "\n",
       "       transaction2_mean transaction2_max  online_trans_percent  \\\n",
       "0             147.319231           400.00              0.000000   \n",
       "1              76.932222           550.00              0.027778   \n",
       "2             207.354167          1200.00              0.000000   \n",
       "3            6775.571818         15000.00              0.000000   \n",
       "4              81.691711          2000.00              0.000000   \n",
       "...                  ...              ...                   ...   \n",
       "103197        164.051069         30000.00              0.094148   \n",
       "103198        116.796154           570.00              0.230769   \n",
       "103199         34.962692           269.26              0.038462   \n",
       "103200         58.509327           600.00              0.221154   \n",
       "103201         44.851067           292.17              0.106667   \n",
       "\n",
       "        transaction_food_mean  transaction_food_max  transaction_health_mean  \\\n",
       "0                   32.175000                 36.35                      NaN   \n",
       "1                   16.668421                 43.00                      NaN   \n",
       "2                  190.294643                898.00                      NaN   \n",
       "3                15000.000000              15000.00                      NaN   \n",
       "4                   38.436129                173.33               267.500000   \n",
       "...                       ...                   ...                      ...   \n",
       "103197              63.844953                250.00                63.398936   \n",
       "103198              45.598333                100.58                39.000000   \n",
       "103199              16.978889                 67.38                21.000000   \n",
       "103200              32.191333                143.26                19.950000   \n",
       "103201              23.076176                141.35                30.000000   \n",
       "\n",
       "        transaction_health_max  transaction_gas_mean  transaction_gas_max  \n",
       "0                          NaN             91.666667               150.00  \n",
       "1                          NaN                   NaN                  NaN  \n",
       "2                          NaN                   NaN                  NaN  \n",
       "3                          NaN                   NaN                  NaN  \n",
       "4                        500.0             41.611111                65.00  \n",
       "...                        ...                   ...                  ...  \n",
       "103197                   350.0            100.019600               258.05  \n",
       "103198                    39.0            150.000000               150.00  \n",
       "103199                    21.0             50.000000                50.00  \n",
       "103200                    27.0             10.000000                10.00  \n",
       "103201                    30.0             31.495833                66.95  \n",
       "\n",
       "[103202 rows x 32 columns]"
      ]
     },
     "execution_count": 90,
     "metadata": {},
     "output_type": "execute_result"
    }
   ],
   "source": [
    "demo_df"
   ]
  },
  {
   "cell_type": "code",
   "execution_count": 91,
   "id": "fcbeb60c-3a4c-428f-adef-931766eeadf1",
   "metadata": {},
   "outputs": [
    {
     "name": "stdout",
     "output_type": "stream",
     "text": [
      "<class 'pandas.core.frame.DataFrame'>\n",
      "RangeIndex: 9334625 entries, 0 to 9334624\n",
      "Data columns (total 12 columns):\n",
      " #   Column          Dtype  \n",
      "---  ------          -----  \n",
      " 0   Unnamed: 0      int64  \n",
      " 1   Cust_ID         int64  \n",
      " 2   Trans_Data      object \n",
      " 3   Trans_Time      object \n",
      " 4   Trans_Amt       float64\n",
      " 5   Category        object \n",
      " 6   Merchant_ID     int64  \n",
      " 7   Online_Trans    int64  \n",
      " 8   Trans_Type      object \n",
      " 9   Trans_Currency  object \n",
      " 10  X               float64\n",
      " 11  Y               float64\n",
      "dtypes: float64(3), int64(4), object(5)\n",
      "memory usage: 854.6+ MB\n"
     ]
    }
   ],
   "source": [
    "csv_file2 = \"~/IDC5210_Machine_Learning/Project/Translated_data/transactions(SU_ORNEKLEM_KK_HAR_BILGI).csv\"\n",
    "transactions = pd.read_csv(csv_file2, dtype={'Category': 'str'})\n",
    "transactions.info()"
   ]
  },
  {
   "cell_type": "code",
   "execution_count": 92,
   "id": "80657b44-5b77-4dbb-b369-edf27d820066",
   "metadata": {},
   "outputs": [
    {
     "data": {
      "text/html": [
       "<div>\n",
       "<style scoped>\n",
       "    .dataframe tbody tr th:only-of-type {\n",
       "        vertical-align: middle;\n",
       "    }\n",
       "\n",
       "    .dataframe tbody tr th {\n",
       "        vertical-align: top;\n",
       "    }\n",
       "\n",
       "    .dataframe thead th {\n",
       "        text-align: right;\n",
       "    }\n",
       "</style>\n",
       "<table border=\"1\" class=\"dataframe\">\n",
       "  <thead>\n",
       "    <tr style=\"text-align: right;\">\n",
       "      <th></th>\n",
       "      <th>Cust_ID</th>\n",
       "      <th>Category</th>\n",
       "      <th>Trans_Amt</th>\n",
       "      <th>Online_Trans</th>\n",
       "    </tr>\n",
       "  </thead>\n",
       "  <tbody>\n",
       "    <tr>\n",
       "      <th>0</th>\n",
       "      <td>11861396</td>\n",
       "      <td>RESTORAN</td>\n",
       "      <td>10.57</td>\n",
       "      <td>0</td>\n",
       "    </tr>\n",
       "    <tr>\n",
       "      <th>1</th>\n",
       "      <td>13667756</td>\n",
       "      <td>RESTORAN</td>\n",
       "      <td>82.00</td>\n",
       "      <td>0</td>\n",
       "    </tr>\n",
       "    <tr>\n",
       "      <th>2</th>\n",
       "      <td>11024865</td>\n",
       "      <td>RESTORAN</td>\n",
       "      <td>15.00</td>\n",
       "      <td>0</td>\n",
       "    </tr>\n",
       "    <tr>\n",
       "      <th>3</th>\n",
       "      <td>10922788</td>\n",
       "      <td>RESTORAN</td>\n",
       "      <td>86.00</td>\n",
       "      <td>0</td>\n",
       "    </tr>\n",
       "    <tr>\n",
       "      <th>4</th>\n",
       "      <td>10335987</td>\n",
       "      <td>RESTORAN</td>\n",
       "      <td>30.00</td>\n",
       "      <td>0</td>\n",
       "    </tr>\n",
       "    <tr>\n",
       "      <th>...</th>\n",
       "      <td>...</td>\n",
       "      <td>...</td>\n",
       "      <td>...</td>\n",
       "      <td>...</td>\n",
       "    </tr>\n",
       "    <tr>\n",
       "      <th>9334620</th>\n",
       "      <td>15623192</td>\n",
       "      <td>GIDA</td>\n",
       "      <td>23.50</td>\n",
       "      <td>0</td>\n",
       "    </tr>\n",
       "    <tr>\n",
       "      <th>9334621</th>\n",
       "      <td>16382137</td>\n",
       "      <td>TEKSTİL</td>\n",
       "      <td>115.00</td>\n",
       "      <td>0</td>\n",
       "    </tr>\n",
       "    <tr>\n",
       "      <th>9334622</th>\n",
       "      <td>16808133</td>\n",
       "      <td>HİZMET SEKTÖRLERİ</td>\n",
       "      <td>32.00</td>\n",
       "      <td>0</td>\n",
       "    </tr>\n",
       "    <tr>\n",
       "      <th>9334623</th>\n",
       "      <td>27012943</td>\n",
       "      <td>TEKSTİL</td>\n",
       "      <td>250.00</td>\n",
       "      <td>0</td>\n",
       "    </tr>\n",
       "    <tr>\n",
       "      <th>9334624</th>\n",
       "      <td>21896299</td>\n",
       "      <td>GIDA</td>\n",
       "      <td>8.00</td>\n",
       "      <td>0</td>\n",
       "    </tr>\n",
       "  </tbody>\n",
       "</table>\n",
       "<p>9334625 rows × 4 columns</p>\n",
       "</div>"
      ],
      "text/plain": [
       "          Cust_ID           Category  Trans_Amt  Online_Trans\n",
       "0        11861396           RESTORAN      10.57             0\n",
       "1        13667756           RESTORAN      82.00             0\n",
       "2        11024865           RESTORAN      15.00             0\n",
       "3        10922788           RESTORAN      86.00             0\n",
       "4        10335987           RESTORAN      30.00             0\n",
       "...           ...                ...        ...           ...\n",
       "9334620  15623192               GIDA      23.50             0\n",
       "9334621  16382137            TEKSTİL     115.00             0\n",
       "9334622  16808133  HİZMET SEKTÖRLERİ      32.00             0\n",
       "9334623  27012943            TEKSTİL     250.00             0\n",
       "9334624  21896299               GIDA       8.00             0\n",
       "\n",
       "[9334625 rows x 4 columns]"
      ]
     },
     "execution_count": 92,
     "metadata": {},
     "output_type": "execute_result"
    }
   ],
   "source": [
    "trans_sub = transactions[['Cust_ID', 'Category', 'Trans_Amt', 'Online_Trans']]\n",
    "trans_sub"
   ]
  },
  {
   "cell_type": "code",
   "execution_count": 93,
   "id": "2dfe2faf-8203-45b3-96d9-39366bf4ed79",
   "metadata": {},
   "outputs": [],
   "source": [
    "trans_sums = trans_sub.groupby(['Cust_ID', 'Category'])['Trans_Amt'].sum().reset_index()\n",
    "trans_cats = trans_sums.pivot(columns='Category', index='Cust_ID', values='Trans_Amt')\n",
    "trans_cats = trans_cats.fillna(0)"
   ]
  },
  {
   "cell_type": "code",
   "execution_count": 94,
   "id": "32f83564-f008-44d0-81a0-9f810ae23a37",
   "metadata": {},
   "outputs": [
    {
     "data": {
      "text/html": [
       "<div>\n",
       "<style scoped>\n",
       "    .dataframe tbody tr th:only-of-type {\n",
       "        vertical-align: middle;\n",
       "    }\n",
       "\n",
       "    .dataframe tbody tr th {\n",
       "        vertical-align: top;\n",
       "    }\n",
       "\n",
       "    .dataframe thead th {\n",
       "        text-align: right;\n",
       "    }\n",
       "</style>\n",
       "<table border=\"1\" class=\"dataframe\">\n",
       "  <thead>\n",
       "    <tr style=\"text-align: right;\">\n",
       "      <th>Category</th>\n",
       "      <th>AKARYAKIT</th>\n",
       "      <th>ALIŞVERİŞ MERKEZLERİ</th>\n",
       "      <th>ARABA KİRALAMA</th>\n",
       "      <th>AYAKKABI</th>\n",
       "      <th>BEYAZ EŞYA</th>\n",
       "      <th>DENİZ TAŞITLARI KİRALAMA, SATIŞ, BAKIM</th>\n",
       "      <th>DOĞRUDAN PAZARLAMA-MAIL ORDER</th>\n",
       "      <th>DİĞER</th>\n",
       "      <th>EĞLENCE VE SPOR</th>\n",
       "      <th>EĞİTİM</th>\n",
       "      <th>...</th>\n",
       "      <th>SEYAHAT ACENTALARI - TAŞIMACILIK</th>\n",
       "      <th>SPOR GİYİM</th>\n",
       "      <th>SİGORTA</th>\n",
       "      <th>SİGORTA-MAIL ORDER</th>\n",
       "      <th>SİNEMA TİYATRO SANAT</th>\n",
       "      <th>TEKNOLOJİ</th>\n",
       "      <th>TEKSTİL</th>\n",
       "      <th>TELEKOMÜNİKASYON</th>\n",
       "      <th>YAPI MALZ., HIRDAVAT, NALBURİYE</th>\n",
       "      <th>İÇKİLİ YERLER - KUMARHANE</th>\n",
       "    </tr>\n",
       "    <tr>\n",
       "      <th>Cust_ID</th>\n",
       "      <th></th>\n",
       "      <th></th>\n",
       "      <th></th>\n",
       "      <th></th>\n",
       "      <th></th>\n",
       "      <th></th>\n",
       "      <th></th>\n",
       "      <th></th>\n",
       "      <th></th>\n",
       "      <th></th>\n",
       "      <th></th>\n",
       "      <th></th>\n",
       "      <th></th>\n",
       "      <th></th>\n",
       "      <th></th>\n",
       "      <th></th>\n",
       "      <th></th>\n",
       "      <th></th>\n",
       "      <th></th>\n",
       "      <th></th>\n",
       "      <th></th>\n",
       "    </tr>\n",
       "  </thead>\n",
       "  <tbody>\n",
       "    <tr>\n",
       "      <th>1560993</th>\n",
       "      <td>0.00</td>\n",
       "      <td>0.00</td>\n",
       "      <td>0.0</td>\n",
       "      <td>0.00</td>\n",
       "      <td>0.0</td>\n",
       "      <td>0.0</td>\n",
       "      <td>0.0</td>\n",
       "      <td>0.00</td>\n",
       "      <td>0.0</td>\n",
       "      <td>0.0</td>\n",
       "      <td>...</td>\n",
       "      <td>0.00</td>\n",
       "      <td>0.00</td>\n",
       "      <td>0.0</td>\n",
       "      <td>0.00</td>\n",
       "      <td>0.0</td>\n",
       "      <td>0.00</td>\n",
       "      <td>0.00</td>\n",
       "      <td>0.0</td>\n",
       "      <td>0.00</td>\n",
       "      <td>0.0</td>\n",
       "    </tr>\n",
       "    <tr>\n",
       "      <th>1566513</th>\n",
       "      <td>2170.00</td>\n",
       "      <td>20.05</td>\n",
       "      <td>0.0</td>\n",
       "      <td>0.00</td>\n",
       "      <td>250.0</td>\n",
       "      <td>0.0</td>\n",
       "      <td>0.0</td>\n",
       "      <td>268.50</td>\n",
       "      <td>0.0</td>\n",
       "      <td>0.0</td>\n",
       "      <td>...</td>\n",
       "      <td>0.00</td>\n",
       "      <td>0.00</td>\n",
       "      <td>0.0</td>\n",
       "      <td>858.00</td>\n",
       "      <td>0.0</td>\n",
       "      <td>2238.76</td>\n",
       "      <td>0.00</td>\n",
       "      <td>1375.0</td>\n",
       "      <td>1928.13</td>\n",
       "      <td>0.0</td>\n",
       "    </tr>\n",
       "    <tr>\n",
       "      <th>1567711</th>\n",
       "      <td>375.32</td>\n",
       "      <td>0.00</td>\n",
       "      <td>0.0</td>\n",
       "      <td>558.40</td>\n",
       "      <td>55.0</td>\n",
       "      <td>0.0</td>\n",
       "      <td>0.0</td>\n",
       "      <td>350.92</td>\n",
       "      <td>0.0</td>\n",
       "      <td>0.0</td>\n",
       "      <td>...</td>\n",
       "      <td>716.87</td>\n",
       "      <td>89.90</td>\n",
       "      <td>0.0</td>\n",
       "      <td>465.39</td>\n",
       "      <td>0.0</td>\n",
       "      <td>77.57</td>\n",
       "      <td>5587.22</td>\n",
       "      <td>912.6</td>\n",
       "      <td>64.93</td>\n",
       "      <td>70.0</td>\n",
       "    </tr>\n",
       "    <tr>\n",
       "      <th>1569761</th>\n",
       "      <td>0.00</td>\n",
       "      <td>0.00</td>\n",
       "      <td>0.0</td>\n",
       "      <td>459.87</td>\n",
       "      <td>0.0</td>\n",
       "      <td>0.0</td>\n",
       "      <td>0.0</td>\n",
       "      <td>0.00</td>\n",
       "      <td>0.0</td>\n",
       "      <td>0.0</td>\n",
       "      <td>...</td>\n",
       "      <td>1590.00</td>\n",
       "      <td>59.99</td>\n",
       "      <td>0.0</td>\n",
       "      <td>0.00</td>\n",
       "      <td>0.0</td>\n",
       "      <td>8797.33</td>\n",
       "      <td>1319.34</td>\n",
       "      <td>0.0</td>\n",
       "      <td>3026.21</td>\n",
       "      <td>0.0</td>\n",
       "    </tr>\n",
       "    <tr>\n",
       "      <th>1569938</th>\n",
       "      <td>0.00</td>\n",
       "      <td>0.00</td>\n",
       "      <td>0.0</td>\n",
       "      <td>0.00</td>\n",
       "      <td>0.0</td>\n",
       "      <td>0.0</td>\n",
       "      <td>0.0</td>\n",
       "      <td>0.00</td>\n",
       "      <td>0.0</td>\n",
       "      <td>0.0</td>\n",
       "      <td>...</td>\n",
       "      <td>0.00</td>\n",
       "      <td>0.00</td>\n",
       "      <td>0.0</td>\n",
       "      <td>0.00</td>\n",
       "      <td>0.0</td>\n",
       "      <td>379.00</td>\n",
       "      <td>19.90</td>\n",
       "      <td>840.0</td>\n",
       "      <td>74.85</td>\n",
       "      <td>0.0</td>\n",
       "    </tr>\n",
       "    <tr>\n",
       "      <th>...</th>\n",
       "      <td>...</td>\n",
       "      <td>...</td>\n",
       "      <td>...</td>\n",
       "      <td>...</td>\n",
       "      <td>...</td>\n",
       "      <td>...</td>\n",
       "      <td>...</td>\n",
       "      <td>...</td>\n",
       "      <td>...</td>\n",
       "      <td>...</td>\n",
       "      <td>...</td>\n",
       "      <td>...</td>\n",
       "      <td>...</td>\n",
       "      <td>...</td>\n",
       "      <td>...</td>\n",
       "      <td>...</td>\n",
       "      <td>...</td>\n",
       "      <td>...</td>\n",
       "      <td>...</td>\n",
       "      <td>...</td>\n",
       "      <td>...</td>\n",
       "    </tr>\n",
       "    <tr>\n",
       "      <th>28196275</th>\n",
       "      <td>0.00</td>\n",
       "      <td>0.00</td>\n",
       "      <td>0.0</td>\n",
       "      <td>0.00</td>\n",
       "      <td>0.0</td>\n",
       "      <td>0.0</td>\n",
       "      <td>0.0</td>\n",
       "      <td>0.00</td>\n",
       "      <td>0.0</td>\n",
       "      <td>0.0</td>\n",
       "      <td>...</td>\n",
       "      <td>0.00</td>\n",
       "      <td>0.00</td>\n",
       "      <td>0.0</td>\n",
       "      <td>0.00</td>\n",
       "      <td>0.0</td>\n",
       "      <td>55.25</td>\n",
       "      <td>0.00</td>\n",
       "      <td>0.0</td>\n",
       "      <td>0.00</td>\n",
       "      <td>0.0</td>\n",
       "    </tr>\n",
       "    <tr>\n",
       "      <th>28196280</th>\n",
       "      <td>0.00</td>\n",
       "      <td>0.00</td>\n",
       "      <td>0.0</td>\n",
       "      <td>0.00</td>\n",
       "      <td>0.0</td>\n",
       "      <td>0.0</td>\n",
       "      <td>0.0</td>\n",
       "      <td>0.00</td>\n",
       "      <td>0.0</td>\n",
       "      <td>0.0</td>\n",
       "      <td>...</td>\n",
       "      <td>0.00</td>\n",
       "      <td>0.00</td>\n",
       "      <td>0.0</td>\n",
       "      <td>0.00</td>\n",
       "      <td>0.0</td>\n",
       "      <td>0.00</td>\n",
       "      <td>0.00</td>\n",
       "      <td>0.0</td>\n",
       "      <td>229.90</td>\n",
       "      <td>0.0</td>\n",
       "    </tr>\n",
       "    <tr>\n",
       "      <th>28200516</th>\n",
       "      <td>0.00</td>\n",
       "      <td>0.00</td>\n",
       "      <td>0.0</td>\n",
       "      <td>0.00</td>\n",
       "      <td>0.0</td>\n",
       "      <td>0.0</td>\n",
       "      <td>0.0</td>\n",
       "      <td>0.00</td>\n",
       "      <td>0.0</td>\n",
       "      <td>0.0</td>\n",
       "      <td>...</td>\n",
       "      <td>0.00</td>\n",
       "      <td>0.00</td>\n",
       "      <td>0.0</td>\n",
       "      <td>0.00</td>\n",
       "      <td>0.0</td>\n",
       "      <td>5338.26</td>\n",
       "      <td>0.00</td>\n",
       "      <td>0.0</td>\n",
       "      <td>0.00</td>\n",
       "      <td>0.0</td>\n",
       "    </tr>\n",
       "    <tr>\n",
       "      <th>28203156</th>\n",
       "      <td>541.99</td>\n",
       "      <td>0.00</td>\n",
       "      <td>0.0</td>\n",
       "      <td>0.00</td>\n",
       "      <td>0.0</td>\n",
       "      <td>0.0</td>\n",
       "      <td>0.0</td>\n",
       "      <td>0.00</td>\n",
       "      <td>0.0</td>\n",
       "      <td>0.0</td>\n",
       "      <td>...</td>\n",
       "      <td>0.00</td>\n",
       "      <td>0.00</td>\n",
       "      <td>0.0</td>\n",
       "      <td>0.00</td>\n",
       "      <td>0.0</td>\n",
       "      <td>0.00</td>\n",
       "      <td>0.00</td>\n",
       "      <td>0.0</td>\n",
       "      <td>0.00</td>\n",
       "      <td>0.0</td>\n",
       "    </tr>\n",
       "    <tr>\n",
       "      <th>28204207</th>\n",
       "      <td>0.00</td>\n",
       "      <td>0.00</td>\n",
       "      <td>0.0</td>\n",
       "      <td>0.00</td>\n",
       "      <td>0.0</td>\n",
       "      <td>0.0</td>\n",
       "      <td>0.0</td>\n",
       "      <td>0.00</td>\n",
       "      <td>0.0</td>\n",
       "      <td>0.0</td>\n",
       "      <td>...</td>\n",
       "      <td>121.95</td>\n",
       "      <td>0.00</td>\n",
       "      <td>0.0</td>\n",
       "      <td>0.00</td>\n",
       "      <td>0.0</td>\n",
       "      <td>0.00</td>\n",
       "      <td>0.00</td>\n",
       "      <td>0.0</td>\n",
       "      <td>0.00</td>\n",
       "      <td>0.0</td>\n",
       "    </tr>\n",
       "  </tbody>\n",
       "</table>\n",
       "<p>101864 rows × 35 columns</p>\n",
       "</div>"
      ],
      "text/plain": [
       "Category  AKARYAKIT  ALIŞVERİŞ MERKEZLERİ  ARABA KİRALAMA  AYAKKABI  \\\n",
       "Cust_ID                                                               \n",
       "1560993        0.00                  0.00             0.0      0.00   \n",
       "1566513     2170.00                 20.05             0.0      0.00   \n",
       "1567711      375.32                  0.00             0.0    558.40   \n",
       "1569761        0.00                  0.00             0.0    459.87   \n",
       "1569938        0.00                  0.00             0.0      0.00   \n",
       "...             ...                   ...             ...       ...   \n",
       "28196275       0.00                  0.00             0.0      0.00   \n",
       "28196280       0.00                  0.00             0.0      0.00   \n",
       "28200516       0.00                  0.00             0.0      0.00   \n",
       "28203156     541.99                  0.00             0.0      0.00   \n",
       "28204207       0.00                  0.00             0.0      0.00   \n",
       "\n",
       "Category  BEYAZ EŞYA  DENİZ TAŞITLARI KİRALAMA, SATIŞ, BAKIM  \\\n",
       "Cust_ID                                                        \n",
       "1560993          0.0                                     0.0   \n",
       "1566513        250.0                                     0.0   \n",
       "1567711         55.0                                     0.0   \n",
       "1569761          0.0                                     0.0   \n",
       "1569938          0.0                                     0.0   \n",
       "...              ...                                     ...   \n",
       "28196275         0.0                                     0.0   \n",
       "28196280         0.0                                     0.0   \n",
       "28200516         0.0                                     0.0   \n",
       "28203156         0.0                                     0.0   \n",
       "28204207         0.0                                     0.0   \n",
       "\n",
       "Category  DOĞRUDAN PAZARLAMA-MAIL ORDER   DİĞER  EĞLENCE VE SPOR  EĞİTİM  ...  \\\n",
       "Cust_ID                                                                   ...   \n",
       "1560993                             0.0    0.00              0.0     0.0  ...   \n",
       "1566513                             0.0  268.50              0.0     0.0  ...   \n",
       "1567711                             0.0  350.92              0.0     0.0  ...   \n",
       "1569761                             0.0    0.00              0.0     0.0  ...   \n",
       "1569938                             0.0    0.00              0.0     0.0  ...   \n",
       "...                                 ...     ...              ...     ...  ...   \n",
       "28196275                            0.0    0.00              0.0     0.0  ...   \n",
       "28196280                            0.0    0.00              0.0     0.0  ...   \n",
       "28200516                            0.0    0.00              0.0     0.0  ...   \n",
       "28203156                            0.0    0.00              0.0     0.0  ...   \n",
       "28204207                            0.0    0.00              0.0     0.0  ...   \n",
       "\n",
       "Category  SEYAHAT ACENTALARI - TAŞIMACILIK  SPOR GİYİM  SİGORTA  \\\n",
       "Cust_ID                                                           \n",
       "1560993                               0.00        0.00      0.0   \n",
       "1566513                               0.00        0.00      0.0   \n",
       "1567711                             716.87       89.90      0.0   \n",
       "1569761                            1590.00       59.99      0.0   \n",
       "1569938                               0.00        0.00      0.0   \n",
       "...                                    ...         ...      ...   \n",
       "28196275                              0.00        0.00      0.0   \n",
       "28196280                              0.00        0.00      0.0   \n",
       "28200516                              0.00        0.00      0.0   \n",
       "28203156                              0.00        0.00      0.0   \n",
       "28204207                            121.95        0.00      0.0   \n",
       "\n",
       "Category  SİGORTA-MAIL ORDER  SİNEMA TİYATRO SANAT  TEKNOLOJİ  TEKSTİL  \\\n",
       "Cust_ID                                                                  \n",
       "1560993                 0.00                   0.0       0.00     0.00   \n",
       "1566513               858.00                   0.0    2238.76     0.00   \n",
       "1567711               465.39                   0.0      77.57  5587.22   \n",
       "1569761                 0.00                   0.0    8797.33  1319.34   \n",
       "1569938                 0.00                   0.0     379.00    19.90   \n",
       "...                      ...                   ...        ...      ...   \n",
       "28196275                0.00                   0.0      55.25     0.00   \n",
       "28196280                0.00                   0.0       0.00     0.00   \n",
       "28200516                0.00                   0.0    5338.26     0.00   \n",
       "28203156                0.00                   0.0       0.00     0.00   \n",
       "28204207                0.00                   0.0       0.00     0.00   \n",
       "\n",
       "Category  TELEKOMÜNİKASYON  YAPI MALZ., HIRDAVAT, NALBURİYE  \\\n",
       "Cust_ID                                                       \n",
       "1560993                0.0                             0.00   \n",
       "1566513             1375.0                          1928.13   \n",
       "1567711              912.6                            64.93   \n",
       "1569761                0.0                          3026.21   \n",
       "1569938              840.0                            74.85   \n",
       "...                    ...                              ...   \n",
       "28196275               0.0                             0.00   \n",
       "28196280               0.0                           229.90   \n",
       "28200516               0.0                             0.00   \n",
       "28203156               0.0                             0.00   \n",
       "28204207               0.0                             0.00   \n",
       "\n",
       "Category  İÇKİLİ YERLER - KUMARHANE  \n",
       "Cust_ID                              \n",
       "1560993                         0.0  \n",
       "1566513                         0.0  \n",
       "1567711                        70.0  \n",
       "1569761                         0.0  \n",
       "1569938                         0.0  \n",
       "...                             ...  \n",
       "28196275                        0.0  \n",
       "28196280                        0.0  \n",
       "28200516                        0.0  \n",
       "28203156                        0.0  \n",
       "28204207                        0.0  \n",
       "\n",
       "[101864 rows x 35 columns]"
      ]
     },
     "execution_count": 94,
     "metadata": {},
     "output_type": "execute_result"
    }
   ],
   "source": [
    "trans_cats"
   ]
  },
  {
   "cell_type": "code",
   "execution_count": 95,
   "id": "82959f6f-8c6d-4959-b5ce-58200229c14c",
   "metadata": {
    "tags": []
   },
   "outputs": [],
   "source": [
    "demo_df = demo_df.join(trans_cats, on='Cust_ID')"
   ]
  },
  {
   "cell_type": "code",
   "execution_count": 96,
   "id": "ecbed0aa-0ef4-434f-b4a0-58267befc05b",
   "metadata": {},
   "outputs": [],
   "source": [
    "demo_df.drop('Cust_ID', axis = 1, inplace = True)"
   ]
  },
  {
   "cell_type": "code",
   "execution_count": 97,
   "id": "7447702c-5011-4002-85c7-932470c58581",
   "metadata": {},
   "outputs": [
    {
     "name": "stdout",
     "output_type": "stream",
     "text": [
      "<class 'pandas.core.frame.DataFrame'>\n",
      "RangeIndex: 103202 entries, 0 to 103201\n",
      "Data columns (total 66 columns):\n",
      " #   Column                                  Non-Null Count   Dtype  \n",
      "---  ------                                  --------------   -----  \n",
      " 0   Cust_Segment                            103202 non-null  object \n",
      " 1   Branch_ID                               103202 non-null  int64  \n",
      " 2   Gender                                  103202 non-null  object \n",
      " 3   Marital_Status                          103202 non-null  object \n",
      " 4   Education_Lv                            103202 non-null  object \n",
      " 5   Job_Status                              103202 non-null  object \n",
      " 6   Income                                  100752 non-null  float64\n",
      " 7   Age                                     103202 non-null  int64  \n",
      " 8   Years_w_Bank                            103197 non-null  float64\n",
      " 9   Work_Region                             103202 non-null  object \n",
      " 10  Home_Region                             103198 non-null  object \n",
      " 11  Branch_Region                           103198 non-null  object \n",
      " 12  1)RISKSIZ                               103202 non-null  float64\n",
      " 13  2)GECIKME 1-15 GUN                      103202 non-null  float64\n",
      " 14  3)GECIKME 16-29 GUN                     103202 non-null  float64\n",
      " 15  4)GECIKME 30-59 GUN                     103202 non-null  float64\n",
      " 16  5)GECIKME 60+ GUN                       103202 non-null  float64\n",
      " 17  6)TAKIP                                 103202 non-null  float64\n",
      " 18  statement_mean                          102227 non-null  float64\n",
      " 19  statement_max                           102227 non-null  float64\n",
      " 20  transaction1_mean                       100645 non-null  float64\n",
      " 21  transaction1_max                        100645 non-null  float64\n",
      " 22  transaction2_mean                       101076 non-null  float64\n",
      " 23  transaction2_max                        101076 non-null  float64\n",
      " 24  online_trans_percent                    101076 non-null  float64\n",
      " 25  transaction_food_mean                   88265 non-null   float64\n",
      " 26  transaction_food_max                    88265 non-null   float64\n",
      " 27  transaction_health_mean                 53878 non-null   float64\n",
      " 28  transaction_health_max                  53878 non-null   float64\n",
      " 29  transaction_gas_mean                    57999 non-null   float64\n",
      " 30  transaction_gas_max                     57999 non-null   float64\n",
      " 31  AKARYAKIT                               101857 non-null  float64\n",
      " 32  ALIŞVERİŞ MERKEZLERİ                    101857 non-null  float64\n",
      " 33  ARABA KİRALAMA                          101857 non-null  float64\n",
      " 34  AYAKKABI                                101857 non-null  float64\n",
      " 35  BEYAZ EŞYA                              101857 non-null  float64\n",
      " 36  DENİZ TAŞITLARI KİRALAMA, SATIŞ, BAKIM  101857 non-null  float64\n",
      " 37  DOĞRUDAN PAZARLAMA-MAIL ORDER           101857 non-null  float64\n",
      " 38  DİĞER                                   101857 non-null  float64\n",
      " 39  EĞLENCE VE SPOR                         101857 non-null  float64\n",
      " 40  EĞİTİM                                  101857 non-null  float64\n",
      " 41  GIDA                                    101857 non-null  float64\n",
      " 42  HAVAYOLLARI                             101857 non-null  float64\n",
      " 43  HOTEL                                   101857 non-null  float64\n",
      " 44  HİZMET SEKTÖRLERİ                       101857 non-null  float64\n",
      " 45  KOZMETİK                                101857 non-null  float64\n",
      " 46  KUYUMCU                                 101857 non-null  float64\n",
      " 47  MOBİLYA, DEKORASYON                     101857 non-null  float64\n",
      " 48  MOTOSİKLET                              101857 non-null  float64\n",
      " 49  MUZIK MARKET KIRTASİYE                  101857 non-null  float64\n",
      " 50  NAKİT AVANS                             101857 non-null  float64\n",
      " 51  OPTİK                                   101857 non-null  float64\n",
      " 52  OTOMOTİV                                101857 non-null  float64\n",
      " 53  OYUNCAK                                 101857 non-null  float64\n",
      " 54  RESTORAN                                101857 non-null  float64\n",
      " 55  SAĞLIK                                  101857 non-null  float64\n",
      " 56  SEYAHAT ACENTALARI - TAŞIMACILIK        101857 non-null  float64\n",
      " 57  SPOR GİYİM                              101857 non-null  float64\n",
      " 58  SİGORTA                                 101857 non-null  float64\n",
      " 59  SİGORTA-MAIL ORDER                      101857 non-null  float64\n",
      " 60  SİNEMA TİYATRO SANAT                    101857 non-null  float64\n",
      " 61  TEKNOLOJİ                               101857 non-null  float64\n",
      " 62  TEKSTİL                                 101857 non-null  float64\n",
      " 63  TELEKOMÜNİKASYON                        101857 non-null  float64\n",
      " 64  YAPI MALZ., HIRDAVAT, NALBURİYE         101857 non-null  float64\n",
      " 65  İÇKİLİ YERLER - KUMARHANE               101857 non-null  float64\n",
      "dtypes: float64(56), int64(2), object(8)\n",
      "memory usage: 52.0+ MB\n"
     ]
    }
   ],
   "source": [
    "demo_df.info()"
   ]
  },
  {
   "cell_type": "markdown",
   "id": "f55e1443-4b70-49e2-9338-c2061ec397ae",
   "metadata": {},
   "source": [
    "## Data Exploration"
   ]
  },
  {
   "cell_type": "code",
   "execution_count": 98,
   "id": "8e2fb6d6-1cce-4079-a0d9-f58f64317c1d",
   "metadata": {},
   "outputs": [
    {
     "data": {
      "text/plain": [
       "BİREYSEL                       96149\n",
       "BİREBİR                         4000\n",
       "MİKRO                           2830\n",
       "EXI26                            130\n",
       "ÖZEL BANKACILIK MÜŞTERİLERİ       93\n",
       "Name: Cust_Segment, dtype: int64"
      ]
     },
     "execution_count": 98,
     "metadata": {},
     "output_type": "execute_result"
    }
   ],
   "source": [
    "demo_df['Cust_Segment'].value_counts()"
   ]
  },
  {
   "cell_type": "code",
   "execution_count": 99,
   "id": "5649eeb4-242f-4491-adec-f119ea175895",
   "metadata": {},
   "outputs": [
    {
     "data": {
      "text/plain": [
       "EVLİ                65637\n",
       "BEKAR               30877\n",
       "BOŞANMIŞ             4831\n",
       "BİLINMİYOR           1397\n",
       "DUL                   457\n",
       "EVLİLİĞİN İPTALİ        3\n",
       "Name: Marital_Status, dtype: int64"
      ]
     },
     "execution_count": 99,
     "metadata": {},
     "output_type": "execute_result"
    }
   ],
   "source": [
    "demo_df['Marital_Status'].value_counts()"
   ]
  },
  {
   "cell_type": "code",
   "execution_count": 100,
   "id": "b5cac03a-34c4-42dc-9073-b9d33f8e48aa",
   "metadata": {},
   "outputs": [
    {
     "data": {
      "text/plain": [
       "HS_below      64438\n",
       "University    34944\n",
       "Graduate       3737\n",
       "BİLİNMİYOR       83\n",
       "Name: Education_Lv, dtype: int64"
      ]
     },
     "execution_count": 100,
     "metadata": {},
     "output_type": "execute_result"
    }
   ],
   "source": [
    "demo_df['Education_Lv'].value_counts()"
   ]
  },
  {
   "cell_type": "code",
   "execution_count": 101,
   "id": "05525a78-cf9a-4032-b88a-a92436f09e80",
   "metadata": {},
   "outputs": [
    {
     "data": {
      "text/plain": [
       "PRIVATE                90114\n",
       "PUBLIC                  7339\n",
       "UNEMPLOYED              5061\n",
       "DİĞER                    455\n",
       "TANIMSIZ                 225\n",
       "YURTDIŞINDA ÇALIŞAN        8\n",
       "Name: Job_Status, dtype: int64"
      ]
     },
     "execution_count": 101,
     "metadata": {},
     "output_type": "execute_result"
    }
   ],
   "source": [
    "demo_df['Job_Status'].value_counts()"
   ]
  },
  {
   "cell_type": "code",
   "execution_count": 102,
   "id": "4b5dbe4d-7404-409b-99ef-1635a8eb7576",
   "metadata": {},
   "outputs": [
    {
     "data": {
      "text/plain": [
       "MARMARA             100587\n",
       "BLACK SEA              671\n",
       "CENTRAL ANATOLIA       494\n",
       "MEDITERRANEAN          468\n",
       "AEGEAN                 377\n",
       "EASTERN ANATOLIA       333\n",
       "SE ANATOLIA            268\n",
       "Name: Home_Region, dtype: int64"
      ]
     },
     "execution_count": 102,
     "metadata": {},
     "output_type": "execute_result"
    }
   ],
   "source": [
    "demo_df['Home_Region'].value_counts()"
   ]
  },
  {
   "cell_type": "code",
   "execution_count": 103,
   "id": "36e79c8f-5c1a-4a59-a1ff-3bfaa9da20cb",
   "metadata": {},
   "outputs": [
    {
     "data": {
      "text/plain": [
       "MARMARA             101824\n",
       "CENTRAL ANATOLIA       353\n",
       "AEGEAN                 316\n",
       "BLACK SEA              255\n",
       "MEDITERRANEAN          200\n",
       "EASTERN ANATOLIA       144\n",
       "SE ANATOLIA            110\n",
       "Name: Work_Region, dtype: int64"
      ]
     },
     "execution_count": 103,
     "metadata": {},
     "output_type": "execute_result"
    }
   ],
   "source": [
    "demo_df['Work_Region'].value_counts()"
   ]
  },
  {
   "cell_type": "code",
   "execution_count": 104,
   "id": "8e88c749-84d6-494d-a65f-509ef228a932",
   "metadata": {},
   "outputs": [
    {
     "data": {
      "text/plain": [
       "MARMARA             98475\n",
       "BLACK SEA            1118\n",
       "CENTRAL ANATOLIA     1100\n",
       "AEGEAN               1089\n",
       "MEDITERRANEAN         713\n",
       "EASTERN ANATOLIA      380\n",
       "SE ANATOLIA           323\n",
       "Name: Branch_Region, dtype: int64"
      ]
     },
     "execution_count": 104,
     "metadata": {},
     "output_type": "execute_result"
    }
   ],
   "source": [
    "demo_df['Branch_Region'].value_counts()"
   ]
  },
  {
   "cell_type": "code",
   "execution_count": 105,
   "id": "fd2c3f0e-3a60-4366-9f24-4667d90cf5a9",
   "metadata": {},
   "outputs": [
    {
     "data": {
      "text/plain": [
       "Cust_Segment                          0\n",
       "Branch_ID                             0\n",
       "Gender                                0\n",
       "Marital_Status                        0\n",
       "Education_Lv                          0\n",
       "                                   ... \n",
       "TEKNOLOJİ                          1345\n",
       "TEKSTİL                            1345\n",
       "TELEKOMÜNİKASYON                   1345\n",
       "YAPI MALZ., HIRDAVAT, NALBURİYE    1345\n",
       "İÇKİLİ YERLER - KUMARHANE          1345\n",
       "Length: 66, dtype: int64"
      ]
     },
     "execution_count": 105,
     "metadata": {},
     "output_type": "execute_result"
    }
   ],
   "source": [
    "# check values for nulls\n",
    "demo_df.isnull().sum(axis = 0)"
   ]
  },
  {
   "cell_type": "code",
   "execution_count": 106,
   "id": "0ac1bc46-06d9-495c-9ac8-7ef6730cd174",
   "metadata": {},
   "outputs": [
    {
     "data": {
      "text/html": [
       "<div>\n",
       "<style scoped>\n",
       "    .dataframe tbody tr th:only-of-type {\n",
       "        vertical-align: middle;\n",
       "    }\n",
       "\n",
       "    .dataframe tbody tr th {\n",
       "        vertical-align: top;\n",
       "    }\n",
       "\n",
       "    .dataframe thead th {\n",
       "        text-align: right;\n",
       "    }\n",
       "</style>\n",
       "<table border=\"1\" class=\"dataframe\">\n",
       "  <thead>\n",
       "    <tr style=\"text-align: right;\">\n",
       "      <th></th>\n",
       "      <th>Cust_Segment</th>\n",
       "      <th>Branch_ID</th>\n",
       "      <th>Gender</th>\n",
       "      <th>Marital_Status</th>\n",
       "      <th>Education_Lv</th>\n",
       "      <th>Job_Status</th>\n",
       "      <th>Income</th>\n",
       "      <th>Age</th>\n",
       "      <th>Years_w_Bank</th>\n",
       "      <th>Work_Region</th>\n",
       "      <th>...</th>\n",
       "      <th>SEYAHAT ACENTALARI - TAŞIMACILIK</th>\n",
       "      <th>SPOR GİYİM</th>\n",
       "      <th>SİGORTA</th>\n",
       "      <th>SİGORTA-MAIL ORDER</th>\n",
       "      <th>SİNEMA TİYATRO SANAT</th>\n",
       "      <th>TEKNOLOJİ</th>\n",
       "      <th>TEKSTİL</th>\n",
       "      <th>TELEKOMÜNİKASYON</th>\n",
       "      <th>YAPI MALZ., HIRDAVAT, NALBURİYE</th>\n",
       "      <th>İÇKİLİ YERLER - KUMARHANE</th>\n",
       "    </tr>\n",
       "  </thead>\n",
       "  <tbody>\n",
       "    <tr>\n",
       "      <th>138</th>\n",
       "      <td>BİREYSEL</td>\n",
       "      <td>4</td>\n",
       "      <td>E</td>\n",
       "      <td>EVLİ</td>\n",
       "      <td>University</td>\n",
       "      <td>PRIVATE</td>\n",
       "      <td>1700.0</td>\n",
       "      <td>29</td>\n",
       "      <td>8.0</td>\n",
       "      <td>MARMARA</td>\n",
       "      <td>...</td>\n",
       "      <td>NaN</td>\n",
       "      <td>NaN</td>\n",
       "      <td>NaN</td>\n",
       "      <td>NaN</td>\n",
       "      <td>NaN</td>\n",
       "      <td>NaN</td>\n",
       "      <td>NaN</td>\n",
       "      <td>NaN</td>\n",
       "      <td>NaN</td>\n",
       "      <td>NaN</td>\n",
       "    </tr>\n",
       "    <tr>\n",
       "      <th>300</th>\n",
       "      <td>MİKRO</td>\n",
       "      <td>4</td>\n",
       "      <td>E</td>\n",
       "      <td>BİLINMİYOR</td>\n",
       "      <td>University</td>\n",
       "      <td>PRIVATE</td>\n",
       "      <td>25000.0</td>\n",
       "      <td>36</td>\n",
       "      <td>13.0</td>\n",
       "      <td>MARMARA</td>\n",
       "      <td>...</td>\n",
       "      <td>NaN</td>\n",
       "      <td>NaN</td>\n",
       "      <td>NaN</td>\n",
       "      <td>NaN</td>\n",
       "      <td>NaN</td>\n",
       "      <td>NaN</td>\n",
       "      <td>NaN</td>\n",
       "      <td>NaN</td>\n",
       "      <td>NaN</td>\n",
       "      <td>NaN</td>\n",
       "    </tr>\n",
       "    <tr>\n",
       "      <th>396</th>\n",
       "      <td>BİREYSEL</td>\n",
       "      <td>4</td>\n",
       "      <td>K</td>\n",
       "      <td>BOŞANMIŞ</td>\n",
       "      <td>HS_below</td>\n",
       "      <td>PRIVATE</td>\n",
       "      <td>1215.0</td>\n",
       "      <td>31</td>\n",
       "      <td>3.0</td>\n",
       "      <td>MARMARA</td>\n",
       "      <td>...</td>\n",
       "      <td>NaN</td>\n",
       "      <td>NaN</td>\n",
       "      <td>NaN</td>\n",
       "      <td>NaN</td>\n",
       "      <td>NaN</td>\n",
       "      <td>NaN</td>\n",
       "      <td>NaN</td>\n",
       "      <td>NaN</td>\n",
       "      <td>NaN</td>\n",
       "      <td>NaN</td>\n",
       "    </tr>\n",
       "    <tr>\n",
       "      <th>481</th>\n",
       "      <td>BİREYSEL</td>\n",
       "      <td>7</td>\n",
       "      <td>E</td>\n",
       "      <td>EVLİ</td>\n",
       "      <td>HS_below</td>\n",
       "      <td>PRIVATE</td>\n",
       "      <td>2300.0</td>\n",
       "      <td>40</td>\n",
       "      <td>14.0</td>\n",
       "      <td>MARMARA</td>\n",
       "      <td>...</td>\n",
       "      <td>NaN</td>\n",
       "      <td>NaN</td>\n",
       "      <td>NaN</td>\n",
       "      <td>NaN</td>\n",
       "      <td>NaN</td>\n",
       "      <td>NaN</td>\n",
       "      <td>NaN</td>\n",
       "      <td>NaN</td>\n",
       "      <td>NaN</td>\n",
       "      <td>NaN</td>\n",
       "    </tr>\n",
       "    <tr>\n",
       "      <th>614</th>\n",
       "      <td>BİREYSEL</td>\n",
       "      <td>13</td>\n",
       "      <td>E</td>\n",
       "      <td>EVLİ</td>\n",
       "      <td>HS_below</td>\n",
       "      <td>PRIVATE</td>\n",
       "      <td>2000.0</td>\n",
       "      <td>38</td>\n",
       "      <td>7.0</td>\n",
       "      <td>MARMARA</td>\n",
       "      <td>...</td>\n",
       "      <td>NaN</td>\n",
       "      <td>NaN</td>\n",
       "      <td>NaN</td>\n",
       "      <td>NaN</td>\n",
       "      <td>NaN</td>\n",
       "      <td>NaN</td>\n",
       "      <td>NaN</td>\n",
       "      <td>NaN</td>\n",
       "      <td>NaN</td>\n",
       "      <td>NaN</td>\n",
       "    </tr>\n",
       "    <tr>\n",
       "      <th>...</th>\n",
       "      <td>...</td>\n",
       "      <td>...</td>\n",
       "      <td>...</td>\n",
       "      <td>...</td>\n",
       "      <td>...</td>\n",
       "      <td>...</td>\n",
       "      <td>...</td>\n",
       "      <td>...</td>\n",
       "      <td>...</td>\n",
       "      <td>...</td>\n",
       "      <td>...</td>\n",
       "      <td>...</td>\n",
       "      <td>...</td>\n",
       "      <td>...</td>\n",
       "      <td>...</td>\n",
       "      <td>...</td>\n",
       "      <td>...</td>\n",
       "      <td>...</td>\n",
       "      <td>...</td>\n",
       "      <td>...</td>\n",
       "      <td>...</td>\n",
       "    </tr>\n",
       "    <tr>\n",
       "      <th>102793</th>\n",
       "      <td>BİREYSEL</td>\n",
       "      <td>685</td>\n",
       "      <td>E</td>\n",
       "      <td>BEKAR</td>\n",
       "      <td>University</td>\n",
       "      <td>PUBLIC</td>\n",
       "      <td>0.0</td>\n",
       "      <td>24</td>\n",
       "      <td>1.0</td>\n",
       "      <td>AEGEAN</td>\n",
       "      <td>...</td>\n",
       "      <td>NaN</td>\n",
       "      <td>NaN</td>\n",
       "      <td>NaN</td>\n",
       "      <td>NaN</td>\n",
       "      <td>NaN</td>\n",
       "      <td>NaN</td>\n",
       "      <td>NaN</td>\n",
       "      <td>NaN</td>\n",
       "      <td>NaN</td>\n",
       "      <td>NaN</td>\n",
       "    </tr>\n",
       "    <tr>\n",
       "      <th>102835</th>\n",
       "      <td>BİREYSEL</td>\n",
       "      <td>822</td>\n",
       "      <td>E</td>\n",
       "      <td>EVLİ</td>\n",
       "      <td>HS_below</td>\n",
       "      <td>PRIVATE</td>\n",
       "      <td>1500.0</td>\n",
       "      <td>25</td>\n",
       "      <td>6.0</td>\n",
       "      <td>AEGEAN</td>\n",
       "      <td>...</td>\n",
       "      <td>NaN</td>\n",
       "      <td>NaN</td>\n",
       "      <td>NaN</td>\n",
       "      <td>NaN</td>\n",
       "      <td>NaN</td>\n",
       "      <td>NaN</td>\n",
       "      <td>NaN</td>\n",
       "      <td>NaN</td>\n",
       "      <td>NaN</td>\n",
       "      <td>NaN</td>\n",
       "    </tr>\n",
       "    <tr>\n",
       "      <th>103008</th>\n",
       "      <td>BİREYSEL</td>\n",
       "      <td>232</td>\n",
       "      <td>E</td>\n",
       "      <td>BEKAR</td>\n",
       "      <td>University</td>\n",
       "      <td>PRIVATE</td>\n",
       "      <td>2500.0</td>\n",
       "      <td>25</td>\n",
       "      <td>4.0</td>\n",
       "      <td>BLACK SEA</td>\n",
       "      <td>...</td>\n",
       "      <td>NaN</td>\n",
       "      <td>NaN</td>\n",
       "      <td>NaN</td>\n",
       "      <td>NaN</td>\n",
       "      <td>NaN</td>\n",
       "      <td>NaN</td>\n",
       "      <td>NaN</td>\n",
       "      <td>NaN</td>\n",
       "      <td>NaN</td>\n",
       "      <td>NaN</td>\n",
       "    </tr>\n",
       "    <tr>\n",
       "      <th>103063</th>\n",
       "      <td>BİREYSEL</td>\n",
       "      <td>532</td>\n",
       "      <td>E</td>\n",
       "      <td>EVLİ</td>\n",
       "      <td>HS_below</td>\n",
       "      <td>PRIVATE</td>\n",
       "      <td>1000.0</td>\n",
       "      <td>37</td>\n",
       "      <td>6.0</td>\n",
       "      <td>BLACK SEA</td>\n",
       "      <td>...</td>\n",
       "      <td>NaN</td>\n",
       "      <td>NaN</td>\n",
       "      <td>NaN</td>\n",
       "      <td>NaN</td>\n",
       "      <td>NaN</td>\n",
       "      <td>NaN</td>\n",
       "      <td>NaN</td>\n",
       "      <td>NaN</td>\n",
       "      <td>NaN</td>\n",
       "      <td>NaN</td>\n",
       "    </tr>\n",
       "    <tr>\n",
       "      <th>103136</th>\n",
       "      <td>BİREYSEL</td>\n",
       "      <td>1223</td>\n",
       "      <td>E</td>\n",
       "      <td>EVLİ</td>\n",
       "      <td>University</td>\n",
       "      <td>PRIVATE</td>\n",
       "      <td>1000.0</td>\n",
       "      <td>28</td>\n",
       "      <td>3.0</td>\n",
       "      <td>BLACK SEA</td>\n",
       "      <td>...</td>\n",
       "      <td>NaN</td>\n",
       "      <td>NaN</td>\n",
       "      <td>NaN</td>\n",
       "      <td>NaN</td>\n",
       "      <td>NaN</td>\n",
       "      <td>NaN</td>\n",
       "      <td>NaN</td>\n",
       "      <td>NaN</td>\n",
       "      <td>NaN</td>\n",
       "      <td>NaN</td>\n",
       "    </tr>\n",
       "  </tbody>\n",
       "</table>\n",
       "<p>1345 rows × 66 columns</p>\n",
       "</div>"
      ],
      "text/plain": [
       "       Cust_Segment  Branch_ID Gender Marital_Status Education_Lv Job_Status  \\\n",
       "138        BİREYSEL          4      E           EVLİ   University    PRIVATE   \n",
       "300           MİKRO          4      E     BİLINMİYOR   University    PRIVATE   \n",
       "396        BİREYSEL          4      K       BOŞANMIŞ     HS_below    PRIVATE   \n",
       "481        BİREYSEL          7      E           EVLİ     HS_below    PRIVATE   \n",
       "614        BİREYSEL         13      E           EVLİ     HS_below    PRIVATE   \n",
       "...             ...        ...    ...            ...          ...        ...   \n",
       "102793     BİREYSEL        685      E          BEKAR   University     PUBLIC   \n",
       "102835     BİREYSEL        822      E           EVLİ     HS_below    PRIVATE   \n",
       "103008     BİREYSEL        232      E          BEKAR   University    PRIVATE   \n",
       "103063     BİREYSEL        532      E           EVLİ     HS_below    PRIVATE   \n",
       "103136     BİREYSEL       1223      E           EVLİ   University    PRIVATE   \n",
       "\n",
       "         Income  Age  Years_w_Bank Work_Region  ...  \\\n",
       "138      1700.0   29           8.0     MARMARA  ...   \n",
       "300     25000.0   36          13.0     MARMARA  ...   \n",
       "396      1215.0   31           3.0     MARMARA  ...   \n",
       "481      2300.0   40          14.0     MARMARA  ...   \n",
       "614      2000.0   38           7.0     MARMARA  ...   \n",
       "...         ...  ...           ...         ...  ...   \n",
       "102793      0.0   24           1.0      AEGEAN  ...   \n",
       "102835   1500.0   25           6.0      AEGEAN  ...   \n",
       "103008   2500.0   25           4.0   BLACK SEA  ...   \n",
       "103063   1000.0   37           6.0   BLACK SEA  ...   \n",
       "103136   1000.0   28           3.0   BLACK SEA  ...   \n",
       "\n",
       "       SEYAHAT ACENTALARI - TAŞIMACILIK SPOR GİYİM  SİGORTA  \\\n",
       "138                                 NaN        NaN      NaN   \n",
       "300                                 NaN        NaN      NaN   \n",
       "396                                 NaN        NaN      NaN   \n",
       "481                                 NaN        NaN      NaN   \n",
       "614                                 NaN        NaN      NaN   \n",
       "...                                 ...        ...      ...   \n",
       "102793                              NaN        NaN      NaN   \n",
       "102835                              NaN        NaN      NaN   \n",
       "103008                              NaN        NaN      NaN   \n",
       "103063                              NaN        NaN      NaN   \n",
       "103136                              NaN        NaN      NaN   \n",
       "\n",
       "        SİGORTA-MAIL ORDER  SİNEMA TİYATRO SANAT  TEKNOLOJİ  TEKSTİL  \\\n",
       "138                    NaN                   NaN        NaN      NaN   \n",
       "300                    NaN                   NaN        NaN      NaN   \n",
       "396                    NaN                   NaN        NaN      NaN   \n",
       "481                    NaN                   NaN        NaN      NaN   \n",
       "614                    NaN                   NaN        NaN      NaN   \n",
       "...                    ...                   ...        ...      ...   \n",
       "102793                 NaN                   NaN        NaN      NaN   \n",
       "102835                 NaN                   NaN        NaN      NaN   \n",
       "103008                 NaN                   NaN        NaN      NaN   \n",
       "103063                 NaN                   NaN        NaN      NaN   \n",
       "103136                 NaN                   NaN        NaN      NaN   \n",
       "\n",
       "        TELEKOMÜNİKASYON  YAPI MALZ., HIRDAVAT, NALBURİYE  \\\n",
       "138                  NaN                              NaN   \n",
       "300                  NaN                              NaN   \n",
       "396                  NaN                              NaN   \n",
       "481                  NaN                              NaN   \n",
       "614                  NaN                              NaN   \n",
       "...                  ...                              ...   \n",
       "102793               NaN                              NaN   \n",
       "102835               NaN                              NaN   \n",
       "103008               NaN                              NaN   \n",
       "103063               NaN                              NaN   \n",
       "103136               NaN                              NaN   \n",
       "\n",
       "        İÇKİLİ YERLER - KUMARHANE  \n",
       "138                           NaN  \n",
       "300                           NaN  \n",
       "396                           NaN  \n",
       "481                           NaN  \n",
       "614                           NaN  \n",
       "...                           ...  \n",
       "102793                        NaN  \n",
       "102835                        NaN  \n",
       "103008                        NaN  \n",
       "103063                        NaN  \n",
       "103136                        NaN  \n",
       "\n",
       "[1345 rows x 66 columns]"
      ]
     },
     "execution_count": 106,
     "metadata": {},
     "output_type": "execute_result"
    }
   ],
   "source": [
    "demo_df[demo_df['DİĞER'].isnull()]\n",
    "#looks like these customers didn't have transaction data or did not use their credit cards"
   ]
  },
  {
   "cell_type": "code",
   "execution_count": 107,
   "id": "a9cd18e0-6a41-4aa7-9df6-8c95957a3d9b",
   "metadata": {},
   "outputs": [],
   "source": [
    "#demo_df.dropna(subset=[\"AKARYAKIT\"], inplace=True)\n",
    "demo_df.dropna(subset=[\"Home_Region\"], inplace=True)\n",
    "demo_df.dropna(subset=[\"Branch_Region\"], inplace=True)\n",
    "demo_df.dropna(subset=[\"transaction_food_mean\"], inplace=True)\n",
    "demo_df.dropna(subset=[\"transaction_food_max\"], inplace=True)"
   ]
  },
  {
   "cell_type": "code",
   "execution_count": 108,
   "id": "a08d58f0-0d9f-4284-9503-996cda812e49",
   "metadata": {},
   "outputs": [],
   "source": [
    "demo_df.drop(['transaction_gas_mean', 'transaction_gas_max', 'transaction_health_mean', 'transaction_health_max'], axis = 1, inplace=True)"
   ]
  },
  {
   "cell_type": "code",
   "execution_count": 109,
   "id": "9b6b1db9-f81a-4709-80ef-15a7f75d7104",
   "metadata": {},
   "outputs": [],
   "source": [
    "demo_df.drop(demo_df[demo_df['Job_Status'] == 'ÇOCUK (18 YAŞIN ALTINDA)'].index, inplace = True)\n",
    "demo_df.drop(demo_df[demo_df['Job_Status'] == 'YURTDIŞINDA ÇALIŞAN'].index, inplace = True)                     \n",
    "demo_df.drop(demo_df[demo_df['Job_Status'] == 'TANIMSIZ'].index, inplace = True)        \n",
    "demo_df.drop(demo_df[demo_df['Job_Status'] == 'DİĞER'].index, inplace = True)     \n",
    "demo_df.drop(demo_df[demo_df['Marital_Status'] == 'EVLİLİĞİN İPTALİ'].index, inplace = True)"
   ]
  },
  {
   "cell_type": "code",
   "execution_count": 110,
   "id": "e5a9d49f-d812-4af5-979e-7316a7778436",
   "metadata": {},
   "outputs": [
    {
     "data": {
      "text/plain": [
       "PRIVATE       77096\n",
       "PUBLIC         6318\n",
       "UNEMPLOYED     4273\n",
       "Name: Job_Status, dtype: int64"
      ]
     },
     "execution_count": 110,
     "metadata": {},
     "output_type": "execute_result"
    }
   ],
   "source": [
    "demo_df['Job_Status'].value_counts()"
   ]
  },
  {
   "cell_type": "code",
   "execution_count": 111,
   "id": "ba69be87-6201-4c71-b4c7-4b042c97ea54",
   "metadata": {
    "tags": []
   },
   "outputs": [
    {
     "data": {
      "image/png": "[encoded data removed]",
      "text/plain": [
       "<Figure size 1440x1080 with 12 Axes>"
      ]
     },
     "metadata": {
      "needs_background": "light"
     },
     "output_type": "display_data"
    }
   ],
   "source": [
    "# Data Exploration\n",
    "%matplotlib inline\n",
    "import matplotlib.pyplot as plt\n",
    "demo_df.iloc[:,0:19].hist(bins=50, figsize=(20,15))\n",
    "plt.show()"
   ]
  },
  {
   "cell_type": "code",
   "execution_count": 112,
   "id": "de984e15-15d5-4ad7-9af2-5696a95fa37f",
   "metadata": {},
   "outputs": [
    {
     "data": {
      "image/png": "[encoded data removed]",
      "text/plain": [
       "<Figure size 1440x1080 with 42 Axes>"
      ]
     },
     "metadata": {
      "needs_background": "light"
     },
     "output_type": "display_data"
    }
   ],
   "source": [
    "demo_df.iloc[:,20:].hist(bins=50, figsize=(20,15))\n",
    "plt.show()"
   ]
  },
  {
   "cell_type": "code",
   "execution_count": 113,
   "id": "ad3b1a20-b147-40da-8209-83e9b04fe710",
   "metadata": {},
   "outputs": [
    {
     "data": {
      "text/plain": [
       "array(['Cust_Segment', 'Branch_ID', 'Gender', 'Marital_Status',\n",
       "       'Education_Lv', 'Job_Status', 'Income', 'Age', 'Years_w_Bank',\n",
       "       'Work_Region', 'Home_Region', 'Branch_Region', '1)RISKSIZ',\n",
       "       '2)GECIKME 1-15 GUN', '3)GECIKME 16-29 GUN', '4)GECIKME 30-59 GUN',\n",
       "       '5)GECIKME 60+ GUN', '6)TAKIP', 'statement_mean', 'statement_max',\n",
       "       'transaction1_mean', 'transaction1_max', 'transaction2_mean',\n",
       "       'transaction2_max', 'online_trans_percent',\n",
       "       'transaction_food_mean', 'transaction_food_max', 'AKARYAKIT',\n",
       "       'ALIŞVERİŞ MERKEZLERİ', 'ARABA KİRALAMA', 'AYAKKABI', 'BEYAZ EŞYA',\n",
       "       'DENİZ TAŞITLARI KİRALAMA, SATIŞ, BAKIM',\n",
       "       'DOĞRUDAN PAZARLAMA-MAIL ORDER', 'DİĞER', 'EĞLENCE VE SPOR',\n",
       "       'EĞİTİM', 'GIDA', 'HAVAYOLLARI', 'HOTEL', 'HİZMET SEKTÖRLERİ',\n",
       "       'KOZMETİK', 'KUYUMCU', 'MOBİLYA, DEKORASYON', 'MOTOSİKLET',\n",
       "       'MUZIK MARKET KIRTASİYE', 'NAKİT AVANS', 'OPTİK', 'OTOMOTİV',\n",
       "       'OYUNCAK', 'RESTORAN', 'SAĞLIK',\n",
       "       'SEYAHAT ACENTALARI - TAŞIMACILIK', 'SPOR GİYİM', 'SİGORTA',\n",
       "       'SİGORTA-MAIL ORDER', 'SİNEMA TİYATRO SANAT', 'TEKNOLOJİ',\n",
       "       'TEKSTİL', 'TELEKOMÜNİKASYON', 'YAPI MALZ., HIRDAVAT, NALBURİYE',\n",
       "       'İÇKİLİ YERLER - KUMARHANE'], dtype=object)"
      ]
     },
     "execution_count": 113,
     "metadata": {},
     "output_type": "execute_result"
    }
   ],
   "source": [
    "demo_df.columns.values"
   ]
  },
  {
   "cell_type": "markdown",
   "id": "bc489dc8-7730-43bf-9299-204749f32217",
   "metadata": {},
   "source": [
    "## Data Processing"
   ]
  },
  {
   "cell_type": "code",
   "execution_count": 114,
   "id": "5281b6d9-cfb5-47c3-a3df-19e0d4bac519",
   "metadata": {},
   "outputs": [],
   "source": [
    "#train/test split\n",
    "from sklearn.model_selection import train_test_split\n",
    "\n",
    "train_set, test_set = train_test_split(demo_df, test_size = 0.2, random_state = 16)"
   ]
  },
  {
   "cell_type": "code",
   "execution_count": 115,
   "id": "f23073ae-507b-4d48-ae90-88a2ba1d0f88",
   "metadata": {},
   "outputs": [],
   "source": [
    "# separate labels from feature matrix\n",
    "train_y = train_set['Job_Status']\n",
    "train_X = train_set.drop('Job_Status', axis = 1)\n",
    "test_y = test_set['Job_Status']\n",
    "test_X = test_set.drop('Job_Status', axis = 1)"
   ]
  },
  {
   "cell_type": "code",
   "execution_count": 116,
   "id": "a85d81e2-eff7-41cb-b3e9-af43f3cbacd1",
   "metadata": {},
   "outputs": [],
   "source": [
    "#pipeline\n",
    "\n",
    "# locations, gender, marital status, education level, job status, penalties\n",
    "# Additional processing with full data set: drop home region branch region nulls\n",
    "\n",
    "from sklearn.pipeline import Pipeline\n",
    "from sklearn.preprocessing import StandardScaler\n",
    "from sklearn.impute import SimpleImputer\n",
    "\n",
    "num_pipeline = Pipeline([\n",
    "('imputer', SimpleImputer(strategy=\"median\")),\n",
    "('std_scaler', StandardScaler())\n",
    "])"
   ]
  },
  {
   "cell_type": "code",
   "execution_count": 117,
   "id": "b3c3905f-b770-4ea4-b492-2d62f656c914",
   "metadata": {},
   "outputs": [],
   "source": [
    "from sklearn.preprocessing import OneHotEncoder\n",
    "\n",
    "cat_pipeline  = Pipeline([\n",
    "('cat_encoder', OneHotEncoder())\n",
    "])"
   ]
  },
  {
   "cell_type": "code",
   "execution_count": 118,
   "id": "b662390e-fa73-49f5-9d04-ee15e7efe71b",
   "metadata": {},
   "outputs": [],
   "source": [
    "from sklearn.compose import ColumnTransformer\n",
    "num_attribs = ['Branch_ID', 'Income', 'Age', 'Years_w_Bank', '1)RISKSIZ',\n",
    "       '2)GECIKME 1-15 GUN', '3)GECIKME 16-29 GUN', '4)GECIKME 30-59 GUN',\n",
    "       '5)GECIKME 60+ GUN', '6)TAKIP', 'statement_mean', 'statement_max',\n",
    "       'transaction1_mean', 'transaction1_max', 'transaction2_mean',\n",
    "       'transaction2_max', 'online_trans_percent',\n",
    "       'transaction_food_mean', 'transaction_food_max', 'AKARYAKIT',\n",
    "       'ALIŞVERİŞ MERKEZLERİ', 'ARABA KİRALAMA', 'AYAKKABI', 'BEYAZ EŞYA',\n",
    "       'DENİZ TAŞITLARI KİRALAMA, SATIŞ, BAKIM',\n",
    "       'DOĞRUDAN PAZARLAMA-MAIL ORDER', 'DİĞER', 'EĞLENCE VE SPOR',\n",
    "       'EĞİTİM', 'GIDA', 'HAVAYOLLARI', 'HOTEL', 'HİZMET SEKTÖRLERİ',\n",
    "       'KOZMETİK', 'KUYUMCU', 'MOBİLYA, DEKORASYON', 'MOTOSİKLET',\n",
    "       'MUZIK MARKET KIRTASİYE', 'NAKİT AVANS', 'OPTİK', 'OTOMOTİV',\n",
    "       'OYUNCAK', 'RESTORAN', 'SAĞLIK',\n",
    "       'SEYAHAT ACENTALARI - TAŞIMACILIK', 'SPOR GİYİM', 'SİGORTA',\n",
    "       'SİGORTA-MAIL ORDER', 'SİNEMA TİYATRO SANAT', 'TEKNOLOJİ',\n",
    "       'TEKSTİL', 'TELEKOMÜNİKASYON', 'YAPI MALZ., HIRDAVAT, NALBURİYE',\n",
    "       'İÇKİLİ YERLER - KUMARHANE']\n",
    "cat_attribs = ['Cust_Segment', 'Gender', 'Marital_Status', 'Education_Lv', 'Work_Region', 'Home_Region', 'Branch_Region']\n",
    "\n",
    "full_pipeline = ColumnTransformer([\n",
    "(\"num\", num_pipeline, num_attribs),\n",
    "(\"cat\", cat_pipeline, cat_attribs), \n",
    "], remainder = 'passthrough')"
   ]
  },
  {
   "cell_type": "code",
   "execution_count": 119,
   "id": "0cc2a368-55b1-4337-80a0-72c563059282",
   "metadata": {},
   "outputs": [],
   "source": [
    "train_X_prepared = full_pipeline.fit_transform(train_X)"
   ]
  },
  {
   "cell_type": "code",
   "execution_count": 120,
   "id": "1d78362b-7d0c-415a-bacf-866caadcb863",
   "metadata": {},
   "outputs": [],
   "source": [
    "# train_y = (train_y == 'EVLİ')\n",
    "# test_y_md = (test_y == 'EVLİ')"
   ]
  },
  {
   "cell_type": "code",
   "execution_count": 121,
   "id": "335b5c57-e8f1-430d-82e1-deedb6e376a9",
   "metadata": {},
   "outputs": [
    {
     "data": {
      "text/plain": [
       "PRIVATE       15484\n",
       "PUBLIC         1212\n",
       "UNEMPLOYED      842\n",
       "Name: Job_Status, dtype: int64"
      ]
     },
     "execution_count": 121,
     "metadata": {},
     "output_type": "execute_result"
    }
   ],
   "source": [
    "test_y.value_counts()"
   ]
  },
  {
   "cell_type": "markdown",
   "id": "eb271b08-22d1-4011-9a2d-e6d842a2f956",
   "metadata": {
    "tags": []
   },
   "source": [
    "## Dimensionality Reduction"
   ]
  },
  {
   "cell_type": "code",
   "execution_count": 122,
   "id": "94f92237-8009-44ff-846b-8f82224cc464",
   "metadata": {},
   "outputs": [],
   "source": [
    "#pca\n",
    "from sklearn.decomposition import TruncatedSVD\n",
    "\n",
    "TruncSVD = TruncatedSVD(n_components = 90)\n",
    "TruncSVD.fit(train_X_prepared)\n",
    "cumsum = np.cumsum(TruncSVD.explained_variance_ratio_)\n",
    "d = np.argmax(cumsum >= 0.90) + 1"
   ]
  },
  {
   "cell_type": "code",
   "execution_count": 123,
   "id": "b32777e7-04df-44ee-ac5a-33b262782db1",
   "metadata": {},
   "outputs": [
    {
     "data": {
      "text/plain": [
       "44"
      ]
     },
     "execution_count": 123,
     "metadata": {},
     "output_type": "execute_result"
    }
   ],
   "source": [
    "d"
   ]
  },
  {
   "cell_type": "code",
   "execution_count": 124,
   "id": "59d18e5a-1995-415c-b2af-f53d908652aa",
   "metadata": {},
   "outputs": [
    {
     "data": {
      "image/png": "[encoded data removed]",
      "text/plain": [
       "<Figure size 432x288 with 1 Axes>"
      ]
     },
     "metadata": {
      "needs_background": "light"
     },
     "output_type": "display_data"
    }
   ],
   "source": [
    "plt.figure(figsize=(6,4))\n",
    "plt.plot(cumsum, linewidth=3)\n",
    "plt.axis([0, 94, 0, 1])\n",
    "plt.xlabel(\"Dimensions\")\n",
    "plt.ylabel(\"Explained Variance\")\n",
    "plt.plot([d, d], [0, 0.90], \"k:\")\n",
    "plt.plot([0, d], [0.90, 0.90], \"k:\")\n",
    "plt.plot(d, 0.90, \"ko\")\n",
    "\n",
    "plt.grid(True)\n",
    "# save_fig(\"explained_variance_plot\")\n",
    "plt.show()\n",
    "\n",
    "# try 8 dimensions"
   ]
  },
  {
   "cell_type": "code",
   "execution_count": 125,
   "id": "6b749dce-2036-4c5a-9125-2ebb2949fa5a",
   "metadata": {
    "tags": []
   },
   "outputs": [],
   "source": [
    "TruncSVD = TruncatedSVD(n_components=44)\n",
    "X_reduced = TruncSVD.fit_transform(train_X_prepared)"
   ]
  },
  {
   "cell_type": "markdown",
   "id": "4801f367-ca13-41b4-8d63-ef96dd08a847",
   "metadata": {
    "tags": []
   },
   "source": [
    "## Train Model"
   ]
  },
  {
   "cell_type": "markdown",
   "id": "cfcb6bbc-072d-4ca3-a53b-8b9d210b6000",
   "metadata": {},
   "source": [
    "## Bagging Classifier"
   ]
  },
  {
   "cell_type": "code",
   "execution_count": 126,
   "id": "692fcf9b-666d-41c8-9f43-99e35528360f",
   "metadata": {},
   "outputs": [
    {
     "data": {
      "text/plain": [
       "0.8782876448702048"
      ]
     },
     "execution_count": 126,
     "metadata": {},
     "output_type": "execute_result"
    }
   ],
   "source": [
    "from sklearn.ensemble import BaggingClassifier\n",
    "from sklearn.tree import DecisionTreeClassifier\n",
    "\n",
    "bag_clf = BaggingClassifier(\n",
    "    DecisionTreeClassifier(max_depth=9, max_features=8), n_estimators=141,\n",
    "    max_samples=100, bootstrap=True, n_jobs=-1,\n",
    "    oob_score=True)\n",
    "\n",
    "bag_clf.fit(X_reduced, train_y)\n",
    "\n",
    "bag_clf.oob_score_"
   ]
  },
  {
   "cell_type": "code",
   "execution_count": 127,
   "id": "350e964f-5261-40b6-937f-c8cbc9a2ebe0",
   "metadata": {},
   "outputs": [],
   "source": [
    "y_train_pred = bag_clf.predict(X_reduced)"
   ]
  },
  {
   "cell_type": "code",
   "execution_count": 128,
   "id": "afa9a41d-257e-4512-93da-e13ed31db2b9",
   "metadata": {},
   "outputs": [
    {
     "data": {
      "text/plain": [
       "0.8782876448702048"
      ]
     },
     "execution_count": 128,
     "metadata": {},
     "output_type": "execute_result"
    }
   ],
   "source": [
    "from sklearn.metrics import accuracy_score\n",
    "\n",
    "accuracy_score(train_y, y_train_pred)"
   ]
  },
  {
   "cell_type": "code",
   "execution_count": 129,
   "id": "8631a891-85ef-43e8-b832-49a21402147c",
   "metadata": {},
   "outputs": [
    {
     "data": {
      "text/plain": [
       "array([[61611,     0,     1],\n",
       "       [ 5106,     0,     0],\n",
       "       [ 3431,     0,     0]])"
      ]
     },
     "execution_count": 129,
     "metadata": {},
     "output_type": "execute_result"
    }
   ],
   "source": [
    "from sklearn.metrics import confusion_matrix\n",
    "\n",
    "confusion_matrix(train_y, y_train_pred)"
   ]
  },
  {
   "cell_type": "code",
   "execution_count": 130,
   "id": "8446cc04-15cf-4072-b155-c2d50376c74b",
   "metadata": {},
   "outputs": [
    {
     "data": {
      "text/plain": [
       "[(0.04112893434753786, 'Branch_ID'),\n",
       " (0.037588120536329477, 'Age'),\n",
       " (0.034445227737736686, 'Work_Region'),\n",
       " (0.03232806595433095, 'Job_Status'),\n",
       " (0.03089496760965191, 'Gender'),\n",
       " (0.030567400106169998, 'Marital_Status'),\n",
       " (0.029769747098922272, 'Education_Lv'),\n",
       " (0.029227617935485506, 'Years_w_Bank'),\n",
       " (0.0278570466485962, 'HOTEL'),\n",
       " (0.02769655648690428, 'AYAKKABI')]"
      ]
     },
     "execution_count": 130,
     "metadata": {},
     "output_type": "execute_result"
    }
   ],
   "source": [
    "feature_importances = np.mean([tree.feature_importances_ for tree in bag_clf.estimators_], axis=0)\n",
    "sorted(zip(feature_importances, demo_df), reverse=True)[0:10]"
   ]
  },
  {
   "cell_type": "markdown",
   "id": "6f7409cc-7429-419f-bb53-42f14d01a4f6",
   "metadata": {},
   "source": [
    "## AdaBoost"
   ]
  },
  {
   "cell_type": "code",
   "execution_count": 131,
   "id": "9f26bad7-2f00-47ec-83f4-42a2495a5ad7",
   "metadata": {},
   "outputs": [
    {
     "data": {
      "text/plain": [
       "AdaBoostClassifier(base_estimator=DecisionTreeClassifier(max_depth=1,\n",
       "                                                         max_features=6),\n",
       "                   learning_rate=0.5, n_estimators=384)"
      ]
     },
     "execution_count": 131,
     "metadata": {},
     "output_type": "execute_result"
    }
   ],
   "source": [
    "from sklearn.ensemble import AdaBoostClassifier\n",
    "\n",
    "ada_clf = AdaBoostClassifier(\n",
    "DecisionTreeClassifier(max_depth=1, max_features=6), n_estimators=384,\n",
    "algorithm=\"SAMME.R\", learning_rate=0.5)\n",
    "\n",
    "ada_clf.fit(X_reduced, train_y)"
   ]
  },
  {
   "cell_type": "code",
   "execution_count": 132,
   "id": "ea36e010-93cb-4e55-bf62-e45392b6edd4",
   "metadata": {},
   "outputs": [],
   "source": [
    "from sklearn.model_selection import cross_val_predict\n",
    "\n",
    "y_train_pred = ada_clf.predict(X_reduced)"
   ]
  },
  {
   "cell_type": "code",
   "execution_count": 133,
   "id": "5d091054-adbd-42de-92ff-d2cf9fd72d73",
   "metadata": {},
   "outputs": [
    {
     "data": {
      "text/plain": [
       "array([[61268,    64,   280],\n",
       "       [ 4941,    47,   118],\n",
       "       [ 3060,    22,   349]])"
      ]
     },
     "execution_count": 133,
     "metadata": {},
     "output_type": "execute_result"
    }
   ],
   "source": [
    "confusion_matrix(train_y, y_train_pred)"
   ]
  },
  {
   "cell_type": "code",
   "execution_count": 134,
   "id": "f55b77c5-4648-46c5-9ced-06ed22d888be",
   "metadata": {},
   "outputs": [
    {
     "data": {
      "text/plain": [
       "0.8790431795178834"
      ]
     },
     "execution_count": 134,
     "metadata": {},
     "output_type": "execute_result"
    }
   ],
   "source": [
    "from sklearn.metrics import accuracy_score\n",
    "\n",
    "accuracy_score(train_y, y_train_pred)"
   ]
  },
  {
   "cell_type": "code",
   "execution_count": 135,
   "id": "90d50efc-f5a5-462b-8048-0fbe239ff465",
   "metadata": {},
   "outputs": [
    {
     "data": {
      "text/plain": [
       "[(0.08333333333333333, 'Cust_Segment'),\n",
       " (0.08333333333333333, 'Branch_ID'),\n",
       " (0.033854166666666664, 'Years_w_Bank'),\n",
       " (0.03125, 'Gender'),\n",
       " (0.028645833333333332, 'KUYUMCU'),\n",
       " (0.028645833333333332, 'Education_Lv'),\n",
       " (0.026041666666666668, 'transaction1_mean'),\n",
       " (0.026041666666666668, 'transaction1_max'),\n",
       " (0.026041666666666668, 'statement_max'),\n",
       " (0.026041666666666668, 'Income')]"
      ]
     },
     "execution_count": 135,
     "metadata": {},
     "output_type": "execute_result"
    }
   ],
   "source": [
    "feature_importances = np.mean([tree.feature_importances_ for tree in ada_clf.estimators_], axis=0)\n",
    "sorted(zip(feature_importances, demo_df), reverse=True)[0:10]"
   ]
  },
  {
   "cell_type": "markdown",
   "id": "9a7b8d44-4d76-476e-bc6b-d7fad927bbf4",
   "metadata": {},
   "source": [
    "## Gradient Boost"
   ]
  },
  {
   "cell_type": "code",
   "execution_count": 136,
   "id": "3090eee1-89a2-4784-8bf0-ad084c0fe0d1",
   "metadata": {
    "tags": []
   },
   "outputs": [],
   "source": [
    "from sklearn.ensemble import GradientBoostingClassifier"
   ]
  },
  {
   "cell_type": "code",
   "execution_count": 137,
   "id": "0e3dc26c-fb1a-4054-ae54-b777349ac6a5",
   "metadata": {
    "tags": []
   },
   "outputs": [
    {
     "data": {
      "text/plain": [
       "GradientBoostingClassifier(learning_rate=0.2, max_features=5, n_estimators=306)"
      ]
     },
     "execution_count": 137,
     "metadata": {},
     "output_type": "execute_result"
    }
   ],
   "source": [
    "gbrt = GradientBoostingClassifier(max_depth=3, max_features=5, n_estimators=306, learning_rate=0.2)\n",
    "gbrt.fit(X_reduced, train_y)"
   ]
  },
  {
   "cell_type": "code",
   "execution_count": 138,
   "id": "40f34cae-3255-4135-9ec4-a85ca9928b15",
   "metadata": {
    "tags": []
   },
   "outputs": [],
   "source": [
    "from sklearn.model_selection import cross_val_predict\n",
    "\n",
    "y_train_pred = gbrt.predict(X_reduced)"
   ]
  },
  {
   "cell_type": "code",
   "execution_count": 139,
   "id": "f046a896-99aa-48a0-98d9-bbf617687f5b",
   "metadata": {
    "tags": []
   },
   "outputs": [
    {
     "data": {
      "text/plain": [
       "0.8909606694322085"
      ]
     },
     "execution_count": 139,
     "metadata": {},
     "output_type": "execute_result"
    }
   ],
   "source": [
    "from sklearn.metrics import accuracy_score\n",
    "\n",
    "accuracy_score(train_y, y_train_pred)"
   ]
  },
  {
   "cell_type": "code",
   "execution_count": 140,
   "id": "bc95e0a7-6300-4639-8d22-33b4b6c049dc",
   "metadata": {},
   "outputs": [
    {
     "data": {
      "text/plain": [
       "array([[61344,    54,   214],\n",
       "       [ 4578,   399,   129],\n",
       "       [ 2629,    45,   757]])"
      ]
     },
     "execution_count": 140,
     "metadata": {},
     "output_type": "execute_result"
    }
   ],
   "source": [
    "from sklearn.metrics import confusion_matrix\n",
    "\n",
    "confusion_matrix(train_y, y_train_pred)"
   ]
  },
  {
   "cell_type": "code",
   "execution_count": 141,
   "id": "fec4edb3-50c6-40a9-81cf-cf032358fe8d",
   "metadata": {},
   "outputs": [
    {
     "data": {
      "text/plain": [
       "[(0.04112893434753786, 'Branch_ID'),\n",
       " (0.037588120536329477, 'Age'),\n",
       " (0.034445227737736686, 'Work_Region'),\n",
       " (0.03232806595433095, 'Job_Status'),\n",
       " (0.03089496760965191, 'Gender'),\n",
       " (0.030567400106169998, 'Marital_Status'),\n",
       " (0.029769747098922272, 'Education_Lv'),\n",
       " (0.029227617935485506, 'Years_w_Bank'),\n",
       " (0.0278570466485962, 'HOTEL'),\n",
       " (0.02769655648690428, 'AYAKKABI')]"
      ]
     },
     "execution_count": 141,
     "metadata": {},
     "output_type": "execute_result"
    }
   ],
   "source": [
    "feature_importances = np.mean([tree.feature_importances_ for tree in bag_clf.estimators_], axis=0)\n",
    "sorted(zip(feature_importances, demo_df), reverse=True)[0:10]"
   ]
  },
  {
   "cell_type": "markdown",
   "id": "3705eab7-5815-4f49-a8d3-db616e0d8e92",
   "metadata": {},
   "source": [
    "## Neural Network"
   ]
  },
  {
   "cell_type": "code",
   "execution_count": 142,
   "id": "dda73ae8-9801-4bed-a481-f0238b2c928d",
   "metadata": {},
   "outputs": [],
   "source": [
    "# import tensorflow as tf\n",
    "# from tensorflow import keras"
   ]
  },
  {
   "cell_type": "code",
   "execution_count": 143,
   "id": "10178fdf-945a-485a-8af0-c86dabfb71d4",
   "metadata": {},
   "outputs": [],
   "source": [
    "# X_train, X_val, y_train, y_val = train_test_split(X_reduced, train_y)"
   ]
  },
  {
   "cell_type": "code",
   "execution_count": 144,
   "id": "231a6846-917a-4371-b588-768814d98fe4",
   "metadata": {},
   "outputs": [],
   "source": [
    "# input_ = keras.layers.Input(shape=X_reduced.shape[1:])\n",
    "# hidden1 = keras.layers.Dense(100, activation=\"relu\")(input_)\n",
    "# hidden2 = keras.layers.Dense(100, activation=\"relu\")(hidden1)\n",
    "# output = keras.layers.Dense(1)(hidden2)\n",
    "# model = keras.models.Model(inputs=[input_], outputs=[output])\n",
    "# model.summary()"
   ]
  },
  {
   "cell_type": "code",
   "execution_count": 145,
   "id": "37d28756-b475-4eb5-94f0-84b86af74073",
   "metadata": {},
   "outputs": [],
   "source": [
    "# model.compile(loss=\"binary_crossentropy\",\n",
    "# metrics=[\"accuracy\"])\n"
   ]
  },
  {
   "cell_type": "code",
   "execution_count": 146,
   "id": "117d0d41-0fbf-4387-95ce-6a4c138475ac",
   "metadata": {
    "tags": []
   },
   "outputs": [],
   "source": [
    " # history = model.fit(X_train, y_train, epochs=30,\n",
    " # validation_data=(X_val, y_val))\n"
   ]
  },
  {
   "cell_type": "markdown",
   "id": "34c3d51a-ae92-44c6-9278-671ac397d716",
   "metadata": {},
   "source": [
    "# Test data on test sets"
   ]
  },
  {
   "cell_type": "markdown",
   "id": "5de2abcd-490f-4477-b75d-c13916e210fb",
   "metadata": {},
   "source": [
    "## Bagging Test"
   ]
  },
  {
   "cell_type": "code",
   "execution_count": 147,
   "id": "bf1a71c8-ff66-44ef-a8c4-964aa3a6e30a",
   "metadata": {},
   "outputs": [
    {
     "data": {
      "text/html": [
       "<div>\n",
       "<style scoped>\n",
       "    .dataframe tbody tr th:only-of-type {\n",
       "        vertical-align: middle;\n",
       "    }\n",
       "\n",
       "    .dataframe tbody tr th {\n",
       "        vertical-align: top;\n",
       "    }\n",
       "\n",
       "    .dataframe thead th {\n",
       "        text-align: right;\n",
       "    }\n",
       "</style>\n",
       "<table border=\"1\" class=\"dataframe\">\n",
       "  <thead>\n",
       "    <tr style=\"text-align: right;\">\n",
       "      <th></th>\n",
       "      <th>Cust_Segment</th>\n",
       "      <th>Branch_ID</th>\n",
       "      <th>Gender</th>\n",
       "      <th>Marital_Status</th>\n",
       "      <th>Education_Lv</th>\n",
       "      <th>Income</th>\n",
       "      <th>Age</th>\n",
       "      <th>Years_w_Bank</th>\n",
       "      <th>Work_Region</th>\n",
       "      <th>Home_Region</th>\n",
       "      <th>...</th>\n",
       "      <th>SEYAHAT ACENTALARI - TAŞIMACILIK</th>\n",
       "      <th>SPOR GİYİM</th>\n",
       "      <th>SİGORTA</th>\n",
       "      <th>SİGORTA-MAIL ORDER</th>\n",
       "      <th>SİNEMA TİYATRO SANAT</th>\n",
       "      <th>TEKNOLOJİ</th>\n",
       "      <th>TEKSTİL</th>\n",
       "      <th>TELEKOMÜNİKASYON</th>\n",
       "      <th>YAPI MALZ., HIRDAVAT, NALBURİYE</th>\n",
       "      <th>İÇKİLİ YERLER - KUMARHANE</th>\n",
       "    </tr>\n",
       "  </thead>\n",
       "  <tbody>\n",
       "  </tbody>\n",
       "</table>\n",
       "<p>0 rows × 61 columns</p>\n",
       "</div>"
      ],
      "text/plain": [
       "Empty DataFrame\n",
       "Columns: [Cust_Segment, Branch_ID, Gender, Marital_Status, Education_Lv, Income, Age, Years_w_Bank, Work_Region, Home_Region, Branch_Region, 1)RISKSIZ, 2)GECIKME 1-15 GUN, 3)GECIKME 16-29 GUN, 4)GECIKME 30-59 GUN, 5)GECIKME 60+ GUN, 6)TAKIP, statement_mean, statement_max, transaction1_mean, transaction1_max, transaction2_mean, transaction2_max, online_trans_percent, transaction_food_mean, transaction_food_max, AKARYAKIT, ALIŞVERİŞ MERKEZLERİ, ARABA KİRALAMA, AYAKKABI, BEYAZ EŞYA, DENİZ TAŞITLARI KİRALAMA, SATIŞ, BAKIM, DOĞRUDAN PAZARLAMA-MAIL ORDER, DİĞER, EĞLENCE VE SPOR, EĞİTİM, GIDA, HAVAYOLLARI, HOTEL, HİZMET SEKTÖRLERİ, KOZMETİK, KUYUMCU, MOBİLYA, DEKORASYON, MOTOSİKLET, MUZIK MARKET KIRTASİYE, NAKİT AVANS, OPTİK, OTOMOTİV, OYUNCAK, RESTORAN, SAĞLIK, SEYAHAT ACENTALARI - TAŞIMACILIK, SPOR GİYİM, SİGORTA, SİGORTA-MAIL ORDER, SİNEMA TİYATRO SANAT, TEKNOLOJİ, TEKSTİL, TELEKOMÜNİKASYON, YAPI MALZ., HIRDAVAT, NALBURİYE, İÇKİLİ YERLER - KUMARHANE]\n",
       "Index: []\n",
       "\n",
       "[0 rows x 61 columns]"
      ]
     },
     "execution_count": 147,
     "metadata": {},
     "output_type": "execute_result"
    }
   ],
   "source": [
    "test_X[test_X['Marital_Status'] == 'EVLİLİĞİN İPTALİ']"
   ]
  },
  {
   "cell_type": "code",
   "execution_count": 148,
   "id": "e9b59eb0-cf2b-4966-97f4-98b2d6303cd2",
   "metadata": {},
   "outputs": [],
   "source": [
    "test_X_prepared = full_pipeline.transform(test_X)\n",
    "test_X_reduced = TruncSVD.transform(test_X_prepared)"
   ]
  },
  {
   "cell_type": "code",
   "execution_count": null,
   "id": "163b0e81-5740-4eac-a874-d1adcee3b756",
   "metadata": {},
   "outputs": [],
   "source": []
  },
  {
   "cell_type": "code",
   "execution_count": 149,
   "id": "c9c2f598-285d-4e35-8747-d19373718e43",
   "metadata": {},
   "outputs": [
    {
     "data": {
      "text/plain": [
       "0.882825863838522"
      ]
     },
     "execution_count": 149,
     "metadata": {},
     "output_type": "execute_result"
    }
   ],
   "source": [
    "bag_y_pred = bag_clf.predict(test_X_reduced)\n",
    "accuracy_score(test_y, bag_y_pred)"
   ]
  },
  {
   "cell_type": "code",
   "execution_count": 150,
   "id": "5dfbe099-73ba-4068-a877-34913ca0a6de",
   "metadata": {},
   "outputs": [
    {
     "data": {
      "text/plain": [
       "array([[15483,     1,     0],\n",
       "       [ 1212,     0,     0],\n",
       "       [  842,     0,     0]])"
      ]
     },
     "execution_count": 150,
     "metadata": {},
     "output_type": "execute_result"
    }
   ],
   "source": [
    "confusion_matrix(test_y, bag_y_pred)"
   ]
  },
  {
   "cell_type": "code",
   "execution_count": 151,
   "id": "8f459adc-de93-48b9-9261-3d99ea613820",
   "metadata": {},
   "outputs": [],
   "source": [
    "# from sklearn.metrics import roc_curve\n",
    "\n",
    "# fpr, tpr, thresholds = roc_curve(test_y_md, bag_y_pred)\n",
    "\n",
    "# def plot_roc_curve(fpr, tpr, label=None):\n",
    "#     plt.plot(fpr, tpr, linewidth=2, label=label)\n",
    "#     plt.plot([0, 1], [0, 1], 'k--') # dashed diagonal\n",
    "#     plt.axis([0, 1, 0, 1])                                    # Not shown in the book\n",
    "#     plt.xlabel('False Positive Rate (Fall-Out)', fontsize=16) # Not shown\n",
    "#     plt.ylabel('True Positive Rate (Recall)', fontsize=16)    # Not shown\n",
    "#     plt.grid(True)                                            # Not shown\n",
    "\n",
    "# plt.figure(figsize=(8, 6))                                    # Not shown\n",
    "# plot_roc_curve(fpr, tpr)\n",
    "# plt.show()"
   ]
  },
  {
   "cell_type": "markdown",
   "id": "2564b985-72b1-49b0-bb77-90d8d96eea85",
   "metadata": {},
   "source": [
    "## AdaBoost Test"
   ]
  },
  {
   "cell_type": "code",
   "execution_count": 152,
   "id": "4d549f98-1f8c-4f2c-9384-707f49672078",
   "metadata": {},
   "outputs": [
    {
     "data": {
      "text/plain": [
       "0.8823126924392747"
      ]
     },
     "execution_count": 152,
     "metadata": {},
     "output_type": "execute_result"
    }
   ],
   "source": [
    "ada_y_pred = ada_clf.predict(test_X_reduced)\n",
    "accuracy_score(test_y, ada_y_pred)"
   ]
  },
  {
   "cell_type": "code",
   "execution_count": 153,
   "id": "d12e4971-a81c-4392-baf9-590582a37ec9",
   "metadata": {},
   "outputs": [
    {
     "data": {
      "text/plain": [
       "array([[15385,    20,    79],\n",
       "       [ 1179,     9,    24],\n",
       "       [  753,     9,    80]])"
      ]
     },
     "execution_count": 153,
     "metadata": {},
     "output_type": "execute_result"
    }
   ],
   "source": [
    "confusion_matrix(test_y, ada_y_pred)"
   ]
  },
  {
   "cell_type": "code",
   "execution_count": 154,
   "id": "b5473a1b-acce-4e68-9ee6-afcf04e5c5b9",
   "metadata": {},
   "outputs": [],
   "source": [
    "# from sklearn.metrics import roc_curve\n",
    "\n",
    "# fpr, tpr, thresholds = roc_curve(test_y_md, ada_y_pred)\n",
    "\n",
    "# def plot_roc_curve(fpr, tpr, label=None):\n",
    "#     plt.plot(fpr, tpr, linewidth=2, label=label)\n",
    "#     plt.plot([0, 1], [0, 1], 'k--') # dashed diagonal\n",
    "#     plt.axis([0, 1, 0, 1])                                    # Not shown in the book\n",
    "#     plt.xlabel('False Positive Rate (Fall-Out)', fontsize=16) # Not shown\n",
    "#     plt.ylabel('True Positive Rate (Recall)', fontsize=16)    # Not shown\n",
    "#     plt.grid(True)                                            # Not shown\n",
    "\n",
    "# plt.figure(figsize=(8, 6))                                    # Not shown\n",
    "# plot_roc_curve(fpr, tpr)\n",
    "# plt.show()"
   ]
  },
  {
   "cell_type": "markdown",
   "id": "9a5246aa-0111-4295-b134-61d999756080",
   "metadata": {},
   "source": [
    "## GradientBoost Test"
   ]
  },
  {
   "cell_type": "code",
   "execution_count": 155,
   "id": "73847869-fde9-4a86-8318-818d6a6faf20",
   "metadata": {},
   "outputs": [
    {
     "data": {
      "text/plain": [
       "0.8819705781731099"
      ]
     },
     "execution_count": 155,
     "metadata": {},
     "output_type": "execute_result"
    }
   ],
   "source": [
    "gbrt_y_pred = gbrt.predict(test_X_reduced)\n",
    "accuracy_score(test_y, gbrt_y_pred)"
   ]
  },
  {
   "cell_type": "code",
   "execution_count": 156,
   "id": "0eec9eb4-2dbb-4325-8c94-b499aa805478",
   "metadata": {},
   "outputs": [
    {
     "data": {
      "text/plain": [
       "array([[15347,    39,    98],\n",
       "       [ 1147,    18,    47],\n",
       "       [  721,    18,   103]])"
      ]
     },
     "execution_count": 156,
     "metadata": {},
     "output_type": "execute_result"
    }
   ],
   "source": [
    "confusion_matrix(test_y, gbrt_y_pred)"
   ]
  },
  {
   "cell_type": "code",
   "execution_count": 157,
   "id": "5198dee1-fc0b-4e91-9880-c0e108933537",
   "metadata": {},
   "outputs": [],
   "source": [
    "# from sklearn.metrics import roc_curve\n",
    "\n",
    "# fpr, tpr, thresholds = roc_curve(test_y_md, gbrt_y_pred)\n",
    "\n",
    "# def plot_roc_curve(fpr, tpr, label=None):\n",
    "#     plt.plot(fpr, tpr, linewidth=2, label=label)\n",
    "#     plt.plot([0, 1], [0, 1], 'k--') # dashed diagonal\n",
    "#     plt.axis([0, 1, 0, 1])                                    # Not shown in the book\n",
    "#     plt.xlabel('False Positive Rate (Fall-Out)', fontsize=16) # Not shown\n",
    "#     plt.ylabel('True Positive Rate (Recall)', fontsize=16)    # Not shown\n",
    "#     plt.grid(True)                                            # Not shown\n",
    "\n",
    "# plt.figure(figsize=(8, 6))                                    # Not shown\n",
    "# plot_roc_curve(fpr, tpr)\n",
    "# plt.show()"
   ]
  }
 ],
 "metadata": {
  "kernelspec": {
   "display_name": "Python 3 (ipykernel)",
   "language": "python",
   "name": "python3"
  },
  "language_info": {
   "codemirror_mode": {
    "name": "ipython",
    "version": 3
   },
   "file_extension": ".py",
   "mimetype": "text/x-python",
   "name": "python",
   "nbconvert_exporter": "python",
   "pygments_lexer": "ipython3",
   "version": "3.9.5"
  }
 },
 "nbformat": 4,
 "nbformat_minor": 5
}
