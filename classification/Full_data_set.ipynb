{
 "cells": [
  {
   "cell_type": "code",
   "execution_count": 73,
   "id": "9517dbb2-7828-4ca1-8f8b-7d4320fd181f",
   "metadata": {},
   "outputs": [],
   "source": [
    "import sklearn\n",
    "import numpy as np\n",
    "import pandas as pd\n",
    "import os\n",
    "%matplotlib inline\n",
    "import matplotlib as mpl\n",
    "import matplotlib.pyplot as plt"
   ]
  },
  {
   "cell_type": "code",
   "execution_count": 74,
   "id": "2bdae4ee-3100-404c-8683-c709c992d63b",
   "metadata": {},
   "outputs": [
    {
     "name": "stdout",
     "output_type": "stream",
     "text": [
      "<class 'pandas.core.frame.DataFrame'>\n",
      "RangeIndex: 1599 entries, 0 to 1598\n",
      "Data columns (total 12 columns):\n",
      " #   Column                Non-Null Count  Dtype  \n",
      "---  ------                --------------  -----  \n",
      " 0   fixed acidity         1599 non-null   float64\n",
      " 1   volatile acidity      1599 non-null   float64\n",
      " 2   citric acid           1599 non-null   float64\n",
      " 3   residual sugar        1599 non-null   float64\n",
      " 4   chlorides             1599 non-null   float64\n",
      " 5   free sulfur dioxide   1599 non-null   float64\n",
      " 6   total sulfur dioxide  1599 non-null   float64\n",
      " 7   density               1599 non-null   float64\n",
      " 8   pH                    1599 non-null   float64\n",
      " 9   sulphates             1599 non-null   float64\n",
      " 10  alcohol               1599 non-null   float64\n",
      " 11  quality               1599 non-null   int64  \n",
      "dtypes: float64(11), int64(1)\n",
      "memory usage: 150.0 KB\n"
     ]
    }
   ],
   "source": [
    "csv_file = pd.read_csv(\"~/IDC5210_Machine_Learning/Data/winequality-red.csv\")\n",
    "df_wine = pd.DataFrame(csv_file)\n",
    "df_wine.info()"
   ]
  },
  {
   "cell_type": "code",
   "execution_count": 75,
   "id": "80178c0e-fc40-428f-821a-46d1e261bd27",
   "metadata": {},
   "outputs": [
    {
     "data": {
      "text/plain": [
       "2.74"
      ]
     },
     "execution_count": 75,
     "metadata": {},
     "output_type": "execute_result"
    }
   ],
   "source": [
    "df_wine['pH'].min()"
   ]
  },
  {
   "cell_type": "code",
   "execution_count": 76,
   "id": "4e0ce221-f7fd-453d-8d86-a7e9e3095d10",
   "metadata": {},
   "outputs": [
    {
     "data": {
      "text/plain": [
       "4.01"
      ]
     },
     "execution_count": 76,
     "metadata": {},
     "output_type": "execute_result"
    }
   ],
   "source": [
    "df_wine['pH'].max()"
   ]
  },
  {
   "cell_type": "code",
   "execution_count": 77,
   "id": "9c75fd90-a644-4972-af99-972b097c2277",
   "metadata": {},
   "outputs": [
    {
     "data": {
      "text/plain": [
       "8.4"
      ]
     },
     "execution_count": 77,
     "metadata": {},
     "output_type": "execute_result"
    }
   ],
   "source": [
    "df_wine['alcohol'].min()"
   ]
  },
  {
   "cell_type": "code",
   "execution_count": 78,
   "id": "e3bef7c1-9a10-4136-bec1-65ed1b95e1a5",
   "metadata": {},
   "outputs": [
    {
     "data": {
      "text/plain": [
       "14.9"
      ]
     },
     "execution_count": 78,
     "metadata": {},
     "output_type": "execute_result"
    }
   ],
   "source": [
    "df_wine['alcohol'].max()"
   ]
  },
  {
   "cell_type": "code",
   "execution_count": 79,
   "id": "3b2cebb8-d534-4b47-8b83-95943fdf76f3",
   "metadata": {},
   "outputs": [],
   "source": [
    "from sklearn.model_selection import train_test_split\n",
    "training_set, test_set = train_test_split(df_wine, test_size = 0.2, random_state = 42, shuffle = True)"
   ]
  },
  {
   "cell_type": "code",
   "execution_count": 80,
   "id": "7b479a73-4365-494f-95e1-c4e64c5238da",
   "metadata": {},
   "outputs": [
    {
     "name": "stdout",
     "output_type": "stream",
     "text": [
      "<class 'pandas.core.frame.DataFrame'>\n",
      "Int64Index: 1279 entries, 493 to 1126\n",
      "Data columns (total 12 columns):\n",
      " #   Column                Non-Null Count  Dtype  \n",
      "---  ------                --------------  -----  \n",
      " 0   fixed acidity         1279 non-null   float64\n",
      " 1   volatile acidity      1279 non-null   float64\n",
      " 2   citric acid           1279 non-null   float64\n",
      " 3   residual sugar        1279 non-null   float64\n",
      " 4   chlorides             1279 non-null   float64\n",
      " 5   free sulfur dioxide   1279 non-null   float64\n",
      " 6   total sulfur dioxide  1279 non-null   float64\n",
      " 7   density               1279 non-null   float64\n",
      " 8   pH                    1279 non-null   float64\n",
      " 9   sulphates             1279 non-null   float64\n",
      " 10  alcohol               1279 non-null   float64\n",
      " 11  quality               1279 non-null   int64  \n",
      "dtypes: float64(11), int64(1)\n",
      "memory usage: 129.9 KB\n"
     ]
    }
   ],
   "source": [
    "training_set.info()"
   ]
  },
  {
   "cell_type": "code",
   "execution_count": 81,
   "id": "823ee986-4788-4457-af23-a17ec9f2da1f",
   "metadata": {},
   "outputs": [
    {
     "name": "stdout",
     "output_type": "stream",
     "text": [
      "<class 'pandas.core.frame.DataFrame'>\n",
      "Int64Index: 320 entries, 803 to 704\n",
      "Data columns (total 12 columns):\n",
      " #   Column                Non-Null Count  Dtype  \n",
      "---  ------                --------------  -----  \n",
      " 0   fixed acidity         320 non-null    float64\n",
      " 1   volatile acidity      320 non-null    float64\n",
      " 2   citric acid           320 non-null    float64\n",
      " 3   residual sugar        320 non-null    float64\n",
      " 4   chlorides             320 non-null    float64\n",
      " 5   free sulfur dioxide   320 non-null    float64\n",
      " 6   total sulfur dioxide  320 non-null    float64\n",
      " 7   density               320 non-null    float64\n",
      " 8   pH                    320 non-null    float64\n",
      " 9   sulphates             320 non-null    float64\n",
      " 10  alcohol               320 non-null    float64\n",
      " 11  quality               320 non-null    int64  \n",
      "dtypes: float64(11), int64(1)\n",
      "memory usage: 32.5 KB\n"
     ]
    }
   ],
   "source": [
    "test_set.info()"
   ]
  },
  {
   "cell_type": "code",
   "execution_count": 82,
   "id": "21a30fa8-27b5-48d4-b8ed-9ad38a57fe6e",
   "metadata": {},
   "outputs": [],
   "source": [
    "training_set_label = training_set['quality']\n",
    "training_set.drop('quality', axis = 1, inplace = True)"
   ]
  },
  {
   "cell_type": "code",
   "execution_count": 83,
   "id": "accbbc07-fbb6-4610-943f-91e2d9fd69a1",
   "metadata": {},
   "outputs": [
    {
     "data": {
      "text/plain": [
       "array([[ 0.21833164,  0.88971201,  0.19209222, ...,  1.09349989,\n",
       "         0.45822284,  1.12317723],\n",
       "       [-1.29016623, -1.78878251,  0.65275338, ..., -0.40043872,\n",
       "        -0.40119696,  1.40827174],\n",
       "       [ 1.49475291, -0.78434707,  1.01104539, ..., -0.07566946,\n",
       "         0.51551749, -0.58738978],\n",
       "       ...,\n",
       "       [-0.65195559,  0.49909822, -1.08752211, ...,  1.28836145,\n",
       "        -0.68767023, -0.87248428],\n",
       "       [-0.24582155, -1.84458448,  0.39683051, ...,  0.05423824,\n",
       "         0.80199076,  1.40827174],\n",
       "       [-1.46422367, -1.34236676, -0.06383064, ...,  0.50891521,\n",
       "        -0.68767023,  2.92877575]])"
      ]
     },
     "execution_count": 83,
     "metadata": {},
     "output_type": "execute_result"
    }
   ],
   "source": [
    "from sklearn.preprocessing import StandardScaler\n",
    "scaler = StandardScaler()\n",
    "scaler.fit_transform(training_set)"
   ]
  },
  {
   "cell_type": "code",
   "execution_count": 86,
   "id": "c22c087c-d724-4558-bacf-983c7701758b",
   "metadata": {},
   "outputs": [],
   "source": [
    "training_set = pd.DataFrame(scaler.transform(training_set), columns = training_set.columns, index = training_set.index)"
   ]
  },
  {
   "cell_type": "code",
   "execution_count": 87,
   "id": "cd580798-370f-4150-9585-bf10c3057c57",
   "metadata": {},
   "outputs": [
    {
     "data": {
      "text/html": [
       "<div>\n",
       "<style scoped>\n",
       "    .dataframe tbody tr th:only-of-type {\n",
       "        vertical-align: middle;\n",
       "    }\n",
       "\n",
       "    .dataframe tbody tr th {\n",
       "        vertical-align: top;\n",
       "    }\n",
       "\n",
       "    .dataframe thead th {\n",
       "        text-align: right;\n",
       "    }\n",
       "</style>\n",
       "<table border=\"1\" class=\"dataframe\">\n",
       "  <thead>\n",
       "    <tr style=\"text-align: right;\">\n",
       "      <th></th>\n",
       "      <th>fixed acidity</th>\n",
       "      <th>volatile acidity</th>\n",
       "      <th>citric acid</th>\n",
       "      <th>residual sugar</th>\n",
       "      <th>chlorides</th>\n",
       "      <th>free sulfur dioxide</th>\n",
       "      <th>total sulfur dioxide</th>\n",
       "      <th>density</th>\n",
       "      <th>pH</th>\n",
       "      <th>sulphates</th>\n",
       "      <th>alcohol</th>\n",
       "    </tr>\n",
       "  </thead>\n",
       "  <tbody>\n",
       "    <tr>\n",
       "      <th>493</th>\n",
       "      <td>0.218332</td>\n",
       "      <td>0.889712</td>\n",
       "      <td>0.192092</td>\n",
       "      <td>0.309726</td>\n",
       "      <td>-0.049642</td>\n",
       "      <td>0.691007</td>\n",
       "      <td>1.042934</td>\n",
       "      <td>1.846696</td>\n",
       "      <td>1.093500</td>\n",
       "      <td>0.458223</td>\n",
       "      <td>1.123177</td>\n",
       "    </tr>\n",
       "    <tr>\n",
       "      <th>354</th>\n",
       "      <td>-1.290166</td>\n",
       "      <td>-1.788783</td>\n",
       "      <td>0.652753</td>\n",
       "      <td>-0.805080</td>\n",
       "      <td>-0.455214</td>\n",
       "      <td>2.388473</td>\n",
       "      <td>3.593870</td>\n",
       "      <td>-3.004491</td>\n",
       "      <td>-0.400439</td>\n",
       "      <td>-0.401197</td>\n",
       "      <td>1.408272</td>\n",
       "    </tr>\n",
       "    <tr>\n",
       "      <th>342</th>\n",
       "      <td>1.494753</td>\n",
       "      <td>-0.784347</td>\n",
       "      <td>1.011045</td>\n",
       "      <td>-0.526378</td>\n",
       "      <td>0.599272</td>\n",
       "      <td>-0.957960</td>\n",
       "      <td>-0.991742</td>\n",
       "      <td>0.768655</td>\n",
       "      <td>-0.075669</td>\n",
       "      <td>0.515517</td>\n",
       "      <td>-0.587390</td>\n",
       "    </tr>\n",
       "    <tr>\n",
       "      <th>834</th>\n",
       "      <td>0.276351</td>\n",
       "      <td>0.861811</td>\n",
       "      <td>-0.063831</td>\n",
       "      <td>-0.665729</td>\n",
       "      <td>-0.009085</td>\n",
       "      <td>0.012020</td>\n",
       "      <td>-0.718427</td>\n",
       "      <td>0.089488</td>\n",
       "      <td>0.054238</td>\n",
       "      <td>-1.088733</td>\n",
       "      <td>-0.967516</td>\n",
       "    </tr>\n",
       "    <tr>\n",
       "      <th>705</th>\n",
       "      <td>0.044274</td>\n",
       "      <td>2.814880</td>\n",
       "      <td>-0.626861</td>\n",
       "      <td>2.399985</td>\n",
       "      <td>-0.313264</td>\n",
       "      <td>-0.472970</td>\n",
       "      <td>0.222990</td>\n",
       "      <td>1.199871</td>\n",
       "      <td>0.379008</td>\n",
       "      <td>-0.974144</td>\n",
       "      <td>-0.492358</td>\n",
       "    </tr>\n",
       "  </tbody>\n",
       "</table>\n",
       "</div>"
      ],
      "text/plain": [
       "     fixed acidity  volatile acidity  citric acid  residual sugar  chlorides  \\\n",
       "493       0.218332          0.889712     0.192092        0.309726  -0.049642   \n",
       "354      -1.290166         -1.788783     0.652753       -0.805080  -0.455214   \n",
       "342       1.494753         -0.784347     1.011045       -0.526378   0.599272   \n",
       "834       0.276351          0.861811    -0.063831       -0.665729  -0.009085   \n",
       "705       0.044274          2.814880    -0.626861        2.399985  -0.313264   \n",
       "\n",
       "     free sulfur dioxide  total sulfur dioxide   density        pH  sulphates  \\\n",
       "493             0.691007              1.042934  1.846696  1.093500   0.458223   \n",
       "354             2.388473              3.593870 -3.004491 -0.400439  -0.401197   \n",
       "342            -0.957960             -0.991742  0.768655 -0.075669   0.515517   \n",
       "834             0.012020             -0.718427  0.089488  0.054238  -1.088733   \n",
       "705            -0.472970              0.222990  1.199871  0.379008  -0.974144   \n",
       "\n",
       "      alcohol  \n",
       "493  1.123177  \n",
       "354  1.408272  \n",
       "342 -0.587390  \n",
       "834 -0.967516  \n",
       "705 -0.492358  "
      ]
     },
     "execution_count": 87,
     "metadata": {},
     "output_type": "execute_result"
    }
   ],
   "source": [
    "training_set.head()"
   ]
  },
  {
   "cell_type": "code",
   "execution_count": null,
   "id": "f0206373-2890-49b3-8481-57dde88170b1",
   "metadata": {},
   "outputs": [],
   "source": []
  }
 ],
 "metadata": {
  "kernelspec": {
   "display_name": "Python 3 (ipykernel)",
   "language": "python",
   "name": "python3"
  },
  "language_info": {
   "codemirror_mode": {
    "name": "ipython",
    "version": 3
   },
   "file_extension": ".py",
   "mimetype": "text/x-python",
   "name": "python",
   "nbconvert_exporter": "python",
   "pygments_lexer": "ipython3",
   "version": "3.9.5"
  }
 },
 "nbformat": 4,
 "nbformat_minor": 5
}
