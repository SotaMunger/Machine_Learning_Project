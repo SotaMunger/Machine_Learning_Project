{
 "cells": [
  {
   "cell_type": "markdown",
   "id": "a1c6e31c-6269-457c-ae66-a77c39e5feea",
   "metadata": {},
   "source": [
    "# Marital Status Classification (Married vs. Unmarried)"
   ]
  },
  {
   "cell_type": "code",
   "execution_count": 6,
   "id": "65331b77-bef5-4044-a7fc-2df42dc006b4",
   "metadata": {},
   "outputs": [],
   "source": [
    "# import packages\n",
    "import sklearn\n",
    "import numpy as np\n",
    "import pandas as pd\n",
    "\n",
    "np.random.seed(16)"
   ]
  },
  {
   "cell_type": "code",
   "execution_count": 7,
   "id": "59b9d8ef-4b50-47f9-9633-c55f2387b652",
   "metadata": {},
   "outputs": [
    {
     "name": "stdout",
     "output_type": "stream",
     "text": [
      "<class 'pandas.core.frame.DataFrame'>\n",
      "RangeIndex: 2065 entries, 0 to 2064\n",
      "Data columns (total 34 columns):\n",
      " #   Column          Non-Null Count  Dtype  \n",
      "---  ------          --------------  -----  \n",
      " 0   Unnamed: 0.1    2065 non-null   int64  \n",
      " 1   Unnamed: 0      2065 non-null   int64  \n",
      " 2   field_1         2065 non-null   int64  \n",
      " 3   Cust_ID         2065 non-null   int64  \n",
      " 4   Cust_Segment    2065 non-null   object \n",
      " 5   Branch_ID       2065 non-null   int64  \n",
      " 6   Branch_Y        2065 non-null   float64\n",
      " 7   Branch_X        2065 non-null   float64\n",
      " 8   Home_Loc_Y      2065 non-null   float64\n",
      " 9   Home_Loc_X      2065 non-null   float64\n",
      " 10  Work_Loc_Y      2065 non-null   float64\n",
      " 11  Work_Loc_X      2065 non-null   float64\n",
      " 12  Gender          2065 non-null   object \n",
      " 13  Marital_Status  2065 non-null   object \n",
      " 14  Education_Lv    2065 non-null   object \n",
      " 15  Job_Status      2065 non-null   object \n",
      " 16  Income          2011 non-null   float64\n",
      " 17  Age             2065 non-null   int64  \n",
      " 18  Years_w_Bank    2065 non-null   float64\n",
      " 19  Penalty_201407  2065 non-null   object \n",
      " 20  Penalty_201408  2065 non-null   object \n",
      " 21  Penalty_201409  2065 non-null   object \n",
      " 22  Penalty_201410  2065 non-null   object \n",
      " 23  Penalty_201411  2065 non-null   object \n",
      " 24  Penalty_201412  2065 non-null   object \n",
      " 25  Penalty_201501  2065 non-null   object \n",
      " 26  Penalty_201502  2065 non-null   object \n",
      " 27  Penalty_201503  2065 non-null   object \n",
      " 28  Penalty_201504  2065 non-null   object \n",
      " 29  Penalty_201505  2065 non-null   object \n",
      " 30  Penalty_201506  2065 non-null   object \n",
      " 31  Work_Region     2065 non-null   object \n",
      " 32  Home_Region     2065 non-null   object \n",
      " 33  Branch_Region   2065 non-null   object \n",
      "dtypes: float64(8), int64(6), object(20)\n",
      "memory usage: 548.6+ KB\n"
     ]
    }
   ],
   "source": [
    "# load data\n",
    "csv_file = \"~/IDC5210_Machine_Learning/Project/demographics_sample.csv\"\n",
    "marriage_df = pd.read_csv(csv_file)\n",
    "marriage_df.info()"
   ]
  },
  {
   "cell_type": "code",
   "execution_count": 8,
   "id": "48c94d1d-e622-4f4c-833b-92a65786177c",
   "metadata": {},
   "outputs": [
    {
     "name": "stdout",
     "output_type": "stream",
     "text": [
      "<class 'pandas.core.frame.DataFrame'>\n",
      "RangeIndex: 2065 entries, 0 to 2064\n",
      "Data columns (total 24 columns):\n",
      " #   Column          Non-Null Count  Dtype  \n",
      "---  ------          --------------  -----  \n",
      " 0   Cust_Segment    2065 non-null   object \n",
      " 1   Branch_ID       2065 non-null   int64  \n",
      " 2   Gender          2065 non-null   object \n",
      " 3   Marital_Status  2065 non-null   object \n",
      " 4   Education_Lv    2065 non-null   object \n",
      " 5   Job_Status      2065 non-null   object \n",
      " 6   Income          2011 non-null   float64\n",
      " 7   Age             2065 non-null   int64  \n",
      " 8   Years_w_Bank    2065 non-null   float64\n",
      " 9   Penalty_201407  2065 non-null   object \n",
      " 10  Penalty_201408  2065 non-null   object \n",
      " 11  Penalty_201409  2065 non-null   object \n",
      " 12  Penalty_201410  2065 non-null   object \n",
      " 13  Penalty_201411  2065 non-null   object \n",
      " 14  Penalty_201412  2065 non-null   object \n",
      " 15  Penalty_201501  2065 non-null   object \n",
      " 16  Penalty_201502  2065 non-null   object \n",
      " 17  Penalty_201503  2065 non-null   object \n",
      " 18  Penalty_201504  2065 non-null   object \n",
      " 19  Penalty_201505  2065 non-null   object \n",
      " 20  Penalty_201506  2065 non-null   object \n",
      " 21  Work_Region     2065 non-null   object \n",
      " 22  Home_Region     2065 non-null   object \n",
      " 23  Branch_Region   2065 non-null   object \n",
      "dtypes: float64(2), int64(2), object(20)\n",
      "memory usage: 387.3+ KB\n"
     ]
    }
   ],
   "source": [
    "# drop unnecessary columns\n",
    "marriage_df.drop([\"Unnamed: 0\", \"Unnamed: 0.1\", \"field_1\", \"Cust_ID\", \"Branch_X\", \"Branch_Y\", \"Home_Loc_X\", \"Home_Loc_Y\", \"Work_Loc_X\", \"Work_Loc_Y\"], axis = 1, inplace=True)\n",
    "marriage_df.info()"
   ]
  },
  {
   "cell_type": "code",
   "execution_count": 9,
   "id": "c000558a-5af9-4784-ba6a-a4fcac00ec4d",
   "metadata": {},
   "outputs": [],
   "source": [
    "# count risk types per row\n",
    "risk_counts = marriage_df.iloc[:,9:21].apply(pd.Series.value_counts, axis=1)\n",
    "risk_counts = risk_counts.fillna(0)"
   ]
  },
  {
   "cell_type": "code",
   "execution_count": 10,
   "id": "96fb6a24-5469-4976-a96b-a59c5dd9e639",
   "metadata": {},
   "outputs": [
    {
     "data": {
      "text/html": [
       "<div>\n",
       "<style scoped>\n",
       "    .dataframe tbody tr th:only-of-type {\n",
       "        vertical-align: middle;\n",
       "    }\n",
       "\n",
       "    .dataframe tbody tr th {\n",
       "        vertical-align: top;\n",
       "    }\n",
       "\n",
       "    .dataframe thead th {\n",
       "        text-align: right;\n",
       "    }\n",
       "</style>\n",
       "<table border=\"1\" class=\"dataframe\">\n",
       "  <thead>\n",
       "    <tr style=\"text-align: right;\">\n",
       "      <th></th>\n",
       "      <th>Cust_Segment</th>\n",
       "      <th>Branch_ID</th>\n",
       "      <th>Gender</th>\n",
       "      <th>Marital_Status</th>\n",
       "      <th>Education_Lv</th>\n",
       "      <th>Job_Status</th>\n",
       "      <th>Income</th>\n",
       "      <th>Age</th>\n",
       "      <th>Years_w_Bank</th>\n",
       "      <th>Penalty_201407</th>\n",
       "      <th>...</th>\n",
       "      <th>Work_Region</th>\n",
       "      <th>Home_Region</th>\n",
       "      <th>Branch_Region</th>\n",
       "      <th>.</th>\n",
       "      <th>1)RISKSIZ</th>\n",
       "      <th>2)GECIKME 1-15 GUN</th>\n",
       "      <th>3)GECIKME 16-29 GUN</th>\n",
       "      <th>4)GECIKME 30-59 GUN</th>\n",
       "      <th>5)GECIKME 60+ GUN</th>\n",
       "      <th>6)TAKIP</th>\n",
       "    </tr>\n",
       "  </thead>\n",
       "  <tbody>\n",
       "    <tr>\n",
       "      <th>0</th>\n",
       "      <td>BİREYSEL</td>\n",
       "      <td>638</td>\n",
       "      <td>E</td>\n",
       "      <td>EVLİ</td>\n",
       "      <td>LİSANSÜSTÜ</td>\n",
       "      <td>EMEKLİ</td>\n",
       "      <td>3000.0</td>\n",
       "      <td>48</td>\n",
       "      <td>15.0</td>\n",
       "      <td>1)RISKSIZ</td>\n",
       "      <td>...</td>\n",
       "      <td>MARMARA</td>\n",
       "      <td>MARMARA</td>\n",
       "      <td>MARMARA</td>\n",
       "      <td>0.0</td>\n",
       "      <td>11.0</td>\n",
       "      <td>1.0</td>\n",
       "      <td>0.0</td>\n",
       "      <td>0.0</td>\n",
       "      <td>0.0</td>\n",
       "      <td>0.0</td>\n",
       "    </tr>\n",
       "    <tr>\n",
       "      <th>1</th>\n",
       "      <td>BİREYSEL</td>\n",
       "      <td>170</td>\n",
       "      <td>E</td>\n",
       "      <td>BEKAR</td>\n",
       "      <td>ÜNİVERSİTE</td>\n",
       "      <td>ÜCRETLİ (ÖZEL)</td>\n",
       "      <td>1000.0</td>\n",
       "      <td>22</td>\n",
       "      <td>3.0</td>\n",
       "      <td>1)RISKSIZ</td>\n",
       "      <td>...</td>\n",
       "      <td>MARMARA</td>\n",
       "      <td>MARMARA</td>\n",
       "      <td>MARMARA</td>\n",
       "      <td>0.0</td>\n",
       "      <td>12.0</td>\n",
       "      <td>0.0</td>\n",
       "      <td>0.0</td>\n",
       "      <td>0.0</td>\n",
       "      <td>0.0</td>\n",
       "      <td>0.0</td>\n",
       "    </tr>\n",
       "    <tr>\n",
       "      <th>2</th>\n",
       "      <td>BİREYSEL</td>\n",
       "      <td>212</td>\n",
       "      <td>E</td>\n",
       "      <td>EVLİ</td>\n",
       "      <td>YÜKSEKOKUL</td>\n",
       "      <td>SERBEST MESLEK</td>\n",
       "      <td>4000.0</td>\n",
       "      <td>34</td>\n",
       "      <td>12.0</td>\n",
       "      <td>.</td>\n",
       "      <td>...</td>\n",
       "      <td>MARMARA</td>\n",
       "      <td>MARMARA</td>\n",
       "      <td>MARMARA</td>\n",
       "      <td>1.0</td>\n",
       "      <td>11.0</td>\n",
       "      <td>0.0</td>\n",
       "      <td>0.0</td>\n",
       "      <td>0.0</td>\n",
       "      <td>0.0</td>\n",
       "      <td>0.0</td>\n",
       "    </tr>\n",
       "    <tr>\n",
       "      <th>3</th>\n",
       "      <td>BİREYSEL</td>\n",
       "      <td>1239</td>\n",
       "      <td>E</td>\n",
       "      <td>BEKAR</td>\n",
       "      <td>LİSE</td>\n",
       "      <td>ÜCRETLİ (ÖZEL)</td>\n",
       "      <td>1200.0</td>\n",
       "      <td>24</td>\n",
       "      <td>1.0</td>\n",
       "      <td>1)RISKSIZ</td>\n",
       "      <td>...</td>\n",
       "      <td>MARMARA</td>\n",
       "      <td>MARMARA</td>\n",
       "      <td>MARMARA</td>\n",
       "      <td>0.0</td>\n",
       "      <td>8.0</td>\n",
       "      <td>3.0</td>\n",
       "      <td>0.0</td>\n",
       "      <td>1.0</td>\n",
       "      <td>0.0</td>\n",
       "      <td>0.0</td>\n",
       "    </tr>\n",
       "    <tr>\n",
       "      <th>4</th>\n",
       "      <td>BİREYSEL</td>\n",
       "      <td>1277</td>\n",
       "      <td>E</td>\n",
       "      <td>EVLİ</td>\n",
       "      <td>ORTAOKUL</td>\n",
       "      <td>ÜCRETLİ (ÖZEL)</td>\n",
       "      <td>1500.0</td>\n",
       "      <td>40</td>\n",
       "      <td>2.0</td>\n",
       "      <td>1)RISKSIZ</td>\n",
       "      <td>...</td>\n",
       "      <td>MARMARA</td>\n",
       "      <td>MARMARA</td>\n",
       "      <td>MARMARA</td>\n",
       "      <td>0.0</td>\n",
       "      <td>12.0</td>\n",
       "      <td>0.0</td>\n",
       "      <td>0.0</td>\n",
       "      <td>0.0</td>\n",
       "      <td>0.0</td>\n",
       "      <td>0.0</td>\n",
       "    </tr>\n",
       "    <tr>\n",
       "      <th>...</th>\n",
       "      <td>...</td>\n",
       "      <td>...</td>\n",
       "      <td>...</td>\n",
       "      <td>...</td>\n",
       "      <td>...</td>\n",
       "      <td>...</td>\n",
       "      <td>...</td>\n",
       "      <td>...</td>\n",
       "      <td>...</td>\n",
       "      <td>...</td>\n",
       "      <td>...</td>\n",
       "      <td>...</td>\n",
       "      <td>...</td>\n",
       "      <td>...</td>\n",
       "      <td>...</td>\n",
       "      <td>...</td>\n",
       "      <td>...</td>\n",
       "      <td>...</td>\n",
       "      <td>...</td>\n",
       "      <td>...</td>\n",
       "      <td>...</td>\n",
       "    </tr>\n",
       "    <tr>\n",
       "      <th>2060</th>\n",
       "      <td>BİREYSEL</td>\n",
       "      <td>152</td>\n",
       "      <td>E</td>\n",
       "      <td>BEKAR</td>\n",
       "      <td>YÜKSEKOKUL</td>\n",
       "      <td>ÜCRETLİ (ÖZEL)</td>\n",
       "      <td>2000.0</td>\n",
       "      <td>18</td>\n",
       "      <td>0.0</td>\n",
       "      <td>.</td>\n",
       "      <td>...</td>\n",
       "      <td>MARMARA</td>\n",
       "      <td>MARMARA</td>\n",
       "      <td>MARMARA</td>\n",
       "      <td>11.0</td>\n",
       "      <td>1.0</td>\n",
       "      <td>0.0</td>\n",
       "      <td>0.0</td>\n",
       "      <td>0.0</td>\n",
       "      <td>0.0</td>\n",
       "      <td>0.0</td>\n",
       "    </tr>\n",
       "    <tr>\n",
       "      <th>2061</th>\n",
       "      <td>BİREYSEL</td>\n",
       "      <td>568</td>\n",
       "      <td>E</td>\n",
       "      <td>EVLİ</td>\n",
       "      <td>ORTAOKUL</td>\n",
       "      <td>ÇALIŞMIYOR</td>\n",
       "      <td>2550.0</td>\n",
       "      <td>22</td>\n",
       "      <td>1.0</td>\n",
       "      <td>.</td>\n",
       "      <td>...</td>\n",
       "      <td>MARMARA</td>\n",
       "      <td>SE ANATOLIA</td>\n",
       "      <td>SE ANATOLIA</td>\n",
       "      <td>2.0</td>\n",
       "      <td>8.0</td>\n",
       "      <td>2.0</td>\n",
       "      <td>0.0</td>\n",
       "      <td>0.0</td>\n",
       "      <td>0.0</td>\n",
       "      <td>0.0</td>\n",
       "    </tr>\n",
       "    <tr>\n",
       "      <th>2062</th>\n",
       "      <td>BİREYSEL</td>\n",
       "      <td>1174</td>\n",
       "      <td>E</td>\n",
       "      <td>EVLİ</td>\n",
       "      <td>ORTAOKUL</td>\n",
       "      <td>ÜCRETLİ (ÖZEL)</td>\n",
       "      <td>773.0</td>\n",
       "      <td>27</td>\n",
       "      <td>3.0</td>\n",
       "      <td>1)RISKSIZ</td>\n",
       "      <td>...</td>\n",
       "      <td>MARMARA</td>\n",
       "      <td>MARMARA</td>\n",
       "      <td>MARMARA</td>\n",
       "      <td>0.0</td>\n",
       "      <td>3.0</td>\n",
       "      <td>2.0</td>\n",
       "      <td>0.0</td>\n",
       "      <td>1.0</td>\n",
       "      <td>1.0</td>\n",
       "      <td>5.0</td>\n",
       "    </tr>\n",
       "    <tr>\n",
       "      <th>2063</th>\n",
       "      <td>BİREYSEL</td>\n",
       "      <td>607</td>\n",
       "      <td>E</td>\n",
       "      <td>EVLİ</td>\n",
       "      <td>LİSE</td>\n",
       "      <td>ÜCRETLİ (ÖZEL)</td>\n",
       "      <td>1261.0</td>\n",
       "      <td>39</td>\n",
       "      <td>15.0</td>\n",
       "      <td>1)RISKSIZ</td>\n",
       "      <td>...</td>\n",
       "      <td>MARMARA</td>\n",
       "      <td>MARMARA</td>\n",
       "      <td>MARMARA</td>\n",
       "      <td>0.0</td>\n",
       "      <td>12.0</td>\n",
       "      <td>0.0</td>\n",
       "      <td>0.0</td>\n",
       "      <td>0.0</td>\n",
       "      <td>0.0</td>\n",
       "      <td>0.0</td>\n",
       "    </tr>\n",
       "    <tr>\n",
       "      <th>2064</th>\n",
       "      <td>BİREBİR</td>\n",
       "      <td>69</td>\n",
       "      <td>K</td>\n",
       "      <td>BOŞANMIŞ</td>\n",
       "      <td>ÜNİVERSİTE</td>\n",
       "      <td>ÇALIŞAN EMEKLİ(SERBEST MESLEK)</td>\n",
       "      <td>11200.0</td>\n",
       "      <td>68</td>\n",
       "      <td>10.0</td>\n",
       "      <td>1)RISKSIZ</td>\n",
       "      <td>...</td>\n",
       "      <td>MARMARA</td>\n",
       "      <td>MARMARA</td>\n",
       "      <td>MARMARA</td>\n",
       "      <td>0.0</td>\n",
       "      <td>12.0</td>\n",
       "      <td>0.0</td>\n",
       "      <td>0.0</td>\n",
       "      <td>0.0</td>\n",
       "      <td>0.0</td>\n",
       "      <td>0.0</td>\n",
       "    </tr>\n",
       "  </tbody>\n",
       "</table>\n",
       "<p>2065 rows × 31 columns</p>\n",
       "</div>"
      ],
      "text/plain": [
       "     Cust_Segment  Branch_ID Gender Marital_Status Education_Lv  \\\n",
       "0        BİREYSEL        638      E           EVLİ   LİSANSÜSTÜ   \n",
       "1        BİREYSEL        170      E          BEKAR   ÜNİVERSİTE   \n",
       "2        BİREYSEL        212      E           EVLİ   YÜKSEKOKUL   \n",
       "3        BİREYSEL       1239      E          BEKAR         LİSE   \n",
       "4        BİREYSEL       1277      E           EVLİ     ORTAOKUL   \n",
       "...           ...        ...    ...            ...          ...   \n",
       "2060     BİREYSEL        152      E          BEKAR   YÜKSEKOKUL   \n",
       "2061     BİREYSEL        568      E           EVLİ     ORTAOKUL   \n",
       "2062     BİREYSEL       1174      E           EVLİ     ORTAOKUL   \n",
       "2063     BİREYSEL        607      E           EVLİ         LİSE   \n",
       "2064      BİREBİR         69      K       BOŞANMIŞ   ÜNİVERSİTE   \n",
       "\n",
       "                          Job_Status   Income  Age  Years_w_Bank  \\\n",
       "0                             EMEKLİ   3000.0   48          15.0   \n",
       "1                     ÜCRETLİ (ÖZEL)   1000.0   22           3.0   \n",
       "2                     SERBEST MESLEK   4000.0   34          12.0   \n",
       "3                     ÜCRETLİ (ÖZEL)   1200.0   24           1.0   \n",
       "4                     ÜCRETLİ (ÖZEL)   1500.0   40           2.0   \n",
       "...                              ...      ...  ...           ...   \n",
       "2060                  ÜCRETLİ (ÖZEL)   2000.0   18           0.0   \n",
       "2061                      ÇALIŞMIYOR   2550.0   22           1.0   \n",
       "2062                  ÜCRETLİ (ÖZEL)    773.0   27           3.0   \n",
       "2063                  ÜCRETLİ (ÖZEL)   1261.0   39          15.0   \n",
       "2064  ÇALIŞAN EMEKLİ(SERBEST MESLEK)  11200.0   68          10.0   \n",
       "\n",
       "     Penalty_201407  ... Work_Region  Home_Region Branch_Region     .  \\\n",
       "0         1)RISKSIZ  ...     MARMARA      MARMARA       MARMARA   0.0   \n",
       "1         1)RISKSIZ  ...     MARMARA      MARMARA       MARMARA   0.0   \n",
       "2                 .  ...     MARMARA      MARMARA       MARMARA   1.0   \n",
       "3         1)RISKSIZ  ...     MARMARA      MARMARA       MARMARA   0.0   \n",
       "4         1)RISKSIZ  ...     MARMARA      MARMARA       MARMARA   0.0   \n",
       "...             ...  ...         ...          ...           ...   ...   \n",
       "2060              .  ...     MARMARA      MARMARA       MARMARA  11.0   \n",
       "2061              .  ...     MARMARA  SE ANATOLIA   SE ANATOLIA   2.0   \n",
       "2062      1)RISKSIZ  ...     MARMARA      MARMARA       MARMARA   0.0   \n",
       "2063      1)RISKSIZ  ...     MARMARA      MARMARA       MARMARA   0.0   \n",
       "2064      1)RISKSIZ  ...     MARMARA      MARMARA       MARMARA   0.0   \n",
       "\n",
       "     1)RISKSIZ 2)GECIKME 1-15 GUN 3)GECIKME 16-29 GUN 4)GECIKME 30-59 GUN  \\\n",
       "0         11.0                1.0                 0.0                 0.0   \n",
       "1         12.0                0.0                 0.0                 0.0   \n",
       "2         11.0                0.0                 0.0                 0.0   \n",
       "3          8.0                3.0                 0.0                 1.0   \n",
       "4         12.0                0.0                 0.0                 0.0   \n",
       "...        ...                ...                 ...                 ...   \n",
       "2060       1.0                0.0                 0.0                 0.0   \n",
       "2061       8.0                2.0                 0.0                 0.0   \n",
       "2062       3.0                2.0                 0.0                 1.0   \n",
       "2063      12.0                0.0                 0.0                 0.0   \n",
       "2064      12.0                0.0                 0.0                 0.0   \n",
       "\n",
       "     5)GECIKME 60+ GUN 6)TAKIP  \n",
       "0                  0.0     0.0  \n",
       "1                  0.0     0.0  \n",
       "2                  0.0     0.0  \n",
       "3                  0.0     0.0  \n",
       "4                  0.0     0.0  \n",
       "...                ...     ...  \n",
       "2060               0.0     0.0  \n",
       "2061               0.0     0.0  \n",
       "2062               1.0     5.0  \n",
       "2063               0.0     0.0  \n",
       "2064               0.0     0.0  \n",
       "\n",
       "[2065 rows x 31 columns]"
      ]
     },
     "execution_count": 10,
     "metadata": {},
     "output_type": "execute_result"
    }
   ],
   "source": [
    "marriage_df = marriage_df.join(risk_counts)\n",
    "marriage_df"
   ]
  },
  {
   "cell_type": "code",
   "execution_count": 11,
   "id": "56041888-bde0-4d78-9401-c9ca6430f496",
   "metadata": {},
   "outputs": [],
   "source": [
    "marriage_df.drop(['.','Penalty_201407', 'Penalty_201408', 'Penalty_201409', \n",
    "                  'Penalty_201410', 'Penalty_201411', 'Penalty_201412', 'Penalty_201501',\n",
    "                  'Penalty_201502', 'Penalty_201503', 'Penalty_201504', 'Penalty_201505', \n",
    "                  'Penalty_201506'], axis = 1, inplace=True)"
   ]
  },
  {
   "cell_type": "code",
   "execution_count": 12,
   "id": "b2f0f71f-edc5-4160-aaa6-8256763635e7",
   "metadata": {},
   "outputs": [
    {
     "data": {
      "text/html": [
       "<div>\n",
       "<style scoped>\n",
       "    .dataframe tbody tr th:only-of-type {\n",
       "        vertical-align: middle;\n",
       "    }\n",
       "\n",
       "    .dataframe tbody tr th {\n",
       "        vertical-align: top;\n",
       "    }\n",
       "\n",
       "    .dataframe thead th {\n",
       "        text-align: right;\n",
       "    }\n",
       "</style>\n",
       "<table border=\"1\" class=\"dataframe\">\n",
       "  <thead>\n",
       "    <tr style=\"text-align: right;\">\n",
       "      <th></th>\n",
       "      <th>Cust_Segment</th>\n",
       "      <th>Branch_ID</th>\n",
       "      <th>Gender</th>\n",
       "      <th>Marital_Status</th>\n",
       "      <th>Education_Lv</th>\n",
       "      <th>Job_Status</th>\n",
       "      <th>Income</th>\n",
       "      <th>Age</th>\n",
       "      <th>Years_w_Bank</th>\n",
       "      <th>Work_Region</th>\n",
       "      <th>Home_Region</th>\n",
       "      <th>Branch_Region</th>\n",
       "      <th>1)RISKSIZ</th>\n",
       "      <th>2)GECIKME 1-15 GUN</th>\n",
       "      <th>3)GECIKME 16-29 GUN</th>\n",
       "      <th>4)GECIKME 30-59 GUN</th>\n",
       "      <th>5)GECIKME 60+ GUN</th>\n",
       "      <th>6)TAKIP</th>\n",
       "    </tr>\n",
       "  </thead>\n",
       "  <tbody>\n",
       "    <tr>\n",
       "      <th>0</th>\n",
       "      <td>BİREYSEL</td>\n",
       "      <td>638</td>\n",
       "      <td>E</td>\n",
       "      <td>EVLİ</td>\n",
       "      <td>LİSANSÜSTÜ</td>\n",
       "      <td>EMEKLİ</td>\n",
       "      <td>3000.0</td>\n",
       "      <td>48</td>\n",
       "      <td>15.0</td>\n",
       "      <td>MARMARA</td>\n",
       "      <td>MARMARA</td>\n",
       "      <td>MARMARA</td>\n",
       "      <td>11.0</td>\n",
       "      <td>1.0</td>\n",
       "      <td>0.0</td>\n",
       "      <td>0.0</td>\n",
       "      <td>0.0</td>\n",
       "      <td>0.0</td>\n",
       "    </tr>\n",
       "    <tr>\n",
       "      <th>1</th>\n",
       "      <td>BİREYSEL</td>\n",
       "      <td>170</td>\n",
       "      <td>E</td>\n",
       "      <td>BEKAR</td>\n",
       "      <td>ÜNİVERSİTE</td>\n",
       "      <td>ÜCRETLİ (ÖZEL)</td>\n",
       "      <td>1000.0</td>\n",
       "      <td>22</td>\n",
       "      <td>3.0</td>\n",
       "      <td>MARMARA</td>\n",
       "      <td>MARMARA</td>\n",
       "      <td>MARMARA</td>\n",
       "      <td>12.0</td>\n",
       "      <td>0.0</td>\n",
       "      <td>0.0</td>\n",
       "      <td>0.0</td>\n",
       "      <td>0.0</td>\n",
       "      <td>0.0</td>\n",
       "    </tr>\n",
       "    <tr>\n",
       "      <th>2</th>\n",
       "      <td>BİREYSEL</td>\n",
       "      <td>212</td>\n",
       "      <td>E</td>\n",
       "      <td>EVLİ</td>\n",
       "      <td>YÜKSEKOKUL</td>\n",
       "      <td>SERBEST MESLEK</td>\n",
       "      <td>4000.0</td>\n",
       "      <td>34</td>\n",
       "      <td>12.0</td>\n",
       "      <td>MARMARA</td>\n",
       "      <td>MARMARA</td>\n",
       "      <td>MARMARA</td>\n",
       "      <td>11.0</td>\n",
       "      <td>0.0</td>\n",
       "      <td>0.0</td>\n",
       "      <td>0.0</td>\n",
       "      <td>0.0</td>\n",
       "      <td>0.0</td>\n",
       "    </tr>\n",
       "    <tr>\n",
       "      <th>3</th>\n",
       "      <td>BİREYSEL</td>\n",
       "      <td>1239</td>\n",
       "      <td>E</td>\n",
       "      <td>BEKAR</td>\n",
       "      <td>LİSE</td>\n",
       "      <td>ÜCRETLİ (ÖZEL)</td>\n",
       "      <td>1200.0</td>\n",
       "      <td>24</td>\n",
       "      <td>1.0</td>\n",
       "      <td>MARMARA</td>\n",
       "      <td>MARMARA</td>\n",
       "      <td>MARMARA</td>\n",
       "      <td>8.0</td>\n",
       "      <td>3.0</td>\n",
       "      <td>0.0</td>\n",
       "      <td>1.0</td>\n",
       "      <td>0.0</td>\n",
       "      <td>0.0</td>\n",
       "    </tr>\n",
       "    <tr>\n",
       "      <th>4</th>\n",
       "      <td>BİREYSEL</td>\n",
       "      <td>1277</td>\n",
       "      <td>E</td>\n",
       "      <td>EVLİ</td>\n",
       "      <td>ORTAOKUL</td>\n",
       "      <td>ÜCRETLİ (ÖZEL)</td>\n",
       "      <td>1500.0</td>\n",
       "      <td>40</td>\n",
       "      <td>2.0</td>\n",
       "      <td>MARMARA</td>\n",
       "      <td>MARMARA</td>\n",
       "      <td>MARMARA</td>\n",
       "      <td>12.0</td>\n",
       "      <td>0.0</td>\n",
       "      <td>0.0</td>\n",
       "      <td>0.0</td>\n",
       "      <td>0.0</td>\n",
       "      <td>0.0</td>\n",
       "    </tr>\n",
       "    <tr>\n",
       "      <th>...</th>\n",
       "      <td>...</td>\n",
       "      <td>...</td>\n",
       "      <td>...</td>\n",
       "      <td>...</td>\n",
       "      <td>...</td>\n",
       "      <td>...</td>\n",
       "      <td>...</td>\n",
       "      <td>...</td>\n",
       "      <td>...</td>\n",
       "      <td>...</td>\n",
       "      <td>...</td>\n",
       "      <td>...</td>\n",
       "      <td>...</td>\n",
       "      <td>...</td>\n",
       "      <td>...</td>\n",
       "      <td>...</td>\n",
       "      <td>...</td>\n",
       "      <td>...</td>\n",
       "    </tr>\n",
       "    <tr>\n",
       "      <th>2060</th>\n",
       "      <td>BİREYSEL</td>\n",
       "      <td>152</td>\n",
       "      <td>E</td>\n",
       "      <td>BEKAR</td>\n",
       "      <td>YÜKSEKOKUL</td>\n",
       "      <td>ÜCRETLİ (ÖZEL)</td>\n",
       "      <td>2000.0</td>\n",
       "      <td>18</td>\n",
       "      <td>0.0</td>\n",
       "      <td>MARMARA</td>\n",
       "      <td>MARMARA</td>\n",
       "      <td>MARMARA</td>\n",
       "      <td>1.0</td>\n",
       "      <td>0.0</td>\n",
       "      <td>0.0</td>\n",
       "      <td>0.0</td>\n",
       "      <td>0.0</td>\n",
       "      <td>0.0</td>\n",
       "    </tr>\n",
       "    <tr>\n",
       "      <th>2061</th>\n",
       "      <td>BİREYSEL</td>\n",
       "      <td>568</td>\n",
       "      <td>E</td>\n",
       "      <td>EVLİ</td>\n",
       "      <td>ORTAOKUL</td>\n",
       "      <td>ÇALIŞMIYOR</td>\n",
       "      <td>2550.0</td>\n",
       "      <td>22</td>\n",
       "      <td>1.0</td>\n",
       "      <td>MARMARA</td>\n",
       "      <td>SE ANATOLIA</td>\n",
       "      <td>SE ANATOLIA</td>\n",
       "      <td>8.0</td>\n",
       "      <td>2.0</td>\n",
       "      <td>0.0</td>\n",
       "      <td>0.0</td>\n",
       "      <td>0.0</td>\n",
       "      <td>0.0</td>\n",
       "    </tr>\n",
       "    <tr>\n",
       "      <th>2062</th>\n",
       "      <td>BİREYSEL</td>\n",
       "      <td>1174</td>\n",
       "      <td>E</td>\n",
       "      <td>EVLİ</td>\n",
       "      <td>ORTAOKUL</td>\n",
       "      <td>ÜCRETLİ (ÖZEL)</td>\n",
       "      <td>773.0</td>\n",
       "      <td>27</td>\n",
       "      <td>3.0</td>\n",
       "      <td>MARMARA</td>\n",
       "      <td>MARMARA</td>\n",
       "      <td>MARMARA</td>\n",
       "      <td>3.0</td>\n",
       "      <td>2.0</td>\n",
       "      <td>0.0</td>\n",
       "      <td>1.0</td>\n",
       "      <td>1.0</td>\n",
       "      <td>5.0</td>\n",
       "    </tr>\n",
       "    <tr>\n",
       "      <th>2063</th>\n",
       "      <td>BİREYSEL</td>\n",
       "      <td>607</td>\n",
       "      <td>E</td>\n",
       "      <td>EVLİ</td>\n",
       "      <td>LİSE</td>\n",
       "      <td>ÜCRETLİ (ÖZEL)</td>\n",
       "      <td>1261.0</td>\n",
       "      <td>39</td>\n",
       "      <td>15.0</td>\n",
       "      <td>MARMARA</td>\n",
       "      <td>MARMARA</td>\n",
       "      <td>MARMARA</td>\n",
       "      <td>12.0</td>\n",
       "      <td>0.0</td>\n",
       "      <td>0.0</td>\n",
       "      <td>0.0</td>\n",
       "      <td>0.0</td>\n",
       "      <td>0.0</td>\n",
       "    </tr>\n",
       "    <tr>\n",
       "      <th>2064</th>\n",
       "      <td>BİREBİR</td>\n",
       "      <td>69</td>\n",
       "      <td>K</td>\n",
       "      <td>BOŞANMIŞ</td>\n",
       "      <td>ÜNİVERSİTE</td>\n",
       "      <td>ÇALIŞAN EMEKLİ(SERBEST MESLEK)</td>\n",
       "      <td>11200.0</td>\n",
       "      <td>68</td>\n",
       "      <td>10.0</td>\n",
       "      <td>MARMARA</td>\n",
       "      <td>MARMARA</td>\n",
       "      <td>MARMARA</td>\n",
       "      <td>12.0</td>\n",
       "      <td>0.0</td>\n",
       "      <td>0.0</td>\n",
       "      <td>0.0</td>\n",
       "      <td>0.0</td>\n",
       "      <td>0.0</td>\n",
       "    </tr>\n",
       "  </tbody>\n",
       "</table>\n",
       "<p>2065 rows × 18 columns</p>\n",
       "</div>"
      ],
      "text/plain": [
       "     Cust_Segment  Branch_ID Gender Marital_Status Education_Lv  \\\n",
       "0        BİREYSEL        638      E           EVLİ   LİSANSÜSTÜ   \n",
       "1        BİREYSEL        170      E          BEKAR   ÜNİVERSİTE   \n",
       "2        BİREYSEL        212      E           EVLİ   YÜKSEKOKUL   \n",
       "3        BİREYSEL       1239      E          BEKAR         LİSE   \n",
       "4        BİREYSEL       1277      E           EVLİ     ORTAOKUL   \n",
       "...           ...        ...    ...            ...          ...   \n",
       "2060     BİREYSEL        152      E          BEKAR   YÜKSEKOKUL   \n",
       "2061     BİREYSEL        568      E           EVLİ     ORTAOKUL   \n",
       "2062     BİREYSEL       1174      E           EVLİ     ORTAOKUL   \n",
       "2063     BİREYSEL        607      E           EVLİ         LİSE   \n",
       "2064      BİREBİR         69      K       BOŞANMIŞ   ÜNİVERSİTE   \n",
       "\n",
       "                          Job_Status   Income  Age  Years_w_Bank Work_Region  \\\n",
       "0                             EMEKLİ   3000.0   48          15.0     MARMARA   \n",
       "1                     ÜCRETLİ (ÖZEL)   1000.0   22           3.0     MARMARA   \n",
       "2                     SERBEST MESLEK   4000.0   34          12.0     MARMARA   \n",
       "3                     ÜCRETLİ (ÖZEL)   1200.0   24           1.0     MARMARA   \n",
       "4                     ÜCRETLİ (ÖZEL)   1500.0   40           2.0     MARMARA   \n",
       "...                              ...      ...  ...           ...         ...   \n",
       "2060                  ÜCRETLİ (ÖZEL)   2000.0   18           0.0     MARMARA   \n",
       "2061                      ÇALIŞMIYOR   2550.0   22           1.0     MARMARA   \n",
       "2062                  ÜCRETLİ (ÖZEL)    773.0   27           3.0     MARMARA   \n",
       "2063                  ÜCRETLİ (ÖZEL)   1261.0   39          15.0     MARMARA   \n",
       "2064  ÇALIŞAN EMEKLİ(SERBEST MESLEK)  11200.0   68          10.0     MARMARA   \n",
       "\n",
       "      Home_Region Branch_Region  1)RISKSIZ  2)GECIKME 1-15 GUN  \\\n",
       "0         MARMARA       MARMARA       11.0                 1.0   \n",
       "1         MARMARA       MARMARA       12.0                 0.0   \n",
       "2         MARMARA       MARMARA       11.0                 0.0   \n",
       "3         MARMARA       MARMARA        8.0                 3.0   \n",
       "4         MARMARA       MARMARA       12.0                 0.0   \n",
       "...           ...           ...        ...                 ...   \n",
       "2060      MARMARA       MARMARA        1.0                 0.0   \n",
       "2061  SE ANATOLIA   SE ANATOLIA        8.0                 2.0   \n",
       "2062      MARMARA       MARMARA        3.0                 2.0   \n",
       "2063      MARMARA       MARMARA       12.0                 0.0   \n",
       "2064      MARMARA       MARMARA       12.0                 0.0   \n",
       "\n",
       "      3)GECIKME 16-29 GUN  4)GECIKME 30-59 GUN  5)GECIKME 60+ GUN  6)TAKIP  \n",
       "0                     0.0                  0.0                0.0      0.0  \n",
       "1                     0.0                  0.0                0.0      0.0  \n",
       "2                     0.0                  0.0                0.0      0.0  \n",
       "3                     0.0                  1.0                0.0      0.0  \n",
       "4                     0.0                  0.0                0.0      0.0  \n",
       "...                   ...                  ...                ...      ...  \n",
       "2060                  0.0                  0.0                0.0      0.0  \n",
       "2061                  0.0                  0.0                0.0      0.0  \n",
       "2062                  0.0                  1.0                1.0      5.0  \n",
       "2063                  0.0                  0.0                0.0      0.0  \n",
       "2064                  0.0                  0.0                0.0      0.0  \n",
       "\n",
       "[2065 rows x 18 columns]"
      ]
     },
     "execution_count": 12,
     "metadata": {},
     "output_type": "execute_result"
    }
   ],
   "source": [
    "marriage_df"
   ]
  },
  {
   "cell_type": "markdown",
   "id": "402e9c28-7fd3-47b4-a1d8-98d753e89297",
   "metadata": {},
   "source": [
    "## Data Exploration"
   ]
  },
  {
   "cell_type": "code",
   "execution_count": 13,
   "id": "48c9d8f2-ad35-43ed-a19d-ff500cfcfeba",
   "metadata": {},
   "outputs": [
    {
     "data": {
      "text/plain": [
       "BİREYSEL                       1918\n",
       "BİREBİR                          86\n",
       "MİKRO                            57\n",
       "ÖZEL BANKACILIK MÜŞTERİLERİ       2\n",
       "EXI26                             2\n",
       "Name: Cust_Segment, dtype: int64"
      ]
     },
     "execution_count": 13,
     "metadata": {},
     "output_type": "execute_result"
    }
   ],
   "source": [
    "marriage_df['Cust_Segment'].value_counts()"
   ]
  },
  {
   "cell_type": "code",
   "execution_count": 14,
   "id": "74910786-3b83-41e2-bd0f-57bfa112cb37",
   "metadata": {},
   "outputs": [
    {
     "data": {
      "text/plain": [
       "EVLİ          1299\n",
       "BEKAR          625\n",
       "BOŞANMIŞ       105\n",
       "BİLINMİYOR      28\n",
       "DUL              8\n",
       "Name: Marital_Status, dtype: int64"
      ]
     },
     "execution_count": 14,
     "metadata": {},
     "output_type": "execute_result"
    }
   ],
   "source": [
    "marriage_df['Marital_Status'].value_counts()"
   ]
  },
  {
   "cell_type": "code",
   "execution_count": 15,
   "id": "25ae9daf-33b2-42d7-80ed-1f13ec5d28e2",
   "metadata": {},
   "outputs": [
    {
     "data": {
      "text/plain": [
       "LİSE          948\n",
       "ÜNİVERSİTE    515\n",
       "YÜKSEKOKUL    181\n",
       "ORTAOKUL      169\n",
       "İLKOKUL       142\n",
       "LİSANSÜSTÜ     83\n",
       "EĞİTİMSİZ      22\n",
       "DOKTORA         4\n",
       "BİLİNMİYOR      1\n",
       "Name: Education_Lv, dtype: int64"
      ]
     },
     "execution_count": 15,
     "metadata": {},
     "output_type": "execute_result"
    }
   ],
   "source": [
    "marriage_df['Education_Lv'].value_counts()"
   ]
  },
  {
   "cell_type": "code",
   "execution_count": 16,
   "id": "0c0b8920-786d-44ce-b838-d86d7260c82c",
   "metadata": {},
   "outputs": [
    {
     "data": {
      "text/plain": [
       "ÜCRETLİ (ÖZEL)                    1601\n",
       "SERBEST MESLEK                     196\n",
       "ÜCRETLI (KAMU)                     106\n",
       "EMEKLİ                              63\n",
       "ÇALIŞAN EMEKLİ(ÜCRETLİ)             42\n",
       "EV HANIMI                           16\n",
       "ÇALIŞAN EMEKLİ(SERBEST MESLEK)      14\n",
       "ÇALIŞMIYOR                          13\n",
       "DİĞER                                7\n",
       "TANIMSIZ                             5\n",
       "ÖĞRENCİ                              2\n",
       "Name: Job_Status, dtype: int64"
      ]
     },
     "execution_count": 16,
     "metadata": {},
     "output_type": "execute_result"
    }
   ],
   "source": [
    "marriage_df['Job_Status'].value_counts()"
   ]
  },
  {
   "cell_type": "code",
   "execution_count": 17,
   "id": "b7d7b164-21a9-4e6c-91bf-34066d16363d",
   "metadata": {},
   "outputs": [
    {
     "data": {
      "text/plain": [
       "MARMARA             2012\n",
       "BLACK SEA             19\n",
       "MEDITERRANEAN         11\n",
       "EASTERN ANATOLIA       8\n",
       "CENTRAL ANATOLIA       6\n",
       "AEGEAN                 6\n",
       "SE ANATOLIA            3\n",
       "Name: Home_Region, dtype: int64"
      ]
     },
     "execution_count": 17,
     "metadata": {},
     "output_type": "execute_result"
    }
   ],
   "source": [
    "marriage_df['Home_Region'].value_counts()"
   ]
  },
  {
   "cell_type": "code",
   "execution_count": 18,
   "id": "25da2248-2861-4900-8a0c-6c8de6045f2d",
   "metadata": {},
   "outputs": [
    {
     "data": {
      "text/plain": [
       "MARMARA             2037\n",
       "AEGEAN                 8\n",
       "BLACK SEA              6\n",
       "CENTRAL ANATOLIA       5\n",
       "EASTERN ANATOLIA       4\n",
       "MEDITERRANEAN          3\n",
       "SE ANATOLIA            2\n",
       "Name: Work_Region, dtype: int64"
      ]
     },
     "execution_count": 18,
     "metadata": {},
     "output_type": "execute_result"
    }
   ],
   "source": [
    "marriage_df['Work_Region'].value_counts()"
   ]
  },
  {
   "cell_type": "code",
   "execution_count": 19,
   "id": "a2035afe-8f4d-40ae-87fe-4b15ff914ff6",
   "metadata": {},
   "outputs": [
    {
     "data": {
      "text/plain": [
       "MARMARA             1975\n",
       "AEGEAN                29\n",
       "BLACK SEA             26\n",
       "MEDITERRANEAN         11\n",
       "CENTRAL ANATOLIA      10\n",
       "SE ANATOLIA            8\n",
       "EASTERN ANATOLIA       6\n",
       "Name: Branch_Region, dtype: int64"
      ]
     },
     "execution_count": 19,
     "metadata": {},
     "output_type": "execute_result"
    }
   ],
   "source": [
    "marriage_df['Branch_Region'].value_counts()"
   ]
  },
  {
   "cell_type": "code",
   "execution_count": 20,
   "id": "d2c4205a-5357-4351-9208-f8a8668b5e3c",
   "metadata": {},
   "outputs": [
    {
     "data": {
      "text/plain": [
       "Cust_Segment            0\n",
       "Branch_ID               0\n",
       "Gender                  0\n",
       "Marital_Status          0\n",
       "Education_Lv            0\n",
       "Job_Status              0\n",
       "Income                 54\n",
       "Age                     0\n",
       "Years_w_Bank            0\n",
       "Work_Region             0\n",
       "Home_Region             0\n",
       "Branch_Region           0\n",
       "1)RISKSIZ               0\n",
       "2)GECIKME 1-15 GUN      0\n",
       "3)GECIKME 16-29 GUN     0\n",
       "4)GECIKME 30-59 GUN     0\n",
       "5)GECIKME 60+ GUN       0\n",
       "6)TAKIP                 0\n",
       "dtype: int64"
      ]
     },
     "execution_count": 20,
     "metadata": {},
     "output_type": "execute_result"
    }
   ],
   "source": [
    "# check values for nulls\n",
    "marriage_df.isnull().sum(axis = 0)"
   ]
  },
  {
   "cell_type": "code",
   "execution_count": 21,
   "id": "41763831-b41c-41ca-a3a2-168dfb0b42f7",
   "metadata": {
    "tags": []
   },
   "outputs": [
    {
     "data": {
      "image/png": "[encoded data removed]",
      "text/plain": [
       "<Figure size 1440x1080 with 12 Axes>"
      ]
     },
     "metadata": {
      "needs_background": "light"
     },
     "output_type": "display_data"
    }
   ],
   "source": [
    "# Data Exploration\n",
    "%matplotlib inline\n",
    "import matplotlib.pyplot as plt\n",
    "marriage_df.hist(bins=50, figsize=(20,15))\n",
    "plt.show()"
   ]
  },
  {
   "cell_type": "code",
   "execution_count": 22,
   "id": "5a38f334-724b-48f5-a495-783f5ce08c1a",
   "metadata": {
    "tags": []
   },
   "outputs": [
    {
     "data": {
      "text/html": [
       "<div>\n",
       "<style scoped>\n",
       "    .dataframe tbody tr th:only-of-type {\n",
       "        vertical-align: middle;\n",
       "    }\n",
       "\n",
       "    .dataframe tbody tr th {\n",
       "        vertical-align: top;\n",
       "    }\n",
       "\n",
       "    .dataframe thead th {\n",
       "        text-align: right;\n",
       "    }\n",
       "</style>\n",
       "<table border=\"1\" class=\"dataframe\">\n",
       "  <thead>\n",
       "    <tr style=\"text-align: right;\">\n",
       "      <th></th>\n",
       "      <th>Branch_ID</th>\n",
       "      <th>Income</th>\n",
       "      <th>Age</th>\n",
       "      <th>Years_w_Bank</th>\n",
       "      <th>1)RISKSIZ</th>\n",
       "      <th>2)GECIKME 1-15 GUN</th>\n",
       "      <th>3)GECIKME 16-29 GUN</th>\n",
       "      <th>4)GECIKME 30-59 GUN</th>\n",
       "      <th>5)GECIKME 60+ GUN</th>\n",
       "      <th>6)TAKIP</th>\n",
       "    </tr>\n",
       "  </thead>\n",
       "  <tbody>\n",
       "    <tr>\n",
       "      <th>count</th>\n",
       "      <td>2065.000000</td>\n",
       "      <td>2011.000000</td>\n",
       "      <td>2065.000000</td>\n",
       "      <td>2065.000000</td>\n",
       "      <td>2065.000000</td>\n",
       "      <td>2065.000000</td>\n",
       "      <td>2065.000000</td>\n",
       "      <td>2065.000000</td>\n",
       "      <td>2065.000000</td>\n",
       "      <td>2065.000000</td>\n",
       "    </tr>\n",
       "    <tr>\n",
       "      <th>mean</th>\n",
       "      <td>583.900726</td>\n",
       "      <td>3628.047971</td>\n",
       "      <td>36.228571</td>\n",
       "      <td>7.026634</td>\n",
       "      <td>9.949637</td>\n",
       "      <td>0.753027</td>\n",
       "      <td>0.000484</td>\n",
       "      <td>0.141404</td>\n",
       "      <td>0.049879</td>\n",
       "      <td>0.152542</td>\n",
       "    </tr>\n",
       "    <tr>\n",
       "      <th>std</th>\n",
       "      <td>416.907325</td>\n",
       "      <td>10657.754928</td>\n",
       "      <td>10.029803</td>\n",
       "      <td>5.297704</td>\n",
       "      <td>2.996183</td>\n",
       "      <td>1.378483</td>\n",
       "      <td>0.022006</td>\n",
       "      <td>0.486598</td>\n",
       "      <td>0.276557</td>\n",
       "      <td>1.124289</td>\n",
       "    </tr>\n",
       "    <tr>\n",
       "      <th>min</th>\n",
       "      <td>4.000000</td>\n",
       "      <td>0.000000</td>\n",
       "      <td>18.000000</td>\n",
       "      <td>0.000000</td>\n",
       "      <td>0.000000</td>\n",
       "      <td>0.000000</td>\n",
       "      <td>0.000000</td>\n",
       "      <td>0.000000</td>\n",
       "      <td>0.000000</td>\n",
       "      <td>0.000000</td>\n",
       "    </tr>\n",
       "    <tr>\n",
       "      <th>25%</th>\n",
       "      <td>199.000000</td>\n",
       "      <td>1200.000000</td>\n",
       "      <td>29.000000</td>\n",
       "      <td>3.000000</td>\n",
       "      <td>9.000000</td>\n",
       "      <td>0.000000</td>\n",
       "      <td>0.000000</td>\n",
       "      <td>0.000000</td>\n",
       "      <td>0.000000</td>\n",
       "      <td>0.000000</td>\n",
       "    </tr>\n",
       "    <tr>\n",
       "      <th>50%</th>\n",
       "      <td>558.000000</td>\n",
       "      <td>2000.000000</td>\n",
       "      <td>35.000000</td>\n",
       "      <td>7.000000</td>\n",
       "      <td>12.000000</td>\n",
       "      <td>0.000000</td>\n",
       "      <td>0.000000</td>\n",
       "      <td>0.000000</td>\n",
       "      <td>0.000000</td>\n",
       "      <td>0.000000</td>\n",
       "    </tr>\n",
       "    <tr>\n",
       "      <th>75%</th>\n",
       "      <td>874.000000</td>\n",
       "      <td>3000.000000</td>\n",
       "      <td>43.000000</td>\n",
       "      <td>10.000000</td>\n",
       "      <td>12.000000</td>\n",
       "      <td>1.000000</td>\n",
       "      <td>0.000000</td>\n",
       "      <td>0.000000</td>\n",
       "      <td>0.000000</td>\n",
       "      <td>0.000000</td>\n",
       "    </tr>\n",
       "    <tr>\n",
       "      <th>max</th>\n",
       "      <td>1436.000000</td>\n",
       "      <td>300000.000000</td>\n",
       "      <td>75.000000</td>\n",
       "      <td>102.000000</td>\n",
       "      <td>12.000000</td>\n",
       "      <td>8.000000</td>\n",
       "      <td>1.000000</td>\n",
       "      <td>4.000000</td>\n",
       "      <td>3.000000</td>\n",
       "      <td>12.000000</td>\n",
       "    </tr>\n",
       "  </tbody>\n",
       "</table>\n",
       "</div>"
      ],
      "text/plain": [
       "         Branch_ID         Income          Age  Years_w_Bank    1)RISKSIZ  \\\n",
       "count  2065.000000    2011.000000  2065.000000   2065.000000  2065.000000   \n",
       "mean    583.900726    3628.047971    36.228571      7.026634     9.949637   \n",
       "std     416.907325   10657.754928    10.029803      5.297704     2.996183   \n",
       "min       4.000000       0.000000    18.000000      0.000000     0.000000   \n",
       "25%     199.000000    1200.000000    29.000000      3.000000     9.000000   \n",
       "50%     558.000000    2000.000000    35.000000      7.000000    12.000000   \n",
       "75%     874.000000    3000.000000    43.000000     10.000000    12.000000   \n",
       "max    1436.000000  300000.000000    75.000000    102.000000    12.000000   \n",
       "\n",
       "       2)GECIKME 1-15 GUN  3)GECIKME 16-29 GUN  4)GECIKME 30-59 GUN  \\\n",
       "count         2065.000000          2065.000000          2065.000000   \n",
       "mean             0.753027             0.000484             0.141404   \n",
       "std              1.378483             0.022006             0.486598   \n",
       "min              0.000000             0.000000             0.000000   \n",
       "25%              0.000000             0.000000             0.000000   \n",
       "50%              0.000000             0.000000             0.000000   \n",
       "75%              1.000000             0.000000             0.000000   \n",
       "max              8.000000             1.000000             4.000000   \n",
       "\n",
       "       5)GECIKME 60+ GUN      6)TAKIP  \n",
       "count        2065.000000  2065.000000  \n",
       "mean            0.049879     0.152542  \n",
       "std             0.276557     1.124289  \n",
       "min             0.000000     0.000000  \n",
       "25%             0.000000     0.000000  \n",
       "50%             0.000000     0.000000  \n",
       "75%             0.000000     0.000000  \n",
       "max             3.000000    12.000000  "
      ]
     },
     "execution_count": 22,
     "metadata": {},
     "output_type": "execute_result"
    }
   ],
   "source": [
    "marriage_df.describe()"
   ]
  },
  {
   "cell_type": "markdown",
   "id": "bb7270f1-6f9f-46b1-9352-052dca362143",
   "metadata": {},
   "source": [
    "## Data Processing"
   ]
  },
  {
   "cell_type": "code",
   "execution_count": 23,
   "id": "8492ddd5-6c9b-44ef-9787-8ffa4a391bc8",
   "metadata": {},
   "outputs": [],
   "source": [
    "#train/test split\n",
    "from sklearn.model_selection import train_test_split\n",
    "\n",
    "train_set, test_set = train_test_split(marriage_df, test_size = 0.2, random_state = 16)"
   ]
  },
  {
   "cell_type": "code",
   "execution_count": 24,
   "id": "2178ab72-39d0-4a0e-a281-29726b41b143",
   "metadata": {},
   "outputs": [],
   "source": [
    "# separate labels from feature matrix\n",
    "train_y = train_set['Marital_Status']\n",
    "train_X = train_set.drop('Marital_Status', axis = 1)\n",
    "test_y = test_set['Marital_Status']\n",
    "test_X = test_set.drop('Marital_Status', axis = 1)"
   ]
  },
  {
   "cell_type": "code",
   "execution_count": 25,
   "id": "75974b89-e030-420f-bd4d-109bf90e486b",
   "metadata": {},
   "outputs": [],
   "source": [
    "train_y_md = (train_y == 'EVLİ')\n",
    "test_y_md = (test_y == 'EVLİ')"
   ]
  },
  {
   "cell_type": "code",
   "execution_count": 26,
   "id": "866756f4-25c2-4a46-8256-41c848f5844c",
   "metadata": {},
   "outputs": [],
   "source": [
    "#pipeline\n",
    "\n",
    "# locations, gender, marital status, education level, job status, penalties\n",
    "# Additional processing with full data set: drop home region branch region nulls\n",
    "\n",
    "from sklearn.pipeline import Pipeline\n",
    "from sklearn.preprocessing import StandardScaler\n",
    "from sklearn.impute import SimpleImputer\n",
    "\n",
    "num_pipeline = Pipeline([\n",
    "('imputer', SimpleImputer(strategy=\"median\")),\n",
    "('std_scaler', StandardScaler())\n",
    "])"
   ]
  },
  {
   "cell_type": "code",
   "execution_count": 27,
   "id": "7f17918d-ffe8-42ff-8494-c2a8793f1ad6",
   "metadata": {},
   "outputs": [],
   "source": [
    "from sklearn.preprocessing import OneHotEncoder\n",
    "\n",
    "cat_pipeline  = Pipeline([\n",
    "('cat_encoder', OneHotEncoder())\n",
    "])"
   ]
  },
  {
   "cell_type": "code",
   "execution_count": 28,
   "id": "4257e612-a0df-41cc-91b2-ad65cdaca572",
   "metadata": {},
   "outputs": [],
   "source": [
    "from sklearn.compose import ColumnTransformer\n",
    "num_attribs = ['Branch_ID', 'Income', 'Age', 'Years_w_Bank', '1)RISKSIZ', '2)GECIKME 1-15 GUN',\n",
    "               '3)GECIKME 16-29 GUN', '4)GECIKME 30-59 GUN', '5)GECIKME 60+ GUN', '6)TAKIP']\n",
    "cat_attribs = ['Cust_Segment', 'Gender', 'Education_Lv', 'Job_Status', 'Work_Region', 'Home_Region', 'Branch_Region']\n",
    "\n",
    "full_pipeline = ColumnTransformer([\n",
    "(\"num\", num_pipeline, num_attribs),\n",
    "(\"cat\", cat_pipeline, cat_attribs),\n",
    "])"
   ]
  },
  {
   "cell_type": "code",
   "execution_count": 29,
   "id": "fffc8619-13ce-4d41-bd2b-4a8be8b37493",
   "metadata": {},
   "outputs": [],
   "source": [
    "train_X_prepared = full_pipeline.fit_transform(train_X)"
   ]
  },
  {
   "cell_type": "markdown",
   "id": "85d971be-6081-4afd-9e2c-4923b0e63c86",
   "metadata": {},
   "source": [
    "## Dimensionality Reduction"
   ]
  },
  {
   "cell_type": "code",
   "execution_count": 218,
   "id": "a2d1a51a-7504-4e36-a4a5-d0aba725dafe",
   "metadata": {},
   "outputs": [],
   "source": [
    "#pca\n",
    "from sklearn.decomposition import TruncatedSVD\n",
    "\n",
    "TruncSVD = TruncatedSVD(n_components = 17)\n",
    "TruncSVD.fit(train_X_prepared)\n",
    "cumsum = np.cumsum(TruncSVD.explained_variance_ratio_)\n",
    "d = np.argmax(cumsum >= 0.95) + 1"
   ]
  },
  {
   "cell_type": "code",
   "execution_count": 219,
   "id": "a5557dd8-57dd-42c7-9956-352c0743178f",
   "metadata": {},
   "outputs": [
    {
     "data": {
      "text/plain": [
       "16"
      ]
     },
     "execution_count": 219,
     "metadata": {},
     "output_type": "execute_result"
    }
   ],
   "source": [
    "d"
   ]
  },
  {
   "cell_type": "code",
   "execution_count": 220,
   "id": "59fc42d7-14ca-4e07-a6d2-94b94880c804",
   "metadata": {},
   "outputs": [
    {
     "data": {
      "image/png": "[encoded data removed]",
      "text/plain": [
       "<Figure size 432x288 with 1 Axes>"
      ]
     },
     "metadata": {
      "needs_background": "light"
     },
     "output_type": "display_data"
    }
   ],
   "source": [
    "plt.figure(figsize=(6,4))\n",
    "plt.plot(cumsum, linewidth=3)\n",
    "plt.axis([0, 17, 0, 1])\n",
    "plt.xlabel(\"Dimensions\")\n",
    "plt.ylabel(\"Explained Variance\")\n",
    "plt.plot([d, d], [0, 0.95], \"k:\")\n",
    "plt.plot([0, d], [0.95, 0.95], \"k:\")\n",
    "plt.plot(d, 0.95, \"ko\")\n",
    "plt.annotate(\"Elbow\", xy=(65, 0.85), xytext=(70, 0.7),\n",
    "             arrowprops=dict(arrowstyle=\"->\"), fontsize=16)\n",
    "plt.grid(True)\n",
    "# save_fig(\"explained_variance_plot\")\n",
    "plt.show()"
   ]
  },
  {
   "cell_type": "code",
   "execution_count": 221,
   "id": "3c49cd5e-c6a1-4f52-9a49-b30d61409d35",
   "metadata": {},
   "outputs": [
    {
     "ename": "TypeError",
     "evalue": "'float' object cannot be interpreted as an integer",
     "output_type": "error",
     "traceback": [
      "\u001b[0;31m---------------------------------------------------------------------------\u001b[0m",
      "\u001b[0;31mTypeError\u001b[0m                                 Traceback (most recent call last)",
      "\u001b[0;32m/tmp/ipykernel_104789/3719143281.py\u001b[0m in \u001b[0;36m<module>\u001b[0;34m\u001b[0m\n\u001b[1;32m      1\u001b[0m \u001b[0mTruncSVD\u001b[0m \u001b[0;34m=\u001b[0m \u001b[0mTruncatedSVD\u001b[0m\u001b[0;34m(\u001b[0m\u001b[0mn_components\u001b[0m\u001b[0;34m=\u001b[0m\u001b[0;36m0.95\u001b[0m\u001b[0;34m)\u001b[0m\u001b[0;34m\u001b[0m\u001b[0;34m\u001b[0m\u001b[0m\n\u001b[0;32m----> 2\u001b[0;31m \u001b[0mX_reduced\u001b[0m \u001b[0;34m=\u001b[0m \u001b[0mTruncSVD\u001b[0m\u001b[0;34m.\u001b[0m\u001b[0mfit_transform\u001b[0m\u001b[0;34m(\u001b[0m\u001b[0mtrain_X_prepared\u001b[0m\u001b[0;34m)\u001b[0m\u001b[0;34m\u001b[0m\u001b[0;34m\u001b[0m\u001b[0m\n\u001b[0m",
      "\u001b[0;32m~/miniconda3/lib/python3.9/site-packages/sklearn/decomposition/_truncated_svd.py\u001b[0m in \u001b[0;36mfit_transform\u001b[0;34m(self, X, y)\u001b[0m\n\u001b[1;32m    208\u001b[0m                     \u001b[0;34m\"n_components must be < n_features; got %d >= %d\"\u001b[0m \u001b[0;34m%\u001b[0m \u001b[0;34m(\u001b[0m\u001b[0mk\u001b[0m\u001b[0;34m,\u001b[0m \u001b[0mn_features\u001b[0m\u001b[0;34m)\u001b[0m\u001b[0;34m\u001b[0m\u001b[0;34m\u001b[0m\u001b[0m\n\u001b[1;32m    209\u001b[0m                 )\n\u001b[0;32m--> 210\u001b[0;31m             U, Sigma, VT = randomized_svd(\n\u001b[0m\u001b[1;32m    211\u001b[0m                 \u001b[0mX\u001b[0m\u001b[0;34m,\u001b[0m \u001b[0mself\u001b[0m\u001b[0;34m.\u001b[0m\u001b[0mn_components\u001b[0m\u001b[0;34m,\u001b[0m \u001b[0mn_iter\u001b[0m\u001b[0;34m=\u001b[0m\u001b[0mself\u001b[0m\u001b[0;34m.\u001b[0m\u001b[0mn_iter\u001b[0m\u001b[0;34m,\u001b[0m \u001b[0mrandom_state\u001b[0m\u001b[0;34m=\u001b[0m\u001b[0mrandom_state\u001b[0m\u001b[0;34m\u001b[0m\u001b[0;34m\u001b[0m\u001b[0m\n\u001b[1;32m    212\u001b[0m             )\n",
      "\u001b[0;32m~/miniconda3/lib/python3.9/site-packages/sklearn/utils/extmath.py\u001b[0m in \u001b[0;36mrandomized_svd\u001b[0;34m(M, n_components, n_oversamples, n_iter, power_iteration_normalizer, transpose, flip_sign, random_state)\u001b[0m\n\u001b[1;32m    393\u001b[0m         \u001b[0mM\u001b[0m \u001b[0;34m=\u001b[0m \u001b[0mM\u001b[0m\u001b[0;34m.\u001b[0m\u001b[0mT\u001b[0m\u001b[0;34m\u001b[0m\u001b[0;34m\u001b[0m\u001b[0m\n\u001b[1;32m    394\u001b[0m \u001b[0;34m\u001b[0m\u001b[0m\n\u001b[0;32m--> 395\u001b[0;31m     Q = randomized_range_finder(\n\u001b[0m\u001b[1;32m    396\u001b[0m         \u001b[0mM\u001b[0m\u001b[0;34m,\u001b[0m\u001b[0;34m\u001b[0m\u001b[0;34m\u001b[0m\u001b[0m\n\u001b[1;32m    397\u001b[0m         \u001b[0msize\u001b[0m\u001b[0;34m=\u001b[0m\u001b[0mn_random\u001b[0m\u001b[0;34m,\u001b[0m\u001b[0;34m\u001b[0m\u001b[0;34m\u001b[0m\u001b[0m\n",
      "\u001b[0;32m~/miniconda3/lib/python3.9/site-packages/sklearn/utils/extmath.py\u001b[0m in \u001b[0;36mrandomized_range_finder\u001b[0;34m(A, size, n_iter, power_iteration_normalizer, random_state)\u001b[0m\n\u001b[1;32m    216\u001b[0m \u001b[0;34m\u001b[0m\u001b[0m\n\u001b[1;32m    217\u001b[0m     \u001b[0;31m# Generating normal random vectors with shape: (A.shape[1], size)\u001b[0m\u001b[0;34m\u001b[0m\u001b[0;34m\u001b[0m\u001b[0;34m\u001b[0m\u001b[0m\n\u001b[0;32m--> 218\u001b[0;31m     \u001b[0mQ\u001b[0m \u001b[0;34m=\u001b[0m \u001b[0mrandom_state\u001b[0m\u001b[0;34m.\u001b[0m\u001b[0mnormal\u001b[0m\u001b[0;34m(\u001b[0m\u001b[0msize\u001b[0m\u001b[0;34m=\u001b[0m\u001b[0;34m(\u001b[0m\u001b[0mA\u001b[0m\u001b[0;34m.\u001b[0m\u001b[0mshape\u001b[0m\u001b[0;34m[\u001b[0m\u001b[0;36m1\u001b[0m\u001b[0;34m]\u001b[0m\u001b[0;34m,\u001b[0m \u001b[0msize\u001b[0m\u001b[0;34m)\u001b[0m\u001b[0;34m)\u001b[0m\u001b[0;34m\u001b[0m\u001b[0;34m\u001b[0m\u001b[0m\n\u001b[0m\u001b[1;32m    219\u001b[0m     \u001b[0;32mif\u001b[0m \u001b[0mA\u001b[0m\u001b[0;34m.\u001b[0m\u001b[0mdtype\u001b[0m\u001b[0;34m.\u001b[0m\u001b[0mkind\u001b[0m \u001b[0;34m==\u001b[0m \u001b[0;34m\"f\"\u001b[0m\u001b[0;34m:\u001b[0m\u001b[0;34m\u001b[0m\u001b[0;34m\u001b[0m\u001b[0m\n\u001b[1;32m    220\u001b[0m         \u001b[0;31m# Ensure f32 is preserved as f32\u001b[0m\u001b[0;34m\u001b[0m\u001b[0;34m\u001b[0m\u001b[0;34m\u001b[0m\u001b[0m\n",
      "\u001b[0;32mmtrand.pyx\u001b[0m in \u001b[0;36mnumpy.random.mtrand.RandomState.normal\u001b[0;34m()\u001b[0m\n",
      "\u001b[0;32m_common.pyx\u001b[0m in \u001b[0;36mnumpy.random._common.cont\u001b[0;34m()\u001b[0m\n",
      "\u001b[0;31mTypeError\u001b[0m: 'float' object cannot be interpreted as an integer"
     ]
    }
   ],
   "source": [
    "TruncSVD = TruncatedSVD(n_components=0.95)\n",
    "X_reduced = TruncSVD.fit_transform(train_X_prepared)"
   ]
  },
  {
   "cell_type": "markdown",
   "id": "c8353be2-4d37-42db-9dc6-a35dbad32ab8",
   "metadata": {},
   "source": [
    "## Train Model"
   ]
  },
  {
   "cell_type": "code",
   "execution_count": 30,
   "id": "341224cc-039f-425e-8214-ffd2b7d3a62d",
   "metadata": {},
   "outputs": [],
   "source": [
    "from sklearn.ensemble import GradientBoostingClassifier\n",
    "import numpy as np\n",
    "from sklearn.model_selection import train_test_split\n",
    "from sklearn.metrics import mean_squared_error\n",
    "\n",
    "X_train, X_val, y_train, y_val = train_test_split(train_X_prepared, train_y_md)\n",
    "\n",
    "# gbrt = GradientBoostingRegressor(max_depth=2, n_estimators=3, learning_rate=0.1)\n",
    "# gbrt.fit(X, y)"
   ]
  },
  {
   "cell_type": "code",
   "execution_count": 31,
   "id": "ddb892d9-aa61-453c-b724-1a95ff4be5dc",
   "metadata": {},
   "outputs": [
    {
     "data": {
      "text/plain": [
       "GradientBoostingClassifier(max_depth=2, n_estimators=120)"
      ]
     },
     "execution_count": 31,
     "metadata": {},
     "output_type": "execute_result"
    }
   ],
   "source": [
    "gbrt = GradientBoostingClassifier(max_depth=2, n_estimators=120)\n",
    "gbrt.fit(X_train, y_train)"
   ]
  },
  {
   "cell_type": "code",
   "execution_count": 32,
   "id": "8774e8ad-65a9-40ad-9cd6-bb5a5c814368",
   "metadata": {},
   "outputs": [
    {
     "ename": "TypeError",
     "evalue": "numpy boolean subtract, the `-` operator, is not supported, use the bitwise_xor, the `^` operator, or the logical_xor function instead.",
     "output_type": "error",
     "traceback": [
      "\u001b[0;31m---------------------------------------------------------------------------\u001b[0m",
      "\u001b[0;31mTypeError\u001b[0m                                 Traceback (most recent call last)",
      "\u001b[0;32m/tmp/ipykernel_607841/3002988760.py\u001b[0m in \u001b[0;36m<module>\u001b[0;34m\u001b[0m\n\u001b[0;32m----> 1\u001b[0;31m errors = [mean_squared_error(y_val, y_pred)\n\u001b[0m\u001b[1;32m      2\u001b[0m           for y_pred in gbrt.staged_predict(X_val)]\n\u001b[1;32m      3\u001b[0m \u001b[0mbst_n_estimators\u001b[0m \u001b[0;34m=\u001b[0m \u001b[0mnp\u001b[0m\u001b[0;34m.\u001b[0m\u001b[0margmin\u001b[0m\u001b[0;34m(\u001b[0m\u001b[0merrors\u001b[0m\u001b[0;34m)\u001b[0m \u001b[0;34m+\u001b[0m \u001b[0;36m1\u001b[0m\u001b[0;34m\u001b[0m\u001b[0;34m\u001b[0m\u001b[0m\n",
      "\u001b[0;32m/tmp/ipykernel_607841/3002988760.py\u001b[0m in \u001b[0;36m<listcomp>\u001b[0;34m(.0)\u001b[0m\n\u001b[0;32m----> 1\u001b[0;31m errors = [mean_squared_error(y_val, y_pred)\n\u001b[0m\u001b[1;32m      2\u001b[0m           for y_pred in gbrt.staged_predict(X_val)]\n\u001b[1;32m      3\u001b[0m \u001b[0mbst_n_estimators\u001b[0m \u001b[0;34m=\u001b[0m \u001b[0mnp\u001b[0m\u001b[0;34m.\u001b[0m\u001b[0margmin\u001b[0m\u001b[0;34m(\u001b[0m\u001b[0merrors\u001b[0m\u001b[0;34m)\u001b[0m \u001b[0;34m+\u001b[0m \u001b[0;36m1\u001b[0m\u001b[0;34m\u001b[0m\u001b[0;34m\u001b[0m\u001b[0m\n",
      "\u001b[0;32m~/miniconda3/lib/python3.9/site-packages/sklearn/metrics/_regression.py\u001b[0m in \u001b[0;36mmean_squared_error\u001b[0;34m(y_true, y_pred, sample_weight, multioutput, squared)\u001b[0m\n\u001b[1;32m    440\u001b[0m     )\n\u001b[1;32m    441\u001b[0m     \u001b[0mcheck_consistent_length\u001b[0m\u001b[0;34m(\u001b[0m\u001b[0my_true\u001b[0m\u001b[0;34m,\u001b[0m \u001b[0my_pred\u001b[0m\u001b[0;34m,\u001b[0m \u001b[0msample_weight\u001b[0m\u001b[0;34m)\u001b[0m\u001b[0;34m\u001b[0m\u001b[0;34m\u001b[0m\u001b[0m\n\u001b[0;32m--> 442\u001b[0;31m     \u001b[0moutput_errors\u001b[0m \u001b[0;34m=\u001b[0m \u001b[0mnp\u001b[0m\u001b[0;34m.\u001b[0m\u001b[0maverage\u001b[0m\u001b[0;34m(\u001b[0m\u001b[0;34m(\u001b[0m\u001b[0my_true\u001b[0m \u001b[0;34m-\u001b[0m \u001b[0my_pred\u001b[0m\u001b[0;34m)\u001b[0m \u001b[0;34m**\u001b[0m \u001b[0;36m2\u001b[0m\u001b[0;34m,\u001b[0m \u001b[0maxis\u001b[0m\u001b[0;34m=\u001b[0m\u001b[0;36m0\u001b[0m\u001b[0;34m,\u001b[0m \u001b[0mweights\u001b[0m\u001b[0;34m=\u001b[0m\u001b[0msample_weight\u001b[0m\u001b[0;34m)\u001b[0m\u001b[0;34m\u001b[0m\u001b[0;34m\u001b[0m\u001b[0m\n\u001b[0m\u001b[1;32m    443\u001b[0m \u001b[0;34m\u001b[0m\u001b[0m\n\u001b[1;32m    444\u001b[0m     \u001b[0;32mif\u001b[0m \u001b[0;32mnot\u001b[0m \u001b[0msquared\u001b[0m\u001b[0;34m:\u001b[0m\u001b[0;34m\u001b[0m\u001b[0;34m\u001b[0m\u001b[0m\n",
      "\u001b[0;31mTypeError\u001b[0m: numpy boolean subtract, the `-` operator, is not supported, use the bitwise_xor, the `^` operator, or the logical_xor function instead."
     ]
    }
   ],
   "source": [
    "errors = [mean_squared_error(y_val, y_pred)\n",
    "          for y_pred in gbrt.staged_predict(X_val)]\n",
    "bst_n_estimators = np.argmin(errors) + 1"
   ]
  },
  {
   "cell_type": "code",
   "execution_count": 252,
   "id": "6fda164b-246c-4475-ae16-e3d423887009",
   "metadata": {},
   "outputs": [
    {
     "data": {
      "text/plain": [
       "GradientBoostingRegressor(max_depth=2, n_estimators=59)"
      ]
     },
     "execution_count": 252,
     "metadata": {},
     "output_type": "execute_result"
    }
   ],
   "source": [
    "gbrt_best = GradientBoostingRegressor(max_depth=2,n_estimators=bst_n_estimators)\n",
    "gbrt_best.fit(train_X_prepared, train_y_md)"
   ]
  },
  {
   "cell_type": "code",
   "execution_count": 253,
   "id": "e6709222-f258-4231-b556-01871d527f73",
   "metadata": {},
   "outputs": [
    {
     "data": {
      "text/plain": [
       "GradientBoostingRegressor(max_depth=2, n_estimators=59)"
      ]
     },
     "execution_count": 253,
     "metadata": {},
     "output_type": "execute_result"
    }
   ],
   "source": [
    "gbrt = GradientBoostingRegressor(max_depth=2, n_estimators=59)\n",
    "gbrt.fit(train_X_prepared, train_y_md)"
   ]
  },
  {
   "cell_type": "code",
   "execution_count": 259,
   "id": "5b229877-09d1-4b83-88c5-e938ea253832",
   "metadata": {},
   "outputs": [
    {
     "ename": "ValueError",
     "evalue": "Classification metrics can't handle a mix of binary and continuous targets",
     "output_type": "error",
     "traceback": [
      "\u001b[0;31m---------------------------------------------------------------------------\u001b[0m",
      "\u001b[0;31mValueError\u001b[0m                                Traceback (most recent call last)",
      "\u001b[0;32m/tmp/ipykernel_104789/3045894113.py\u001b[0m in \u001b[0;36m<module>\u001b[0;34m\u001b[0m\n\u001b[1;32m      2\u001b[0m \u001b[0;34m\u001b[0m\u001b[0m\n\u001b[1;32m      3\u001b[0m \u001b[0my_pred\u001b[0m \u001b[0;34m=\u001b[0m \u001b[0mgbrt\u001b[0m\u001b[0;34m.\u001b[0m\u001b[0mpredict\u001b[0m\u001b[0;34m(\u001b[0m\u001b[0mtrain_X_prepared\u001b[0m\u001b[0;34m)\u001b[0m\u001b[0;34m\u001b[0m\u001b[0;34m\u001b[0m\u001b[0m\n\u001b[0;32m----> 4\u001b[0;31m \u001b[0maccuracy_score\u001b[0m\u001b[0;34m(\u001b[0m\u001b[0mtrain_y_md\u001b[0m\u001b[0;34m,\u001b[0m \u001b[0my_pred\u001b[0m\u001b[0;34m)\u001b[0m\u001b[0;34m\u001b[0m\u001b[0;34m\u001b[0m\u001b[0m\n\u001b[0m",
      "\u001b[0;32m~/miniconda3/lib/python3.9/site-packages/sklearn/metrics/_classification.py\u001b[0m in \u001b[0;36maccuracy_score\u001b[0;34m(y_true, y_pred, normalize, sample_weight)\u001b[0m\n\u001b[1;32m    209\u001b[0m \u001b[0;34m\u001b[0m\u001b[0m\n\u001b[1;32m    210\u001b[0m     \u001b[0;31m# Compute accuracy for each possible representation\u001b[0m\u001b[0;34m\u001b[0m\u001b[0;34m\u001b[0m\u001b[0;34m\u001b[0m\u001b[0m\n\u001b[0;32m--> 211\u001b[0;31m     \u001b[0my_type\u001b[0m\u001b[0;34m,\u001b[0m \u001b[0my_true\u001b[0m\u001b[0;34m,\u001b[0m \u001b[0my_pred\u001b[0m \u001b[0;34m=\u001b[0m \u001b[0m_check_targets\u001b[0m\u001b[0;34m(\u001b[0m\u001b[0my_true\u001b[0m\u001b[0;34m,\u001b[0m \u001b[0my_pred\u001b[0m\u001b[0;34m)\u001b[0m\u001b[0;34m\u001b[0m\u001b[0;34m\u001b[0m\u001b[0m\n\u001b[0m\u001b[1;32m    212\u001b[0m     \u001b[0mcheck_consistent_length\u001b[0m\u001b[0;34m(\u001b[0m\u001b[0my_true\u001b[0m\u001b[0;34m,\u001b[0m \u001b[0my_pred\u001b[0m\u001b[0;34m,\u001b[0m \u001b[0msample_weight\u001b[0m\u001b[0;34m)\u001b[0m\u001b[0;34m\u001b[0m\u001b[0;34m\u001b[0m\u001b[0m\n\u001b[1;32m    213\u001b[0m     \u001b[0;32mif\u001b[0m \u001b[0my_type\u001b[0m\u001b[0;34m.\u001b[0m\u001b[0mstartswith\u001b[0m\u001b[0;34m(\u001b[0m\u001b[0;34m\"multilabel\"\u001b[0m\u001b[0;34m)\u001b[0m\u001b[0;34m:\u001b[0m\u001b[0;34m\u001b[0m\u001b[0;34m\u001b[0m\u001b[0m\n",
      "\u001b[0;32m~/miniconda3/lib/python3.9/site-packages/sklearn/metrics/_classification.py\u001b[0m in \u001b[0;36m_check_targets\u001b[0;34m(y_true, y_pred)\u001b[0m\n\u001b[1;32m     91\u001b[0m \u001b[0;34m\u001b[0m\u001b[0m\n\u001b[1;32m     92\u001b[0m     \u001b[0;32mif\u001b[0m \u001b[0mlen\u001b[0m\u001b[0;34m(\u001b[0m\u001b[0my_type\u001b[0m\u001b[0;34m)\u001b[0m \u001b[0;34m>\u001b[0m \u001b[0;36m1\u001b[0m\u001b[0;34m:\u001b[0m\u001b[0;34m\u001b[0m\u001b[0;34m\u001b[0m\u001b[0m\n\u001b[0;32m---> 93\u001b[0;31m         raise ValueError(\n\u001b[0m\u001b[1;32m     94\u001b[0m             \"Classification metrics can't handle a mix of {0} and {1} targets\".format(\n\u001b[1;32m     95\u001b[0m                 \u001b[0mtype_true\u001b[0m\u001b[0;34m,\u001b[0m \u001b[0mtype_pred\u001b[0m\u001b[0;34m\u001b[0m\u001b[0;34m\u001b[0m\u001b[0m\n",
      "\u001b[0;31mValueError\u001b[0m: Classification metrics can't handle a mix of binary and continuous targets"
     ]
    }
   ],
   "source": [
    "from sklearn.metrics import accuracy_score\n",
    "\n",
    "y_pred = gbrt.predict(train_X_prepared)\n",
    "accuracy_score(train_y_md, y_pred)\n"
   ]
  },
  {
   "cell_type": "code",
   "execution_count": 255,
   "id": "72f31fa7-10cd-47f2-9764-14a713e8f8c4",
   "metadata": {},
   "outputs": [],
   "source": [
    "from sklearn.model_selection import cross_val_predict\n",
    "\n",
    "y_train_pred = cross_val_predict(gbrt, train_X_prepared, train_y_md, cv = 3)"
   ]
  },
  {
   "cell_type": "code",
   "execution_count": 256,
   "id": "1fa15f3e-e922-4085-9cd9-f126b303c948",
   "metadata": {},
   "outputs": [
    {
     "ename": "ValueError",
     "evalue": "Classification metrics can't handle a mix of binary and continuous targets",
     "output_type": "error",
     "traceback": [
      "\u001b[0;31m---------------------------------------------------------------------------\u001b[0m",
      "\u001b[0;31mValueError\u001b[0m                                Traceback (most recent call last)",
      "\u001b[0;32m/tmp/ipykernel_104789/1045249517.py\u001b[0m in \u001b[0;36m<module>\u001b[0;34m\u001b[0m\n\u001b[1;32m      1\u001b[0m \u001b[0;32mfrom\u001b[0m \u001b[0msklearn\u001b[0m\u001b[0;34m.\u001b[0m\u001b[0mmetrics\u001b[0m \u001b[0;32mimport\u001b[0m \u001b[0mconfusion_matrix\u001b[0m\u001b[0;34m\u001b[0m\u001b[0;34m\u001b[0m\u001b[0m\n\u001b[1;32m      2\u001b[0m \u001b[0;34m\u001b[0m\u001b[0m\n\u001b[0;32m----> 3\u001b[0;31m \u001b[0mconfusion_matrix\u001b[0m\u001b[0;34m(\u001b[0m\u001b[0mtrain_y_md\u001b[0m\u001b[0;34m,\u001b[0m \u001b[0my_train_pred\u001b[0m\u001b[0;34m)\u001b[0m\u001b[0;34m\u001b[0m\u001b[0;34m\u001b[0m\u001b[0m\n\u001b[0m",
      "\u001b[0;32m~/miniconda3/lib/python3.9/site-packages/sklearn/metrics/_classification.py\u001b[0m in \u001b[0;36mconfusion_matrix\u001b[0;34m(y_true, y_pred, labels, sample_weight, normalize)\u001b[0m\n\u001b[1;32m    305\u001b[0m     \u001b[0;34m(\u001b[0m\u001b[0;36m0\u001b[0m\u001b[0;34m,\u001b[0m \u001b[0;36m2\u001b[0m\u001b[0;34m,\u001b[0m \u001b[0;36m1\u001b[0m\u001b[0;34m,\u001b[0m \u001b[0;36m1\u001b[0m\u001b[0;34m)\u001b[0m\u001b[0;34m\u001b[0m\u001b[0;34m\u001b[0m\u001b[0m\n\u001b[1;32m    306\u001b[0m     \"\"\"\n\u001b[0;32m--> 307\u001b[0;31m     \u001b[0my_type\u001b[0m\u001b[0;34m,\u001b[0m \u001b[0my_true\u001b[0m\u001b[0;34m,\u001b[0m \u001b[0my_pred\u001b[0m \u001b[0;34m=\u001b[0m \u001b[0m_check_targets\u001b[0m\u001b[0;34m(\u001b[0m\u001b[0my_true\u001b[0m\u001b[0;34m,\u001b[0m \u001b[0my_pred\u001b[0m\u001b[0;34m)\u001b[0m\u001b[0;34m\u001b[0m\u001b[0;34m\u001b[0m\u001b[0m\n\u001b[0m\u001b[1;32m    308\u001b[0m     \u001b[0;32mif\u001b[0m \u001b[0my_type\u001b[0m \u001b[0;32mnot\u001b[0m \u001b[0;32min\u001b[0m \u001b[0;34m(\u001b[0m\u001b[0;34m\"binary\"\u001b[0m\u001b[0;34m,\u001b[0m \u001b[0;34m\"multiclass\"\u001b[0m\u001b[0;34m)\u001b[0m\u001b[0;34m:\u001b[0m\u001b[0;34m\u001b[0m\u001b[0;34m\u001b[0m\u001b[0m\n\u001b[1;32m    309\u001b[0m         \u001b[0;32mraise\u001b[0m \u001b[0mValueError\u001b[0m\u001b[0;34m(\u001b[0m\u001b[0;34m\"%s is not supported\"\u001b[0m \u001b[0;34m%\u001b[0m \u001b[0my_type\u001b[0m\u001b[0;34m)\u001b[0m\u001b[0;34m\u001b[0m\u001b[0;34m\u001b[0m\u001b[0m\n",
      "\u001b[0;32m~/miniconda3/lib/python3.9/site-packages/sklearn/metrics/_classification.py\u001b[0m in \u001b[0;36m_check_targets\u001b[0;34m(y_true, y_pred)\u001b[0m\n\u001b[1;32m     91\u001b[0m \u001b[0;34m\u001b[0m\u001b[0m\n\u001b[1;32m     92\u001b[0m     \u001b[0;32mif\u001b[0m \u001b[0mlen\u001b[0m\u001b[0;34m(\u001b[0m\u001b[0my_type\u001b[0m\u001b[0;34m)\u001b[0m \u001b[0;34m>\u001b[0m \u001b[0;36m1\u001b[0m\u001b[0;34m:\u001b[0m\u001b[0;34m\u001b[0m\u001b[0;34m\u001b[0m\u001b[0m\n\u001b[0;32m---> 93\u001b[0;31m         raise ValueError(\n\u001b[0m\u001b[1;32m     94\u001b[0m             \"Classification metrics can't handle a mix of {0} and {1} targets\".format(\n\u001b[1;32m     95\u001b[0m                 \u001b[0mtype_true\u001b[0m\u001b[0;34m,\u001b[0m \u001b[0mtype_pred\u001b[0m\u001b[0;34m\u001b[0m\u001b[0;34m\u001b[0m\u001b[0m\n",
      "\u001b[0;31mValueError\u001b[0m: Classification metrics can't handle a mix of binary and continuous targets"
     ]
    }
   ],
   "source": [
    "from sklearn.metrics import confusion_matrix\n",
    "\n",
    "confusion_matrix(train_y_md, y_train_pred)"
   ]
  },
  {
   "cell_type": "code",
   "execution_count": 260,
   "id": "bfe4ed40-d951-48cb-95a2-f94bd5b00f5d",
   "metadata": {},
   "outputs": [
    {
     "data": {
      "text/plain": [
       "0.7469733656174334"
      ]
     },
     "execution_count": 260,
     "metadata": {},
     "output_type": "execute_result"
    }
   ],
   "source": [
    "from sklearn.ensemble import BaggingClassifier\n",
    "from sklearn.tree import DecisionTreeClassifier\n",
    "\n",
    "bag_clf = BaggingClassifier(\n",
    "    DecisionTreeClassifier(), n_estimators=500,\n",
    "    max_samples=100, bootstrap=True, n_jobs=-1,\n",
    "    oob_score=True)\n",
    "\n",
    "bag_clf.fit(train_X_prepared, train_y_md)\n",
    "\n",
    "bag_clf.oob_score_"
   ]
  },
  {
   "cell_type": "code",
   "execution_count": 261,
   "id": "852ac11a-8eff-44f1-a0e0-beea32a23bbe",
   "metadata": {},
   "outputs": [
    {
     "data": {
      "text/plain": [
       "0.7687651331719129"
      ]
     },
     "execution_count": 261,
     "metadata": {},
     "output_type": "execute_result"
    }
   ],
   "source": [
    "from sklearn.metrics import accuracy_score\n",
    "\n",
    "y_pred = bag_clf.predict(train_X_prepared)\n",
    "accuracy_score(train_y_md, y_pred)"
   ]
  },
  {
   "cell_type": "code",
   "execution_count": null,
   "id": "e0402151-00ad-42af-8a43-cbee14b8212a",
   "metadata": {},
   "outputs": [],
   "source": [
    "# How to treat branch_id - should be discrete"
   ]
  }
 ],
 "metadata": {
  "kernelspec": {
   "display_name": "Python 3 (ipykernel)",
   "language": "python",
   "name": "python3"
  },
  "language_info": {
   "codemirror_mode": {
    "name": "ipython",
    "version": 3
   },
   "file_extension": ".py",
   "mimetype": "text/x-python",
   "name": "python",
   "nbconvert_exporter": "python",
   "pygments_lexer": "ipython3",
   "version": "3.9.5"
  }
 },
 "nbformat": 4,
 "nbformat_minor": 5
}
